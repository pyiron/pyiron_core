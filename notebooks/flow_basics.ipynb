{
 "cells": [
  {
   "cell_type": "code",
   "execution_count": 2,
   "id": "be34e0ca-84ee-4120-9caf-7a3ad203bf71",
   "metadata": {},
   "outputs": [
    {
     "name": "stdout",
     "output_type": "stream",
     "text": [
      "\u001B[1G\u001B[0K⠙\u001B[1G\u001B[0K⠹\u001B[1G\u001B[0K⠸\u001B[1G\u001B[0K⠼\u001B[1G\u001B[0K\n",
      "  \u001B[37m../static/\u001B[0m\u001B[1mwidget.js\u001B[0m    \u001B[33m1.7mb ⚠️\u001B[0m\n",
      "  \u001B[37m../static/\u001B[0m\u001B[1mwidget.css\u001B[0m  \u001B[36m15.1kb\u001B[0m\n",
      "\n",
      "⚡ \u001B[32mDone in 158ms\u001B[0m\n",
      "\u001B[1G\u001B[0K⠙\u001B[1G\u001B[0K"
     ]
    }
   ],
   "source": [
    "!npx esbuild ../js/widget.jsx --minify --format=esm --bundle --outdir=../static"
   ]
  },
  {
   "cell_type": "code",
   "execution_count": 2,
   "id": "f9763bcf-802a-4f6f-aca0-0ea2b429b9f7",
   "metadata": {},
   "outputs": [],
   "source": [
    "%config IPCompleter.evaluation='unsafe'"
   ]
  },
  {
   "cell_type": "code",
   "execution_count": 3,
   "id": "05754f06-c962-4735-a468-8663a17fc869",
   "metadata": {},
   "outputs": [],
   "source": [
    "import sys\n",
    "sys.path.insert(0, '/Users/joerg/git_libs/pyiron_core')\n",
    "sys.path;"
   ]
  },
  {
   "cell_type": "code",
   "execution_count": 4,
   "id": "60f853bf-a608-4ca0-acb7-600ab415d8c3",
   "metadata": {},
   "outputs": [],
   "source": [
    "import json\n",
    "\n",
    "from pyiron_core.pyironflow.reactflow import ReactFlowWidget"
   ]
  },
  {
   "cell_type": "code",
   "execution_count": 5,
   "id": "45041c0b-bf38-49bd-a70b-7bf99f4e3d11",
   "metadata": {},
   "outputs": [
    {
     "data": {
      "application/vnd.jupyter.widget-view+json": {
       "model_id": "19d0d0bfea274157abe2a05686c751c4",
       "version_major": 2,
       "version_minor": 1
      },
      "text/plain": [
       "ReactFlowWidget()"
      ]
     },
     "execution_count": 5,
     "metadata": {},
     "output_type": "execute_result"
    }
   ],
   "source": [
    "w = ReactFlowWidget()\n",
    "w"
   ]
  },
  {
   "cell_type": "code",
   "execution_count": 6,
   "id": "3f659b96-6252-4e8a-abfd-a9d35bfb0f0a",
   "metadata": {},
   "outputs": [],
   "source": [
    "id = 'id'\n",
    "type = 'type'\n",
    "data = 'data'\n",
    "position = 'position'\n",
    "parentId = 'parentId'\n",
    "extent = 'extent'\n",
    "label = 'label'\n",
    "x = 'x'\n",
    "y = 'y'\n",
    "style = 'style'\n",
    "width = 'width'\n",
    "height = 'height'\n",
    "backgroundColor = 'backgroundColor'\n",
    "\n",
    "macro_style_level_1 = {\n",
    "      backgroundColor: 'rgba(255, 0, 255, 0.2)',\n",
    "      height: 250,\n",
    "      width: 400,\n",
    "    }\n",
    "\n",
    "macro_style_level_2 = {\n",
    "      backgroundColor: 'rgba(255, 0, 255, 0.8)',\n",
    "      height: 150,\n",
    "      width: 270,\n",
    "    }\n",
    "\n",
    "initialNodes = [\n",
    "  {\n",
    "    id: '1',\n",
    "    type: 'input',\n",
    "    data: { label: 'Node 0' },\n",
    "    position: { x: 250, y: 5 },\n",
    "  },\n",
    "  {\n",
    "    id: '2',\n",
    "    data: { label: 'Group A' },\n",
    "    position: { x: 100, y: 100 },\n",
    "    style: macro_style_level_1,\n",
    "    # type: 'group',\n",
    "  },\n",
    "  {\n",
    "    id: '2a',\n",
    "    data: { label: 'Node A.1' },\n",
    "    position: { x: 10, y: 50 },\n",
    "    parentId: '2',\n",
    "    # extent: 'parent',\n",
    "  },\n",
    "  {\n",
    "    id: '3',\n",
    "    data: { label: 'Node 1' },\n",
    "    position: { x: 320, y: 100 },\n",
    "  },\n",
    "  {\n",
    "    id: '4',\n",
    "    data: { label: 'Group B' },\n",
    "    position: { x: 320, y: 200 },\n",
    "    style: macro_style_level_1,\n",
    "  },\n",
    "  {\n",
    "    id: '4a',\n",
    "    data: { label: 'Node B.1' },\n",
    "    position: { x: 15, y: 65 },\n",
    "    parentId: '4',\n",
    "    extent: 'parent',\n",
    "  },\n",
    "  {\n",
    "    id: '4b',\n",
    "    data: { label: 'Group B.A' },\n",
    "    position: { x: 15, y: 120 },\n",
    "    style: macro_style_level_2,\n",
    "    parentId: '4',\n",
    "    extent: 'parent',\n",
    "  },\n",
    "  {\n",
    "    id: '4b1',\n",
    "    data: { label: 'Node B.A.1' },\n",
    "    position: { x: 20, y: 40 },\n",
    "    parentId: '4b',\n",
    "  },\n",
    "  {\n",
    "    id: '4b2',\n",
    "    data: { label: 'Node B.A.2' },\n",
    "    position: { x: 100, y: 100 },\n",
    "    parentId: '4b',\n",
    "  },\n",
    "];\n",
    "\n",
    "\n",
    "nodes_json = json.dumps(initialNodes)\n",
    "w.nodes = nodes_json"
   ]
  },
  {
   "cell_type": "code",
   "execution_count": 9,
   "id": "72437516-54da-44ea-8b2f-155c23e67b05",
   "metadata": {},
   "outputs": [],
   "source": [
    "w.commands = json.dumps({'my_command': 'test'})"
   ]
  },
  {
   "cell_type": "code",
   "execution_count": null,
   "id": "de6fcda2-39e7-48df-8e76-ee5b591fb014",
   "metadata": {},
   "outputs": [],
   "source": []
  },
  {
   "cell_type": "code",
   "execution_count": null,
   "id": "1caa38e0-07c5-424d-9ecb-86f9a678cd6e",
   "metadata": {},
   "outputs": [],
   "source": []
  },
  {
   "cell_type": "code",
   "execution_count": null,
   "id": "ee75ecfe-7309-43e9-92ce-930acb9234a0",
   "metadata": {},
   "outputs": [],
   "source": []
  },
  {
   "cell_type": "code",
   "execution_count": null,
   "id": "b9397d64-c6c5-43ef-88e5-6bbc432d182f",
   "metadata": {},
   "outputs": [],
   "source": []
  }
 ],
 "metadata": {
  "kernelspec": {
   "display_name": "Python 3 (ipykernel)",
   "language": "python",
   "name": "python3"
  },
  "language_info": {
   "codemirror_mode": {
    "name": "ipython",
    "version": 3
   },
   "file_extension": ".py",
   "mimetype": "text/x-python",
   "name": "python",
   "nbconvert_exporter": "python",
   "pygments_lexer": "ipython3",
   "version": "3.12.9"
  }
 },
 "nbformat": 4,
 "nbformat_minor": 5
}
