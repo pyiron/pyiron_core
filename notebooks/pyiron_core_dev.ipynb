{
 "cells": [
  {
   "cell_type": "code",
   "execution_count": 4,
   "metadata": {},
   "outputs": [
    {
     "name": "stdout",
     "output_type": "stream",
     "text": [
      "\u001B[1G\u001B[0K⠙\u001B[1G\u001B[0K⠹\u001B[1G\u001B[0K⠸\u001B[1G\u001B[0K⠼\u001B[1G\u001B[0K\n",
      "  \u001B[37m../static/\u001B[0m\u001B[1mwidget.js\u001B[0m    \u001B[33m1.7mb ⚠️\u001B[0m\n",
      "  \u001B[37m../static/\u001B[0m\u001B[1mwidget.css\u001B[0m  \u001B[36m15.1kb\u001B[0m\n",
      "\n",
      "⚡ \u001B[32mDone in 170ms\u001B[0m\n",
      "\u001B[1G\u001B[0K⠙\u001B[1G\u001B[0K"
     ]
    }
   ],
   "source": [
    "import pyiron_workflow.graph.edges\n",
    "!npx esbuild ../js/widget.jsx --minify --format=esm --bundle --outdir=../static"
   ]
  },
  {
   "cell_type": "code",
   "execution_count": 2,
   "metadata": {},
   "outputs": [],
   "source": [
    "# !cd .. && npm install @radix-ui/react-icons"
   ]
  },
  {
   "cell_type": "code",
   "execution_count": 3,
   "metadata": {},
   "outputs": [],
   "source": [
    "import sys\n",
    "\n",
    "sys.path.insert(0, \"/Users/joerg/git_libs/pyiron_core\")\n",
    "# sys.path"
   ]
  },
  {
   "cell_type": "code",
   "execution_count": 4,
   "metadata": {},
   "outputs": [
    {
     "data": {
      "application/vnd.jupyter.widget-view+json": {
       "model_id": "56283e8dafc54c64a9b02aff9710ec16",
       "version_major": 2,
       "version_minor": 0
      },
      "text/plain": []
     },
     "metadata": {},
     "output_type": "display_data"
    },
    {
     "ename": "ImportError",
     "evalue": "cannot import name 'PyironFlow' from 'pyironflow.pyironflow' (/Users/joerg/git_libs/pyiron_core/pyironflow/pyironflow.py)",
     "output_type": "error",
     "traceback": [
      "\u001B[0;31m---------------------------------------------------------------------------\u001B[0m",
      "\u001B[0;31mImportError\u001B[0m                               Traceback (most recent call last)",
      "Cell \u001B[0;32mIn[4], line 6\u001B[0m\n\u001B[1;32m      4\u001B[0m \u001B[38;5;28;01mimport\u001B[39;00m \u001B[38;5;21;01mjson\u001B[39;00m\n\u001B[1;32m      5\u001B[0m \u001B[38;5;28;01mfrom\u001B[39;00m \u001B[38;5;21;01mpyiron_workflow\u001B[39;00m\u001B[38;5;21;01m.\u001B[39;00m\u001B[38;5;21;01mgraph\u001B[39;00m \u001B[38;5;28;01mimport\u001B[39;00m base, decorators, gui\n\u001B[0;32m----> 6\u001B[0m \u001B[38;5;28;01mfrom\u001B[39;00m \u001B[38;5;21;01mpyironflow\u001B[39;00m\u001B[38;5;21;01m.\u001B[39;00m\u001B[38;5;21;01mpyironflow\u001B[39;00m \u001B[38;5;28;01mimport\u001B[39;00m PyironFlow\n",
      "\u001B[0;31mImportError\u001B[0m: cannot import name 'PyironFlow' from 'pyironflow.pyironflow' (/Users/joerg/git_libs/pyiron_core/pyironflow/pyironflow.py)"
     ]
    }
   ],
   "source": [
    "from pyiron_workflow import Workflow, as_out_dataclass_node, as_function_node, Node\n",
    "import pyiron_nodes as pn\n",
    "import numpy as np\n",
    "import json\n",
    "from pyiron_workflow.graph import base, decorators, gui\n",
    "from pyironflow.pyironflow import PyironFlow"
   ]
  },
  {
   "cell_type": "code",
   "execution_count": null,
   "metadata": {},
   "outputs": [],
   "source": [
    "from pyiron_workflow.graph import base\n",
    "from pyironflow.reactflow import ReactFlowWidget\n",
    "\n",
    "sub_graph = base.Graph(label=\"subgraph\")\n",
    "sub_graph += pn.atomistic.structure.build.Bulk(name='Al', label=\"structure2\")\n",
    "sub_graph += pn.atomistic.structure.transform.Repeat(label=\"repeat2\")\n",
    "sub_graph += pyiron_workflow.graph.edges.GraphEdge('structure2', 'repeat2', 'structure', 'structure')\n",
    "\n",
    "graph = base.Graph(label='Workflow')\n",
    "graph += pn.atomistic.structure.build.Bulk(name=\"Al\", label=\"structure\")\n",
    "graph += pn.atomistic.structure.transform.Repeat(label=\"repeat\")\n",
    "# graph += sub_graph\n",
    "graph += pn.atomistic.engine.lammps.Code(label=\"lammps\") \n",
    "graph += pyiron_workflow.graph.edges.GraphEdge(\"structure\", \"repeat\", \"structure\", \"structure\")\n",
    "graph += pyiron_workflow.graph.edges.GraphEdge(\"repeat\", \"lammps\", \"structure\", \"structure\")\n",
    "\n",
    "# base._mark_node_as_collapsed()"
   ]
  },
  {
   "cell_type": "code",
   "execution_count": null,
   "metadata": {},
   "outputs": [],
   "source": [
    "base._get_expanded_nodes(graph)"
   ]
  },
  {
   "cell_type": "code",
   "execution_count": 5,
   "metadata": {},
   "outputs": [
    {
     "ename": "NameError",
     "evalue": "name 'graph' is not defined",
     "output_type": "error",
     "traceback": [
      "\u001B[0;31m---------------------------------------------------------------------------\u001B[0m",
      "\u001B[0;31mNameError\u001B[0m                                 Traceback (most recent call last)",
      "Cell \u001B[0;32mIn[5], line 1\u001B[0m\n\u001B[0;32m----> 1\u001B[0m \u001B[43mgraph\u001B[49m\u001B[38;5;241m.\u001B[39medges\n",
      "\u001B[0;31mNameError\u001B[0m: name 'graph' is not defined"
     ]
    }
   ],
   "source": [
    "graph.edges"
   ]
  },
  {
   "cell_type": "code",
   "execution_count": 11,
   "metadata": {},
   "outputs": [
    {
     "name": "stdout",
     "output_type": "stream",
     "text": [
      "updating edge structure in node lammps, repeat structure\n"
     ]
    },
    {
     "data": {
      "application/vnd.jupyter.widget-view+json": {
       "model_id": "459d0241ff754d8f8251a3bf0a43d1e3",
       "version_major": 2,
       "version_minor": 0
      },
      "text/plain": [
       "HBox(children=(Output(), Tab(children=(ReactFlowWidget(layout=Layout(height='800px', width='1200px')), ReactFl…"
      ]
     },
     "execution_count": 11,
     "metadata": {},
     "output_type": "execute_result"
    },
    {
     "name": "stdout",
     "output_type": "stream",
     "text": [
      "updating edge structure in node lammps, repeat structure\n",
      "updating edge structure in node Code1, Bulk structure\n",
      "updating edge structure in node Code1, Bulk structure\n",
      "updating edge structure in node Code1, Bulk structure\n",
      "updating edge structure in node Code1, Bulk structure\n"
     ]
    }
   ],
   "source": [
    "pf = gui.PyironFlow([graph, 'flow_macro', 'lammps_test'])\n",
    "pf.gui"
   ]
  },
  {
   "cell_type": "code",
   "execution_count": 7,
   "metadata": {},
   "outputs": [
    {
     "ename": "AttributeError",
     "evalue": "'PyironFlow' object has no attribute 'graph'",
     "output_type": "error",
     "traceback": [
      "\u001B[0;31m---------------------------------------------------------------------------\u001B[0m",
      "\u001B[0;31mAttributeError\u001B[0m                            Traceback (most recent call last)",
      "Cell \u001B[0;32mIn[7], line 1\u001B[0m\n\u001B[0;32m----> 1\u001B[0m \u001B[43mpf\u001B[49m\u001B[38;5;241;43m.\u001B[39;49m\u001B[43mgraph\u001B[49m\u001B[38;5;241m.\u001B[39mnodes\n",
      "\u001B[0;31mAttributeError\u001B[0m: 'PyironFlow' object has no attribute 'graph'"
     ]
    }
   ],
   "source": [
    "pf.graph.nodes"
   ]
  },
  {
   "cell_type": "code",
   "execution_count": null,
   "metadata": {},
   "outputs": [],
   "source": [
    "pf.graph.nodes['Code'].node.label"
   ]
  },
  {
   "cell_type": "code",
   "execution_count": null,
   "metadata": {},
   "outputs": [],
   "source": [
    "node = pf.graph.nodes['Code'].node\n",
    "wf = pn.graphs.flow.ConvertMacroToWorkflow(node).run()\n"
   ]
  },
  {
   "cell_type": "code",
   "execution_count": null,
   "metadata": {},
   "outputs": [],
   "source": [
    "wf.outputs.workflow.node.label"
   ]
  },
  {
   "cell_type": "code",
   "execution_count": null,
   "metadata": {},
   "outputs": [],
   "source": [
    "import pyiron_nodes.graphs.flow as flow"
   ]
  },
  {
   "cell_type": "code",
   "execution_count": null,
   "metadata": {},
   "outputs": [],
   "source": [
    "\n",
    "structure = 'inp_structure'\n",
    "potential = 'inp_potential'\n",
    "calculator = 'inp_calculator'\n",
    "\n",
    "\n",
    "wf = Workflow(\"LammpsMacro\")\n",
    "\n",
    "wf.InitLammps = pn.atomistic.engine.lammps.InitLammps(\n",
    "    structure=structure,\n",
    "    potential=potential, # wf.Potential,\n",
    "    # calculator=wf.calc,\n",
    "    calculator=calculator,\n",
    "    # working_directory=working_dir,\n",
    ")\n",
    "\n",
    "wf.Shell = pn.atomistic.engine.lammps.Shell(\n",
    "    # command=ExecutablePathResolver(module=\"lammps\", code=\"lammps\").path(),\n",
    "    working_directory=wf.InitLammps,\n",
    ")\n",
    "\n",
    "wf.ParseLogFile = pn.atomistic.engine.lammps.ParseLogFile(log_file=wf.Shell.outputs.log)\n",
    "wf.ParseDumpFile = pn.atomistic.engine.lammps.ParseDumpFile(dump_file=wf.Shell.outputs.dump)\n",
    "wf.Collect = pn.atomistic.engine.lammps.Collect(\n",
    "    out_dump=wf.ParseDumpFile.outputs.dump,\n",
    "    out_log=wf.ParseLogFile.outputs.log,\n",
    "    calc_mode=\"md\",  # wf.calc,\n",
    ")\n",
    "\n",
    "# return wf.Collect"
   ]
  },
  {
   "cell_type": "code",
   "execution_count": null,
   "metadata": {},
   "outputs": [],
   "source": [
    "\n",
    "lammps = pn.atomistic.engine.lammps.Code() # structure = 'inp_structure', potential = 'inp_potential', calculator = 'inp_calculator')"
   ]
  },
  {
   "cell_type": "code",
   "execution_count": null,
   "metadata": {},
   "outputs": [],
   "source": [
    "kwargs = {}\n",
    "for inp in lammps.inputs.data[\"label\"]:\n",
    "    inp_port_label = f\"inp_port__{inp}\"\n",
    "    kwargs[inp] = inp_port_label\n",
    "\n",
    "kwargs"
   ]
  },
  {
   "cell_type": "code",
   "execution_count": null,
   "metadata": {},
   "outputs": [],
   "source": [
    "wf = lammps._func(**kwargs)#._workflow \n",
    "wf._workflow"
   ]
  },
  {
   "cell_type": "code",
   "execution_count": null,
   "metadata": {},
   "outputs": [],
   "source": [
    "lammps._func"
   ]
  },
  {
   "cell_type": "code",
   "execution_count": null,
   "metadata": {},
   "outputs": [],
   "source": [
    "lammps.node_type"
   ]
  },
  {
   "cell_type": "code",
   "execution_count": null,
   "metadata": {},
   "outputs": [],
   "source": []
  }
 ],
 "metadata": {
  "kernelspec": {
   "display_name": "Python 3 (ipykernel)",
   "language": "python",
   "name": "python3"
  },
  "language_info": {
   "codemirror_mode": {
    "name": "ipython",
    "version": 3
   },
   "file_extension": ".py",
   "mimetype": "text/x-python",
   "name": "python",
   "nbconvert_exporter": "python",
   "pygments_lexer": "ipython3",
   "version": "3.12.9"
  }
 },
 "nbformat": 4,
 "nbformat_minor": 4
}
