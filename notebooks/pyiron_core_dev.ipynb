{
 "cells": [
  {
   "cell_type": "code",
   "execution_count": 1,
   "metadata": {},
   "outputs": [
    {
     "name": "stdout",
     "output_type": "stream",
     "text": [
      "\u001b[1G\u001b[0K⠙\u001b[1G\u001b[0K⠹\u001b[1G\u001b[0K⠸\u001b[1G\u001b[0K⠼\u001b[1G\u001b[0K\n",
      "  \u001b[37m../static/\u001b[0m\u001b[1mwidget.js\u001b[0m    \u001b[33m1.7mb ⚠️\u001b[0m\n",
      "  \u001b[37m../static/\u001b[0m\u001b[1mwidget.css\u001b[0m  \u001b[36m15.1kb\u001b[0m\n",
      "\n",
      "⚡ \u001b[32mDone in 161ms\u001b[0m\n",
      "\u001b[1G\u001b[0K⠙\u001b[1G\u001b[0K"
     ]
    }
   ],
   "source": [
    "!npx esbuild ../js/widget.jsx --minify --format=esm --bundle --outdir=../static"
   ]
  },
  {
   "cell_type": "code",
   "execution_count": 2,
   "metadata": {},
   "outputs": [],
   "source": [
    "import sys\n",
    "\n",
    "sys.path.insert(0, \"/Users/joerg/git_libs/pyiron_core\")\n",
    "# sys.path"
   ]
  },
  {
   "cell_type": "code",
   "execution_count": 3,
   "metadata": {},
   "outputs": [
    {
     "data": {
      "application/vnd.jupyter.widget-view+json": {
       "model_id": "5b084f18df75402eaa54dd5191b4a1c3",
       "version_major": 2,
       "version_minor": 0
      },
      "text/plain": []
     },
     "metadata": {},
     "output_type": "display_data"
    }
   ],
   "source": [
    "from pyiron_workflow import Workflow, as_out_dataclass_node, as_function_node\n",
    "from pyironflow.wf_extensions import get_nodes, _to_jsonifyable\n",
    "import pyiron_nodes as pn\n",
    "import numpy as np\n",
    "import json\n",
    "import pyiron_workflow.wf_graph_tools as gt\n",
    "import pyiron_workflow.graph.gui as gui"
   ]
  },
  {
   "cell_type": "code",
   "execution_count": 4,
   "metadata": {},
   "outputs": [],
   "source": [
    "from pyiron_workflow.graph import base\n",
    "from pyiron_workflow import Node\n",
    "\n",
    "graph = base.Graph()\n",
    "graph += base.GraphNode(import_path='pyiron_nodes.atomistic.structure.build.Bulk', id='Bulk', widget_type='customNode')\n",
    "graph.nodes['Bulk'].node.label\n",
    "base.GuiGraph(graph);"
   ]
  },
  {
   "cell_type": "code",
   "execution_count": 5,
   "metadata": {},
   "outputs": [
    {
     "data": {
      "text/html": [
       "<div>\n",
       "<style scoped>\n",
       "    .dataframe tbody tr th:only-of-type {\n",
       "        vertical-align: middle;\n",
       "    }\n",
       "\n",
       "    .dataframe tbody tr th {\n",
       "        vertical-align: top;\n",
       "    }\n",
       "\n",
       "    .dataframe thead th {\n",
       "        text-align: right;\n",
       "    }\n",
       "</style>\n",
       "<table border=\"1\" class=\"dataframe\">\n",
       "  <thead>\n",
       "    <tr style=\"text-align: right;\">\n",
       "      <th></th>\n",
       "    </tr>\n",
       "  </thead>\n",
       "  <tbody>\n",
       "  </tbody>\n",
       "</table>\n",
       "</div>"
      ],
      "text/plain": [
       "[]"
      ]
     },
     "execution_count": 5,
     "metadata": {},
     "output_type": "execute_result"
    }
   ],
   "source": [
    "from pyiron_nodes.atomistic.structure.build import Bulk\n",
    "\n",
    "graph1 = base.Graph()\n",
    "graph1 += Bulk(name='Al')\n",
    "\n",
    "base._edges_to_gui(graph)"
   ]
  },
  {
   "cell_type": "code",
   "execution_count": 6,
   "metadata": {},
   "outputs": [
    {
     "ename": "NameError",
     "evalue": "name 'pf' is not defined",
     "output_type": "error",
     "traceback": [
      "\u001b[0;31m---------------------------------------------------------------------------\u001b[0m",
      "\u001b[0;31mNameError\u001b[0m                                 Traceback (most recent call last)",
      "Cell \u001b[0;32mIn[6], line 1\u001b[0m\n\u001b[0;32m----> 1\u001b[0m data \u001b[38;5;241m=\u001b[39m json\u001b[38;5;241m.\u001b[39mloads(\u001b[43mpf\u001b[49m\u001b[38;5;241m.\u001b[39mwf_widgets[\u001b[38;5;241m0\u001b[39m]\u001b[38;5;241m.\u001b[39mwidgets\u001b[38;5;241m.\u001b[39mflow\u001b[38;5;241m.\u001b[39mnodes)[\u001b[38;5;241m0\u001b[39m]\u001b[38;5;66;03m#['type']#['data'].keys()\u001b[39;00m\n\u001b[1;32m      2\u001b[0m data\n",
      "\u001b[0;31mNameError\u001b[0m: name 'pf' is not defined"
     ]
    }
   ],
   "source": [
    "data = json.loads(pf.wf_widgets[0].widgets.flow.nodes)[0]#['type']#['data'].keys()\n",
    "data"
   ]
  },
  {
   "cell_type": "code",
   "execution_count": null,
   "metadata": {},
   "outputs": [],
   "source": [
    "pf.wf_widgets[0].graph.nodes['Plot3d'].node.inputs.data['value'][0]"
   ]
  },
  {
   "cell_type": "code",
   "execution_count": null,
   "metadata": {},
   "outputs": [],
   "source": [
    "pf.wf_widgets[0].graph.nodes['Bulk'].node.inputs"
   ]
  },
  {
   "cell_type": "code",
   "execution_count": null,
   "metadata": {},
   "outputs": [],
   "source": [
    "pf.wf_widgets[0].graph.nodes['Bulk'].node.inputs"
   ]
  },
  {
   "cell_type": "code",
   "execution_count": null,
   "metadata": {},
   "outputs": [],
   "source": [
    "pf.wf_widgets[0].graph = base._mark_node_as_expanded(pf.wf_widgets[0].graph, 'Code')\n",
    "pf.wf_widgets[0].graph.nodes"
   ]
  },
  {
   "cell_type": "code",
   "execution_count": null,
   "metadata": {},
   "outputs": [],
   "source": [
    "pf.wf_widgets[0].update_graph_nodes().nodes['Bulk'].node.inputs"
   ]
  },
  {
   "cell_type": "code",
   "execution_count": null,
   "metadata": {},
   "outputs": [],
   "source": [
    "pf.wf_widgets[0].graph.edges"
   ]
  },
  {
   "cell_type": "code",
   "execution_count": 6,
   "metadata": {},
   "outputs": [
    {
     "name": "stdout",
     "output_type": "stream",
     "text": [
      "structure:  NotData\n",
      "structure:  NotData\n",
      "from pyiron_workflow import Workflow\n",
      "import pyiron_nodes\n",
      "\n",
      "wf = Workflow(\"None\")\n",
      "\n",
      "wf.structure = pyiron_nodes.atomistic.structure.build.Bulk()\n",
      "wf.repeat = pyiron_nodes.atomistic.structure.transform.Repeat(structure=wf.structure)\n",
      "wf.lammps = None(structure=wf.repeat)\n",
      "wf.InitLammps = pyiron_nodes.atomistic.engine.lammps.InitLammps(\n",
      "    structure=x, potential=x, calculator=x, working_directory=x\n",
      ")\n",
      "wf.Shell = pyiron_nodes.atomistic.engine.lammps.Shell(working_directory=wf.InitLammps)\n",
      "wf.ParseLogFile = pyiron_nodes.atomistic.engine.lammps.ParseLogFile(\n",
      "    log_file=wf.Shell.outputs.log\n",
      ")\n",
      "wf.ParseDumpFile = pyiron_nodes.atomistic.engine.lammps.ParseDumpFile(\n",
      "    dump_file=wf.Shell.outputs.dump\n",
      ")\n",
      "wf.Collect = pyiron_nodes.atomistic.engine.lammps.Collect(\n",
      "    out_dump=wf.ParseDumpFile, out_log=wf.ParseLogFile, calc_mode=x\n",
      ")\n",
      "\n"
     ]
    }
   ],
   "source": [
    "from pyiron_workflow.graph import base\n",
    "from pyironflow.reactflow import ReactFlowWidget\n",
    "\n",
    "sub_graph = base.Graph(label=\"subgraph\")\n",
    "sub_graph += pn.atomistic.structure.build.Bulk(name='Al', label=\"structure2\")\n",
    "sub_graph += pn.atomistic.structure.transform.Repeat(label=\"repeat2\")\n",
    "sub_graph += base.GraphEdge('structure2', 'repeat2', 'structure', 'structure')\n",
    "\n",
    "# graph = base.Graph() # base.create_graph()\n",
    "graph = base.Graph()\n",
    "graph += pn.atomistic.structure.build.Bulk(name=\"Al\", label=\"structure\")\n",
    "graph += pn.atomistic.structure.transform.Repeat(label=\"repeat\")\n",
    "# graph += sub_graph\n",
    "graph += pn.atomistic.engine.lammps.Code(label=\"lammps\") \n",
    "graph += base.GraphEdge(\"structure\", \"repeat\", \"structure\", \"structure\")\n",
    "graph += base.GraphEdge(\"repeat\", \"lammps\", \"structure\", \"structure\")\n",
    "\n",
    "# base._mark_node_as_collapsed(graph, 'lammps');\n",
    "\n",
    "\n",
    "print(base.get_code_from_graph(graph))"
   ]
  },
  {
   "cell_type": "code",
   "execution_count": 7,
   "metadata": {},
   "outputs": [],
   "source": [
    "graph.label='Workflow'"
   ]
  },
  {
   "cell_type": "code",
   "execution_count": 8,
   "metadata": {},
   "outputs": [
    {
     "name": "stdout",
     "output_type": "stream",
     "text": [
      "removing edge GraphEdge(source='var_lammps__structure', target='InitLammps', sourceHandle='x', targetHandle='structure')\n",
      "removing edge GraphEdge(source='var_lammps__potential', target='InitLammps', sourceHandle='x', targetHandle='potential')\n",
      "removing edge GraphEdge(source='var_lammps__calculator', target='InitLammps', sourceHandle='x', targetHandle='calculator')\n",
      "removing edge GraphEdge(source='var_lammps__working_directory', target='InitLammps', sourceHandle='x', targetHandle='working_directory')\n",
      "removing edge GraphEdge(source='var_lammps__calc_mode', target='Collect', sourceHandle='x', targetHandle='calc_mode')\n"
     ]
    },
    {
     "data": {
      "application/vnd.jupyter.widget-view+json": {
       "model_id": "8e530dfcf3c84a89af1d868800468df1",
       "version_major": 2,
       "version_minor": 0
      },
      "text/plain": [
       "HBox(children=(Accordion(children=(Tree(nodes=(Node(icon_style='warning', name='databases'), Node(icon_style='…"
      ]
     },
     "execution_count": 8,
     "metadata": {},
     "output_type": "execute_result"
    }
   ],
   "source": [
    "pf = gui.PyironFlow([graph])\n",
    "\n",
    "pf.gui"
   ]
  },
  {
   "cell_type": "code",
   "execution_count": null,
   "metadata": {},
   "outputs": [],
   "source": [
    "xx"
   ]
  },
  {
   "cell_type": "code",
   "execution_count": 15,
   "metadata": {},
   "outputs": [
    {
     "data": {
      "text/html": [
       "<div>\n",
       "<style scoped>\n",
       "    .dataframe tbody tr th:only-of-type {\n",
       "        vertical-align: middle;\n",
       "    }\n",
       "\n",
       "    .dataframe tbody tr th {\n",
       "        vertical-align: top;\n",
       "    }\n",
       "\n",
       "    .dataframe thead th {\n",
       "        text-align: right;\n",
       "    }\n",
       "</style>\n",
       "<table border=\"1\" class=\"dataframe\">\n",
       "  <thead>\n",
       "    <tr style=\"text-align: right;\">\n",
       "      <th></th>\n",
       "      <th>label</th>\n",
       "      <th>type</th>\n",
       "      <th>default</th>\n",
       "      <th>ready</th>\n",
       "      <th>value</th>\n",
       "      <th>node</th>\n",
       "    </tr>\n",
       "  </thead>\n",
       "  <tbody>\n",
       "    <tr>\n",
       "      <th>0</th>\n",
       "      <td>structure</td>\n",
       "      <td>NonPrimitive</td>\n",
       "      <td>NotData</td>\n",
       "      <td>False</td>\n",
       "      <td>NotData</td>\n",
       "      <td>&lt;pyiron_workflow.simple_workflow.Node object a...</td>\n",
       "    </tr>\n",
       "    <tr>\n",
       "      <th>1</th>\n",
       "      <td>potential</td>\n",
       "      <td>str</td>\n",
       "      <td>NotData</td>\n",
       "      <td>False</td>\n",
       "      <td>NotData</td>\n",
       "      <td>&lt;pyiron_workflow.simple_workflow.Node object a...</td>\n",
       "    </tr>\n",
       "    <tr>\n",
       "      <th>2</th>\n",
       "      <td>calculator</td>\n",
       "      <td>None</td>\n",
       "      <td>NotData</td>\n",
       "      <td>False</td>\n",
       "      <td>NotData</td>\n",
       "      <td>&lt;pyiron_workflow.simple_workflow.Node object a...</td>\n",
       "    </tr>\n",
       "    <tr>\n",
       "      <th>3</th>\n",
       "      <td>working_directory</td>\n",
       "      <td>str</td>\n",
       "      <td>NotData</td>\n",
       "      <td>False</td>\n",
       "      <td>NotData</td>\n",
       "      <td>&lt;pyiron_workflow.simple_workflow.Node object a...</td>\n",
       "    </tr>\n",
       "    <tr>\n",
       "      <th>4</th>\n",
       "      <td>create_dir</td>\n",
       "      <td>bool</td>\n",
       "      <td>True</td>\n",
       "      <td>True</td>\n",
       "      <td>True</td>\n",
       "      <td>&lt;pyiron_workflow.simple_workflow.Node object a...</td>\n",
       "    </tr>\n",
       "  </tbody>\n",
       "</table>\n",
       "</div>"
      ],
      "text/plain": [
       "{'label': ['structure', 'potential', 'calculator', 'working_directory', 'create_dir'], 'type': ['NonPrimitive', 'str', 'None', 'str', 'bool'], 'default': ['NotData', 'NotData', 'NotData', 'NotData', True], 'ready': [False, False, False, False, True], 'value': ['NotData', 'NotData', 'NotData', 'NotData', True], 'node': [<pyiron_workflow.simple_workflow.Node object at 0x16874cb60>, <pyiron_workflow.simple_workflow.Node object at 0x16874cb60>, <pyiron_workflow.simple_workflow.Node object at 0x16874cb60>, <pyiron_workflow.simple_workflow.Node object at 0x16874cb60>, <pyiron_workflow.simple_workflow.Node object at 0x16874cb60>]}"
      ]
     },
     "execution_count": 15,
     "metadata": {},
     "output_type": "execute_result"
    }
   ],
   "source": [
    "lammps = pn.atomistic.engine.lammps.InitLammps(label=\"lammps\")\n",
    "lammps.inputs"
   ]
  },
  {
   "cell_type": "code",
   "execution_count": 26,
   "metadata": {},
   "outputs": [
    {
     "name": "stdout",
     "output_type": "stream",
     "text": [
      "structure:  NotData\n",
      "structure:  NotData\n",
      "from pyiron_workflow import Workflow\n",
      "import pyiron_nodes\n",
      "\n",
      "wf = Workflow(\"None\")\n",
      "\n",
      "wf.structure = pyiron_nodes.atomistic.structure.build.Bulk()\n",
      "wf.repeat = pyiron_nodes.atomistic.structure.transform.Repeat(structure=wf.structure)\n",
      "wf.lammps = None(structure=wf.repeat)\n",
      "wf.InitLammps = pyiron_nodes.atomistic.engine.lammps.InitLammps(\n",
      "    structure=x, potential=x, calculator=x, working_directory=x\n",
      ")\n",
      "wf.Shell = pyiron_nodes.atomistic.engine.lammps.Shell(working_directory=wf.InitLammps)\n",
      "wf.ParseLogFile = pyiron_nodes.atomistic.engine.lammps.ParseLogFile(\n",
      "    log_file=wf.Shell.outputs.log\n",
      ")\n",
      "wf.ParseDumpFile = pyiron_nodes.atomistic.engine.lammps.ParseDumpFile(\n",
      "    dump_file=wf.Shell.outputs.dump\n",
      ")\n",
      "wf.Collect = pyiron_nodes.atomistic.engine.lammps.Collect(\n",
      "    out_dump=wf.ParseDumpFile, out_log=wf.ParseLogFile, calc_mode=x\n",
      ")\n",
      "\n"
     ]
    }
   ],
   "source": [
    "from pyiron_workflow.graph import base\n",
    "from pyironflow.reactflow import ReactFlowWidget\n",
    "\n",
    "sub_graph = base.Graph(label=\"subgraph\")\n",
    "sub_graph += pn.atomistic.structure.build.Bulk(name='Al', label=\"structure2\")\n",
    "sub_graph += pn.atomistic.structure.transform.Repeat(label=\"repeat2\")\n",
    "sub_graph += base.GraphEdge('structure2', 'repeat2', 'structure', 'structure')\n",
    "\n",
    "# graph = base.Graph() # base.create_graph()\n",
    "graph = base.Graph()\n",
    "graph += pn.atomistic.structure.build.Bulk(name=\"Al\", label=\"structure\")\n",
    "graph += pn.atomistic.structure.transform.Repeat(label=\"repeat\")\n",
    "# graph += sub_graph\n",
    "graph += pn.atomistic.engine.lammps.Code(label=\"lammps\") \n",
    "graph += base.GraphEdge(\"structure\", \"repeat\", \"structure\", \"structure\")\n",
    "graph += base.GraphEdge(\"repeat\", \"lammps\", \"structure\", \"structure\")\n",
    "\n",
    "# base._mark_node_as_collapsed(graph, 'lammps');\n",
    "\n",
    "\n",
    "print(base.get_code_from_graph(graph))"
   ]
  },
  {
   "cell_type": "code",
   "execution_count": 27,
   "metadata": {},
   "outputs": [
    {
     "data": {
      "text/html": [
       "<div>\n",
       "<style scoped>\n",
       "    .dataframe tbody tr th:only-of-type {\n",
       "        vertical-align: middle;\n",
       "    }\n",
       "\n",
       "    .dataframe tbody tr th {\n",
       "        vertical-align: top;\n",
       "    }\n",
       "\n",
       "    .dataframe thead th {\n",
       "        text-align: right;\n",
       "    }\n",
       "</style>\n",
       "<table border=\"1\" class=\"dataframe\">\n",
       "  <thead>\n",
       "    <tr style=\"text-align: right;\">\n",
       "      <th></th>\n",
       "      <th>source</th>\n",
       "      <th>target</th>\n",
       "      <th>sourceHandle</th>\n",
       "      <th>targetHandle</th>\n",
       "    </tr>\n",
       "  </thead>\n",
       "  <tbody>\n",
       "    <tr>\n",
       "      <th>0</th>\n",
       "      <td>InitLammps</td>\n",
       "      <td>Shell</td>\n",
       "      <td>path</td>\n",
       "      <td>working_directory</td>\n",
       "    </tr>\n",
       "    <tr>\n",
       "      <th>1</th>\n",
       "      <td>Shell</td>\n",
       "      <td>ParseLogFile</td>\n",
       "      <td>log</td>\n",
       "      <td>log_file</td>\n",
       "    </tr>\n",
       "    <tr>\n",
       "      <th>2</th>\n",
       "      <td>Shell</td>\n",
       "      <td>ParseDumpFile</td>\n",
       "      <td>dump</td>\n",
       "      <td>dump_file</td>\n",
       "    </tr>\n",
       "    <tr>\n",
       "      <th>3</th>\n",
       "      <td>ParseDumpFile</td>\n",
       "      <td>Collect</td>\n",
       "      <td>dump</td>\n",
       "      <td>out_dump</td>\n",
       "    </tr>\n",
       "    <tr>\n",
       "      <th>4</th>\n",
       "      <td>ParseLogFile</td>\n",
       "      <td>Collect</td>\n",
       "      <td>log</td>\n",
       "      <td>out_log</td>\n",
       "    </tr>\n",
       "    <tr>\n",
       "      <th>5</th>\n",
       "      <td>var_lammps__structure</td>\n",
       "      <td>InitLammps</td>\n",
       "      <td>x</td>\n",
       "      <td>structure</td>\n",
       "    </tr>\n",
       "    <tr>\n",
       "      <th>6</th>\n",
       "      <td>var_lammps__potential</td>\n",
       "      <td>InitLammps</td>\n",
       "      <td>x</td>\n",
       "      <td>potential</td>\n",
       "    </tr>\n",
       "    <tr>\n",
       "      <th>7</th>\n",
       "      <td>var_lammps__calculator</td>\n",
       "      <td>InitLammps</td>\n",
       "      <td>x</td>\n",
       "      <td>calculator</td>\n",
       "    </tr>\n",
       "    <tr>\n",
       "      <th>8</th>\n",
       "      <td>var_lammps__working_directory</td>\n",
       "      <td>InitLammps</td>\n",
       "      <td>x</td>\n",
       "      <td>working_directory</td>\n",
       "    </tr>\n",
       "    <tr>\n",
       "      <th>9</th>\n",
       "      <td>var_lammps__calc_mode</td>\n",
       "      <td>Collect</td>\n",
       "      <td>x</td>\n",
       "      <td>calc_mode</td>\n",
       "    </tr>\n",
       "    <tr>\n",
       "      <th>10</th>\n",
       "      <td>structure</td>\n",
       "      <td>repeat</td>\n",
       "      <td>structure</td>\n",
       "      <td>structure</td>\n",
       "    </tr>\n",
       "    <tr>\n",
       "      <th>11</th>\n",
       "      <td>repeat</td>\n",
       "      <td>lammps</td>\n",
       "      <td>structure</td>\n",
       "      <td>structure</td>\n",
       "    </tr>\n",
       "  </tbody>\n",
       "</table>\n",
       "</div>"
      ],
      "text/plain": [
       "[GraphEdge(source='InitLammps', target='Shell', sourceHandle='path', targetHandle='working_directory'),\n",
       " GraphEdge(source='Shell', target='ParseLogFile', sourceHandle='log', targetHandle='log_file'),\n",
       " GraphEdge(source='Shell', target='ParseDumpFile', sourceHandle='dump', targetHandle='dump_file'),\n",
       " GraphEdge(source='ParseDumpFile', target='Collect', sourceHandle='dump', targetHandle='out_dump'),\n",
       " GraphEdge(source='ParseLogFile', target='Collect', sourceHandle='log', targetHandle='out_log'),\n",
       " GraphEdge(source='var_lammps__structure', target='InitLammps', sourceHandle='x', targetHandle='structure'),\n",
       " GraphEdge(source='var_lammps__potential', target='InitLammps', sourceHandle='x', targetHandle='potential'),\n",
       " GraphEdge(source='var_lammps__calculator', target='InitLammps', sourceHandle='x', targetHandle='calculator'),\n",
       " GraphEdge(source='var_lammps__working_directory', target='InitLammps', sourceHandle='x', targetHandle='working_directory'),\n",
       " GraphEdge(source='var_lammps__calc_mode', target='Collect', sourceHandle='x', targetHandle='calc_mode'),\n",
       " GraphEdge(source='structure', target='repeat', sourceHandle='structure', targetHandle='structure'),\n",
       " GraphEdge(source='repeat', target='lammps', sourceHandle='structure', targetHandle='structure')]"
      ]
     },
     "execution_count": 27,
     "metadata": {},
     "output_type": "execute_result"
    }
   ],
   "source": [
    "graph.edges"
   ]
  },
  {
   "cell_type": "code",
   "execution_count": 18,
   "metadata": {},
   "outputs": [
    {
     "data": {
      "text/plain": [
       "{'source': 'InitLammps',\n",
       " 'target': 'Shell',\n",
       " 'sourceHandle': 'path',\n",
       " 'targetHandle': 'working_directory',\n",
       " 'id': 0,\n",
       " 'style': {'strokeWidth': 2, 'stroke': 'black'}}"
      ]
     },
     "execution_count": 18,
     "metadata": {},
     "output_type": "execute_result"
    }
   ],
   "source": [
    "base._edges_to_gui(graph)[0]"
   ]
  },
  {
   "cell_type": "code",
   "execution_count": 28,
   "metadata": {},
   "outputs": [
    {
     "name": "stdout",
     "output_type": "stream",
     "text": [
      "removing edge GraphEdge(source='var_lammps__structure', target='InitLammps', sourceHandle='x', targetHandle='structure')\n",
      "removing edge GraphEdge(source='var_lammps__potential', target='InitLammps', sourceHandle='x', targetHandle='potential')\n",
      "removing edge GraphEdge(source='var_lammps__calculator', target='InitLammps', sourceHandle='x', targetHandle='calculator')\n",
      "removing edge GraphEdge(source='var_lammps__working_directory', target='InitLammps', sourceHandle='x', targetHandle='working_directory')\n",
      "removing edge GraphEdge(source='var_lammps__calc_mode', target='Collect', sourceHandle='x', targetHandle='calc_mode')\n"
     ]
    },
    {
     "data": {
      "application/vnd.jupyter.widget-view+json": {
       "model_id": "e7dc91e5c69d4757b952f2bbed2cca4f",
       "version_major": 2,
       "version_minor": 1
      },
      "text/plain": [
       "ReactFlowWidget()"
      ]
     },
     "metadata": {},
     "output_type": "display_data"
    },
    {
     "data": {
      "text/plain": [
       "<pyiron_workflow.graph.base.GuiGraph at 0x169d83500>"
      ]
     },
     "execution_count": 28,
     "metadata": {},
     "output_type": "execute_result"
    },
    {
     "name": "stderr",
     "output_type": "stream",
     "text": [
      "Exception in thread Thread-9 (_update_graph_view):\n",
      "Traceback (most recent call last):\n",
      "  File \"/Users/joerg/miniforge3/envs/py12/lib/python3.12/threading.py\", line 1073, in _bootstrap_inner\n",
      "    self.run()\n",
      "  File \"/Users/joerg/miniforge3/envs/py12/lib/python3.12/site-packages/ipykernel/ipkernel.py\", line 766, in run_closure\n",
      "    _threading_Thread_run(self)\n",
      "  File \"/Users/joerg/miniforge3/envs/py12/lib/python3.12/threading.py\", line 1010, in run\n",
      "    self._target(*self._args, **self._kwargs)\n",
      "  File \"/Users/joerg/git_libs/pyiron_core/pyiron_workflow/graph/base.py\", line 987, in _update_graph_view\n",
      "    raise ValueError(\"Timeout: ReactFlowWidget did not finish\")\n",
      "ValueError: Timeout: ReactFlowWidget did not finish\n"
     ]
    }
   ],
   "source": [
    "base.GuiGraph(graph)"
   ]
  },
  {
   "cell_type": "code",
   "execution_count": null,
   "metadata": {},
   "outputs": [],
   "source": [
    "xx"
   ]
  },
  {
   "cell_type": "code",
   "execution_count": null,
   "metadata": {},
   "outputs": [],
   "source": [
    "graph.nodes"
   ]
  },
  {
   "cell_type": "code",
   "execution_count": null,
   "metadata": {},
   "outputs": [],
   "source": [
    "# base._nodes_to_gui(graph)\n",
    "graph.edges"
   ]
  },
  {
   "cell_type": "code",
   "execution_count": null,
   "metadata": {},
   "outputs": [],
   "source": [
    "graph = base._update_reconnected_edges(graph)\n",
    "graph.edges"
   ]
  },
  {
   "cell_type": "code",
   "execution_count": null,
   "metadata": {},
   "outputs": [],
   "source": [
    "graph.nodes"
   ]
  },
  {
   "cell_type": "code",
   "execution_count": null,
   "metadata": {},
   "outputs": [],
   "source": [
    "base.GuiGraph(graph)"
   ]
  },
  {
   "cell_type": "code",
   "execution_count": null,
   "metadata": {},
   "outputs": [],
   "source": [
    "xx"
   ]
  },
  {
   "cell_type": "code",
   "execution_count": null,
   "metadata": {},
   "outputs": [],
   "source": [
    "def get_inner_edge(graph, edge):\n",
    "    inner_source = f'var_{edge.target}__{edge.targetHandle}'\n",
    "    df = base._edges_to_gui(graph).df\n",
    "    matching_edge = df.loc[df['source'] == inner_source].iloc[0].to_dict()\n",
    "    new_edge = base.GraphEdge(edge.source, matching_edge[\"target\"], edge.sourceHandle, matching_edge[\"targetHandle\"]) \n",
    "    return new_edge\n",
    "    \n",
    "\n",
    "get_inner_edge(graph, graph.edges[11])\n"
   ]
  },
  {
   "cell_type": "code",
   "execution_count": null,
   "metadata": {},
   "outputs": [],
   "source": [
    "graph.edges[11]"
   ]
  },
  {
   "cell_type": "code",
   "execution_count": null,
   "metadata": {},
   "outputs": [],
   "source": [
    "graph.nodes"
   ]
  },
  {
   "cell_type": "code",
   "execution_count": null,
   "metadata": {},
   "outputs": [],
   "source": []
  },
  {
   "cell_type": "code",
   "execution_count": null,
   "metadata": {},
   "outputs": [],
   "source": [
    "base.get_graph_from_macro(graph.nodes['lammps'].node).label"
   ]
  },
  {
   "cell_type": "code",
   "execution_count": null,
   "metadata": {},
   "outputs": [],
   "source": [
    "base._get_active_nodes(graph)"
   ]
  },
  {
   "cell_type": "code",
   "execution_count": null,
   "metadata": {},
   "outputs": [],
   "source": [
    "base._find_input_nodes(graph, 2)"
   ]
  },
  {
   "cell_type": "code",
   "execution_count": null,
   "metadata": {},
   "outputs": [],
   "source": [
    "base.GuiGraph(base.get_graph_from_macro(graph.nodes['lammps'].node))"
   ]
  },
  {
   "cell_type": "code",
   "execution_count": null,
   "metadata": {},
   "outputs": [],
   "source": [
    "graph.nodes"
   ]
  },
  {
   "cell_type": "code",
   "execution_count": null,
   "metadata": {},
   "outputs": [],
   "source": [
    "node_to_index = {node_label: index for index, node_label in enumerate(graph.nodes.keys()) }\n",
    "node_to_index"
   ]
  },
  {
   "cell_type": "code",
   "execution_count": null,
   "metadata": {},
   "outputs": [],
   "source": [
    "base.display_gui_data(graph)"
   ]
  },
  {
   "cell_type": "code",
   "execution_count": null,
   "metadata": {},
   "outputs": [],
   "source": [
    "base._edges_to_gui(graph)"
   ]
  },
  {
   "cell_type": "code",
   "execution_count": null,
   "metadata": {},
   "outputs": [],
   "source": [
    "from pyiron_workflow import Workflow\n",
    "\n",
    "wf = Workflow(\"LammpsMacro\")\n",
    "\n",
    "wf.structure = pn.atomistic.structure.build.Bulk(name=\"Al\")\n",
    "wf.potential = pn.atomistic.engine.lammps.Potential()\n",
    "wf.calculator = pn.atomistic.engine.lammps.CalcMD()\n",
    "\n",
    "wf.InitLammps = pn.atomistic.engine.lammps.InitLammps(\n",
    "    structure=wf.structure,\n",
    "    potential=wf.potential, \n",
    "    calculator=wf.calculator,\n",
    "    working_directory='test',\n",
    ")\n",
    "\n",
    "wf.Shell = pn.atomistic.engine.lammps.Shell(\n",
    "    # command=ExecutablePathResolver(module=\"lammps\", code=\"lammps\").path(),\n",
    "    working_directory=wf.InitLammps,\n",
    ")\n",
    "\n",
    "wf.ParseLogFile = pn.atomistic.engine.lammps.ParseLogFile(log_file=wf.Shell.outputs.log)\n",
    "wf.ParseDumpFile = pn.atomistic.engine.lammps.ParseDumpFile(dump_file=wf.Shell.outputs.dump)\n",
    "wf.Collect = pn.atomistic.engine.lammps.Collect(\n",
    "    out_dump=wf.ParseDumpFile.outputs.dump,\n",
    "    out_log=wf.ParseLogFile.outputs.log,\n",
    "    calc_mode=\"md\",  # wf.calc,\n",
    ")\n",
    "\n",
    "base.get_nodes_from_wf(wf)"
   ]
  },
  {
   "cell_type": "code",
   "execution_count": null,
   "metadata": {},
   "outputs": [],
   "source": [
    "wf._nodes"
   ]
  },
  {
   "cell_type": "code",
   "execution_count": null,
   "metadata": {},
   "outputs": [],
   "source": [
    "graph.nodes"
   ]
  },
  {
   "cell_type": "code",
   "execution_count": null,
   "metadata": {},
   "outputs": [],
   "source": [
    "xx"
   ]
  },
  {
   "cell_type": "markdown",
   "metadata": {},
   "source": [
    "### Test wf_graph.py"
   ]
  },
  {
   "cell_type": "code",
   "execution_count": 12,
   "metadata": {},
   "outputs": [],
   "source": [
    "from pyiron_workflow.graph.base import Graph, GraphNode, GraphEdge, GuiData\n",
    "import pyiron_workflow.graph.base as base\n",
    "import pyiron_nodes as pn"
   ]
  },
  {
   "cell_type": "code",
   "execution_count": 13,
   "metadata": {},
   "outputs": [
    {
     "name": "stdout",
     "output_type": "stream",
     "text": [
      "structure:  NotData\n",
      "structure:  NotData\n"
     ]
    }
   ],
   "source": [
    "lammps = pn.atomistic.engine.lammps.Code()\n",
    "macro_graph = base.get_graph_from_macro(lammps)\n",
    "\n",
    "# w = macro_graph.display()\n",
    "# w"
   ]
  },
  {
   "cell_type": "code",
   "execution_count": 14,
   "metadata": {
    "scrolled": true
   },
   "outputs": [
    {
     "ename": "AttributeError",
     "evalue": "'Graph' object has no attribute 'add_node'",
     "output_type": "error",
     "traceback": [
      "\u001b[0;31m---------------------------------------------------------------------------\u001b[0m",
      "\u001b[0;31mAttributeError\u001b[0m                            Traceback (most recent call last)",
      "Cell \u001b[0;32mIn[14], line 2\u001b[0m\n\u001b[1;32m      1\u001b[0m sub_graph \u001b[38;5;241m=\u001b[39m Graph(label\u001b[38;5;241m=\u001b[39m\u001b[38;5;124m\"\u001b[39m\u001b[38;5;124mlammps\u001b[39m\u001b[38;5;124m\"\u001b[39m)\n\u001b[0;32m----> 2\u001b[0m \u001b[43msub_graph\u001b[49m\u001b[38;5;241;43m.\u001b[39;49m\u001b[43madd_node\u001b[49m( pn\u001b[38;5;241m.\u001b[39matomistic\u001b[38;5;241m.\u001b[39mstructure\u001b[38;5;241m.\u001b[39mbuild\u001b[38;5;241m.\u001b[39mBulk(name\u001b[38;5;241m=\u001b[39m\u001b[38;5;124m'\u001b[39m\u001b[38;5;124mAl\u001b[39m\u001b[38;5;124m'\u001b[39m), label\u001b[38;5;241m=\u001b[39m\u001b[38;5;124m\"\u001b[39m\u001b[38;5;124mstructure2\u001b[39m\u001b[38;5;124m\"\u001b[39m)\n\u001b[1;32m      3\u001b[0m sub_graph\u001b[38;5;241m.\u001b[39madd_node( pn\u001b[38;5;241m.\u001b[39matomistic\u001b[38;5;241m.\u001b[39mstructure\u001b[38;5;241m.\u001b[39mtransform\u001b[38;5;241m.\u001b[39mRepeat(), label\u001b[38;5;241m=\u001b[39m\u001b[38;5;124m\"\u001b[39m\u001b[38;5;124mrepeat2\u001b[39m\u001b[38;5;124m\"\u001b[39m)\n\u001b[1;32m      4\u001b[0m sub_graph\u001b[38;5;241m.\u001b[39madd_edge(\u001b[38;5;124m'\u001b[39m\u001b[38;5;124mstructure2\u001b[39m\u001b[38;5;124m'\u001b[39m, \u001b[38;5;124m'\u001b[39m\u001b[38;5;124mrepeat2\u001b[39m\u001b[38;5;124m'\u001b[39m, \u001b[38;5;124m'\u001b[39m\u001b[38;5;124mstructure\u001b[39m\u001b[38;5;124m'\u001b[39m, \u001b[38;5;124m'\u001b[39m\u001b[38;5;124mstructure\u001b[39m\u001b[38;5;124m'\u001b[39m)\n",
      "\u001b[0;31mAttributeError\u001b[0m: 'Graph' object has no attribute 'add_node'"
     ]
    }
   ],
   "source": [
    "sub_graph = Graph(label=\"lammps\")\n",
    "sub_graph.add_node( pn.atomistic.structure.build.Bulk(name='Al'), label=\"structure2\")\n",
    "sub_graph.add_node( pn.atomistic.structure.transform.Repeat(), label=\"repeat2\")\n",
    "sub_graph.add_edge('structure2', 'repeat2', 'structure', 'structure')\n",
    "\n",
    "# TODO: copy the graph to avoid changing the original graph\n",
    "\n",
    "\n",
    "graph = Graph()\n",
    "graph.add_node(pn.atomistic.structure.build.Bulk(name=\"Al\"), label=\"structure\")\n",
    "graph.add_node(pn.atomistic.structure.transform.Repeat(), label=\"repeat\")\n",
    "graph.add_node(macro_graph, label=\"lammps\")\n",
    "graph.add_node(sub_graph, label=\"subgraph\")\n",
    "graph.add_edge(\"structure\", \"repeat\", \"structure\", \"structure\")\n",
    "\n",
    "# TODO: validate consistency of edges!!\n",
    "if True:\n",
    "    graph.add_edge(\"repeat\", \"InitLammps\", \"structure\", \"structure\")\n",
    "else:\n",
    "    graph._mark_node_as_collapsed('lammps')\n",
    "    graph._mark_node_as_collapsed('subgraph')\n",
    "    graph.add_edge(\"repeat\", \"lammps\", \"structure\", \"structure\")\n",
    "    \n",
    "\n",
    "w = graph.display()\n",
    "\n",
    "w\n"
   ]
  },
  {
   "cell_type": "markdown",
   "metadata": {},
   "source": [
    "Strategy:\n",
    "- include all edges (to collapsed and expanded elements)\n",
    "- add to active ones only the appropriate ones\n",
    "\n",
    "Tasks:\n",
    "- translate edge to macro node input into edge to node in macro input"
   ]
  },
  {
   "cell_type": "code",
   "execution_count": null,
   "metadata": {},
   "outputs": [],
   "source": [
    "graph.nodes['lammps'].node.inputs"
   ]
  },
  {
   "cell_type": "markdown",
   "metadata": {},
   "source": [
    "get non-connected input and output ports of all nodes inside the macro"
   ]
  },
  {
   "cell_type": "code",
   "execution_count": null,
   "metadata": {},
   "outputs": [],
   "source": [
    "from pyiron_workflow.wf_graph_tools import get_graph_from_wf\n",
    "\n",
    "get_graph_from_wf(lammps._wf_macro).nodes # List"
   ]
  },
  {
   "cell_type": "code",
   "execution_count": null,
   "metadata": {},
   "outputs": [],
   "source": [
    "get_graph_from_wf(lammps._wf_macro).edges # List"
   ]
  },
  {
   "cell_type": "code",
   "execution_count": null,
   "metadata": {},
   "outputs": [],
   "source": [
    "macro_graph.nodes # OrderedDict"
   ]
  },
  {
   "cell_type": "code",
   "execution_count": null,
   "metadata": {},
   "outputs": [],
   "source": [
    "macro_graph.edges # OrderedDict of GraphEdge type objects! -> small but subtile differences"
   ]
  },
  {
   "cell_type": "code",
   "execution_count": null,
   "metadata": {},
   "outputs": [],
   "source": [
    "macro_graph.display_nodes()"
   ]
  },
  {
   "cell_type": "markdown",
   "metadata": {},
   "source": [
    "macro -> workflow transformation incomplete:\n",
    "- non-connected input is missing\n",
    "- input ports are not included\n",
    "- ports should be converted into virtual nodes, which are connected to their respective nodes\n"
   ]
  },
  {
   "cell_type": "code",
   "execution_count": null,
   "metadata": {},
   "outputs": [],
   "source": [
    "import inspect\n",
    "\n",
    "def print_function_source(func):\n",
    "    source_code = inspect.getsource(func)\n",
    "    print(source_code)\n",
    "\n",
    "# Example usage\n",
    "print_function_source(graph.display)"
   ]
  },
  {
   "cell_type": "code",
   "execution_count": null,
   "metadata": {},
   "outputs": [],
   "source": [
    "from pyiron_workflow import Workflow, as_function_node, as_macro_node, Node\n",
    "from pyiron_nodes.atomistic.engine.lammps import Atoms, Optional, InitLammps, Shell, ParseLogFile, ParseDumpFile, Collect\n",
    "from pyiron_workflow.wf_graph_tools import get_graph_from_wf\n",
    "\n",
    "@as_function_node(\"generic\")\n",
    "def Code(\n",
    "    structure: Atoms,\n",
    "    calculator, # =InputCalcStatic(),  # TODO: Don't use mutable defaults\n",
    "    potential: Optional[str] = None,\n",
    "    working_dir: str = \"test2\",\n",
    "):\n",
    "\n",
    "    from pyiron_workflow import Workflow\n",
    "\n",
    "    print(\"structure: \", structure)\n",
    "\n",
    "    wf = Workflow(\"LammpsMacro\")\n",
    "\n",
    "    # wf.Potential = Potential(structure=structure, name=potential)\n",
    "\n",
    "    # wf.ListPotentials = ListPotentials(structure=structure)\n",
    "\n",
    "   #  wf.calc = Calc(calculator)\n",
    "\n",
    "    wf.InitLammps = InitLammps(\n",
    "        structure=structure,\n",
    "        potential=potential, # wf.Potential,\n",
    "        calculator=calculator,\n",
    "        working_directory=working_dir,\n",
    "    )\n",
    "\n",
    "    wf.Shell = Shell(\n",
    "        # command=ExecutablePathResolver(module=\"lammps\", code=\"lammps\").path(),\n",
    "        working_directory=wf.InitLammps,\n",
    "    )\n",
    "\n",
    "    wf.ParseLogFile = ParseLogFile(log_file=wf.Shell.outputs.log)\n",
    "    wf.ParseDumpFile = ParseDumpFile(dump_file=wf.Shell.outputs.dump)\n",
    "    wf.Collect = Collect(\n",
    "        out_dump=wf.ParseDumpFile.outputs.dump,\n",
    "        out_log=wf.ParseLogFile.outputs.log,\n",
    "        calc_mode=\"md\",  # wf.calc,\n",
    "    )\n",
    "\n",
    "    return wf.Collect\n",
    "\n",
    "@as_function_node(\"lammps\")\n",
    "def identity(x):\n",
    "    return x\n",
    "\n",
    "\n",
    "\n",
    "\n",
    "#inp_port_structure = Node(label=\"inp_port_structure\", )\n",
    "out = Code()._run()\n",
    "\n",
    "wft = out._workflow"
   ]
  },
  {
   "cell_type": "code",
   "execution_count": null,
   "metadata": {},
   "outputs": [],
   "source": [
    "lammps = pn.atomistic.engine.lammps.Code(label=\"lammps\") \n",
    "lammps\n",
    "# base.get_graph_from_macro(lammps)"
   ]
  },
  {
   "cell_type": "code",
   "execution_count": null,
   "metadata": {},
   "outputs": [],
   "source": [
    "lammps."
   ]
  },
  {
   "cell_type": "code",
   "execution_count": null,
   "metadata": {},
   "outputs": [],
   "source": [
    "base.get_graph_from_wf(wft).edges"
   ]
  },
  {
   "cell_type": "code",
   "execution_count": null,
   "metadata": {},
   "outputs": [],
   "source": [
    "# could be easily extended to go over all open ports of the subnodes\n",
    "kwargs = {}\n",
    "for inp in Code().inputs.data['label']:\n",
    "    inp_port_label = f\"inp_port_{inp}\"\n",
    "    kwargs[inp] = identity(inp_port_label, label=inp_port_label)\n",
    "\n",
    "out = Code(**kwargs)._run()\n",
    "base.get_graph_from_wf(out._workflow).edges"
   ]
  },
  {
   "cell_type": "code",
   "execution_count": null,
   "metadata": {},
   "outputs": [],
   "source": [
    "wf_graph = base.get_graph_from_wf(out._workflow)\n",
    "base.GuiGraph(wf_graph)"
   ]
  },
  {
   "cell_type": "code",
   "execution_count": null,
   "metadata": {},
   "outputs": [],
   "source": [
    "out._workflow._nodes"
   ]
  },
  {
   "cell_type": "code",
   "execution_count": null,
   "metadata": {},
   "outputs": [],
   "source": [
    "out._workflow._edges"
   ]
  },
  {
   "cell_type": "code",
   "execution_count": null,
   "metadata": {},
   "outputs": [],
   "source": [
    "# transfer macro to subnode ports"
   ]
  },
  {
   "cell_type": "code",
   "execution_count": null,
   "metadata": {},
   "outputs": [],
   "source": [
    "get_graph_from_wf(wft).nodes  # straightforward approach to get the missing edges between input port and subnode inputs!\n",
    "# we only lack the sub node inputs that have no default parameters, this is ok (would be easy to get them)"
   ]
  },
  {
   "cell_type": "code",
   "execution_count": null,
   "metadata": {},
   "outputs": [],
   "source": [
    "wft.add_node(label=\"inp_structure\", node=inp_structure)\n",
    "\n",
    "\n",
    "# wft.add_edge(\"inp_structure\", \"InitLammps\", \"structure\", \"structure\")"
   ]
  },
  {
   "cell_type": "code",
   "execution_count": null,
   "metadata": {},
   "outputs": [],
   "source": [
    "wft.child_labels"
   ]
  },
  {
   "cell_type": "code",
   "execution_count": null,
   "metadata": {},
   "outputs": [],
   "source": [
    "wft._nodes"
   ]
  },
  {
   "cell_type": "code",
   "execution_count": null,
   "metadata": {},
   "outputs": [],
   "source": [
    "out._workflow._edges"
   ]
  },
  {
   "cell_type": "code",
   "execution_count": null,
   "metadata": {},
   "outputs": [],
   "source": [
    "graph.nodes['lammps'].graph.nodes[\"InitLammps\"].node.inputs"
   ]
  },
  {
   "cell_type": "code",
   "execution_count": null,
   "metadata": {},
   "outputs": [],
   "source": [
    "for key, node in graph.nodes['lammps'].graph.nodes.items():\n",
    "    print(key, node.node.inputs)"
   ]
  },
  {
   "cell_type": "code",
   "execution_count": null,
   "metadata": {},
   "outputs": [],
   "source": [
    "graph.nodes['lammps'].graph.nodes.keys()"
   ]
  },
  {
   "cell_type": "code",
   "execution_count": null,
   "metadata": {},
   "outputs": [],
   "source": [
    "\n",
    "graph.display_nodes()"
   ]
  },
  {
   "cell_type": "code",
   "execution_count": null,
   "metadata": {},
   "outputs": [],
   "source": [
    "graph.display_active_nodes()"
   ]
  },
  {
   "cell_type": "code",
   "execution_count": null,
   "metadata": {},
   "outputs": [],
   "source": [
    "graph.display_gui_data()"
   ]
  },
  {
   "cell_type": "code",
   "execution_count": null,
   "metadata": {},
   "outputs": [],
   "source": [
    "graph.display_edges()"
   ]
  },
  {
   "cell_type": "code",
   "execution_count": null,
   "metadata": {},
   "outputs": [],
   "source": [
    "graph.display_active_edges()"
   ]
  },
  {
   "cell_type": "code",
   "execution_count": null,
   "metadata": {},
   "outputs": [],
   "source": [
    "graph._edges_to_gui()"
   ]
  },
  {
   "cell_type": "code",
   "execution_count": null,
   "metadata": {},
   "outputs": [],
   "source": []
  }
 ],
 "metadata": {
  "kernelspec": {
   "display_name": "Python 3 (ipykernel)",
   "language": "python",
   "name": "python3"
  },
  "language_info": {
   "codemirror_mode": {
    "name": "ipython",
    "version": 3
   },
   "file_extension": ".py",
   "mimetype": "text/x-python",
   "name": "python",
   "nbconvert_exporter": "python",
   "pygments_lexer": "ipython3",
   "version": "3.12.4"
  }
 },
 "nbformat": 4,
 "nbformat_minor": 4
}
