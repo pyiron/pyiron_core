{
 "cells": [
  {
   "cell_type": "markdown",
   "id": "e685173d-686c-489a-bbb4-eedef29fbba3",
   "metadata": {},
   "source": [
    "# PyironFlow demo"
   ]
  },
  {
   "cell_type": "markdown",
   "id": "a9e6595e-22fa-4640-aa01-755e4d16c717",
   "metadata": {},
   "source": "PyironFlow provides a visual programming environment to implement and execute workflows. It uses _pyiron_core.pyiron_workflows_ as workflow language. The graphical interface is based on the js library _xyflow_ in combination with the ipywidgets library. A workflow consists of function nodes defined as pure Python functions. Input and output of these functions can be connected to input and output channels of other nodes via edges. Examples of nodes can be found in the _pyiron_nodes_ library."
  },
  {
   "cell_type": "markdown",
   "id": "e10399f6-5f0c-426c-9dfc-8ecc2fc59354",
   "metadata": {},
   "source": [
    "For developers only: Uncomment the following line if you have edited the .js files. Make sure that the installation is in the same directory as the js/ directory! Note that that anywidget works only with react18, not with the latest react version 19."
   ]
  },
  {
   "cell_type": "code",
   "execution_count": 1,
   "id": "844611fc",
   "metadata": {},
   "outputs": [],
   "source": [
    "# if necessary clean cache etc.\n",
    "# !npm cache clean --force\n",
    "# !rm -rf node_modules package-lock.json"
   ]
  },
  {
   "cell_type": "code",
   "execution_count": 2,
   "id": "6f850cc8",
   "metadata": {},
   "outputs": [],
   "source": [
    "# !cd .. && npm install react@18 react-dom@18 @xyflow/react @anywidget/react elkjs\n"
   ]
  },
  {
   "cell_type": "code",
   "execution_count": 3,
   "id": "8d176d8e-bcd2-49e6-b9ae-653a35fb3797",
   "metadata": {},
   "outputs": [],
   "source": [
    "#!npm install @dagrejs/dagre\n",
    "#!npm install file-saver"
   ]
  },
  {
   "cell_type": "code",
   "execution_count": 1,
   "id": "6b50621c-5611-4869-a758-1404ec9ea67a",
   "metadata": {},
   "outputs": [
    {
     "name": "stdout",
     "output_type": "stream",
     "text": [
      "\u001b[1G\u001b[0K⠙\u001b[1G\u001b[0K⠹\u001b[1G\u001b[0K⠸\u001b[1G\u001b[0K⠼\u001b[1G\u001b[0K\u001b[1G\u001b[0JNeed to install the following packages:\n",
      "esbuild@0.25.2\n",
      "Ok to proceed? (y) \u001b[20G\n",
      "\u001b[1G\u001b[0K⠙\u001b[1G\u001b[0K\u001b[1mnpm\u001b[22m \u001b[31merror\u001b[39m canceled\n",
      "\u001b[1G\u001b[0K⠙\u001b[1G\u001b[0K\u001b[1mnpm\u001b[22m \u001b[31merror\u001b[39m A complete log of this run can be found in: /Users/joerg/.npm/_logs/2025-04-10T19_25_41_110Z-debug-0.log\n",
      "\u001b[1G\u001b[0K⠙\u001b[1G\u001b[0K"
     ]
    }
   ],
   "source": [
    "!npx esbuild ../js/widget.jsx --minify --format=esm --bundle --outdir=../static"
   ]
  },
  {
   "cell_type": "code",
   "execution_count": 2,
   "id": "ce270c12-c005-48be-b93c-e56f1ceeab7d",
   "metadata": {},
   "outputs": [],
   "source": [
    "import warnings\n",
    "\n",
    "warnings.filterwarnings(\"ignore\")"
   ]
  },
  {
   "cell_type": "code",
   "execution_count": 3,
   "id": "3be83a1e-f2b0-4d54-91b2-34b39a903c65",
   "metadata": {},
   "outputs": [],
   "source": [
    "%config IPCompleter.evaluation='unsafe'"
   ]
  },
  {
   "cell_type": "code",
   "execution_count": 4,
   "id": "a18a4ed1",
   "metadata": {},
   "outputs": [
    {
     "data": {
      "text/plain": [
       "['/Users/joerg/git_libs/pyiron_core',\n",
       " '/Users/joerg/git_libs/pyiron_nodes',\n",
       " '/Users/joerg/git_libs/pyiron_workflow',\n",
       " '/Users/joerg/git_libs/ironflow',\n",
       " '/Users/joerg/git_libs/pyiron_core/notebooks',\n",
       " '/Users/joerg/miniforge3/envs/py12/lib/python312.zip',\n",
       " '/Users/joerg/miniforge3/envs/py12/lib/python3.12',\n",
       " '/Users/joerg/miniforge3/envs/py12/lib/python3.12/lib-dynload',\n",
       " '',\n",
       " '/Users/joerg/miniforge3/envs/py12/lib/python3.12/site-packages']"
      ]
     },
     "execution_count": 4,
     "metadata": {},
     "output_type": "execute_result"
    }
   ],
   "source": [
    "import sys\n",
    "\n",
    "# sys.path.remove('/Users/joerg/git_libs/pyiron_nodes')\n",
    "sys.path.insert(0, '/Users/joerg/git_libs/pyiron_core')\n",
    "sys.path"
   ]
  },
  {
   "cell_type": "code",
   "execution_count": null,
   "id": "e4e1fdc97549bf37",
   "metadata": {},
   "outputs": [],
   "source": [
    "# import pyiron_core.pyiron_nodes as pyiron_nodes\n",
    "# import pyiron_core.pyiron_nodes.atomistic"
   ]
  },
  {
   "cell_type": "code",
   "execution_count": null,
   "id": "9899219c6c3610ad",
   "metadata": {},
   "outputs": [],
   "source": [
    "import logging\n",
    "\n",
    "logging.getLogger().setLevel(logging.WARNING)"
   ]
  },
  {
   "cell_type": "markdown",
   "id": "4b1c2477-131a-4c49-a807-baf7b086a619",
   "metadata": {},
   "source": [
    "## Generic example"
   ]
  },
  {
   "cell_type": "markdown",
   "id": "8d374905-5b28-4845-b84b-ed7d42fa8aa1",
   "metadata": {},
   "source": "The following example shows how to define nodes (functions) and how to connect them to construct a workflow. More details on how to construct nodes and workflows can be found in the documentation of _pyiron_core.pyiron_workflows_."
  },
  {
   "cell_type": "code",
   "execution_count": 7,
   "id": "b3ac0390-9d9d-4d5a-b1dc-5ed7313038ac",
   "metadata": {},
   "outputs": [],
   "source": [
    "# import sys\n",
    "# from pathlib import Path\n",
    "# sys.path.remove('/Users/joerg/python_projects/git_libs/pyiron_core.pyiron_workflow')\n",
    "# sys.path.insert(0, '/Users/joerg/python_projects/git_libs/pyiron-xyflow')\n",
    "# sys.path"
   ]
  },
  {
   "cell_type": "code",
   "execution_count": 8,
   "id": "9665d26a-e131-42b6-8627-270cb38bb8f3",
   "metadata": {},
   "outputs": [],
   "source": [
    "from pyiron_core.pyiron_workflow import Node, Workflow, as_function_node, as_macro_node\n",
    "from pyiron_core.pyironflow import PyironFlow"
   ]
  },
  {
   "cell_type": "code",
   "execution_count": 9,
   "id": "cdd584fb-020f-4704-b13f-c47d0db2ed75",
   "metadata": {},
   "outputs": [],
   "source": [
    "# from pyiron_core.pyiron_nodes.atomistic.property.elastic import OutputElasticAnalysis"
   ]
  },
  {
   "cell_type": "code",
   "execution_count": 10,
   "id": "61b9f6dd-af6a-4394-95a2-1b8aa51f252c",
   "metadata": {},
   "outputs": [],
   "source": [
    "import numpy as np\n",
    "\n",
    "\n",
    "@as_function_node\n",
    "def linspace(x_min: int = 0, x_max: float = 2 * np.pi, n: int = 50):\n",
    "\n",
    "    vec = np.linspace(x_min, x_max, n)\n",
    "    return vec\n",
    "\n",
    "@as_function_node(labels=['vec'])\n",
    "def sin(x):\n",
    "    import numpy as np\n",
    "    \n",
    "    vec = np.sin(x)\n",
    "    return vec\n",
    "\n",
    "@as_function_node('plot')\n",
    "def plot(x, y):\n",
    "    import matplotlib.pylab as plt\n",
    "    \n",
    "    plt.plot(x, y)\n",
    "    return plt.show()\n",
    "\n",
    "@as_macro_node(labels='structure')\n",
    "def bulk_macro(element: str, cell_size: int = 1, vacancy_index: int = 0):\n",
    "    from pyiron_core.pyiron_nodes.atomistic.structure.build import Bulk\n",
    "    from pyiron_core.pyiron_nodes.atomistic.structure.transform import (\n",
    "        CreateVacancy,\n",
    "        Repeat,\n",
    "    )\n",
    "\n",
    "    wf = Workflow('bulk_macro')\n",
    "    wf.bulk = Bulk(name=element, cubic=True)\n",
    "    wf.cell = Repeat(structure=wf.bulk, repeat_scalar=cell_size)\n",
    "\n",
    "    wf.structure = CreateVacancy(structure=wf.cell, index=vacancy_index)\n",
    "    return wf.structure"
   ]
  },
  {
   "cell_type": "code",
   "execution_count": null,
   "id": "118789e5-2f8a-478c-88b3-477fab3a57dc",
   "metadata": {},
   "outputs": [],
   "source": []
  },
  {
   "cell_type": "code",
   "execution_count": 11,
   "id": "56d6bd54",
   "metadata": {},
   "outputs": [
    {
     "data": {
      "application/vnd.jupyter.widget-view+json": {
       "model_id": "bdeb47aa1747445ea715b87dd9668a65",
       "version_major": 2,
       "version_minor": 0
      },
      "text/plain": []
     },
     "metadata": {},
     "output_type": "display_data"
    },
    {
     "data": {
      "text/html": [
       "<div>\n",
       "<style scoped>\n",
       "    .dataframe tbody tr th:only-of-type {\n",
       "        vertical-align: middle;\n",
       "    }\n",
       "\n",
       "    .dataframe tbody tr th {\n",
       "        vertical-align: top;\n",
       "    }\n",
       "\n",
       "    .dataframe thead th {\n",
       "        text-align: right;\n",
       "    }\n",
       "</style>\n",
       "<table border=\"1\" class=\"dataframe\">\n",
       "  <thead>\n",
       "    <tr style=\"text-align: right;\">\n",
       "      <th></th>\n",
       "      <th>label</th>\n",
       "      <th>type</th>\n",
       "      <th>default</th>\n",
       "      <th>ready</th>\n",
       "      <th>value</th>\n",
       "      <th>node</th>\n",
       "    </tr>\n",
       "  </thead>\n",
       "  <tbody>\n",
       "    <tr>\n",
       "      <th>0</th>\n",
       "      <td>element</td>\n",
       "      <td>str</td>\n",
       "      <td>NotData</td>\n",
       "      <td>False</td>\n",
       "      <td>NotData</td>\n",
       "      <td>&lt;pyiron_workflow.simple_workflow.Node object a...</td>\n",
       "    </tr>\n",
       "    <tr>\n",
       "      <th>1</th>\n",
       "      <td>cell_size</td>\n",
       "      <td>int</td>\n",
       "      <td>1</td>\n",
       "      <td>True</td>\n",
       "      <td>1</td>\n",
       "      <td>&lt;pyiron_workflow.simple_workflow.Node object a...</td>\n",
       "    </tr>\n",
       "    <tr>\n",
       "      <th>2</th>\n",
       "      <td>vacancy_index</td>\n",
       "      <td>int</td>\n",
       "      <td>0</td>\n",
       "      <td>True</td>\n",
       "      <td>0</td>\n",
       "      <td>&lt;pyiron_workflow.simple_workflow.Node object a...</td>\n",
       "    </tr>\n",
       "  </tbody>\n",
       "</table>\n",
       "</div>"
      ],
      "text/plain": [
       "{'label': ['element', 'cell_size', 'vacancy_index'], 'type': ['str', 'int', 'int'], 'default': ['NotData', 1, 0], 'ready': [False, True, True], 'value': ['NotData', 1, 0], 'node': [<pyiron_workflow.simple_workflow.Node object at 0x1511bc470>, <pyiron_workflow.simple_workflow.Node object at 0x1511bc470>, <pyiron_workflow.simple_workflow.Node object at 0x1511bc470>]}"
      ]
     },
     "execution_count": 11,
     "metadata": {},
     "output_type": "execute_result"
    }
   ],
   "source": [
    "macro = bulk_macro() #element='Al')\n",
    "macro.inputs\n"
   ]
  },
  {
   "cell_type": "code",
   "execution_count": 12,
   "id": "216768cd",
   "metadata": {},
   "outputs": [
    {
     "data": {
      "text/html": [
       "<div>\n",
       "<style scoped>\n",
       "    .dataframe tbody tr th:only-of-type {\n",
       "        vertical-align: middle;\n",
       "    }\n",
       "\n",
       "    .dataframe tbody tr th {\n",
       "        vertical-align: top;\n",
       "    }\n",
       "\n",
       "    .dataframe thead th {\n",
       "        text-align: right;\n",
       "    }\n",
       "</style>\n",
       "<table border=\"1\" class=\"dataframe\">\n",
       "  <thead>\n",
       "    <tr style=\"text-align: right;\">\n",
       "      <th></th>\n",
       "      <th>label</th>\n",
       "      <th>type</th>\n",
       "      <th>default</th>\n",
       "      <th>ready</th>\n",
       "      <th>value</th>\n",
       "      <th>node</th>\n",
       "    </tr>\n",
       "  </thead>\n",
       "  <tbody>\n",
       "    <tr>\n",
       "      <th>0</th>\n",
       "      <td>name</td>\n",
       "      <td>str</td>\n",
       "      <td>NotData</td>\n",
       "      <td>False</td>\n",
       "      <td>NotData</td>\n",
       "      <td>&lt;pyiron_workflow.simple_workflow.Node object a...</td>\n",
       "    </tr>\n",
       "    <tr>\n",
       "      <th>1</th>\n",
       "      <td>crystalstructure</td>\n",
       "      <td>str</td>\n",
       "      <td>None</td>\n",
       "      <td>True</td>\n",
       "      <td>None</td>\n",
       "      <td>&lt;pyiron_workflow.simple_workflow.Node object a...</td>\n",
       "    </tr>\n",
       "    <tr>\n",
       "      <th>2</th>\n",
       "      <td>a</td>\n",
       "      <td>float</td>\n",
       "      <td>None</td>\n",
       "      <td>True</td>\n",
       "      <td>None</td>\n",
       "      <td>&lt;pyiron_workflow.simple_workflow.Node object a...</td>\n",
       "    </tr>\n",
       "    <tr>\n",
       "      <th>3</th>\n",
       "      <td>c</td>\n",
       "      <td>float</td>\n",
       "      <td>None</td>\n",
       "      <td>True</td>\n",
       "      <td>None</td>\n",
       "      <td>&lt;pyiron_workflow.simple_workflow.Node object a...</td>\n",
       "    </tr>\n",
       "    <tr>\n",
       "      <th>4</th>\n",
       "      <td>c_over_a</td>\n",
       "      <td>int</td>\n",
       "      <td>None</td>\n",
       "      <td>True</td>\n",
       "      <td>None</td>\n",
       "      <td>&lt;pyiron_workflow.simple_workflow.Node object a...</td>\n",
       "    </tr>\n",
       "    <tr>\n",
       "      <th>5</th>\n",
       "      <td>u</td>\n",
       "      <td>float</td>\n",
       "      <td>None</td>\n",
       "      <td>True</td>\n",
       "      <td>None</td>\n",
       "      <td>&lt;pyiron_workflow.simple_workflow.Node object a...</td>\n",
       "    </tr>\n",
       "    <tr>\n",
       "      <th>6</th>\n",
       "      <td>orthorhombic</td>\n",
       "      <td>bool</td>\n",
       "      <td>False</td>\n",
       "      <td>True</td>\n",
       "      <td>False</td>\n",
       "      <td>&lt;pyiron_workflow.simple_workflow.Node object a...</td>\n",
       "    </tr>\n",
       "    <tr>\n",
       "      <th>7</th>\n",
       "      <td>cubic</td>\n",
       "      <td>bool</td>\n",
       "      <td>False</td>\n",
       "      <td>True</td>\n",
       "      <td>True</td>\n",
       "      <td>&lt;pyiron_workflow.simple_workflow.Node object a...</td>\n",
       "    </tr>\n",
       "  </tbody>\n",
       "</table>\n",
       "</div>"
      ],
      "text/plain": [
       "{'label': ['name', 'crystalstructure', 'a', 'c', 'c_over_a', 'u', 'orthorhombic', 'cubic'], 'type': ['str', 'str', 'float', 'float', 'int', 'float', 'bool', 'bool'], 'default': ['NotData', None, None, None, None, None, False, False], 'ready': [False, True, True, True, True, True, True, True], 'value': ['NotData', None, None, None, None, None, False, True], 'node': [<pyiron_workflow.simple_workflow.Node object at 0x1188fdca0>, <pyiron_workflow.simple_workflow.Node object at 0x1188fdca0>, <pyiron_workflow.simple_workflow.Node object at 0x1188fdca0>, <pyiron_workflow.simple_workflow.Node object at 0x1188fdca0>, <pyiron_workflow.simple_workflow.Node object at 0x1188fdca0>, <pyiron_workflow.simple_workflow.Node object at 0x1188fdca0>, <pyiron_workflow.simple_workflow.Node object at 0x1188fdca0>, <pyiron_workflow.simple_workflow.Node object at 0x1188fdca0>]}"
      ]
     },
     "execution_count": 12,
     "metadata": {},
     "output_type": "execute_result"
    }
   ],
   "source": [
    "macro._wf_macro.bulk.inputs"
   ]
  },
  {
   "cell_type": "code",
   "execution_count": null,
   "id": "c7b058a0",
   "metadata": {},
   "outputs": [],
   "source": []
  },
  {
   "cell_type": "code",
   "execution_count": 13,
   "id": "13c5dcee",
   "metadata": {},
   "outputs": [
    {
     "data": {
      "text/plain": [
       "{'label': 'bulk_macro',\n",
       " 'function': '__main__.bulk_macro',\n",
       " 'inputs': {'element': 'NotData'}}"
      ]
     },
     "execution_count": 13,
     "metadata": {},
     "output_type": "execute_result"
    }
   ],
   "source": [
    "node_dict = macro.to_dict()\n",
    "node_dict"
   ]
  },
  {
   "cell_type": "code",
   "execution_count": 14,
   "id": "32b8cdec",
   "metadata": {},
   "outputs": [
    {
     "data": {
      "text/html": [
       "<div>\n",
       "<style scoped>\n",
       "    .dataframe tbody tr th:only-of-type {\n",
       "        vertical-align: middle;\n",
       "    }\n",
       "\n",
       "    .dataframe tbody tr th {\n",
       "        vertical-align: top;\n",
       "    }\n",
       "\n",
       "    .dataframe thead th {\n",
       "        text-align: right;\n",
       "    }\n",
       "</style>\n",
       "<table border=\"1\" class=\"dataframe\">\n",
       "  <thead>\n",
       "    <tr style=\"text-align: right;\">\n",
       "      <th></th>\n",
       "      <th>label</th>\n",
       "      <th>type</th>\n",
       "      <th>default</th>\n",
       "      <th>ready</th>\n",
       "      <th>value</th>\n",
       "      <th>node</th>\n",
       "    </tr>\n",
       "  </thead>\n",
       "  <tbody>\n",
       "    <tr>\n",
       "      <th>0</th>\n",
       "      <td>name</td>\n",
       "      <td>str</td>\n",
       "      <td>NotData</td>\n",
       "      <td>False</td>\n",
       "      <td>NotData</td>\n",
       "      <td>&lt;pyiron_workflow.simple_workflow.Node object a...</td>\n",
       "    </tr>\n",
       "    <tr>\n",
       "      <th>1</th>\n",
       "      <td>crystalstructure</td>\n",
       "      <td>str</td>\n",
       "      <td>None</td>\n",
       "      <td>True</td>\n",
       "      <td>None</td>\n",
       "      <td>&lt;pyiron_workflow.simple_workflow.Node object a...</td>\n",
       "    </tr>\n",
       "    <tr>\n",
       "      <th>2</th>\n",
       "      <td>a</td>\n",
       "      <td>float</td>\n",
       "      <td>None</td>\n",
       "      <td>True</td>\n",
       "      <td>None</td>\n",
       "      <td>&lt;pyiron_workflow.simple_workflow.Node object a...</td>\n",
       "    </tr>\n",
       "    <tr>\n",
       "      <th>3</th>\n",
       "      <td>c</td>\n",
       "      <td>float</td>\n",
       "      <td>None</td>\n",
       "      <td>True</td>\n",
       "      <td>None</td>\n",
       "      <td>&lt;pyiron_workflow.simple_workflow.Node object a...</td>\n",
       "    </tr>\n",
       "    <tr>\n",
       "      <th>4</th>\n",
       "      <td>c_over_a</td>\n",
       "      <td>int</td>\n",
       "      <td>None</td>\n",
       "      <td>True</td>\n",
       "      <td>None</td>\n",
       "      <td>&lt;pyiron_workflow.simple_workflow.Node object a...</td>\n",
       "    </tr>\n",
       "    <tr>\n",
       "      <th>5</th>\n",
       "      <td>u</td>\n",
       "      <td>float</td>\n",
       "      <td>None</td>\n",
       "      <td>True</td>\n",
       "      <td>None</td>\n",
       "      <td>&lt;pyiron_workflow.simple_workflow.Node object a...</td>\n",
       "    </tr>\n",
       "    <tr>\n",
       "      <th>6</th>\n",
       "      <td>orthorhombic</td>\n",
       "      <td>bool</td>\n",
       "      <td>False</td>\n",
       "      <td>True</td>\n",
       "      <td>False</td>\n",
       "      <td>&lt;pyiron_workflow.simple_workflow.Node object a...</td>\n",
       "    </tr>\n",
       "    <tr>\n",
       "      <th>7</th>\n",
       "      <td>cubic</td>\n",
       "      <td>bool</td>\n",
       "      <td>False</td>\n",
       "      <td>True</td>\n",
       "      <td>True</td>\n",
       "      <td>&lt;pyiron_workflow.simple_workflow.Node object a...</td>\n",
       "    </tr>\n",
       "  </tbody>\n",
       "</table>\n",
       "</div>"
      ],
      "text/plain": [
       "{'label': ['name', 'crystalstructure', 'a', 'c', 'c_over_a', 'u', 'orthorhombic', 'cubic'], 'type': ['str', 'str', 'float', 'float', 'int', 'float', 'bool', 'bool'], 'default': ['NotData', None, None, None, None, None, False, False], 'ready': [False, True, True, True, True, True, True, True], 'value': ['NotData', None, None, None, None, None, False, True], 'node': [<pyiron_workflow.simple_workflow.Node object at 0x157cc6d20>, <pyiron_workflow.simple_workflow.Node object at 0x157cc6d20>, <pyiron_workflow.simple_workflow.Node object at 0x157cc6d20>, <pyiron_workflow.simple_workflow.Node object at 0x157cc6d20>, <pyiron_workflow.simple_workflow.Node object at 0x157cc6d20>, <pyiron_workflow.simple_workflow.Node object at 0x157cc6d20>, <pyiron_workflow.simple_workflow.Node object at 0x157cc6d20>, <pyiron_workflow.simple_workflow.Node object at 0x157cc6d20>]}"
      ]
     },
     "execution_count": 14,
     "metadata": {},
     "output_type": "execute_result"
    }
   ],
   "source": [
    "node = Node.from_dict(node_dict)\n",
    "node._wf_macro.bulk.inputs"
   ]
  },
  {
   "cell_type": "code",
   "execution_count": 15,
   "id": "c697db8d",
   "metadata": {},
   "outputs": [
    {
     "data": {
      "text/html": [
       "<div>\n",
       "<style scoped>\n",
       "    .dataframe tbody tr th:only-of-type {\n",
       "        vertical-align: middle;\n",
       "    }\n",
       "\n",
       "    .dataframe tbody tr th {\n",
       "        vertical-align: top;\n",
       "    }\n",
       "\n",
       "    .dataframe thead th {\n",
       "        text-align: right;\n",
       "    }\n",
       "</style>\n",
       "<table border=\"1\" class=\"dataframe\">\n",
       "  <thead>\n",
       "    <tr style=\"text-align: right;\">\n",
       "      <th></th>\n",
       "      <th>label</th>\n",
       "      <th>type</th>\n",
       "      <th>default</th>\n",
       "      <th>ready</th>\n",
       "      <th>value</th>\n",
       "      <th>node</th>\n",
       "    </tr>\n",
       "  </thead>\n",
       "  <tbody>\n",
       "    <tr>\n",
       "      <th>0</th>\n",
       "      <td>name</td>\n",
       "      <td>str</td>\n",
       "      <td>NotData</td>\n",
       "      <td>True</td>\n",
       "      <td>Al</td>\n",
       "      <td>&lt;pyiron_workflow.simple_workflow.Node object a...</td>\n",
       "    </tr>\n",
       "    <tr>\n",
       "      <th>1</th>\n",
       "      <td>crystalstructure</td>\n",
       "      <td>str</td>\n",
       "      <td>None</td>\n",
       "      <td>True</td>\n",
       "      <td>None</td>\n",
       "      <td>&lt;pyiron_workflow.simple_workflow.Node object a...</td>\n",
       "    </tr>\n",
       "    <tr>\n",
       "      <th>2</th>\n",
       "      <td>a</td>\n",
       "      <td>float</td>\n",
       "      <td>None</td>\n",
       "      <td>True</td>\n",
       "      <td>None</td>\n",
       "      <td>&lt;pyiron_workflow.simple_workflow.Node object a...</td>\n",
       "    </tr>\n",
       "    <tr>\n",
       "      <th>3</th>\n",
       "      <td>c</td>\n",
       "      <td>float</td>\n",
       "      <td>None</td>\n",
       "      <td>True</td>\n",
       "      <td>None</td>\n",
       "      <td>&lt;pyiron_workflow.simple_workflow.Node object a...</td>\n",
       "    </tr>\n",
       "    <tr>\n",
       "      <th>4</th>\n",
       "      <td>c_over_a</td>\n",
       "      <td>int</td>\n",
       "      <td>None</td>\n",
       "      <td>True</td>\n",
       "      <td>None</td>\n",
       "      <td>&lt;pyiron_workflow.simple_workflow.Node object a...</td>\n",
       "    </tr>\n",
       "    <tr>\n",
       "      <th>5</th>\n",
       "      <td>u</td>\n",
       "      <td>float</td>\n",
       "      <td>None</td>\n",
       "      <td>True</td>\n",
       "      <td>None</td>\n",
       "      <td>&lt;pyiron_workflow.simple_workflow.Node object a...</td>\n",
       "    </tr>\n",
       "    <tr>\n",
       "      <th>6</th>\n",
       "      <td>orthorhombic</td>\n",
       "      <td>bool</td>\n",
       "      <td>False</td>\n",
       "      <td>True</td>\n",
       "      <td>False</td>\n",
       "      <td>&lt;pyiron_workflow.simple_workflow.Node object a...</td>\n",
       "    </tr>\n",
       "    <tr>\n",
       "      <th>7</th>\n",
       "      <td>cubic</td>\n",
       "      <td>bool</td>\n",
       "      <td>False</td>\n",
       "      <td>True</td>\n",
       "      <td>True</td>\n",
       "      <td>&lt;pyiron_workflow.simple_workflow.Node object a...</td>\n",
       "    </tr>\n",
       "  </tbody>\n",
       "</table>\n",
       "</div>"
      ],
      "text/plain": [
       "{'label': ['name', 'crystalstructure', 'a', 'c', 'c_over_a', 'u', 'orthorhombic', 'cubic'], 'type': ['str', 'str', 'float', 'float', 'int', 'float', 'bool', 'bool'], 'default': ['NotData', None, None, None, None, None, False, False], 'ready': [True, True, True, True, True, True, True, True], 'value': ['Al', None, None, None, None, None, False, True], 'node': [<pyiron_workflow.simple_workflow.Node object at 0x143c87fb0>, <pyiron_workflow.simple_workflow.Node object at 0x143c87fb0>, <pyiron_workflow.simple_workflow.Node object at 0x143c87fb0>, <pyiron_workflow.simple_workflow.Node object at 0x143c87fb0>, <pyiron_workflow.simple_workflow.Node object at 0x143c87fb0>, <pyiron_workflow.simple_workflow.Node object at 0x143c87fb0>, <pyiron_workflow.simple_workflow.Node object at 0x143c87fb0>, <pyiron_workflow.simple_workflow.Node object at 0x143c87fb0>]}"
      ]
     },
     "execution_count": 15,
     "metadata": {},
     "output_type": "execute_result"
    }
   ],
   "source": [
    "macro = bulk_macro('Al', cell_size=3, vacancy_index=0)\n",
    "# macro.run() # .plot3d()\n",
    "macro._wf_macro.bulk.inputs"
   ]
  },
  {
   "cell_type": "code",
   "execution_count": 16,
   "id": "fc2652a7-a832-4763-b67f-401a8bf66326",
   "metadata": {},
   "outputs": [],
   "source": [
    "from pyiron_core.pyiron_nodes.atomistic.structure.view import Plot3d\n",
    "\n",
    "wf = Workflow('simple_workflow')\n",
    "# wf.linspace = linspace(n=100)\n",
    "# wf.sin = sin(x=wf.linspace)\n",
    "# wf.plot = plot(x=wf.linspace, y=wf.sin)\n",
    "\n",
    "wf.bulk_macro = bulk_macro(element='Al', cell_size=1, vacancy_index=0)\n",
    "wf.plot3d = Plot3d(structure=wf.bulk_macro)\n",
    "\n",
    "# wf.run()"
   ]
  },
  {
   "cell_type": "code",
   "execution_count": 17,
   "id": "14f54889-23d2-4d69-9796-ff825aaff645",
   "metadata": {},
   "outputs": [
    {
     "data": {
      "text/html": [
       "<div>\n",
       "<style scoped>\n",
       "    .dataframe tbody tr th:only-of-type {\n",
       "        vertical-align: middle;\n",
       "    }\n",
       "\n",
       "    .dataframe tbody tr th {\n",
       "        vertical-align: top;\n",
       "    }\n",
       "\n",
       "    .dataframe thead th {\n",
       "        text-align: right;\n",
       "    }\n",
       "</style>\n",
       "<table border=\"1\" class=\"dataframe\">\n",
       "  <thead>\n",
       "    <tr style=\"text-align: right;\">\n",
       "      <th></th>\n",
       "      <th>label</th>\n",
       "      <th>type</th>\n",
       "      <th>default</th>\n",
       "      <th>ready</th>\n",
       "      <th>value</th>\n",
       "      <th>node</th>\n",
       "    </tr>\n",
       "  </thead>\n",
       "  <tbody>\n",
       "    <tr>\n",
       "      <th>0</th>\n",
       "      <td>structure</td>\n",
       "      <td>NonPrimitive</td>\n",
       "      <td>NotData</td>\n",
       "      <td>True</td>\n",
       "      <td>&lt;pyiron_workflow.simple_workflow.Node object a...</td>\n",
       "      <td>&lt;pyiron_workflow.simple_workflow.Node object a...</td>\n",
       "    </tr>\n",
       "    <tr>\n",
       "      <th>1</th>\n",
       "      <td>camera</td>\n",
       "      <td>str</td>\n",
       "      <td>orthographic</td>\n",
       "      <td>True</td>\n",
       "      <td>orthographic</td>\n",
       "      <td>&lt;pyiron_workflow.simple_workflow.Node object a...</td>\n",
       "    </tr>\n",
       "    <tr>\n",
       "      <th>2</th>\n",
       "      <td>particle_size</td>\n",
       "      <td>float</td>\n",
       "      <td>1.0</td>\n",
       "      <td>True</td>\n",
       "      <td>1.0</td>\n",
       "      <td>&lt;pyiron_workflow.simple_workflow.Node object a...</td>\n",
       "    </tr>\n",
       "    <tr>\n",
       "      <th>3</th>\n",
       "      <td>select_atoms</td>\n",
       "      <td>NonPrimitive</td>\n",
       "      <td>None</td>\n",
       "      <td>True</td>\n",
       "      <td>None</td>\n",
       "      <td>&lt;pyiron_workflow.simple_workflow.Node object a...</td>\n",
       "    </tr>\n",
       "    <tr>\n",
       "      <th>4</th>\n",
       "      <td>view_plane</td>\n",
       "      <td>NonPrimitive</td>\n",
       "      <td>[0, 0, 1]</td>\n",
       "      <td>True</td>\n",
       "      <td>[0, 0, 1]</td>\n",
       "      <td>&lt;pyiron_workflow.simple_workflow.Node object a...</td>\n",
       "    </tr>\n",
       "    <tr>\n",
       "      <th>5</th>\n",
       "      <td>distance_from_camera</td>\n",
       "      <td>float</td>\n",
       "      <td>1.0</td>\n",
       "      <td>True</td>\n",
       "      <td>1.0</td>\n",
       "      <td>&lt;pyiron_workflow.simple_workflow.Node object a...</td>\n",
       "    </tr>\n",
       "  </tbody>\n",
       "</table>\n",
       "</div>"
      ],
      "text/plain": [
       "{'label': ['structure', 'camera', 'particle_size', 'select_atoms', 'view_plane', 'distance_from_camera'], 'type': ['NonPrimitive', 'str', 'float', 'NonPrimitive', 'NonPrimitive', 'float'], 'default': ['NotData', 'orthographic', 1.0, None, array([0, 0, 1]), 1.0], 'ready': [True, True, True, True, True, True], 'value': [<pyiron_workflow.simple_workflow.Node object at 0x143c87710>, 'orthographic', 1.0, None, array([0, 0, 1]), 1.0], 'node': [<pyiron_workflow.simple_workflow.Node object at 0x14381b1a0>, <pyiron_workflow.simple_workflow.Node object at 0x14381b1a0>, <pyiron_workflow.simple_workflow.Node object at 0x14381b1a0>, <pyiron_workflow.simple_workflow.Node object at 0x14381b1a0>, <pyiron_workflow.simple_workflow.Node object at 0x14381b1a0>, <pyiron_workflow.simple_workflow.Node object at 0x14381b1a0>]}"
      ]
     },
     "execution_count": 17,
     "metadata": {},
     "output_type": "execute_result"
    }
   ],
   "source": [
    "wf.plot3d.inputs"
   ]
  },
  {
   "cell_type": "code",
   "execution_count": 18,
   "id": "f549ca98",
   "metadata": {},
   "outputs": [],
   "source": [
    "from pyiron_core.pyironflow import get_nodes\n",
    "\n",
    "v = get_nodes(wf)# [1]['data']['target_values'][4]\n",
    "# print(v)\n",
    "# json.dumps(v)\n",
    "\n",
    "\n"
   ]
  },
  {
   "cell_type": "code",
   "execution_count": 19,
   "id": "0cfb6d2e-0564-44f3-9db4-ed60ed5d5be4",
   "metadata": {},
   "outputs": [],
   "source": [
    "# get_nodes(wf)[1]"
   ]
  },
  {
   "cell_type": "markdown",
   "id": "7618b07b-fb96-47aa-9f97-5a6fbc88d492",
   "metadata": {},
   "source": [
    "The workflow _wf_ can be transferred to the visual programming interface _PyironFlow_ as shown in the cell below. To run the workflow, click on the last node (plot) and then click on the _run_ button. If you want to debug the code, you can click on any node and click run to see the output of that node. If you want to view the source code of the node, click the _source_ button."
   ]
  },
  {
   "cell_type": "code",
   "execution_count": 20,
   "id": "abac5734-a832-4d41-9f23-aa2908717df2",
   "metadata": {
    "scrolled": true
   },
   "outputs": [
    {
     "data": {
      "application/vnd.jupyter.widget-view+json": {
       "model_id": "43a5956ff29249e3b0b23aaf2482b613",
       "version_major": 2,
       "version_minor": 0
      },
      "text/plain": [
       "HBox(children=(Accordion(children=(Tree(nodes=(Node(icon_style='warning', name='databases'), Node(icon_style='…"
      ]
     },
     "execution_count": 20,
     "metadata": {},
     "output_type": "execute_result"
    }
   ],
   "source": [
    "wf.label = 'workflow'\n",
    "pf = PyironFlow([wf])\n",
    "pf.gui"
   ]
  },
  {
   "cell_type": "code",
   "execution_count": 24,
   "id": "5fabe737-c80e-43ef-8d73-927f6979f846",
   "metadata": {},
   "outputs": [
    {
     "ename": "NameError",
     "evalue": "name 'xx' is not defined",
     "output_type": "error",
     "traceback": [
      "\u001b[0;31m---------------------------------------------------------------------------\u001b[0m",
      "\u001b[0;31mNameError\u001b[0m                                 Traceback (most recent call last)",
      "Cell \u001b[0;32mIn[24], line 1\u001b[0m\n\u001b[0;32m----> 1\u001b[0m \u001b[43mxx\u001b[49m\n",
      "\u001b[0;31mNameError\u001b[0m: name 'xx' is not defined"
     ]
    }
   ],
   "source": [
    "xx"
   ]
  },
  {
   "cell_type": "code",
   "execution_count": null,
   "id": "4b1beb03",
   "metadata": {},
   "outputs": [],
   "source": [
    "wf_new = pf.get_workflow()\n",
    "wf_new.label = 'workflow'\n",
    "pf = PyironFlow([wf_new])\n",
    "pf.gui\n",
    "# wf_new.run()\n"
   ]
  },
  {
   "cell_type": "code",
   "execution_count": null,
   "id": "e7b9a119",
   "metadata": {},
   "outputs": [],
   "source": [
    "wf_new.bulk_macro._wf_macro.bulk.inputs  # _get_non_default_input()"
   ]
  },
  {
   "cell_type": "code",
   "execution_count": null,
   "id": "da61f00d",
   "metadata": {},
   "outputs": [],
   "source": [
    "wf_new.bulk_macro.pull()"
   ]
  },
  {
   "cell_type": "code",
   "execution_count": null,
   "id": "dc213c91-45cf-4462-8cb3-9ba6a108c6bc",
   "metadata": {},
   "outputs": [],
   "source": [
    "xx"
   ]
  },
  {
   "cell_type": "code",
   "execution_count": null,
   "id": "294f5dcb-b101-457c-8577-3467ffac13d2",
   "metadata": {},
   "outputs": [],
   "source": []
  },
  {
   "cell_type": "code",
   "execution_count": null,
   "id": "29922128-a0b6-48aa-bee1-b1c57776ce10",
   "metadata": {},
   "outputs": [],
   "source": [
    "from pyiron_core.pyiron_nodes.atomistic.structure.build import Bulk\n",
    "from pyiron_core.pyiron_nodes.atomistic.structure.view import Plot3d\n",
    "\n",
    "wf = Workflow('simple_workflow')\n",
    "wf.bulk = Bulk(name='Al', cell_size=1, vacancy_index=0)\n",
    "wf.plot3d = Plot3d(structure=wf.bulk)\n",
    "\n",
    "wf.run()"
   ]
  },
  {
   "cell_type": "code",
   "execution_count": null,
   "id": "3f624bac-c4ca-461f-b135-0b8c12590378",
   "metadata": {},
   "outputs": [],
   "source": []
  },
  {
   "cell_type": "code",
   "execution_count": null,
   "id": "5b1de7d6",
   "metadata": {},
   "outputs": [],
   "source": [
    "wf_new = pf.get_workflow()\n",
    "\n",
    "pf = PyironFlow([wf_new])\n",
    "pf.gui"
   ]
  },
  {
   "cell_type": "code",
   "execution_count": null,
   "id": "fc0a7ad3-32ab-418d-8bbe-8cea6c201cc6",
   "metadata": {},
   "outputs": [],
   "source": [
    "xx"
   ]
  },
  {
   "cell_type": "code",
   "execution_count": null,
   "id": "4163a00b-5b4a-49a1-98a3-dff3f7621999",
   "metadata": {},
   "outputs": [],
   "source": [
    "wf_new = pf.get_workflow()\n",
    "id(wf_new.Repeat.inputs.structure.value)"
   ]
  },
  {
   "cell_type": "code",
   "execution_count": null,
   "id": "ce458513-ec9d-476f-b82e-a7183f0f489f",
   "metadata": {},
   "outputs": [],
   "source": [
    "wf_new = pf.get_workflow()"
   ]
  },
  {
   "cell_type": "code",
   "execution_count": null,
   "id": "adc2f9d4-fda0-46d5-94b3-d6b2c8534987",
   "metadata": {},
   "outputs": [],
   "source": [
    "[id(n) for n in wf_new._nodes.values()]"
   ]
  },
  {
   "cell_type": "code",
   "execution_count": null,
   "id": "41f643df-92db-4ef5-a65c-65631412e7f9",
   "metadata": {},
   "outputs": [],
   "source": [
    "wf_new._nodes"
   ]
  },
  {
   "cell_type": "code",
   "execution_count": null,
   "id": "2d8029ff-dcca-429b-981a-04cddc65bfa9",
   "metadata": {},
   "outputs": [],
   "source": [
    "id(wf_new.Plot3d.inputs.structure.value)"
   ]
  },
  {
   "cell_type": "code",
   "execution_count": null,
   "id": "b192d20f-215f-4375-9356-56944a46ac22",
   "metadata": {},
   "outputs": [],
   "source": [
    "wf_new = pf.get_workflow()\n",
    "wf_new.Bulk.inputs"
   ]
  },
  {
   "cell_type": "code",
   "execution_count": null,
   "id": "3e31eb38-c71e-4b1c-b6f2-cc6f1a36cccd",
   "metadata": {},
   "outputs": [],
   "source": [
    "id(wf_new.Repeat)"
   ]
  },
  {
   "cell_type": "markdown",
   "id": "0f7c5603-610a-4370-b196-6ad96f490422",
   "metadata": {},
   "source": [
    "Problem: Nodes need to be ordered! At least when executed. It may be advantageous to have ordering even in ._nodes"
   ]
  },
  {
   "cell_type": "code",
   "execution_count": null,
   "id": "560efe8f-b66c-4c8b-b96e-2f528d394b39",
   "metadata": {},
   "outputs": [],
   "source": [
    "wf_new.run()"
   ]
  },
  {
   "cell_type": "code",
   "execution_count": null,
   "id": "d7d67c2c",
   "metadata": {},
   "outputs": [],
   "source": [
    "wf = Workflow('structure_workflow')\n",
    "element = 'Al'\n",
    "cell_size = 1\n",
    "vacancy_index = None\n",
    "\n",
    "wf.bulk = Bulk(name=element, cubic=True)\n",
    "wf.cell = Repeat(structure=wf.bulk, repeat_scalar=cell_size)\n",
    "\n",
    "wf.structure = CreateVacancy(structure=wf.cell, index=vacancy_index)\n",
    "\n",
    "wf.run()"
   ]
  },
  {
   "cell_type": "code",
   "execution_count": null,
   "id": "c9798f79",
   "metadata": {},
   "outputs": [],
   "source": [
    "wf.label = 'workflow'\n",
    "pf = PyironFlow([wf_new])\n",
    "pf.gui"
   ]
  },
  {
   "cell_type": "markdown",
   "id": "a770996b-6503-4318-a3bd-a686822727e9",
   "metadata": {},
   "source": [
    "## Employ the node library to build more complex workflows"
   ]
  },
  {
   "cell_type": "markdown",
   "id": "6fa98eda-608f-4c6c-a018-2efb5c6ec19c",
   "metadata": {},
   "source": [
    "The _pyiron_nodes_ library collects nodes/functions from different domains. If you are using git clone to add the pyiron_nodes library, modify the following commands to add the pyiron_nodes path to your PYIRONPATH environment variable."
   ]
  },
  {
   "cell_type": "markdown",
   "id": "5e556f67-d269-47be-9d23-bb50710b50c4",
   "metadata": {},
   "source": [
    "### Elastic constants"
   ]
  },
  {
   "cell_type": "code",
   "execution_count": null,
   "id": "f73e99b981942310",
   "metadata": {},
   "outputs": [],
   "source": [
    "import pyiron_core.pyiron_nodes as pyiron_nodes\n",
    "\n",
    "pyiron_nodes.atomistic\n"
   ]
  },
  {
   "cell_type": "code",
   "execution_count": null,
   "id": "fa9691d28486a123",
   "metadata": {},
   "outputs": [],
   "source": [
    "import pyiron_core.pyiron_nodes as pn\n",
    "from pyiron_core.pyiron_workflow import Workflow\n",
    "\n",
    "wf = Workflow('compute_elastic_constants')\n",
    "wf.engine = pn.atomistic.engine.ase.M3GNet()\n",
    "wf.bulk = pn.atomistic.structure.build.Bulk('Pb', cubic=True)\n",
    "wf.input_elastic = pn.atomistic.property.elastic.InputElasticTensor()\n",
    "wf.elastic = pn.atomistic.property.elastic.ElasticConstants(structure=wf.bulk, engine=wf.engine, parameters=wf.input_elastic)\n",
    "wf.output = pn.atomistic.property.elastic.OutputElasticAnalysis(dc=wf.elastic)\n",
    "\n",
    "# wf.run()"
   ]
  },
  {
   "cell_type": "code",
   "execution_count": null,
   "id": "78b2651c-3cb9-479e-85f2-bfe87710243a",
   "metadata": {},
   "outputs": [],
   "source": [
    "from dataclasses import asdict\n",
    "\n",
    "wf.elastic.pull()\n",
    "dc = wf.elastic.outputs.elastic.value\n",
    "asdict(dc)\n",
    "# type(dc)\n",
    "# out = pn.atomistic.property.elastic.OutputElasticAnalysis(dc=wf.elastic.outputs.elastic.value.dataclass)\n",
    "\n",
    "# out.pull()\n",
    "# out.outputs.A2.value\n"
   ]
  },
  {
   "cell_type": "code",
   "execution_count": null,
   "id": "4caf24e9-d89f-43fb-a0a7-4039a8eb09d0",
   "metadata": {},
   "outputs": [],
   "source": [
    "#wf.run()"
   ]
  },
  {
   "cell_type": "code",
   "execution_count": null,
   "id": "56c26ff4-f7a8-46a6-a99c-40256af96174",
   "metadata": {},
   "outputs": [],
   "source": [
    "wf.draw();"
   ]
  },
  {
   "cell_type": "code",
   "execution_count": null,
   "id": "4a3c6b40-4426-4479-a039-686cce4f923e",
   "metadata": {},
   "outputs": [],
   "source": [
    "wf.bulk.position = (10, 0)\n",
    "'position' in dir(wf.bulk)"
   ]
  },
  {
   "cell_type": "code",
   "execution_count": null,
   "id": "5b0bee61-92b5-4331-8154-4be71cbbeb4f",
   "metadata": {},
   "outputs": [],
   "source": [
    "from pyiron_core.pyironflow import PyironFlow\n",
    "\n",
    "pf = PyironFlow([wf]) #, hash_nodes=True)\n",
    "pf.gui"
   ]
  },
  {
   "cell_type": "code",
   "execution_count": null,
   "id": "813d8693-da0b-42ab-9534-0818cdf34411",
   "metadata": {
    "jupyter": {
     "source_hidden": true
    }
   },
   "outputs": [],
   "source": [
    "from pyiron_core.pyironflow import PyironFlow\n",
    "\n",
    "pf = PyironFlow([wf]) #, hash_nodes=True)\n",
    "pf.gui"
   ]
  },
  {
   "cell_type": "markdown",
   "id": "3c7cf4ac-7bdc-4cdf-9d7b-2d22ec4c5297",
   "metadata": {},
   "source": [
    "### Some extra features"
   ]
  },
  {
   "cell_type": "markdown",
   "id": "17dd3816-b2bb-45e2-873a-ff49f4ce1fee",
   "metadata": {},
   "source": [
    "#### Get the nodes from the gui"
   ]
  },
  {
   "cell_type": "code",
   "execution_count": null,
   "id": "fc5d0e67-bb6f-493b-a59d-2234522af360",
   "metadata": {},
   "outputs": [],
   "source": [
    "import json\n",
    "\n",
    "json.loads(pf.wf_widgets[0].gui.nodes);"
   ]
  },
  {
   "cell_type": "markdown",
   "id": "55fd11ed-1567-4a12-8054-c557cf289725",
   "metadata": {},
   "source": [
    "#### Show the workflow widget from tab_0"
   ]
  },
  {
   "cell_type": "code",
   "execution_count": null,
   "id": "a6047623-934c-4339-953c-42ec4728f6e7",
   "metadata": {},
   "outputs": [],
   "source": [
    "pf.wf_widgets[0].gui"
   ]
  },
  {
   "cell_type": "markdown",
   "id": "0d46cdb7-cc6a-45ea-84bc-11537afe43eb",
   "metadata": {},
   "source": [
    "#### Get the current workflow from the gui and visualize it (test completeness of switching between graphical and programmatic representation)"
   ]
  },
  {
   "cell_type": "code",
   "execution_count": null,
   "id": "9e7a9e47-ca0d-4976-b257-3533f1c33957",
   "metadata": {
    "scrolled": true
   },
   "outputs": [],
   "source": [
    "from pyiron_core.pyironflow import PyironFlow\n",
    "\n",
    "wf = pf.get_workflow()\n",
    "\n",
    "pf = PyironFlow([wf])\n",
    "pf.gui"
   ]
  },
  {
   "cell_type": "markdown",
   "id": "b9812fe0-4179-4a43-8444-c37f205cff39",
   "metadata": {},
   "source": [
    "### Hash database"
   ]
  },
  {
   "cell_type": "code",
   "execution_count": null,
   "id": "cb5cef62-47bb-41a9-bbf5-1fe68172452d",
   "metadata": {},
   "outputs": [],
   "source": [
    "import pyiron_core.pyiron_nodes as pn\n",
    "from pyiron_core.pyiron_workflow import Workflow\n",
    "\n",
    "wf = Workflow('hash_db')\n",
    "wf.db = pn.databases.node_hash_db.create_db()\n",
    "\n",
    "pf = PyironFlow([wf]) #, hash_nodes=True)\n",
    "pf.gui"
   ]
  },
  {
   "cell_type": "code",
   "execution_count": null,
   "id": "9eb8286d-0abb-43cb-9c7b-c8e59a0f0212",
   "metadata": {},
   "outputs": [],
   "source": [
    "pf.out_widget"
   ]
  },
  {
   "cell_type": "markdown",
   "id": "6b478083-a50a-42c9-8556-a0fb556f9b4d",
   "metadata": {},
   "source": [
    "### Phonons"
   ]
  },
  {
   "cell_type": "markdown",
   "id": "682297aa-9948-4da5-95fa-4b3e6776bbc3",
   "metadata": {},
   "source": [
    "The following example computes the phonon total density of states. The dos node returns a dataframe. To plot it use from the Node Library the _PlotDataFrame_ module *(Node Library -> plotting -> PlotDataFrame)*"
   ]
  },
  {
   "cell_type": "code",
   "execution_count": null,
   "id": "6e64336b-18c5-444e-a8a1-24357a2b46f2",
   "metadata": {},
   "outputs": [],
   "source": [
    "import pyiron_core.pyiron_nodes as pn\n",
    "from pyiron_core.pyiron_workflow import Workflow\n",
    "\n",
    "wf = Workflow('phonons')\n",
    "wf.engine = pn.atomistic.engine.ase.M3GNet()\n",
    "wf.bulk = pn.atomistic.structure.build.CubicBulkCell('Pb', cell_size=3)\n",
    "wf.phonopy = pn.atomistic.property.phonons.CreatePhonopy(structure=wf.bulk, engine=wf.engine) #, parameters=parameters)\n",
    "wf.dos = pn.atomistic.property.phonons.GetTotalDos(phonopy=wf.phonopy.outputs.phonopy)\n",
    "\n",
    "# wf.run()\n"
   ]
  },
  {
   "cell_type": "code",
   "execution_count": null,
   "id": "0d5ff59a-27d2-405f-b1cc-0a650e071922",
   "metadata": {},
   "outputs": [],
   "source": [
    "wf.dos.inputs.storage.value.hash_output"
   ]
  },
  {
   "cell_type": "code",
   "execution_count": null,
   "id": "051bed2f-6100-4ee4-95e5-f70aa38f56cb",
   "metadata": {},
   "outputs": [],
   "source": [
    "pf = PyironFlow([wf], hash_nodes=True)\n",
    "pf.gui"
   ]
  },
  {
   "cell_type": "markdown",
   "id": "b7de4906-4a23-4d40-8913-755e1d9ae862",
   "metadata": {},
   "source": [
    "### Built Lammps workflow from scratch"
   ]
  },
  {
   "cell_type": "markdown",
   "id": "8c587b73-2482-43cc-a64e-8a8cdfe4f885",
   "metadata": {},
   "source": [
    "This example demonstrates how to construct a low-level workflow to run a file-based executable using Lammps as a prototype. The concepts can be extended to any type of executable."
   ]
  },
  {
   "cell_type": "code",
   "execution_count": 25,
   "id": "a7f0ced8-a876-421c-b384-500fcc946103",
   "metadata": {},
   "outputs": [],
   "source": [
    "import pyiron_core.pyiron_nodes as pn\n",
    "from pyiron_core.pyiron_workflow import Workflow\n"
   ]
  },
  {
   "cell_type": "code",
   "execution_count": null,
   "id": "50903f2d-7ae1-4b1d-8d74-3482380cea0a",
   "metadata": {},
   "outputs": [],
   "source": []
  },
  {
   "cell_type": "code",
   "execution_count": 26,
   "id": "45e376b2-90e6-483d-9a13-e837a81478cd",
   "metadata": {},
   "outputs": [
    {
     "name": "stderr",
     "output_type": "stream",
     "text": [
      "DEBUG:pyiron_log:Not supported parameter used!\n"
     ]
    },
    {
     "data": {
      "text/html": [
       "<div>\n",
       "<style scoped>\n",
       "    .dataframe tbody tr th:only-of-type {\n",
       "        vertical-align: middle;\n",
       "    }\n",
       "\n",
       "    .dataframe tbody tr th {\n",
       "        vertical-align: top;\n",
       "    }\n",
       "\n",
       "    .dataframe thead th {\n",
       "        text-align: right;\n",
       "    }\n",
       "</style>\n",
       "<table border=\"1\" class=\"dataframe\">\n",
       "  <thead>\n",
       "    <tr style=\"text-align: right;\">\n",
       "      <th></th>\n",
       "      <th>Parameter</th>\n",
       "      <th>Value</th>\n",
       "      <th>Comment</th>\n",
       "    </tr>\n",
       "  </thead>\n",
       "  <tbody>\n",
       "    <tr>\n",
       "      <th>0</th>\n",
       "      <td>units</td>\n",
       "      <td>metal</td>\n",
       "      <td></td>\n",
       "    </tr>\n",
       "    <tr>\n",
       "      <th>1</th>\n",
       "      <td>dimension</td>\n",
       "      <td>3</td>\n",
       "      <td></td>\n",
       "    </tr>\n",
       "    <tr>\n",
       "      <th>2</th>\n",
       "      <td>boundary</td>\n",
       "      <td>p p p</td>\n",
       "      <td></td>\n",
       "    </tr>\n",
       "    <tr>\n",
       "      <th>3</th>\n",
       "      <td>atom_style</td>\n",
       "      <td>atomic</td>\n",
       "      <td></td>\n",
       "    </tr>\n",
       "    <tr>\n",
       "      <th>4</th>\n",
       "      <td>read_data</td>\n",
       "      <td>structure.inp</td>\n",
       "      <td></td>\n",
       "    </tr>\n",
       "    <tr>\n",
       "      <th>5</th>\n",
       "      <td>include</td>\n",
       "      <td>potential.inp</td>\n",
       "      <td></td>\n",
       "    </tr>\n",
       "    <tr>\n",
       "      <th>6</th>\n",
       "      <td>fix___ensemble</td>\n",
       "      <td>all nvt temp 300.0 300.0 0.1</td>\n",
       "      <td></td>\n",
       "    </tr>\n",
       "    <tr>\n",
       "      <th>7</th>\n",
       "      <td>variable___dumptime</td>\n",
       "      <td>equal 100</td>\n",
       "      <td></td>\n",
       "    </tr>\n",
       "    <tr>\n",
       "      <th>8</th>\n",
       "      <td>variable___thermotime</td>\n",
       "      <td>equal 100</td>\n",
       "      <td></td>\n",
       "    </tr>\n",
       "    <tr>\n",
       "      <th>9</th>\n",
       "      <td>timestep</td>\n",
       "      <td>0.001</td>\n",
       "      <td></td>\n",
       "    </tr>\n",
       "    <tr>\n",
       "      <th>10</th>\n",
       "      <td>velocity</td>\n",
       "      <td>all create 600.0 10298 dist gaussian</td>\n",
       "      <td></td>\n",
       "    </tr>\n",
       "    <tr>\n",
       "      <th>11</th>\n",
       "      <td>dump___1</td>\n",
       "      <td>all custom ${dumptime} dump.out id type xsu ys...</td>\n",
       "      <td></td>\n",
       "    </tr>\n",
       "    <tr>\n",
       "      <th>12</th>\n",
       "      <td>dump_modify___1</td>\n",
       "      <td>sort id format line \"%d %d %20.15g %20.15g %20...</td>\n",
       "      <td></td>\n",
       "    </tr>\n",
       "    <tr>\n",
       "      <th>13</th>\n",
       "      <td>thermo_style</td>\n",
       "      <td>custom step temp pe etotal pxx pxy pxz pyy pyz...</td>\n",
       "      <td></td>\n",
       "    </tr>\n",
       "    <tr>\n",
       "      <th>14</th>\n",
       "      <td>thermo_modify</td>\n",
       "      <td>format float %20.15g</td>\n",
       "      <td></td>\n",
       "    </tr>\n",
       "    <tr>\n",
       "      <th>15</th>\n",
       "      <td>thermo</td>\n",
       "      <td>${thermotime}</td>\n",
       "      <td></td>\n",
       "    </tr>\n",
       "    <tr>\n",
       "      <th>16</th>\n",
       "      <td>run</td>\n",
       "      <td>10000</td>\n",
       "      <td></td>\n",
       "    </tr>\n",
       "  </tbody>\n",
       "</table>\n",
       "</div>"
      ],
      "text/plain": [
       "                Parameter                                              Value  \\\n",
       "0                   units                                              metal   \n",
       "1               dimension                                                  3   \n",
       "2                boundary                                              p p p   \n",
       "3              atom_style                                             atomic   \n",
       "4               read_data                                      structure.inp   \n",
       "5                 include                                      potential.inp   \n",
       "6          fix___ensemble                       all nvt temp 300.0 300.0 0.1   \n",
       "7     variable___dumptime                                         equal 100    \n",
       "8   variable___thermotime                                         equal 100    \n",
       "9                timestep                                              0.001   \n",
       "10               velocity               all create 600.0 10298 dist gaussian   \n",
       "11               dump___1  all custom ${dumptime} dump.out id type xsu ys...   \n",
       "12        dump_modify___1  sort id format line \"%d %d %20.15g %20.15g %20...   \n",
       "13           thermo_style  custom step temp pe etotal pxx pxy pxz pyy pyz...   \n",
       "14          thermo_modify                               format float %20.15g   \n",
       "15                 thermo                                      ${thermotime}   \n",
       "16                    run                                              10000   \n",
       "\n",
       "   Comment  \n",
       "0           \n",
       "1           \n",
       "2           \n",
       "3           \n",
       "4           \n",
       "5           \n",
       "6           \n",
       "7           \n",
       "8           \n",
       "9           \n",
       "10          \n",
       "11          \n",
       "12          \n",
       "13          \n",
       "14          \n",
       "15          \n",
       "16          "
      ]
     },
     "execution_count": 26,
     "metadata": {},
     "output_type": "execute_result"
    }
   ],
   "source": [
    "# import pyiron_core.pyiron_nodes.atomistic\n",
    "\n",
    "wf = Workflow('Lammps')\n",
    "wf.structure = pn.atomistic.structure.build.Bulk('Al', cubic=True)\n",
    "wf.repeat = pn.atomistic.structure.transform.Repeat(structure=wf.structure, repeat_scalar=3)\n",
    "\n",
    "wf.calculator = pn.atomistic.engine.lammps.CalcMD() # temperature=300, n_ionic_steps=10_000)\n",
    "\n",
    "wf.run()"
   ]
  },
  {
   "cell_type": "code",
   "execution_count": 27,
   "id": "2846592e-3e95-4064-8c9f-fa21a455d3a2",
   "metadata": {},
   "outputs": [
    {
     "name": "stderr",
     "output_type": "stream",
     "text": [
      "DEBUG:pyiron_log:Not supported parameter used!\n"
     ]
    },
    {
     "data": {
      "text/plain": [
       "array([-362.87999968, -358.5129855 , -358.4579939 , -358.31296039,\n",
       "       -358.55784106, -359.02478623, -358.31887295, -358.83137511,\n",
       "       -358.65856012, -358.41650426, -358.63303643, -358.63670514,\n",
       "       -358.55424417, -358.60848674, -359.21976388, -358.75045594,\n",
       "       -358.70085842, -358.09667742, -358.11768594, -358.43833566,\n",
       "       -358.73646116, -359.09860407, -358.2410861 , -357.79137736,\n",
       "       -357.97615099, -358.66342062, -358.23955412, -358.88205371,\n",
       "       -358.83486582, -359.26242862, -358.55243496, -358.55474489,\n",
       "       -358.21297665, -358.97124696, -358.55524676, -358.56762719,\n",
       "       -359.29673694, -358.80134   , -358.24187177, -358.5103194 ,\n",
       "       -358.91956568, -358.9306468 , -358.32669732, -358.33391415,\n",
       "       -358.16457596, -358.60606464, -358.32974592, -359.15559159,\n",
       "       -359.30010577, -359.47381373, -359.00845451, -358.39813831,\n",
       "       -358.75495891, -357.87957696, -358.21394858, -358.55263975,\n",
       "       -358.86352564, -358.93426393, -358.5099942 , -358.42666832,\n",
       "       -359.05522803, -358.70894362, -359.14412647, -359.34700501,\n",
       "       -358.49378004, -358.45300451, -358.23090609, -358.52393045,\n",
       "       -358.64732583, -359.01309771, -359.10022462, -358.77896538,\n",
       "       -358.16196581, -358.61872171, -358.85181592, -359.18867919,\n",
       "       -358.60552904, -358.50144447, -358.16226177, -358.55923468,\n",
       "       -358.86511983, -358.68141314, -358.78216554, -358.12157467,\n",
       "       -358.32262351, -358.62077218, -358.57645838, -358.73196502,\n",
       "       -358.34543865, -358.21730783, -358.33200514, -358.81335597,\n",
       "       -358.43418908, -358.41064625, -358.65759198, -358.61444817,\n",
       "       -358.607178  , -358.11265699, -358.10823994, -358.93800922])"
      ]
     },
     "execution_count": 27,
     "metadata": {},
     "output_type": "execute_result"
    }
   ],
   "source": [
    "wf = Workflow('Lammps')\n",
    "wf.structure = pn.atomistic.structure.build.Bulk('Al', cubic=True)\n",
    "wf.repeat = pn.atomistic.structure.transform.Repeat(structure=wf.structure, repeat_scalar=3)\n",
    "\n",
    "wf.calculator = pn.atomistic.engine.lammps.CalcMD() # temperature=300, n_ionic_steps=10_000)\n",
    "wf.potential = pn.atomistic.engine.lammps.Potential(\n",
    "    structure=wf.structure, name='1995--Angelo-J-E--Ni-Al-H--LAMMPS--ipr1'\n",
    ")\n",
    "\n",
    "wf.init_lammps = pn.atomistic.engine.lammps.InitLammps(\n",
    "        structure=wf.repeat,\n",
    "        potential=wf.potential,\n",
    "        calculator=wf.calculator,\n",
    "        working_directory=\"test2\",\n",
    "    )\n",
    "\n",
    "wf.shell = pn.atomistic.engine.lammps.Shell(\n",
    "        # command=ExecutablePathResolver(module=\"lammps\", code=\"lammps\").path(),\n",
    "        working_directory=wf.init_lammps,\n",
    "    )\n",
    "\n",
    "wf.ParseLogFile = pn.atomistic.engine.lammps.ParseLogFile(\n",
    "    log_file=wf.shell.outputs.log\n",
    ")\n",
    "wf.ParseDumpFile = pn.atomistic.engine.lammps.ParseDumpFile(\n",
    "    dump_file=wf.shell.outputs.dump\n",
    ")\n",
    "wf.Collect = pn.atomistic.engine.lammps.Collect(\n",
    "    out_dump=wf.ParseDumpFile.outputs.dump,\n",
    "    out_log=wf.ParseLogFile.outputs.log,\n",
    "    calc_mode='md',\n",
    ")\n",
    "\n",
    "wf.get_energy_pot = pn.atomistic.engine.lammps.GetEnergyPot(generic=wf.Collect)\n",
    "\n",
    "out = wf.run()\n",
    "out"
   ]
  },
  {
   "cell_type": "code",
   "execution_count": 28,
   "id": "64a70d90-410c-4079-a7c4-b5d123e06306",
   "metadata": {},
   "outputs": [
    {
     "name": "stderr",
     "output_type": "stream",
     "text": [
      "DEBUG:pyiron_log:Not supported parameter used!\n"
     ]
    },
    {
     "data": {
      "text/plain": [
       "array([-362.87999968, -358.5129855 , -358.4579939 , -358.31296039,\n",
       "       -358.55784106, -359.02478623, -358.31887295, -358.83137511,\n",
       "       -358.65856012, -358.41650426, -358.63303643, -358.63670514,\n",
       "       -358.55424417, -358.60848674, -359.21976388, -358.75045594,\n",
       "       -358.70085842, -358.09667742, -358.11768594, -358.43833566,\n",
       "       -358.73646116, -359.09860407, -358.2410861 , -357.79137736,\n",
       "       -357.97615099, -358.66342062, -358.23955412, -358.88205371,\n",
       "       -358.83486582, -359.26242862, -358.55243496, -358.55474489,\n",
       "       -358.21297665, -358.97124696, -358.55524676, -358.56762719,\n",
       "       -359.29673694, -358.80134   , -358.24187177, -358.5103194 ,\n",
       "       -358.91956568, -358.9306468 , -358.32669732, -358.33391415,\n",
       "       -358.16457596, -358.60606464, -358.32974592, -359.15559159,\n",
       "       -359.30010577, -359.47381373, -359.00845451, -358.39813831,\n",
       "       -358.75495891, -357.87957696, -358.21394858, -358.55263975,\n",
       "       -358.86352564, -358.93426393, -358.5099942 , -358.42666832,\n",
       "       -359.05522803, -358.70894362, -359.14412647, -359.34700501,\n",
       "       -358.49378004, -358.45300451, -358.23090609, -358.52393045,\n",
       "       -358.64732583, -359.01309771, -359.10022462, -358.77896538,\n",
       "       -358.16196581, -358.61872171, -358.85181592, -359.18867919,\n",
       "       -358.60552904, -358.50144447, -358.16226177, -358.55923468,\n",
       "       -358.86511983, -358.68141314, -358.78216554, -358.12157467,\n",
       "       -358.32262351, -358.62077218, -358.57645838, -358.73196502,\n",
       "       -358.34543865, -358.21730783, -358.33200514, -358.81335597,\n",
       "       -358.43418908, -358.41064625, -358.65759198, -358.61444817,\n",
       "       -358.607178  , -358.11265699, -358.10823994, -358.93800922])"
      ]
     },
     "execution_count": 28,
     "metadata": {},
     "output_type": "execute_result"
    }
   ],
   "source": [
    "wf.get_energy_pot.pull()"
   ]
  },
  {
   "cell_type": "code",
   "execution_count": 29,
   "id": "10975d1d-e834-40e3-9797-a94b7b5c31f8",
   "metadata": {
    "scrolled": true
   },
   "outputs": [
    {
     "data": {
      "application/vnd.jupyter.widget-view+json": {
       "model_id": "2d32f762f3cd440cad1688cf32c71105",
       "version_major": 2,
       "version_minor": 0
      },
      "text/plain": [
       "HBox(children=(Accordion(children=(Tree(nodes=(Node(icon_style='warning', name='databases'), Node(icon_style='…"
      ]
     },
     "execution_count": 29,
     "metadata": {},
     "output_type": "execute_result"
    }
   ],
   "source": [
    "from pyiron_core.pyironflow import PyironFlow\n",
    "\n",
    "pf = PyironFlow([wf])\n",
    "pf.gui"
   ]
  },
  {
   "cell_type": "code",
   "execution_count": null,
   "id": "6cf4c062-068e-4f4d-adbe-6aa3cf137544",
   "metadata": {},
   "outputs": [],
   "source": [
    "wf_new = pf.wf_widgets[0].get_workflow()"
   ]
  },
  {
   "cell_type": "code",
   "execution_count": null,
   "id": "2c34ccba-658c-4f30-93e7-ccdea5f55b95",
   "metadata": {
    "scrolled": true
   },
   "outputs": [],
   "source": [
    "wf_new = pf.get_workflow()\n",
    "\n",
    "pf = PyironFlow([wf_new])\n",
    "pf.gui"
   ]
  },
  {
   "cell_type": "code",
   "execution_count": null,
   "id": "1fab8172-1249-4fe4-aa45-3157e9cbed22",
   "metadata": {},
   "outputs": [],
   "source": [
    "wf_new.repeat.pull()"
   ]
  },
  {
   "cell_type": "code",
   "execution_count": null,
   "id": "d1360d75-d812-4b05-a37f-aeb2b7b7b0f4",
   "metadata": {},
   "outputs": [],
   "source": [
    "wf.repeat.pull()"
   ]
  },
  {
   "cell_type": "code",
   "execution_count": null,
   "id": "e2b3558e-4df3-419d-9ca7-dd18acc7a520",
   "metadata": {},
   "outputs": [],
   "source": [
    "wf._edges"
   ]
  },
  {
   "cell_type": "code",
   "execution_count": null,
   "id": "41ef42d3-9f2c-42b1-9266-2132c399f9ec",
   "metadata": {},
   "outputs": [],
   "source": [
    "type(wf_new.ParseLogFile.inputs.log_file.value)"
   ]
  },
  {
   "cell_type": "code",
   "execution_count": null,
   "id": "dc28c018-d8bf-4a11-8eeb-d25e7b9cb96f",
   "metadata": {},
   "outputs": [],
   "source": [
    "type(wf.ParseLogFile.inputs.log_file.value)"
   ]
  },
  {
   "cell_type": "markdown",
   "id": "f1cfc2a4-9251-4b26-8a04-70638cee8863",
   "metadata": {},
   "source": [
    "### Use Lammps Macro"
   ]
  },
  {
   "cell_type": "markdown",
   "id": "4126988c-ce19-4f60-89cf-c8ae2e7898fa",
   "metadata": {},
   "source": [
    "The low-level workflow above has been converted into a macro 'Code'. The application of such a high-level macro is shown below. "
   ]
  },
  {
   "cell_type": "code",
   "execution_count": null,
   "id": "1389fde6-8b41-401a-9a13-cb5f726661fc",
   "metadata": {},
   "outputs": [],
   "source": [
    "wf = Workflow('lammps_macro')\n",
    "wf.bulk = pn.atomistic.structure.build.CubicBulkCell('Pb', cell_size=3)\n",
    "wf.inp_calc_md = pn.atomistic.calculator.data.InputCalcMD()\n",
    "wf.lammps = pn.atomistic.engine.lammps.Code(structure=wf.bulk, calculator=wf.inp_calc_md) \n",
    "wf.energies = pn.atomistic.engine.lammps.GetEnergyPot(generic=wf.lammps)\n",
    "wf.plot = pn.plotting.Plot(y=wf.energies)\n",
    "\n",
    "wf.run()"
   ]
  },
  {
   "cell_type": "code",
   "execution_count": null,
   "id": "1cec4223-ff48-4f68-8017-c9f8bb0dbdd1",
   "metadata": {},
   "outputs": [],
   "source": [
    "pf = PyironFlow([wf])\n",
    "pf.gui"
   ]
  },
  {
   "cell_type": "code",
   "execution_count": null,
   "id": "e7dc98ca-e134-4cd2-83c9-fc41da544509",
   "metadata": {},
   "outputs": [],
   "source": [
    "pf.wf_widgets[0].wf.bulk.outputs.structure.value.__reduce__();"
   ]
  },
  {
   "cell_type": "code",
   "execution_count": null,
   "id": "beb3de37-5f49-4733-8cea-e331f8680a08",
   "metadata": {},
   "outputs": [],
   "source": []
  }
 ],
 "metadata": {
  "kernelspec": {
   "display_name": "Python 3 (ipykernel)",
   "language": "python",
   "name": "python3"
  },
  "language_info": {
   "codemirror_mode": {
    "name": "ipython",
    "version": 3
   },
   "file_extension": ".py",
   "mimetype": "text/x-python",
   "name": "python",
   "nbconvert_exporter": "python",
   "pygments_lexer": "ipython3",
   "version": "3.12.9"
  }
 },
 "nbformat": 4,
 "nbformat_minor": 5
}
