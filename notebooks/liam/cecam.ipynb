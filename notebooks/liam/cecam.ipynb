{
 "cells": [
  {
   "cell_type": "code",
   "execution_count": 1,
   "id": "21322efbdfc03343",
   "metadata": {},
   "outputs": [
    {
     "name": "stdout",
     "output_type": "stream",
     "text": [
      ".pycor/pgdata\n",
      "Skipped ('pg_ctl', '-D', '.pycor/pgdata', 'stop')\n",
      "Skipped ('pg_ctl', '-D', '.pycor/pgdata', 'status')\n",
      "Skipped ('pg_ctl', '-D', '.pycor/pgdata', 'stop')\n",
      "Running ('initdb', '-D', '.pycor/pgdata')\n",
      "The files belonging to this database system will be owned by user \"liamhuber\".\n",
      "This user must also own the server process.\n",
      "\n",
      "The database cluster will be initialized with this locale configuration:\n",
      "  locale provider:   libc\n",
      "  LC_COLLATE:  C\n",
      "  LC_CTYPE:    UTF-8\n",
      "  LC_MESSAGES: C\n",
      "  LC_MONETARY: C\n",
      "  LC_NUMERIC:  C\n",
      "  LC_TIME:     C\n",
      "The default database encoding has accordingly been set to \"UTF8\".\n",
      "The default text search configuration will be set to \"simple\".\n",
      "\n",
      "Data page checksums are disabled.\n",
      "\n",
      "fixing permissions on existing directory .pycor/pgdata ... ok\n",
      "creating subdirectories ... ok\n",
      "selecting dynamic shared memory implementation ... posix\n",
      "selecting default \"max_connections\" ... 100\n",
      "selecting default \"shared_buffers\" ... 128MB\n",
      "selecting default time zone ... America/Vancouver\n",
      "creating configuration files ... ok\n",
      "running bootstrap script ... ok\n",
      "performing post-bootstrap initialization ... "
     ]
    },
    {
     "name": "stderr",
     "output_type": "stream",
     "text": [
      "initdb: could not find suitable text search configuration for locale \"UTF-8\"\n"
     ]
    },
    {
     "name": "stdout",
     "output_type": "stream",
     "text": [
      "ok\n",
      "syncing data to disk ... ok\n",
      "\n",
      "\n",
      "Success. You can now start the database server using:\n",
      "\n",
      "    pg_ctl -D .pycor/pgdata -l logfile start\n",
      "\n",
      "Running ('pg_ctl', '-D', '.pycor/pgdata', '-o', '-p 5432', '-l', '.pycor/pgdata/logfile', 'start')\n",
      "waiting for server to start.... done\n",
      "server started\n"
     ]
    },
    {
     "name": "stderr",
     "output_type": "stream",
     "text": [
      "initdb: warning: enabling \"trust\" authentication for local connections\n",
      "initdb: hint: You can change this by editing pg_hba.conf or using the option -A, or --auth-local and --auth-host, the next time you run initdb.\n"
     ]
    },
    {
     "name": "stdout",
     "output_type": "stream",
     "text": [
      "Running ('createuser', '-p', '5432', '-s', 'localuser')\n",
      "Running ('createdb', '-p', '5432', '-O', 'localuser', 'localdb')\n",
      "Running ('pg_ctl', '-D', '.pycor/pgdata', 'stop')\n",
      "waiting for server to shut down.... done\n",
      "server stopped\n",
      "Running ('pg_ctl', '-D', '.pycor/pgdata', '-o', '-p 5432', '-l', '.pycor/pgdata/logfile', 'start')\n",
      "waiting for server to start.... done\n",
      "server started\n"
     ]
    }
   ],
   "source": [
    "# SETUP\n",
    "\n",
    "import contextlib\n",
    "import pathlib\n",
    "import shutil\n",
    "import subprocess\n",
    "\n",
    "from pyiron_workflow.util import LocalPostgres\n",
    "\n",
    "src_dir = pathlib.Path(\"stored_workflows\")\n",
    "json_files = [f.name for f in src_dir.glob(\"*.json\")]\n",
    "\n",
    "for name in json_files:\n",
    "    shutil.copy(src_dir / name, pathlib.Path(\".\"))\n",
    "\n",
    "lpg = LocalPostgres()\n",
    "lpg.stop()\n",
    "lpg.remove()\n",
    "lpg.init()\n",
    "lpg.start()"
   ]
  },
  {
   "cell_type": "code",
   "execution_count": 2,
   "id": "1de8fe89-48f1-4e34-a8c7-6f7bd1da3b74",
   "metadata": {},
   "outputs": [],
   "source": [
    "%config IPCompleter.evaluation='unsafe'\n",
    "\n",
    "from pyiron_workflow.graph import gui, base"
   ]
  },
  {
   "cell_type": "code",
   "execution_count": 3,
   "id": "6a498dd2-b066-4716-bc60-0beccfa5ee67",
   "metadata": {},
   "outputs": [
    {
     "data": {
      "application/vnd.jupyter.widget-view+json": {
       "model_id": "e222f0029b3f46089a28c271b3e1b54a",
       "version_major": 2,
       "version_minor": 0
      },
      "text/plain": [
       "VBox(children=(HBox(children=(Output(layout=Layout(width='400px')), Tab(children=(ReactFlowWidget(layout=Layou…"
      ]
     },
     "execution_count": 3,
     "metadata": {},
     "output_type": "execute_result"
    }
   ],
   "source": [
    "pf = gui.PyironFlow(['murnaghan2', 'energy', 'murn4', 'db']) # 'landau2',\n",
    "pf.gui"
   ]
  },
  {
   "cell_type": "code",
   "execution_count": 4,
   "id": "52ec0e90-fd07-4a73-87fa-ebfc62546173",
   "metadata": {},
   "outputs": [
    {
     "name": "stdout",
     "output_type": "stream",
     "text": [
      "Updating input BulkStaticEnergyF in node BulkStaticEnergyF out node 5771885168 5771885168\n",
      "Updating input Linspace in node Linspace linspace kwarg_list 5771886176 5771886176\n",
      "Updating input CreateDB in node CreateDB db _db 5771886368 5771886368\n",
      "Updating input CreateDB in node CreateDB db _db 5771886368 5771886368\n",
      "Updating input CreateDB in node CreateDB db db 5771886368 5771886368\n"
     ]
    },
    {
     "data": {
      "text/plain": [
       "('53ac213be901c9c01914b0184ad75b68bed31310fdbf559557cc1a9fce9e025d',\n",
       " 5771885168,\n",
       " 5771885168)"
      ]
     },
     "execution_count": 4,
     "metadata": {},
     "output_type": "execute_result"
    }
   ],
   "source": [
    "import pyiron_database.instance_database as idb\n",
    "\n",
    "# MUST ENSURE `'murn4'` graph is the active one -- how to do this with code?\n",
    "# We could go back and manually change the order they are loaded in,\n",
    "# but I want to see what is required to actually select one\n",
    "def select_graph_by_name(pf: gui.PyironFlow, graph_label: str):\n",
    "    pf.tab_widget.selected_index = [w.graph.label for w in pf.wf_widgets].index(graph_label)\n",
    "\n",
    "select_graph_by_name(pf, \"murn4\")\n",
    "\n",
    "graph = pf.graph\n",
    "graph = base.update_execution_graph(graph, debug=True)\n",
    "nodeB = graph.nodes[\"BulkStaticEnergyF\"].node\n",
    "nodeI = graph.nodes[\"IterNode\"].node\n",
    "\n",
    "idb.get_hash(nodeB), id(nodeB), id(nodeI.inputs.node.value.node)\n",
    "\n",
    "\n",
    "\n",
    "  "
   ]
  },
  {
   "cell_type": "code",
   "execution_count": 5,
   "id": "f332c569-bb38-4cc5-89b3-929cd83a6e05",
   "metadata": {},
   "outputs": [
    {
     "data": {
      "text/plain": [
       "(5771885168, 5771885168)"
      ]
     },
     "execution_count": 5,
     "metadata": {},
     "output_type": "execute_result"
    }
   ],
   "source": [
    "id(nodeB.outputs.out.node), id(nodeB)"
   ]
  },
  {
   "cell_type": "code",
   "execution_count": 6,
   "id": "9184e10a-2b4a-48a6-a244-527aa0790e22",
   "metadata": {},
   "outputs": [
    {
     "data": {
      "text/plain": [
       "dict_keys(['label', 'type', 'ready', 'value', 'node'])"
      ]
     },
     "execution_count": 6,
     "metadata": {},
     "output_type": "execute_result"
    }
   ],
   "source": [
    "nodeI.outputs.data.keys()"
   ]
  },
  {
   "cell_type": "code",
   "execution_count": 7,
   "id": "25dd6210-e4e1-46fe-85a7-e36bc784dcc0",
   "metadata": {},
   "outputs": [
    {
     "data": {
      "text/html": [
       "<div>\n",
       "<style scoped>\n",
       "    .dataframe tbody tr th:only-of-type {\n",
       "        vertical-align: middle;\n",
       "    }\n",
       "\n",
       "    .dataframe tbody tr th {\n",
       "        vertical-align: top;\n",
       "    }\n",
       "\n",
       "    .dataframe thead th {\n",
       "        text-align: right;\n",
       "    }\n",
       "</style>\n",
       "<table border=\"1\" class=\"dataframe\">\n",
       "  <thead>\n",
       "    <tr style=\"text-align: right;\">\n",
       "      <th></th>\n",
       "      <th>label</th>\n",
       "      <th>type</th>\n",
       "      <th>default</th>\n",
       "      <th>ready</th>\n",
       "      <th>value</th>\n",
       "      <th>node</th>\n",
       "    </tr>\n",
       "  </thead>\n",
       "  <tbody>\n",
       "    <tr>\n",
       "      <th>0</th>\n",
       "      <td>name</td>\n",
       "      <td>str</td>\n",
       "      <td>NotData</td>\n",
       "      <td>True</td>\n",
       "      <td>Al</td>\n",
       "      <td>&lt;pyiron_workflow.simple_workflow.Node object a...</td>\n",
       "    </tr>\n",
       "    <tr>\n",
       "      <th>1</th>\n",
       "      <td>a</td>\n",
       "      <td>float</td>\n",
       "      <td>None</td>\n",
       "      <td>True</td>\n",
       "      <td>None</td>\n",
       "      <td>&lt;pyiron_workflow.simple_workflow.Node object a...</td>\n",
       "    </tr>\n",
       "    <tr>\n",
       "      <th>2</th>\n",
       "      <td>store</td>\n",
       "      <td>bool</td>\n",
       "      <td>True</td>\n",
       "      <td>True</td>\n",
       "      <td>True</td>\n",
       "      <td>&lt;pyiron_workflow.simple_workflow.Node object a...</td>\n",
       "    </tr>\n",
       "    <tr>\n",
       "      <th>3</th>\n",
       "      <td>_db</td>\n",
       "      <td>None</td>\n",
       "      <td>None</td>\n",
       "      <td>True</td>\n",
       "      <td>label                                         ...</td>\n",
       "      <td>&lt;pyiron_workflow.simple_workflow.Node object a...</td>\n",
       "    </tr>\n",
       "  </tbody>\n",
       "</table>\n",
       "</div>"
      ],
      "text/plain": [
       "{'label': ['name', 'a', 'store', '_db'], 'type': ['str', 'float', 'bool', 'None'], 'default': ['NotData', None, True, None], 'ready': [True, True, True, True], 'value': ['Al', None, True, label                                                   db\n",
       "type                                     builtins.NoneType\n",
       "ready                                                False\n",
       "value                                                 None\n",
       "node     <pyiron_workflow.simple_workflow.Node object a...\n",
       "dtype: object], 'node': [<pyiron_workflow.simple_workflow.Node object at 0x15807fa70>, <pyiron_workflow.simple_workflow.Node object at 0x15807fa70>, <pyiron_workflow.simple_workflow.Node object at 0x15807fa70>, <pyiron_workflow.simple_workflow.Node object at 0x15807fa70>]}"
      ]
     },
     "execution_count": 7,
     "metadata": {},
     "output_type": "execute_result"
    }
   ],
   "source": [
    "nodeB.inputs"
   ]
  },
  {
   "cell_type": "code",
   "execution_count": 8,
   "id": "8d5fc93c-3eee-4acc-bbff-62a36ff906a8",
   "metadata": {},
   "outputs": [
    {
     "data": {
      "text/plain": [
       "label                                                  out\n",
       "type                                     builtins.NoneType\n",
       "ready                                                False\n",
       "value                                                 None\n",
       "node     <pyiron_workflow.simple_workflow.Node object a...\n",
       "dtype: object"
      ]
     },
     "execution_count": 8,
     "metadata": {},
     "output_type": "execute_result"
    }
   ],
   "source": [
    "nodeI.inputs.node.value"
   ]
  },
  {
   "cell_type": "code",
   "execution_count": 9,
   "id": "97fb4794-fa3e-44dc-8f6c-7d1fedbe41bd",
   "metadata": {},
   "outputs": [
    {
     "data": {
      "text/plain": [
       "'53ac213be901c9c01914b0184ad75b68bed31310fdbf559557cc1a9fce9e025d'"
      ]
     },
     "execution_count": 9,
     "metadata": {},
     "output_type": "execute_result"
    }
   ],
   "source": [
    "idb.get_hash(nodeI.inputs.node.value.node)"
   ]
  },
  {
   "cell_type": "code",
   "execution_count": 10,
   "id": "380f89ed-bd62-4d53-958c-9bef189de032",
   "metadata": {},
   "outputs": [
    {
     "data": {
      "text/html": [
       "<div>\n",
       "<style scoped>\n",
       "    .dataframe tbody tr th:only-of-type {\n",
       "        vertical-align: middle;\n",
       "    }\n",
       "\n",
       "    .dataframe tbody tr th {\n",
       "        vertical-align: top;\n",
       "    }\n",
       "\n",
       "    .dataframe thead th {\n",
       "        text-align: right;\n",
       "    }\n",
       "</style>\n",
       "<table border=\"1\" class=\"dataframe\">\n",
       "  <thead>\n",
       "    <tr style=\"text-align: right;\">\n",
       "      <th></th>\n",
       "      <th>label</th>\n",
       "      <th>type</th>\n",
       "      <th>default</th>\n",
       "      <th>ready</th>\n",
       "      <th>value</th>\n",
       "      <th>node</th>\n",
       "    </tr>\n",
       "  </thead>\n",
       "  <tbody>\n",
       "    <tr>\n",
       "      <th>0</th>\n",
       "      <td>name</td>\n",
       "      <td>str</td>\n",
       "      <td>NotData</td>\n",
       "      <td>True</td>\n",
       "      <td>Al</td>\n",
       "      <td>&lt;pyiron_workflow.simple_workflow.Node object a...</td>\n",
       "    </tr>\n",
       "    <tr>\n",
       "      <th>1</th>\n",
       "      <td>a</td>\n",
       "      <td>float</td>\n",
       "      <td>None</td>\n",
       "      <td>True</td>\n",
       "      <td>None</td>\n",
       "      <td>&lt;pyiron_workflow.simple_workflow.Node object a...</td>\n",
       "    </tr>\n",
       "    <tr>\n",
       "      <th>2</th>\n",
       "      <td>store</td>\n",
       "      <td>bool</td>\n",
       "      <td>True</td>\n",
       "      <td>True</td>\n",
       "      <td>True</td>\n",
       "      <td>&lt;pyiron_workflow.simple_workflow.Node object a...</td>\n",
       "    </tr>\n",
       "    <tr>\n",
       "      <th>3</th>\n",
       "      <td>_db</td>\n",
       "      <td>None</td>\n",
       "      <td>None</td>\n",
       "      <td>True</td>\n",
       "      <td>label                                         ...</td>\n",
       "      <td>&lt;pyiron_workflow.simple_workflow.Node object a...</td>\n",
       "    </tr>\n",
       "  </tbody>\n",
       "</table>\n",
       "</div>"
      ],
      "text/plain": [
       "{'label': ['name', 'a', 'store', '_db'], 'type': ['str', 'float', 'bool', 'None'], 'default': ['NotData', None, True, None], 'ready': [True, True, True, True], 'value': ['Al', None, True, label                                                   db\n",
       "type                                     builtins.NoneType\n",
       "ready                                                False\n",
       "value                                                 None\n",
       "node     <pyiron_workflow.simple_workflow.Node object a...\n",
       "dtype: object], 'node': [<pyiron_workflow.simple_workflow.Node object at 0x15807fa70>, <pyiron_workflow.simple_workflow.Node object at 0x15807fa70>, <pyiron_workflow.simple_workflow.Node object at 0x15807fa70>, <pyiron_workflow.simple_workflow.Node object at 0x15807fa70>]}"
      ]
     },
     "execution_count": 10,
     "metadata": {},
     "output_type": "execute_result"
    }
   ],
   "source": [
    " nodeI.inputs.node.value.node.inputs"
   ]
  },
  {
   "cell_type": "code",
   "execution_count": 11,
   "id": "f4f43abb-a053-4b81-8856-e96b559b76e7",
   "metadata": {},
   "outputs": [
    {
     "data": {
      "text/plain": [
       "[2, 3, 1]"
      ]
     },
     "execution_count": 11,
     "metadata": {},
     "output_type": "execute_result"
    }
   ],
   "source": [
    "base._find_input_nodes(base._remove_node_inputs(graph), 1)"
   ]
  },
  {
   "cell_type": "code",
   "execution_count": 12,
   "id": "fd540859-c999-408f-8b16-5e249121cd8b",
   "metadata": {},
   "outputs": [],
   "source": [
    "from pyiron_workflow.simple_workflow import extract_output_parameters_from_function, _return_as_macro_node"
   ]
  },
  {
   "cell_type": "code",
   "execution_count": 13,
   "id": "cbb55e5e-26ce-4c93-a0bb-7c1987b2cb68",
   "metadata": {},
   "outputs": [
    {
     "data": {
      "text/plain": [
       "<function pyiron_nodes.local_workflows.test.BulkStaticEnergy(name: str, a: float = None, store: bool = True, _db=None) -> float>"
      ]
     },
     "execution_count": 13,
     "metadata": {},
     "output_type": "execute_result"
    }
   ],
   "source": [
    "import pyiron_nodes as pn\n",
    "\n",
    "pn.local_workflows.test.BulkStaticEnergy"
   ]
  },
  {
   "cell_type": "code",
   "execution_count": 14,
   "id": "5e5a9a21-d6cf-4d77-be6e-48d9181219ba",
   "metadata": {},
   "outputs": [],
   "source": [
    "from pyiron_workflow import as_macro_node, as_function_node, Node, Port\n",
    "\n",
    "@as_function_node(\"energy\")\n",
    "def BulkStaticEnergy(name: str, a: float = None):\n",
    "\n",
    "    from pyiron_workflow import Workflow\n",
    "    import pyiron_nodes\n",
    "\n",
    "    wf = Workflow('subgraph')\n",
    "\n",
    "    wf.Bulk = pyiron_nodes.atomistic.structure.build.Bulk(name=name, a=a) \n",
    "    wf.M3GNet = pyiron_nodes.atomistic.engine.ase.M3GNet() \n",
    "    wf.Static = pyiron_nodes.atomistic.calculator.ase.Static(structure=wf.Bulk, engine=wf.M3GNet) \n",
    "    wf.GetEnergyLast = pyiron_nodes.atomistic.calculator.output.GetEnergyLast(calculator=wf.Static) \n",
    "\n",
    "    out = wf.GetEnergyLast.pull()\n",
    "\n",
    "    return out\n",
    "\n",
    "    # return wf.GetEnergyLast.outputs.energy_last"
   ]
  },
  {
   "cell_type": "code",
   "execution_count": 15,
   "id": "7012209d-d5ed-4ec0-b184-69a1ffe25258",
   "metadata": {},
   "outputs": [],
   "source": [
    "@as_macro_node([\"BulkStaticEnergy\", \"BulkStructure\"])\n",
    "def BulkStaticEnergy(name: str, a: float = None):\n",
    "\n",
    "    from pyiron_workflow import Workflow\n",
    "    import pyiron_nodes\n",
    "\n",
    "    wf = Workflow('subgraph')\n",
    "\n",
    "    wf.Bulk = pyiron_nodes.atomistic.structure.build.Bulk(name=name, a=a) \n",
    "    wf.M3GNet = pyiron_nodes.atomistic.engine.ase.M3GNet() \n",
    "    wf.Static = pyiron_nodes.atomistic.calculator.ase.Static(structure=wf.Bulk, engine=wf.M3GNet) \n",
    "    wf.GetEnergyLast = pyiron_nodes.atomistic.calculator.output.GetEnergyLast(calculator=wf.Static) \n",
    "\n",
    "    return wf.GetEnergyLast.outputs.energy_last, wf.Bulk"
   ]
  },
  {
   "cell_type": "code",
   "execution_count": 16,
   "id": "2d8cc9bb-58bb-4514-a56f-9de1bffff150",
   "metadata": {},
   "outputs": [
    {
     "data": {
      "text/plain": [
       "['BulkStaticEnergy', 'BulkStructure']"
      ]
     },
     "execution_count": 16,
     "metadata": {},
     "output_type": "execute_result"
    }
   ],
   "source": [
    "args = [\"BulkStaticEnergy\", \"BulkStructure\"]\n",
    "# print(\"args\", args, isinstance(args[0], str))\n",
    "if isinstance(args[0], str):\n",
    "    output_labels = list(args)\n",
    "else:\n",
    "    output_labels = None\n",
    "output_labels"
   ]
  },
  {
   "cell_type": "code",
   "execution_count": 17,
   "id": "31842ea1-05dd-4667-86f8-b60caa4a31d6",
   "metadata": {},
   "outputs": [
    {
     "name": "stderr",
     "output_type": "stream",
     "text": [
      "/Users/liamhuber/dev/miniforge3/envs/pycor12/lib/python3.12/site-packages/matgl/apps/pes.py:69: UserWarning: To copy construct from a tensor, it is recommended to use sourceTensor.clone().detach() or sourceTensor.clone().detach().requires_grad_(True), rather than torch.tensor(sourceTensor).\n",
      "  self.element_refs = AtomRef(property_offset=torch.tensor(element_refs, dtype=matgl.float_th))\n",
      "/Users/liamhuber/dev/miniforge3/envs/pycor12/lib/python3.12/site-packages/matgl/apps/pes.py:75: UserWarning: To copy construct from a tensor, it is recommended to use sourceTensor.clone().detach() or sourceTensor.clone().detach().requires_grad_(True), rather than torch.tensor(sourceTensor).\n",
      "  self.register_buffer(\"data_mean\", torch.tensor(data_mean, dtype=matgl.float_th))\n",
      "/Users/liamhuber/dev/miniforge3/envs/pycor12/lib/python3.12/site-packages/matgl/apps/pes.py:76: UserWarning: To copy construct from a tensor, it is recommended to use sourceTensor.clone().detach() or sourceTensor.clone().detach().requires_grad_(True), rather than torch.tensor(sourceTensor).\n",
      "  self.register_buffer(\"data_std\", torch.tensor(data_std, dtype=matgl.float_th))\n",
      "DEBUG:pyiron_log:Not supported parameter used!\n"
     ]
    },
    {
     "data": {
      "text/plain": [
       "(-3.701530933380127,\n",
       " Al: [0. 0. 0.]\n",
       " tags: \n",
       "     indices: [0]\n",
       " pbc: [ True  True  True]\n",
       " cell: \n",
       " Cell([[0.0, 2.025, 2.025], [2.025, 0.0, 2.025], [2.025, 2.025, 0.0]]))"
      ]
     },
     "execution_count": 17,
     "metadata": {},
     "output_type": "execute_result"
    }
   ],
   "source": [
    "out = BulkStaticEnergy(name='Al').run()\n",
    "out\n",
    "#isinstance(out, Port)\n",
    "#out.node._workflow.run()\n",
    "# out._workflow.run()\n",
    "# _return_as_macro_node(BulkStaticEnergy('Al'), 'Bulk', 'Energy', 'macro')"
   ]
  },
  {
   "cell_type": "code",
   "execution_count": 18,
   "id": "fec534bb-ebb0-4717-90c2-e3dfa4649c1f",
   "metadata": {},
   "outputs": [
    {
     "data": {
      "text/plain": [
       "'graph'"
      ]
     },
     "execution_count": 18,
     "metadata": {},
     "output_type": "execute_result"
    }
   ],
   "source": [
    "select_graph_by_name(pf, \"murnaghan2\")\n",
    "pf.graph.nodes[\"subgraph\"].node.node_type"
   ]
  },
  {
   "cell_type": "code",
   "execution_count": 19,
   "id": "2372e1fe-8aa8-445f-ae1e-5981906d48d6",
   "metadata": {},
   "outputs": [
    {
     "data": {
      "text/html": [
       "<div>\n",
       "<style scoped>\n",
       "    .dataframe tbody tr th:only-of-type {\n",
       "        vertical-align: middle;\n",
       "    }\n",
       "\n",
       "    .dataframe tbody tr th {\n",
       "        vertical-align: top;\n",
       "    }\n",
       "\n",
       "    .dataframe thead th {\n",
       "        text-align: right;\n",
       "    }\n",
       "</style>\n",
       "<table border=\"1\" class=\"dataframe\">\n",
       "  <thead>\n",
       "    <tr style=\"text-align: right;\">\n",
       "      <th></th>\n",
       "      <th>label</th>\n",
       "      <th>value</th>\n",
       "      <th>type</th>\n",
       "      <th>default</th>\n",
       "      <th>ready</th>\n",
       "    </tr>\n",
       "  </thead>\n",
       "  <tbody>\n",
       "    <tr>\n",
       "      <th>0</th>\n",
       "      <td>Bulk__name</td>\n",
       "      <td>Al</td>\n",
       "      <td>str</td>\n",
       "      <td>NotData</td>\n",
       "      <td>True</td>\n",
       "    </tr>\n",
       "    <tr>\n",
       "      <th>1</th>\n",
       "      <td>Bulk__a</td>\n",
       "      <td>2</td>\n",
       "      <td>float</td>\n",
       "      <td>None</td>\n",
       "      <td>True</td>\n",
       "    </tr>\n",
       "  </tbody>\n",
       "</table>\n",
       "</div>"
      ],
      "text/plain": [
       "{'label': ['Bulk__name', 'Bulk__a'], 'value': ['Al', 2], 'type': ['str', 'float'], 'default': ['NotData', None], 'ready': [True, True]}"
      ]
     },
     "execution_count": 19,
     "metadata": {},
     "output_type": "execute_result"
    }
   ],
   "source": [
    "base.get_inputs_of_graph(pf.graph.nodes[\"subgraph\"].graph, exclude_unconnected_default_ports=True)"
   ]
  },
  {
   "cell_type": "code",
   "execution_count": 20,
   "id": "8f4baa0a-b4da-469b-8d3d-f145a5a5ec8a",
   "metadata": {},
   "outputs": [
    {
     "name": "stdout",
     "output_type": "stream",
     "text": [
      "\n",
      "def subgraph(name: str, a: float = None):\n",
      "\n",
      "    from pyiron_workflow import Workflow\n",
      "    import pyiron_nodes\n",
      "\n",
      "    wf = Workflow('subgraph')\n",
      "\n",
      "    wf.Bulk = pyiron_nodes.atomistic.structure.build.Bulk(name=name, a=a) \n",
      "    wf.M3GNet = pyiron_nodes.atomistic.engine.ase.M3GNet() \n",
      "    wf.Static = pyiron_nodes.atomistic.calculator.ase.Static(structure=wf.Bulk, engine=wf.M3GNet) \n",
      "    wf.GetEnergyLast = pyiron_nodes.atomistic.calculator.output.GetEnergyLast(calculator=wf.Static) \n",
      "\n",
      "    return wf.GetEnergyLast.outputs.energy_last\n",
      "\n"
     ]
    }
   ],
   "source": [
    "print(base.get_code_from_graph(pf.graph.nodes[\"subgraph\"].graph))"
   ]
  },
  {
   "cell_type": "code",
   "execution_count": 21,
   "id": "2749dde6-b858-4fac-9272-1b4617950a26",
   "metadata": {},
   "outputs": [],
   "source": [
    "# db  # NameError: name 'db' is not defined"
   ]
  },
  {
   "cell_type": "markdown",
   "id": "19ccb294-f3e9-4fd1-8ba8-a7846672f251",
   "metadata": {},
   "source": [
    "From here on, we need the database to actually be populated with results from our workflows. Since this is not part of our static data, obtain it by simply re-running each of the existing workflows."
   ]
  },
  {
   "cell_type": "code",
   "execution_count": 22,
   "id": "e55618aa-936f-444c-bcbb-602974375cac",
   "metadata": {},
   "outputs": [
    {
     "name": "stderr",
     "output_type": "stream",
     "text": [
      "/Users/liamhuber/dev/miniforge3/envs/pycor12/lib/python3.12/site-packages/matgl/apps/pes.py:69: UserWarning: To copy construct from a tensor, it is recommended to use sourceTensor.clone().detach() or sourceTensor.clone().detach().requires_grad_(True), rather than torch.tensor(sourceTensor).\n",
      "  self.element_refs = AtomRef(property_offset=torch.tensor(element_refs, dtype=matgl.float_th))\n",
      "/Users/liamhuber/dev/miniforge3/envs/pycor12/lib/python3.12/site-packages/matgl/apps/pes.py:75: UserWarning: To copy construct from a tensor, it is recommended to use sourceTensor.clone().detach() or sourceTensor.clone().detach().requires_grad_(True), rather than torch.tensor(sourceTensor).\n",
      "  self.register_buffer(\"data_mean\", torch.tensor(data_mean, dtype=matgl.float_th))\n",
      "/Users/liamhuber/dev/miniforge3/envs/pycor12/lib/python3.12/site-packages/matgl/apps/pes.py:76: UserWarning: To copy construct from a tensor, it is recommended to use sourceTensor.clone().detach() or sourceTensor.clone().detach().requires_grad_(True), rather than torch.tensor(sourceTensor).\n",
      "  self.register_buffer(\"data_std\", torch.tensor(data_std, dtype=matgl.float_th))\n",
      "DEBUG:pyiron_log:Not supported parameter used!\n"
     ]
    },
    {
     "name": "stdout",
     "output_type": "stream",
     "text": [
      "Ensuring execution for murnaghan2\n",
      "Running node Linspace\n",
      "Running node CreateDB\n",
      "Running node IterNode\n",
      "Restoring node outputs  9bd7911eb91f5326720e2753be05f5fde5a2edef5bc7c0d66e12817ffb145501 False\n",
      "No stored data found for node:  IterNode\n",
      "copy node (port):  subgraph fb6471b1fc8bd5750d43fac2f3f132e61276aec65b34f665550cafe024c01e2a\n"
     ]
    },
    {
     "name": "stderr",
     "output_type": "stream",
     "text": [
      "DEBUG:pyiron_log:Not supported parameter used!\n",
      "DEBUG:pyiron_log:Not supported parameter used!\n",
      "DEBUG:pyiron_log:Not supported parameter used!\n",
      "DEBUG:pyiron_log:Not supported parameter used!\n",
      "DEBUG:pyiron_log:Not supported parameter used!\n",
      "DEBUG:pyiron_log:Not supported parameter used!\n",
      "/Users/liamhuber/dev/miniforge3/envs/pycor12/lib/python3.12/site-packages/matgl/apps/pes.py:69: UserWarning: To copy construct from a tensor, it is recommended to use sourceTensor.clone().detach() or sourceTensor.clone().detach().requires_grad_(True), rather than torch.tensor(sourceTensor).\n",
      "  self.element_refs = AtomRef(property_offset=torch.tensor(element_refs, dtype=matgl.float_th))\n",
      "/Users/liamhuber/dev/miniforge3/envs/pycor12/lib/python3.12/site-packages/matgl/apps/pes.py:75: UserWarning: To copy construct from a tensor, it is recommended to use sourceTensor.clone().detach() or sourceTensor.clone().detach().requires_grad_(True), rather than torch.tensor(sourceTensor).\n",
      "  self.register_buffer(\"data_mean\", torch.tensor(data_mean, dtype=matgl.float_th))\n",
      "/Users/liamhuber/dev/miniforge3/envs/pycor12/lib/python3.12/site-packages/matgl/apps/pes.py:76: UserWarning: To copy construct from a tensor, it is recommended to use sourceTensor.clone().detach() or sourceTensor.clone().detach().requires_grad_(True), rather than torch.tensor(sourceTensor).\n",
      "  self.register_buffer(\"data_std\", torch.tensor(data_std, dtype=matgl.float_th))\n",
      "DEBUG:pyiron_log:Not supported parameter used!\n",
      "DEBUG:pyiron_log:Not supported parameter used!\n",
      "DEBUG:pyiron_log:Not supported parameter used!\n",
      "DEBUG:pyiron_log:Not supported parameter used!\n"
     ]
    },
    {
     "name": "stdout",
     "output_type": "stream",
     "text": [
      "serialization needed\n",
      "stored:  IterNode .storage/10cbd2c7503397244d3b8ba7eda766aca96cb845aee39ea8904fd6336df60979.hdf5\n",
      "Running node CreateDB\n",
      "Running node ShowTable\n",
      "Ensuring execution for energy\n",
      "Running node Bulk\n",
      "Running node M3GNet\n",
      "Running node CreateDB\n",
      "Running node Static\n",
      "Running node GetEnergyLast\n",
      "serialization not needed\n",
      "stored:  GetEnergyLast .storage/9288d0ad5c831775093dab6a9f2e1a7100f6ab7d3e6c4220ddbacf4fb809d386.hdf5\n",
      "Running node CreateDB\n",
      "Running node ShowTable\n",
      "Ensuring execution for murn4\n",
      "Running node Linspace\n",
      "Running node CreateDB\n",
      "Running node IterNode\n",
      "Restoring node outputs  f5acb73836985369d523b5587504f9860c2fe7ce84c027e6f2d2ffb6e655a28d False\n",
      "No stored data found for node:  IterNode\n",
      "copy node (port):  BulkStaticEnergyF 53ac213be901c9c01914b0184ad75b68bed31310fdbf559557cc1a9fce9e025d\n",
      "Restoring node outputs  2ce3c3a3d5a648f7bd704d950f60cc384fe8caa26f9624777782003cd273dffc False\n",
      "No stored data found for node:  BulkStaticEnergyF\n",
      "serialization not needed\n",
      "stored:  BulkStaticEnergyF .storage/2ce3c3a3d5a648f7bd704d950f60cc384fe8caa26f9624777782003cd273dffc.hdf5\n",
      "Restoring node outputs  276310e6b46125c446f61274ed951cd586592522fd3d9b7ee27712c56ac7794b False\n",
      "No stored data found for node:  BulkStaticEnergyF\n",
      "serialization not needed\n",
      "stored:  BulkStaticEnergyF .storage/276310e6b46125c446f61274ed951cd586592522fd3d9b7ee27712c56ac7794b.hdf5\n",
      "Restoring node outputs  326a33c2e7afee21d07eb52957f15300e6c2488adda65ef5c095632b1ae9de66 False\n",
      "No stored data found for node:  BulkStaticEnergyF\n",
      "serialization not needed\n",
      "stored:  BulkStaticEnergyF .storage/326a33c2e7afee21d07eb52957f15300e6c2488adda65ef5c095632b1ae9de66.hdf5\n",
      "Restoring node outputs  b60f6d99ddffb5207c332b1e74690acb40681935b1895136516bbe8e78f16213 False\n",
      "No stored data found for node:  BulkStaticEnergyF\n"
     ]
    },
    {
     "name": "stderr",
     "output_type": "stream",
     "text": [
      "DEBUG:pyiron_log:Not supported parameter used!\n",
      "DEBUG:pyiron_log:Not supported parameter used!\n",
      "/Users/liamhuber/dev/miniforge3/envs/pycor12/lib/python3.12/site-packages/dgl/core.py:82: DGLWarning: The input graph for the user-defined edge function does not contain valid edges\n",
      "  dgl_warning(\n",
      "DEBUG:pyiron_log:Not supported parameter used!\n",
      "DEBUG:pyiron_log:Not supported parameter used!\n"
     ]
    },
    {
     "name": "stdout",
     "output_type": "stream",
     "text": [
      "serialization not needed\n",
      "stored:  BulkStaticEnergyF .storage/b60f6d99ddffb5207c332b1e74690acb40681935b1895136516bbe8e78f16213.hdf5\n",
      "Restoring node outputs  739d468e8a6545995369fb7c9c9e13d2fd367c0a3505b3fb40dd3f583db369b6 False\n",
      "No stored data found for node:  BulkStaticEnergyF\n",
      "serialization not needed\n",
      "stored:  BulkStaticEnergyF .storage/739d468e8a6545995369fb7c9c9e13d2fd367c0a3505b3fb40dd3f583db369b6.hdf5\n",
      "Restoring node outputs  5b7e6a6570012f882b7b6af8c682d4e820c0bcd1738c6d231680492495c60ed9 False\n",
      "No stored data found for node:  BulkStaticEnergyF\n",
      "serialization not needed\n",
      "stored:  BulkStaticEnergyF .storage/5b7e6a6570012f882b7b6af8c682d4e820c0bcd1738c6d231680492495c60ed9.hdf5\n",
      "Restoring node outputs  44b1dc2862608dd3150b77d8efcbba02be1ec99a6f328d7d02928ccd6873ba02 False\n",
      "No stored data found for node:  BulkStaticEnergyF\n",
      "serialization not needed\n",
      "stored:  BulkStaticEnergyF .storage/44b1dc2862608dd3150b77d8efcbba02be1ec99a6f328d7d02928ccd6873ba02.hdf5\n",
      "serialization needed\n",
      "stored:  IterNode .storage/f5c928583d904077ffd1a089694cbfe51222ee5d567d14d743f733f2be38fdd1.hdf5\n",
      "Running node CreateDB\n",
      "Running node ShowTable\n"
     ]
    }
   ],
   "source": [
    "def pull_all_terminal_nodes(graph: base.Graph, _verbose: bool = False):\n",
    "    graph_copy = base.get_updated_graph(graph)\n",
    "    for label, graph_node in graph_copy.nodes.items():\n",
    "        is_virtual = (\n",
    "            graph_node.node_type != \"node\" # Is this true? Is a \"graph\" node_type always virtual?\n",
    "            and graph_node.node is not None  # These are virtual IO nodes\n",
    "        )\n",
    "        is_terminal = label not in graph.edges.df[\"source\"].values\n",
    "        \n",
    "        if is_terminal and not is_virtual:\n",
    "            if _verbose:\n",
    "                print(\"Pulling\", label)\n",
    "            base.pull_node(graph_copy, label)\n",
    "\n",
    "for wfw in pf.wf_widgets:\n",
    "    if wfw.graph.label == \"db\":\n",
    "        # The GetGraph node of this workflow fails for the stored \"node_id\" of 20\n",
    "        # It also fails if I go back and set this to 0\n",
    "        # I don't know what should be in the database at this point, but it isn't\n",
    "        continue\n",
    "    print(\"Ensuring execution for\", wfw.graph.label)\n",
    "    pull_all_terminal_nodes(wfw.graph)"
   ]
  },
  {
   "cell_type": "code",
   "execution_count": 23,
   "id": "12d6e757-6259-4bee-b541-65b6f629d273",
   "metadata": {},
   "outputs": [
    {
     "data": {
      "text/plain": [
       "'9288d0ad5c831775093dab6a9f2e1a7100f6ab7d3e6c4220ddbacf4fb809d386'"
      ]
     },
     "execution_count": 23,
     "metadata": {},
     "output_type": "execute_result"
    }
   ],
   "source": [
    "select_graph_by_name(pf, \"murn4\")\n",
    "pf.graph.nodes[\"ShowTable\"].node.outputs.df.value.iloc[7].hash"
   ]
  },
  {
   "cell_type": "code",
   "execution_count": 24,
   "id": "7023b589-21ec-4091-ae82-b4c8e07deb23",
   "metadata": {},
   "outputs": [],
   "source": [
    "from pyiron_database.instance_database import restore_node_from_database, PostgreSQLInstanceDatabase\n",
    "from sqlalchemy.orm import sessionmaker\n",
    "import pandas as pd\n",
    "\n",
    "user = 'localuser'\n",
    "password = 'none'\n",
    "host = 'localhost'\n",
    "port = '5432'\n",
    "database = 'localdb'\n",
    "\n",
    "connection_str = f'postgresql://{user}:{password}@{host}:{port}/{database}'\n",
    "db = PostgreSQLInstanceDatabase(connection_str)\n",
    "# db.drop()  # But if we do this, we lose all our data?!\n",
    "# db.init()\n",
    "\n"
   ]
  },
  {
   "cell_type": "code",
   "execution_count": 25,
   "id": "71494653-4144-428e-aa18-e36d4775e32d",
   "metadata": {
    "scrolled": true
   },
   "outputs": [
    {
     "data": {
      "application/vnd.jupyter.widget-view+json": {
       "model_id": "488b831a490c4960bbed46cbffef5284",
       "version_major": 2,
       "version_minor": 1
      },
      "text/plain": [
       "ReactFlowWidget(layout=Layout(height='600px', width='800px'))"
      ]
     },
     "metadata": {},
     "output_type": "display_data"
    },
    {
     "data": {
      "text/plain": [
       "<pyiron_workflow.graph.base.GuiGraph at 0x31667c950>"
      ]
     },
     "execution_count": 25,
     "metadata": {},
     "output_type": "execute_result"
    }
   ],
   "source": [
    "Session = sessionmaker(bind=db.engine)\n",
    "session = Session()\n",
    "\n",
    "df = pd.read_sql(session.query(db.table).statement, session.bind)\n",
    "\n",
    "session.close()\n",
    "\n",
    "_, graph = restore_node_from_database(db=db, node_hash=df.hash.iloc[6]) #[19])\n",
    "#_, graph = restore_node_from_database(db=db, node_hash='cf0bda97885d0ddf6b8a4cd1a92d38806147e0721a9f646cfb3a37487dd6a7b2')\n",
    "base.GuiGraph(graph)"
   ]
  },
  {
   "cell_type": "code",
   "execution_count": 26,
   "id": "0f0165f2-f3b5-4c99-842e-cadaa7d6f956",
   "metadata": {},
   "outputs": [
    {
     "data": {
      "text/html": [
       "<div>\n",
       "<style scoped>\n",
       "    .dataframe tbody tr th:only-of-type {\n",
       "        vertical-align: middle;\n",
       "    }\n",
       "\n",
       "    .dataframe tbody tr th {\n",
       "        vertical-align: top;\n",
       "    }\n",
       "\n",
       "    .dataframe thead th {\n",
       "        text-align: right;\n",
       "    }\n",
       "</style>\n",
       "<table border=\"1\" class=\"dataframe\">\n",
       "  <thead>\n",
       "    <tr style=\"text-align: right;\">\n",
       "      <th></th>\n",
       "      <th>hash</th>\n",
       "      <th>qualname</th>\n",
       "      <th>module</th>\n",
       "      <th>version</th>\n",
       "      <th>connected_inputs</th>\n",
       "      <th>inputs</th>\n",
       "      <th>outputs</th>\n",
       "      <th>output_path</th>\n",
       "      <th>master_hash</th>\n",
       "      <th>start_time</th>\n",
       "      <th>cpu_time</th>\n",
       "      <th>executor</th>\n",
       "      <th>user</th>\n",
       "    </tr>\n",
       "  </thead>\n",
       "  <tbody>\n",
       "    <tr>\n",
       "      <th>0</th>\n",
       "      <td>39669a289cc8b85c2e0774812b662253c661d306ef02d9...</td>\n",
       "      <td>subgraph</td>\n",
       "      <td>pyiron_workflow.graph.base</td>\n",
       "      <td>not_defined</td>\n",
       "      <td>[]</td>\n",
       "      <td>{'Bulk__a': 2.2, 'Bulk__name': 'Al'}</td>\n",
       "      <td>[GetEnergyLast__energy_last]</td>\n",
       "      <td>None</td>\n",
       "      <td>fb6471b1fc8bd5750d43fac2f3f132e61276aec65b34f6...</td>\n",
       "      <td>2025-05-16 15:41:02.283565</td>\n",
       "      <td>0.047770</td>\n",
       "      <td>None</td>\n",
       "      <td>liamhuber</td>\n",
       "    </tr>\n",
       "    <tr>\n",
       "      <th>1</th>\n",
       "      <td>11e5f779d5a00821a3a28813c8cdb0c83a38c1fedce8e6...</td>\n",
       "      <td>Linspace</td>\n",
       "      <td>pyiron_nodes.math</td>\n",
       "      <td>not_defined</td>\n",
       "      <td>[]</td>\n",
       "      <td>{'x_max': 2.2, 'x_min': 1.8, 'endpoint': True,...</td>\n",
       "      <td>[linspace]</td>\n",
       "      <td>None</td>\n",
       "      <td>None</td>\n",
       "      <td>2025-05-16 15:41:01.730376</td>\n",
       "      <td>0.000043</td>\n",
       "      <td>None</td>\n",
       "      <td>liamhuber</td>\n",
       "    </tr>\n",
       "    <tr>\n",
       "      <th>2</th>\n",
       "      <td>64667395d1b66a8a0ef131b4bade730b217b32465b813b...</td>\n",
       "      <td>CreateDB</td>\n",
       "      <td>pyiron_nodes.databases.node_hash_db</td>\n",
       "      <td>not_defined</td>\n",
       "      <td>[]</td>\n",
       "      <td>{'host': 'localhost', 'port': 5432, 'user': 'l...</td>\n",
       "      <td>[db]</td>\n",
       "      <td>None</td>\n",
       "      <td>None</td>\n",
       "      <td>2025-05-16 15:41:01.730431</td>\n",
       "      <td>0.056408</td>\n",
       "      <td>None</td>\n",
       "      <td>liamhuber</td>\n",
       "    </tr>\n",
       "    <tr>\n",
       "      <th>3</th>\n",
       "      <td>10cbd2c7503397244d3b8ba7eda766aca96cb845aee39e...</td>\n",
       "      <td>IterNode</td>\n",
       "      <td>pyiron_nodes.executors</td>\n",
       "      <td>not_defined</td>\n",
       "      <td>[node, kwarg_list, _db]</td>\n",
       "      <td>{'_db': '64667395d1b66a8a0ef131b4bade730b217b3...</td>\n",
       "      <td>[df]</td>\n",
       "      <td>None</td>\n",
       "      <td>None</td>\n",
       "      <td>2025-05-16 15:41:01.820286</td>\n",
       "      <td>0.511176</td>\n",
       "      <td>None</td>\n",
       "      <td>liamhuber</td>\n",
       "    </tr>\n",
       "    <tr>\n",
       "      <th>4</th>\n",
       "      <td>7b4123d2f2ee2e9877493b62f6becb05f0483761d43031...</td>\n",
       "      <td>Bulk</td>\n",
       "      <td>pyiron_nodes.atomistic.structure.build</td>\n",
       "      <td>not_defined</td>\n",
       "      <td>[]</td>\n",
       "      <td>{'a': None, 'c': None, 'u': None, 'name': 'Al'...</td>\n",
       "      <td>[structure]</td>\n",
       "      <td>None</td>\n",
       "      <td>None</td>\n",
       "      <td>2025-05-16 15:41:02.367896</td>\n",
       "      <td>0.000222</td>\n",
       "      <td>None</td>\n",
       "      <td>liamhuber</td>\n",
       "    </tr>\n",
       "    <tr>\n",
       "      <th>5</th>\n",
       "      <td>635cc10c63f0d96564a0eeb790d4adf102485cc41e475f...</td>\n",
       "      <td>M3GNet</td>\n",
       "      <td>pyiron_nodes.atomistic.engine.ase</td>\n",
       "      <td>not_defined</td>\n",
       "      <td>[]</td>\n",
       "      <td>{'model': 'M3GNet-MP-2021.2.8-PES'}</td>\n",
       "      <td>[out]</td>\n",
       "      <td>None</td>\n",
       "      <td>None</td>\n",
       "      <td>2025-05-16 15:41:02.368129</td>\n",
       "      <td>0.014791</td>\n",
       "      <td>None</td>\n",
       "      <td>liamhuber</td>\n",
       "    </tr>\n",
       "    <tr>\n",
       "      <th>6</th>\n",
       "      <td>29624f6695f9b692420ba8f88e6a7965fff1347d9148b9...</td>\n",
       "      <td>Static</td>\n",
       "      <td>pyiron_nodes.atomistic.calculator.ase</td>\n",
       "      <td>not_defined</td>\n",
       "      <td>[structure, engine]</td>\n",
       "      <td>{'engine': '635cc10c63f0d96564a0eeb790d4adf102...</td>\n",
       "      <td>[out]</td>\n",
       "      <td>None</td>\n",
       "      <td>None</td>\n",
       "      <td>2025-05-16 15:41:02.387569</td>\n",
       "      <td>0.008069</td>\n",
       "      <td>None</td>\n",
       "      <td>liamhuber</td>\n",
       "    </tr>\n",
       "    <tr>\n",
       "      <th>7</th>\n",
       "      <td>9288d0ad5c831775093dab6a9f2e1a7100f6ab7d3e6c42...</td>\n",
       "      <td>GetEnergyLast</td>\n",
       "      <td>pyiron_nodes.atomistic.calculator.output</td>\n",
       "      <td>not_defined</td>\n",
       "      <td>[calculator, _db]</td>\n",
       "      <td>{'_db': '64667395d1b66a8a0ef131b4bade730b217b3...</td>\n",
       "      <td>[energy_last]</td>\n",
       "      <td>None</td>\n",
       "      <td>None</td>\n",
       "      <td>2025-05-16 15:41:02.395662</td>\n",
       "      <td>0.003588</td>\n",
       "      <td>None</td>\n",
       "      <td>liamhuber</td>\n",
       "    </tr>\n",
       "    <tr>\n",
       "      <th>8</th>\n",
       "      <td>2ce3c3a3d5a648f7bd704d950f60cc384fe8caa26f9624...</td>\n",
       "      <td>BulkStaticEnergyF</td>\n",
       "      <td>pyiron_nodes.local_workflows.test</td>\n",
       "      <td>not_defined</td>\n",
       "      <td>[_db]</td>\n",
       "      <td>{'a': 3.0, '_db': '64667395d1b66a8a0ef131b4bad...</td>\n",
       "      <td>[out]</td>\n",
       "      <td>None</td>\n",
       "      <td>53ac213be901c9c01914b0184ad75b68bed31310fdbf55...</td>\n",
       "      <td>2025-05-16 15:41:02.427688</td>\n",
       "      <td>0.032481</td>\n",
       "      <td>None</td>\n",
       "      <td>liamhuber</td>\n",
       "    </tr>\n",
       "    <tr>\n",
       "      <th>9</th>\n",
       "      <td>276310e6b46125c446f61274ed951cd586592522fd3d9b...</td>\n",
       "      <td>BulkStaticEnergyF</td>\n",
       "      <td>pyiron_nodes.local_workflows.test</td>\n",
       "      <td>not_defined</td>\n",
       "      <td>[_db]</td>\n",
       "      <td>{'a': 3.6666666666666665, '_db': '64667395d1b6...</td>\n",
       "      <td>[out]</td>\n",
       "      <td>None</td>\n",
       "      <td>53ac213be901c9c01914b0184ad75b68bed31310fdbf55...</td>\n",
       "      <td>2025-05-16 15:41:02.469771</td>\n",
       "      <td>0.026775</td>\n",
       "      <td>None</td>\n",
       "      <td>liamhuber</td>\n",
       "    </tr>\n",
       "    <tr>\n",
       "      <th>10</th>\n",
       "      <td>326a33c2e7afee21d07eb52957f15300e6c2488adda65e...</td>\n",
       "      <td>BulkStaticEnergyF</td>\n",
       "      <td>pyiron_nodes.local_workflows.test</td>\n",
       "      <td>not_defined</td>\n",
       "      <td>[_db]</td>\n",
       "      <td>{'a': 4.333333333333333, '_db': '64667395d1b66...</td>\n",
       "      <td>[out]</td>\n",
       "      <td>None</td>\n",
       "      <td>53ac213be901c9c01914b0184ad75b68bed31310fdbf55...</td>\n",
       "      <td>2025-05-16 15:41:02.505390</td>\n",
       "      <td>0.042036</td>\n",
       "      <td>None</td>\n",
       "      <td>liamhuber</td>\n",
       "    </tr>\n",
       "    <tr>\n",
       "      <th>11</th>\n",
       "      <td>b60f6d99ddffb5207c332b1e74690acb40681935b18951...</td>\n",
       "      <td>BulkStaticEnergyF</td>\n",
       "      <td>pyiron_nodes.local_workflows.test</td>\n",
       "      <td>not_defined</td>\n",
       "      <td>[_db]</td>\n",
       "      <td>{'a': 5.0, '_db': '64667395d1b66a8a0ef131b4bad...</td>\n",
       "      <td>[out]</td>\n",
       "      <td>None</td>\n",
       "      <td>53ac213be901c9c01914b0184ad75b68bed31310fdbf55...</td>\n",
       "      <td>2025-05-16 15:41:02.556235</td>\n",
       "      <td>0.028138</td>\n",
       "      <td>None</td>\n",
       "      <td>liamhuber</td>\n",
       "    </tr>\n",
       "    <tr>\n",
       "      <th>12</th>\n",
       "      <td>739d468e8a6545995369fb7c9c9e13d2fd367c0a3505b3...</td>\n",
       "      <td>BulkStaticEnergyF</td>\n",
       "      <td>pyiron_nodes.local_workflows.test</td>\n",
       "      <td>not_defined</td>\n",
       "      <td>[_db]</td>\n",
       "      <td>{'a': 5.666666666666666, '_db': '64667395d1b66...</td>\n",
       "      <td>[out]</td>\n",
       "      <td>None</td>\n",
       "      <td>53ac213be901c9c01914b0184ad75b68bed31310fdbf55...</td>\n",
       "      <td>2025-05-16 15:41:02.593421</td>\n",
       "      <td>0.026645</td>\n",
       "      <td>None</td>\n",
       "      <td>liamhuber</td>\n",
       "    </tr>\n",
       "    <tr>\n",
       "      <th>13</th>\n",
       "      <td>5b7e6a6570012f882b7b6af8c682d4e820c0bcd1738c6d...</td>\n",
       "      <td>BulkStaticEnergyF</td>\n",
       "      <td>pyiron_nodes.local_workflows.test</td>\n",
       "      <td>not_defined</td>\n",
       "      <td>[_db]</td>\n",
       "      <td>{'a': 6.333333333333333, '_db': '64667395d1b66...</td>\n",
       "      <td>[out]</td>\n",
       "      <td>None</td>\n",
       "      <td>53ac213be901c9c01914b0184ad75b68bed31310fdbf55...</td>\n",
       "      <td>2025-05-16 15:41:02.628978</td>\n",
       "      <td>0.025516</td>\n",
       "      <td>None</td>\n",
       "      <td>liamhuber</td>\n",
       "    </tr>\n",
       "    <tr>\n",
       "      <th>14</th>\n",
       "      <td>44b1dc2862608dd3150b77d8efcbba02be1ec99a6f328d...</td>\n",
       "      <td>BulkStaticEnergyF</td>\n",
       "      <td>pyiron_nodes.local_workflows.test</td>\n",
       "      <td>not_defined</td>\n",
       "      <td>[_db]</td>\n",
       "      <td>{'a': 7.0, '_db': '64667395d1b66a8a0ef131b4bad...</td>\n",
       "      <td>[out]</td>\n",
       "      <td>None</td>\n",
       "      <td>53ac213be901c9c01914b0184ad75b68bed31310fdbf55...</td>\n",
       "      <td>2025-05-16 15:41:02.663847</td>\n",
       "      <td>0.026404</td>\n",
       "      <td>None</td>\n",
       "      <td>liamhuber</td>\n",
       "    </tr>\n",
       "    <tr>\n",
       "      <th>15</th>\n",
       "      <td>ca2abd5b485ed9f04818939a438372a82cbf297e1243e6...</td>\n",
       "      <td>Linspace</td>\n",
       "      <td>pyiron_nodes.math</td>\n",
       "      <td>not_defined</td>\n",
       "      <td>[]</td>\n",
       "      <td>{'x_max': 7, 'x_min': 3, 'endpoint': True, 'nu...</td>\n",
       "      <td>[linspace]</td>\n",
       "      <td>None</td>\n",
       "      <td>None</td>\n",
       "      <td>2025-05-16 15:41:02.410491</td>\n",
       "      <td>0.000025</td>\n",
       "      <td>None</td>\n",
       "      <td>liamhuber</td>\n",
       "    </tr>\n",
       "    <tr>\n",
       "      <th>16</th>\n",
       "      <td>f5c928583d904077ffd1a089694cbfe51222ee5d567d14...</td>\n",
       "      <td>IterNode</td>\n",
       "      <td>pyiron_nodes.executors</td>\n",
       "      <td>not_defined</td>\n",
       "      <td>[node, kwarg_list, _db]</td>\n",
       "      <td>{'_db': '64667395d1b66a8a0ef131b4bade730b217b3...</td>\n",
       "      <td>[df]</td>\n",
       "      <td>None</td>\n",
       "      <td>None</td>\n",
       "      <td>2025-05-16 15:41:02.421616</td>\n",
       "      <td>0.271192</td>\n",
       "      <td>None</td>\n",
       "      <td>liamhuber</td>\n",
       "    </tr>\n",
       "  </tbody>\n",
       "</table>\n",
       "</div>"
      ],
      "text/plain": [
       "                                                 hash           qualname  \\\n",
       "0   39669a289cc8b85c2e0774812b662253c661d306ef02d9...           subgraph   \n",
       "1   11e5f779d5a00821a3a28813c8cdb0c83a38c1fedce8e6...           Linspace   \n",
       "2   64667395d1b66a8a0ef131b4bade730b217b32465b813b...           CreateDB   \n",
       "3   10cbd2c7503397244d3b8ba7eda766aca96cb845aee39e...           IterNode   \n",
       "4   7b4123d2f2ee2e9877493b62f6becb05f0483761d43031...               Bulk   \n",
       "5   635cc10c63f0d96564a0eeb790d4adf102485cc41e475f...             M3GNet   \n",
       "6   29624f6695f9b692420ba8f88e6a7965fff1347d9148b9...             Static   \n",
       "7   9288d0ad5c831775093dab6a9f2e1a7100f6ab7d3e6c42...      GetEnergyLast   \n",
       "8   2ce3c3a3d5a648f7bd704d950f60cc384fe8caa26f9624...  BulkStaticEnergyF   \n",
       "9   276310e6b46125c446f61274ed951cd586592522fd3d9b...  BulkStaticEnergyF   \n",
       "10  326a33c2e7afee21d07eb52957f15300e6c2488adda65e...  BulkStaticEnergyF   \n",
       "11  b60f6d99ddffb5207c332b1e74690acb40681935b18951...  BulkStaticEnergyF   \n",
       "12  739d468e8a6545995369fb7c9c9e13d2fd367c0a3505b3...  BulkStaticEnergyF   \n",
       "13  5b7e6a6570012f882b7b6af8c682d4e820c0bcd1738c6d...  BulkStaticEnergyF   \n",
       "14  44b1dc2862608dd3150b77d8efcbba02be1ec99a6f328d...  BulkStaticEnergyF   \n",
       "15  ca2abd5b485ed9f04818939a438372a82cbf297e1243e6...           Linspace   \n",
       "16  f5c928583d904077ffd1a089694cbfe51222ee5d567d14...           IterNode   \n",
       "\n",
       "                                      module      version  \\\n",
       "0                 pyiron_workflow.graph.base  not_defined   \n",
       "1                          pyiron_nodes.math  not_defined   \n",
       "2        pyiron_nodes.databases.node_hash_db  not_defined   \n",
       "3                     pyiron_nodes.executors  not_defined   \n",
       "4     pyiron_nodes.atomistic.structure.build  not_defined   \n",
       "5          pyiron_nodes.atomistic.engine.ase  not_defined   \n",
       "6      pyiron_nodes.atomistic.calculator.ase  not_defined   \n",
       "7   pyiron_nodes.atomistic.calculator.output  not_defined   \n",
       "8          pyiron_nodes.local_workflows.test  not_defined   \n",
       "9          pyiron_nodes.local_workflows.test  not_defined   \n",
       "10         pyiron_nodes.local_workflows.test  not_defined   \n",
       "11         pyiron_nodes.local_workflows.test  not_defined   \n",
       "12         pyiron_nodes.local_workflows.test  not_defined   \n",
       "13         pyiron_nodes.local_workflows.test  not_defined   \n",
       "14         pyiron_nodes.local_workflows.test  not_defined   \n",
       "15                         pyiron_nodes.math  not_defined   \n",
       "16                    pyiron_nodes.executors  not_defined   \n",
       "\n",
       "           connected_inputs  \\\n",
       "0                        []   \n",
       "1                        []   \n",
       "2                        []   \n",
       "3   [node, kwarg_list, _db]   \n",
       "4                        []   \n",
       "5                        []   \n",
       "6       [structure, engine]   \n",
       "7         [calculator, _db]   \n",
       "8                     [_db]   \n",
       "9                     [_db]   \n",
       "10                    [_db]   \n",
       "11                    [_db]   \n",
       "12                    [_db]   \n",
       "13                    [_db]   \n",
       "14                    [_db]   \n",
       "15                       []   \n",
       "16  [node, kwarg_list, _db]   \n",
       "\n",
       "                                               inputs  \\\n",
       "0                {'Bulk__a': 2.2, 'Bulk__name': 'Al'}   \n",
       "1   {'x_max': 2.2, 'x_min': 1.8, 'endpoint': True,...   \n",
       "2   {'host': 'localhost', 'port': 5432, 'user': 'l...   \n",
       "3   {'_db': '64667395d1b66a8a0ef131b4bade730b217b3...   \n",
       "4   {'a': None, 'c': None, 'u': None, 'name': 'Al'...   \n",
       "5                 {'model': 'M3GNet-MP-2021.2.8-PES'}   \n",
       "6   {'engine': '635cc10c63f0d96564a0eeb790d4adf102...   \n",
       "7   {'_db': '64667395d1b66a8a0ef131b4bade730b217b3...   \n",
       "8   {'a': 3.0, '_db': '64667395d1b66a8a0ef131b4bad...   \n",
       "9   {'a': 3.6666666666666665, '_db': '64667395d1b6...   \n",
       "10  {'a': 4.333333333333333, '_db': '64667395d1b66...   \n",
       "11  {'a': 5.0, '_db': '64667395d1b66a8a0ef131b4bad...   \n",
       "12  {'a': 5.666666666666666, '_db': '64667395d1b66...   \n",
       "13  {'a': 6.333333333333333, '_db': '64667395d1b66...   \n",
       "14  {'a': 7.0, '_db': '64667395d1b66a8a0ef131b4bad...   \n",
       "15  {'x_max': 7, 'x_min': 3, 'endpoint': True, 'nu...   \n",
       "16  {'_db': '64667395d1b66a8a0ef131b4bade730b217b3...   \n",
       "\n",
       "                         outputs output_path  \\\n",
       "0   [GetEnergyLast__energy_last]        None   \n",
       "1                     [linspace]        None   \n",
       "2                           [db]        None   \n",
       "3                           [df]        None   \n",
       "4                    [structure]        None   \n",
       "5                          [out]        None   \n",
       "6                          [out]        None   \n",
       "7                  [energy_last]        None   \n",
       "8                          [out]        None   \n",
       "9                          [out]        None   \n",
       "10                         [out]        None   \n",
       "11                         [out]        None   \n",
       "12                         [out]        None   \n",
       "13                         [out]        None   \n",
       "14                         [out]        None   \n",
       "15                    [linspace]        None   \n",
       "16                          [df]        None   \n",
       "\n",
       "                                          master_hash  \\\n",
       "0   fb6471b1fc8bd5750d43fac2f3f132e61276aec65b34f6...   \n",
       "1                                                None   \n",
       "2                                                None   \n",
       "3                                                None   \n",
       "4                                                None   \n",
       "5                                                None   \n",
       "6                                                None   \n",
       "7                                                None   \n",
       "8   53ac213be901c9c01914b0184ad75b68bed31310fdbf55...   \n",
       "9   53ac213be901c9c01914b0184ad75b68bed31310fdbf55...   \n",
       "10  53ac213be901c9c01914b0184ad75b68bed31310fdbf55...   \n",
       "11  53ac213be901c9c01914b0184ad75b68bed31310fdbf55...   \n",
       "12  53ac213be901c9c01914b0184ad75b68bed31310fdbf55...   \n",
       "13  53ac213be901c9c01914b0184ad75b68bed31310fdbf55...   \n",
       "14  53ac213be901c9c01914b0184ad75b68bed31310fdbf55...   \n",
       "15                                               None   \n",
       "16                                               None   \n",
       "\n",
       "                   start_time  cpu_time executor       user  \n",
       "0  2025-05-16 15:41:02.283565  0.047770     None  liamhuber  \n",
       "1  2025-05-16 15:41:01.730376  0.000043     None  liamhuber  \n",
       "2  2025-05-16 15:41:01.730431  0.056408     None  liamhuber  \n",
       "3  2025-05-16 15:41:01.820286  0.511176     None  liamhuber  \n",
       "4  2025-05-16 15:41:02.367896  0.000222     None  liamhuber  \n",
       "5  2025-05-16 15:41:02.368129  0.014791     None  liamhuber  \n",
       "6  2025-05-16 15:41:02.387569  0.008069     None  liamhuber  \n",
       "7  2025-05-16 15:41:02.395662  0.003588     None  liamhuber  \n",
       "8  2025-05-16 15:41:02.427688  0.032481     None  liamhuber  \n",
       "9  2025-05-16 15:41:02.469771  0.026775     None  liamhuber  \n",
       "10 2025-05-16 15:41:02.505390  0.042036     None  liamhuber  \n",
       "11 2025-05-16 15:41:02.556235  0.028138     None  liamhuber  \n",
       "12 2025-05-16 15:41:02.593421  0.026645     None  liamhuber  \n",
       "13 2025-05-16 15:41:02.628978  0.025516     None  liamhuber  \n",
       "14 2025-05-16 15:41:02.663847  0.026404     None  liamhuber  \n",
       "15 2025-05-16 15:41:02.410491  0.000025     None  liamhuber  \n",
       "16 2025-05-16 15:41:02.421616  0.271192     None  liamhuber  "
      ]
     },
     "execution_count": 26,
     "metadata": {},
     "output_type": "execute_result"
    }
   ],
   "source": [
    "df"
   ]
  },
  {
   "cell_type": "code",
   "execution_count": 27,
   "id": "63fd46ea-bd2f-431b-8510-64091c041b2f",
   "metadata": {},
   "outputs": [
    {
     "data": {
      "text/plain": [
       "hash                39669a289cc8b85c2e0774812b662253c661d306ef02d9...\n",
       "qualname                                                     subgraph\n",
       "module                                     pyiron_workflow.graph.base\n",
       "version                                                   not_defined\n",
       "connected_inputs                                                   []\n",
       "inputs                           {'Bulk__a': 2.2, 'Bulk__name': 'Al'}\n",
       "outputs                                  [GetEnergyLast__energy_last]\n",
       "output_path                                                      None\n",
       "master_hash         fb6471b1fc8bd5750d43fac2f3f132e61276aec65b34f6...\n",
       "start_time                                 2025-05-16 15:41:02.283565\n",
       "cpu_time                                                      0.04777\n",
       "executor                                                         None\n",
       "user                                                        liamhuber\n",
       "Name: 0, dtype: object"
      ]
     },
     "execution_count": 27,
     "metadata": {},
     "output_type": "execute_result"
    }
   ],
   "source": [
    "# df.query(\"hash == '9c051a26834ef83bbbe6c11c9fc0fc8c24cc06229432d31021fd00faa4c738ef'\").iloc[0]\n",
    "# Couldn't find that hash\n",
    "some_valid_hash = df[\"hash\"].iloc[0]\n",
    "df.query(f\"hash == '{some_valid_hash}'\").iloc[0]"
   ]
  },
  {
   "cell_type": "code",
   "execution_count": 28,
   "id": "ace7a9cd-9f44-48c8-9817-0c9ea3828421",
   "metadata": {},
   "outputs": [],
   "source": [
    "# df[df.hash==inputs[\"node\"].split(\"@\")[0]].iloc[0]\n",
    "# NameError: name 'inputs' is not defined"
   ]
  },
  {
   "cell_type": "code",
   "execution_count": 29,
   "id": "bf8d0518-b69e-4e29-8a9c-2afc86747910",
   "metadata": {},
   "outputs": [],
   "source": [
    "# button\n",
    "# NameError: name 'button' is not defined"
   ]
  },
  {
   "cell_type": "code",
   "execution_count": 30,
   "id": "c654bbef-29b7-41da-bf8e-dff3ffb57cb6",
   "metadata": {},
   "outputs": [
    {
     "data": {
      "text/plain": [
       "'Bulk'"
      ]
     },
     "execution_count": 30,
     "metadata": {},
     "output_type": "execute_result"
    }
   ],
   "source": [
    "import pyiron_nodes as pn\n",
    "from pyiron_workflow.simple_workflow import get_import_path_from_type\n",
    "\n",
    "pn.atomistic.structure.build.Bulk('Al')._func.__qualname__"
   ]
  },
  {
   "cell_type": "code",
   "execution_count": 31,
   "id": "0682af79-1fc7-4c82-ab9e-6df99aba1102",
   "metadata": {},
   "outputs": [
    {
     "name": "stdout",
     "output_type": "stream",
     "text": [
      "{'_mgr': BlockManager\n",
      "Items: Index(['a', 'result'], dtype='object')\n",
      "Axis 1: RangeIndex(start=0, stop=7, step=1)\n",
      "NumpyBlock: slice(0, 2, 1), 2 x 7, dtype: float64, '_typ': 'dataframe', '_metadata': [], 'attrs': {}, '_flags': {'allows_duplicate_labels': True}}\n"
     ]
    },
    {
     "data": {
      "text/html": [
       "<div>\n",
       "<style scoped>\n",
       "    .dataframe tbody tr th:only-of-type {\n",
       "        vertical-align: middle;\n",
       "    }\n",
       "\n",
       "    .dataframe tbody tr th {\n",
       "        vertical-align: top;\n",
       "    }\n",
       "\n",
       "    .dataframe thead th {\n",
       "        text-align: right;\n",
       "    }\n",
       "</style>\n",
       "<table border=\"1\" class=\"dataframe\">\n",
       "  <thead>\n",
       "    <tr style=\"text-align: right;\">\n",
       "      <th></th>\n",
       "      <th>a</th>\n",
       "      <th>result</th>\n",
       "    </tr>\n",
       "  </thead>\n",
       "  <tbody>\n",
       "    <tr>\n",
       "      <th>0</th>\n",
       "      <td>3.000000</td>\n",
       "      <td>2.528607</td>\n",
       "    </tr>\n",
       "    <tr>\n",
       "      <th>1</th>\n",
       "      <td>3.666667</td>\n",
       "      <td>-3.223616</td>\n",
       "    </tr>\n",
       "    <tr>\n",
       "      <th>2</th>\n",
       "      <td>4.333333</td>\n",
       "      <td>-3.567102</td>\n",
       "    </tr>\n",
       "    <tr>\n",
       "      <th>3</th>\n",
       "      <td>5.000000</td>\n",
       "      <td>-2.563248</td>\n",
       "    </tr>\n",
       "    <tr>\n",
       "      <th>4</th>\n",
       "      <td>5.666667</td>\n",
       "      <td>-0.607272</td>\n",
       "    </tr>\n",
       "    <tr>\n",
       "      <th>5</th>\n",
       "      <td>6.333333</td>\n",
       "      <td>0.184764</td>\n",
       "    </tr>\n",
       "    <tr>\n",
       "      <th>6</th>\n",
       "      <td>7.000000</td>\n",
       "      <td>-0.148894</td>\n",
       "    </tr>\n",
       "  </tbody>\n",
       "</table>\n",
       "</div>"
      ],
      "text/plain": [
       "          a    result\n",
       "0  3.000000  2.528607\n",
       "1  3.666667 -3.223616\n",
       "2  4.333333 -3.567102\n",
       "3  5.000000 -2.563248\n",
       "4  5.666667 -0.607272\n",
       "5  6.333333  0.184764\n",
       "6  7.000000 -0.148894"
      ]
     },
     "execution_count": 31,
     "metadata": {},
     "output_type": "execute_result"
    }
   ],
   "source": [
    "import pandas as pd\n",
    "\n",
    "select_graph_by_name(pf, \"murn4\")\n",
    "df = pf.graph.nodes[\"IterNode\"].node.outputs.df.value\n",
    "state = df.__getstate__()\n",
    "print(state)\n",
    "\n",
    "df_new = pd.DataFrame() # .__setstate__(state)\n",
    "df_new._mgr = state[\"_mgr\"]\n",
    "df_new._metadata = state[\"_metadata\"]\n",
    "df_new2 = pd.DataFrame()\n",
    "df_new2.__setstate__(state)\n",
    "df_new2"
   ]
  },
  {
   "cell_type": "code",
   "execution_count": 32,
   "id": "fb93d48e-8086-4b5f-b678-b4e675695c53",
   "metadata": {},
   "outputs": [],
   "source": [
    "node = pf.graph.nodes[\"IterNode\"].node"
   ]
  },
  {
   "cell_type": "code",
   "execution_count": 33,
   "id": "04cdc69f-c28a-46ca-9c32-2e5e3ce6a5a1",
   "metadata": {},
   "outputs": [
    {
     "data": {
      "text/plain": [
       "['nodes']"
      ]
     },
     "execution_count": 33,
     "metadata": {},
     "output_type": "execute_result"
    }
   ],
   "source": [
    "from sqlalchemy import create_engine, inspect, text\n",
    "from sqlalchemy.orm import sessionmaker\n",
    "\n",
    "user = 'localuser'\n",
    "password = 'none'\n",
    "host = 'localhost'\n",
    "port = '5432'\n",
    "database = 'localdb'\n",
    "\n",
    "connection_str = f'postgresql://{user}:{password}@{host}:{port}/{database}'\n",
    "engine = create_engine(connection_str)\n",
    "engine.connect()\n",
    "\n",
    "inspector = inspect(engine)\n",
    "table_names = inspector.get_table_names()\n",
    "table_names"
   ]
  },
  {
   "cell_type": "code",
   "execution_count": 34,
   "id": "6296ff56-4674-4b18-ad7a-8d9f38b67392",
   "metadata": {},
   "outputs": [],
   "source": [
    "import pyiron_database.instance_database as idb\n",
    "\n",
    "node = pf.graph.nodes[\"IterNode\"].node\n",
    "\n",
    "db = idb.PostgreSQLInstanceDatabase(connection_str)\n",
    "# db.drop()\n",
    "# db.init()\n",
    "# hash = idb.store_node_in_database(db, node, store_outputs=True, store_input_nodes_recursively=True)\n",
    "# Gets a pickle complaint -- just skipping running it:\n",
    "# File ~/dev/pycor/pyiron_core/pyiron_database/obj_reconstruction/util.py:114, in pickle_dump(obj)\n",
    "#     113 def pickle_dump(obj):\n",
    "# --> 114     return codecs.encode(pickle.dumps(obj), \"base64\").decode()\n",
    "# AttributeError: Can't get local object 'create_engine.<locals>.connect'\n",
    "\n",
    "# idb.store_node_outputs(pf.graph.nodes[\"IterNode\"].node)"
   ]
  },
  {
   "cell_type": "code",
   "execution_count": 35,
   "id": "a25200e0-3da1-49be-b853-c96ce34c0c57",
   "metadata": {},
   "outputs": [
    {
     "data": {
      "text/plain": [
       "pyiron_database.instance_database.PostgreSQLInstanceDatabase.PostgreSQLInstanceDatabase"
      ]
     },
     "execution_count": 35,
     "metadata": {},
     "output_type": "execute_result"
    }
   ],
   "source": [
    "type(db)"
   ]
  },
  {
   "cell_type": "code",
   "execution_count": 36,
   "id": "ef7881fa-401d-4cef-b8a8-59ea0aa9f4b7",
   "metadata": {},
   "outputs": [
    {
     "data": {
      "text/html": [
       "<div>\n",
       "<style scoped>\n",
       "    .dataframe tbody tr th:only-of-type {\n",
       "        vertical-align: middle;\n",
       "    }\n",
       "\n",
       "    .dataframe tbody tr th {\n",
       "        vertical-align: top;\n",
       "    }\n",
       "\n",
       "    .dataframe thead th {\n",
       "        text-align: right;\n",
       "    }\n",
       "</style>\n",
       "<table border=\"1\" class=\"dataframe\">\n",
       "  <thead>\n",
       "    <tr style=\"text-align: right;\">\n",
       "      <th></th>\n",
       "      <th>hash</th>\n",
       "      <th>qualname</th>\n",
       "      <th>module</th>\n",
       "      <th>version</th>\n",
       "      <th>connected_inputs</th>\n",
       "      <th>inputs</th>\n",
       "      <th>outputs</th>\n",
       "      <th>output_path</th>\n",
       "      <th>master_hash</th>\n",
       "      <th>start_time</th>\n",
       "      <th>cpu_time</th>\n",
       "      <th>executor</th>\n",
       "      <th>user</th>\n",
       "    </tr>\n",
       "  </thead>\n",
       "  <tbody>\n",
       "    <tr>\n",
       "      <th>0</th>\n",
       "      <td>39669a289cc8b85c2e0774812b662253c661d306ef02d9...</td>\n",
       "      <td>subgraph</td>\n",
       "      <td>pyiron_workflow.graph.base</td>\n",
       "      <td>not_defined</td>\n",
       "      <td>[]</td>\n",
       "      <td>{'Bulk__a': 2.2, 'Bulk__name': 'Al'}</td>\n",
       "      <td>[GetEnergyLast__energy_last]</td>\n",
       "      <td>None</td>\n",
       "      <td>fb6471b1fc8bd5750d43fac2f3f132e61276aec65b34f6...</td>\n",
       "      <td>2025-05-16 15:41:02.283565</td>\n",
       "      <td>0.047770</td>\n",
       "      <td>None</td>\n",
       "      <td>liamhuber</td>\n",
       "    </tr>\n",
       "    <tr>\n",
       "      <th>1</th>\n",
       "      <td>11e5f779d5a00821a3a28813c8cdb0c83a38c1fedce8e6...</td>\n",
       "      <td>Linspace</td>\n",
       "      <td>pyiron_nodes.math</td>\n",
       "      <td>not_defined</td>\n",
       "      <td>[]</td>\n",
       "      <td>{'x_max': 2.2, 'x_min': 1.8, 'endpoint': True,...</td>\n",
       "      <td>[linspace]</td>\n",
       "      <td>None</td>\n",
       "      <td>None</td>\n",
       "      <td>2025-05-16 15:41:01.730376</td>\n",
       "      <td>0.000043</td>\n",
       "      <td>None</td>\n",
       "      <td>liamhuber</td>\n",
       "    </tr>\n",
       "    <tr>\n",
       "      <th>2</th>\n",
       "      <td>64667395d1b66a8a0ef131b4bade730b217b32465b813b...</td>\n",
       "      <td>CreateDB</td>\n",
       "      <td>pyiron_nodes.databases.node_hash_db</td>\n",
       "      <td>not_defined</td>\n",
       "      <td>[]</td>\n",
       "      <td>{'host': 'localhost', 'port': 5432, 'user': 'l...</td>\n",
       "      <td>[db]</td>\n",
       "      <td>None</td>\n",
       "      <td>None</td>\n",
       "      <td>2025-05-16 15:41:01.730431</td>\n",
       "      <td>0.056408</td>\n",
       "      <td>None</td>\n",
       "      <td>liamhuber</td>\n",
       "    </tr>\n",
       "    <tr>\n",
       "      <th>3</th>\n",
       "      <td>10cbd2c7503397244d3b8ba7eda766aca96cb845aee39e...</td>\n",
       "      <td>IterNode</td>\n",
       "      <td>pyiron_nodes.executors</td>\n",
       "      <td>not_defined</td>\n",
       "      <td>[node, kwarg_list, _db]</td>\n",
       "      <td>{'_db': '64667395d1b66a8a0ef131b4bade730b217b3...</td>\n",
       "      <td>[df]</td>\n",
       "      <td>None</td>\n",
       "      <td>None</td>\n",
       "      <td>2025-05-16 15:41:01.820286</td>\n",
       "      <td>0.511176</td>\n",
       "      <td>None</td>\n",
       "      <td>liamhuber</td>\n",
       "    </tr>\n",
       "    <tr>\n",
       "      <th>4</th>\n",
       "      <td>7b4123d2f2ee2e9877493b62f6becb05f0483761d43031...</td>\n",
       "      <td>Bulk</td>\n",
       "      <td>pyiron_nodes.atomistic.structure.build</td>\n",
       "      <td>not_defined</td>\n",
       "      <td>[]</td>\n",
       "      <td>{'a': None, 'c': None, 'u': None, 'name': 'Al'...</td>\n",
       "      <td>[structure]</td>\n",
       "      <td>None</td>\n",
       "      <td>None</td>\n",
       "      <td>2025-05-16 15:41:02.367896</td>\n",
       "      <td>0.000222</td>\n",
       "      <td>None</td>\n",
       "      <td>liamhuber</td>\n",
       "    </tr>\n",
       "    <tr>\n",
       "      <th>5</th>\n",
       "      <td>635cc10c63f0d96564a0eeb790d4adf102485cc41e475f...</td>\n",
       "      <td>M3GNet</td>\n",
       "      <td>pyiron_nodes.atomistic.engine.ase</td>\n",
       "      <td>not_defined</td>\n",
       "      <td>[]</td>\n",
       "      <td>{'model': 'M3GNet-MP-2021.2.8-PES'}</td>\n",
       "      <td>[out]</td>\n",
       "      <td>None</td>\n",
       "      <td>None</td>\n",
       "      <td>2025-05-16 15:41:02.368129</td>\n",
       "      <td>0.014791</td>\n",
       "      <td>None</td>\n",
       "      <td>liamhuber</td>\n",
       "    </tr>\n",
       "    <tr>\n",
       "      <th>6</th>\n",
       "      <td>29624f6695f9b692420ba8f88e6a7965fff1347d9148b9...</td>\n",
       "      <td>Static</td>\n",
       "      <td>pyiron_nodes.atomistic.calculator.ase</td>\n",
       "      <td>not_defined</td>\n",
       "      <td>[structure, engine]</td>\n",
       "      <td>{'engine': '635cc10c63f0d96564a0eeb790d4adf102...</td>\n",
       "      <td>[out]</td>\n",
       "      <td>None</td>\n",
       "      <td>None</td>\n",
       "      <td>2025-05-16 15:41:02.387569</td>\n",
       "      <td>0.008069</td>\n",
       "      <td>None</td>\n",
       "      <td>liamhuber</td>\n",
       "    </tr>\n",
       "    <tr>\n",
       "      <th>7</th>\n",
       "      <td>9288d0ad5c831775093dab6a9f2e1a7100f6ab7d3e6c42...</td>\n",
       "      <td>GetEnergyLast</td>\n",
       "      <td>pyiron_nodes.atomistic.calculator.output</td>\n",
       "      <td>not_defined</td>\n",
       "      <td>[calculator, _db]</td>\n",
       "      <td>{'_db': '64667395d1b66a8a0ef131b4bade730b217b3...</td>\n",
       "      <td>[energy_last]</td>\n",
       "      <td>None</td>\n",
       "      <td>None</td>\n",
       "      <td>2025-05-16 15:41:02.395662</td>\n",
       "      <td>0.003588</td>\n",
       "      <td>None</td>\n",
       "      <td>liamhuber</td>\n",
       "    </tr>\n",
       "    <tr>\n",
       "      <th>8</th>\n",
       "      <td>2ce3c3a3d5a648f7bd704d950f60cc384fe8caa26f9624...</td>\n",
       "      <td>BulkStaticEnergyF</td>\n",
       "      <td>pyiron_nodes.local_workflows.test</td>\n",
       "      <td>not_defined</td>\n",
       "      <td>[_db]</td>\n",
       "      <td>{'a': 3.0, '_db': '64667395d1b66a8a0ef131b4bad...</td>\n",
       "      <td>[out]</td>\n",
       "      <td>None</td>\n",
       "      <td>53ac213be901c9c01914b0184ad75b68bed31310fdbf55...</td>\n",
       "      <td>2025-05-16 15:41:02.427688</td>\n",
       "      <td>0.032481</td>\n",
       "      <td>None</td>\n",
       "      <td>liamhuber</td>\n",
       "    </tr>\n",
       "    <tr>\n",
       "      <th>9</th>\n",
       "      <td>276310e6b46125c446f61274ed951cd586592522fd3d9b...</td>\n",
       "      <td>BulkStaticEnergyF</td>\n",
       "      <td>pyiron_nodes.local_workflows.test</td>\n",
       "      <td>not_defined</td>\n",
       "      <td>[_db]</td>\n",
       "      <td>{'a': 3.6666666666666665, '_db': '64667395d1b6...</td>\n",
       "      <td>[out]</td>\n",
       "      <td>None</td>\n",
       "      <td>53ac213be901c9c01914b0184ad75b68bed31310fdbf55...</td>\n",
       "      <td>2025-05-16 15:41:02.469771</td>\n",
       "      <td>0.026775</td>\n",
       "      <td>None</td>\n",
       "      <td>liamhuber</td>\n",
       "    </tr>\n",
       "    <tr>\n",
       "      <th>10</th>\n",
       "      <td>326a33c2e7afee21d07eb52957f15300e6c2488adda65e...</td>\n",
       "      <td>BulkStaticEnergyF</td>\n",
       "      <td>pyiron_nodes.local_workflows.test</td>\n",
       "      <td>not_defined</td>\n",
       "      <td>[_db]</td>\n",
       "      <td>{'a': 4.333333333333333, '_db': '64667395d1b66...</td>\n",
       "      <td>[out]</td>\n",
       "      <td>None</td>\n",
       "      <td>53ac213be901c9c01914b0184ad75b68bed31310fdbf55...</td>\n",
       "      <td>2025-05-16 15:41:02.505390</td>\n",
       "      <td>0.042036</td>\n",
       "      <td>None</td>\n",
       "      <td>liamhuber</td>\n",
       "    </tr>\n",
       "    <tr>\n",
       "      <th>11</th>\n",
       "      <td>b60f6d99ddffb5207c332b1e74690acb40681935b18951...</td>\n",
       "      <td>BulkStaticEnergyF</td>\n",
       "      <td>pyiron_nodes.local_workflows.test</td>\n",
       "      <td>not_defined</td>\n",
       "      <td>[_db]</td>\n",
       "      <td>{'a': 5.0, '_db': '64667395d1b66a8a0ef131b4bad...</td>\n",
       "      <td>[out]</td>\n",
       "      <td>None</td>\n",
       "      <td>53ac213be901c9c01914b0184ad75b68bed31310fdbf55...</td>\n",
       "      <td>2025-05-16 15:41:02.556235</td>\n",
       "      <td>0.028138</td>\n",
       "      <td>None</td>\n",
       "      <td>liamhuber</td>\n",
       "    </tr>\n",
       "    <tr>\n",
       "      <th>12</th>\n",
       "      <td>739d468e8a6545995369fb7c9c9e13d2fd367c0a3505b3...</td>\n",
       "      <td>BulkStaticEnergyF</td>\n",
       "      <td>pyiron_nodes.local_workflows.test</td>\n",
       "      <td>not_defined</td>\n",
       "      <td>[_db]</td>\n",
       "      <td>{'a': 5.666666666666666, '_db': '64667395d1b66...</td>\n",
       "      <td>[out]</td>\n",
       "      <td>None</td>\n",
       "      <td>53ac213be901c9c01914b0184ad75b68bed31310fdbf55...</td>\n",
       "      <td>2025-05-16 15:41:02.593421</td>\n",
       "      <td>0.026645</td>\n",
       "      <td>None</td>\n",
       "      <td>liamhuber</td>\n",
       "    </tr>\n",
       "    <tr>\n",
       "      <th>13</th>\n",
       "      <td>5b7e6a6570012f882b7b6af8c682d4e820c0bcd1738c6d...</td>\n",
       "      <td>BulkStaticEnergyF</td>\n",
       "      <td>pyiron_nodes.local_workflows.test</td>\n",
       "      <td>not_defined</td>\n",
       "      <td>[_db]</td>\n",
       "      <td>{'a': 6.333333333333333, '_db': '64667395d1b66...</td>\n",
       "      <td>[out]</td>\n",
       "      <td>None</td>\n",
       "      <td>53ac213be901c9c01914b0184ad75b68bed31310fdbf55...</td>\n",
       "      <td>2025-05-16 15:41:02.628978</td>\n",
       "      <td>0.025516</td>\n",
       "      <td>None</td>\n",
       "      <td>liamhuber</td>\n",
       "    </tr>\n",
       "    <tr>\n",
       "      <th>14</th>\n",
       "      <td>44b1dc2862608dd3150b77d8efcbba02be1ec99a6f328d...</td>\n",
       "      <td>BulkStaticEnergyF</td>\n",
       "      <td>pyiron_nodes.local_workflows.test</td>\n",
       "      <td>not_defined</td>\n",
       "      <td>[_db]</td>\n",
       "      <td>{'a': 7.0, '_db': '64667395d1b66a8a0ef131b4bad...</td>\n",
       "      <td>[out]</td>\n",
       "      <td>None</td>\n",
       "      <td>53ac213be901c9c01914b0184ad75b68bed31310fdbf55...</td>\n",
       "      <td>2025-05-16 15:41:02.663847</td>\n",
       "      <td>0.026404</td>\n",
       "      <td>None</td>\n",
       "      <td>liamhuber</td>\n",
       "    </tr>\n",
       "    <tr>\n",
       "      <th>15</th>\n",
       "      <td>ca2abd5b485ed9f04818939a438372a82cbf297e1243e6...</td>\n",
       "      <td>Linspace</td>\n",
       "      <td>pyiron_nodes.math</td>\n",
       "      <td>not_defined</td>\n",
       "      <td>[]</td>\n",
       "      <td>{'x_max': 7, 'x_min': 3, 'endpoint': True, 'nu...</td>\n",
       "      <td>[linspace]</td>\n",
       "      <td>None</td>\n",
       "      <td>None</td>\n",
       "      <td>2025-05-16 15:41:02.410491</td>\n",
       "      <td>0.000025</td>\n",
       "      <td>None</td>\n",
       "      <td>liamhuber</td>\n",
       "    </tr>\n",
       "    <tr>\n",
       "      <th>16</th>\n",
       "      <td>f5c928583d904077ffd1a089694cbfe51222ee5d567d14...</td>\n",
       "      <td>IterNode</td>\n",
       "      <td>pyiron_nodes.executors</td>\n",
       "      <td>not_defined</td>\n",
       "      <td>[node, kwarg_list, _db]</td>\n",
       "      <td>{'_db': '64667395d1b66a8a0ef131b4bade730b217b3...</td>\n",
       "      <td>[df]</td>\n",
       "      <td>None</td>\n",
       "      <td>None</td>\n",
       "      <td>2025-05-16 15:41:02.421616</td>\n",
       "      <td>0.271192</td>\n",
       "      <td>None</td>\n",
       "      <td>liamhuber</td>\n",
       "    </tr>\n",
       "  </tbody>\n",
       "</table>\n",
       "</div>"
      ],
      "text/plain": [
       "                                                 hash           qualname  \\\n",
       "0   39669a289cc8b85c2e0774812b662253c661d306ef02d9...           subgraph   \n",
       "1   11e5f779d5a00821a3a28813c8cdb0c83a38c1fedce8e6...           Linspace   \n",
       "2   64667395d1b66a8a0ef131b4bade730b217b32465b813b...           CreateDB   \n",
       "3   10cbd2c7503397244d3b8ba7eda766aca96cb845aee39e...           IterNode   \n",
       "4   7b4123d2f2ee2e9877493b62f6becb05f0483761d43031...               Bulk   \n",
       "5   635cc10c63f0d96564a0eeb790d4adf102485cc41e475f...             M3GNet   \n",
       "6   29624f6695f9b692420ba8f88e6a7965fff1347d9148b9...             Static   \n",
       "7   9288d0ad5c831775093dab6a9f2e1a7100f6ab7d3e6c42...      GetEnergyLast   \n",
       "8   2ce3c3a3d5a648f7bd704d950f60cc384fe8caa26f9624...  BulkStaticEnergyF   \n",
       "9   276310e6b46125c446f61274ed951cd586592522fd3d9b...  BulkStaticEnergyF   \n",
       "10  326a33c2e7afee21d07eb52957f15300e6c2488adda65e...  BulkStaticEnergyF   \n",
       "11  b60f6d99ddffb5207c332b1e74690acb40681935b18951...  BulkStaticEnergyF   \n",
       "12  739d468e8a6545995369fb7c9c9e13d2fd367c0a3505b3...  BulkStaticEnergyF   \n",
       "13  5b7e6a6570012f882b7b6af8c682d4e820c0bcd1738c6d...  BulkStaticEnergyF   \n",
       "14  44b1dc2862608dd3150b77d8efcbba02be1ec99a6f328d...  BulkStaticEnergyF   \n",
       "15  ca2abd5b485ed9f04818939a438372a82cbf297e1243e6...           Linspace   \n",
       "16  f5c928583d904077ffd1a089694cbfe51222ee5d567d14...           IterNode   \n",
       "\n",
       "                                      module      version  \\\n",
       "0                 pyiron_workflow.graph.base  not_defined   \n",
       "1                          pyiron_nodes.math  not_defined   \n",
       "2        pyiron_nodes.databases.node_hash_db  not_defined   \n",
       "3                     pyiron_nodes.executors  not_defined   \n",
       "4     pyiron_nodes.atomistic.structure.build  not_defined   \n",
       "5          pyiron_nodes.atomistic.engine.ase  not_defined   \n",
       "6      pyiron_nodes.atomistic.calculator.ase  not_defined   \n",
       "7   pyiron_nodes.atomistic.calculator.output  not_defined   \n",
       "8          pyiron_nodes.local_workflows.test  not_defined   \n",
       "9          pyiron_nodes.local_workflows.test  not_defined   \n",
       "10         pyiron_nodes.local_workflows.test  not_defined   \n",
       "11         pyiron_nodes.local_workflows.test  not_defined   \n",
       "12         pyiron_nodes.local_workflows.test  not_defined   \n",
       "13         pyiron_nodes.local_workflows.test  not_defined   \n",
       "14         pyiron_nodes.local_workflows.test  not_defined   \n",
       "15                         pyiron_nodes.math  not_defined   \n",
       "16                    pyiron_nodes.executors  not_defined   \n",
       "\n",
       "           connected_inputs  \\\n",
       "0                        []   \n",
       "1                        []   \n",
       "2                        []   \n",
       "3   [node, kwarg_list, _db]   \n",
       "4                        []   \n",
       "5                        []   \n",
       "6       [structure, engine]   \n",
       "7         [calculator, _db]   \n",
       "8                     [_db]   \n",
       "9                     [_db]   \n",
       "10                    [_db]   \n",
       "11                    [_db]   \n",
       "12                    [_db]   \n",
       "13                    [_db]   \n",
       "14                    [_db]   \n",
       "15                       []   \n",
       "16  [node, kwarg_list, _db]   \n",
       "\n",
       "                                               inputs  \\\n",
       "0                {'Bulk__a': 2.2, 'Bulk__name': 'Al'}   \n",
       "1   {'x_max': 2.2, 'x_min': 1.8, 'endpoint': True,...   \n",
       "2   {'host': 'localhost', 'port': 5432, 'user': 'l...   \n",
       "3   {'_db': '64667395d1b66a8a0ef131b4bade730b217b3...   \n",
       "4   {'a': None, 'c': None, 'u': None, 'name': 'Al'...   \n",
       "5                 {'model': 'M3GNet-MP-2021.2.8-PES'}   \n",
       "6   {'engine': '635cc10c63f0d96564a0eeb790d4adf102...   \n",
       "7   {'_db': '64667395d1b66a8a0ef131b4bade730b217b3...   \n",
       "8   {'a': 3.0, '_db': '64667395d1b66a8a0ef131b4bad...   \n",
       "9   {'a': 3.6666666666666665, '_db': '64667395d1b6...   \n",
       "10  {'a': 4.333333333333333, '_db': '64667395d1b66...   \n",
       "11  {'a': 5.0, '_db': '64667395d1b66a8a0ef131b4bad...   \n",
       "12  {'a': 5.666666666666666, '_db': '64667395d1b66...   \n",
       "13  {'a': 6.333333333333333, '_db': '64667395d1b66...   \n",
       "14  {'a': 7.0, '_db': '64667395d1b66a8a0ef131b4bad...   \n",
       "15  {'x_max': 7, 'x_min': 3, 'endpoint': True, 'nu...   \n",
       "16  {'_db': '64667395d1b66a8a0ef131b4bade730b217b3...   \n",
       "\n",
       "                         outputs output_path  \\\n",
       "0   [GetEnergyLast__energy_last]        None   \n",
       "1                     [linspace]        None   \n",
       "2                           [db]        None   \n",
       "3                           [df]        None   \n",
       "4                    [structure]        None   \n",
       "5                          [out]        None   \n",
       "6                          [out]        None   \n",
       "7                  [energy_last]        None   \n",
       "8                          [out]        None   \n",
       "9                          [out]        None   \n",
       "10                         [out]        None   \n",
       "11                         [out]        None   \n",
       "12                         [out]        None   \n",
       "13                         [out]        None   \n",
       "14                         [out]        None   \n",
       "15                    [linspace]        None   \n",
       "16                          [df]        None   \n",
       "\n",
       "                                          master_hash  \\\n",
       "0   fb6471b1fc8bd5750d43fac2f3f132e61276aec65b34f6...   \n",
       "1                                                None   \n",
       "2                                                None   \n",
       "3                                                None   \n",
       "4                                                None   \n",
       "5                                                None   \n",
       "6                                                None   \n",
       "7                                                None   \n",
       "8   53ac213be901c9c01914b0184ad75b68bed31310fdbf55...   \n",
       "9   53ac213be901c9c01914b0184ad75b68bed31310fdbf55...   \n",
       "10  53ac213be901c9c01914b0184ad75b68bed31310fdbf55...   \n",
       "11  53ac213be901c9c01914b0184ad75b68bed31310fdbf55...   \n",
       "12  53ac213be901c9c01914b0184ad75b68bed31310fdbf55...   \n",
       "13  53ac213be901c9c01914b0184ad75b68bed31310fdbf55...   \n",
       "14  53ac213be901c9c01914b0184ad75b68bed31310fdbf55...   \n",
       "15                                               None   \n",
       "16                                               None   \n",
       "\n",
       "                   start_time  cpu_time executor       user  \n",
       "0  2025-05-16 15:41:02.283565  0.047770     None  liamhuber  \n",
       "1  2025-05-16 15:41:01.730376  0.000043     None  liamhuber  \n",
       "2  2025-05-16 15:41:01.730431  0.056408     None  liamhuber  \n",
       "3  2025-05-16 15:41:01.820286  0.511176     None  liamhuber  \n",
       "4  2025-05-16 15:41:02.367896  0.000222     None  liamhuber  \n",
       "5  2025-05-16 15:41:02.368129  0.014791     None  liamhuber  \n",
       "6  2025-05-16 15:41:02.387569  0.008069     None  liamhuber  \n",
       "7  2025-05-16 15:41:02.395662  0.003588     None  liamhuber  \n",
       "8  2025-05-16 15:41:02.427688  0.032481     None  liamhuber  \n",
       "9  2025-05-16 15:41:02.469771  0.026775     None  liamhuber  \n",
       "10 2025-05-16 15:41:02.505390  0.042036     None  liamhuber  \n",
       "11 2025-05-16 15:41:02.556235  0.028138     None  liamhuber  \n",
       "12 2025-05-16 15:41:02.593421  0.026645     None  liamhuber  \n",
       "13 2025-05-16 15:41:02.628978  0.025516     None  liamhuber  \n",
       "14 2025-05-16 15:41:02.663847  0.026404     None  liamhuber  \n",
       "15 2025-05-16 15:41:02.410491  0.000025     None  liamhuber  \n",
       "16 2025-05-16 15:41:02.421616  0.271192     None  liamhuber  "
      ]
     },
     "execution_count": 36,
     "metadata": {},
     "output_type": "execute_result"
    }
   ],
   "source": [
    "Session = sessionmaker(bind=db.engine)\n",
    "session = Session()\n",
    "\n",
    "df = pd.read_sql(session.query(db.table).statement, session.bind)\n",
    "\n",
    "df"
   ]
  },
  {
   "cell_type": "code",
   "execution_count": 37,
   "id": "28661a28-77ce-4af1-bc00-d290de1e86eb",
   "metadata": {},
   "outputs": [],
   "source": [
    "# db.drop()\n",
    "# db.init()"
   ]
  },
  {
   "cell_type": "code",
   "execution_count": 38,
   "id": "335aebb7-e3f9-4672-98ae-02406bbdcf0c",
   "metadata": {},
   "outputs": [
    {
     "data": {
      "application/vnd.jupyter.widget-view+json": {
       "model_id": "cc9734d0d343400982154076b00c5bf3",
       "version_major": 2,
       "version_minor": 0
      },
      "text/plain": [
       "VBox(children=(HBox(children=(Output(layout=Layout(width='400px')), Tab(children=(ReactFlowWidget(layout=Layou…"
      ]
     },
     "execution_count": 38,
     "metadata": {},
     "output_type": "execute_result"
    }
   ],
   "source": [
    "pf = gui.PyironFlow(['assyst', 'linearfit2', 'graph', 'executor', 'executor2', 'murnaghan', 'murnaghan2']) # 'landau2',\n",
    "pf.gui"
   ]
  },
  {
   "cell_type": "code",
   "execution_count": 39,
   "id": "8e71b3c4-703d-4d5b-b677-2a9d6eb0384f",
   "metadata": {},
   "outputs": [],
   "source": [
    "# pf = gui.PyironFlow(['assyst', 'calphy2', 'linearfit2', 'graph', 'executor', 'executor2', 'murnaghan', 'murnaghan2']) # 'landau2',\n",
    "# pf.gui\n",
    "\n",
    "# https://github.com/JNmpi/pyiron_core/issues/52\n",
    "# The calphy2 graph will not load:\n",
    "# File ~/dev/pycor/pyiron_core/pyiron_workflow/graph/base.py:58, in _setstate__graph_node(self, state)\n",
    "#      57 def _setstate__graph_node(self, state):\n",
    "# ---> 58     for k, v in state.items():\n",
    "#      59         if k == \"node\":\n",
    "#      60             # print(\"setting node: \", k, v)\n",
    "#      61             # check if virtual node (import not possible) # TODO: make more robust test\n",
    "#      62             if v[\"function\"].startswith(\"pyiron_workflow.graph.base\"):\n",
    "#      63                 # graph = Graph().__setstate__(state[\"graph\"])\n",
    "\n",
    "# AttributeError: 'NoneType' object has no attribute 'items'"
   ]
  },
  {
   "cell_type": "code",
   "execution_count": 40,
   "id": "b2584197-63f3-49a6-bfdb-6785f833b8c0",
   "metadata": {},
   "outputs": [
    {
     "data": {
      "text/plain": [
       "True"
      ]
     },
     "execution_count": 40,
     "metadata": {},
     "output_type": "execute_result"
    }
   ],
   "source": [
    "import pyiron_workflow.simple_workflow as sw\n",
    "\n",
    "select_graph_by_name(pf, \"murnaghan2\")\n",
    "# could also be \"executor2\" -- both have \"subgraph\" and \"Linspace\" nodes\n",
    "# (\"calphy2\" didn't load, but I can peek at the json file to rule it out, as it has neither)\n",
    "label =\"subgraph\"\n",
    "label = \"Linspace\"\n",
    "pf.graph.nodes[label].node.copy()._graph_node == pf.graph.nodes[label]"
   ]
  },
  {
   "cell_type": "code",
   "execution_count": 41,
   "id": "6a078b52-fd1b-4906-9e2c-815e505d5138",
   "metadata": {},
   "outputs": [
    {
     "data": {
      "text/plain": [
       "<pyiron_workflow.simple_workflow.Node at 0x3179b55b0>"
      ]
     },
     "execution_count": 41,
     "metadata": {},
     "output_type": "execute_result"
    }
   ],
   "source": [
    "import pickle\n",
    "\n",
    "new_node = pickle.loads(pickle.dumps(pf.graph.nodes[\"subgraph\"]))\n",
    "new_node.node"
   ]
  },
  {
   "cell_type": "code",
   "execution_count": 42,
   "id": "e2f58aac-53f3-4d0a-89b0-7570b696c98f",
   "metadata": {},
   "outputs": [
    {
     "name": "stderr",
     "output_type": "stream",
     "text": [
      "/Users/liamhuber/dev/miniforge3/envs/pycor12/lib/python3.12/site-packages/matgl/apps/pes.py:69: UserWarning: To copy construct from a tensor, it is recommended to use sourceTensor.clone().detach() or sourceTensor.clone().detach().requires_grad_(True), rather than torch.tensor(sourceTensor).\n",
      "  self.element_refs = AtomRef(property_offset=torch.tensor(element_refs, dtype=matgl.float_th))\n",
      "/Users/liamhuber/dev/miniforge3/envs/pycor12/lib/python3.12/site-packages/matgl/apps/pes.py:75: UserWarning: To copy construct from a tensor, it is recommended to use sourceTensor.clone().detach() or sourceTensor.clone().detach().requires_grad_(True), rather than torch.tensor(sourceTensor).\n",
      "  self.register_buffer(\"data_mean\", torch.tensor(data_mean, dtype=matgl.float_th))\n",
      "/Users/liamhuber/dev/miniforge3/envs/pycor12/lib/python3.12/site-packages/matgl/apps/pes.py:76: UserWarning: To copy construct from a tensor, it is recommended to use sourceTensor.clone().detach() or sourceTensor.clone().detach().requires_grad_(True), rather than torch.tensor(sourceTensor).\n",
      "  self.register_buffer(\"data_std\", torch.tensor(data_std, dtype=matgl.float_th))\n",
      "DEBUG:pyiron_log:Not supported parameter used!\n"
     ]
    },
    {
     "data": {
      "text/plain": [
       "53.408348083496094"
      ]
     },
     "execution_count": 42,
     "metadata": {},
     "output_type": "execute_result"
    }
   ],
   "source": [
    "base.GraphNode().__setstate__(pf.graph.nodes[\"subgraph\"].__getstate__()).node.run()"
   ]
  },
  {
   "cell_type": "code",
   "execution_count": 43,
   "id": "c29c7d73-b5a5-4d23-835e-1a8432ce3f53",
   "metadata": {},
   "outputs": [
    {
     "name": "stdout",
     "output_type": "stream",
     "text": [
      "labels ['bulk__name', 'bulk__cubic']\n",
      "inp:  bulk name\n",
      "GraphEdge(source='va_i_subgraph__bulk__name', target='bulk', sourceHandle='x', targetHandle='name')\n",
      "inp:  bulk cubic\n",
      "GraphEdge(source='va_i_subgraph__bulk__cubic', target='bulk', sourceHandle='x', targetHandle='cubic')\n",
      "labels ['volume__volume']\n",
      "node:  bulk GraphNode(id='bulk', import_path='pyiron_nodes.atomistic.structure.build.Bulk', label='bulk', parent_id='subgraph', level=1, node=<pyiron_workflow.simple_workflow.Node object at 0x31678a8a0>, graph=None, node_type='node', widget_type='customNode', expanded=False)\n",
      "node:  range GraphNode(id='range', import_path='pyiron_nodes.math.Linspace', label='range', parent_id=None, level=0, node=<pyiron_workflow.simple_workflow.Node object at 0x31678a5a0>, graph=None, node_type='node', widget_type='customNode', expanded=False)\n",
      "node:  volume GraphNode(id='volume', import_path='pyiron_nodes.atomistic.structure.calc.Volume', label='volume', parent_id='subgraph', level=1, node=<pyiron_workflow.simple_workflow.Node object at 0x3179b5910>, graph=None, node_type='node', widget_type='customNode', expanded=False)\n",
      "node:  subgraph GraphNode(id='subgraph', import_path=None, label='subgraph', parent_id=None, level=0, node=<pyiron_workflow.simple_workflow.Node object at 0x3179e2450>, graph=Graph(id=None, label='subgraph', root_node=None, nodes=NestedDict({'bulk': GraphNode(id='bulk', import_path='pyiron_nodes.atomistic.structure.build.Bulk', label='bulk', parent_id=None, level=0, node=<pyiron_workflow.simple_workflow.Node object at 0x31678a8a0>, graph=None, node_type='node', widget_type='customNode', expanded=False), 'volume': GraphNode(id='volume', import_path='pyiron_nodes.atomistic.structure.calc.Volume', label='volume', parent_id=None, level=0, node=<pyiron_workflow.simple_workflow.Node object at 0x3179b5910>, graph=None, node_type='node', widget_type='customNode', expanded=False)}), edges=[GraphEdge(source='bulk', target='volume', sourceHandle='structure', targetHandle='structure')], graph={}), node_type='graph', widget_type='customNode', expanded=False)\n",
      "node:  va_i_subgraph__bulk__name GraphNode(id='va_i_subgraph__bulk__name', import_path='pyiron_workflow.graph.base.identity', label='va_i_subgraph__bulk__name', parent_id='subgraph', level=0, node=<pyiron_workflow.simple_workflow.Node object at 0x3179b5370>, graph=None, node_type='node', widget_type='customNode', expanded=False)\n",
      "node:  va_i_subgraph__bulk__cubic GraphNode(id='va_i_subgraph__bulk__cubic', import_path='pyiron_workflow.graph.base.identity', label='va_i_subgraph__bulk__cubic', parent_id='subgraph', level=0, node=<pyiron_workflow.simple_workflow.Node object at 0x3179e0200>, graph=None, node_type='node', widget_type='customNode', expanded=False)\n",
      "node:  va_o_subgraph__volume__volume GraphNode(id='va_o_subgraph__volume__volume', import_path='pyiron_workflow.graph.base.identity', label='va_o_subgraph__volume__volume', parent_id='subgraph', level=0, node=<pyiron_workflow.simple_workflow.Node object at 0x3168138f0>, graph=None, node_type='node', widget_type='customNode', expanded=False)\n",
      "['subgraph']\n"
     ]
    },
    {
     "data": {
      "text/plain": [
       "Graph(id=None, label='test', root_node=None, nodes=Nodes({'subgraph': GraphNode(id='subgraph', import_path=None, label='subgraph', parent_id=None, level=0, node=<pyiron_workflow.simple_workflow.Node object at 0x3179e2450>, graph=Graph(id=None, label='subgraph', root_node=None, nodes=NestedDict({'bulk': GraphNode(id='bulk', import_path='pyiron_nodes.atomistic.structure.build.Bulk', label='bulk', parent_id=None, level=0, node=<pyiron_workflow.simple_workflow.Node object at 0x31678a8a0>, graph=None, node_type='node', widget_type='customNode', expanded=False), 'volume': GraphNode(id='volume', import_path='pyiron_nodes.atomistic.structure.calc.Volume', label='volume', parent_id=None, level=0, node=<pyiron_workflow.simple_workflow.Node object at 0x3179b5910>, graph=None, node_type='node', widget_type='customNode', expanded=False)}), edges=[GraphEdge(source='bulk', target='volume', sourceHandle='structure', targetHandle='structure')], graph={}), node_type='graph', widget_type='customNode', expanded=False), 'range': GraphNode(id='range', import_path='pyiron_nodes.math.Linspace', label='range', parent_id=None, level=0, node=<pyiron_workflow.simple_workflow.Node object at 0x31678a5a0>, graph=None, node_type='node', widget_type='customNode', expanded=False)}), edges=[], graph={})"
      ]
     },
     "execution_count": 43,
     "metadata": {},
     "output_type": "execute_result"
    }
   ],
   "source": [
    "from pyiron_workflow import Workflow\n",
    "import pyiron_nodes as pn\n",
    "\n",
    "wf = Workflow(\"test\")\n",
    "wf.bulk = pn.atomistic.structure.build.Bulk(\"Al\", cubic=True)\n",
    "wf.volume = pn.atomistic.structure.calc.Volume(wf.bulk)\n",
    "# wf.subgraph = Group([wf.bulk, wf.volume])\n",
    "\n",
    "wf.range = pn.math.Linspace(1.8, 2.2, 7)\n",
    "# wf.executor = pn.executor.\n",
    "# wf.iter = pn.executors.IterNode(node=wf.volume, kwarg_name=\"Bulk__name\", kwarg_list=wf.range)\n",
    "\n",
    "graph = base.get_graph_from_wf(wf, [], [])\n",
    "graph_sub = base.create_group(graph, [0, 2])\n",
    "\n",
    "base.get_updated_graph(graph_sub)\n",
    "#graph_sub"
   ]
  },
  {
   "cell_type": "code",
   "execution_count": 44,
   "id": "b73f04e2-9bf2-41e3-881d-b6ed63b2f422",
   "metadata": {},
   "outputs": [],
   "source": [
    "# graph.nodes[\"test\"] = base.GraphNode()"
   ]
  },
  {
   "cell_type": "code",
   "execution_count": 45,
   "id": "5a1b9edb-63f8-48ae-a5d2-9211c1192f3e",
   "metadata": {},
   "outputs": [
    {
     "data": {
      "text/plain": [
       "{'Bulk': {'id': 'Bulk',\n",
       "  'import_path': 'pyiron_nodes.atomistic.structure.build.Bulk',\n",
       "  'label': 'Bulk',\n",
       "  'parent_id': None,\n",
       "  'level': 0,\n",
       "  'graph': None,\n",
       "  'node_type': 'node',\n",
       "  'widget_type': 'customNode',\n",
       "  'expanded': False,\n",
       "  'node': {'label': 'Bulk',\n",
       "   'function': 'pyiron_nodes.atomistic.structure.build.Bulk',\n",
       "   'inputs': {'name': 'Al', 'a': 2}}},\n",
       " 'M3GNet': {'id': 'M3GNet',\n",
       "  'import_path': 'pyiron_nodes.atomistic.engine.ase.M3GNet',\n",
       "  'label': 'M3GNet',\n",
       "  'parent_id': None,\n",
       "  'level': 0,\n",
       "  'graph': None,\n",
       "  'node_type': 'node',\n",
       "  'widget_type': 'customNode',\n",
       "  'expanded': False,\n",
       "  'node': {'label': 'M3GNet',\n",
       "   'function': 'pyiron_nodes.atomistic.engine.ase.M3GNet',\n",
       "   'inputs': {}}},\n",
       " 'Static': {'id': 'Static',\n",
       "  'import_path': 'pyiron_nodes.atomistic.calculator.ase.Static',\n",
       "  'label': 'Static',\n",
       "  'parent_id': None,\n",
       "  'level': 0,\n",
       "  'graph': None,\n",
       "  'node_type': 'node',\n",
       "  'widget_type': 'customNode',\n",
       "  'expanded': False,\n",
       "  'node': {'label': 'Static',\n",
       "   'function': 'pyiron_nodes.atomistic.calculator.ase.Static',\n",
       "   'inputs': {}}},\n",
       " 'GetEnergyLast': {'id': 'GetEnergyLast',\n",
       "  'import_path': 'pyiron_nodes.atomistic.calculator.output.GetEnergyLast',\n",
       "  'label': 'GetEnergyLast',\n",
       "  'parent_id': None,\n",
       "  'level': 0,\n",
       "  'graph': None,\n",
       "  'node_type': 'node',\n",
       "  'widget_type': 'customNode',\n",
       "  'expanded': False,\n",
       "  'node': {'label': 'GetEnergyLast',\n",
       "   'function': 'pyiron_nodes.atomistic.calculator.output.GetEnergyLast',\n",
       "   'inputs': {}}},\n",
       " '_obj_type': 'pyiron_workflow.graph.base.GraphNode'}"
      ]
     },
     "execution_count": 45,
     "metadata": {},
     "output_type": "execute_result"
    }
   ],
   "source": [
    "import json\n",
    "from pyiron_workflow.graph.to_code import get_code_from_graph, _build_function_parameters\n",
    "\n",
    "wf_file = \"murnaghan2.json\"\n",
    "with open(wf_file, \"r\") as f:\n",
    "    graph_dict = (json.load(f))\n",
    "\n",
    "# base.Nodes().__setstate__(graph_dict[\"nodes\"])\n",
    "sub_nodes= graph_dict[\"nodes\"][\"subgraph\"][\"graph\"][\"nodes\"]\n",
    "#base.Nodes().__setstate__(sub_nodes)\n",
    "sub_nodes"
   ]
  },
  {
   "cell_type": "code",
   "execution_count": 46,
   "id": "d7b310dc-26fe-48c1-b8ae-d09a26f64a43",
   "metadata": {},
   "outputs": [
    {
     "data": {
      "text/plain": [
       "False"
      ]
     },
     "execution_count": 46,
     "metadata": {},
     "output_type": "execute_result"
    }
   ],
   "source": [
    "import json\n",
    "from pyiron_workflow.graph.to_code import get_code_from_graph, _build_function_parameters\n",
    "\n",
    "wf_file = \"murnaghan2.json\"\n",
    "with open(wf_file, \"r\") as f:\n",
    "    graph_dict = (json.load(f))\n",
    "\n",
    "\n",
    "    \n",
    " \n",
    "# loaded_graph = base.Graph().__setstate__(graph_dict[\"nodes\"][\"subgraph\"][\"graph\"])\n",
    "loaded_graph = base.Graph().__setstate__(graph_dict)\n",
    "#print(get_code_from_graph(loaded_graph.nodes[\"subgraph\"].graph))\n",
    "\n",
    "\n",
    "# print(get_code_from_graph(loaded_graph.nodes[\"subgraph\"]))\n",
    "#loaded_graph.nodes[\"subgraph\"].node\n",
    "\n",
    "#base.graph_to_node(base.Graph().__setstate__(graph_dict[\"nodes\"][\"subgraph\"][\"graph\"]))\n",
    "subgraph = base.Graph().__setstate__(graph_dict[\"nodes\"][\"subgraph\"][\"graph\"])\n",
    "\n",
    "#get_code_from_graph(subgraph)\n",
    "subgraph.nodes._obj_type is None\n",
    "#subgraph"
   ]
  },
  {
   "cell_type": "code",
   "execution_count": 47,
   "id": "5f020e6e-87db-4865-b634-26138b795dfe",
   "metadata": {},
   "outputs": [
    {
     "data": {
      "text/plain": [
       "{'Bulk': {'id': 'Bulk',\n",
       "  'import_path': 'pyiron_nodes.atomistic.structure.build.Bulk',\n",
       "  'label': 'Bulk',\n",
       "  'parent_id': None,\n",
       "  'level': 0,\n",
       "  'graph': None,\n",
       "  'node_type': 'node',\n",
       "  'widget_type': 'customNode',\n",
       "  'expanded': False,\n",
       "  'node': {'label': 'Bulk',\n",
       "   'function': 'pyiron_nodes.atomistic.structure.build.Bulk',\n",
       "   'inputs': {'name': 'Al', 'a': 2}}},\n",
       " 'M3GNet': {'id': 'M3GNet',\n",
       "  'import_path': 'pyiron_nodes.atomistic.engine.ase.M3GNet',\n",
       "  'label': 'M3GNet',\n",
       "  'parent_id': None,\n",
       "  'level': 0,\n",
       "  'graph': None,\n",
       "  'node_type': 'node',\n",
       "  'widget_type': 'customNode',\n",
       "  'expanded': False,\n",
       "  'node': {'label': 'M3GNet',\n",
       "   'function': 'pyiron_nodes.atomistic.engine.ase.M3GNet',\n",
       "   'inputs': {}}},\n",
       " 'Static': {'id': 'Static',\n",
       "  'import_path': 'pyiron_nodes.atomistic.calculator.ase.Static',\n",
       "  'label': 'Static',\n",
       "  'parent_id': None,\n",
       "  'level': 0,\n",
       "  'graph': None,\n",
       "  'node_type': 'node',\n",
       "  'widget_type': 'customNode',\n",
       "  'expanded': False,\n",
       "  'node': {'label': 'Static',\n",
       "   'function': 'pyiron_nodes.atomistic.calculator.ase.Static',\n",
       "   'inputs': {}}},\n",
       " 'GetEnergyLast': {'id': 'GetEnergyLast',\n",
       "  'import_path': 'pyiron_nodes.atomistic.calculator.output.GetEnergyLast',\n",
       "  'label': 'GetEnergyLast',\n",
       "  'parent_id': None,\n",
       "  'level': 0,\n",
       "  'graph': None,\n",
       "  'node_type': 'node',\n",
       "  'widget_type': 'customNode',\n",
       "  'expanded': False,\n",
       "  'node': {'label': 'GetEnergyLast',\n",
       "   'function': 'pyiron_nodes.atomistic.calculator.output.GetEnergyLast',\n",
       "   'inputs': {}}},\n",
       " '_obj_type': 'pyiron_workflow.graph.base.GraphNode'}"
      ]
     },
     "execution_count": 47,
     "metadata": {},
     "output_type": "execute_result"
    }
   ],
   "source": [
    "graph_dict[\"nodes\"][\"subgraph\"][\"graph\"][\"nodes\"]"
   ]
  },
  {
   "cell_type": "code",
   "execution_count": 48,
   "id": "42c46e64-7ceb-4f48-a36f-6704e5c5be13",
   "metadata": {},
   "outputs": [
    {
     "data": {
      "text/plain": [
       "pyiron_workflow.graph.base.GraphNode"
      ]
     },
     "execution_count": 48,
     "metadata": {},
     "output_type": "execute_result"
    }
   ],
   "source": [
    "loaded_graph.nodes._obj_type"
   ]
  },
  {
   "cell_type": "markdown",
   "id": "799e34f5-e993-40a6-86f1-48da9a9a03fa",
   "metadata": {},
   "source": [
    "The decorator functions of Nodes are a constant source of errors. Can we make them more elegant and robust by going from decorator arguments to class inheritance?? Do I really need something like ob_type? I know the type I want to get from the name, i.e., nodes should have always GraphNode elements."
   ]
  },
  {
   "cell_type": "code",
   "execution_count": 49,
   "id": "4d6649f6-e025-4c2e-8a60-f685e82054e5",
   "metadata": {},
   "outputs": [
    {
     "name": "stdout",
     "output_type": "stream",
     "text": [
      "xxx:  \n",
      "def subgraph(name: str, a: int = None):\n",
      "\n",
      "    from pyiron_workflow import Workflow\n",
      "    import pyiron_nodes\n",
      "\n",
      "    wf = Workflow('subgraph')\n",
      "\n",
      "    wf.Bulk = pyiron_nodes.atomistic.structure.build.Bulk(name=name, a=a) \n",
      "    wf.M3GNet = pyiron_nodes.atomistic.engine.ase.M3GNet() \n",
      "    wf.Static = pyiron_nodes.atomistic.calculator.ase.Static(structure=wf.Bulk, engine=wf.M3GNet) \n",
      "    wf.GetEnergyLast = pyiron_nodes.atomistic.calculator.output.GetEnergyLast(calculator=wf.Static) \n",
      "\n",
      "    return wf.GetEnergyLast.outputs.energy_last\n",
      "\n"
     ]
    },
    {
     "data": {
      "application/vnd.jupyter.widget-view+json": {
       "model_id": "4bde3990866444ea8ef8dee2720e15bd",
       "version_major": 2,
       "version_minor": 1
      },
      "text/plain": [
       "ReactFlowWidget(layout=Layout(height='600px', width='800px'))"
      ]
     },
     "metadata": {},
     "output_type": "display_data"
    },
    {
     "data": {
      "text/plain": [
       "<pyiron_workflow.graph.base.GuiGraph at 0x317997350>"
      ]
     },
     "execution_count": 49,
     "metadata": {},
     "output_type": "execute_result"
    }
   ],
   "source": [
    "subgraph = base._load_graph(\"murnaghan2\").nodes[\"subgraph\"]\n",
    "print('xxx: ', base.graph_to_code(subgraph.graph))\n",
    "\n",
    "base.GuiGraph(subgraph.graph)"
   ]
  },
  {
   "cell_type": "code",
   "execution_count": 50,
   "id": "f1246223-0c61-4068-950d-5bb6bdb729c0",
   "metadata": {},
   "outputs": [
    {
     "name": "stdout",
     "output_type": "stream",
     "text": [
      "xxx:  \n",
      "def subgraph(name: str, a: int = None):\n",
      "\n",
      "    from pyiron_workflow import Workflow\n",
      "    import pyiron_nodes\n",
      "\n",
      "    wf = Workflow('subgraph')\n",
      "\n",
      "    wf.Bulk = pyiron_nodes.atomistic.structure.build.Bulk(name=name, a=a) \n",
      "    wf.M3GNet = pyiron_nodes.atomistic.engine.ase.M3GNet() \n",
      "    wf.Static = pyiron_nodes.atomistic.calculator.ase.Static(structure=wf.Bulk, engine=wf.M3GNet) \n",
      "    wf.GetEnergyLast = pyiron_nodes.atomistic.calculator.output.GetEnergyLast(calculator=wf.Static) \n",
      "\n",
      "    return wf.GetEnergyLast.outputs.energy_last\n",
      "\n"
     ]
    },
    {
     "data": {
      "application/vnd.jupyter.widget-view+json": {
       "model_id": "450ae56a9175423c844d1e1c9aa2693e",
       "version_major": 2,
       "version_minor": 1
      },
      "text/plain": [
       "ReactFlowWidget(layout=Layout(height='600px', width='800px'))"
      ]
     },
     "metadata": {},
     "output_type": "display_data"
    },
    {
     "data": {
      "text/plain": [
       "<pyiron_workflow.graph.base.GuiGraph at 0x3165f02f0>"
      ]
     },
     "execution_count": 50,
     "metadata": {},
     "output_type": "execute_result"
    }
   ],
   "source": [
    "wf_file = \"murnaghan2.json\"\n",
    "with open(wf_file, \"r\") as f:\n",
    "    graph_dict = (json.load(f))\n",
    "\n",
    "loaded_graph = base.Graph().__setstate__(graph_dict)\n",
    "\n",
    "subgraph2 = loaded_graph.nodes[\"subgraph\"].graph\n",
    "print('xxx: ', base.graph_to_code(subgraph2))\n",
    "base.GuiGraph(subgraph2)"
   ]
  },
  {
   "cell_type": "code",
   "execution_count": 51,
   "id": "f988d895-31c1-46ef-af32-5361fabd9c27",
   "metadata": {},
   "outputs": [
    {
     "name": "stdout",
     "output_type": "stream",
     "text": [
      "def subgraph(Bulk__name: str = \"Al\", Bulk__a: int = 2):\n",
      "\n",
      "    from pyiron_workflow import Workflow\n",
      "    wf = Workflow('subgraph')\n",
      "\n",
      "    from pyiron_nodes.atomistic.structure.build import Bulk\n",
      "    wf.Bulk = Bulk(name=Bulk__name, a=Bulk__a)\n",
      "    from pyiron_nodes.atomistic.engine.ase import M3GNet\n",
      "    wf.M3GNet = M3GNet()\n",
      "    from pyiron_nodes.atomistic.calculator.ase import Static\n",
      "    wf.Static = Static(structure=wf.Bulk, engine=wf.M3GNet)\n",
      "    from pyiron_nodes.atomistic.calculator.output import GetEnergyLast\n",
      "    wf.GetEnergyLast = GetEnergyLast(calculator=wf.Static)\n",
      "\n",
      "    return wf.GetEnergyLast\n",
      "\n"
     ]
    }
   ],
   "source": [
    "from pyiron_workflow.graph.to_code import get_code_from_graph, _build_function_parameters\n",
    "\n",
    "\n",
    "print(get_code_from_graph(loaded_graph.nodes[\"subgraph\"].graph))"
   ]
  },
  {
   "cell_type": "code",
   "execution_count": 52,
   "id": "afa74248-fb8c-47a9-84b8-7c507f5b6075",
   "metadata": {},
   "outputs": [
    {
     "name": "stdout",
     "output_type": "stream",
     "text": [
      "xxx:  \n",
      "def subgraph(name: str, a: int = None):\n",
      "\n",
      "    from pyiron_workflow import Workflow\n",
      "    import pyiron_nodes\n",
      "\n",
      "    wf = Workflow('subgraph')\n",
      "\n",
      "    wf.Bulk = pyiron_nodes.atomistic.structure.build.Bulk(name=name, a=a) \n",
      "    wf.M3GNet = pyiron_nodes.atomistic.engine.ase.M3GNet() \n",
      "    wf.Static = pyiron_nodes.atomistic.calculator.ase.Static(structure=wf.Bulk, engine=wf.M3GNet) \n",
      "    wf.GetEnergyLast = pyiron_nodes.atomistic.calculator.output.GetEnergyLast(calculator=wf.Static) \n",
      "\n",
      "    return wf.GetEnergyLast.outputs.energy_last\n",
      "\n"
     ]
    }
   ],
   "source": [
    "subgraph = base._load_graph(\"murnaghan2\").nodes[\"subgraph\"]\n",
    "print('xxx: ', base.graph_to_code(subgraph.graph))"
   ]
  },
  {
   "cell_type": "code",
   "execution_count": 53,
   "id": "5ad627cc-0115-4685-a178-3c94f3fd18e2",
   "metadata": {},
   "outputs": [
    {
     "data": {
      "text/plain": [
       "'Bulk__name: str = \"Al\", Bulk__a: int = 2'"
      ]
     },
     "execution_count": 53,
     "metadata": {},
     "output_type": "execute_result"
    }
   ],
   "source": [
    "from pyiron_workflow.graph.to_code import get_code_from_graph, _build_function_parameters\n",
    "\n",
    "_build_function_parameters(subgraph.graph, use_node_default=False)"
   ]
  },
  {
   "cell_type": "code",
   "execution_count": 54,
   "id": "a798b14f-53d0-4b04-958d-f1879b79fd6c",
   "metadata": {},
   "outputs": [
    {
     "name": "stdout",
     "output_type": "stream",
     "text": [
      "xxx:  def subgraph(Bulk__name: str = \"Al\", Bulk__a: int = 2):\n",
      "\n",
      "    from pyiron_workflow import Workflow\n",
      "    wf = Workflow('subgraph')\n",
      "\n",
      "    from pyiron_nodes.atomistic.structure.build import Bulk\n",
      "    wf.Bulk = Bulk(name=Bulk__name, a=Bulk__a)\n",
      "    from pyiron_nodes.atomistic.engine.ase import M3GNet\n",
      "    wf.M3GNet = M3GNet()\n",
      "    from pyiron_nodes.atomistic.calculator.ase import Static\n",
      "    wf.Static = Static(structure=wf.Bulk, engine=wf.M3GNet)\n",
      "    from pyiron_nodes.atomistic.calculator.output import GetEnergyLast\n",
      "    wf.GetEnergyLast = GetEnergyLast(calculator=wf.Static)\n",
      "\n",
      "    return wf.GetEnergyLast\n",
      "\n"
     ]
    }
   ],
   "source": [
    "print('xxx: ', get_code_from_graph(subgraph.graph, use_node_default=False))"
   ]
  },
  {
   "cell_type": "code",
   "execution_count": 55,
   "id": "aeccdf00-fa80-4315-a5f7-4dc4f5e88284",
   "metadata": {},
   "outputs": [
    {
     "name": "stdout",
     "output_type": "stream",
     "text": [
      "def subgraph(Bulk__name: str = \"Al\", Bulk__a: int = 2):\n",
      "\n",
      "    from pyiron_workflow import Workflow\n",
      "    wf = Workflow('subgraph')\n",
      "\n",
      "    from pyiron_nodes.atomistic.structure.build import Bulk\n",
      "    wf.Bulk = Bulk(name=Bulk__name, a=Bulk__a)\n",
      "    from pyiron_nodes.atomistic.engine.ase import M3GNet\n",
      "    wf.M3GNet = M3GNet()\n",
      "    from pyiron_nodes.atomistic.calculator.ase import Static\n",
      "    wf.Static = Static(structure=wf.Bulk, engine=wf.M3GNet)\n",
      "    from pyiron_nodes.atomistic.calculator.output import GetEnergyLast\n",
      "    wf.GetEnergyLast = GetEnergyLast(calculator=wf.Static)\n",
      "\n",
      "    return wf.GetEnergyLast\n",
      "\n"
     ]
    }
   ],
   "source": [
    "from pyiron_workflow.graph.to_code import get_code_from_graph, _build_function_parameters\n",
    "\n",
    "graph = base._load_graph(\"murnaghan2\")\n",
    "print(get_code_from_graph(graph.nodes[\"subgraph\"].graph))"
   ]
  },
  {
   "cell_type": "code",
   "execution_count": 56,
   "id": "c8d4528e-a91c-4a7c-bc34-8b3401d3924b",
   "metadata": {},
   "outputs": [],
   "source": [
    "# base.Graph(id=None, \n",
    "#       label='subgraph', \n",
    "#       root_node=None, \n",
    "#       nodes=NestedDict({'Bulk': GraphNode(id='Bulk', import_path='pyiron_nodes.atomistic.structure.build.Bulk', label='Bulk', \n",
    "#                                           parent_id=None, level=0, node=<pyiron_workflow.simple_workflow.Node object at 0x17372c3e0>, \n",
    "#                                           graph=None, node_type='node', widget_type='customNode', expanded=False), \n",
    "#                         'M3GNet': GraphNode(id='M3GNet', import_path='pyiron_nodes.atomistic.engine.ase.M3GNet', label='M3GNet', \n",
    "#                                             parent_id=None, level=0, node=<pyiron_workflow.simple_workflow.Node object at 0x17372c410>, \n",
    "#                                             graph=None, node_type='node', widget_type='customNode', expanded=False), \n",
    "#                         'Static': GraphNode(id='Static', import_path='pyiron_nodes.atomistic.calculator.ase.Static', label='Static', \n",
    "#                                             parent_id=None, level=0, node=<pyiron_workflow.simple_workflow.Node object at 0x17372c0e0>, \n",
    "#                                             graph=None, node_type='node', widget_type='customNode', expanded=False), \n",
    "#                         'GetEnergyLast': GraphNode(id='GetEnergyLast', import_path='pyiron_nodes.atomistic.calculator.output.GetEnergyLast', label='GetEnergyLast', \n",
    "#                                                    parent_id=None, level=0, node=<pyiron_workflow.simple_workflow.Node object at 0x17372c3b0>, \n",
    "#                                                    graph=None, node_type='node', widget_type='customNode', expanded=False)}), \n",
    "#       edges=[GraphEdge(source='Static', target='GetEnergyLast', sourceHandle='out', targetHandle='calculator'), \n",
    "#              GraphEdge(source='Bulk', target='Static', sourceHandle='structure', targetHandle='structure'), \n",
    "#              GraphEdge(source='M3GNet', target='Static', sourceHandle='out', targetHandle='engine')], graph={})\n",
    "\n",
    "# parent_id=None, level=0, node=<pyiron_workflow.simple_workflow.Node object at 0x17372c3e0>,\n",
    "#                                   ^\n",
    "# SyntaxError: invalid syntax\n",
    "\n",
    "# This appears to be a paste of a copied print and not actual code"
   ]
  },
  {
   "cell_type": "code",
   "execution_count": 57,
   "id": "826876b1-c68e-4751-8779-dac8ef719904",
   "metadata": {},
   "outputs": [
    {
     "data": {
      "text/plain": [
       "Graph(id=None, label='subgraph', root_node=None, nodes=Nodes({'Bulk': GraphNode(id='Bulk', import_path='pyiron_nodes.atomistic.structure.build.Bulk', label='Bulk', parent_id=None, level=0, node=<pyiron_workflow.simple_workflow.Node object at 0x317a8da30>, graph=None, node_type='node', widget_type='customNode', expanded=False), 'M3GNet': GraphNode(id='M3GNet', import_path='pyiron_nodes.atomistic.engine.ase.M3GNet', label='M3GNet', parent_id=None, level=0, node=<pyiron_workflow.simple_workflow.Node object at 0x317a8e6f0>, graph=None, node_type='node', widget_type='customNode', expanded=False), 'Static': GraphNode(id='Static', import_path='pyiron_nodes.atomistic.calculator.ase.Static', label='Static', parent_id=None, level=0, node=<pyiron_workflow.simple_workflow.Node object at 0x317a8e720>, graph=None, node_type='node', widget_type='customNode', expanded=False), 'GetEnergyLast': GraphNode(id='GetEnergyLast', import_path='pyiron_nodes.atomistic.calculator.output.GetEnergyLast', label='GetEnergyLast', parent_id=None, level=0, node=<pyiron_workflow.simple_workflow.Node object at 0x317a8fcb0>, graph=None, node_type='node', widget_type='customNode', expanded=False)}), edges=[GraphEdge(source='Static', target='GetEnergyLast', sourceHandle='out', targetHandle='calculator'), GraphEdge(source='Bulk', target='Static', sourceHandle='structure', targetHandle='structure'), GraphEdge(source='M3GNet', target='Static', sourceHandle='out', targetHandle='engine')], graph={})"
      ]
     },
     "execution_count": 57,
     "metadata": {},
     "output_type": "execute_result"
    }
   ],
   "source": [
    "subgraph.graph"
   ]
  },
  {
   "cell_type": "code",
   "execution_count": 58,
   "id": "0896fa6c-4e3e-4f27-aade-8d728230186a",
   "metadata": {},
   "outputs": [
    {
     "data": {
      "text/html": [
       "<div>\n",
       "<style scoped>\n",
       "    .dataframe tbody tr th:only-of-type {\n",
       "        vertical-align: middle;\n",
       "    }\n",
       "\n",
       "    .dataframe tbody tr th {\n",
       "        vertical-align: top;\n",
       "    }\n",
       "\n",
       "    .dataframe thead th {\n",
       "        text-align: right;\n",
       "    }\n",
       "</style>\n",
       "<table border=\"1\" class=\"dataframe\">\n",
       "  <thead>\n",
       "    <tr style=\"text-align: right;\">\n",
       "      <th></th>\n",
       "      <th>label</th>\n",
       "      <th>value</th>\n",
       "      <th>type</th>\n",
       "      <th>default</th>\n",
       "      <th>ready</th>\n",
       "      <th>node</th>\n",
       "    </tr>\n",
       "  </thead>\n",
       "  <tbody>\n",
       "    <tr>\n",
       "      <th>0</th>\n",
       "      <td>Bulk__name</td>\n",
       "      <td>Al</td>\n",
       "      <td>str</td>\n",
       "      <td>NotData</td>\n",
       "      <td>True</td>\n",
       "      <td>&lt;pyiron_workflow.simple_workflow.Node object a...</td>\n",
       "    </tr>\n",
       "    <tr>\n",
       "      <th>1</th>\n",
       "      <td>Bulk__a</td>\n",
       "      <td>2</td>\n",
       "      <td>int</td>\n",
       "      <td>None</td>\n",
       "      <td>True</td>\n",
       "      <td>&lt;pyiron_workflow.simple_workflow.Node object a...</td>\n",
       "    </tr>\n",
       "  </tbody>\n",
       "</table>\n",
       "</div>"
      ],
      "text/plain": [
       "{'label': ['Bulk__name', 'Bulk__a'], 'value': ['Al', 2], 'type': ['str', 'int'], 'default': ['NotData', None], 'ready': [True, True], 'node': [<pyiron_workflow.simple_workflow.Node object at 0x31798b0b0>, <pyiron_workflow.simple_workflow.Node object at 0x31798b0b0>]}"
      ]
     },
     "execution_count": 58,
     "metadata": {},
     "output_type": "execute_result"
    }
   ],
   "source": [
    "subgraph.node.inputs"
   ]
  },
  {
   "cell_type": "code",
   "execution_count": 59,
   "id": "b7677c1c-8865-4963-8f3e-b6ce3a43161b",
   "metadata": {},
   "outputs": [
    {
     "name": "stdout",
     "output_type": "stream",
     "text": [
      "GraphNode(id='Bulk', import_path='pyiron_nodes.atomistic.structure.build.Bulk', label='Bulk', parent_id=None, level=0, node=<pyiron_workflow.simple_workflow.Node object at 0x317a6c830>, graph=None, node_type='node', widget_type='customNode', expanded=False)\n",
      "GraphNode(id='Volume', import_path='pyiron_nodes.atomistic.structure.calc.Volume', label='Volume', parent_id=None, level=0, node=<pyiron_workflow.simple_workflow.Node object at 0x31798bdd0>, graph=None, node_type='node', widget_type='customNode', expanded=False)\n",
      "GraphNode(id='ThreadPoolExecutor', import_path='pyiron_nodes.executors.ThreadPoolExecutor', label='ThreadPoolExecutor', parent_id=None, level=0, node=<pyiron_workflow.simple_workflow.Node object at 0x31798bd10>, graph=None, node_type='node', widget_type='customNode', expanded=False)\n",
      "GraphNode(id='IterNode', import_path='pyiron_nodes.executors.IterNode', label='IterNode', parent_id=None, level=0, node=<pyiron_workflow.simple_workflow.Node object at 0x317988260>, graph=None, node_type='node', widget_type='customNode', expanded=False)\n",
      "GraphNode(id='SingleNodeExecutor', import_path='pyiron_nodes.executors.SingleNodeExecutor', label='SingleNodeExecutor', parent_id=None, level=0, node=<pyiron_workflow.simple_workflow.Node object at 0x31798b590>, graph=None, node_type='node', widget_type='customNode', expanded=False)\n",
      "GraphNode(id='Linspace', import_path='pyiron_nodes.math.Linspace', label='Linspace', parent_id=None, level=0, node=<pyiron_workflow.simple_workflow.Node object at 0x31798b0e0>, graph=None, node_type='node', widget_type='customNode', expanded=False)\n"
     ]
    }
   ],
   "source": [
    "graph2 = base._load_graph(\"executor3\")\n",
    "for node in graph2.nodes.values():\n",
    "    print(node)"
   ]
  },
  {
   "cell_type": "code",
   "execution_count": 60,
   "id": "4c63a09a-db8c-4a78-b51a-41fb7bc858f4",
   "metadata": {},
   "outputs": [
    {
     "name": "stdout",
     "output_type": "stream",
     "text": [
      "CPU times: user 2.79 ms, sys: 922 μs, total: 3.71 ms\n",
      "Wall time: 3.19 ms\n"
     ]
    },
    {
     "data": {
      "text/plain": [
       "<pyiron_workflow.simple_workflow.Node at 0x31798aea0>"
      ]
     },
     "execution_count": 60,
     "metadata": {},
     "output_type": "execute_result"
    }
   ],
   "source": [
    "%%time\n",
    "\n",
    "from pyiron_workflow import simple_workflow as sw\n",
    "import pyiron_nodes\n",
    "Al = pyiron_nodes.atomistic.structure.build.CubicBulkCell(element=\"Al\")\n",
    "\n",
    "from pyiron_workflow.graph import base\n",
    "import pickle\n",
    "dumps = pickle.dumps((Al, base.run_node))\n",
    "\n",
    "Al.__getstate__()\n",
    "Al_p, run = pickle.loads(dumps)\n",
    "Al_p.inputs\n",
    "# Al\n",
    "base.Node().__setstate__(state=Al.__getstate__())"
   ]
  },
  {
   "cell_type": "code",
   "execution_count": 61,
   "id": "1f4f422d-97cf-4621-9bc3-631eabb80c88",
   "metadata": {
    "scrolled": true
   },
   "outputs": [
    {
     "name": "stdout",
     "output_type": "stream",
     "text": [
      "labels ['Bulk__name', 'Bulk__a', 'Bulk__cubic', 'Linspace__x_min', 'Linspace__x_max', 'Linspace__num_points', 'IterNode__kwarg_name']\n",
      "inp:  Bulk name\n",
      "GraphEdge(source='va_i_subgraph__Bulk__name', target='Bulk', sourceHandle='x', targetHandle='name')\n",
      "inp:  Bulk a\n",
      "GraphEdge(source='va_i_subgraph__Bulk__a', target='Bulk', sourceHandle='x', targetHandle='a')\n",
      "inp:  Bulk cubic\n",
      "GraphEdge(source='va_i_subgraph__Bulk__cubic', target='Bulk', sourceHandle='x', targetHandle='cubic')\n",
      "inp:  Linspace x_min\n",
      "GraphEdge(source='va_i_subgraph__Linspace__x_min', target='Linspace', sourceHandle='x', targetHandle='x_min')\n",
      "inp:  Linspace x_max\n",
      "GraphEdge(source='va_i_subgraph__Linspace__x_max', target='Linspace', sourceHandle='x', targetHandle='x_max')\n",
      "inp:  Linspace num_points\n",
      "GraphEdge(source='va_i_subgraph__Linspace__num_points', target='Linspace', sourceHandle='x', targetHandle='num_points')\n",
      "inp:  IterNode kwarg_name\n",
      "GraphEdge(source='va_i_subgraph__IterNode__kwarg_name', target='IterNode', sourceHandle='x', targetHandle='kwarg_name')\n",
      "labels ['IterNode__df']\n",
      "node:  Bulk GraphNode(id='Bulk', import_path='pyiron_nodes.atomistic.structure.build.Bulk', label='Bulk', parent_id='subgraph', level=1, node=<pyiron_workflow.simple_workflow.Node object at 0x31798b980>, graph=None, node_type='node', widget_type='customNode', expanded=False)\n",
      "node:  Volume GraphNode(id='Volume', import_path='pyiron_nodes.atomistic.structure.calc.Volume', label='Volume', parent_id='subgraph', level=1, node=<pyiron_workflow.simple_workflow.Node object at 0x317aac8f0>, graph=None, node_type='node', widget_type='customNode', expanded=False)\n",
      "node:  ThreadPoolExecutor GraphNode(id='ThreadPoolExecutor', import_path='pyiron_nodes.executors.ThreadPoolExecutor', label='ThreadPoolExecutor', parent_id='subgraph', level=1, node=<pyiron_workflow.simple_workflow.Node object at 0x317989220>, graph=None, node_type='node', widget_type='customNode', expanded=False)\n",
      "node:  IterNode GraphNode(id='IterNode', import_path='pyiron_nodes.executors.IterNode', label='IterNode', parent_id='subgraph', level=1, node=<pyiron_workflow.simple_workflow.Node object at 0x317aacce0>, graph=None, node_type='node', widget_type='customNode', expanded=False)\n",
      "node:  SingleNodeExecutor GraphNode(id='SingleNodeExecutor', import_path='pyiron_nodes.executors.SingleNodeExecutor', label='SingleNodeExecutor', parent_id=None, level=0, node=<pyiron_workflow.simple_workflow.Node object at 0x317aac800>, graph=None, node_type='node', widget_type='customNode', expanded=False)\n",
      "node:  Linspace GraphNode(id='Linspace', import_path='pyiron_nodes.math.Linspace', label='Linspace', parent_id='subgraph', level=1, node=<pyiron_workflow.simple_workflow.Node object at 0x317aac770>, graph=None, node_type='node', widget_type='customNode', expanded=False)\n",
      "node:  subgraph GraphNode(id='subgraph', import_path=None, label='subgraph', parent_id=None, level=0, node=<pyiron_workflow.simple_workflow.Node object at 0x317aaf470>, graph=Graph(id=None, label='subgraph', root_node=None, nodes=NestedDict({'Bulk': GraphNode(id='Bulk', import_path='pyiron_nodes.atomistic.structure.build.Bulk', label='Bulk', parent_id=None, level=0, node=<pyiron_workflow.simple_workflow.Node object at 0x31798b980>, graph=None, node_type='node', widget_type='customNode', expanded=False), 'ThreadPoolExecutor': GraphNode(id='ThreadPoolExecutor', import_path='pyiron_nodes.executors.ThreadPoolExecutor', label='ThreadPoolExecutor', parent_id=None, level=0, node=<pyiron_workflow.simple_workflow.Node object at 0x317989220>, graph=None, node_type='node', widget_type='customNode', expanded=False), 'Linspace': GraphNode(id='Linspace', import_path='pyiron_nodes.math.Linspace', label='Linspace', parent_id=None, level=0, node=<pyiron_workflow.simple_workflow.Node object at 0x317aac770>, graph=None, node_type='node', widget_type='customNode', expanded=False), 'Volume': GraphNode(id='Volume', import_path='pyiron_nodes.atomistic.structure.calc.Volume', label='Volume', parent_id=None, level=0, node=<pyiron_workflow.simple_workflow.Node object at 0x317aac8f0>, graph=None, node_type='node', widget_type='customNode', expanded=False), 'IterNode': GraphNode(id='IterNode', import_path='pyiron_nodes.executors.IterNode', label='IterNode', parent_id=None, level=0, node=<pyiron_workflow.simple_workflow.Node object at 0x317aacce0>, graph=None, node_type='node', widget_type='customNode', expanded=False)}), edges=[GraphEdge(source='Bulk', target='Volume', sourceHandle='structure', targetHandle='structure'), GraphEdge(source='Volume', target='IterNode', sourceHandle='volume', targetHandle='node'), GraphEdge(source='ThreadPoolExecutor', target='IterNode', sourceHandle='Executor', targetHandle='Executor'), GraphEdge(source='Linspace', target='IterNode', sourceHandle='linspace', targetHandle='kwarg_list')], graph={}), node_type='graph', widget_type='customNode', expanded=False)\n",
      "node:  va_i_subgraph__Bulk__name GraphNode(id='va_i_subgraph__Bulk__name', import_path='pyiron_workflow.graph.base.identity', label='va_i_subgraph__Bulk__name', parent_id='subgraph', level=0, node=<pyiron_workflow.simple_workflow.Node object at 0x317aaf7a0>, graph=None, node_type='node', widget_type='customNode', expanded=False)\n",
      "node:  va_i_subgraph__Bulk__a GraphNode(id='va_i_subgraph__Bulk__a', import_path='pyiron_workflow.graph.base.identity', label='va_i_subgraph__Bulk__a', parent_id='subgraph', level=0, node=<pyiron_workflow.simple_workflow.Node object at 0x317aadee0>, graph=None, node_type='node', widget_type='customNode', expanded=False)\n",
      "node:  va_i_subgraph__Bulk__cubic GraphNode(id='va_i_subgraph__Bulk__cubic', import_path='pyiron_workflow.graph.base.identity', label='va_i_subgraph__Bulk__cubic', parent_id='subgraph', level=0, node=<pyiron_workflow.simple_workflow.Node object at 0x317aafe60>, graph=None, node_type='node', widget_type='customNode', expanded=False)\n",
      "node:  va_i_subgraph__Linspace__x_min GraphNode(id='va_i_subgraph__Linspace__x_min', import_path='pyiron_workflow.graph.base.identity', label='va_i_subgraph__Linspace__x_min', parent_id='subgraph', level=0, node=<pyiron_workflow.simple_workflow.Node object at 0x317aafc20>, graph=None, node_type='node', widget_type='customNode', expanded=False)\n",
      "node:  va_i_subgraph__Linspace__x_max GraphNode(id='va_i_subgraph__Linspace__x_max', import_path='pyiron_workflow.graph.base.identity', label='va_i_subgraph__Linspace__x_max', parent_id='subgraph', level=0, node=<pyiron_workflow.simple_workflow.Node object at 0x317aadfd0>, graph=None, node_type='node', widget_type='customNode', expanded=False)\n",
      "node:  va_i_subgraph__Linspace__num_points GraphNode(id='va_i_subgraph__Linspace__num_points', import_path='pyiron_workflow.graph.base.identity', label='va_i_subgraph__Linspace__num_points', parent_id='subgraph', level=0, node=<pyiron_workflow.simple_workflow.Node object at 0x317aafb60>, graph=None, node_type='node', widget_type='customNode', expanded=False)\n",
      "node:  va_i_subgraph__IterNode__kwarg_name GraphNode(id='va_i_subgraph__IterNode__kwarg_name', import_path='pyiron_workflow.graph.base.identity', label='va_i_subgraph__IterNode__kwarg_name', parent_id='subgraph', level=0, node=<pyiron_workflow.simple_workflow.Node object at 0x317aaf5c0>, graph=None, node_type='node', widget_type='customNode', expanded=False)\n",
      "node:  va_o_subgraph__IterNode__df GraphNode(id='va_o_subgraph__IterNode__df', import_path='pyiron_workflow.graph.base.identity', label='va_o_subgraph__IterNode__df', parent_id='subgraph', level=0, node=<pyiron_workflow.simple_workflow.Node object at 0x317aaf950>, graph=None, node_type='node', widget_type='customNode', expanded=False)\n",
      "['subgraph']\n",
      "<class 'pyiron_workflow.graph.base.GraphNode'>\n",
      "NODE:  Bulk\n",
      "<class 'pyiron_workflow.graph.base.GraphNode'>\n",
      "NODE:  ThreadPoolExecutor\n",
      "<class 'pyiron_workflow.graph.base.GraphNode'>\n",
      "NODE:  Linspace\n",
      "<class 'pyiron_workflow.graph.base.GraphNode'>\n",
      "NODE:  Volume\n",
      "<class 'pyiron_workflow.graph.base.GraphNode'>\n",
      "NODE:  IterNode\n"
     ]
    }
   ],
   "source": [
    "graph = base._load_graph(\"executor3\")\n",
    "\n",
    "# Originally this resulted in KeyError: 'subgraph'\n",
    "# Indeed, the executor3.json file has no subgraph.\n",
    "# Lets just stick _all_ the nodes in a subgraph and proceed\n",
    "# Nevermind, nope, because we're still not allowed multiple unconnected outputs in a subgraph\n",
    "# Just make a bespoke selection for now......\n",
    "graph = base.create_group(graph, [0, 1, 2, 3, 5], label=\"subgraph\")\n",
    "\n",
    "subgraph = graph.nodes[\"subgraph\"].graph\n",
    "#base.graph_to_node(subgraph)\n",
    "for node in subgraph.nodes.values():\n",
    "    print(type(node))\n",
    "    \n",
    "    # g = base.GraphNode().__setstate__(node)\n",
    "    # TypeError: 'Node' object is not subscriptable\n",
    "    \n",
    "    g = base.GraphNode().__setstate__(node.__getstate__())\n",
    "    print('NODE: ', g.label)"
   ]
  },
  {
   "cell_type": "code",
   "execution_count": 62,
   "id": "82c180fa-7b37-4c96-857d-b57a1648604c",
   "metadata": {},
   "outputs": [],
   "source": [
    "# graph = base._load_graph(\"executor3\")\n",
    "# subgraph = graph.nodes[\"subgraph\"].graph\n",
    "# #base.graph_to_node(subgraph)\n",
    "# for node in subgraph.nodes.values():\n",
    "#     g = base.GraphNode().__setstate__(node)\n",
    "#     print('NODE: ', g.label)\n",
    "\n",
    "# Duplicate cell, just comment it out"
   ]
  },
  {
   "cell_type": "code",
   "execution_count": 63,
   "id": "cf304804-5584-41fb-83b7-27f47b2ebd0f",
   "metadata": {},
   "outputs": [],
   "source": [
    "from pyiron_nodes.atomistic.structure.build import Bulk"
   ]
  },
  {
   "cell_type": "code",
   "execution_count": 64,
   "id": "ccd8c2f2-4e63-42f4-ae8a-6e1e7c6b0f9e",
   "metadata": {},
   "outputs": [
    {
     "data": {
      "text/plain": [
       "<pyiron_workflow.simple_workflow.Node at 0x317aae2d0>"
      ]
     },
     "execution_count": 64,
     "metadata": {},
     "output_type": "execute_result"
    }
   ],
   "source": [
    "import importlib\n",
    "\n",
    "module = importlib.import_module('pyiron_nodes.atomistic.structure.build')\n",
    "module.Bulk()"
   ]
  },
  {
   "cell_type": "code",
   "execution_count": 65,
   "id": "26092d8a-578c-48a4-848e-3edf67a48ebb",
   "metadata": {},
   "outputs": [
    {
     "data": {
      "text/plain": [
       "<pyiron_workflow.simple_workflow.Node at 0x317ad8b90>"
      ]
     },
     "execution_count": 65,
     "metadata": {},
     "output_type": "execute_result"
    }
   ],
   "source": [
    "sw.get_node_from_path('pyiron_nodes.atomistic.structure.build.Bulk')()"
   ]
  },
  {
   "cell_type": "code",
   "execution_count": 66,
   "id": "b94a5802-18be-4462-a42c-5a821c090af2",
   "metadata": {},
   "outputs": [
    {
     "data": {
      "text/plain": [
       "b'\\x80\\x04\\x95\\xa9\\x00\\x00\\x00\\x00\\x00\\x00\\x00\\x8c\\x1fpyiron_workflow.simple_workflow\\x94\\x8c\\x04Node\\x94\\x93\\x94)\\x81\\x94}\\x94(\\x8c\\x05label\\x94\\x8c\\rCubicBulkCell\\x94\\x8c\\x08function\\x94\\x8c4pyiron_nodes.atomistic.structure.build.CubicBulkCell\\x94\\x8c\\x06inputs\\x94}\\x94\\x8c\\x07element\\x94\\x8c\\x02Al\\x94sub.'"
      ]
     },
     "execution_count": 66,
     "metadata": {},
     "output_type": "execute_result"
    }
   ],
   "source": [
    "state = pickle.dumps(Al)\n",
    "state"
   ]
  },
  {
   "cell_type": "code",
   "execution_count": 67,
   "id": "302818b1-3779-4bd8-b37a-024680619c08",
   "metadata": {},
   "outputs": [
    {
     "data": {
      "text/html": [
       "<div>\n",
       "<style scoped>\n",
       "    .dataframe tbody tr th:only-of-type {\n",
       "        vertical-align: middle;\n",
       "    }\n",
       "\n",
       "    .dataframe tbody tr th {\n",
       "        vertical-align: top;\n",
       "    }\n",
       "\n",
       "    .dataframe thead th {\n",
       "        text-align: right;\n",
       "    }\n",
       "</style>\n",
       "<table border=\"1\" class=\"dataframe\">\n",
       "  <thead>\n",
       "    <tr style=\"text-align: right;\">\n",
       "      <th></th>\n",
       "      <th>label</th>\n",
       "      <th>type</th>\n",
       "      <th>default</th>\n",
       "      <th>ready</th>\n",
       "      <th>value</th>\n",
       "      <th>node</th>\n",
       "    </tr>\n",
       "  </thead>\n",
       "  <tbody>\n",
       "    <tr>\n",
       "      <th>0</th>\n",
       "      <td>element</td>\n",
       "      <td>str</td>\n",
       "      <td>NotData</td>\n",
       "      <td>True</td>\n",
       "      <td>Al</td>\n",
       "      <td>&lt;pyiron_workflow.simple_workflow.Node object a...</td>\n",
       "    </tr>\n",
       "    <tr>\n",
       "      <th>1</th>\n",
       "      <td>cell_size</td>\n",
       "      <td>int</td>\n",
       "      <td>1</td>\n",
       "      <td>True</td>\n",
       "      <td>1</td>\n",
       "      <td>&lt;pyiron_workflow.simple_workflow.Node object a...</td>\n",
       "    </tr>\n",
       "    <tr>\n",
       "      <th>2</th>\n",
       "      <td>vacancy_index</td>\n",
       "      <td>int</td>\n",
       "      <td>None</td>\n",
       "      <td>True</td>\n",
       "      <td>None</td>\n",
       "      <td>&lt;pyiron_workflow.simple_workflow.Node object a...</td>\n",
       "    </tr>\n",
       "  </tbody>\n",
       "</table>\n",
       "</div>"
      ],
      "text/plain": [
       "{'label': ['element', 'cell_size', 'vacancy_index'], 'type': ['str', 'int', 'int'], 'default': ['NotData', 1, None], 'ready': [True, True, True], 'value': ['Al', 1, None], 'node': [<pyiron_workflow.simple_workflow.Node object at 0x1580b3da0>, <pyiron_workflow.simple_workflow.Node object at 0x1580b3da0>, <pyiron_workflow.simple_workflow.Node object at 0x1580b3da0>]}"
      ]
     },
     "execution_count": 67,
     "metadata": {},
     "output_type": "execute_result"
    }
   ],
   "source": [
    "import copy\n",
    "\n",
    "copy.copy(Al_p).inputs"
   ]
  },
  {
   "cell_type": "code",
   "execution_count": 68,
   "id": "2a86efbe-200a-4000-8dc8-ae037c2cdb0e",
   "metadata": {},
   "outputs": [
    {
     "data": {
      "text/plain": [
       "Graph(id=None, label='bulk', root_node=None, nodes=Nodes({'Bulk': GraphNode(id='Bulk', import_path='pyiron_nodes.atomistic.structure.build.Bulk', label='Bulk', parent_id=None, level=0, node=<pyiron_workflow.simple_workflow.Node object at 0x158293710>, graph=None, node_type='node', widget_type='customNode', expanded=False)}), edges=[], graph={})"
      ]
     },
     "execution_count": 68,
     "metadata": {},
     "output_type": "execute_result"
    }
   ],
   "source": [
    "graph = base._load_graph(\"bulk\")\n",
    "# base._nodes_to_gui(graph)\n",
    "#graph.nodes #[\"Bulk\"]\n",
    "graph"
   ]
  },
  {
   "cell_type": "code",
   "execution_count": 69,
   "id": "cb31d918-03c5-4d9e-8ea0-d3b593877dba",
   "metadata": {},
   "outputs": [
    {
     "data": {
      "text/html": [
       "<div>\n",
       "<style scoped>\n",
       "    .dataframe tbody tr th:only-of-type {\n",
       "        vertical-align: middle;\n",
       "    }\n",
       "\n",
       "    .dataframe tbody tr th {\n",
       "        vertical-align: top;\n",
       "    }\n",
       "\n",
       "    .dataframe thead th {\n",
       "        text-align: right;\n",
       "    }\n",
       "</style>\n",
       "<table border=\"1\" class=\"dataframe\">\n",
       "  <thead>\n",
       "    <tr style=\"text-align: right;\">\n",
       "      <th></th>\n",
       "      <th>label</th>\n",
       "      <th>type</th>\n",
       "      <th>default</th>\n",
       "      <th>ready</th>\n",
       "      <th>value</th>\n",
       "      <th>node</th>\n",
       "    </tr>\n",
       "  </thead>\n",
       "  <tbody>\n",
       "    <tr>\n",
       "      <th>0</th>\n",
       "      <td>element</td>\n",
       "      <td>str</td>\n",
       "      <td>NotData</td>\n",
       "      <td>True</td>\n",
       "      <td>Al</td>\n",
       "      <td>&lt;pyiron_workflow.simple_workflow.Node object a...</td>\n",
       "    </tr>\n",
       "    <tr>\n",
       "      <th>1</th>\n",
       "      <td>cell_size</td>\n",
       "      <td>int</td>\n",
       "      <td>1</td>\n",
       "      <td>True</td>\n",
       "      <td>1</td>\n",
       "      <td>&lt;pyiron_workflow.simple_workflow.Node object a...</td>\n",
       "    </tr>\n",
       "    <tr>\n",
       "      <th>2</th>\n",
       "      <td>vacancy_index</td>\n",
       "      <td>int</td>\n",
       "      <td>None</td>\n",
       "      <td>True</td>\n",
       "      <td>None</td>\n",
       "      <td>&lt;pyiron_workflow.simple_workflow.Node object a...</td>\n",
       "    </tr>\n",
       "  </tbody>\n",
       "</table>\n",
       "</div>"
      ],
      "text/plain": [
       "{'label': ['element', 'cell_size', 'vacancy_index'], 'type': ['str', 'int', 'int'], 'default': ['NotData', 1, None], 'ready': [True, True, True], 'value': ['Al', 1, None], 'node': [<pyiron_workflow.simple_workflow.Node object at 0x158291e20>, <pyiron_workflow.simple_workflow.Node object at 0x158291e20>, <pyiron_workflow.simple_workflow.Node object at 0x158291e20>]}"
      ]
     },
     "execution_count": 69,
     "metadata": {},
     "output_type": "execute_result"
    }
   ],
   "source": [
    "node = base.Node().__setstate__(state=Al.__getstate__())\n",
    "node.inputs"
   ]
  },
  {
   "cell_type": "code",
   "execution_count": 70,
   "id": "e4b79396-df6d-4334-bc8f-abf6e86b0949",
   "metadata": {},
   "outputs": [
    {
     "data": {
      "application/vnd.jupyter.widget-view+json": {
       "model_id": "584dc474fccb4b2996d869108a0f1af6",
       "version_major": 2,
       "version_minor": 0
      },
      "text/plain": [
       "VBox(children=(HBox(children=(Output(layout=Layout(width='400px')), Tab(children=(ReactFlowWidget(layout=Layou…"
      ]
     },
     "execution_count": 70,
     "metadata": {},
     "output_type": "execute_result"
    }
   ],
   "source": [
    "pf = gui.PyironFlow(\n",
    "    [\n",
    "        'assyst', \n",
    "        # 'calphy2',   # AttributeError: 'NoneType' object has no attribute 'items'\n",
    "        # https://github.com/JNmpi/pyiron_core/issues/52\n",
    "        'linearfit2', \n",
    "        'graph', \n",
    "        'executor', \n",
    "        'executor3',\n",
    "    ]\n",
    ") # 'landau2',\n",
    "pf.gui"
   ]
  },
  {
   "cell_type": "code",
   "execution_count": 71,
   "id": "29b58182-9006-46e8-a006-cdd9d2e6f82a",
   "metadata": {},
   "outputs": [
    {
     "data": {
      "text/plain": [
       "{'id': 'SpaceGroupInput',\n",
       " 'import_path': 'pyiron_nodes.atomistic.assyst.structures.SpaceGroupInput',\n",
       " 'label': 'SpaceGroupInput',\n",
       " 'parent_id': None,\n",
       " 'level': 0,\n",
       " 'graph': None,\n",
       " 'node_type': 'node',\n",
       " 'widget_type': 'customNode',\n",
       " 'expanded': False,\n",
       " 'node': {'label': 'SpaceGroupInput',\n",
       "  'function': 'pyiron_nodes.atomistic.assyst.structures.SpaceGroupInput',\n",
       "  'inputs': {'max_structures': 100}}}"
      ]
     },
     "execution_count": 71,
     "metadata": {},
     "output_type": "execute_result"
    }
   ],
   "source": [
    "select_graph_by_name(pf, \"linearfit2\")\n",
    "# Selecting the one we want doesn't work when it's already the one selected\n",
    "# Select something else first, then go back\n",
    "select_graph_by_name(pf, \"assyst\")\n",
    "# pf.graph only gets populated after switching tabs in the GUI\n",
    "# here just take the first one in the list and see if it works\n",
    "\n",
    "graph = pf.graph #.__getstate__()\n",
    "\n",
    "\n",
    "# base._get_subgraph(graph, [0,1]).nodes.__getstate__()\n",
    "graph.nodes.iloc(1).__getstate__()"
   ]
  },
  {
   "cell_type": "code",
   "execution_count": 72,
   "id": "556ef040-2405-49ed-a22a-c8e347c42be6",
   "metadata": {},
   "outputs": [
    {
     "data": {
      "text/plain": [
       "Graph(id=None, label='assyst', root_node=None, nodes=Nodes({'ElementInput': GraphNode(id='ElementInput', import_path='pyiron_nodes.atomistic.assyst.structures.ElementInput', label='ElementInput', parent_id=None, level=0, node=<pyiron_workflow.simple_workflow.Node object at 0x302bd3830>, graph=None, node_type='node', widget_type='customNode', expanded=False), 'SpaceGroupInput': GraphNode(id='SpaceGroupInput', import_path='pyiron_nodes.atomistic.assyst.structures.SpaceGroupInput', label='SpaceGroupInput', parent_id=None, level=0, node=<pyiron_workflow.simple_workflow.Node object at 0x317aac260>, graph=None, node_type='node', widget_type='customNode', expanded=False), 'SpaceGroupSampling': GraphNode(id='SpaceGroupSampling', import_path='pyiron_nodes.atomistic.assyst.structures.SpaceGroupSampling', label='SpaceGroupSampling', parent_id=None, level=0, node=<pyiron_workflow.simple_workflow.Node object at 0x302bd3f20>, graph=None, node_type='node', widget_type='customNode', expanded=False), 'ApplyEngine': GraphNode(id='ApplyEngine', import_path='pyiron_nodes.atomistic.calculator.generic.ApplyEngine', label='ApplyEngine', parent_id=None, level=0, node=<pyiron_workflow.simple_workflow.Node object at 0x317aac590>, graph=None, node_type='node', widget_type='customNode', expanded=False), 'Static': GraphNode(id='Static', import_path='pyiron_nodes.atomistic.calculator.ase.Static', label='Static', parent_id=None, level=0, node=<pyiron_workflow.simple_workflow.Node object at 0x317aac440>, graph=None, node_type='node', widget_type='customNode', expanded=False), 'M3GNet': GraphNode(id='M3GNet', import_path='pyiron_nodes.atomistic.engine.ase.M3GNet', label='M3GNet', parent_id=None, level=0, node=<pyiron_workflow.simple_workflow.Node object at 0x317995490>, graph=None, node_type='node', widget_type='customNode', expanded=False), 'Bulk': GraphNode(id='Bulk', import_path='pyiron_nodes.atomistic.structure.build.Bulk', label='Bulk', parent_id=None, level=0, node=<pyiron_workflow.simple_workflow.Node object at 0x317a8ffe0>, graph=None, node_type='node', widget_type='customNode', expanded=False), 'OutputSEFS': GraphNode(id='OutputSEFS', import_path='pyiron_workflow.simple_workflow.func_dataclass', label='OutputSEFS', parent_id=None, level=0, node=<pyiron_workflow.simple_workflow.Node object at 0x317a8fbf0>, graph=None, node_type='node', widget_type='customNode', expanded=False), 'Plot': GraphNode(id='Plot', import_path='pyiron_nodes.plotting.Plot', label='Plot', parent_id=None, level=0, node=<pyiron_workflow.simple_workflow.Node object at 0x317a8d9a0>, graph=None, node_type='node', widget_type='customNode', expanded=False), 'Histogram': GraphNode(id='Histogram', import_path='pyiron_nodes.plotting.Histogram', label='Histogram', parent_id=None, level=0, node=<pyiron_workflow.simple_workflow.Node object at 0x317a8ccb0>, graph=None, node_type='node', widget_type='customNode', expanded=False)}), edges=[GraphEdge(source='ElementInput', target='SpaceGroupInput', sourceHandle='dataclass', targetHandle='element1'), GraphEdge(source='SpaceGroupInput', target='SpaceGroupSampling', sourceHandle='dataclass', targetHandle='input'), GraphEdge(source='SpaceGroupSampling', target='ApplyEngine', sourceHandle='out_sefs', targetHandle='sefs_container'), GraphEdge(source='M3GNet', target='Static', sourceHandle='out', targetHandle='engine'), GraphEdge(source='Static', target='ApplyEngine', sourceHandle='out', targetHandle='engine'), GraphEdge(source='Bulk', target='Static', sourceHandle='structure', targetHandle='structure'), GraphEdge(source='ApplyEngine', target='OutputSEFS', sourceHandle='sefs_container', targetHandle='dataclass'), GraphEdge(source='OutputSEFS', target='Plot', sourceHandle='energies', targetHandle='y'), GraphEdge(source='OutputSEFS', target='Histogram', sourceHandle='energies', targetHandle='x')], graph={})"
      ]
     },
     "execution_count": 72,
     "metadata": {},
     "output_type": "execute_result"
    }
   ],
   "source": [
    "graph"
   ]
  },
  {
   "cell_type": "code",
   "execution_count": 73,
   "id": "da3ba042-5ae3-4b10-b31c-b53e847120d6",
   "metadata": {},
   "outputs": [
    {
     "name": "stdout",
     "output_type": "stream",
     "text": [
      "labels ['ElementInput__num', 'SpaceGroupInput__max_structures']\n",
      "inp:  ElementInput num\n",
      "GraphEdge(source='va_i_subgraph__ElementInput__num', target='ElementInput', sourceHandle='x', targetHandle='num')\n",
      "inp:  SpaceGroupInput max_structures\n",
      "GraphEdge(source='va_i_subgraph__SpaceGroupInput__max_structures', target='SpaceGroupInput', sourceHandle='x', targetHandle='max_structures')\n",
      "labels ['SpaceGroupInput__dataclass']\n",
      "node:  ElementInput GraphNode(id='ElementInput', import_path='pyiron_nodes.atomistic.assyst.structures.ElementInput', label='ElementInput', parent_id='subgraph', level=1, node=<pyiron_workflow.simple_workflow.Node object at 0x302bd3830>, graph=None, node_type='node', widget_type='customNode', expanded=False)\n",
      "node:  SpaceGroupInput GraphNode(id='SpaceGroupInput', import_path='pyiron_nodes.atomistic.assyst.structures.SpaceGroupInput', label='SpaceGroupInput', parent_id='subgraph', level=1, node=<pyiron_workflow.simple_workflow.Node object at 0x317aac260>, graph=None, node_type='node', widget_type='customNode', expanded=False)\n",
      "node:  SpaceGroupSampling GraphNode(id='SpaceGroupSampling', import_path='pyiron_nodes.atomistic.assyst.structures.SpaceGroupSampling', label='SpaceGroupSampling', parent_id=None, level=0, node=<pyiron_workflow.simple_workflow.Node object at 0x302bd3f20>, graph=None, node_type='node', widget_type='customNode', expanded=False)\n",
      "node:  ApplyEngine GraphNode(id='ApplyEngine', import_path='pyiron_nodes.atomistic.calculator.generic.ApplyEngine', label='ApplyEngine', parent_id=None, level=0, node=<pyiron_workflow.simple_workflow.Node object at 0x317aac590>, graph=None, node_type='node', widget_type='customNode', expanded=False)\n",
      "node:  Static GraphNode(id='Static', import_path='pyiron_nodes.atomistic.calculator.ase.Static', label='Static', parent_id=None, level=0, node=<pyiron_workflow.simple_workflow.Node object at 0x317aac440>, graph=None, node_type='node', widget_type='customNode', expanded=False)\n",
      "node:  M3GNet GraphNode(id='M3GNet', import_path='pyiron_nodes.atomistic.engine.ase.M3GNet', label='M3GNet', parent_id=None, level=0, node=<pyiron_workflow.simple_workflow.Node object at 0x317995490>, graph=None, node_type='node', widget_type='customNode', expanded=False)\n",
      "node:  Bulk GraphNode(id='Bulk', import_path='pyiron_nodes.atomistic.structure.build.Bulk', label='Bulk', parent_id=None, level=0, node=<pyiron_workflow.simple_workflow.Node object at 0x317a8ffe0>, graph=None, node_type='node', widget_type='customNode', expanded=False)\n",
      "node:  OutputSEFS GraphNode(id='OutputSEFS', import_path='pyiron_workflow.simple_workflow.func_dataclass', label='OutputSEFS', parent_id=None, level=0, node=<pyiron_workflow.simple_workflow.Node object at 0x317a8fbf0>, graph=None, node_type='node', widget_type='customNode', expanded=False)\n",
      "node:  Plot GraphNode(id='Plot', import_path='pyiron_nodes.plotting.Plot', label='Plot', parent_id=None, level=0, node=<pyiron_workflow.simple_workflow.Node object at 0x317a8d9a0>, graph=None, node_type='node', widget_type='customNode', expanded=False)\n",
      "node:  Histogram GraphNode(id='Histogram', import_path='pyiron_nodes.plotting.Histogram', label='Histogram', parent_id=None, level=0, node=<pyiron_workflow.simple_workflow.Node object at 0x317a8ccb0>, graph=None, node_type='node', widget_type='customNode', expanded=False)\n",
      "node:  subgraph GraphNode(id='subgraph', import_path=None, label='subgraph', parent_id=None, level=0, node=<pyiron_workflow.simple_workflow.Node object at 0x317b249e0>, graph=Graph(id=None, label='subgraph', root_node=None, nodes=NestedDict({'ElementInput': GraphNode(id='ElementInput', import_path='pyiron_nodes.atomistic.assyst.structures.ElementInput', label='ElementInput', parent_id=None, level=0, node=<pyiron_workflow.simple_workflow.Node object at 0x302bd3830>, graph=None, node_type='node', widget_type='customNode', expanded=False), 'SpaceGroupInput': GraphNode(id='SpaceGroupInput', import_path='pyiron_nodes.atomistic.assyst.structures.SpaceGroupInput', label='SpaceGroupInput', parent_id=None, level=0, node=<pyiron_workflow.simple_workflow.Node object at 0x317aac260>, graph=None, node_type='node', widget_type='customNode', expanded=False)}), edges=[GraphEdge(source='ElementInput', target='SpaceGroupInput', sourceHandle='dataclass', targetHandle='element1')], graph={}), node_type='graph', widget_type='customNode', expanded=False)\n",
      "node:  va_i_subgraph__ElementInput__num GraphNode(id='va_i_subgraph__ElementInput__num', import_path='pyiron_workflow.graph.base.identity', label='va_i_subgraph__ElementInput__num', parent_id='subgraph', level=0, node=<pyiron_workflow.simple_workflow.Node object at 0x317b56780>, graph=None, node_type='node', widget_type='customNode', expanded=False)\n",
      "node:  va_i_subgraph__SpaceGroupInput__max_structures GraphNode(id='va_i_subgraph__SpaceGroupInput__max_structures', import_path='pyiron_workflow.graph.base.identity', label='va_i_subgraph__SpaceGroupInput__max_structures', parent_id='subgraph', level=0, node=<pyiron_workflow.simple_workflow.Node object at 0x158292060>, graph=None, node_type='node', widget_type='customNode', expanded=False)\n",
      "node:  va_o_subgraph__SpaceGroupInput__dataclass GraphNode(id='va_o_subgraph__SpaceGroupInput__dataclass', import_path='pyiron_workflow.graph.base.identity', label='va_o_subgraph__SpaceGroupInput__dataclass', parent_id='subgraph', level=0, node=<pyiron_workflow.simple_workflow.Node object at 0x317a6e7e0>, graph=None, node_type='node', widget_type='customNode', expanded=False)\n",
      "['subgraph']\n"
     ]
    },
    {
     "data": {
      "text/plain": [
       "{'id': 'subgraph',\n",
       " 'import_path': None,\n",
       " 'label': 'subgraph',\n",
       " 'parent_id': None,\n",
       " 'level': 0,\n",
       " 'graph': {'label': 'subgraph',\n",
       "  'nodes': {'ElementInput': {'id': 'ElementInput',\n",
       "    'import_path': 'pyiron_nodes.atomistic.assyst.structures.ElementInput',\n",
       "    'label': 'ElementInput',\n",
       "    'parent_id': None,\n",
       "    'level': 0,\n",
       "    'graph': None,\n",
       "    'node_type': 'node',\n",
       "    'widget_type': 'customNode',\n",
       "    'expanded': False,\n",
       "    'node': {'label': 'ElementInput',\n",
       "     'function': 'pyiron_nodes.atomistic.assyst.structures.ElementInput',\n",
       "     'inputs': {'num': 2}}},\n",
       "   'SpaceGroupInput': {'id': 'SpaceGroupInput',\n",
       "    'import_path': 'pyiron_nodes.atomistic.assyst.structures.SpaceGroupInput',\n",
       "    'label': 'SpaceGroupInput',\n",
       "    'parent_id': None,\n",
       "    'level': 0,\n",
       "    'graph': None,\n",
       "    'node_type': 'node',\n",
       "    'widget_type': 'customNode',\n",
       "    'expanded': False,\n",
       "    'node': {'label': 'SpaceGroupInput',\n",
       "     'function': 'pyiron_nodes.atomistic.assyst.structures.SpaceGroupInput',\n",
       "     'inputs': {'max_structures': 100}}},\n",
       "   '_obj_type': 'pyiron_workflow.graph.base.GraphNode'},\n",
       "  'edges': {'values': [{'source': 'ElementInput',\n",
       "     'target': 'SpaceGroupInput',\n",
       "     'sourceHandle': 'dataclass',\n",
       "     'targetHandle': 'element1'}],\n",
       "   'obj_type': 'pyiron_workflow.graph.base.GraphEdge'}},\n",
       " 'node_type': 'graph',\n",
       " 'widget_type': 'customNode',\n",
       " 'expanded': False,\n",
       " 'node': {'label': 'subgraph',\n",
       "  'function': 'pyiron_workflow.graph.base.subgraph',\n",
       "  'inputs': {'ElementInput__num': 2, 'SpaceGroupInput__max_structures': 100}}}"
      ]
     },
     "execution_count": 73,
     "metadata": {},
     "output_type": "execute_result"
    }
   ],
   "source": [
    "# pf.graph.nodes[\"subgraph\"].__getstate__()\n",
    "# None of the saved graphs have a \"subgraph\"\n",
    "# so let's make one\n",
    "\n",
    "graph = base.create_group(pf.graph, [0, 1])\n",
    "graph.nodes[\"subgraph\"].__getstate__()"
   ]
  },
  {
   "cell_type": "code",
   "execution_count": 74,
   "id": "70fb7d19-3672-4ff6-9616-791b1b9a655b",
   "metadata": {},
   "outputs": [
    {
     "data": {
      "text/plain": [
       "<pyiron_workflow.simple_workflow.Node at 0x317b570b0>"
      ]
     },
     "execution_count": 74,
     "metadata": {},
     "output_type": "execute_result"
    }
   ],
   "source": [
    "# base.graph_to_node(pf.graph.nodes[\"subgraph\"].graph)\n",
    "base.graph_to_node(graph.nodes[\"subgraph\"].graph)"
   ]
  },
  {
   "cell_type": "code",
   "execution_count": 75,
   "id": "54cc13c8-373e-41b6-8f31-bca31c1ca7a2",
   "metadata": {},
   "outputs": [
    {
     "data": {
      "text/plain": [
       "Graph(id=None, label='executor3', root_node=None, nodes=Nodes({'Bulk': GraphNode(id='Bulk', import_path='pyiron_nodes.atomistic.structure.build.Bulk', label='Bulk', parent_id=None, level=0, node=<pyiron_workflow.simple_workflow.Node object at 0x317b54a10>, graph=None, node_type='node', widget_type='customNode', expanded=False), 'Volume': GraphNode(id='Volume', import_path='pyiron_nodes.atomistic.structure.calc.Volume', label='Volume', parent_id=None, level=0, node=<pyiron_workflow.simple_workflow.Node object at 0x317b548c0>, graph=None, node_type='node', widget_type='customNode', expanded=False), 'ThreadPoolExecutor': GraphNode(id='ThreadPoolExecutor', import_path='pyiron_nodes.executors.ThreadPoolExecutor', label='ThreadPoolExecutor', parent_id=None, level=0, node=<pyiron_workflow.simple_workflow.Node object at 0x317b55f40>, graph=None, node_type='node', widget_type='customNode', expanded=False), 'IterNode': GraphNode(id='IterNode', import_path='pyiron_nodes.executors.IterNode', label='IterNode', parent_id=None, level=0, node=<pyiron_workflow.simple_workflow.Node object at 0x317ada240>, graph=None, node_type='node', widget_type='customNode', expanded=False), 'SingleNodeExecutor': GraphNode(id='SingleNodeExecutor', import_path='pyiron_nodes.executors.SingleNodeExecutor', label='SingleNodeExecutor', parent_id=None, level=0, node=<pyiron_workflow.simple_workflow.Node object at 0x317b25c70>, graph=None, node_type='node', widget_type='customNode', expanded=False), 'Linspace': GraphNode(id='Linspace', import_path='pyiron_nodes.math.Linspace', label='Linspace', parent_id=None, level=0, node=<pyiron_workflow.simple_workflow.Node object at 0x317b24170>, graph=None, node_type='node', widget_type='customNode', expanded=False)}), edges=[GraphEdge(source='Bulk', target='Volume', sourceHandle='structure', targetHandle='structure'), GraphEdge(source='Volume', target='IterNode', sourceHandle='volume', targetHandle='node'), GraphEdge(source='ThreadPoolExecutor', target='IterNode', sourceHandle='Executor', targetHandle='Executor'), GraphEdge(source='Linspace', target='IterNode', sourceHandle='linspace', targetHandle='kwarg_list')], graph={})"
      ]
     },
     "execution_count": 75,
     "metadata": {},
     "output_type": "execute_result"
    }
   ],
   "source": [
    "base._load_graph(\"executor3\")"
   ]
  },
  {
   "cell_type": "code",
   "execution_count": 76,
   "id": "c19ca21a-16e7-497b-9116-a8304bd66f96",
   "metadata": {},
   "outputs": [
    {
     "name": "stdout",
     "output_type": "stream",
     "text": [
      "{'label': 'Bulk', 'function': 'pyiron_nodes.atomistic.structure.build.Bulk', 'inputs': {'name': 'Al'}}\n"
     ]
    },
    {
     "data": {
      "text/plain": [
       "<pyiron_workflow.simple_workflow.Node at 0x317b274d0>"
      ]
     },
     "execution_count": 76,
     "metadata": {},
     "output_type": "execute_result"
    }
   ],
   "source": [
    "state = pf.graph.nodes[\"Bulk\"].node.__getstate__()\n",
    "print(state)\n",
    "base.Node().__setstate__(state)"
   ]
  },
  {
   "cell_type": "code",
   "execution_count": 77,
   "id": "c4180f85-ea8a-4102-ad9c-bcd3cc2a88e5",
   "metadata": {},
   "outputs": [],
   "source": [
    "dumps = pickle.dumps(pf.graph.nodes)"
   ]
  },
  {
   "cell_type": "code",
   "execution_count": 78,
   "id": "e7ae1933-ec51-4e0a-9acd-28eb1c18c95b",
   "metadata": {},
   "outputs": [
    {
     "data": {
      "text/html": [
       "<div>\n",
       "<style scoped>\n",
       "    .dataframe tbody tr th:only-of-type {\n",
       "        vertical-align: middle;\n",
       "    }\n",
       "\n",
       "    .dataframe tbody tr th {\n",
       "        vertical-align: top;\n",
       "    }\n",
       "\n",
       "    .dataframe thead th {\n",
       "        text-align: right;\n",
       "    }\n",
       "</style>\n",
       "<table border=\"1\" class=\"dataframe\">\n",
       "  <thead>\n",
       "    <tr style=\"text-align: right;\">\n",
       "      <th></th>\n",
       "      <th>id</th>\n",
       "      <th>import_path</th>\n",
       "      <th>label</th>\n",
       "      <th>parent_id</th>\n",
       "      <th>level</th>\n",
       "      <th>node</th>\n",
       "      <th>graph</th>\n",
       "      <th>node_type</th>\n",
       "      <th>widget_type</th>\n",
       "      <th>expanded</th>\n",
       "    </tr>\n",
       "  </thead>\n",
       "  <tbody>\n",
       "    <tr>\n",
       "      <th>0</th>\n",
       "      <td>ElementInput</td>\n",
       "      <td>pyiron_nodes.atomistic.assyst.structures.Eleme...</td>\n",
       "      <td>ElementInput</td>\n",
       "      <td>None</td>\n",
       "      <td>0</td>\n",
       "      <td>&lt;pyiron_workflow.simple_workflow.Node object a...</td>\n",
       "      <td>None</td>\n",
       "      <td>node</td>\n",
       "      <td>customNode</td>\n",
       "      <td>False</td>\n",
       "    </tr>\n",
       "    <tr>\n",
       "      <th>1</th>\n",
       "      <td>SpaceGroupInput</td>\n",
       "      <td>pyiron_nodes.atomistic.assyst.structures.Space...</td>\n",
       "      <td>SpaceGroupInput</td>\n",
       "      <td>None</td>\n",
       "      <td>0</td>\n",
       "      <td>&lt;pyiron_workflow.simple_workflow.Node object a...</td>\n",
       "      <td>None</td>\n",
       "      <td>node</td>\n",
       "      <td>customNode</td>\n",
       "      <td>False</td>\n",
       "    </tr>\n",
       "    <tr>\n",
       "      <th>2</th>\n",
       "      <td>SpaceGroupSampling</td>\n",
       "      <td>pyiron_nodes.atomistic.assyst.structures.Space...</td>\n",
       "      <td>SpaceGroupSampling</td>\n",
       "      <td>None</td>\n",
       "      <td>0</td>\n",
       "      <td>&lt;pyiron_workflow.simple_workflow.Node object a...</td>\n",
       "      <td>None</td>\n",
       "      <td>node</td>\n",
       "      <td>customNode</td>\n",
       "      <td>False</td>\n",
       "    </tr>\n",
       "    <tr>\n",
       "      <th>3</th>\n",
       "      <td>ApplyEngine</td>\n",
       "      <td>pyiron_nodes.atomistic.calculator.generic.Appl...</td>\n",
       "      <td>ApplyEngine</td>\n",
       "      <td>None</td>\n",
       "      <td>0</td>\n",
       "      <td>&lt;pyiron_workflow.simple_workflow.Node object a...</td>\n",
       "      <td>None</td>\n",
       "      <td>node</td>\n",
       "      <td>customNode</td>\n",
       "      <td>False</td>\n",
       "    </tr>\n",
       "    <tr>\n",
       "      <th>4</th>\n",
       "      <td>Static</td>\n",
       "      <td>pyiron_nodes.atomistic.calculator.ase.Static</td>\n",
       "      <td>Static</td>\n",
       "      <td>None</td>\n",
       "      <td>0</td>\n",
       "      <td>&lt;pyiron_workflow.simple_workflow.Node object a...</td>\n",
       "      <td>None</td>\n",
       "      <td>node</td>\n",
       "      <td>customNode</td>\n",
       "      <td>False</td>\n",
       "    </tr>\n",
       "    <tr>\n",
       "      <th>5</th>\n",
       "      <td>M3GNet</td>\n",
       "      <td>pyiron_nodes.atomistic.engine.ase.M3GNet</td>\n",
       "      <td>M3GNet</td>\n",
       "      <td>None</td>\n",
       "      <td>0</td>\n",
       "      <td>&lt;pyiron_workflow.simple_workflow.Node object a...</td>\n",
       "      <td>None</td>\n",
       "      <td>node</td>\n",
       "      <td>customNode</td>\n",
       "      <td>False</td>\n",
       "    </tr>\n",
       "    <tr>\n",
       "      <th>6</th>\n",
       "      <td>Bulk</td>\n",
       "      <td>pyiron_nodes.atomistic.structure.build.Bulk</td>\n",
       "      <td>Bulk</td>\n",
       "      <td>None</td>\n",
       "      <td>0</td>\n",
       "      <td>&lt;pyiron_workflow.simple_workflow.Node object a...</td>\n",
       "      <td>None</td>\n",
       "      <td>node</td>\n",
       "      <td>customNode</td>\n",
       "      <td>False</td>\n",
       "    </tr>\n",
       "    <tr>\n",
       "      <th>7</th>\n",
       "      <td>OutputSEFS</td>\n",
       "      <td>pyiron_workflow.simple_workflow.func_dataclass</td>\n",
       "      <td>OutputSEFS</td>\n",
       "      <td>None</td>\n",
       "      <td>0</td>\n",
       "      <td>&lt;pyiron_workflow.simple_workflow.Node object a...</td>\n",
       "      <td>None</td>\n",
       "      <td>node</td>\n",
       "      <td>customNode</td>\n",
       "      <td>False</td>\n",
       "    </tr>\n",
       "    <tr>\n",
       "      <th>8</th>\n",
       "      <td>Plot</td>\n",
       "      <td>pyiron_nodes.plotting.Plot</td>\n",
       "      <td>Plot</td>\n",
       "      <td>None</td>\n",
       "      <td>0</td>\n",
       "      <td>&lt;pyiron_workflow.simple_workflow.Node object a...</td>\n",
       "      <td>None</td>\n",
       "      <td>node</td>\n",
       "      <td>customNode</td>\n",
       "      <td>False</td>\n",
       "    </tr>\n",
       "    <tr>\n",
       "      <th>9</th>\n",
       "      <td>Histogram</td>\n",
       "      <td>pyiron_nodes.plotting.Histogram</td>\n",
       "      <td>Histogram</td>\n",
       "      <td>None</td>\n",
       "      <td>0</td>\n",
       "      <td>&lt;pyiron_workflow.simple_workflow.Node object a...</td>\n",
       "      <td>None</td>\n",
       "      <td>node</td>\n",
       "      <td>customNode</td>\n",
       "      <td>False</td>\n",
       "    </tr>\n",
       "  </tbody>\n",
       "</table>\n",
       "</div>"
      ],
      "text/plain": [
       "Nodes([('ElementInput',\n",
       "        GraphNode(id='ElementInput', import_path='pyiron_nodes.atomistic.assyst.structures.ElementInput', label='ElementInput', parent_id=None, level=0, node=<pyiron_workflow.simple_workflow.Node object at 0x317b08440>, graph=None, node_type='node', widget_type='customNode', expanded=False)),\n",
       "       ('SpaceGroupInput',\n",
       "        GraphNode(id='SpaceGroupInput', import_path='pyiron_nodes.atomistic.assyst.structures.SpaceGroupInput', label='SpaceGroupInput', parent_id=None, level=0, node=<pyiron_workflow.simple_workflow.Node object at 0x317b086e0>, graph=None, node_type='node', widget_type='customNode', expanded=False)),\n",
       "       ('SpaceGroupSampling',\n",
       "        GraphNode(id='SpaceGroupSampling', import_path='pyiron_nodes.atomistic.assyst.structures.SpaceGroupSampling', label='SpaceGroupSampling', parent_id=None, level=0, node=<pyiron_workflow.simple_workflow.Node object at 0x317b55ee0>, graph=None, node_type='node', widget_type='customNode', expanded=False)),\n",
       "       ('ApplyEngine',\n",
       "        GraphNode(id='ApplyEngine', import_path='pyiron_nodes.atomistic.calculator.generic.ApplyEngine', label='ApplyEngine', parent_id=None, level=0, node=<pyiron_workflow.simple_workflow.Node object at 0x317b55dc0>, graph=None, node_type='node', widget_type='customNode', expanded=False)),\n",
       "       ('Static',\n",
       "        GraphNode(id='Static', import_path='pyiron_nodes.atomistic.calculator.ase.Static', label='Static', parent_id=None, level=0, node=<pyiron_workflow.simple_workflow.Node object at 0x317b24ef0>, graph=None, node_type='node', widget_type='customNode', expanded=False)),\n",
       "       ('M3GNet',\n",
       "        GraphNode(id='M3GNet', import_path='pyiron_nodes.atomistic.engine.ase.M3GNet', label='M3GNet', parent_id=None, level=0, node=<pyiron_workflow.simple_workflow.Node object at 0x317b25ca0>, graph=None, node_type='node', widget_type='customNode', expanded=False)),\n",
       "       ('Bulk',\n",
       "        GraphNode(id='Bulk', import_path='pyiron_nodes.atomistic.structure.build.Bulk', label='Bulk', parent_id=None, level=0, node=<pyiron_workflow.simple_workflow.Node object at 0x317b252e0>, graph=None, node_type='node', widget_type='customNode', expanded=False)),\n",
       "       ('OutputSEFS',\n",
       "        GraphNode(id='OutputSEFS', import_path='pyiron_workflow.simple_workflow.func_dataclass', label='OutputSEFS', parent_id=None, level=0, node=<pyiron_workflow.simple_workflow.Node object at 0x317b251c0>, graph=None, node_type='node', widget_type='customNode', expanded=False)),\n",
       "       ('Plot',\n",
       "        GraphNode(id='Plot', import_path='pyiron_nodes.plotting.Plot', label='Plot', parent_id=None, level=0, node=<pyiron_workflow.simple_workflow.Node object at 0x317b25490>, graph=None, node_type='node', widget_type='customNode', expanded=False)),\n",
       "       ('Histogram',\n",
       "        GraphNode(id='Histogram', import_path='pyiron_nodes.plotting.Histogram', label='Histogram', parent_id=None, level=0, node=<pyiron_workflow.simple_workflow.Node object at 0x317b25370>, graph=None, node_type='node', widget_type='customNode', expanded=False))])"
      ]
     },
     "execution_count": 78,
     "metadata": {},
     "output_type": "execute_result"
    }
   ],
   "source": [
    "pickle.loads(dumps)"
   ]
  },
  {
   "cell_type": "code",
   "execution_count": 79,
   "id": "72c0d45d-6056-4f86-a603-f5636c50971f",
   "metadata": {},
   "outputs": [
    {
     "data": {
      "text/html": [
       "<div>\n",
       "<style scoped>\n",
       "    .dataframe tbody tr th:only-of-type {\n",
       "        vertical-align: middle;\n",
       "    }\n",
       "\n",
       "    .dataframe tbody tr th {\n",
       "        vertical-align: top;\n",
       "    }\n",
       "\n",
       "    .dataframe thead th {\n",
       "        text-align: right;\n",
       "    }\n",
       "</style>\n",
       "<table border=\"1\" class=\"dataframe\">\n",
       "  <thead>\n",
       "    <tr style=\"text-align: right;\">\n",
       "      <th></th>\n",
       "      <th>id</th>\n",
       "      <th>import_path</th>\n",
       "      <th>label</th>\n",
       "      <th>parent_id</th>\n",
       "      <th>level</th>\n",
       "      <th>node</th>\n",
       "      <th>graph</th>\n",
       "      <th>node_type</th>\n",
       "      <th>widget_type</th>\n",
       "      <th>expanded</th>\n",
       "    </tr>\n",
       "  </thead>\n",
       "  <tbody>\n",
       "    <tr>\n",
       "      <th>0</th>\n",
       "      <td>ElementInput</td>\n",
       "      <td>pyiron_nodes.atomistic.assyst.structures.Eleme...</td>\n",
       "      <td>ElementInput</td>\n",
       "      <td>None</td>\n",
       "      <td>0</td>\n",
       "      <td>&lt;pyiron_workflow.simple_workflow.Node object a...</td>\n",
       "      <td>None</td>\n",
       "      <td>node</td>\n",
       "      <td>customNode</td>\n",
       "      <td>False</td>\n",
       "    </tr>\n",
       "    <tr>\n",
       "      <th>1</th>\n",
       "      <td>SpaceGroupInput</td>\n",
       "      <td>pyiron_nodes.atomistic.assyst.structures.Space...</td>\n",
       "      <td>SpaceGroupInput</td>\n",
       "      <td>None</td>\n",
       "      <td>0</td>\n",
       "      <td>&lt;pyiron_workflow.simple_workflow.Node object a...</td>\n",
       "      <td>None</td>\n",
       "      <td>node</td>\n",
       "      <td>customNode</td>\n",
       "      <td>False</td>\n",
       "    </tr>\n",
       "    <tr>\n",
       "      <th>2</th>\n",
       "      <td>SpaceGroupSampling</td>\n",
       "      <td>pyiron_nodes.atomistic.assyst.structures.Space...</td>\n",
       "      <td>SpaceGroupSampling</td>\n",
       "      <td>None</td>\n",
       "      <td>0</td>\n",
       "      <td>&lt;pyiron_workflow.simple_workflow.Node object a...</td>\n",
       "      <td>None</td>\n",
       "      <td>node</td>\n",
       "      <td>customNode</td>\n",
       "      <td>False</td>\n",
       "    </tr>\n",
       "    <tr>\n",
       "      <th>3</th>\n",
       "      <td>ApplyEngine</td>\n",
       "      <td>pyiron_nodes.atomistic.calculator.generic.Appl...</td>\n",
       "      <td>ApplyEngine</td>\n",
       "      <td>None</td>\n",
       "      <td>0</td>\n",
       "      <td>&lt;pyiron_workflow.simple_workflow.Node object a...</td>\n",
       "      <td>None</td>\n",
       "      <td>node</td>\n",
       "      <td>customNode</td>\n",
       "      <td>False</td>\n",
       "    </tr>\n",
       "    <tr>\n",
       "      <th>4</th>\n",
       "      <td>Static</td>\n",
       "      <td>pyiron_nodes.atomistic.calculator.ase.Static</td>\n",
       "      <td>Static</td>\n",
       "      <td>None</td>\n",
       "      <td>0</td>\n",
       "      <td>&lt;pyiron_workflow.simple_workflow.Node object a...</td>\n",
       "      <td>None</td>\n",
       "      <td>node</td>\n",
       "      <td>customNode</td>\n",
       "      <td>False</td>\n",
       "    </tr>\n",
       "    <tr>\n",
       "      <th>5</th>\n",
       "      <td>M3GNet</td>\n",
       "      <td>pyiron_nodes.atomistic.engine.ase.M3GNet</td>\n",
       "      <td>M3GNet</td>\n",
       "      <td>None</td>\n",
       "      <td>0</td>\n",
       "      <td>&lt;pyiron_workflow.simple_workflow.Node object a...</td>\n",
       "      <td>None</td>\n",
       "      <td>node</td>\n",
       "      <td>customNode</td>\n",
       "      <td>False</td>\n",
       "    </tr>\n",
       "    <tr>\n",
       "      <th>6</th>\n",
       "      <td>Bulk</td>\n",
       "      <td>pyiron_nodes.atomistic.structure.build.Bulk</td>\n",
       "      <td>Bulk</td>\n",
       "      <td>None</td>\n",
       "      <td>0</td>\n",
       "      <td>&lt;pyiron_workflow.simple_workflow.Node object a...</td>\n",
       "      <td>None</td>\n",
       "      <td>node</td>\n",
       "      <td>customNode</td>\n",
       "      <td>False</td>\n",
       "    </tr>\n",
       "    <tr>\n",
       "      <th>7</th>\n",
       "      <td>OutputSEFS</td>\n",
       "      <td>pyiron_workflow.simple_workflow.func_dataclass</td>\n",
       "      <td>OutputSEFS</td>\n",
       "      <td>None</td>\n",
       "      <td>0</td>\n",
       "      <td>&lt;pyiron_workflow.simple_workflow.Node object a...</td>\n",
       "      <td>None</td>\n",
       "      <td>node</td>\n",
       "      <td>customNode</td>\n",
       "      <td>False</td>\n",
       "    </tr>\n",
       "    <tr>\n",
       "      <th>8</th>\n",
       "      <td>Plot</td>\n",
       "      <td>pyiron_nodes.plotting.Plot</td>\n",
       "      <td>Plot</td>\n",
       "      <td>None</td>\n",
       "      <td>0</td>\n",
       "      <td>&lt;pyiron_workflow.simple_workflow.Node object a...</td>\n",
       "      <td>None</td>\n",
       "      <td>node</td>\n",
       "      <td>customNode</td>\n",
       "      <td>False</td>\n",
       "    </tr>\n",
       "    <tr>\n",
       "      <th>9</th>\n",
       "      <td>Histogram</td>\n",
       "      <td>pyiron_nodes.plotting.Histogram</td>\n",
       "      <td>Histogram</td>\n",
       "      <td>None</td>\n",
       "      <td>0</td>\n",
       "      <td>&lt;pyiron_workflow.simple_workflow.Node object a...</td>\n",
       "      <td>None</td>\n",
       "      <td>node</td>\n",
       "      <td>customNode</td>\n",
       "      <td>False</td>\n",
       "    </tr>\n",
       "  </tbody>\n",
       "</table>\n",
       "</div>"
      ],
      "text/plain": [
       "Nodes([('ElementInput',\n",
       "        GraphNode(id='ElementInput', import_path='pyiron_nodes.atomistic.assyst.structures.ElementInput', label='ElementInput', parent_id=None, level=0, node=<pyiron_workflow.simple_workflow.Node object at 0x302bd3830>, graph=None, node_type='node', widget_type='customNode', expanded=False)),\n",
       "       ('SpaceGroupInput',\n",
       "        GraphNode(id='SpaceGroupInput', import_path='pyiron_nodes.atomistic.assyst.structures.SpaceGroupInput', label='SpaceGroupInput', parent_id=None, level=0, node=<pyiron_workflow.simple_workflow.Node object at 0x317aac260>, graph=None, node_type='node', widget_type='customNode', expanded=False)),\n",
       "       ('SpaceGroupSampling',\n",
       "        GraphNode(id='SpaceGroupSampling', import_path='pyiron_nodes.atomistic.assyst.structures.SpaceGroupSampling', label='SpaceGroupSampling', parent_id=None, level=0, node=<pyiron_workflow.simple_workflow.Node object at 0x302bd3f20>, graph=None, node_type='node', widget_type='customNode', expanded=False)),\n",
       "       ('ApplyEngine',\n",
       "        GraphNode(id='ApplyEngine', import_path='pyiron_nodes.atomistic.calculator.generic.ApplyEngine', label='ApplyEngine', parent_id=None, level=0, node=<pyiron_workflow.simple_workflow.Node object at 0x317aac590>, graph=None, node_type='node', widget_type='customNode', expanded=False)),\n",
       "       ('Static',\n",
       "        GraphNode(id='Static', import_path='pyiron_nodes.atomistic.calculator.ase.Static', label='Static', parent_id=None, level=0, node=<pyiron_workflow.simple_workflow.Node object at 0x317aac440>, graph=None, node_type='node', widget_type='customNode', expanded=False)),\n",
       "       ('M3GNet',\n",
       "        GraphNode(id='M3GNet', import_path='pyiron_nodes.atomistic.engine.ase.M3GNet', label='M3GNet', parent_id=None, level=0, node=<pyiron_workflow.simple_workflow.Node object at 0x317995490>, graph=None, node_type='node', widget_type='customNode', expanded=False)),\n",
       "       ('Bulk',\n",
       "        GraphNode(id='Bulk', import_path='pyiron_nodes.atomistic.structure.build.Bulk', label='Bulk', parent_id=None, level=0, node=<pyiron_workflow.simple_workflow.Node object at 0x317a8ffe0>, graph=None, node_type='node', widget_type='customNode', expanded=False)),\n",
       "       ('OutputSEFS',\n",
       "        GraphNode(id='OutputSEFS', import_path='pyiron_workflow.simple_workflow.func_dataclass', label='OutputSEFS', parent_id=None, level=0, node=<pyiron_workflow.simple_workflow.Node object at 0x317a8fbf0>, graph=None, node_type='node', widget_type='customNode', expanded=False)),\n",
       "       ('Plot',\n",
       "        GraphNode(id='Plot', import_path='pyiron_nodes.plotting.Plot', label='Plot', parent_id=None, level=0, node=<pyiron_workflow.simple_workflow.Node object at 0x317a8d9a0>, graph=None, node_type='node', widget_type='customNode', expanded=False)),\n",
       "       ('Histogram',\n",
       "        GraphNode(id='Histogram', import_path='pyiron_nodes.plotting.Histogram', label='Histogram', parent_id=None, level=0, node=<pyiron_workflow.simple_workflow.Node object at 0x317a8ccb0>, graph=None, node_type='node', widget_type='customNode', expanded=False))])"
      ]
     },
     "execution_count": 79,
     "metadata": {},
     "output_type": "execute_result"
    }
   ],
   "source": [
    "pf.graph.nodes"
   ]
  },
  {
   "cell_type": "code",
   "execution_count": 80,
   "id": "a2cb8fd5-bd90-47f8-87f5-ebd89b5f74be",
   "metadata": {},
   "outputs": [
    {
     "data": {
      "text/plain": [
       "GraphNode(id='Bulk', import_path='pyiron_nodes.atomistic.structure.build.Bulk', label='Bulk', parent_id=None, level=0, node=<pyiron_workflow.simple_workflow.Node object at 0x317a8ffe0>, graph=None, node_type='node', widget_type='customNode', expanded=False)"
      ]
     },
     "execution_count": 80,
     "metadata": {},
     "output_type": "execute_result"
    }
   ],
   "source": [
    "pf.graph.nodes[\"Bulk\"]"
   ]
  },
  {
   "cell_type": "code",
   "execution_count": 81,
   "id": "aaaa8c45-5490-4f26-905a-f4aef8db2d14",
   "metadata": {},
   "outputs": [
    {
     "data": {
      "text/plain": [
       "'graph'"
      ]
     },
     "execution_count": 81,
     "metadata": {},
     "output_type": "execute_result"
    }
   ],
   "source": [
    "# node = pf.graph.nodes[\"subgraph\"]\n",
    "node = graph.nodes[\"subgraph\"]\n",
    "node.node_type"
   ]
  },
  {
   "cell_type": "code",
   "execution_count": 82,
   "id": "1894446a-e6e1-4148-b8c4-df9b06dc9b7e",
   "metadata": {},
   "outputs": [
    {
     "name": "stdout",
     "output_type": "stream",
     "text": [
      "<class 'pyiron_workflow.simple_workflow.Node'> graph\n"
     ]
    },
    {
     "data": {
      "text/plain": [
       "SpaceGroupInput(spacegroups=[1, 2, 3, 4, 5, 6, 7, 8, 9, 10, 11, 12, 13, 14, 15, 16, 17, 18, 19, 20, 21, 22, 23, 24, 25, 26, 27, 28, 29, 30, 31, 32, 33, 34, 35, 36, 37, 38, 39, 40, 41, 42, 43, 44, 45, 46, 47, 48, 49, 50, 51, 52, 53, 54, 55, 56, 57, 58, 59, 60, 61, 62, 63, 64, 65, 66, 67, 68, 69, 70, 71, 72, 73, 74, 75, 76, 77, 78, 79, 80, 81, 82, 83, 84, 85, 86, 87, 88, 89, 90, 91, 92, 93, 94, 95, 96, 97, 98, 99, 100, 101, 102, 103, 104, 105, 106, 107, 108, 109, 110, 111, 112, 113, 114, 115, 116, 117, 118, 119, 120, 121, 122, 123, 124, 125, 126, 127, 128, 129, 130, 131, 132, 133, 134, 135, 136, 137, 138, 139, 140, 141, 142, 143, 144, 145, 146, 147, 148, 149, 150, 151, 152, 153, 154, 155, 156, 157, 158, 159, 160, 161, 162, 163, 164, 165, 166, 167, 168, 169, 170, 171, 172, 173, 174, 175, 176, 177, 178, 179, 180, 181, 182, 183, 184, 185, 186, 187, 188, 189, 190, 191, 192, 193, 194, 195, 196, 197, 198, 199, 200, 201, 202, 203, 204, 205, 206, 207, 208, 209, 210, 211, 212, 213, 214, 215, 216, 217, 218, 219, 220, 221, 222, 223, 224, 225, 226, 227, 228, 229, 230], element1=ElementInput(element='Al', num=2), element2=None, max_atoms=10, max_structures=100)"
      ]
     },
     "execution_count": 82,
     "metadata": {},
     "output_type": "execute_result"
    }
   ],
   "source": [
    "# base.run_macro_node(node.node)\n",
    "# I've already managed to deprecate this from the codebase\n",
    "# So let's purge it from the notebooks too\n",
    "# In any case, you can see from the print above and below that this is a \"graph\" not a \"macro_node\"...\n",
    "\n",
    "print(type(node.node), node.node.node_type)\n",
    "node.node.run()"
   ]
  },
  {
   "cell_type": "code",
   "execution_count": 83,
   "id": "af4e5dad-6d65-47e0-8512-21975f0da0b1",
   "metadata": {},
   "outputs": [
    {
     "data": {
      "text/html": [
       "<div>\n",
       "<style scoped>\n",
       "    .dataframe tbody tr th:only-of-type {\n",
       "        vertical-align: middle;\n",
       "    }\n",
       "\n",
       "    .dataframe tbody tr th {\n",
       "        vertical-align: top;\n",
       "    }\n",
       "\n",
       "    .dataframe thead th {\n",
       "        text-align: right;\n",
       "    }\n",
       "</style>\n",
       "<table border=\"1\" class=\"dataframe\">\n",
       "  <thead>\n",
       "    <tr style=\"text-align: right;\">\n",
       "      <th></th>\n",
       "      <th>id</th>\n",
       "      <th>import_path</th>\n",
       "      <th>label</th>\n",
       "      <th>parent_id</th>\n",
       "      <th>level</th>\n",
       "      <th>node</th>\n",
       "      <th>graph</th>\n",
       "      <th>node_type</th>\n",
       "      <th>widget_type</th>\n",
       "      <th>expanded</th>\n",
       "    </tr>\n",
       "  </thead>\n",
       "  <tbody>\n",
       "    <tr>\n",
       "      <th>0</th>\n",
       "      <td>ElementInput</td>\n",
       "      <td>pyiron_nodes.atomistic.assyst.structures.Eleme...</td>\n",
       "      <td>ElementInput</td>\n",
       "      <td>None</td>\n",
       "      <td>0</td>\n",
       "      <td>&lt;pyiron_workflow.simple_workflow.Node object a...</td>\n",
       "      <td>None</td>\n",
       "      <td>node</td>\n",
       "      <td>customNode</td>\n",
       "      <td>False</td>\n",
       "    </tr>\n",
       "    <tr>\n",
       "      <th>1</th>\n",
       "      <td>SpaceGroupInput</td>\n",
       "      <td>pyiron_nodes.atomistic.assyst.structures.Space...</td>\n",
       "      <td>SpaceGroupInput</td>\n",
       "      <td>None</td>\n",
       "      <td>0</td>\n",
       "      <td>&lt;pyiron_workflow.simple_workflow.Node object a...</td>\n",
       "      <td>None</td>\n",
       "      <td>node</td>\n",
       "      <td>customNode</td>\n",
       "      <td>False</td>\n",
       "    </tr>\n",
       "  </tbody>\n",
       "</table>\n",
       "</div>"
      ],
      "text/plain": [
       "NestedDict([('ElementInput',\n",
       "             GraphNode(id='ElementInput', import_path='pyiron_nodes.atomistic.assyst.structures.ElementInput', label='ElementInput', parent_id=None, level=0, node=<pyiron_workflow.simple_workflow.Node object at 0x302bd3830>, graph=None, node_type='node', widget_type='customNode', expanded=False)),\n",
       "            ('SpaceGroupInput',\n",
       "             GraphNode(id='SpaceGroupInput', import_path='pyiron_nodes.atomistic.assyst.structures.SpaceGroupInput', label='SpaceGroupInput', parent_id=None, level=0, node=<pyiron_workflow.simple_workflow.Node object at 0x317aac260>, graph=None, node_type='node', widget_type='customNode', expanded=False))])"
      ]
     },
     "execution_count": 83,
     "metadata": {},
     "output_type": "execute_result"
    }
   ],
   "source": [
    "# subgraph = base.get_graph_from_macro_node(node.node)\n",
    "\n",
    "# In 81, node is `graph.nodes[\"subgraph\"]`\n",
    "# This is already a \"graph\"-type node, not a macro node\n",
    "# So it already has a graph\n",
    "subgraph = node.graph\n",
    "\n",
    "subgraph.nodes"
   ]
  },
  {
   "cell_type": "markdown",
   "id": "238e39f3-7203-4fc8-ad9d-f10cd6ca64ff",
   "metadata": {},
   "source": [
    "I need a way to describe/include virtual nodes both in the code as in the graph representation. Macros do not help since they are given explicitly as a file.\n",
    "- store original graph + grouping commands\n",
    "    - makes grouping/ungrouping very easy\n",
    "    - natural extension of expand/collaps\n",
    "    - we would then have nodes, edges + groups\n",
    "    - update would then not only handle expand but also grouping\n",
    "    - storage etc. would work as before (ideally no extra implementation)\n",
    "    - issue: how to translate this into code (add virtual nodes as macro to code)\n",
    "- add macro definitions to code\n",
    "    - assumption: we do not want to describe all groupings performed by the user, i.e., virtual nodes make sense and are needed\n",
    "    - pros: human readable, easy to put them later if needed to file\n",
    "    - question: how does it work together with with run_macro function etc. "
   ]
  },
  {
   "cell_type": "code",
   "execution_count": 84,
   "id": "b4fdacd2-14e6-4e60-8fb4-1674ad8e5a08",
   "metadata": {},
   "outputs": [
    {
     "name": "stdout",
     "output_type": "stream",
     "text": [
      "\n",
      "def assyst(num: int = 1, name: str, max_structures: int = 10, title: str = , symbol: str = o, legend_label: str = ):\n",
      "\n",
      "    from pyiron_workflow import Workflow\n",
      "    import pyiron_nodes\n",
      "\n",
      "    wf = Workflow('assyst')\n",
      "\n",
      "    wf.ElementInput = pyiron_nodes.atomistic.assyst.structures.ElementInput(num=num) \n",
      "    wf.M3GNet = pyiron_nodes.atomistic.engine.ase.M3GNet() \n",
      "    wf.Bulk = pyiron_nodes.atomistic.structure.build.Bulk(name=name) \n",
      "    wf.SpaceGroupInput = pyiron_nodes.atomistic.assyst.structures.SpaceGroupInput(element1=wf.ElementInput, max_structures=max_structures) \n",
      "    wf.Static = pyiron_nodes.atomistic.calculator.ase.Static(engine=wf.M3GNet, structure=wf.Bulk) \n",
      "    wf.SpaceGroupSampling = pyiron_nodes.atomistic.assyst.structures.SpaceGroupSampling(input=wf.SpaceGroupInput) \n",
      "    wf.ApplyEngine = pyiron_nodes.atomistic.calculator.generic.ApplyEngine(sefs_container=wf.SpaceGroupSampling, engine=wf.Static) \n",
      "    wf.OutputSEFS = pyiron_workflow.simple_workflow.func_dataclass(dataclass=wf.ApplyEngine) \n",
      "    wf.Plot = pyiron_nodes.plotting.Plot(y=wf.OutputSEFS.outputs.energies, title=title, symbol=symbol, legend_label=legend_label) \n",
      "    wf.Histogram = pyiron_nodes.plotting.Histogram(x=wf.OutputSEFS.outputs.energies) \n",
      "\n",
      "    return wf.OutputSEFS.outputs.structures, wf.OutputSEFS.outputs.forces, wf.OutputSEFS.outputs.stresses, wf.Plot.outputs.figure, wf.Histogram.outputs.fig\n",
      "\n"
     ]
    }
   ],
   "source": [
    "from pyiron_workflow.graph import base\n",
    "\n",
    "print(base.graph_to_code(pf.graph))"
   ]
  },
  {
   "cell_type": "code",
   "execution_count": 85,
   "id": "ccc3bebe-70bf-43d8-9ace-b1b0b50528ef",
   "metadata": {},
   "outputs": [
    {
     "data": {
      "text/plain": [
       "('graph', 'subgraph')"
      ]
     },
     "execution_count": 85,
     "metadata": {},
     "output_type": "execute_result"
    }
   ],
   "source": [
    "node.node_type, node.label"
   ]
  },
  {
   "cell_type": "code",
   "execution_count": 86,
   "id": "de3ebedc-35e2-4d56-9f75-7ef6793fd720",
   "metadata": {},
   "outputs": [],
   "source": [
    "# node._func()\n",
    "\n",
    "# node has not been redefined since \n",
    "#\n",
    "# # node = pf.graph.nodes[\"subgraph\"]\n",
    "# node = graph.nodes[\"subgraph\"]\n",
    "# \n",
    "# So it still should not have a func\n",
    "# Anyhow, other nodes certainly do, but I don't think it's critical that\n",
    "# we look at this private variable"
   ]
  },
  {
   "cell_type": "code",
   "execution_count": 87,
   "id": "59689c69-20fe-4c98-87d5-dbcb544677af",
   "metadata": {},
   "outputs": [
    {
     "data": {
      "text/plain": [
       "GraphNode(id='subgraph', import_path=None, label='subgraph', parent_id=None, level=0, node=<pyiron_workflow.simple_workflow.Node object at 0x317b249e0>, graph=Graph(id=None, label='subgraph', root_node=None, nodes=NestedDict({'ElementInput': GraphNode(id='ElementInput', import_path='pyiron_nodes.atomistic.assyst.structures.ElementInput', label='ElementInput', parent_id=None, level=0, node=<pyiron_workflow.simple_workflow.Node object at 0x302bd3830>, graph=None, node_type='node', widget_type='customNode', expanded=False), 'SpaceGroupInput': GraphNode(id='SpaceGroupInput', import_path='pyiron_nodes.atomistic.assyst.structures.SpaceGroupInput', label='SpaceGroupInput', parent_id=None, level=0, node=<pyiron_workflow.simple_workflow.Node object at 0x317aac260>, graph=None, node_type='node', widget_type='customNode', expanded=False)}), edges=[GraphEdge(source='ElementInput', target='SpaceGroupInput', sourceHandle='dataclass', targetHandle='element1')], graph={}), node_type='graph', widget_type='customNode', expanded=False)"
      ]
     },
     "execution_count": 87,
     "metadata": {},
     "output_type": "execute_result"
    }
   ],
   "source": [
    "\n",
    "\n",
    "from pyiron_workflow.graph import base\n",
    "\n",
    "# base.run_macro_node(node)\n",
    "node"
   ]
  },
  {
   "cell_type": "code",
   "execution_count": 88,
   "id": "7ff974ac-d557-4b25-8f1f-7f548f899b5a",
   "metadata": {},
   "outputs": [
    {
     "name": "stdout",
     "output_type": "stream",
     "text": [
      "Running node fcc_metals\n",
      "Running node ThreadPoolExecutor\n",
      "Running node IterNode\n",
      "Restoring node outputs  3f97f129d7455d5bfb7140e81d7dba9da0702921a58096bf334f0081aca8be03 False\n",
      "No stored data found for node:  IterNode\n",
      "copy node (port):  Bulk aed2e0d9ea224e0fb947e9e2b1eda549d2d17da8fc357e6f48e06aa8d5295680\n",
      "graph_node Bulk\n"
     ]
    },
    {
     "data": {
      "text/html": [
       "<div>\n",
       "<style scoped>\n",
       "    .dataframe tbody tr th:only-of-type {\n",
       "        vertical-align: middle;\n",
       "    }\n",
       "\n",
       "    .dataframe tbody tr th {\n",
       "        vertical-align: top;\n",
       "    }\n",
       "\n",
       "    .dataframe thead th {\n",
       "        text-align: right;\n",
       "    }\n",
       "</style>\n",
       "<table border=\"1\" class=\"dataframe\">\n",
       "  <thead>\n",
       "    <tr style=\"text-align: right;\">\n",
       "      <th></th>\n",
       "      <th>name</th>\n",
       "      <th>result</th>\n",
       "    </tr>\n",
       "  </thead>\n",
       "  <tbody>\n",
       "    <tr>\n",
       "      <th>0</th>\n",
       "      <td>Cu</td>\n",
       "      <td>[Atom('Cu', [0.0, 0.0, 0.0], index=0)]</td>\n",
       "    </tr>\n",
       "    <tr>\n",
       "      <th>1</th>\n",
       "      <td>Ag</td>\n",
       "      <td>[Atom('Ag', [0.0, 0.0, 0.0], index=0)]</td>\n",
       "    </tr>\n",
       "    <tr>\n",
       "      <th>2</th>\n",
       "      <td>Au</td>\n",
       "      <td>[Atom('Au', [0.0, 0.0, 0.0], index=0)]</td>\n",
       "    </tr>\n",
       "    <tr>\n",
       "      <th>3</th>\n",
       "      <td>Pt</td>\n",
       "      <td>[Atom('Pt', [0.0, 0.0, 0.0], index=0)]</td>\n",
       "    </tr>\n",
       "    <tr>\n",
       "      <th>4</th>\n",
       "      <td>Ni</td>\n",
       "      <td>[Atom('Ni', [0.0, 0.0, 0.0], magmom=0.6, index...</td>\n",
       "    </tr>\n",
       "    <tr>\n",
       "      <th>5</th>\n",
       "      <td>Pd</td>\n",
       "      <td>[Atom('Pd', [0.0, 0.0, 0.0], index=0)]</td>\n",
       "    </tr>\n",
       "    <tr>\n",
       "      <th>6</th>\n",
       "      <td>Rh</td>\n",
       "      <td>[Atom('Rh', [0.0, 0.0, 0.0], index=0)]</td>\n",
       "    </tr>\n",
       "    <tr>\n",
       "      <th>7</th>\n",
       "      <td>Ir</td>\n",
       "      <td>[Atom('Ir', [0.0, 0.0, 0.0], index=0)]</td>\n",
       "    </tr>\n",
       "  </tbody>\n",
       "</table>\n",
       "</div>"
      ],
      "text/plain": [
       "  name                                             result\n",
       "0   Cu             [Atom('Cu', [0.0, 0.0, 0.0], index=0)]\n",
       "1   Ag             [Atom('Ag', [0.0, 0.0, 0.0], index=0)]\n",
       "2   Au             [Atom('Au', [0.0, 0.0, 0.0], index=0)]\n",
       "3   Pt             [Atom('Pt', [0.0, 0.0, 0.0], index=0)]\n",
       "4   Ni  [Atom('Ni', [0.0, 0.0, 0.0], magmom=0.6, index...\n",
       "5   Pd             [Atom('Pd', [0.0, 0.0, 0.0], index=0)]\n",
       "6   Rh             [Atom('Rh', [0.0, 0.0, 0.0], index=0)]\n",
       "7   Ir             [Atom('Ir', [0.0, 0.0, 0.0], index=0)]"
      ]
     },
     "execution_count": 88,
     "metadata": {},
     "output_type": "execute_result"
    }
   ],
   "source": [
    "# pf.graph.nodes[\"IterNode\"].node()\n",
    "\n",
    "select_graph_by_name(pf, \"executor\")  # Select one of the workflows with an \"IterNode\"\n",
    "# It turns out we later need both \"Bulk\" and \"Volume\" nodes as well\n",
    "# \"Volume\" rules out \"executor\", so use \"executor3\"\n",
    "# Nevermind, \"executor3\" hits:\n",
    "# AttributeError: No attribute named Bulk__a\n",
    "\n",
    "# Invoking `node()` give a no-data error, let's pull\n",
    "# pf.graph.nodes[\"IterNode\"].node.pull()  # but not like this, that's also a no-data error\n",
    "base.pull_node(pf.graph, \"IterNode\")  # Here we go\n"
   ]
  },
  {
   "cell_type": "code",
   "execution_count": 89,
   "id": "d4e496cb-e96c-4b0f-a095-4e523a20200a",
   "metadata": {},
   "outputs": [
    {
     "data": {
      "text/plain": [
       "Al: [0. 0. 0.]\n",
       "tags: \n",
       "    indices: [0]\n",
       "pbc: [ True  True  True]\n",
       "cell: \n",
       "Cell([[0.0, 2.025, 2.025], [2.025, 0.0, 2.025], [2.025, 2.025, 0.0]])"
      ]
     },
     "execution_count": 89,
     "metadata": {},
     "output_type": "execute_result"
    }
   ],
   "source": [
    "from pyiron_nodes.atomistic.structure.build import Bulk\n",
    "\n",
    "Bulk()._func(name='Al')"
   ]
  },
  {
   "cell_type": "code",
   "execution_count": 90,
   "id": "c634ccdf-b015-40e0-892b-d41949957810",
   "metadata": {},
   "outputs": [
    {
     "data": {
      "text/html": [
       "<div>\n",
       "<style scoped>\n",
       "    .dataframe tbody tr th:only-of-type {\n",
       "        vertical-align: middle;\n",
       "    }\n",
       "\n",
       "    .dataframe tbody tr th {\n",
       "        vertical-align: top;\n",
       "    }\n",
       "\n",
       "    .dataframe thead th {\n",
       "        text-align: right;\n",
       "    }\n",
       "</style>\n",
       "<table border=\"1\" class=\"dataframe\">\n",
       "  <thead>\n",
       "    <tr style=\"text-align: right;\">\n",
       "      <th></th>\n",
       "      <th>label</th>\n",
       "      <th>type</th>\n",
       "      <th>default</th>\n",
       "      <th>ready</th>\n",
       "      <th>value</th>\n",
       "      <th>node</th>\n",
       "    </tr>\n",
       "  </thead>\n",
       "  <tbody>\n",
       "    <tr>\n",
       "      <th>0</th>\n",
       "      <td>name</td>\n",
       "      <td>str</td>\n",
       "      <td>NotData</td>\n",
       "      <td>True</td>\n",
       "      <td>Al</td>\n",
       "      <td>&lt;pyiron_workflow.simple_workflow.Node object a...</td>\n",
       "    </tr>\n",
       "    <tr>\n",
       "      <th>1</th>\n",
       "      <td>crystalstructure</td>\n",
       "      <td>str</td>\n",
       "      <td>None</td>\n",
       "      <td>True</td>\n",
       "      <td>None</td>\n",
       "      <td>&lt;pyiron_workflow.simple_workflow.Node object a...</td>\n",
       "    </tr>\n",
       "    <tr>\n",
       "      <th>2</th>\n",
       "      <td>a</td>\n",
       "      <td>int</td>\n",
       "      <td>None</td>\n",
       "      <td>True</td>\n",
       "      <td>None</td>\n",
       "      <td>&lt;pyiron_workflow.simple_workflow.Node object a...</td>\n",
       "    </tr>\n",
       "    <tr>\n",
       "      <th>3</th>\n",
       "      <td>c</td>\n",
       "      <td>int</td>\n",
       "      <td>None</td>\n",
       "      <td>True</td>\n",
       "      <td>None</td>\n",
       "      <td>&lt;pyiron_workflow.simple_workflow.Node object a...</td>\n",
       "    </tr>\n",
       "    <tr>\n",
       "      <th>4</th>\n",
       "      <td>c_over_a</td>\n",
       "      <td>int</td>\n",
       "      <td>None</td>\n",
       "      <td>True</td>\n",
       "      <td>None</td>\n",
       "      <td>&lt;pyiron_workflow.simple_workflow.Node object a...</td>\n",
       "    </tr>\n",
       "    <tr>\n",
       "      <th>5</th>\n",
       "      <td>u</td>\n",
       "      <td>int</td>\n",
       "      <td>None</td>\n",
       "      <td>True</td>\n",
       "      <td>None</td>\n",
       "      <td>&lt;pyiron_workflow.simple_workflow.Node object a...</td>\n",
       "    </tr>\n",
       "    <tr>\n",
       "      <th>6</th>\n",
       "      <td>orthorhombic</td>\n",
       "      <td>bool</td>\n",
       "      <td>False</td>\n",
       "      <td>True</td>\n",
       "      <td>False</td>\n",
       "      <td>&lt;pyiron_workflow.simple_workflow.Node object a...</td>\n",
       "    </tr>\n",
       "    <tr>\n",
       "      <th>7</th>\n",
       "      <td>cubic</td>\n",
       "      <td>bool</td>\n",
       "      <td>False</td>\n",
       "      <td>True</td>\n",
       "      <td>False</td>\n",
       "      <td>&lt;pyiron_workflow.simple_workflow.Node object a...</td>\n",
       "    </tr>\n",
       "  </tbody>\n",
       "</table>\n",
       "</div>"
      ],
      "text/plain": [
       "{'label': ['name', 'crystalstructure', 'a', 'c', 'c_over_a', 'u', 'orthorhombic', 'cubic'], 'type': ['str', 'str', 'int', 'int', 'int', 'int', 'bool', 'bool'], 'default': ['NotData', None, None, None, None, None, False, False], 'ready': [True, True, True, True, True, True, True, True], 'value': ['Al', None, None, None, None, None, False, False], 'node': [<pyiron_workflow.simple_workflow.Node object at 0x316846e70>, <pyiron_workflow.simple_workflow.Node object at 0x316846e70>, <pyiron_workflow.simple_workflow.Node object at 0x316846e70>, <pyiron_workflow.simple_workflow.Node object at 0x316846e70>, <pyiron_workflow.simple_workflow.Node object at 0x316846e70>, <pyiron_workflow.simple_workflow.Node object at 0x316846e70>, <pyiron_workflow.simple_workflow.Node object at 0x316846e70>, <pyiron_workflow.simple_workflow.Node object at 0x316846e70>]}"
      ]
     },
     "execution_count": 90,
     "metadata": {},
     "output_type": "execute_result"
    }
   ],
   "source": [
    "bulk = Bulk()\n",
    "bulk.inputs[\"name\"] = \"Al\"\n",
    "bulk.inputs"
   ]
  },
  {
   "cell_type": "code",
   "execution_count": 91,
   "id": "f9b5648c-5f4b-4586-af0a-65cd47a2ad08",
   "metadata": {},
   "outputs": [
    {
     "data": {
      "text/plain": [
       "Al: [0. 0. 0.]\n",
       "tags: \n",
       "    indices: [0]\n",
       "pbc: [ True  True  True]\n",
       "cell: \n",
       "Cell([[0.0, 1.0, 1.0], [1.0, 0.0, 1.0], [1.0, 1.0, 0.0]])"
      ]
     },
     "execution_count": 91,
     "metadata": {},
     "output_type": "execute_result"
    }
   ],
   "source": [
    "Bulk()('Al', a=2)"
   ]
  },
  {
   "cell_type": "code",
   "execution_count": 92,
   "id": "7f969cb0-9193-4718-b9f3-561581444380",
   "metadata": {},
   "outputs": [
    {
     "data": {
      "text/plain": [
       "['Volume', 'Bulk']"
      ]
     },
     "execution_count": 92,
     "metadata": {},
     "output_type": "execute_result"
    }
   ],
   "source": [
    "list(set(['Volume', 'Bulk', 'Volume']))"
   ]
  },
  {
   "cell_type": "code",
   "execution_count": 93,
   "id": "79a3b35a-a7f9-424e-8449-60c7e7acf83e",
   "metadata": {},
   "outputs": [
    {
     "name": "stdout",
     "output_type": "stream",
     "text": [
      "labels ['Bulk__name', 'Bulk__a', 'Bulk__cubic']\n",
      "inp:  Bulk name\n",
      "GraphEdge(source='va_i_subgraph__Bulk__name', target='Bulk', sourceHandle='x', targetHandle='name')\n",
      "inp:  Bulk a\n",
      "GraphEdge(source='va_i_subgraph__Bulk__a', target='Bulk', sourceHandle='x', targetHandle='a')\n",
      "inp:  Bulk cubic\n",
      "GraphEdge(source='va_i_subgraph__Bulk__cubic', target='Bulk', sourceHandle='x', targetHandle='cubic')\n",
      "labels ['Volume__volume']\n",
      "node:  Bulk GraphNode(id='Bulk', import_path='pyiron_nodes.atomistic.structure.build.Bulk', label='Bulk', parent_id='subgraph', level=1, node=<pyiron_workflow.simple_workflow.Node object at 0x317b26ba0>, graph=None, node_type='node', widget_type='customNode', expanded=False)\n",
      "node:  Volume GraphNode(id='Volume', import_path='pyiron_nodes.atomistic.structure.calc.Volume', label='Volume', parent_id='subgraph', level=1, node=<pyiron_workflow.simple_workflow.Node object at 0x317b555b0>, graph=None, node_type='node', widget_type='customNode', expanded=False)\n",
      "node:  ThreadPoolExecutor GraphNode(id='ThreadPoolExecutor', import_path='pyiron_nodes.executors.ThreadPoolExecutor', label='ThreadPoolExecutor', parent_id=None, level=0, node=<pyiron_workflow.simple_workflow.Node object at 0x317b55640>, graph=None, node_type='node', widget_type='customNode', expanded=False)\n",
      "node:  IterNode GraphNode(id='IterNode', import_path='pyiron_nodes.executors.IterNode', label='IterNode', parent_id=None, level=0, node=<pyiron_workflow.simple_workflow.Node object at 0x317b56ba0>, graph=None, node_type='node', widget_type='customNode', expanded=False)\n",
      "node:  SingleNodeExecutor GraphNode(id='SingleNodeExecutor', import_path='pyiron_nodes.executors.SingleNodeExecutor', label='SingleNodeExecutor', parent_id=None, level=0, node=<pyiron_workflow.simple_workflow.Node object at 0x317b557c0>, graph=None, node_type='node', widget_type='customNode', expanded=False)\n",
      "node:  Linspace GraphNode(id='Linspace', import_path='pyiron_nodes.math.Linspace', label='Linspace', parent_id=None, level=0, node=<pyiron_workflow.simple_workflow.Node object at 0x317b55730>, graph=None, node_type='node', widget_type='customNode', expanded=False)\n",
      "node:  subgraph GraphNode(id='subgraph', import_path=None, label='subgraph', parent_id=None, level=0, node=<pyiron_workflow.simple_workflow.Node object at 0x317ba21b0>, graph=Graph(id=None, label='subgraph', root_node=None, nodes=NestedDict({'Bulk': GraphNode(id='Bulk', import_path='pyiron_nodes.atomistic.structure.build.Bulk', label='Bulk', parent_id=None, level=0, node=<pyiron_workflow.simple_workflow.Node object at 0x317b26ba0>, graph=None, node_type='node', widget_type='customNode', expanded=False), 'Volume': GraphNode(id='Volume', import_path='pyiron_nodes.atomistic.structure.calc.Volume', label='Volume', parent_id=None, level=0, node=<pyiron_workflow.simple_workflow.Node object at 0x317b555b0>, graph=None, node_type='node', widget_type='customNode', expanded=False)}), edges=[GraphEdge(source='Bulk', target='Volume', sourceHandle='structure', targetHandle='structure')], graph={}), node_type='graph', widget_type='customNode', expanded=False)\n",
      "node:  va_i_subgraph__Bulk__name GraphNode(id='va_i_subgraph__Bulk__name', import_path='pyiron_workflow.graph.base.identity', label='va_i_subgraph__Bulk__name', parent_id='subgraph', level=0, node=<pyiron_workflow.simple_workflow.Node object at 0x317b0aa80>, graph=None, node_type='node', widget_type='customNode', expanded=False)\n",
      "node:  va_i_subgraph__Bulk__a GraphNode(id='va_i_subgraph__Bulk__a', import_path='pyiron_workflow.graph.base.identity', label='va_i_subgraph__Bulk__a', parent_id='subgraph', level=0, node=<pyiron_workflow.simple_workflow.Node object at 0x317b09df0>, graph=None, node_type='node', widget_type='customNode', expanded=False)\n",
      "node:  va_i_subgraph__Bulk__cubic GraphNode(id='va_i_subgraph__Bulk__cubic', import_path='pyiron_workflow.graph.base.identity', label='va_i_subgraph__Bulk__cubic', parent_id='subgraph', level=0, node=<pyiron_workflow.simple_workflow.Node object at 0x317ba2a20>, graph=None, node_type='node', widget_type='customNode', expanded=False)\n",
      "node:  va_o_subgraph__Volume__volume GraphNode(id='va_o_subgraph__Volume__volume', import_path='pyiron_workflow.graph.base.identity', label='va_o_subgraph__Volume__volume', parent_id='subgraph', level=0, node=<pyiron_workflow.simple_workflow.Node object at 0x317ba27e0>, graph=None, node_type='node', widget_type='customNode', expanded=False)\n",
      "['subgraph']\n"
     ]
    }
   ],
   "source": [
    "from pyiron_workflow.graph import base\n",
    "\n",
    "# We need a workflow with both \"Bulk\" and \"Volume\"\n",
    "# Only \"executor3\" fits the bill among the loaded flows\n",
    "# It didn't work to load it initially, but we can switch now\n",
    "select_graph_by_name(pf, \"executor3\") \n",
    "\n",
    "selected_nodes = [\"Bulk\", \"Volume\"]\n",
    "node_ids = base._node_labels_to_node_ids(pf.graph, selected_nodes)\n",
    "\n",
    "base.create_group(pf.graph, node_ids).nodes[\"subgraph\"].node._workflow # .run()  # graph.nodes[\"Bulk\"].node.run()"
   ]
  },
  {
   "cell_type": "code",
   "execution_count": 94,
   "id": "a6f0d541-9046-4367-b194-acbd50e5780e",
   "metadata": {},
   "outputs": [
    {
     "name": "stdout",
     "output_type": "stream",
     "text": [
      "labels ['Bulk__name', 'Bulk__a', 'Bulk__cubic']\n",
      "inp:  Bulk name\n",
      "GraphEdge(source='va_i_subgraph__Bulk__name', target='Bulk', sourceHandle='x', targetHandle='name')\n",
      "inp:  Bulk a\n",
      "GraphEdge(source='va_i_subgraph__Bulk__a', target='Bulk', sourceHandle='x', targetHandle='a')\n",
      "inp:  Bulk cubic\n",
      "GraphEdge(source='va_i_subgraph__Bulk__cubic', target='Bulk', sourceHandle='x', targetHandle='cubic')\n",
      "labels ['Volume__volume']\n",
      "node:  Bulk GraphNode(id='Bulk', import_path='pyiron_nodes.atomistic.structure.build.Bulk', label='Bulk', parent_id='subgraph', level=1, node=<pyiron_workflow.simple_workflow.Node object at 0x317b26ba0>, graph=None, node_type='node', widget_type='customNode', expanded=False)\n",
      "node:  Volume GraphNode(id='Volume', import_path='pyiron_nodes.atomistic.structure.calc.Volume', label='Volume', parent_id='subgraph', level=1, node=<pyiron_workflow.simple_workflow.Node object at 0x317b555b0>, graph=None, node_type='node', widget_type='customNode', expanded=False)\n",
      "node:  ThreadPoolExecutor GraphNode(id='ThreadPoolExecutor', import_path='pyiron_nodes.executors.ThreadPoolExecutor', label='ThreadPoolExecutor', parent_id=None, level=0, node=<pyiron_workflow.simple_workflow.Node object at 0x317b55640>, graph=None, node_type='node', widget_type='customNode', expanded=False)\n",
      "node:  IterNode GraphNode(id='IterNode', import_path='pyiron_nodes.executors.IterNode', label='IterNode', parent_id=None, level=0, node=<pyiron_workflow.simple_workflow.Node object at 0x317b56ba0>, graph=None, node_type='node', widget_type='customNode', expanded=False)\n",
      "node:  SingleNodeExecutor GraphNode(id='SingleNodeExecutor', import_path='pyiron_nodes.executors.SingleNodeExecutor', label='SingleNodeExecutor', parent_id=None, level=0, node=<pyiron_workflow.simple_workflow.Node object at 0x317b557c0>, graph=None, node_type='node', widget_type='customNode', expanded=False)\n",
      "node:  Linspace GraphNode(id='Linspace', import_path='pyiron_nodes.math.Linspace', label='Linspace', parent_id=None, level=0, node=<pyiron_workflow.simple_workflow.Node object at 0x317b55730>, graph=None, node_type='node', widget_type='customNode', expanded=False)\n",
      "node:  subgraph GraphNode(id='subgraph', import_path=None, label='subgraph', parent_id=None, level=0, node=<pyiron_workflow.simple_workflow.Node object at 0x317ba3470>, graph=Graph(id=None, label='subgraph', root_node=None, nodes=NestedDict({'Bulk': GraphNode(id='Bulk', import_path='pyiron_nodes.atomistic.structure.build.Bulk', label='Bulk', parent_id=None, level=0, node=<pyiron_workflow.simple_workflow.Node object at 0x317b26ba0>, graph=None, node_type='node', widget_type='customNode', expanded=False), 'Volume': GraphNode(id='Volume', import_path='pyiron_nodes.atomistic.structure.calc.Volume', label='Volume', parent_id=None, level=0, node=<pyiron_workflow.simple_workflow.Node object at 0x317b555b0>, graph=None, node_type='node', widget_type='customNode', expanded=False)}), edges=[GraphEdge(source='Bulk', target='Volume', sourceHandle='structure', targetHandle='structure')], graph={}), node_type='graph', widget_type='customNode', expanded=False)\n",
      "node:  va_i_subgraph__Bulk__name GraphNode(id='va_i_subgraph__Bulk__name', import_path='pyiron_workflow.graph.base.identity', label='va_i_subgraph__Bulk__name', parent_id='subgraph', level=0, node=<pyiron_workflow.simple_workflow.Node object at 0x317ba1280>, graph=None, node_type='node', widget_type='customNode', expanded=False)\n",
      "node:  va_i_subgraph__Bulk__a GraphNode(id='va_i_subgraph__Bulk__a', import_path='pyiron_workflow.graph.base.identity', label='va_i_subgraph__Bulk__a', parent_id='subgraph', level=0, node=<pyiron_workflow.simple_workflow.Node object at 0x317b55d90>, graph=None, node_type='node', widget_type='customNode', expanded=False)\n",
      "node:  va_i_subgraph__Bulk__cubic GraphNode(id='va_i_subgraph__Bulk__cubic', import_path='pyiron_workflow.graph.base.identity', label='va_i_subgraph__Bulk__cubic', parent_id='subgraph', level=0, node=<pyiron_workflow.simple_workflow.Node object at 0x317ba3ce0>, graph=None, node_type='node', widget_type='customNode', expanded=False)\n",
      "node:  va_o_subgraph__Volume__volume GraphNode(id='va_o_subgraph__Volume__volume', import_path='pyiron_workflow.graph.base.identity', label='va_o_subgraph__Volume__volume', parent_id='subgraph', level=0, node=<pyiron_workflow.simple_workflow.Node object at 0x317ba37d0>, graph=None, node_type='node', widget_type='customNode', expanded=False)\n",
      "['subgraph']\n",
      "\n",
      "def subgraph(name: str, a: int = None, cubic: bool = False):\n",
      "\n",
      "    from pyiron_workflow import Workflow\n",
      "    import pyiron_nodes\n",
      "\n",
      "    wf = Workflow('subgraph')\n",
      "\n",
      "    wf.Bulk = pyiron_nodes.atomistic.structure.build.Bulk(name=name, a=a, cubic=cubic) \n",
      "    wf.Volume = pyiron_nodes.atomistic.structure.calc.Volume(structure=wf.Bulk) \n",
      "\n",
      "    return wf.Volume.outputs.volume\n",
      "\n"
     ]
    }
   ],
   "source": [
    "import inspect\n",
    "\n",
    "f = base.create_group(pf.graph, node_ids).nodes[\"subgraph\"].graph  #.graph.nodes #.nodes[\"Bulk\"].node.inputs\n",
    "print(base.graph_to_code(f))"
   ]
  },
  {
   "cell_type": "code",
   "execution_count": 95,
   "id": "09cbc2a0-f8a5-4a7d-b9c3-f2e3ea20e529",
   "metadata": {},
   "outputs": [
    {
     "data": {
      "text/html": [
       "<div>\n",
       "<style scoped>\n",
       "    .dataframe tbody tr th:only-of-type {\n",
       "        vertical-align: middle;\n",
       "    }\n",
       "\n",
       "    .dataframe tbody tr th {\n",
       "        vertical-align: top;\n",
       "    }\n",
       "\n",
       "    .dataframe thead th {\n",
       "        text-align: right;\n",
       "    }\n",
       "</style>\n",
       "<table border=\"1\" class=\"dataframe\">\n",
       "  <thead>\n",
       "    <tr style=\"text-align: right;\">\n",
       "      <th></th>\n",
       "      <th>id</th>\n",
       "      <th>import_path</th>\n",
       "      <th>label</th>\n",
       "      <th>parent_id</th>\n",
       "      <th>level</th>\n",
       "      <th>node</th>\n",
       "      <th>graph</th>\n",
       "      <th>node_type</th>\n",
       "      <th>widget_type</th>\n",
       "      <th>expanded</th>\n",
       "    </tr>\n",
       "  </thead>\n",
       "  <tbody>\n",
       "    <tr>\n",
       "      <th>0</th>\n",
       "      <td>Bulk</td>\n",
       "      <td>pyiron_nodes.atomistic.structure.build.Bulk</td>\n",
       "      <td>Bulk</td>\n",
       "      <td>None</td>\n",
       "      <td>0</td>\n",
       "      <td>&lt;pyiron_workflow.simple_workflow.Node object a...</td>\n",
       "      <td>None</td>\n",
       "      <td>node</td>\n",
       "      <td>customNode</td>\n",
       "      <td>False</td>\n",
       "    </tr>\n",
       "    <tr>\n",
       "      <th>1</th>\n",
       "      <td>Volume</td>\n",
       "      <td>pyiron_nodes.atomistic.structure.calc.Volume</td>\n",
       "      <td>Volume</td>\n",
       "      <td>None</td>\n",
       "      <td>0</td>\n",
       "      <td>&lt;pyiron_workflow.simple_workflow.Node object a...</td>\n",
       "      <td>None</td>\n",
       "      <td>node</td>\n",
       "      <td>customNode</td>\n",
       "      <td>False</td>\n",
       "    </tr>\n",
       "  </tbody>\n",
       "</table>\n",
       "</div>"
      ],
      "text/plain": [
       "NestedDict([('Bulk',\n",
       "             GraphNode(id='Bulk', import_path='pyiron_nodes.atomistic.structure.build.Bulk', label='Bulk', parent_id=None, level=0, node=<pyiron_workflow.simple_workflow.Node object at 0x317b26ba0>, graph=None, node_type='node', widget_type='customNode', expanded=False)),\n",
       "            ('Volume',\n",
       "             GraphNode(id='Volume', import_path='pyiron_nodes.atomistic.structure.calc.Volume', label='Volume', parent_id=None, level=0, node=<pyiron_workflow.simple_workflow.Node object at 0x317b555b0>, graph=None, node_type='node', widget_type='customNode', expanded=False))])"
      ]
     },
     "execution_count": 95,
     "metadata": {},
     "output_type": "execute_result"
    }
   ],
   "source": [
    "f.nodes"
   ]
  },
  {
   "cell_type": "code",
   "execution_count": 96,
   "id": "45a9ff11-fe49-4dc2-ae9d-f389a9f8085a",
   "metadata": {},
   "outputs": [
    {
     "name": "stdout",
     "output_type": "stream",
     "text": [
      "labels ['Bulk__name', 'Bulk__a', 'Bulk__cubic']\n",
      "inp:  Bulk name\n",
      "GraphEdge(source='va_i_subgraph__Bulk__name', target='Bulk', sourceHandle='x', targetHandle='name')\n",
      "inp:  Bulk a\n",
      "GraphEdge(source='va_i_subgraph__Bulk__a', target='Bulk', sourceHandle='x', targetHandle='a')\n",
      "inp:  Bulk cubic\n",
      "GraphEdge(source='va_i_subgraph__Bulk__cubic', target='Bulk', sourceHandle='x', targetHandle='cubic')\n",
      "labels ['Volume__volume']\n",
      "node:  Bulk GraphNode(id='Bulk', import_path='pyiron_nodes.atomistic.structure.build.Bulk', label='Bulk', parent_id='subgraph', level=1, node=<pyiron_workflow.simple_workflow.Node object at 0x317b26ba0>, graph=None, node_type='node', widget_type='customNode', expanded=False)\n",
      "node:  Volume GraphNode(id='Volume', import_path='pyiron_nodes.atomistic.structure.calc.Volume', label='Volume', parent_id='subgraph', level=1, node=<pyiron_workflow.simple_workflow.Node object at 0x317b555b0>, graph=None, node_type='node', widget_type='customNode', expanded=False)\n",
      "node:  ThreadPoolExecutor GraphNode(id='ThreadPoolExecutor', import_path='pyiron_nodes.executors.ThreadPoolExecutor', label='ThreadPoolExecutor', parent_id=None, level=0, node=<pyiron_workflow.simple_workflow.Node object at 0x317b55640>, graph=None, node_type='node', widget_type='customNode', expanded=False)\n",
      "node:  IterNode GraphNode(id='IterNode', import_path='pyiron_nodes.executors.IterNode', label='IterNode', parent_id=None, level=0, node=<pyiron_workflow.simple_workflow.Node object at 0x317b56ba0>, graph=None, node_type='node', widget_type='customNode', expanded=False)\n",
      "node:  SingleNodeExecutor GraphNode(id='SingleNodeExecutor', import_path='pyiron_nodes.executors.SingleNodeExecutor', label='SingleNodeExecutor', parent_id=None, level=0, node=<pyiron_workflow.simple_workflow.Node object at 0x317b557c0>, graph=None, node_type='node', widget_type='customNode', expanded=False)\n",
      "node:  Linspace GraphNode(id='Linspace', import_path='pyiron_nodes.math.Linspace', label='Linspace', parent_id=None, level=0, node=<pyiron_workflow.simple_workflow.Node object at 0x317b55730>, graph=None, node_type='node', widget_type='customNode', expanded=False)\n",
      "node:  subgraph GraphNode(id='subgraph', import_path=None, label='subgraph', parent_id=None, level=0, node=<pyiron_workflow.simple_workflow.Node object at 0x317ba2f00>, graph=Graph(id=None, label='subgraph', root_node=None, nodes=NestedDict({'Bulk': GraphNode(id='Bulk', import_path='pyiron_nodes.atomistic.structure.build.Bulk', label='Bulk', parent_id=None, level=0, node=<pyiron_workflow.simple_workflow.Node object at 0x317b26ba0>, graph=None, node_type='node', widget_type='customNode', expanded=False), 'Volume': GraphNode(id='Volume', import_path='pyiron_nodes.atomistic.structure.calc.Volume', label='Volume', parent_id=None, level=0, node=<pyiron_workflow.simple_workflow.Node object at 0x317b555b0>, graph=None, node_type='node', widget_type='customNode', expanded=False)}), edges=[GraphEdge(source='Bulk', target='Volume', sourceHandle='structure', targetHandle='structure')], graph={}), node_type='graph', widget_type='customNode', expanded=False)\n",
      "node:  va_i_subgraph__Bulk__name GraphNode(id='va_i_subgraph__Bulk__name', import_path='pyiron_workflow.graph.base.identity', label='va_i_subgraph__Bulk__name', parent_id='subgraph', level=0, node=<pyiron_workflow.simple_workflow.Node object at 0x317ba08f0>, graph=None, node_type='node', widget_type='customNode', expanded=False)\n",
      "node:  va_i_subgraph__Bulk__a GraphNode(id='va_i_subgraph__Bulk__a', import_path='pyiron_workflow.graph.base.identity', label='va_i_subgraph__Bulk__a', parent_id='subgraph', level=0, node=<pyiron_workflow.simple_workflow.Node object at 0x317ba1490>, graph=None, node_type='node', widget_type='customNode', expanded=False)\n",
      "node:  va_i_subgraph__Bulk__cubic GraphNode(id='va_i_subgraph__Bulk__cubic', import_path='pyiron_workflow.graph.base.identity', label='va_i_subgraph__Bulk__cubic', parent_id='subgraph', level=0, node=<pyiron_workflow.simple_workflow.Node object at 0x317ba1be0>, graph=None, node_type='node', widget_type='customNode', expanded=False)\n",
      "node:  va_o_subgraph__Volume__volume GraphNode(id='va_o_subgraph__Volume__volume', import_path='pyiron_workflow.graph.base.identity', label='va_o_subgraph__Volume__volume', parent_id='subgraph', level=0, node=<pyiron_workflow.simple_workflow.Node object at 0x317b09280>, graph=None, node_type='node', widget_type='customNode', expanded=False)\n",
      "['subgraph']\n"
     ]
    },
    {
     "data": {
      "text/plain": [
       "Graph(id=None, label='executor3', root_node=None, nodes=Nodes({'subgraph': GraphNode(id='subgraph', import_path=None, label='subgraph', parent_id=None, level=0, node=<pyiron_workflow.simple_workflow.Node object at 0x317ba2f00>, graph=Graph(id=None, label='subgraph', root_node=None, nodes=NestedDict({'Bulk': GraphNode(id='Bulk', import_path='pyiron_nodes.atomistic.structure.build.Bulk', label='Bulk', parent_id=None, level=0, node=<pyiron_workflow.simple_workflow.Node object at 0x317b26ba0>, graph=None, node_type='node', widget_type='customNode', expanded=False), 'Volume': GraphNode(id='Volume', import_path='pyiron_nodes.atomistic.structure.calc.Volume', label='Volume', parent_id=None, level=0, node=<pyiron_workflow.simple_workflow.Node object at 0x317b555b0>, graph=None, node_type='node', widget_type='customNode', expanded=False)}), edges=[GraphEdge(source='Bulk', target='Volume', sourceHandle='structure', targetHandle='structure')], graph={}), node_type='graph', widget_type='customNode', expanded=False), 'Bulk': GraphNode(id='Bulk', import_path='pyiron_nodes.atomistic.structure.build.Bulk', label='Bulk', parent_id='subgraph', level=1, node=<pyiron_workflow.simple_workflow.Node object at 0x317b26ba0>, graph=None, node_type='node', widget_type='customNode', expanded=False), 'Volume': GraphNode(id='Volume', import_path='pyiron_nodes.atomistic.structure.calc.Volume', label='Volume', parent_id='subgraph', level=1, node=<pyiron_workflow.simple_workflow.Node object at 0x317b555b0>, graph=None, node_type='node', widget_type='customNode', expanded=False), 'ThreadPoolExecutor': GraphNode(id='ThreadPoolExecutor', import_path='pyiron_nodes.executors.ThreadPoolExecutor', label='ThreadPoolExecutor', parent_id=None, level=0, node=<pyiron_workflow.simple_workflow.Node object at 0x317b55640>, graph=None, node_type='node', widget_type='customNode', expanded=False), 'IterNode': GraphNode(id='IterNode', import_path='pyiron_nodes.executors.IterNode', label='IterNode', parent_id=None, level=0, node=<pyiron_workflow.simple_workflow.Node object at 0x317b56ba0>, graph=None, node_type='node', widget_type='customNode', expanded=False), 'SingleNodeExecutor': GraphNode(id='SingleNodeExecutor', import_path='pyiron_nodes.executors.SingleNodeExecutor', label='SingleNodeExecutor', parent_id=None, level=0, node=<pyiron_workflow.simple_workflow.Node object at 0x317b557c0>, graph=None, node_type='node', widget_type='customNode', expanded=False), 'Linspace': GraphNode(id='Linspace', import_path='pyiron_nodes.math.Linspace', label='Linspace', parent_id=None, level=0, node=<pyiron_workflow.simple_workflow.Node object at 0x317b55730>, graph=None, node_type='node', widget_type='customNode', expanded=False), 'va_i_subgraph__Bulk__name': GraphNode(id='va_i_subgraph__Bulk__name', import_path='pyiron_workflow.graph.base.identity', label='va_i_subgraph__Bulk__name', parent_id='subgraph', level=0, node=<pyiron_workflow.simple_workflow.Node object at 0x317ba08f0>, graph=None, node_type='node', widget_type='customNode', expanded=False), 'va_i_subgraph__Bulk__a': GraphNode(id='va_i_subgraph__Bulk__a', import_path='pyiron_workflow.graph.base.identity', label='va_i_subgraph__Bulk__a', parent_id='subgraph', level=0, node=<pyiron_workflow.simple_workflow.Node object at 0x317ba1490>, graph=None, node_type='node', widget_type='customNode', expanded=False), 'va_i_subgraph__Bulk__cubic': GraphNode(id='va_i_subgraph__Bulk__cubic', import_path='pyiron_workflow.graph.base.identity', label='va_i_subgraph__Bulk__cubic', parent_id='subgraph', level=0, node=<pyiron_workflow.simple_workflow.Node object at 0x317ba1be0>, graph=None, node_type='node', widget_type='customNode', expanded=False), 'va_o_subgraph__Volume__volume': GraphNode(id='va_o_subgraph__Volume__volume', import_path='pyiron_workflow.graph.base.identity', label='va_o_subgraph__Volume__volume', parent_id='subgraph', level=0, node=<pyiron_workflow.simple_workflow.Node object at 0x317b09280>, graph=None, node_type='node', widget_type='customNode', expanded=False)}), edges=[GraphEdge(source='Bulk', target='Volume', sourceHandle='structure', targetHandle='structure'), GraphEdge(source='va_o_subgraph__Volume__volume', target='IterNode', sourceHandle='x', targetHandle='node'), GraphEdge(source='ThreadPoolExecutor', target='IterNode', sourceHandle='Executor', targetHandle='Executor'), GraphEdge(source='Linspace', target='IterNode', sourceHandle='linspace', targetHandle='kwarg_list'), GraphEdge(source='va_i_subgraph__Bulk__name', target='Bulk', sourceHandle='x', targetHandle='name'), GraphEdge(source='va_i_subgraph__Bulk__a', target='Bulk', sourceHandle='x', targetHandle='a'), GraphEdge(source='va_i_subgraph__Bulk__cubic', target='Bulk', sourceHandle='x', targetHandle='cubic'), GraphEdge(source='Volume', target='va_o_subgraph__Volume__volume', sourceHandle='volume', targetHandle='x')], graph={})"
      ]
     },
     "execution_count": 96,
     "metadata": {},
     "output_type": "execute_result"
    }
   ],
   "source": [
    "base.create_group(pf.graph, node_ids)#.nodes[\"subgraph\"].nodes"
   ]
  },
  {
   "cell_type": "code",
   "execution_count": 97,
   "id": "14e2f0b4-e604-4046-8a5f-61e44de6d22e",
   "metadata": {},
   "outputs": [
    {
     "name": "stdout",
     "output_type": "stream",
     "text": [
      "\n",
      "def executor3(name: str, a: int = None, cubic: bool = False, x_min: float = 0, x_max: float = 0, num_points: int = 50, kwarg_name: str):\n",
      "\n",
      "    from pyiron_workflow import Workflow\n",
      "    import pyiron_nodes\n",
      "\n",
      "    wf = Workflow('executor3')\n",
      "\n",
      "    wf.Bulk = pyiron_nodes.atomistic.structure.build.Bulk(name=name, a=a, cubic=cubic) \n",
      "    wf.ThreadPoolExecutor = pyiron_nodes.executors.ThreadPoolExecutor() \n",
      "    wf.SingleNodeExecutor = pyiron_nodes.executors.SingleNodeExecutor() \n",
      "    wf.Linspace = pyiron_nodes.math.Linspace(x_min=x_min, x_max=x_max, num_points=num_points) \n",
      "    wf.Volume = pyiron_nodes.atomistic.structure.calc.Volume(structure=wf.Bulk) \n",
      "    wf.IterNode = pyiron_nodes.executors.IterNode(node=wf.Volume, Executor=wf.ThreadPoolExecutor, kwarg_list=wf.Linspace, kwarg_name=kwarg_name) \n",
      "\n",
      "    return wf.SingleNodeExecutor.outputs.Executor, wf.IterNode.outputs.df\n",
      "\n"
     ]
    }
   ],
   "source": [
    "selected_nodes = [\"Bulk\", \"Volume\"]\n",
    "node_ids = base._node_labels_to_node_ids(pf.graph, selected_nodes)\n",
    "\n",
    "# print(get_code_from_graph1(pf.graph))\n",
    "# NameError: name 'get_code_from_graph1' is not defined\n",
    "\n",
    "# the one from the library should be ok instead\n",
    "print(base.get_code_from_graph(pf.graph))"
   ]
  },
  {
   "cell_type": "code",
   "execution_count": 98,
   "id": "c5cf4a6e-e742-49b0-b2c5-8a26af387757",
   "metadata": {},
   "outputs": [],
   "source": [
    "# print(get_code_from_graph(graph, use_node_default=False))\n",
    "\n",
    "# It looks like the library method `base.get_code_from_graph` was developed here earlier\n",
    "# We can skip these dead calls without any loss"
   ]
  },
  {
   "cell_type": "code",
   "execution_count": 99,
   "id": "e12c420f-1f00-452f-8d7b-17ef029db7ab",
   "metadata": {},
   "outputs": [
    {
     "data": {
      "text/plain": [
       "16.60753125"
      ]
     },
     "execution_count": 99,
     "metadata": {},
     "output_type": "execute_result"
    }
   ],
   "source": [
    "from pyiron_workflow import as_macro_node\n",
    "\n",
    "@as_macro_node(\"out\")\n",
    "def subgraph(Bulk__name: str = \"Al\"):\n",
    "\n",
    "    from pyiron_workflow import Workflow\n",
    "    import pyiron_nodes\n",
    "\n",
    "    wf = Workflow('subgraph')\n",
    "\n",
    "    wf.Bulk = pyiron_nodes.atomistic.structure.build.Bulk(name=Bulk__name)\n",
    "    wf.Volume = pyiron_nodes.atomistic.structure.calc.Volume(structure=wf.Bulk)\n",
    "\n",
    "    return wf.Volume\n",
    "\n",
    "subgraph()(Bulk__name=\"Al\")"
   ]
  },
  {
   "cell_type": "code",
   "execution_count": 100,
   "id": "93d66a5b-f60a-4e99-a6c5-12768b5a6819",
   "metadata": {},
   "outputs": [
    {
     "data": {
      "text/plain": [
       "'macro_node'"
      ]
     },
     "execution_count": 100,
     "metadata": {},
     "output_type": "execute_result"
    }
   ],
   "source": [
    "subgraph().node_type"
   ]
  },
  {
   "cell_type": "code",
   "execution_count": 101,
   "id": "b75c61cd-a003-4641-9994-fc307b9a2756",
   "metadata": {},
   "outputs": [
    {
     "data": {
      "text/plain": [
       "[('Bulk', 'name'),\n",
       " ('Bulk', 'a'),\n",
       " ('Bulk', 'cubic'),\n",
       " ('Linspace', 'x_min'),\n",
       " ('Linspace', 'x_max'),\n",
       " ('Linspace', 'num_points'),\n",
       " ('Volume', 'structure'),\n",
       " ('IterNode', 'node'),\n",
       " ('IterNode', 'kwarg_name'),\n",
       " ('IterNode', 'kwarg_list'),\n",
       " ('IterNode', 'Executor')]"
      ]
     },
     "execution_count": 101,
     "metadata": {},
     "output_type": "execute_result"
    }
   ],
   "source": [
    "graph = pf.graph\n",
    "graph = base.topological_sort(graph)\n",
    "\n",
    "base.get_non_default_input(graph, flatten=True)"
   ]
  },
  {
   "cell_type": "code",
   "execution_count": 102,
   "id": "4a7f81e4-bffd-461c-8e3c-ee927cfba59c",
   "metadata": {},
   "outputs": [
    {
     "name": "stdout",
     "output_type": "stream",
     "text": [
      "def subgraph(Bulk__name: str = \"Al\", Bulk__a: int = 2, Bulk__cubic: bool = True):\n",
      "\n",
      "    from pyiron_workflow import Workflow\n",
      "    wf = Workflow('subgraph')\n",
      "\n",
      "    from pyiron_nodes.atomistic.structure.build import Bulk\n",
      "    wf.Bulk = Bulk(name=Bulk__name, a=Bulk__a, cubic=Bulk__cubic)\n",
      "    from pyiron_nodes.atomistic.structure.calc import Volume\n",
      "    wf.Volume = Volume(structure=wf.Bulk)\n",
      "\n",
      "    return wf.Volume\n",
      "\n"
     ]
    }
   ],
   "source": [
    "import importlib\n",
    "\n",
    "import importlib\n",
    "from pyiron_workflow.graph import to_code\n",
    "\n",
    "# Reload the module\n",
    "importlib.reload(to_code)\n",
    "\n",
    "from pyiron_workflow.graph.to_code import get_code_from_graph\n",
    "\n",
    "print(get_code_from_graph(f, use_node_default=False))"
   ]
  },
  {
   "cell_type": "code",
   "execution_count": 103,
   "id": "509f346d-d2b1-4c52-91f6-df3c4163f85b",
   "metadata": {},
   "outputs": [
    {
     "data": {
      "text/plain": [
       "'def f(arg: str = \"\") -> None: ...\\n'"
      ]
     },
     "execution_count": 103,
     "metadata": {},
     "output_type": "execute_result"
    }
   ],
   "source": [
    "import black\n",
    "\n",
    "# black.format_str()\n",
    "# TypeError: format_str() missing 1 required positional argument: 'src_contents'\n",
    "\n",
    "# Just feed it something\n",
    "black.format_str(\"def f(arg:str='')->None:...\", mode=black.Mode())"
   ]
  },
  {
   "cell_type": "code",
   "execution_count": 104,
   "id": "48ccd73e-0572-4946-a970-97c24af6f24d",
   "metadata": {},
   "outputs": [
    {
     "name": "stdout",
     "output_type": "stream",
     "text": [
      "def linearfit2(ReadPickledDatasetAsDataframe__file_path: str = \"mgca.pckl.tgz\"):\n",
      "\n",
      "    from pyiron_workflow import Workflow\n",
      "\n",
      "    wf = Workflow(\"linearfit2\")\n",
      "\n",
      "    from pyiron_nodes.atomistic.ml_potentials.fitting.linearfit import (\n",
      "        ParameterizePotentialConfig,\n",
      "    )\n",
      "\n",
      "    wf.ParameterizePotentialConfig = ParameterizePotentialConfig()\n",
      "    from pyiron_nodes.atomistic.ml_potentials.fitting.linearfit import (\n",
      "        SplitTrainingAndTesting,\n",
      "    )\n",
      "\n",
      "    wf.SplitTrainingAndTesting = SplitTrainingAndTesting(\n",
      "        data_df=wf.ReadPickledDatasetAsDataframe\n",
      "    )\n",
      "    from pyiron_nodes.atomistic.ml_potentials.fitting.linearfit import RunLinearFit\n",
      "\n",
      "    wf.RunLinearFit = RunLinearFit(\n",
      "        df_test=wf.SplitTrainingAndTesting.outputs.df_testing,\n",
      "        df_train=wf.SplitTrainingAndTesting.outputs.df_training,\n",
      "        potential_config=wf.ParameterizePotentialConfig,\n",
      "    )\n",
      "    from pyiron_nodes.atomistic.ml_potentials.fitting.linearfit import (\n",
      "        ReadPickledDatasetAsDataframe,\n",
      "    )\n",
      "\n",
      "    wf.ReadPickledDatasetAsDataframe = ReadPickledDatasetAsDataframe(\n",
      "        file_path=ReadPickledDatasetAsDataframe__file_path\n",
      "    )\n",
      "    from pyiron_nodes.atomistic.ml_potentials.fitting.linearfit import (\n",
      "        PlotEnergyFittingCurve,\n",
      "    )\n",
      "\n",
      "    wf.PlotEnergyFittingCurve = PlotEnergyFittingCurve(\n",
      "        data_dict=wf.PredictEnergiesAndForces\n",
      "    )\n",
      "    from pyiron_nodes.atomistic.ml_potentials.fitting.linearfit import (\n",
      "        PredictEnergiesAndForces,\n",
      "    )\n",
      "\n",
      "    wf.PredictEnergiesAndForces = PredictEnergiesAndForces(\n",
      "        basis=wf.RunLinearFit,\n",
      "        df_train=wf.SplitTrainingAndTesting.outputs.df_training,\n",
      "        df_test=wf.SplitTrainingAndTesting.outputs.df_testing,\n",
      "    )\n",
      "\n",
      "    return wf.PlotEnergyFittingCurve\n",
      "\n"
     ]
    }
   ],
   "source": [
    "mode = black.Mode()\n",
    "\n",
    "# print(black.format_str(get_code_from_graph(pf.graph), mode=mode))\n",
    "#  ValueError: Macro works only for single output node.\n",
    "\n",
    "# Per https://github.com/JNmpi/pyiron_core/issues/33, this is not \"macros\"\n",
    "# This is some part of the auto-parser (also used for grouping subgraphs) only accepting single returns\n",
    "# True macros can indeed return multiple items\n",
    "# Let's select a graph where this might work and try again\n",
    "\n",
    "select_graph_by_name(pf, \"linearfit2\")\n",
    "print(black.format_str(get_code_from_graph(pf.graph), mode=mode))"
   ]
  },
  {
   "cell_type": "code",
   "execution_count": 105,
   "id": "d610b853-34ae-4c73-834b-f5b4fe6b530b",
   "metadata": {},
   "outputs": [
    {
     "name": "stderr",
     "output_type": "stream",
     "text": [
      "DEBUG:pyiron_log:Not supported parameter used!\n",
      "DEBUG:pyiron_log:Not supported parameter used!\n",
      "DEBUG:pyiron_log:Not supported parameter used!\n",
      "/Users/liamhuber/dev/miniforge3/envs/pycor12/lib/python3.12/site-packages/ase/io/lammpsdata.py:49: FutureWarning: \"style\" is deprecated; please use \"atom_style\".\n",
      "  warnings.warn(\n",
      "DEBUG:pyiron_log:Not supported parameter used!\n",
      "/Users/liamhuber/dev/miniforge3/envs/pycor12/lib/python3.12/site-packages/ase/io/lammpsdata.py:49: FutureWarning: \"style\" is deprecated; please use \"atom_style\".\n",
      "  warnings.warn(\n"
     ]
    },
    {
     "data": {
      "image/png": "[encoded data removed]",
      "text/plain": [
       "<Figure size 640x480 with 1 Axes>"
      ]
     },
     "metadata": {},
     "output_type": "display_data"
    },
    {
     "data": {
      "text/plain": [
       "(368.0, None)"
      ]
     },
     "execution_count": 105,
     "metadata": {},
     "output_type": "execute_result"
    }
   ],
   "source": [
    "import pyiron_nodes\n",
    "\n",
    "from pyiron_nodes.atomistic.property import calphy as pn_calphy\n",
    "# Without this, when I try to reference pyiron_nodes.atomistic.property.calphy.X`, I get\n",
    "# AttributeError: module 'pyiron_nodes.atomistic.property' has no attribute 'calphy'\n",
    "# This must just be something with the init files not registering modules nicely over in pyiron_nodes\n",
    "# My notebook is highlighting `property` as a python keyword, so maybe there is some conflict that \n",
    "# confuses things?\n",
    "# Still, we never need to actually use pn_calphy, just completing the import is enough\n",
    "\n",
    "\n",
    "wf = Workflow('calphy2')\n",
    "\n",
    "element = \"Al\"\n",
    "cell_size = 3\n",
    "solid_fraction = 0\n",
    "\n",
    "wf.CubicBulkCell = pyiron_nodes.atomistic.structure.build.CubicBulkCell(element=element, cell_size=cell_size) \n",
    "wf.Potential = pyiron_nodes.atomistic.engine.lammps.Potential(structure=wf.CubicBulkCell) \n",
    "\n",
    "wf.Tolerance = pyiron_nodes.atomistic.property.calphy.Tolerance(solid_fraction=solid_fraction) \n",
    "wf.InputClass = pyiron_nodes.atomistic.property.calphy.InputClass() \n",
    "wf.InputClass_1 = pyiron_nodes.atomistic.property.calphy.InputClass(tolerance=wf.Tolerance) \n",
    "wf.SolidFreeEnergyWithTemperature = pyiron_nodes.atomistic.property.calphy.SolidFreeEnergyWithTemperature(structure=wf.CubicBulkCell, potential=wf.Potential, inp=wf.InputClass_1, store=False) \n",
    "wf.LiquidFreeEnergyWithTemperature = pyiron_nodes.atomistic.property.calphy.LiquidFreeEnergyWithTemperature(potential=wf.Potential, structure=wf.CubicBulkCell, inp=wf.InputClass, store=False) \n",
    "wf.CalculatePhaseTransformationTemperature = pyiron_nodes.atomistic.property.calphy.CalculatePhaseTransformationTemperature(t1=wf.SolidFreeEnergyWithTemperature.outputs.t, \n",
    "                                                                                                                            f1=wf.SolidFreeEnergyWithTemperature.outputs.f, \n",
    "                                                                                                                            t2=wf.LiquidFreeEnergyWithTemperature.outputs.t, \n",
    "                                                                                                                            f2=wf.LiquidFreeEnergyWithTemperature.outputs.f) \n",
    "\n",
    "wf.CalculatePhaseTransformationTemperature.pull()\n",
    "\n",
    "# ValueError: Was not able to locate the potential files in ResolverChain(ResourceResolver([], 'lammps''potentials'), ResourceResolver(['/Users/liamhuber/dev/miniforge3/envs/pycor12'], 'share''iprpy'))!\n",
    "# Looks like we need to include some potentials in the repo"
   ]
  },
  {
   "cell_type": "code",
   "execution_count": 106,
   "id": "d17b1f56-35fd-4a33-aa4e-fdada4d4d3a5",
   "metadata": {},
   "outputs": [],
   "source": [
    "from pyiron_workflow.graph.base import get_full_graph_from_wf, get_updated_graph, pull_node, _load_graph"
   ]
  },
  {
   "cell_type": "code",
   "execution_count": 107,
   "id": "1cc374f9-d2c6-4e80-8dd7-0a81656d7406",
   "metadata": {},
   "outputs": [
    {
     "name": "stderr",
     "output_type": "stream",
     "text": [
      "DEBUG:pyiron_log:Not supported parameter used!\n",
      "DEBUG:pyiron_log:Not supported parameter used!\n",
      "DEBUG:pyiron_log:Not supported parameter used!\n"
     ]
    },
    {
     "name": "stdout",
     "output_type": "stream",
     "text": [
      "Adding macro node CubicBulkCell\n",
      "Expanding node CubicBulkCell\n",
      "Running node bulk\n",
      "Running node InputClass\n",
      "Running node repeat\n",
      "Running node vacancy\n",
      "Running node Potential\n",
      "Running node LiquidFreeEnergyWithTemperature\n"
     ]
    },
    {
     "name": "stderr",
     "output_type": "stream",
     "text": [
      "/Users/liamhuber/dev/miniforge3/envs/pycor12/lib/python3.12/site-packages/ase/io/lammpsdata.py:49: FutureWarning: \"style\" is deprecated; please use \"atom_style\".\n",
      "  warnings.warn(\n"
     ]
    },
    {
     "data": {
      "text/plain": [
       "(array([300.        , 300.060012  , 300.12004802, ..., 599.52038369,\n",
       "        599.76009596, 600.        ]),\n",
       " array([-3.37725785, -3.37728642, -3.37731502, ..., -3.55127237,\n",
       "        -3.55142784, -3.55158347]))"
      ]
     },
     "execution_count": 107,
     "metadata": {},
     "output_type": "execute_result"
    }
   ],
   "source": [
    "# # graph = full_graph = get_full_graph_from_wf(wf)\n",
    "# graph = _load_graph(\"calphy2.json\")\n",
    "# Loading still doesn't work: https://github.com/JNmpi/pyiron_core/issues/52\n",
    "# Let's use the commented-out running of the workflow we made here\n",
    "graph = base.get_full_graph_from_wf(wf)\n",
    "\n",
    "\n",
    "base.pull_node(base.get_updated_graph(graph), \"LiquidFreeEnergyWithTemperature\")"
   ]
  },
  {
   "cell_type": "markdown",
   "id": "590036c5-5cad-4bad-a29a-682f40ccb3cc",
   "metadata": {},
   "source": [
    "critical feature:\n",
    "- executorlib must be able to run single node or (sub)-workflow\n",
    "- executorlib is a task manager (not a workflow executor)\n",
    "- library stack:\n",
    "    - workflow_creator\n",
    "    - workflow_executor\n",
    "    - executor_lib\n",
    "- application:\n",
    "    - exec.submit(node)  "
   ]
  },
  {
   "cell_type": "code",
   "execution_count": 108,
   "id": "f4e11286-73fe-4201-b6ad-a40acdb38c47",
   "metadata": {},
   "outputs": [],
   "source": [
    "from pyiron_workflow import as_macro_node\n",
    "\n",
    "\n",
    "@as_macro_node(\"transition_temperature\")\n",
    "def calphy2(element: str, cell_size: int = 1, solid_fraction: float = 0.7):\n",
    "\n",
    "    from pyiron_workflow import Workflow\n",
    "    import pyiron_nodes\n",
    "\n",
    "    wf = Workflow('calphy2')\n",
    "\n",
    "    wf.CubicBulkCell = pyiron_nodes.atomistic.structure.build.CubicBulkCell(element=element, cell_size=cell_size) \n",
    "    wf.Tolerance = pyiron_nodes.atomistic.property.calphy.Tolerance(solid_fraction=solid_fraction) \n",
    "    wf.InputClass = pyiron_nodes.atomistic.property.calphy.InputClass() \n",
    "    wf.Potential = pyiron_nodes.atomistic.engine.lammps.Potential(structure=wf.CubicBulkCell) \n",
    "    wf.InputClass_1 = pyiron_nodes.atomistic.property.calphy.InputClass(tolerance=wf.Tolerance) \n",
    "    wf.LiquidFreeEnergyWithTemperature = pyiron_nodes.atomistic.property.calphy.LiquidFreeEnergyWithTemperature(potential=wf.Potential, structure=wf.CubicBulkCell, inp=wf.InputClass) \n",
    "    wf.SolidFreeEnergyWithTemperature = pyiron_nodes.atomistic.property.calphy.SolidFreeEnergyWithTemperature(structure=wf.CubicBulkCell, potential=wf.Potential, inp=wf.InputClass_1) \n",
    "    wf.CalculatePhaseTransformationTemperature = pyiron_nodes.atomistic.property.calphy.CalculatePhaseTransformationTemperature(t1=wf.SolidFreeEnergyWithTemperature.outputs.t, f1=wf.SolidFreeEnergyWithTemperature.outputs.f, t2=wf.LiquidFreeEnergyWithTemperature.outputs.t, f2=wf.LiquidFreeEnergyWithTemperature.outputs.f) \n",
    "\n",
    "    return wf.CalculatePhaseTransformationTemperature# .outputs.transition_temp #, wf.CalculatePhaseTransformationTemperature.outputs.plot\n",
    "\n",
    "    "
   ]
  },
  {
   "cell_type": "markdown",
   "id": "41ab2644-7b49-47be-9954-af31b8210b4b",
   "metadata": {},
   "source": [
    "It appears that macro of a macro does not work\n",
    "- check!!"
   ]
  },
  {
   "cell_type": "markdown",
   "id": "4baeecdc-ff90-4a16-925d-3a9a255d3cd5",
   "metadata": {},
   "source": [
    "It does now! Calphy runs are costly, so we demo this separately now\n",
    "\n",
    "Aside on macros within macros:"
   ]
  },
  {
   "cell_type": "code",
   "execution_count": 109,
   "id": "0af6debf-aceb-47be-980c-21771ba5d82f",
   "metadata": {},
   "outputs": [
    {
     "data": {
      "text/plain": [
       "2"
      ]
     },
     "execution_count": 109,
     "metadata": {},
     "output_type": "execute_result"
    }
   ],
   "source": [
    "import pyiron_workflow as pwf\n",
    "\n",
    "@pwf.as_function_node\n",
    "def AddOne(x):\n",
    "    y = x + 1\n",
    "    return y\n",
    "    \n",
    "@pwf.as_macro_node([\"y\"])\n",
    "def AddTwo(x):\n",
    "    wf = pwf.Workflow(\"add_two_subgraph\")\n",
    "    wf.n1 = AddOne(x)\n",
    "    wf.n2 = AddOne(wf.n1)\n",
    "    return wf.n2\n",
    "\n",
    "@pwf.as_macro_node([\"y\"])\n",
    "def AddThree(x):\n",
    "    wf = pwf.Workflow(\"add_three_subgraph\")\n",
    "    wf.n1 = AddOne(x)\n",
    "    wf.n2 = AddTwo(x)\n",
    "    return wf.n2\n",
    "\n",
    "wf = pwf.Workflow(\"nested_macro_demo\")\n",
    "wf.nested = AddThree(0)\n",
    "wf.run()"
   ]
  },
  {
   "cell_type": "markdown",
   "id": "1eeef875-68f1-4ce4-ad4e-6032d78361fc",
   "metadata": {},
   "source": [
    "Note that nesting graph groups is currently still problematic: https://github.com/JNmpi/pyiron_core/issues/50\n",
    "\n",
    "End aside on macros within macros"
   ]
  },
  {
   "cell_type": "code",
   "execution_count": 110,
   "id": "deea2921-1258-4114-8b70-8a26ed59be30",
   "metadata": {},
   "outputs": [],
   "source": [
    "@as_macro_node(\"transition_temperature\")\n",
    "def calphy2(element: str, cell_size: int = 1, solid_fraction: float = 0.7):\n",
    "\n",
    "    from pyiron_workflow import Workflow\n",
    "    import pyiron_nodes\n",
    "\n",
    "    wf = Workflow('calphy2')\n",
    "\n",
    "    # wf.CubicBulkCell = pyiron_nodes.atomistic.structure.build.Bulk(\"Al\") # CubicBulkCell(element=element, cell_size=cell_size) \n",
    "    wf.CubicBulkCell = pyiron_nodes.atomistic.structure.build.CubicBulkCell(element=element, cell_size=cell_size)\n",
    "\n",
    "    return wf.CubicBulkCell"
   ]
  },
  {
   "cell_type": "code",
   "execution_count": 111,
   "id": "2fb7f83c-5ff7-41b5-b8ea-952b35b7f924",
   "metadata": {},
   "outputs": [
    {
     "name": "stdout",
     "output_type": "stream",
     "text": [
      "Adding macro node CubicBulkCell\n"
     ]
    },
    {
     "data": {
      "text/html": [
       "<div>\n",
       "<style scoped>\n",
       "    .dataframe tbody tr th:only-of-type {\n",
       "        vertical-align: middle;\n",
       "    }\n",
       "\n",
       "    .dataframe tbody tr th {\n",
       "        vertical-align: top;\n",
       "    }\n",
       "\n",
       "    .dataframe thead th {\n",
       "        text-align: right;\n",
       "    }\n",
       "</style>\n",
       "<table border=\"1\" class=\"dataframe\">\n",
       "  <thead>\n",
       "    <tr style=\"text-align: right;\">\n",
       "      <th></th>\n",
       "      <th>id</th>\n",
       "      <th>import_path</th>\n",
       "      <th>label</th>\n",
       "      <th>parent_id</th>\n",
       "      <th>level</th>\n",
       "      <th>node</th>\n",
       "      <th>graph</th>\n",
       "      <th>node_type</th>\n",
       "      <th>widget_type</th>\n",
       "      <th>expanded</th>\n",
       "    </tr>\n",
       "  </thead>\n",
       "  <tbody>\n",
       "    <tr>\n",
       "      <th>0</th>\n",
       "      <td>CubicBulkCell</td>\n",
       "      <td>pyiron_nodes.atomistic.structure.build.CubicBu...</td>\n",
       "      <td>CubicBulkCell</td>\n",
       "      <td>None</td>\n",
       "      <td>0</td>\n",
       "      <td>&lt;pyiron_workflow.simple_workflow.Node object a...</td>\n",
       "      <td>Graph(id='CubicBulkCell', label='CubicBulkCell...</td>\n",
       "      <td>graph</td>\n",
       "      <td>customNode</td>\n",
       "      <td>True</td>\n",
       "    </tr>\n",
       "    <tr>\n",
       "      <th>1</th>\n",
       "      <td>va_i_CubicBulkCell__element</td>\n",
       "      <td>pyiron_workflow.graph.base.identity</td>\n",
       "      <td>va_i_CubicBulkCell__element</td>\n",
       "      <td>CubicBulkCell</td>\n",
       "      <td>1</td>\n",
       "      <td>&lt;pyiron_workflow.simple_workflow.Node object a...</td>\n",
       "      <td>None</td>\n",
       "      <td>node</td>\n",
       "      <td>customNode</td>\n",
       "      <td>False</td>\n",
       "    </tr>\n",
       "    <tr>\n",
       "      <th>2</th>\n",
       "      <td>va_i_CubicBulkCell__cell_size</td>\n",
       "      <td>pyiron_workflow.graph.base.identity</td>\n",
       "      <td>va_i_CubicBulkCell__cell_size</td>\n",
       "      <td>CubicBulkCell</td>\n",
       "      <td>1</td>\n",
       "      <td>&lt;pyiron_workflow.simple_workflow.Node object a...</td>\n",
       "      <td>None</td>\n",
       "      <td>node</td>\n",
       "      <td>customNode</td>\n",
       "      <td>False</td>\n",
       "    </tr>\n",
       "    <tr>\n",
       "      <th>3</th>\n",
       "      <td>va_i_CubicBulkCell__vacancy_index</td>\n",
       "      <td>pyiron_workflow.graph.base.identity</td>\n",
       "      <td>va_i_CubicBulkCell__vacancy_index</td>\n",
       "      <td>CubicBulkCell</td>\n",
       "      <td>1</td>\n",
       "      <td>&lt;pyiron_workflow.simple_workflow.Node object a...</td>\n",
       "      <td>None</td>\n",
       "      <td>node</td>\n",
       "      <td>customNode</td>\n",
       "      <td>False</td>\n",
       "    </tr>\n",
       "    <tr>\n",
       "      <th>4</th>\n",
       "      <td>bulk</td>\n",
       "      <td>pyiron_nodes.atomistic.structure.build.Bulk</td>\n",
       "      <td>bulk</td>\n",
       "      <td>CubicBulkCell</td>\n",
       "      <td>1</td>\n",
       "      <td>&lt;pyiron_workflow.simple_workflow.Node object a...</td>\n",
       "      <td>None</td>\n",
       "      <td>node</td>\n",
       "      <td>customNode</td>\n",
       "      <td>False</td>\n",
       "    </tr>\n",
       "    <tr>\n",
       "      <th>5</th>\n",
       "      <td>repeat</td>\n",
       "      <td>pyiron_nodes.atomistic.structure.transform.Repeat</td>\n",
       "      <td>repeat</td>\n",
       "      <td>CubicBulkCell</td>\n",
       "      <td>1</td>\n",
       "      <td>&lt;pyiron_workflow.simple_workflow.Node object a...</td>\n",
       "      <td>None</td>\n",
       "      <td>node</td>\n",
       "      <td>customNode</td>\n",
       "      <td>False</td>\n",
       "    </tr>\n",
       "    <tr>\n",
       "      <th>6</th>\n",
       "      <td>vacancy</td>\n",
       "      <td>pyiron_nodes.atomistic.structure.transform.Cre...</td>\n",
       "      <td>vacancy</td>\n",
       "      <td>CubicBulkCell</td>\n",
       "      <td>1</td>\n",
       "      <td>&lt;pyiron_workflow.simple_workflow.Node object a...</td>\n",
       "      <td>None</td>\n",
       "      <td>node</td>\n",
       "      <td>customNode</td>\n",
       "      <td>False</td>\n",
       "    </tr>\n",
       "    <tr>\n",
       "      <th>7</th>\n",
       "      <td>va_o_CubicBulkCell__structure</td>\n",
       "      <td>pyiron_workflow.graph.base.identity</td>\n",
       "      <td>va_o_CubicBulkCell__structure</td>\n",
       "      <td>CubicBulkCell</td>\n",
       "      <td>1</td>\n",
       "      <td>&lt;pyiron_workflow.simple_workflow.Node object a...</td>\n",
       "      <td>None</td>\n",
       "      <td>node</td>\n",
       "      <td>customNode</td>\n",
       "      <td>False</td>\n",
       "    </tr>\n",
       "  </tbody>\n",
       "</table>\n",
       "</div>"
      ],
      "text/plain": [
       "Nodes([('CubicBulkCell',\n",
       "        GraphNode(id='CubicBulkCell', import_path='pyiron_nodes.atomistic.structure.build.CubicBulkCell', label='CubicBulkCell', parent_id=None, level=0, node=<pyiron_workflow.simple_workflow.Node object at 0x31bd19b50>, graph=Graph(id='CubicBulkCell', label='CubicBulkCell', root_node=None, nodes=NestedDict({'va_i_CubicBulkCell__element': GraphNode(id='va_i_CubicBulkCell__element', import_path='pyiron_workflow.graph.base.identity', label='va_i_CubicBulkCell__element', parent_id='CubicBulkCell', level=1, node=<pyiron_workflow.simple_workflow.Node object at 0x3177abaa0>, graph=None, node_type='node', widget_type='customNode', expanded=False), 'va_i_CubicBulkCell__cell_size': GraphNode(id='va_i_CubicBulkCell__cell_size', import_path='pyiron_workflow.graph.base.identity', label='va_i_CubicBulkCell__cell_size', parent_id='CubicBulkCell', level=1, node=<pyiron_workflow.simple_workflow.Node object at 0x3177ab740>, graph=None, node_type='node', widget_type='customNode', expanded=False), 'va_i_CubicBulkCell__vacancy_index': GraphNode(id='va_i_CubicBulkCell__vacancy_index', import_path='pyiron_workflow.graph.base.identity', label='va_i_CubicBulkCell__vacancy_index', parent_id='CubicBulkCell', level=1, node=<pyiron_workflow.simple_workflow.Node object at 0x3177ab410>, graph=None, node_type='node', widget_type='customNode', expanded=False), 'bulk': GraphNode(id='bulk', import_path='pyiron_nodes.atomistic.structure.build.Bulk', label='bulk', parent_id='CubicBulkCell', level=1, node=<pyiron_workflow.simple_workflow.Node object at 0x31bd19ac0>, graph=None, node_type='node', widget_type='customNode', expanded=False), 'repeat': GraphNode(id='repeat', import_path='pyiron_nodes.atomistic.structure.transform.Repeat', label='repeat', parent_id='CubicBulkCell', level=1, node=<pyiron_workflow.simple_workflow.Node object at 0x31bd19be0>, graph=None, node_type='node', widget_type='customNode', expanded=False), 'vacancy': GraphNode(id='vacancy', import_path='pyiron_nodes.atomistic.structure.transform.CreateVacancy', label='vacancy', parent_id='CubicBulkCell', level=1, node=<pyiron_workflow.simple_workflow.Node object at 0x31bd19b20>, graph=None, node_type='node', widget_type='customNode', expanded=False), 'va_o_CubicBulkCell__structure': GraphNode(id='va_o_CubicBulkCell__structure', import_path='pyiron_workflow.graph.base.identity', label='va_o_CubicBulkCell__structure', parent_id='CubicBulkCell', level=1, node=<pyiron_workflow.simple_workflow.Node object at 0x3177aab40>, graph=None, node_type='node', widget_type='customNode', expanded=False)}), edges=[GraphEdge(source='va_i_CubicBulkCell__element', target='bulk', sourceHandle='x', targetHandle='name'), GraphEdge(source='va_i_CubicBulkCell__cell_size', target='repeat', sourceHandle='x', targetHandle='repeat_scalar'), GraphEdge(source='va_i_CubicBulkCell__vacancy_index', target='vacancy', sourceHandle='x', targetHandle='index'), GraphEdge(source='bulk', target='repeat', sourceHandle='structure', targetHandle='structure'), GraphEdge(source='repeat', target='vacancy', sourceHandle='structure', targetHandle='structure'), GraphEdge(source='vacancy', target='va_o_CubicBulkCell__structure', sourceHandle='structure', targetHandle='x')], graph={}), node_type='graph', widget_type='customNode', expanded=True)),\n",
       "       ('va_i_CubicBulkCell__element',\n",
       "        GraphNode(id='va_i_CubicBulkCell__element', import_path='pyiron_workflow.graph.base.identity', label='va_i_CubicBulkCell__element', parent_id='CubicBulkCell', level=1, node=<pyiron_workflow.simple_workflow.Node object at 0x3177abaa0>, graph=None, node_type='node', widget_type='customNode', expanded=False)),\n",
       "       ('va_i_CubicBulkCell__cell_size',\n",
       "        GraphNode(id='va_i_CubicBulkCell__cell_size', import_path='pyiron_workflow.graph.base.identity', label='va_i_CubicBulkCell__cell_size', parent_id='CubicBulkCell', level=1, node=<pyiron_workflow.simple_workflow.Node object at 0x3177ab740>, graph=None, node_type='node', widget_type='customNode', expanded=False)),\n",
       "       ('va_i_CubicBulkCell__vacancy_index',\n",
       "        GraphNode(id='va_i_CubicBulkCell__vacancy_index', import_path='pyiron_workflow.graph.base.identity', label='va_i_CubicBulkCell__vacancy_index', parent_id='CubicBulkCell', level=1, node=<pyiron_workflow.simple_workflow.Node object at 0x3177ab410>, graph=None, node_type='node', widget_type='customNode', expanded=False)),\n",
       "       ('bulk',\n",
       "        GraphNode(id='bulk', import_path='pyiron_nodes.atomistic.structure.build.Bulk', label='bulk', parent_id='CubicBulkCell', level=1, node=<pyiron_workflow.simple_workflow.Node object at 0x31bd19ac0>, graph=None, node_type='node', widget_type='customNode', expanded=False)),\n",
       "       ('repeat',\n",
       "        GraphNode(id='repeat', import_path='pyiron_nodes.atomistic.structure.transform.Repeat', label='repeat', parent_id='CubicBulkCell', level=1, node=<pyiron_workflow.simple_workflow.Node object at 0x31bd19be0>, graph=None, node_type='node', widget_type='customNode', expanded=False)),\n",
       "       ('vacancy',\n",
       "        GraphNode(id='vacancy', import_path='pyiron_nodes.atomistic.structure.transform.CreateVacancy', label='vacancy', parent_id='CubicBulkCell', level=1, node=<pyiron_workflow.simple_workflow.Node object at 0x31bd19b20>, graph=None, node_type='node', widget_type='customNode', expanded=False)),\n",
       "       ('va_o_CubicBulkCell__structure',\n",
       "        GraphNode(id='va_o_CubicBulkCell__structure', import_path='pyiron_workflow.graph.base.identity', label='va_o_CubicBulkCell__structure', parent_id='CubicBulkCell', level=1, node=<pyiron_workflow.simple_workflow.Node object at 0x3177aab40>, graph=None, node_type='node', widget_type='customNode', expanded=False))])"
      ]
     },
     "execution_count": 111,
     "metadata": {},
     "output_type": "execute_result"
    }
   ],
   "source": [
    "graph = base.Graph()\n",
    "graph += pyiron_nodes.atomistic.structure.build.CubicBulkCell(element=\"Al\")\n",
    "graph.nodes"
   ]
  },
  {
   "cell_type": "code",
   "execution_count": 112,
   "id": "a1c7adc6-7d73-4c4c-afef-d3d4df82424f",
   "metadata": {},
   "outputs": [
    {
     "name": "stdout",
     "output_type": "stream",
     "text": [
      "Adding macro node CubicBulkCell\n",
      "Rewiring edge to va_i_CubicBulkCell__element__x\n",
      "Rewiring edge to va_i_CubicBulkCell__cell_size__x\n",
      "Rewiring edge to va_o_CubicBulkCell__structure__x\n"
     ]
    },
    {
     "data": {
      "text/html": [
       "<div>\n",
       "<style scoped>\n",
       "    .dataframe tbody tr th:only-of-type {\n",
       "        vertical-align: middle;\n",
       "    }\n",
       "\n",
       "    .dataframe tbody tr th {\n",
       "        vertical-align: top;\n",
       "    }\n",
       "\n",
       "    .dataframe thead th {\n",
       "        text-align: right;\n",
       "    }\n",
       "</style>\n",
       "<table border=\"1\" class=\"dataframe\">\n",
       "  <thead>\n",
       "    <tr style=\"text-align: right;\">\n",
       "      <th></th>\n",
       "      <th>id</th>\n",
       "      <th>import_path</th>\n",
       "      <th>label</th>\n",
       "      <th>parent_id</th>\n",
       "      <th>level</th>\n",
       "      <th>node</th>\n",
       "      <th>graph</th>\n",
       "      <th>node_type</th>\n",
       "      <th>widget_type</th>\n",
       "      <th>expanded</th>\n",
       "    </tr>\n",
       "  </thead>\n",
       "  <tbody>\n",
       "    <tr>\n",
       "      <th>0</th>\n",
       "      <td>CubicBulkCell</td>\n",
       "      <td>pyiron_nodes.atomistic.structure.build.CubicBu...</td>\n",
       "      <td>CubicBulkCell</td>\n",
       "      <td>None</td>\n",
       "      <td>0</td>\n",
       "      <td>&lt;pyiron_workflow.simple_workflow.Node object a...</td>\n",
       "      <td>Graph(id='CubicBulkCell', label='CubicBulkCell...</td>\n",
       "      <td>graph</td>\n",
       "      <td>customNode</td>\n",
       "      <td>True</td>\n",
       "    </tr>\n",
       "    <tr>\n",
       "      <th>1</th>\n",
       "      <td>va_i_CubicBulkCell__vacancy_index</td>\n",
       "      <td>pyiron_workflow.graph.base.identity</td>\n",
       "      <td>va_i_CubicBulkCell__vacancy_index</td>\n",
       "      <td>CubicBulkCell</td>\n",
       "      <td>1</td>\n",
       "      <td>&lt;pyiron_workflow.simple_workflow.Node object a...</td>\n",
       "      <td>None</td>\n",
       "      <td>node</td>\n",
       "      <td>customNode</td>\n",
       "      <td>False</td>\n",
       "    </tr>\n",
       "    <tr>\n",
       "      <th>2</th>\n",
       "      <td>va_i_calphy2__element</td>\n",
       "      <td>pyiron_workflow.graph.base.identity</td>\n",
       "      <td>va_i_calphy2__element</td>\n",
       "      <td>None</td>\n",
       "      <td>0</td>\n",
       "      <td>&lt;pyiron_workflow.simple_workflow.Node object a...</td>\n",
       "      <td>None</td>\n",
       "      <td>node</td>\n",
       "      <td>customNode</td>\n",
       "      <td>False</td>\n",
       "    </tr>\n",
       "    <tr>\n",
       "      <th>3</th>\n",
       "      <td>va_i_calphy2__cell_size</td>\n",
       "      <td>pyiron_workflow.graph.base.identity</td>\n",
       "      <td>va_i_calphy2__cell_size</td>\n",
       "      <td>None</td>\n",
       "      <td>0</td>\n",
       "      <td>&lt;pyiron_workflow.simple_workflow.Node object a...</td>\n",
       "      <td>None</td>\n",
       "      <td>node</td>\n",
       "      <td>customNode</td>\n",
       "      <td>False</td>\n",
       "    </tr>\n",
       "    <tr>\n",
       "      <th>4</th>\n",
       "      <td>va_i_CubicBulkCell__element</td>\n",
       "      <td>pyiron_workflow.graph.base.identity</td>\n",
       "      <td>va_i_CubicBulkCell__element</td>\n",
       "      <td>CubicBulkCell</td>\n",
       "      <td>1</td>\n",
       "      <td>&lt;pyiron_workflow.simple_workflow.Node object a...</td>\n",
       "      <td>None</td>\n",
       "      <td>node</td>\n",
       "      <td>customNode</td>\n",
       "      <td>False</td>\n",
       "    </tr>\n",
       "    <tr>\n",
       "      <th>5</th>\n",
       "      <td>va_i_CubicBulkCell__cell_size</td>\n",
       "      <td>pyiron_workflow.graph.base.identity</td>\n",
       "      <td>va_i_CubicBulkCell__cell_size</td>\n",
       "      <td>CubicBulkCell</td>\n",
       "      <td>1</td>\n",
       "      <td>&lt;pyiron_workflow.simple_workflow.Node object a...</td>\n",
       "      <td>None</td>\n",
       "      <td>node</td>\n",
       "      <td>customNode</td>\n",
       "      <td>False</td>\n",
       "    </tr>\n",
       "    <tr>\n",
       "      <th>6</th>\n",
       "      <td>bulk</td>\n",
       "      <td>pyiron_nodes.atomistic.structure.build.Bulk</td>\n",
       "      <td>bulk</td>\n",
       "      <td>CubicBulkCell</td>\n",
       "      <td>1</td>\n",
       "      <td>&lt;pyiron_workflow.simple_workflow.Node object a...</td>\n",
       "      <td>None</td>\n",
       "      <td>node</td>\n",
       "      <td>customNode</td>\n",
       "      <td>False</td>\n",
       "    </tr>\n",
       "    <tr>\n",
       "      <th>7</th>\n",
       "      <td>repeat</td>\n",
       "      <td>pyiron_nodes.atomistic.structure.transform.Repeat</td>\n",
       "      <td>repeat</td>\n",
       "      <td>CubicBulkCell</td>\n",
       "      <td>1</td>\n",
       "      <td>&lt;pyiron_workflow.simple_workflow.Node object a...</td>\n",
       "      <td>None</td>\n",
       "      <td>node</td>\n",
       "      <td>customNode</td>\n",
       "      <td>False</td>\n",
       "    </tr>\n",
       "    <tr>\n",
       "      <th>8</th>\n",
       "      <td>vacancy</td>\n",
       "      <td>pyiron_nodes.atomistic.structure.transform.Cre...</td>\n",
       "      <td>vacancy</td>\n",
       "      <td>CubicBulkCell</td>\n",
       "      <td>1</td>\n",
       "      <td>&lt;pyiron_workflow.simple_workflow.Node object a...</td>\n",
       "      <td>None</td>\n",
       "      <td>node</td>\n",
       "      <td>customNode</td>\n",
       "      <td>False</td>\n",
       "    </tr>\n",
       "    <tr>\n",
       "      <th>9</th>\n",
       "      <td>va_o_CubicBulkCell__structure</td>\n",
       "      <td>pyiron_workflow.graph.base.identity</td>\n",
       "      <td>va_o_CubicBulkCell__structure</td>\n",
       "      <td>CubicBulkCell</td>\n",
       "      <td>1</td>\n",
       "      <td>&lt;pyiron_workflow.simple_workflow.Node object a...</td>\n",
       "      <td>None</td>\n",
       "      <td>node</td>\n",
       "      <td>customNode</td>\n",
       "      <td>False</td>\n",
       "    </tr>\n",
       "    <tr>\n",
       "      <th>10</th>\n",
       "      <td>va_o_calphy2__transition_temperature</td>\n",
       "      <td>pyiron_workflow.graph.base.identity</td>\n",
       "      <td>va_o_calphy2__transition_temperature</td>\n",
       "      <td>None</td>\n",
       "      <td>0</td>\n",
       "      <td>&lt;pyiron_workflow.simple_workflow.Node object a...</td>\n",
       "      <td>None</td>\n",
       "      <td>node</td>\n",
       "      <td>customNode</td>\n",
       "      <td>False</td>\n",
       "    </tr>\n",
       "  </tbody>\n",
       "</table>\n",
       "</div>"
      ],
      "text/plain": [
       "NestedDict([('CubicBulkCell',\n",
       "             GraphNode(id='CubicBulkCell', import_path='pyiron_nodes.atomistic.structure.build.CubicBulkCell', label='CubicBulkCell', parent_id=None, level=0, node=<pyiron_workflow.simple_workflow.Node object at 0x3177aa060>, graph=Graph(id='CubicBulkCell', label='CubicBulkCell', root_node=None, nodes=NestedDict({'va_i_CubicBulkCell__element': GraphNode(id='va_i_CubicBulkCell__element', import_path='pyiron_workflow.graph.base.identity', label='va_i_CubicBulkCell__element', parent_id='CubicBulkCell', level=1, node=<pyiron_workflow.simple_workflow.Node object at 0x3177a8ad0>, graph=None, node_type='node', widget_type='customNode', expanded=False), 'va_i_CubicBulkCell__cell_size': GraphNode(id='va_i_CubicBulkCell__cell_size', import_path='pyiron_workflow.graph.base.identity', label='va_i_CubicBulkCell__cell_size', parent_id='CubicBulkCell', level=1, node=<pyiron_workflow.simple_workflow.Node object at 0x3177aab70>, graph=None, node_type='node', widget_type='customNode', expanded=False), 'va_i_CubicBulkCell__vacancy_index': GraphNode(id='va_i_CubicBulkCell__vacancy_index', import_path='pyiron_workflow.graph.base.identity', label='va_i_CubicBulkCell__vacancy_index', parent_id='CubicBulkCell', level=1, node=<pyiron_workflow.simple_workflow.Node object at 0x3177a9cd0>, graph=None, node_type='node', widget_type='customNode', expanded=False), 'bulk': GraphNode(id='bulk', import_path='pyiron_nodes.atomistic.structure.build.Bulk', label='bulk', parent_id='CubicBulkCell', level=1, node=<pyiron_workflow.simple_workflow.Node object at 0x3177aa630>, graph=None, node_type='node', widget_type='customNode', expanded=False), 'repeat': GraphNode(id='repeat', import_path='pyiron_nodes.atomistic.structure.transform.Repeat', label='repeat', parent_id='CubicBulkCell', level=1, node=<pyiron_workflow.simple_workflow.Node object at 0x3177aa4e0>, graph=None, node_type='node', widget_type='customNode', expanded=False), 'vacancy': GraphNode(id='vacancy', import_path='pyiron_nodes.atomistic.structure.transform.CreateVacancy', label='vacancy', parent_id='CubicBulkCell', level=1, node=<pyiron_workflow.simple_workflow.Node object at 0x3177aa300>, graph=None, node_type='node', widget_type='customNode', expanded=False), 'va_o_CubicBulkCell__structure': GraphNode(id='va_o_CubicBulkCell__structure', import_path='pyiron_workflow.graph.base.identity', label='va_o_CubicBulkCell__structure', parent_id='CubicBulkCell', level=1, node=<pyiron_workflow.simple_workflow.Node object at 0x3177a9820>, graph=None, node_type='node', widget_type='customNode', expanded=False)}), edges=[GraphEdge(source='va_i_CubicBulkCell__element', target='bulk', sourceHandle='x', targetHandle='name'), GraphEdge(source='va_i_CubicBulkCell__cell_size', target='repeat', sourceHandle='x', targetHandle='repeat_scalar'), GraphEdge(source='va_i_CubicBulkCell__vacancy_index', target='vacancy', sourceHandle='x', targetHandle='index'), GraphEdge(source='bulk', target='repeat', sourceHandle='structure', targetHandle='structure'), GraphEdge(source='repeat', target='vacancy', sourceHandle='structure', targetHandle='structure'), GraphEdge(source='vacancy', target='va_o_CubicBulkCell__structure', sourceHandle='structure', targetHandle='x')], graph={}), node_type='graph', widget_type='customNode', expanded=True)),\n",
       "            ('va_i_CubicBulkCell__vacancy_index',\n",
       "             GraphNode(id='va_i_CubicBulkCell__vacancy_index', import_path='pyiron_workflow.graph.base.identity', label='va_i_CubicBulkCell__vacancy_index', parent_id='CubicBulkCell', level=1, node=<pyiron_workflow.simple_workflow.Node object at 0x3177a9cd0>, graph=None, node_type='node', widget_type='customNode', expanded=False)),\n",
       "            ('va_i_calphy2__element',\n",
       "             GraphNode(id='va_i_calphy2__element', import_path='pyiron_workflow.graph.base.identity', label='va_i_calphy2__element', parent_id=None, level=0, node=<pyiron_workflow.simple_workflow.Node object at 0x3177a9b20>, graph=None, node_type='node', widget_type='customNode', expanded=False)),\n",
       "            ('va_i_calphy2__cell_size',\n",
       "             GraphNode(id='va_i_calphy2__cell_size', import_path='pyiron_workflow.graph.base.identity', label='va_i_calphy2__cell_size', parent_id=None, level=0, node=<pyiron_workflow.simple_workflow.Node object at 0x3177baae0>, graph=None, node_type='node', widget_type='customNode', expanded=False)),\n",
       "            ('va_i_CubicBulkCell__element',\n",
       "             GraphNode(id='va_i_CubicBulkCell__element', import_path='pyiron_workflow.graph.base.identity', label='va_i_CubicBulkCell__element', parent_id='CubicBulkCell', level=1, node=<pyiron_workflow.simple_workflow.Node object at 0x3177a8ad0>, graph=None, node_type='node', widget_type='customNode', expanded=False)),\n",
       "            ('va_i_CubicBulkCell__cell_size',\n",
       "             GraphNode(id='va_i_CubicBulkCell__cell_size', import_path='pyiron_workflow.graph.base.identity', label='va_i_CubicBulkCell__cell_size', parent_id='CubicBulkCell', level=1, node=<pyiron_workflow.simple_workflow.Node object at 0x3177aab70>, graph=None, node_type='node', widget_type='customNode', expanded=False)),\n",
       "            ('bulk',\n",
       "             GraphNode(id='bulk', import_path='pyiron_nodes.atomistic.structure.build.Bulk', label='bulk', parent_id='CubicBulkCell', level=1, node=<pyiron_workflow.simple_workflow.Node object at 0x3177aa630>, graph=None, node_type='node', widget_type='customNode', expanded=False)),\n",
       "            ('repeat',\n",
       "             GraphNode(id='repeat', import_path='pyiron_nodes.atomistic.structure.transform.Repeat', label='repeat', parent_id='CubicBulkCell', level=1, node=<pyiron_workflow.simple_workflow.Node object at 0x3177aa4e0>, graph=None, node_type='node', widget_type='customNode', expanded=False)),\n",
       "            ('vacancy',\n",
       "             GraphNode(id='vacancy', import_path='pyiron_nodes.atomistic.structure.transform.CreateVacancy', label='vacancy', parent_id='CubicBulkCell', level=1, node=<pyiron_workflow.simple_workflow.Node object at 0x3177aa300>, graph=None, node_type='node', widget_type='customNode', expanded=False)),\n",
       "            ('va_o_CubicBulkCell__structure',\n",
       "             GraphNode(id='va_o_CubicBulkCell__structure', import_path='pyiron_workflow.graph.base.identity', label='va_o_CubicBulkCell__structure', parent_id='CubicBulkCell', level=1, node=<pyiron_workflow.simple_workflow.Node object at 0x3177a9820>, graph=None, node_type='node', widget_type='customNode', expanded=False)),\n",
       "            ('va_o_calphy2__transition_temperature',\n",
       "             GraphNode(id='va_o_calphy2__transition_temperature', import_path='pyiron_workflow.graph.base.identity', label='va_o_calphy2__transition_temperature', parent_id=None, level=0, node=<pyiron_workflow.simple_workflow.Node object at 0x3177bad80>, graph=None, node_type='node', widget_type='customNode', expanded=False))])"
      ]
     },
     "execution_count": 112,
     "metadata": {},
     "output_type": "execute_result"
    }
   ],
   "source": [
    "from pyiron_workflow.graph import base\n",
    "\n",
    "n = calphy2(element=\"Al\")\n",
    "graph = base.get_graph_from_macro_node(n)\n",
    "# base.run_macro_node(n)\n",
    "# base.GuiGraph(base.get_graph_from_macro_node(n))\n",
    "# base.get_graph_from_macro_node(n).nodes[\"CubicBulkCell\"].node.run()\n",
    "graph.nodes"
   ]
  },
  {
   "cell_type": "code",
   "execution_count": 113,
   "id": "2058f97e-90f9-4a4e-8294-05fa64bfe845",
   "metadata": {},
   "outputs": [],
   "source": [
    "import pyiron_nodes as pn"
   ]
  },
  {
   "cell_type": "code",
   "execution_count": 114,
   "id": "0871dc72-bbb2-415d-948a-07e567b46692",
   "metadata": {},
   "outputs": [],
   "source": [
    "from typing import Optional\n",
    "\n",
    "@as_macro_node(\"structure\")\n",
    "def CubicBulkCell(\n",
    "    element: str, cell_size: int = 1, vacancy_index: Optional[int] = None\n",
    "):\n",
    "    from pyiron_nodes.atomistic.structure.build import Bulk\n",
    "    from pyiron_nodes.atomistic.structure.transform import (\n",
    "        CreateVacancy,\n",
    "        Repeat,\n",
    "    )\n",
    "    from pyiron_workflow import Workflow\n",
    "\n",
    "    wf = Workflow('macro')\n",
    "\n",
    "    wf.bulk = Bulk(name=element, cubic=True)\n",
    "    wf.repeat = Repeat(structure=wf.bulk, repeat_scalar=cell_size)\n",
    "\n",
    "    wf.vacancy = CreateVacancy(structure=wf.repeat, index=vacancy_index)\n",
    "    return wf.vacancy"
   ]
  },
  {
   "cell_type": "code",
   "execution_count": 115,
   "id": "a9597fdd-42ba-47cf-9a5f-b43b591e8ddf",
   "metadata": {},
   "outputs": [
    {
     "name": "stderr",
     "output_type": "stream",
     "text": [
      "DEBUG:pyiron_log:Not supported parameter used!\n",
      "DEBUG:pyiron_log:Not supported parameter used!\n"
     ]
    },
    {
     "data": {
      "text/plain": [
       "Al: [0. 0. 0.]\n",
       "Al: [0.    2.025 2.025]\n",
       "Al: [2.025 0.    2.025]\n",
       "Al: [2.025 2.025 0.   ]\n",
       "tags: \n",
       "    indices: [0 0 0 0]\n",
       "pbc: [ True  True  True]\n",
       "cell: \n",
       "Cell([4.05, 4.05, 4.05])"
      ]
     },
     "execution_count": 115,
     "metadata": {},
     "output_type": "execute_result"
    }
   ],
   "source": [
    "CubicBulkCell(\"Al\").run()"
   ]
  },
  {
   "cell_type": "code",
   "execution_count": 116,
   "id": "9caa1440-021d-4b7c-9969-04bb5d8fd8ba",
   "metadata": {},
   "outputs": [
    {
     "data": {
      "text/plain": [
       "<pyiron_workflow.simple_workflow.Node at 0x3177bab10>"
      ]
     },
     "execution_count": 116,
     "metadata": {},
     "output_type": "execute_result"
    }
   ],
   "source": [
    "pn.atomistic.structure.build.CubicBulkCell(element=\"Al\")"
   ]
  },
  {
   "cell_type": "code",
   "execution_count": 117,
   "id": "b7c44bf0-cf7c-457f-aa9f-e9b3a2436caa",
   "metadata": {},
   "outputs": [],
   "source": [
    "from executorlib import SingleNodeExecutor"
   ]
  },
  {
   "cell_type": "code",
   "execution_count": 118,
   "id": "cd50efb4-1c88-4f5f-a0e4-d57df4965f99",
   "metadata": {},
   "outputs": [
    {
     "name": "stdout",
     "output_type": "stream",
     "text": [
      "[4, 6, 8]\n",
      "CPU times: user 54.6 ms, sys: 35.3 ms, total: 89.9 ms\n",
      "Wall time: 137 ms\n"
     ]
    }
   ],
   "source": [
    "%%time\n",
    "with SingleNodeExecutor(max_workers=4, block_allocation=True) as exe:\n",
    "    future_lst = [exe.submit(sum, [i, i]) for i in range(2, 5)]\n",
    "    print([f.result() for f in future_lst])"
   ]
  },
  {
   "cell_type": "code",
   "execution_count": 119,
   "id": "9b1cb535-9f8d-4bdb-9434-fa9772021e23",
   "metadata": {},
   "outputs": [],
   "source": [
    "import concurrent.futures\n",
    "import math\n",
    "\n",
    "PRIMES = [\n",
    "    112272535095293,\n",
    "    112582705942171,\n",
    "    112272535095293,\n",
    "    115280095190773,\n",
    "    115797848077099,\n",
    "    1099726899285419]\n",
    "\n",
    "def is_prime(n):\n",
    "    if n < 2:\n",
    "        return False\n",
    "    if n == 2:\n",
    "        return True\n",
    "    if n % 2 == 0:\n",
    "        return False\n",
    "\n",
    "    sqrt_n = int(math.floor(math.sqrt(n)))\n",
    "    for i in range(3, sqrt_n + 1, 2):\n",
    "        if n % i == 0:\n",
    "            return False\n",
    "    return True\n",
    "\n",
    "\n"
   ]
  },
  {
   "cell_type": "code",
   "execution_count": 120,
   "id": "82b26367-c463-4616-a301-47f26c717386",
   "metadata": {},
   "outputs": [
    {
     "name": "stdout",
     "output_type": "stream",
     "text": [
      "[True, True, True, True, True, False]\n",
      "CPU times: user 25.3 ms, sys: 24.2 ms, total: 49.5 ms\n",
      "Wall time: 249 ms\n"
     ]
    }
   ],
   "source": [
    "%%time\n",
    "with SingleNodeExecutor(max_workers=6, block_allocation=False) as exe:\n",
    "    future_lst = [exe.submit(is_prime, n) for n in PRIMES]\n",
    "    print([f.result() for f in future_lst])"
   ]
  },
  {
   "cell_type": "code",
   "execution_count": 121,
   "id": "b95be360-2e2e-46ce-a93a-a1c08c73b851",
   "metadata": {},
   "outputs": [
    {
     "name": "stdout",
     "output_type": "stream",
     "text": [
      "[Al: [0. 0. 0.]\n",
      "tags: \n",
      "    indices: [0]\n",
      "pbc: [ True  True  True]\n",
      "cell: \n",
      "Cell([[0.0, 2.025, 2.025], [2.025, 0.0, 2.025], [2.025, 2.025, 0.0]])\n",
      ", Fe: [0. 0. 0.]\n",
      "tags: \n",
      "    indices: [0]\n",
      "    spin: [2.3]\n",
      "    initial_magmoms: [2.3]\n",
      "pbc: [ True  True  True]\n",
      "cell: \n",
      "Cell([[-1.435, 1.435, 1.435], [1.435, -1.435, 1.435], [1.435, 1.435, -1.435]])\n",
      ", Ni: [0. 0. 0.]\n",
      "tags: \n",
      "    indices: [0]\n",
      "    spin: [0.6]\n",
      "    initial_magmoms: [0.6]\n",
      "pbc: [ True  True  True]\n",
      "cell: \n",
      "Cell([[0.0, 1.76, 1.76], [1.76, 0.0, 1.76], [1.76, 1.76, 0.0]])\n",
      ", Zn: [0. 0. 0.]\n",
      "Zn: [4.92198874e-17 1.53575172e+00 2.46848000e+00]\n",
      "tags: \n",
      "    indices: [0 0]\n",
      "pbc: [ True  True  True]\n",
      "cell: \n",
      "Cell([[2.66, 0.0, 0.0], [-1.33, 2.303627574066607, 0.0], [0.0, 0.0, 4.936960000000001]])\n",
      "]\n",
      "CPU times: user 25.1 ms, sys: 16.4 ms, total: 41.5 ms\n",
      "Wall time: 965 ms\n"
     ]
    }
   ],
   "source": [
    "%%time\n",
    "with SingleNodeExecutor(max_workers=1, block_allocation=True) as exe:\n",
    "    future_lst = [exe.submit(pn.atomistic.structure.build.Bulk()._func, n) for n in [\"Al\", \"Fe\", \"Ni\", \"Zn\"]]\n",
    "    print([f.result() for f in future_lst])"
   ]
  },
  {
   "cell_type": "code",
   "execution_count": 122,
   "id": "532afe80-f1a3-4d82-8bcc-2324e3b99ef1",
   "metadata": {},
   "outputs": [
    {
     "data": {
      "text/plain": [
       "'Aluminum'"
      ]
     },
     "execution_count": 122,
     "metadata": {},
     "output_type": "execute_result"
    }
   ],
   "source": [
    "Al = pn.atomistic.structure.build.Bulk()._func('Al')\n",
    "Al.species[0].name"
   ]
  },
  {
   "cell_type": "code",
   "execution_count": 123,
   "id": "c0083e59-4db2-4183-86c3-86fcef316418",
   "metadata": {},
   "outputs": [
    {
     "name": "stdout",
     "output_type": "stream",
     "text": [
      "Al\n",
      "Fe\n",
      "CPU times: user 1.01 ms, sys: 149 μs, total: 1.16 ms\n",
      "Wall time: 1.05 ms\n"
     ]
    }
   ],
   "source": [
    "%%time\n",
    "for n in [\"Al\", \"Fe\"]:\n",
    "    print(pn.atomistic.structure.build.Bulk(n).run())"
   ]
  },
  {
   "cell_type": "code",
   "execution_count": 124,
   "id": "20fd887b-2109-427d-bdab-b6f4379a3bca",
   "metadata": {},
   "outputs": [
    {
     "name": "stdout",
     "output_type": "stream",
     "text": [
      "out:  Al\n",
      "Al: [0. 0. 0.]\n",
      "Al: [0.    2.025 2.025]\n",
      "Al: [2.025 0.    2.025]\n",
      "Al: [2.025 2.025 0.   ]\n",
      "tags: \n",
      "    indices: [0 0 0 0]\n",
      "pbc: [ True  True  True]\n",
      "cell: \n",
      "Cell([4.05, 4.05, 4.05])\n",
      "\n",
      "out:  Fe\n",
      "Fe: [0. 0. 0.]\n",
      "Fe: [1.435 1.435 1.435]\n",
      "tags: \n",
      "    indices: [0 0]\n",
      "    spin: [2.3 2.3]\n",
      "    initial_magmoms: [2.3 2.3]\n",
      "pbc: [ True  True  True]\n",
      "cell: \n",
      "Cell([2.87, 2.87, 2.87])\n",
      "\n"
     ]
    }
   ],
   "source": [
    "import pyiron_nodes as pn\n",
    "import concurrent.futures\n",
    "import urllib.request\n",
    "\n",
    "elements = ['Al', 'Fe']\n",
    "\n",
    "\n",
    "# We can use a with statement to ensure threads are cleaned up promptly\n",
    "with concurrent.futures.ThreadPoolExecutor(max_workers=1) as executor:\n",
    "    # Start the load operations and mark each future with its URL\n",
    "    futures = {executor.submit(pn.atomistic.structure.build.Bulk()._func, el, **{'cubic': True}): el for el in elements}\n",
    "    for future in concurrent.futures.as_completed(futures):\n",
    "        out = futures[future]\n",
    "        print(\"out: \", out)\n",
    "\n",
    "        data = future.result()\n",
    "        print(data.__repr__())"
   ]
  },
  {
   "cell_type": "code",
   "execution_count": 125,
   "id": "28ba5f31-8df6-4da3-a618-d3065c7695cf",
   "metadata": {},
   "outputs": [],
   "source": [
    "from pyiron_workflow import as_function_node, Node\n",
    "\n",
    "@as_function_node\n",
    "def IterNode(node: Node, kwarg_name: str, kwarg_list: list, max_workers: int=1, executor=None):\n",
    "    # from concurrent.futures import ThreadPoolExecutor as Executor\n",
    "    from executorlib import SingleNodeExecutor as Executor\n",
    "    from concurrent.futures import as_completed\n",
    "\n",
    "    out_dict = dict()\n",
    "    with Executor(max_workers=max_workers) as executor:\n",
    "        # Start the load operations and mark each future with its index\n",
    "        futures = {executor.submit(node._func, **{kwarg_name: el}): el for el in kwarg_list}\n",
    "        for future in as_completed(futures):\n",
    "            out = futures[future]    \n",
    "            data = future.result()\n",
    "            out_dict[out] = data.species[0].name\n",
    "            \n",
    "            # print(\"out: \", out)\n",
    "            # print(data.__repr__())\n",
    "            \n",
    "    return out_dict\n",
    "    "
   ]
  },
  {
   "cell_type": "code",
   "execution_count": 126,
   "id": "021cc7ef-497a-460d-ba05-023576693b49",
   "metadata": {},
   "outputs": [
    {
     "name": "stdout",
     "output_type": "stream",
     "text": [
      "copy node:  Bulk 71d3045ad08e22c2646746e6074957270f043ff8bff8fb5a12fd3ac1dad2cab0\n",
      "CPU times: user 137 ms, sys: 19.1 ms, total: 156 ms\n",
      "Wall time: 868 ms\n"
     ]
    },
    {
     "data": {
      "text/plain": [
       "{'Fe': 'Iron', 'Al': 'Aluminum'}"
      ]
     },
     "execution_count": 126,
     "metadata": {},
     "output_type": "execute_result"
    }
   ],
   "source": [
    "%%time\n",
    "elements = ['Al', 'Fe']\n",
    "\n",
    "IterNode(pn.atomistic.structure.build.Bulk(), \"name\", elements, max_workers=2).run()"
   ]
  },
  {
   "cell_type": "code",
   "execution_count": 127,
   "id": "7a5caa72-0d1b-4365-85ef-617c37780129",
   "metadata": {},
   "outputs": [
    {
     "data": {
      "text/plain": [
       "array([3, 1, 8])"
      ]
     },
     "execution_count": 127,
     "metadata": {},
     "output_type": "execute_result"
    }
   ],
   "source": [
    "import numpy as np\n",
    "\n",
    "# Define the matrix mat and the index array ind1\n",
    "mat = np.array([[0, 1, 2],\n",
    "                [3, 4, 5],\n",
    "                [6, 7, 8]])\n",
    "\n",
    "ind1 = np.array([1, 0, 2])\n",
    "\n",
    "# Compute v using advanced indexing\n",
    "v = mat[ind1, np.arange(len(ind1))]\n",
    "\n",
    "v  # Output: [3, 1, 8]"
   ]
  },
  {
   "cell_type": "code",
   "execution_count": 128,
   "id": "72419698-9941-49bc-a82d-33e24aaa086c",
   "metadata": {},
   "outputs": [],
   "source": [
    "import pyiron_nodes as pn\n",
    "\n",
    "n = pn.atomistic.structure.build.Bulk(\"Al\")"
   ]
  },
  {
   "cell_type": "code",
   "execution_count": 129,
   "id": "3b67d2e9-2aa3-4d65-beef-9bee931e98e2",
   "metadata": {},
   "outputs": [
    {
     "data": {
      "text/plain": [
       "{'name': 'Al',\n",
       " 'crystalstructure': None,\n",
       " 'a': 2.1,\n",
       " 'c': None,\n",
       " 'c_over_a': None,\n",
       " 'u': None,\n",
       " 'orthorhombic': False,\n",
       " 'cubic': False}"
      ]
     },
     "execution_count": 129,
     "metadata": {},
     "output_type": "execute_result"
    }
   ],
   "source": [
    "kwargs = n.kwargs\n",
    "kwargs.update({\"a\": 2.1})\n",
    "kwargs"
   ]
  },
  {
   "cell_type": "code",
   "execution_count": 130,
   "id": "9955a172-7aef-4dd9-88c8-95dbfccb7b31",
   "metadata": {},
   "outputs": [
    {
     "name": "stdout",
     "output_type": "stream",
     "text": [
      "Running ('pg_ctl', '-D', '.pycor/pgdata', 'stop')\n",
      "waiting for server to shut down.... done\n",
      "server stopped\n",
      "Running ('pg_ctl', '-D', '.pycor/pgdata', 'status')\n"
     ]
    }
   ],
   "source": [
    "# CLEANUP\n",
    "\n",
    "lpg.stop()\n",
    "lpg.remove()\n",
    "\n",
    "cwd = pathlib.Path(\".\")\n",
    "for name in json_files:\n",
    "    with contextlib.suppress(FileNotFoundError):\n",
    "        (cwd / name).unlink()\n",
    "\n",
    "with contextlib.suppress(FileNotFoundError):\n",
    "    (cwd / \"NiAlH_jea.eam.alloy\").unlink()\n",
    "\n",
    "with contextlib.suppress(FileNotFoundError):\n",
    "    (cwd / \"pyiron.log\").unlink()\n",
    "\n",
    "for path in cwd.glob(\"*.dat\"):\n",
    "    with contextlib.suppress(FileNotFoundError):\n",
    "        path.unlink()\n",
    "\n",
    "for path in cwd.glob(\"*.dat-*\"):\n",
    "    if path.is_dir():\n",
    "        with contextlib.suppress(FileNotFoundError):\n",
    "            shutil.rmtree(path)\n",
    "\n",
    "path = (cwd / \".storage\")\n",
    "if path.is_dir():\n",
    "    with contextlib.suppress(FileNotFoundError):\n",
    "        shutil.rmtree(path)"
   ]
  },
  {
   "cell_type": "code",
   "execution_count": null,
   "id": "5653c456-1494-45b2-8477-e903dba96ed0",
   "metadata": {},
   "outputs": [],
   "source": []
  }
 ],
 "metadata": {
  "kernelspec": {
   "display_name": "Python 3 (ipykernel)",
   "language": "python",
   "name": "python3"
  },
  "language_info": {
   "codemirror_mode": {
    "name": "ipython",
    "version": 3
   },
   "file_extension": ".py",
   "mimetype": "text/x-python",
   "name": "python",
   "nbconvert_exporter": "python",
   "pygments_lexer": "ipython3",
   "version": "3.12.10"
  }
 },
 "nbformat": 4,
 "nbformat_minor": 5
}
