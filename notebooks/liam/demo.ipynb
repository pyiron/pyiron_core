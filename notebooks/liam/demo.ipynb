{
 "cells": [
  {
   "cell_type": "code",
   "id": "initial_id",
   "metadata": {
    "collapsed": true,
    "ExecuteTime": {
     "end_time": "2025-04-29T14:00:27.527095Z",
     "start_time": "2025-04-29T14:00:27.158970Z"
    }
   },
   "source": [
    "import numpy as np\n",
    "\n",
    "import pyiron_workflow as pwf"
   ],
   "outputs": [],
   "execution_count": 1
  },
  {
   "metadata": {
    "ExecuteTime": {
     "end_time": "2025-04-29T14:00:27.922696Z",
     "start_time": "2025-04-29T14:00:27.918509Z"
    }
   },
   "cell_type": "code",
   "source": [
    "@pwf.as_function_node\n",
    "def linspace(x_min: int = 0, x_max: float = 2 * np.pi, n: int = 50):\n",
    "\n",
    "    vec = np.linspace(x_min, x_max, n)\n",
    "    return vec\n",
    "\n",
    "\n",
    "@pwf.as_function_node\n",
    "def sin(x):\n",
    "    import numpy as np\n",
    "\n",
    "    vec = np.sin(x)\n",
    "    return vec\n",
    "\n",
    "\n",
    "@pwf.as_function_node(\"plot\")\n",
    "def plot(x, y):\n",
    "    import matplotlib.pylab as plt\n",
    "\n",
    "    plt.plot(x, y)\n",
    "    return plt.show()"
   ],
   "id": "d7d36c23e9fb2822",
   "outputs": [],
   "execution_count": 2
  },
  {
   "metadata": {
    "ExecuteTime": {
     "end_time": "2025-04-29T14:00:28.319622Z",
     "start_time": "2025-04-29T14:00:28.316802Z"
    }
   },
   "cell_type": "code",
   "source": [
    "wf = pwf.Workflow(\"my_first_workflow\")\n",
    "\n",
    "wf.x = linspace(x_min=-2)\n",
    "wf.sin = sin(x=wf.x)\n",
    "wf.plot = plot(x=wf.x, y=wf.sin.outputs.vec)"
   ],
   "id": "fc11f5dd91672e91",
   "outputs": [],
   "execution_count": 3
  },
  {
   "metadata": {
    "ExecuteTime": {
     "end_time": "2025-04-29T14:00:29.864631Z",
     "start_time": "2025-04-29T14:00:29.853496Z"
    }
   },
   "cell_type": "code",
   "source": "wf",
   "id": "45bf43efb57a784d",
   "outputs": [
    {
     "data": {
      "text/plain": [
       "pyiron_workflow instance: \n",
       "from pyiron_workflow import Workflow\n",
       "import pyiron_nodes\n",
       "\n",
       "wf = Workflow(\"my_first_workflow\")\n",
       "\n",
       "wf.x = __main__.linspace(x_min=-2)\n",
       "wf.sin = __main__.sin(x=wf.x)\n",
       "wf.plot = __main__.plot(x=wf.x, y=wf.sin)"
      ]
     },
     "execution_count": 4,
     "metadata": {},
     "output_type": "execute_result"
    }
   ],
   "execution_count": 4
  },
  {
   "metadata": {},
   "cell_type": "code",
   "outputs": [],
   "execution_count": null,
   "source": "# wf.run()  # Requires unavailable custom implementation of `pyiron_database`",
   "id": "a1d04eeb74ecc5d0"
  },
  {
   "metadata": {},
   "cell_type": "code",
   "outputs": [],
   "execution_count": null,
   "source": "",
   "id": "cb14c71f87fe5cfb"
  }
 ],
 "metadata": {
  "kernelspec": {
   "display_name": "Python 3",
   "language": "python",
   "name": "python3"
  },
  "language_info": {
   "codemirror_mode": {
    "name": "ipython",
    "version": 2
   },
   "file_extension": ".py",
   "mimetype": "text/x-python",
   "name": "python",
   "nbconvert_exporter": "python",
   "pygments_lexer": "ipython2",
   "version": "2.7.6"
  }
 },
 "nbformat": 4,
 "nbformat_minor": 5
}
