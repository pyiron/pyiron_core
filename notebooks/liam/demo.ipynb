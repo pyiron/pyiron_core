{
 "cells": [
  {
   "cell_type": "code",
   "execution_count": 1,
   "id": "initial_id",
   "metadata": {
    "ExecuteTime": {
     "end_time": "2025-04-29T14:15:48.602970Z",
     "start_time": "2025-04-29T14:15:48.284505Z"
    }
   },
   "outputs": [],
   "source": [
    "import numpy as np\n",
    "\n",
    "import pyiron_workflow as pwf"
   ]
  },
  {
   "cell_type": "code",
   "execution_count": 2,
   "id": "d7d36c23e9fb2822",
   "metadata": {
    "ExecuteTime": {
     "end_time": "2025-04-29T14:15:48.610601Z",
     "start_time": "2025-04-29T14:15:48.608522Z"
    }
   },
   "outputs": [],
   "source": [
    "@pwf.as_function_node\n",
    "def linspace(x_min: int = 0, x_max: float = 2 * np.pi, n: int = 50):\n",
    "\n",
    "    vec = np.linspace(x_min, x_max, n)\n",
    "    return vec\n",
    "\n",
    "\n",
    "@pwf.as_function_node\n",
    "def sin(x):\n",
    "    import numpy as np\n",
    "\n",
    "    vec = np.sin(x)\n",
    "    return vec\n",
    "\n",
    "\n",
    "@pwf.as_function_node(\"plot\")\n",
    "def plot(x, y):\n",
    "    import matplotlib.pylab as plt\n",
    "\n",
    "    plt.plot(x, y)\n",
    "    return plt.show()"
   ]
  },
  {
   "cell_type": "code",
   "execution_count": 3,
   "id": "fc11f5dd91672e91",
   "metadata": {
    "ExecuteTime": {
     "end_time": "2025-04-29T14:15:48.686404Z",
     "start_time": "2025-04-29T14:15:48.684154Z"
    }
   },
   "outputs": [],
   "source": [
    "wf = pwf.Workflow(\"my_first_workflow\")\n",
    "\n",
    "wf.x = linspace(x_min=-2)\n",
    "wf.sin = sin(x=wf.x)\n",
    "wf.plot = plot(x=wf.x, y=wf.sin.outputs.vec)"
   ]
  },
  {
   "cell_type": "code",
   "execution_count": 4,
   "id": "45bf43efb57a784d",
   "metadata": {
    "ExecuteTime": {
     "end_time": "2025-04-29T14:15:48.748172Z",
     "start_time": "2025-04-29T14:15:48.741799Z"
    }
   },
   "outputs": [
    {
     "data": {
      "text/plain": [
       "pyiron_workflow instance: \n",
       "from pyiron_workflow import Workflow\n",
       "import pyiron_nodes\n",
       "\n",
       "wf = Workflow(\"my_first_workflow\")\n",
       "\n",
       "wf.x = __main__.linspace(x_min=-2)\n",
       "wf.sin = __main__.sin(x=wf.x)\n",
       "wf.plot = __main__.plot(x=wf.x, y=wf.sin)"
      ]
     },
     "execution_count": 4,
     "metadata": {},
     "output_type": "execute_result"
    }
   ],
   "source": [
    "wf"
   ]
  },
  {
   "cell_type": "code",
   "execution_count": 5,
   "id": "a1d04eeb74ecc5d0",
   "metadata": {
    "ExecuteTime": {
     "end_time": "2025-04-29T14:15:48.858675Z",
     "start_time": "2025-04-29T14:15:48.857070Z"
    }
   },
   "outputs": [],
   "source": [
    "# wf.run()  # Requires unavailable custom implementation of `pyiron_database`"
   ]
  },
  {
   "cell_type": "code",
   "execution_count": 6,
   "id": "cb14c71f87fe5cfb",
   "metadata": {
    "ExecuteTime": {
     "end_time": "2025-04-29T14:18:49.311402Z",
     "start_time": "2025-04-29T14:18:49.309184Z"
    }
   },
   "outputs": [],
   "source": [
    "from pyiron_workflow.graph.gui import PyironFlow"
   ]
  },
  {
   "cell_type": "code",
   "execution_count": 7,
   "id": "19f4821b786a7574",
   "metadata": {
    "ExecuteTime": {
     "end_time": "2025-04-29T14:18:53.240037Z",
     "start_time": "2025-04-29T14:18:53.190071Z"
    }
   },
   "outputs": [
    {
     "data": {
      "application/vnd.jupyter.widget-view+json": {
       "model_id": "2bebd9646b6c4bca8655881e195e0833",
       "version_major": 2,
       "version_minor": 0
      },
      "text/plain": [
       "VBox(children=(HBox(children=(Output(layout=Layout(width='400px')), Tab(children=(ReactFlowWidget(layout=Layou…"
      ]
     },
     "execution_count": 7,
     "metadata": {},
     "output_type": "execute_result"
    }
   ],
   "source": [
    "widget = PyironFlow([wf])\n",
    "widget.gui"
   ]
  },
  {
   "cell_type": "code",
   "execution_count": null,
   "id": "d77772cb8d9c5be3",
   "metadata": {
    "ExecuteTime": {
     "end_time": "2025-04-29T14:15:49.620078Z",
     "start_time": "2025-04-29T14:15:49.618971Z"
    }
   },
   "outputs": [],
   "source": []
  }
 ],
 "metadata": {
  "kernelspec": {
   "display_name": "Python 3 (ipykernel)",
   "language": "python",
   "name": "python3"
  },
  "language_info": {
   "codemirror_mode": {
    "name": "ipython",
    "version": 3
   },
   "file_extension": ".py",
   "mimetype": "text/x-python",
   "name": "python",
   "nbconvert_exporter": "python",
   "pygments_lexer": "ipython3",
   "version": "3.12.10"
  }
 },
 "nbformat": 4,
 "nbformat_minor": 5
}
