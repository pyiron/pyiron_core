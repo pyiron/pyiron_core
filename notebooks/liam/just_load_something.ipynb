{
 "cells": [
  {
   "cell_type": "code",
   "id": "initial_id",
   "metadata": {
    "collapsed": true,
    "ExecuteTime": {
     "end_time": "2025-08-20T18:12:44.360973Z",
     "start_time": "2025-08-20T18:12:43.591974Z"
    }
   },
   "source": [
    "from pyiron_workflow.api import gui, util\n",
    "\n",
    "json_file_location = util.STORED_WORKFLOW_DIR"
   ],
   "outputs": [],
   "execution_count": 1
  },
  {
   "metadata": {
    "ExecuteTime": {
     "end_time": "2025-08-20T18:12:45.461523Z",
     "start_time": "2025-08-20T18:12:44.366650Z"
    }
   },
   "cell_type": "code",
   "source": [
    "pf = gui.PyironFlow(['murnaghan2',], workflow_path=json_file_location)\n",
    "pf.gui"
   ],
   "id": "1e368593526e1dc5",
   "outputs": [
    {
     "data": {
      "text/plain": [
       "VBox(children=(HBox(children=(Output(layout=Layout(width='400px')), Tab(children=(ReactFlowWidget(layout=Layou…"
      ],
      "application/vnd.jupyter.widget-view+json": {
       "version_major": 2,
       "version_minor": 0,
       "model_id": "31415a6de1204c1bac85887cb584e2b5"
      }
     },
     "execution_count": 2,
     "metadata": {},
     "output_type": "execute_result"
    }
   ],
   "execution_count": 2
  },
  {
   "metadata": {},
   "cell_type": "code",
   "outputs": [],
   "execution_count": null,
   "source": "",
   "id": "2e0df625f8a72b40"
  }
 ],
 "metadata": {
  "kernelspec": {
   "display_name": "Python 3",
   "language": "python",
   "name": "python3"
  },
  "language_info": {
   "codemirror_mode": {
    "name": "ipython",
    "version": 2
   },
   "file_extension": ".py",
   "mimetype": "text/x-python",
   "name": "python",
   "nbconvert_exporter": "python",
   "pygments_lexer": "ipython2",
   "version": "2.7.6"
  }
 },
 "nbformat": 4,
 "nbformat_minor": 5
}
