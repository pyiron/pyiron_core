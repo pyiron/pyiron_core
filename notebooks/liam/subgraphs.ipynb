{
 "cells": [
  {
   "cell_type": "code",
   "execution_count": 1,
   "id": "initial_id",
   "metadata": {
    "ExecuteTime": {
     "end_time": "2025-04-30T20:40:43.160114Z",
     "start_time": "2025-04-30T20:40:42.801245Z"
    }
   },
   "outputs": [],
   "source": [
    "import pyiron_workflow as pwf"
   ]
  },
  {
   "cell_type": "code",
   "execution_count": 2,
   "id": "24b31153cb427a01",
   "metadata": {
    "ExecuteTime": {
     "end_time": "2025-04-30T20:40:43.286536Z",
     "start_time": "2025-04-30T20:40:43.162307Z"
    }
   },
   "outputs": [
    {
     "data": {
      "text/plain": [
       "('input will be output', 0)"
      ]
     },
     "execution_count": 2,
     "metadata": {},
     "output_type": "execute_result"
    }
   ],
   "source": [
    "@pwf.as_inp_dataclass_node\n",
    "class MyInpData:\n",
    "    question: str = \"still computing\"\n",
    "    answer: int = 42\n",
    "\n",
    "@pwf.as_out_dataclass_node\n",
    "class MyOutData:\n",
    "    question: str = \"still computing\"\n",
    "    answer: int = 42\n",
    "\n",
    "wf = pwf.Workflow(\"auto_encoding_graph\")\n",
    "wf.to_dataclass = MyInpData(\"input will be output\", 0)\n",
    "wf.from_dataclass = MyOutData(wf.to_dataclass)\n",
    "wf.run()"
   ]
  },
  {
   "cell_type": "code",
   "execution_count": 3,
   "id": "af6bc96ff44ee655",
   "metadata": {
    "ExecuteTime": {
     "end_time": "2025-04-30T20:40:43.412819Z",
     "start_time": "2025-04-30T20:40:43.408409Z"
    }
   },
   "outputs": [
    {
     "data": {
      "text/plain": [
       "(\"also when it's a macro\", 1)"
      ]
     },
     "execution_count": 3,
     "metadata": {},
     "output_type": "execute_result"
    }
   ],
   "source": [
    "@pwf.as_macro_node([\"q\", \"a\"])\n",
    "def auto_encoder(q: str, a: int):\n",
    "    wf = pwf.Workflow(\"auto_encoding_subgraph\")\n",
    "    wf.to_dataclass = MyInpData(q, a)\n",
    "    wf.from_dataclass = MyOutData(wf.to_dataclass)\n",
    "    return wf.from_dataclass.outputs.question, wf.from_dataclass.outputs.answer\n",
    "\n",
    "macro = auto_encoder()\n",
    "macro(\"also when it's a macro\", 1)"
   ]
  },
  {
   "cell_type": "markdown",
   "id": "fef1858f8337d92f",
   "metadata": {},
   "source": [
    "It's hidden behind a private variable, but we can investigate the internal state of the subgraph -- i.e. the macro object contains its subgraph's retrospective provenance"
   ]
  },
  {
   "cell_type": "code",
   "execution_count": 4,
   "id": "bcb835c61f03052f",
   "metadata": {
    "ExecuteTime": {
     "end_time": "2025-04-30T20:40:43.421425Z",
     "start_time": "2025-04-30T20:40:43.419718Z"
    }
   },
   "outputs": [
    {
     "data": {
      "text/plain": [
       "MyInpData(question=\"also when it's a macro\", answer=1)"
      ]
     },
     "execution_count": 4,
     "metadata": {},
     "output_type": "execute_result"
    }
   ],
   "source": [
    "macro._wf_macro.to_dataclass.outputs.dataclass.value"
   ]
  },
  {
   "cell_type": "code",
   "execution_count": 5,
   "id": "cd715ab8-1475-4509-a454-ccce123d417f",
   "metadata": {},
   "outputs": [
    {
     "data": {
      "application/vnd.jupyter.widget-view+json": {
       "model_id": "6d9792f82e634467acaf4666d077a412",
       "version_major": 2,
       "version_minor": 0
      },
      "text/plain": []
     },
     "metadata": {},
     "output_type": "display_data"
    },
    {
     "data": {
      "text/plain": [
       "('provenance is great', 2)"
      ]
     },
     "execution_count": 5,
     "metadata": {},
     "output_type": "execute_result"
    }
   ],
   "source": [
    "import pyiron_nodes as pn\n",
    "\n",
    "wf2 = pwf.Workflow(\"my_workflow\")\n",
    "wf2.to_dataclass = pn.liam.MyInpData(\"provenance is great\", 2)\n",
    "wf2.from_dataclass = pn.liam.MyOutData(wf2.to_dataclass.outputs.dataclass)\n",
    "wf2.macro = pn.liam.auto_encoder(wf2.from_dataclass.outputs.question, wf2.from_dataclass.outputs.answer)\n",
    "wf2.run()"
   ]
  },
  {
   "cell_type": "markdown",
   "id": "9b796e8f70a1ee0e",
   "metadata": {},
   "source": [
    "`Workflow` objects are already inspectable, since we can always look at their children:"
   ]
  },
  {
   "cell_type": "code",
   "execution_count": 6,
   "id": "3f4014e1cdace84b",
   "metadata": {
    "ExecuteTime": {
     "end_time": "2025-04-30T20:40:43.434905Z",
     "start_time": "2025-04-30T20:40:43.428970Z"
    }
   },
   "outputs": [
    {
     "data": {
      "text/plain": [
       "('provenance is great', 2)"
      ]
     },
     "execution_count": 6,
     "metadata": {},
     "output_type": "execute_result"
    }
   ],
   "source": [
    "wf = pwf.Workflow(\"my_workflow\")\n",
    "wf.to_dataclass2 = MyInpData(\"provenance is great\", 2)\n",
    "wf.from_dataclass = MyOutData(wf.to_dataclass2) # .outputs.dataclass)\n",
    "wf.macro = auto_encoder(wf.from_dataclass.outputs.question, wf.from_dataclass.outputs.answer)\n",
    "wf.run()"
   ]
  },
  {
   "cell_type": "code",
   "execution_count": 7,
   "id": "a2aa637b307c7cc6",
   "metadata": {
    "ExecuteTime": {
     "end_time": "2025-04-30T20:40:43.447559Z",
     "start_time": "2025-04-30T20:40:43.445614Z"
    }
   },
   "outputs": [
    {
     "data": {
      "text/plain": [
       "MyInpData(question='provenance is great', answer=2)"
      ]
     },
     "execution_count": 7,
     "metadata": {},
     "output_type": "execute_result"
    }
   ],
   "source": [
    "wf.macro._wf_macro.to_dataclass.outputs.dataclass.value"
   ]
  },
  {
   "cell_type": "markdown",
   "id": "3a54c99787ec2efa",
   "metadata": {},
   "source": [
    "And we can nest macros, maintaining provenance to arbitrary depth"
   ]
  },
  {
   "cell_type": "code",
   "execution_count": 8,
   "id": "cb9af61dc6f0c44a",
   "metadata": {
    "ExecuteTime": {
     "end_time": "2025-04-30T20:40:43.464307Z",
     "start_time": "2025-04-30T20:40:43.457353Z"
    }
   },
   "outputs": [
    {
     "data": {
      "text/plain": [
       "('we might want to make this optional so the garbage collector can save us memory',\n",
       " 3)"
      ]
     },
     "execution_count": 8,
     "metadata": {},
     "output_type": "execute_result"
    }
   ],
   "source": [
    "@pwf.as_macro_node([\"deep_q\", \"deep_a\"])\n",
    "def nested_macro(q: str, a: int):\n",
    "    wf = pwf.Workflow(\"nested_macro_subgraph\")\n",
    "    wf.to_dataclass = MyInpData(q, a)\n",
    "    wf.from_dataclass = MyOutData(wf.to_dataclass)\n",
    "    wf.sub_macro = auto_encoder(wf.from_dataclass.outputs.question, wf.from_dataclass.outputs.answer)\n",
    "    return wf.sub_macro.outputs.q, wf.sub_macro.outputs.a\n",
    "\n",
    "nm = nested_macro()\n",
    "nm(\"we might want to make this optional so the garbage collector can save us memory\", 3)"
   ]
  },
  {
   "cell_type": "code",
   "execution_count": 9,
   "id": "33b9a3e05e3d7e84",
   "metadata": {
    "ExecuteTime": {
     "end_time": "2025-04-30T20:40:43.476215Z",
     "start_time": "2025-04-30T20:40:43.474331Z"
    }
   },
   "outputs": [
    {
     "data": {
      "text/plain": [
       "MyInpData(question='we might want to make this optional so the garbage collector can save us memory', answer=3)"
      ]
     },
     "execution_count": 9,
     "metadata": {},
     "output_type": "execute_result"
    }
   ],
   "source": [
    "nm._wf_macro.sub_macro._wf_macro.to_dataclass.outputs.dataclass.value"
   ]
  },
  {
   "cell_type": "code",
   "execution_count": 10,
   "id": "c22a5acb-0de3-418a-a2ce-716b64c82219",
   "metadata": {},
   "outputs": [
    {
     "data": {
      "text/plain": [
       "pyiron_workflow instance: \n",
       "from pyiron_workflow import Workflow\n",
       "import pyiron_nodes\n",
       "\n",
       "wf = Workflow(\"my_workflow\")\n",
       "\n",
       "wf.to_dataclass2 = __main__.MyInpData(question=\"provenance is great\", answer=2)\n",
       "wf.from_dataclass = __main__.MyOutData(dataclass=wf.to_dataclass2)\n",
       "wf.macro = __main__.auto_encoder(\n",
       "    q=wf.from_dataclass.outputs.question,\n",
       "    a=wf.from_dataclass.outputs.answer,\n",
       "    q=\"provenance is great\",\n",
       "    a=2,\n",
       ")"
      ]
     },
     "execution_count": 10,
     "metadata": {},
     "output_type": "execute_result"
    }
   ],
   "source": [
    "wf"
   ]
  },
  {
   "cell_type": "code",
   "execution_count": 11,
   "id": "a09c74d8-8d6e-44d9-85de-723868f7dcac",
   "metadata": {},
   "outputs": [
    {
     "data": {
      "text/plain": [
       "('provenance is great', 2)"
      ]
     },
     "execution_count": 11,
     "metadata": {},
     "output_type": "execute_result"
    }
   ],
   "source": [
    "wf.macro.pull()"
   ]
  },
  {
   "cell_type": "code",
   "execution_count": 12,
   "id": "c54df0babc8aae25",
   "metadata": {
    "ExecuteTime": {
     "end_time": "2025-04-30T20:40:43.487081Z",
     "start_time": "2025-04-30T20:40:43.485874Z"
    }
   },
   "outputs": [],
   "source": [
    "from pyiron_workflow.graph import base"
   ]
  },
  {
   "cell_type": "markdown",
   "id": "3c764124-a1f6-47a5-9236-af68d78cf77b",
   "metadata": {},
   "source": [
    "q = \"question\"\n",
    "a = \"answer\"\n",
    "wf = pwf.Workflow(\"auto_encoding_subgraph\")\n",
    "wf.to_dataclass = MyInpData(q, a)\n",
    "wf.from_dataclass = MyOutData(wf.to_dataclass)"
   ]
  },
  {
   "cell_type": "code",
   "execution_count": 13,
   "id": "cb48c775-3c2f-4165-802c-04e60cc471bf",
   "metadata": {},
   "outputs": [
    {
     "name": "stdout",
     "output_type": "stream",
     "text": [
      "Adding macro node macro\n",
      "adding graph node:  macro False\n",
      "full graph Adding macro node macro False\n"
     ]
    }
   ],
   "source": [
    "graph = base.get_full_graph_from_wf(wf2)"
   ]
  },
  {
   "cell_type": "code",
   "execution_count": 14,
   "id": "cf449a77-cdcb-4375-a5b5-084c223bab87",
   "metadata": {},
   "outputs": [
    {
     "data": {
      "text/html": [
       "<div>\n",
       "<style scoped>\n",
       "    .dataframe tbody tr th:only-of-type {\n",
       "        vertical-align: middle;\n",
       "    }\n",
       "\n",
       "    .dataframe tbody tr th {\n",
       "        vertical-align: top;\n",
       "    }\n",
       "\n",
       "    .dataframe thead th {\n",
       "        text-align: right;\n",
       "    }\n",
       "</style>\n",
       "<table border=\"1\" class=\"dataframe\">\n",
       "  <thead>\n",
       "    <tr style=\"text-align: right;\">\n",
       "      <th></th>\n",
       "      <th>id</th>\n",
       "      <th>import_path</th>\n",
       "      <th>label</th>\n",
       "      <th>parent_id</th>\n",
       "      <th>level</th>\n",
       "      <th>node</th>\n",
       "      <th>graph</th>\n",
       "      <th>node_type</th>\n",
       "      <th>widget_type</th>\n",
       "      <th>expanded</th>\n",
       "    </tr>\n",
       "  </thead>\n",
       "  <tbody>\n",
       "    <tr>\n",
       "      <th>0</th>\n",
       "      <td>to_dataclass</td>\n",
       "      <td>pyiron_nodes.liam.MyInpData</td>\n",
       "      <td>to_dataclass</td>\n",
       "      <td>macro</td>\n",
       "      <td>1</td>\n",
       "      <td>&lt;pyiron_workflow.simple_workflow.Node object a...</td>\n",
       "      <td>None</td>\n",
       "      <td>node</td>\n",
       "      <td>customNode</td>\n",
       "      <td>False</td>\n",
       "    </tr>\n",
       "    <tr>\n",
       "      <th>1</th>\n",
       "      <td>from_dataclass</td>\n",
       "      <td>pyiron_workflow.simple_workflow.func_dataclass</td>\n",
       "      <td>from_dataclass</td>\n",
       "      <td>macro</td>\n",
       "      <td>1</td>\n",
       "      <td>&lt;pyiron_workflow.simple_workflow.Node object a...</td>\n",
       "      <td>None</td>\n",
       "      <td>node</td>\n",
       "      <td>customNode</td>\n",
       "      <td>False</td>\n",
       "    </tr>\n",
       "    <tr>\n",
       "      <th>2</th>\n",
       "      <td>macro</td>\n",
       "      <td>pyiron_nodes.liam.auto_encoder</td>\n",
       "      <td>macro</td>\n",
       "      <td>None</td>\n",
       "      <td>0</td>\n",
       "      <td>&lt;pyiron_workflow.simple_workflow.Node object a...</td>\n",
       "      <td>Graph(id='macro', label='macro', root_node=Non...</td>\n",
       "      <td>graph</td>\n",
       "      <td>customNode</td>\n",
       "      <td>False</td>\n",
       "    </tr>\n",
       "    <tr>\n",
       "      <th>3</th>\n",
       "      <td>va_i_macro__q</td>\n",
       "      <td>pyiron_workflow.graph.base.identity</td>\n",
       "      <td>va_i_macro__q</td>\n",
       "      <td>macro</td>\n",
       "      <td>1</td>\n",
       "      <td>&lt;pyiron_workflow.simple_workflow.Node object a...</td>\n",
       "      <td>None</td>\n",
       "      <td>node</td>\n",
       "      <td>customNode</td>\n",
       "      <td>False</td>\n",
       "    </tr>\n",
       "    <tr>\n",
       "      <th>4</th>\n",
       "      <td>va_i_macro__a</td>\n",
       "      <td>pyiron_workflow.graph.base.identity</td>\n",
       "      <td>va_i_macro__a</td>\n",
       "      <td>macro</td>\n",
       "      <td>1</td>\n",
       "      <td>&lt;pyiron_workflow.simple_workflow.Node object a...</td>\n",
       "      <td>None</td>\n",
       "      <td>node</td>\n",
       "      <td>customNode</td>\n",
       "      <td>False</td>\n",
       "    </tr>\n",
       "    <tr>\n",
       "      <th>5</th>\n",
       "      <td>va_o_macro__q</td>\n",
       "      <td>pyiron_workflow.graph.base.identity</td>\n",
       "      <td>va_o_macro__q</td>\n",
       "      <td>macro</td>\n",
       "      <td>1</td>\n",
       "      <td>&lt;pyiron_workflow.simple_workflow.Node object a...</td>\n",
       "      <td>None</td>\n",
       "      <td>node</td>\n",
       "      <td>customNode</td>\n",
       "      <td>False</td>\n",
       "    </tr>\n",
       "    <tr>\n",
       "      <th>6</th>\n",
       "      <td>va_o_macro__a</td>\n",
       "      <td>pyiron_workflow.graph.base.identity</td>\n",
       "      <td>va_o_macro__a</td>\n",
       "      <td>macro</td>\n",
       "      <td>1</td>\n",
       "      <td>&lt;pyiron_workflow.simple_workflow.Node object a...</td>\n",
       "      <td>None</td>\n",
       "      <td>node</td>\n",
       "      <td>customNode</td>\n",
       "      <td>False</td>\n",
       "    </tr>\n",
       "  </tbody>\n",
       "</table>\n",
       "</div>"
      ],
      "text/plain": [
       "Nodes([('to_dataclass',\n",
       "        GraphNode(id='to_dataclass', import_path='pyiron_nodes.liam.MyInpData', label='to_dataclass', parent_id='macro', level=1, node=<pyiron_workflow.simple_workflow.Node object at 0x1730459a0>, graph=None, node_type='node', widget_type='customNode', expanded=False)),\n",
       "       ('from_dataclass',\n",
       "        GraphNode(id='from_dataclass', import_path='pyiron_workflow.simple_workflow.func_dataclass', label='from_dataclass', parent_id='macro', level=1, node=<pyiron_workflow.simple_workflow.Node object at 0x1728ac770>, graph=None, node_type='node', widget_type='customNode', expanded=False)),\n",
       "       ('macro',\n",
       "        GraphNode(id='macro', import_path='pyiron_nodes.liam.auto_encoder', label='macro', parent_id=None, level=0, node=<pyiron_workflow.simple_workflow.Node object at 0x17295eae0>, graph=Graph(id='macro', label='macro', root_node=None, nodes=NestedDict({'va_i_macro__q': GraphNode(id='va_i_macro__q', import_path='pyiron_workflow.graph.base.identity', label='va_i_macro__q', parent_id='macro', level=1, node=<pyiron_workflow.simple_workflow.Node object at 0x173000290>, graph=None, node_type='node', widget_type='customNode', expanded=False), 'va_i_macro__a': GraphNode(id='va_i_macro__a', import_path='pyiron_workflow.graph.base.identity', label='va_i_macro__a', parent_id='macro', level=1, node=<pyiron_workflow.simple_workflow.Node object at 0x173044f20>, graph=None, node_type='node', widget_type='customNode', expanded=False), 'to_dataclass': GraphNode(id='to_dataclass', import_path='pyiron_nodes.liam.MyInpData', label='to_dataclass', parent_id='macro', level=1, node=<pyiron_workflow.simple_workflow.Node object at 0x1730459a0>, graph=None, node_type='node', widget_type='customNode', expanded=False), 'from_dataclass': GraphNode(id='from_dataclass', import_path='pyiron_workflow.simple_workflow.func_dataclass', label='from_dataclass', parent_id='macro', level=1, node=<pyiron_workflow.simple_workflow.Node object at 0x1728ac770>, graph=None, node_type='node', widget_type='customNode', expanded=False), 'va_o_macro__q': GraphNode(id='va_o_macro__q', import_path='pyiron_workflow.graph.base.identity', label='va_o_macro__q', parent_id='macro', level=1, node=<pyiron_workflow.simple_workflow.Node object at 0x173044ad0>, graph=None, node_type='node', widget_type='customNode', expanded=False), 'va_o_macro__a': GraphNode(id='va_o_macro__a', import_path='pyiron_workflow.graph.base.identity', label='va_o_macro__a', parent_id='macro', level=1, node=<pyiron_workflow.simple_workflow.Node object at 0x173044770>, graph=None, node_type='node', widget_type='customNode', expanded=False)}), edges=[GraphEdge(source='va_i_macro__q', target='to_dataclass', sourceHandle='x', targetHandle='question'), GraphEdge(source='va_i_macro__a', target='to_dataclass', sourceHandle='x', targetHandle='answer'), GraphEdge(source='to_dataclass', target='from_dataclass', sourceHandle='dataclass', targetHandle='dataclass'), GraphEdge(source='from_dataclass', target='va_o_macro__q', sourceHandle='question', targetHandle='x'), GraphEdge(source='from_dataclass', target='va_o_macro__a', sourceHandle='answer', targetHandle='x')], graph={}), node_type='graph', widget_type='customNode', expanded=False)),\n",
       "       ('va_i_macro__q',\n",
       "        GraphNode(id='va_i_macro__q', import_path='pyiron_workflow.graph.base.identity', label='va_i_macro__q', parent_id='macro', level=1, node=<pyiron_workflow.simple_workflow.Node object at 0x173000290>, graph=None, node_type='node', widget_type='customNode', expanded=False)),\n",
       "       ('va_i_macro__a',\n",
       "        GraphNode(id='va_i_macro__a', import_path='pyiron_workflow.graph.base.identity', label='va_i_macro__a', parent_id='macro', level=1, node=<pyiron_workflow.simple_workflow.Node object at 0x173044f20>, graph=None, node_type='node', widget_type='customNode', expanded=False)),\n",
       "       ('va_o_macro__q',\n",
       "        GraphNode(id='va_o_macro__q', import_path='pyiron_workflow.graph.base.identity', label='va_o_macro__q', parent_id='macro', level=1, node=<pyiron_workflow.simple_workflow.Node object at 0x173044ad0>, graph=None, node_type='node', widget_type='customNode', expanded=False)),\n",
       "       ('va_o_macro__a',\n",
       "        GraphNode(id='va_o_macro__a', import_path='pyiron_workflow.graph.base.identity', label='va_o_macro__a', parent_id='macro', level=1, node=<pyiron_workflow.simple_workflow.Node object at 0x173044770>, graph=None, node_type='node', widget_type='customNode', expanded=False))])"
      ]
     },
     "execution_count": 14,
     "metadata": {},
     "output_type": "execute_result"
    }
   ],
   "source": [
    "graph.nodes"
   ]
  },
  {
   "cell_type": "code",
   "execution_count": 15,
   "id": "62a50ed8-cdf1-4926-aad4-c32b076c4268",
   "metadata": {},
   "outputs": [
    {
     "data": {
      "text/html": [
       "<div>\n",
       "<style scoped>\n",
       "    .dataframe tbody tr th:only-of-type {\n",
       "        vertical-align: middle;\n",
       "    }\n",
       "\n",
       "    .dataframe tbody tr th {\n",
       "        vertical-align: top;\n",
       "    }\n",
       "\n",
       "    .dataframe thead th {\n",
       "        text-align: right;\n",
       "    }\n",
       "</style>\n",
       "<table border=\"1\" class=\"dataframe\">\n",
       "  <thead>\n",
       "    <tr style=\"text-align: right;\">\n",
       "      <th></th>\n",
       "      <th>source</th>\n",
       "      <th>target</th>\n",
       "      <th>sourceHandle</th>\n",
       "      <th>targetHandle</th>\n",
       "    </tr>\n",
       "  </thead>\n",
       "  <tbody>\n",
       "    <tr>\n",
       "      <th>0</th>\n",
       "      <td>va_i_macro__q</td>\n",
       "      <td>to_dataclass</td>\n",
       "      <td>x</td>\n",
       "      <td>question</td>\n",
       "    </tr>\n",
       "    <tr>\n",
       "      <th>1</th>\n",
       "      <td>va_i_macro__a</td>\n",
       "      <td>to_dataclass</td>\n",
       "      <td>x</td>\n",
       "      <td>answer</td>\n",
       "    </tr>\n",
       "    <tr>\n",
       "      <th>2</th>\n",
       "      <td>to_dataclass</td>\n",
       "      <td>from_dataclass</td>\n",
       "      <td>dataclass</td>\n",
       "      <td>dataclass</td>\n",
       "    </tr>\n",
       "    <tr>\n",
       "      <th>3</th>\n",
       "      <td>from_dataclass</td>\n",
       "      <td>va_o_macro__q</td>\n",
       "      <td>question</td>\n",
       "      <td>x</td>\n",
       "    </tr>\n",
       "    <tr>\n",
       "      <th>4</th>\n",
       "      <td>from_dataclass</td>\n",
       "      <td>va_o_macro__a</td>\n",
       "      <td>answer</td>\n",
       "      <td>x</td>\n",
       "    </tr>\n",
       "    <tr>\n",
       "      <th>5</th>\n",
       "      <td>to_dataclass</td>\n",
       "      <td>from_dataclass</td>\n",
       "      <td>dataclass</td>\n",
       "      <td>dataclass</td>\n",
       "    </tr>\n",
       "    <tr>\n",
       "      <th>6</th>\n",
       "      <td>from_dataclass</td>\n",
       "      <td>va_i_macro__q</td>\n",
       "      <td>question</td>\n",
       "      <td>x</td>\n",
       "    </tr>\n",
       "    <tr>\n",
       "      <th>7</th>\n",
       "      <td>from_dataclass</td>\n",
       "      <td>va_i_macro__a</td>\n",
       "      <td>answer</td>\n",
       "      <td>x</td>\n",
       "    </tr>\n",
       "  </tbody>\n",
       "</table>\n",
       "</div>"
      ],
      "text/plain": [
       "[GraphEdge(source='va_i_macro__q', target='to_dataclass', sourceHandle='x', targetHandle='question'),\n",
       " GraphEdge(source='va_i_macro__a', target='to_dataclass', sourceHandle='x', targetHandle='answer'),\n",
       " GraphEdge(source='to_dataclass', target='from_dataclass', sourceHandle='dataclass', targetHandle='dataclass'),\n",
       " GraphEdge(source='from_dataclass', target='va_o_macro__q', sourceHandle='question', targetHandle='x'),\n",
       " GraphEdge(source='from_dataclass', target='va_o_macro__a', sourceHandle='answer', targetHandle='x'),\n",
       " GraphEdge(source='to_dataclass', target='from_dataclass', sourceHandle='dataclass', targetHandle='dataclass'),\n",
       " GraphEdge(source='from_dataclass', target='va_i_macro__q', sourceHandle='question', targetHandle='x'),\n",
       " GraphEdge(source='from_dataclass', target='va_i_macro__a', sourceHandle='answer', targetHandle='x')]"
      ]
     },
     "execution_count": 15,
     "metadata": {},
     "output_type": "execute_result"
    }
   ],
   "source": [
    "graph.edges"
   ]
  },
  {
   "cell_type": "code",
   "execution_count": 16,
   "id": "7f316365-ee66-48b3-a574-0c024f86608c",
   "metadata": {},
   "outputs": [
    {
     "data": {
      "application/vnd.jupyter.widget-view+json": {
       "model_id": "e89023c244b549b0b32f23094046108c",
       "version_major": 2,
       "version_minor": 1
      },
      "text/plain": [
       "ReactFlowWidget(layout=Layout(height='600px', width='800px'))"
      ]
     },
     "metadata": {},
     "output_type": "display_data"
    },
    {
     "data": {
      "text/plain": [
       "<pyiron_workflow.graph.base.GuiGraph at 0x173141490>"
      ]
     },
     "execution_count": 16,
     "metadata": {},
     "output_type": "execute_result"
    }
   ],
   "source": [
    "base.GuiGraph(graph)"
   ]
  },
  {
   "cell_type": "code",
   "execution_count": 17,
   "id": "f11b8538-25de-4f2b-8538-5f7c307621e7",
   "metadata": {},
   "outputs": [
    {
     "name": "stdout",
     "output_type": "stream",
     "text": [
      "Adding macro node macro\n",
      "adding graph node:  macro False\n",
      "full graph Adding macro node macro False\n"
     ]
    },
    {
     "data": {
      "application/vnd.jupyter.widget-view+json": {
       "model_id": "bb4f82a07e0a4f488cc029ebce4dcaf4",
       "version_major": 2,
       "version_minor": 0
      },
      "text/plain": [
       "VBox(children=(HBox(children=(Output(layout=Layout(width='400px')), Tab(children=(ReactFlowWidget(layout=Layou…"
      ]
     },
     "execution_count": 17,
     "metadata": {},
     "output_type": "execute_result"
    }
   ],
   "source": [
    "from pyiron_workflow.graph.gui import PyironFlow\n",
    "\n",
    "widget = PyironFlow([wf2, 'encoder_test'])\n",
    "widget.gui"
   ]
  },
  {
   "cell_type": "code",
   "execution_count": 18,
   "id": "dfd73dc6-b86c-4455-b761-aadff3310497",
   "metadata": {},
   "outputs": [],
   "source": [
    "graph = base.GuiGraph(base.get_graph_from_macro_node(auto_encoder()))"
   ]
  },
  {
   "cell_type": "code",
   "execution_count": 19,
   "id": "79db0b5e-b9bb-4dcb-89d3-98c871b7f646",
   "metadata": {},
   "outputs": [
    {
     "name": "stdout",
     "output_type": "stream",
     "text": [
      "Adding macro node macro\n",
      "adding graph node:  macro False\n",
      "full graph Adding macro node macro False\n"
     ]
    },
    {
     "data": {
      "application/vnd.jupyter.widget-view+json": {
       "model_id": "02f46e8a38e04ec1a633a6c18fa52a16",
       "version_major": 2,
       "version_minor": 0
      },
      "text/plain": [
       "VBox(children=(HBox(children=(Output(layout=Layout(width='400px')), Tab(children=(ReactFlowWidget(layout=Layou…"
      ]
     },
     "execution_count": 19,
     "metadata": {},
     "output_type": "execute_result"
    }
   ],
   "source": [
    "widget = PyironFlow([wf])\n",
    "widget.gui"
   ]
  },
  {
   "cell_type": "code",
   "execution_count": 20,
   "id": "9f0154b3-135e-4fdd-b2b8-fd36c1c47336",
   "metadata": {},
   "outputs": [
    {
     "name": "stdout",
     "output_type": "stream",
     "text": [
      "\n",
      "def encoder_test():\n",
      "\n",
      "    from pyiron_workflow import Workflow\n",
      "    import pyiron_nodes\n",
      "\n",
      "    wf = Workflow('encoder_test')\n",
      "\n",
      "    wf.MyInpData = pyiron_nodes.liam.MyInpData() \n",
      "    wf.MyOutData = pyiron_workflow.simple_workflow.func_dataclass(dataclass=wf.MyInpData) \n",
      "    wf.auto_encoder = pyiron_nodes.liam.auto_encoder(q=wf.MyOutData.outputs.question, a=wf.MyOutData.outputs.answer) \n",
      "    wf.nested_macro = pyiron_nodes.liam.nested_macro(a=wf.MyOutData.outputs.answer, q=wf.MyOutData.outputs.question) \n",
      "\n",
      "    return \n",
      "\n"
     ]
    }
   ],
   "source": [
    "graph_encoder = base._load_graph(\"encoder_test\")\n",
    "\n",
    "print(base.graph_to_code(graph_encoder))"
   ]
  },
  {
   "cell_type": "code",
   "execution_count": 21,
   "id": "c9ce512b-0738-4608-bea4-5277e95ae8dd",
   "metadata": {},
   "outputs": [],
   "source": [
    "from pyiron_workflow import Workflow\n",
    "import pyiron_nodes\n",
    "\n",
    "wf = Workflow('encoder_test')\n",
    "\n",
    "wf.toDataclass = pyiron_nodes.liam.MyInpData(\"provenance is great\", 2) \n",
    "wf.MyOutData = pyiron_nodes.liam.MyOutData(dataclass=wf.toDataclass) \n",
    "wf.auto_encoder = pyiron_nodes.liam.auto_encoder(q=wf.MyOutData.outputs.question, a=wf.MyOutData.outputs.answer) \n",
    "# wf.nested_macro = pyiron_nodes.liam.nested_macro(a=wf.MyOutData.outputs.answer, q=wf.MyOutData.outputs.question) "
   ]
  },
  {
   "cell_type": "code",
   "execution_count": null,
   "id": "4ec7b336-3ffa-4608-8068-175fd1708fbe",
   "metadata": {},
   "outputs": [],
   "source": []
  },
  {
   "cell_type": "code",
   "execution_count": 22,
   "id": "c7d83a4e-c11d-4cb3-8246-3189755a6975",
   "metadata": {},
   "outputs": [
    {
     "data": {
      "text/plain": [
       "('provenance is great', 2)"
      ]
     },
     "execution_count": 22,
     "metadata": {},
     "output_type": "execute_result"
    }
   ],
   "source": [
    "wf = pwf.Workflow(\"my_workflow\")\n",
    "wf.to_dataclass2 = MyInpData(\"provenance is great\", 2)\n",
    "wf.from_dataclass2 = MyOutData(wf.to_dataclass2.outputs.dataclass)\n",
    "wf.macro = auto_encoder(wf.from_dataclass2.outputs.question, wf.from_dataclass2.outputs.answer)\n",
    "wf.run()"
   ]
  },
  {
   "cell_type": "code",
   "execution_count": 23,
   "id": "8a615a62-c8de-4922-a8c1-9b0e783391cb",
   "metadata": {},
   "outputs": [
    {
     "name": "stdout",
     "output_type": "stream",
     "text": [
      "Adding macro node macro\n",
      "adding graph node:  macro False\n",
      "full graph Adding macro node macro False\n"
     ]
    },
    {
     "data": {
      "application/vnd.jupyter.widget-view+json": {
       "model_id": "24be2c17e7cb411b8a814c244851ef36",
       "version_major": 2,
       "version_minor": 0
      },
      "text/plain": [
       "VBox(children=(HBox(children=(Output(layout=Layout(width='400px')), Tab(children=(ReactFlowWidget(layout=Layou…"
      ]
     },
     "execution_count": 23,
     "metadata": {},
     "output_type": "execute_result"
    },
    {
     "name": "stdout",
     "output_type": "stream",
     "text": [
      "Expanding node nested_macro\n",
      "Expanding node auto_encoder\n"
     ]
    }
   ],
   "source": [
    "widget = PyironFlow([wf])\n",
    "widget.gui"
   ]
  },
  {
   "cell_type": "code",
   "execution_count": null,
   "id": "56c57a4f-b640-4108-b65a-389110f38ec6",
   "metadata": {},
   "outputs": [],
   "source": []
  }
 ],
 "metadata": {
  "kernelspec": {
   "display_name": "Python 3 (ipykernel)",
   "language": "python",
   "name": "python3"
  },
  "language_info": {
   "codemirror_mode": {
    "name": "ipython",
    "version": 3
   },
   "file_extension": ".py",
   "mimetype": "text/x-python",
   "name": "python",
   "nbconvert_exporter": "python",
   "pygments_lexer": "ipython3",
   "version": "3.12.9"
  }
 },
 "nbformat": 4,
 "nbformat_minor": 5
}
