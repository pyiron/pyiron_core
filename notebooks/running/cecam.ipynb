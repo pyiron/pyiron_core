{
 "cells": [
  {
   "cell_type": "code",
   "execution_count": 1,
   "id": "21322efbdfc03343",
   "metadata": {
    "ExecuteTime": {
     "end_time": "2025-05-16T23:04:01.916022Z",
     "start_time": "2025-05-16T23:03:58.758845Z"
    }
   },
   "outputs": [
    {
     "name": "stdout",
     "output_type": "stream",
     "text": [
      "Local mode - booting LocalPostgres\n",
      "Running ('pg_ctl', '-D', '/Users/liamhuber/dev/pycor/pyiron_core/.pycor/pgdata', 'stop')\n",
      "waiting for server to shut down.... done\n",
      "server stopped\n",
      "Running ('pg_ctl', '-D', '/Users/liamhuber/dev/pycor/pyiron_core/.pycor/pgdata', 'status')\n",
      "Running ('initdb', '-D', '/Users/liamhuber/dev/pycor/pyiron_core/.pycor/pgdata')\n",
      "The files belonging to this database system will be owned by user \"liamhuber\".\n",
      "This user must also own the server process.\n",
      "\n",
      "The database cluster will be initialized with this locale configuration:\n",
      "  locale provider:   libc\n",
      "  LC_COLLATE:  C\n",
      "  LC_CTYPE:    UTF-8\n",
      "  LC_MESSAGES: C\n",
      "  LC_MONETARY: C\n",
      "  LC_NUMERIC:  C\n",
      "  LC_TIME:     C\n",
      "The default database encoding has accordingly been set to \"UTF8\".\n",
      "The default text search configuration will be set to \"simple\".\n",
      "\n",
      "Data page checksums are disabled.\n",
      "\n",
      "fixing permissions on existing directory /Users/liamhuber/dev/pycor/pyiron_core/.pycor/pgdata ... ok\n",
      "creating subdirectories ... ok\n",
      "selecting dynamic shared memory implementation ... posix\n",
      "selecting default \"max_connections\" ... 100\n",
      "selecting default \"shared_buffers\" ... 128MB\n",
      "selecting default time zone ... America/Vancouver\n",
      "creating configuration files ... ok\n",
      "running bootstrap script ... ok\n",
      "performing post-bootstrap initialization ... "
     ]
    },
    {
     "name": "stderr",
     "output_type": "stream",
     "text": [
      "initdb: could not find suitable text search configuration for locale \"UTF-8\"\n"
     ]
    },
    {
     "name": "stdout",
     "output_type": "stream",
     "text": [
      "ok\n",
      "syncing data to disk ... ok\n",
      "\n",
      "\n",
      "Success. You can now start the database server using:\n",
      "\n",
      "    pg_ctl -D /Users/liamhuber/dev/pycor/pyiron_core/.pycor/pgdata -l logfile start\n",
      "\n",
      "Running ('pg_ctl', '-D', '/Users/liamhuber/dev/pycor/pyiron_core/.pycor/pgdata', '-o', '-p 5432', '-l', '/Users/liamhuber/dev/pycor/pyiron_core/.pycor/pgdata/logfile', 'start')\n",
      "waiting for server to start.... done\n",
      "server started\n"
     ]
    },
    {
     "name": "stderr",
     "output_type": "stream",
     "text": [
      "initdb: warning: enabling \"trust\" authentication for local connections\n",
      "initdb: hint: You can change this by editing pg_hba.conf or using the option -A, or --auth-local and --auth-host, the next time you run initdb.\n"
     ]
    },
    {
     "name": "stdout",
     "output_type": "stream",
     "text": [
      "Running ('createuser', '-p', '5432', '-s', 'localuser')\n",
      "Running ('createdb', '-p', '5432', '-O', 'localuser', 'localdb')\n",
      "Running ('pg_ctl', '-D', '/Users/liamhuber/dev/pycor/pyiron_core/.pycor/pgdata', 'stop')\n",
      "waiting for server to shut down.... done\n",
      "server stopped\n",
      "Running ('pg_ctl', '-D', '/Users/liamhuber/dev/pycor/pyiron_core/.pycor/pgdata', '-o', '-p 5432', '-l', '/Users/liamhuber/dev/pycor/pyiron_core/.pycor/pgdata/logfile', 'start')\n",
      "waiting for server to start.... done\n",
      "server started\n"
     ]
    }
   ],
   "source": [
    "# SETUP\n",
    "\n",
    "import contextlib\n",
    "import pathlib\n",
    "import shutil\n",
    "\n",
    "from pyiron_core import util\n",
    "\n",
    "json_file_location = util.STORED_WORKFLOW_DIR\n",
    "\n",
    "lpg = util.LocalPostgres()\n",
    "lpg.boot()"
   ]
  },
  {
   "cell_type": "code",
   "execution_count": 2,
   "id": "917d62ed85a61549",
   "metadata": {},
   "outputs": [],
   "source": [
    "%config IPCompleter.evaluation='unsafe'\n",
    "\n",
    "import concurrent.futures\n",
    "import copy\n",
    "import importlib\n",
    "import json\n",
    "import math\n",
    "import pickle\n",
    "from typing import Optional\n",
    "\n",
    "\n",
    "import black\n",
    "import executorlib\n",
    "import numpy as np\n",
    "import pandas as pd\n",
    "import sqlalchemy\n",
    "from sqlalchemy import orm\n",
    "\n",
    "\n",
    "import pyiron_core as pc\n",
    "import pyiron_core.pyiron_database.api as pyiron_database\n",
    "from pyiron_core import nodes\n",
    "from pyiron_core.pyiron_workflow.api import graph as base\n"
   ]
  },
  {
   "cell_type": "code",
   "execution_count": 3,
   "id": "189596e4b409b094",
   "metadata": {},
   "outputs": [
    {
     "name": "stdout",
     "output_type": "stream",
     "text": [
      "Database created: <pyiron_core.pyiron_database.instance_database.PostgreSQLInstanceDatabase.PostgreSQLInstanceDatabase object at 0x16ab566f0>\n"
     ]
    },
    {
     "data": {
      "application/vnd.jupyter.widget-view+json": {
       "model_id": "518c3205856e4023be76f85c2972f517",
       "version_major": 2,
       "version_minor": 0
      },
      "text/plain": [
       "VBox(children=(HBox(children=(Output(layout=Layout(width='400px')), Tab(children=(ReactFlowWidget(layout=Layou…"
      ]
     },
     "execution_count": 3,
     "metadata": {},
     "output_type": "execute_result"
    }
   ],
   "source": [
    "pf = pc.PyironFlow(\n",
    "    ['murnaghan2', 'energy', 'murn4', 'db'], \n",
    "    hash_nodes=True, \n",
    "    db=pyiron_database.PostgreSQLInstanceDatabase(lpg.connection_string),\n",
    "    workflow_path=json_file_location,\n",
    ") # 'landau2',\n",
    "pf.gui"
   ]
  },
  {
   "cell_type": "code",
   "execution_count": 4,
   "id": "ba0b8cd7c1932c19",
   "metadata": {},
   "outputs": [
    {
     "name": "stdout",
     "output_type": "stream",
     "text": [
      "Updating input BulkStaticEnergyF in node BulkStaticEnergyF out node 6107307312 6107307312\n",
      "Updating input Linspace in node Linspace linspace kwarg_list 6107577856 6107577856\n",
      "Updating input CreateDB in node CreateDB db _db 6107576608 6107576608\n",
      "Updating input CreateDB in node CreateDB db _db 6107576608 6107576608\n",
      "Updating input CreateDB in node CreateDB db db 6107576608 6107576608\n"
     ]
    },
    {
     "data": {
      "text/plain": [
       "('0fecb738a6b6772cf4c7e2780fbcee8290bcaa064759d18c0abf15865f28850a',\n",
       " 6107307312,\n",
       " 6107307312)"
      ]
     },
     "execution_count": 4,
     "metadata": {},
     "output_type": "execute_result"
    }
   ],
   "source": [
    "# MUST ENSURE `'murn4'` graph is the active one -- how to do this with code?\n",
    "# We could go back and manually change the order they are loaded in,\n",
    "# but I want to see what is required to actually select one\n",
    "def select_graph_by_name(pf: pc.PyironFlow, graph_label: str):\n",
    "    pf.tab_widget.selected_index = [w.graph.label for w in pf.wf_widgets].index(graph_label)\n",
    "\n",
    "select_graph_by_name(pf, \"murn4\")\n",
    "\n",
    "graph = pf.graph\n",
    "graph = base.update_execution_graph(graph, debug=True)\n",
    "nodeB = graph.nodes[\"BulkStaticEnergyF\"].node\n",
    "nodeI = graph.nodes[\"IterNode\"].node\n",
    "\n",
    "pyiron_database.get_hash(nodeB), id(nodeB), id(nodeI.inputs.node.value.node)"
   ]
  },
  {
   "cell_type": "code",
   "execution_count": 5,
   "id": "638c91cdabe5c9ea",
   "metadata": {},
   "outputs": [
    {
     "data": {
      "text/plain": [
       "(6107307312, 6107307312)"
      ]
     },
     "execution_count": 5,
     "metadata": {},
     "output_type": "execute_result"
    }
   ],
   "source": [
    "id(nodeB.outputs.out.node), id(nodeB)"
   ]
  },
  {
   "cell_type": "code",
   "execution_count": 6,
   "id": "c0233caf194a8244",
   "metadata": {},
   "outputs": [
    {
     "data": {
      "text/plain": [
       "dict_keys(['label', 'type', 'ready', 'value', 'node'])"
      ]
     },
     "execution_count": 6,
     "metadata": {},
     "output_type": "execute_result"
    }
   ],
   "source": [
    "nodeI.outputs.data.keys()"
   ]
  },
  {
   "cell_type": "code",
   "execution_count": 7,
   "id": "25dd6210-e4e1-46fe-85a7-e36bc784dcc0",
   "metadata": {
    "ExecuteTime": {
     "end_time": "2025-05-16T23:04:03.524179Z",
     "start_time": "2025-05-16T23:04:03.518596Z"
    }
   },
   "outputs": [
    {
     "data": {
      "text/html": [
       "<div>\n",
       "<style scoped>\n",
       "    .dataframe tbody tr th:only-of-type {\n",
       "        vertical-align: middle;\n",
       "    }\n",
       "\n",
       "    .dataframe tbody tr th {\n",
       "        vertical-align: top;\n",
       "    }\n",
       "\n",
       "    .dataframe thead th {\n",
       "        text-align: right;\n",
       "    }\n",
       "</style>\n",
       "<table border=\"1\" class=\"dataframe\">\n",
       "  <thead>\n",
       "    <tr style=\"text-align: right;\">\n",
       "      <th></th>\n",
       "      <th>label</th>\n",
       "      <th>type</th>\n",
       "      <th>default</th>\n",
       "      <th>ready</th>\n",
       "      <th>value</th>\n",
       "      <th>node</th>\n",
       "    </tr>\n",
       "  </thead>\n",
       "  <tbody>\n",
       "    <tr>\n",
       "      <th>0</th>\n",
       "      <td>name</td>\n",
       "      <td>str</td>\n",
       "      <td>NotData</td>\n",
       "      <td>True</td>\n",
       "      <td>Al</td>\n",
       "      <td>&lt;pyiron_core.pyiron_workflow.simple_workflow.N...</td>\n",
       "    </tr>\n",
       "    <tr>\n",
       "      <th>1</th>\n",
       "      <td>a</td>\n",
       "      <td>float</td>\n",
       "      <td>None</td>\n",
       "      <td>True</td>\n",
       "      <td>None</td>\n",
       "      <td>&lt;pyiron_core.pyiron_workflow.simple_workflow.N...</td>\n",
       "    </tr>\n",
       "    <tr>\n",
       "      <th>2</th>\n",
       "      <td>store</td>\n",
       "      <td>bool</td>\n",
       "      <td>True</td>\n",
       "      <td>True</td>\n",
       "      <td>True</td>\n",
       "      <td>&lt;pyiron_core.pyiron_workflow.simple_workflow.N...</td>\n",
       "    </tr>\n",
       "    <tr>\n",
       "      <th>3</th>\n",
       "      <td>_db</td>\n",
       "      <td>NotHinted</td>\n",
       "      <td>None</td>\n",
       "      <td>True</td>\n",
       "      <td>label                                         ...</td>\n",
       "      <td>&lt;pyiron_core.pyiron_workflow.simple_workflow.N...</td>\n",
       "    </tr>\n",
       "  </tbody>\n",
       "</table>\n",
       "</div>"
      ],
      "text/plain": [
       "{'label': ['name', 'a', 'store', '_db'], 'type': ['str', 'float', 'bool', 'NotHinted'], 'default': ['NotData', None, True, None], 'ready': [True, True, True, True], 'value': ['Al', None, True, label                                                   db\n",
       "type                                     builtins.NoneType\n",
       "ready                                                False\n",
       "value                                                 None\n",
       "node     <pyiron_core.pyiron_workflow.simple_workflow.N...\n",
       "dtype: object], 'node': [<pyiron_core.pyiron_workflow.simple_workflow.Node object at 0x16c061d30>, <pyiron_core.pyiron_workflow.simple_workflow.Node object at 0x16c061d30>, <pyiron_core.pyiron_workflow.simple_workflow.Node object at 0x16c061d30>, <pyiron_core.pyiron_workflow.simple_workflow.Node object at 0x16c061d30>]}"
      ]
     },
     "execution_count": 7,
     "metadata": {},
     "output_type": "execute_result"
    }
   ],
   "source": [
    "nodeB.inputs"
   ]
  },
  {
   "cell_type": "code",
   "execution_count": 8,
   "id": "8d5fc93c-3eee-4acc-bbff-62a36ff906a8",
   "metadata": {
    "ExecuteTime": {
     "end_time": "2025-05-16T23:04:03.571960Z",
     "start_time": "2025-05-16T23:04:03.569599Z"
    }
   },
   "outputs": [
    {
     "data": {
      "text/plain": [
       "label                                                  out\n",
       "type                                     builtins.NoneType\n",
       "ready                                                False\n",
       "value                                                 None\n",
       "node     <pyiron_core.pyiron_workflow.simple_workflow.N...\n",
       "dtype: object"
      ]
     },
     "execution_count": 8,
     "metadata": {},
     "output_type": "execute_result"
    }
   ],
   "source": [
    "nodeI.inputs.node.value"
   ]
  },
  {
   "cell_type": "code",
   "execution_count": 9,
   "id": "b02b2281b0b618ca",
   "metadata": {},
   "outputs": [
    {
     "data": {
      "text/plain": [
       "'0fecb738a6b6772cf4c7e2780fbcee8290bcaa064759d18c0abf15865f28850a'"
      ]
     },
     "execution_count": 9,
     "metadata": {},
     "output_type": "execute_result"
    }
   ],
   "source": [
    "pyiron_database.get_hash(nodeI.inputs.node.value.node)"
   ]
  },
  {
   "cell_type": "code",
   "execution_count": 10,
   "id": "f7bc0cf392cbd7fe",
   "metadata": {},
   "outputs": [
    {
     "data": {
      "text/html": [
       "<div>\n",
       "<style scoped>\n",
       "    .dataframe tbody tr th:only-of-type {\n",
       "        vertical-align: middle;\n",
       "    }\n",
       "\n",
       "    .dataframe tbody tr th {\n",
       "        vertical-align: top;\n",
       "    }\n",
       "\n",
       "    .dataframe thead th {\n",
       "        text-align: right;\n",
       "    }\n",
       "</style>\n",
       "<table border=\"1\" class=\"dataframe\">\n",
       "  <thead>\n",
       "    <tr style=\"text-align: right;\">\n",
       "      <th></th>\n",
       "      <th>label</th>\n",
       "      <th>type</th>\n",
       "      <th>default</th>\n",
       "      <th>ready</th>\n",
       "      <th>value</th>\n",
       "      <th>node</th>\n",
       "    </tr>\n",
       "  </thead>\n",
       "  <tbody>\n",
       "    <tr>\n",
       "      <th>0</th>\n",
       "      <td>name</td>\n",
       "      <td>str</td>\n",
       "      <td>NotData</td>\n",
       "      <td>True</td>\n",
       "      <td>Al</td>\n",
       "      <td>&lt;pyiron_core.pyiron_workflow.simple_workflow.N...</td>\n",
       "    </tr>\n",
       "    <tr>\n",
       "      <th>1</th>\n",
       "      <td>a</td>\n",
       "      <td>float</td>\n",
       "      <td>None</td>\n",
       "      <td>True</td>\n",
       "      <td>None</td>\n",
       "      <td>&lt;pyiron_core.pyiron_workflow.simple_workflow.N...</td>\n",
       "    </tr>\n",
       "    <tr>\n",
       "      <th>2</th>\n",
       "      <td>store</td>\n",
       "      <td>bool</td>\n",
       "      <td>True</td>\n",
       "      <td>True</td>\n",
       "      <td>True</td>\n",
       "      <td>&lt;pyiron_core.pyiron_workflow.simple_workflow.N...</td>\n",
       "    </tr>\n",
       "    <tr>\n",
       "      <th>3</th>\n",
       "      <td>_db</td>\n",
       "      <td>NotHinted</td>\n",
       "      <td>None</td>\n",
       "      <td>True</td>\n",
       "      <td>label                                         ...</td>\n",
       "      <td>&lt;pyiron_core.pyiron_workflow.simple_workflow.N...</td>\n",
       "    </tr>\n",
       "  </tbody>\n",
       "</table>\n",
       "</div>"
      ],
      "text/plain": [
       "{'label': ['name', 'a', 'store', '_db'], 'type': ['str', 'float', 'bool', 'NotHinted'], 'default': ['NotData', None, True, None], 'ready': [True, True, True, True], 'value': ['Al', None, True, label                                                   db\n",
       "type                                     builtins.NoneType\n",
       "ready                                                False\n",
       "value                                                 None\n",
       "node     <pyiron_core.pyiron_workflow.simple_workflow.N...\n",
       "dtype: object], 'node': [<pyiron_core.pyiron_workflow.simple_workflow.Node object at 0x16c061d30>, <pyiron_core.pyiron_workflow.simple_workflow.Node object at 0x16c061d30>, <pyiron_core.pyiron_workflow.simple_workflow.Node object at 0x16c061d30>, <pyiron_core.pyiron_workflow.simple_workflow.Node object at 0x16c061d30>]}"
      ]
     },
     "execution_count": 10,
     "metadata": {},
     "output_type": "execute_result"
    }
   ],
   "source": [
    "nodeI.inputs.node.value.node.inputs"
   ]
  },
  {
   "cell_type": "code",
   "execution_count": 11,
   "id": "c1059979a9fae5d7",
   "metadata": {},
   "outputs": [
    {
     "data": {
      "text/plain": [
       "[2, 3, 1]"
      ]
     },
     "execution_count": 11,
     "metadata": {},
     "output_type": "execute_result"
    }
   ],
   "source": [
    "base._find_input_nodes(base._remove_node_inputs(graph), 1)"
   ]
  },
  {
   "cell_type": "code",
   "execution_count": 12,
   "id": "e69fc213b02a3f2c",
   "metadata": {},
   "outputs": [],
   "source": [
    "@pc.as_function_node(\"energy\")\n",
    "def BulkStaticEnergy(name: str, a: float = None):\n",
    "\n",
    "    from pyiron_core import nodes, Workflow\n",
    "\n",
    "    wf = Workflow('subgraph')\n",
    "\n",
    "    wf.Bulk = nodes.atomistic.structure.build.Bulk(name=name, a=a)\n",
    "    wf.M3GNet = nodes.atomistic.engine.ase.M3GNet()\n",
    "    wf.Static = nodes.atomistic.calculator.ase.Static(structure=wf.Bulk, engine=wf.M3GNet)\n",
    "    wf.GetEnergyLast = nodes.atomistic.calculator.output.GetEnergyLast(calculator=wf.Static)\n",
    "\n",
    "    out = wf.GetEnergyLast.pull()\n",
    "\n",
    "    return out\n",
    "\n",
    "    # return wf.GetEnergyLast.outputs.energy_last"
   ]
  },
  {
   "cell_type": "code",
   "execution_count": 13,
   "id": "ead8d337d8f0950a",
   "metadata": {},
   "outputs": [],
   "source": [
    "@pc.as_macro_node([\"BulkStaticEnergy\", \"BulkStructure\"])\n",
    "def BulkStaticEnergy(name: str, a: float = None):\n",
    "\n",
    "    from pyiron_core import nodes, Workflow\n",
    "\n",
    "    wf = Workflow('subgraph')\n",
    "\n",
    "    wf.Bulk = nodes.atomistic.structure.build.Bulk(name=name, a=a)\n",
    "    wf.M3GNet = nodes.atomistic.engine.ase.M3GNet()\n",
    "    wf.Static = nodes.atomistic.calculator.ase.Static(structure=wf.Bulk, engine=wf.M3GNet)\n",
    "    wf.GetEnergyLast = nodes.atomistic.calculator.output.GetEnergyLast(calculator=wf.Static)\n",
    "\n",
    "    return wf.GetEnergyLast.outputs.energy_last, wf.Bulk"
   ]
  },
  {
   "cell_type": "code",
   "execution_count": 14,
   "id": "30a65091f16d50b3",
   "metadata": {},
   "outputs": [
    {
     "data": {
      "text/plain": [
       "['BulkStaticEnergy', 'BulkStructure']"
      ]
     },
     "execution_count": 14,
     "metadata": {},
     "output_type": "execute_result"
    }
   ],
   "source": [
    "args = [\"BulkStaticEnergy\", \"BulkStructure\"]\n",
    "if isinstance(args[0], str):\n",
    "    output_labels = list(args)\n",
    "else:\n",
    "    output_labels = None\n",
    "output_labels"
   ]
  },
  {
   "cell_type": "code",
   "execution_count": 15,
   "id": "31842ea1-05dd-4667-86f8-b60caa4a31d6",
   "metadata": {
    "ExecuteTime": {
     "end_time": "2025-05-16T23:04:05.838796Z",
     "start_time": "2025-05-16T23:04:04.146790Z"
    }
   },
   "outputs": [
    {
     "name": "stderr",
     "output_type": "stream",
     "text": [
      "/Users/liamhuber/dev/miniforge3/envs/pycor12/lib/python3.12/site-packages/matgl/apps/pes.py:69: UserWarning: To copy construct from a tensor, it is recommended to use sourceTensor.clone().detach() or sourceTensor.clone().detach().requires_grad_(True), rather than torch.tensor(sourceTensor).\n",
      "  self.element_refs = AtomRef(property_offset=torch.tensor(element_refs, dtype=matgl.float_th))\n",
      "/Users/liamhuber/dev/miniforge3/envs/pycor12/lib/python3.12/site-packages/matgl/apps/pes.py:75: UserWarning: To copy construct from a tensor, it is recommended to use sourceTensor.clone().detach() or sourceTensor.clone().detach().requires_grad_(True), rather than torch.tensor(sourceTensor).\n",
      "  self.register_buffer(\"data_mean\", torch.tensor(data_mean, dtype=matgl.float_th))\n",
      "/Users/liamhuber/dev/miniforge3/envs/pycor12/lib/python3.12/site-packages/matgl/apps/pes.py:76: UserWarning: To copy construct from a tensor, it is recommended to use sourceTensor.clone().detach() or sourceTensor.clone().detach().requires_grad_(True), rather than torch.tensor(sourceTensor).\n",
      "  self.register_buffer(\"data_std\", torch.tensor(data_std, dtype=matgl.float_th))\n",
      "DEBUG:pyiron_log:Not supported parameter used!\n"
     ]
    },
    {
     "data": {
      "text/plain": [
       "(-3.701530933380127,\n",
       " Al: [0. 0. 0.]\n",
       " tags: \n",
       "     indices: [0]\n",
       " pbc: [ True  True  True]\n",
       " cell: \n",
       " Cell([[0.0, 2.025, 2.025], [2.025, 0.0, 2.025], [2.025, 2.025, 0.0]]))"
      ]
     },
     "execution_count": 15,
     "metadata": {},
     "output_type": "execute_result"
    }
   ],
   "source": [
    "out = BulkStaticEnergy(name='Al').run()\n",
    "out"
   ]
  },
  {
   "cell_type": "code",
   "execution_count": 16,
   "id": "fec534bb-ebb0-4717-90c2-e3dfa4649c1f",
   "metadata": {
    "ExecuteTime": {
     "end_time": "2025-05-16T23:04:06.061179Z",
     "start_time": "2025-05-16T23:04:05.849355Z"
    }
   },
   "outputs": [
    {
     "data": {
      "text/plain": [
       "'graph'"
      ]
     },
     "execution_count": 16,
     "metadata": {},
     "output_type": "execute_result"
    }
   ],
   "source": [
    "select_graph_by_name(pf, \"murnaghan2\")\n",
    "pf.graph.nodes[\"subgraph\"].node.node_type"
   ]
  },
  {
   "cell_type": "code",
   "execution_count": 17,
   "id": "2372e1fe-8aa8-445f-ae1e-5981906d48d6",
   "metadata": {
    "ExecuteTime": {
     "end_time": "2025-05-16T23:04:06.075775Z",
     "start_time": "2025-05-16T23:04:06.071815Z"
    }
   },
   "outputs": [
    {
     "data": {
      "text/html": [
       "<div>\n",
       "<style scoped>\n",
       "    .dataframe tbody tr th:only-of-type {\n",
       "        vertical-align: middle;\n",
       "    }\n",
       "\n",
       "    .dataframe tbody tr th {\n",
       "        vertical-align: top;\n",
       "    }\n",
       "\n",
       "    .dataframe thead th {\n",
       "        text-align: right;\n",
       "    }\n",
       "</style>\n",
       "<table border=\"1\" class=\"dataframe\">\n",
       "  <thead>\n",
       "    <tr style=\"text-align: right;\">\n",
       "      <th></th>\n",
       "      <th>label</th>\n",
       "      <th>value</th>\n",
       "      <th>type</th>\n",
       "      <th>default</th>\n",
       "      <th>ready</th>\n",
       "    </tr>\n",
       "  </thead>\n",
       "  <tbody>\n",
       "    <tr>\n",
       "      <th>0</th>\n",
       "      <td>Bulk__name</td>\n",
       "      <td>Al</td>\n",
       "      <td>str</td>\n",
       "      <td>NotData</td>\n",
       "      <td>True</td>\n",
       "    </tr>\n",
       "    <tr>\n",
       "      <th>1</th>\n",
       "      <td>Bulk__a</td>\n",
       "      <td>2</td>\n",
       "      <td>Optional[float]</td>\n",
       "      <td>None</td>\n",
       "      <td>True</td>\n",
       "    </tr>\n",
       "  </tbody>\n",
       "</table>\n",
       "</div>"
      ],
      "text/plain": [
       "{'label': ['Bulk__name', 'Bulk__a'], 'value': ['Al', 2], 'type': ['str', 'Optional[float]'], 'default': ['NotData', None], 'ready': [True, True]}"
      ]
     },
     "execution_count": 17,
     "metadata": {},
     "output_type": "execute_result"
    }
   ],
   "source": [
    "base.get_inputs_of_graph(pf.graph.nodes[\"subgraph\"].graph, exclude_unconnected_default_ports=True)"
   ]
  },
  {
   "cell_type": "code",
   "execution_count": 18,
   "id": "8f4baa0a-b4da-469b-8d3d-f145a5a5ec8a",
   "metadata": {
    "ExecuteTime": {
     "end_time": "2025-05-16T23:04:06.169848Z",
     "start_time": "2025-05-16T23:04:06.124396Z"
    }
   },
   "outputs": [
    {
     "name": "stdout",
     "output_type": "stream",
     "text": [
      "\n",
      "def subgraph(Bulk__name: str = \"Al\", Bulk__a: Optional[float] = 2):\n",
      "\n",
      "    from pyiron_core.pyiron_workflow import Workflow\n",
      "    from pyiron_core.pyiron_nodes.atomistic.structure.build import Bulk\n",
      "    from pyiron_core.pyiron_nodes.atomistic.engine.ase import M3GNet\n",
      "    from pyiron_core.pyiron_nodes.atomistic.calculator.ase import Static\n",
      "    from pyiron_core.pyiron_nodes.atomistic.calculator.output import GetEnergyLast\n",
      "\n",
      "    wf = Workflow('subgraph')\n",
      "    wf.Bulk = Bulk(name=Bulk__name, a=Bulk__a)\n",
      "    wf.M3GNet = M3GNet()\n",
      "    wf.Static = Static(structure=wf.Bulk, engine=wf.M3GNet)\n",
      "    wf.GetEnergyLast = GetEnergyLast(calculator=wf.Static)\n",
      "\n",
      "    return wf.GetEnergyLast.outputs.energy_last\n",
      "\n"
     ]
    }
   ],
   "source": [
    "print(base.get_code_from_graph(pf.graph.nodes[\"subgraph\"].graph))"
   ]
  },
  {
   "cell_type": "code",
   "execution_count": 19,
   "id": "2749dde6-b858-4fac-9272-1b4617950a26",
   "metadata": {
    "ExecuteTime": {
     "end_time": "2025-05-16T23:04:06.269314Z",
     "start_time": "2025-05-16T23:04:06.267902Z"
    }
   },
   "outputs": [
    {
     "data": {
      "text/plain": [
       "<pyiron_core.pyiron_database.instance_database.PostgreSQLInstanceDatabase.PostgreSQLInstanceDatabase at 0x16ab566f0>"
      ]
     },
     "execution_count": 19,
     "metadata": {},
     "output_type": "execute_result"
    }
   ],
   "source": [
    "pf.db"
   ]
  },
  {
   "cell_type": "markdown",
   "id": "19ccb294-f3e9-4fd1-8ba8-a7846672f251",
   "metadata": {},
   "source": [
    "From here on, we need the database to actually be populated with results from our workflows. Since this is not part of our static data, obtain it by simply re-running each of the existing workflows."
   ]
  },
  {
   "cell_type": "code",
   "execution_count": 20,
   "id": "e55618aa-936f-444c-bcbb-602974375cac",
   "metadata": {
    "ExecuteTime": {
     "end_time": "2025-05-16T23:04:07.332431Z",
     "start_time": "2025-05-16T23:04:06.360539Z"
    }
   },
   "outputs": [
    {
     "name": "stderr",
     "output_type": "stream",
     "text": [
      "/Users/liamhuber/dev/miniforge3/envs/pycor12/lib/python3.12/site-packages/matgl/apps/pes.py:69: UserWarning: To copy construct from a tensor, it is recommended to use sourceTensor.clone().detach() or sourceTensor.clone().detach().requires_grad_(True), rather than torch.tensor(sourceTensor).\n",
      "  self.element_refs = AtomRef(property_offset=torch.tensor(element_refs, dtype=matgl.float_th))\n",
      "/Users/liamhuber/dev/miniforge3/envs/pycor12/lib/python3.12/site-packages/matgl/apps/pes.py:75: UserWarning: To copy construct from a tensor, it is recommended to use sourceTensor.clone().detach() or sourceTensor.clone().detach().requires_grad_(True), rather than torch.tensor(sourceTensor).\n",
      "  self.register_buffer(\"data_mean\", torch.tensor(data_mean, dtype=matgl.float_th))\n",
      "/Users/liamhuber/dev/miniforge3/envs/pycor12/lib/python3.12/site-packages/matgl/apps/pes.py:76: UserWarning: To copy construct from a tensor, it is recommended to use sourceTensor.clone().detach() or sourceTensor.clone().detach().requires_grad_(True), rather than torch.tensor(sourceTensor).\n",
      "  self.register_buffer(\"data_std\", torch.tensor(data_std, dtype=matgl.float_th))\n",
      "DEBUG:pyiron_log:Not supported parameter used!\n",
      "DEBUG:pyiron_log:Not supported parameter used!\n"
     ]
    },
    {
     "name": "stdout",
     "output_type": "stream",
     "text": [
      "Ensuring execution for murnaghan2\n",
      "Running node Linspace\n",
      "Running node CreateDB\n",
      "Running node IterNode\n",
      "Restoring node outputs  ef1ceb7bdd503d6a9f67e4a5d6acc65e29333975848be10d98eb065999a993c8 IterNode False\n",
      "No stored data found for node:  IterNode\n",
      "copy node (port):  subgraph af664f1e71b0ce7d5a6da1ec806b4f24be3f8e2bebb75cda2a9717f4e24c552f\n"
     ]
    },
    {
     "name": "stderr",
     "output_type": "stream",
     "text": [
      "DEBUG:pyiron_log:Not supported parameter used!\n",
      "DEBUG:pyiron_log:Not supported parameter used!\n",
      "DEBUG:pyiron_log:Not supported parameter used!\n",
      "DEBUG:pyiron_log:Not supported parameter used!\n",
      "DEBUG:pyiron_log:Not supported parameter used!\n",
      "/Users/liamhuber/dev/miniforge3/envs/pycor12/lib/python3.12/site-packages/matgl/apps/pes.py:69: UserWarning: To copy construct from a tensor, it is recommended to use sourceTensor.clone().detach() or sourceTensor.clone().detach().requires_grad_(True), rather than torch.tensor(sourceTensor).\n",
      "  self.element_refs = AtomRef(property_offset=torch.tensor(element_refs, dtype=matgl.float_th))\n",
      "/Users/liamhuber/dev/miniforge3/envs/pycor12/lib/python3.12/site-packages/matgl/apps/pes.py:75: UserWarning: To copy construct from a tensor, it is recommended to use sourceTensor.clone().detach() or sourceTensor.clone().detach().requires_grad_(True), rather than torch.tensor(sourceTensor).\n",
      "  self.register_buffer(\"data_mean\", torch.tensor(data_mean, dtype=matgl.float_th))\n",
      "/Users/liamhuber/dev/miniforge3/envs/pycor12/lib/python3.12/site-packages/matgl/apps/pes.py:76: UserWarning: To copy construct from a tensor, it is recommended to use sourceTensor.clone().detach() or sourceTensor.clone().detach().requires_grad_(True), rather than torch.tensor(sourceTensor).\n",
      "  self.register_buffer(\"data_std\", torch.tensor(data_std, dtype=matgl.float_th))\n",
      "DEBUG:pyiron_log:Not supported parameter used!\n",
      "DEBUG:pyiron_log:Not supported parameter used!\n",
      "DEBUG:pyiron_log:Not supported parameter used!\n",
      "DEBUG:pyiron_log:Not supported parameter used!\n"
     ]
    },
    {
     "name": "stdout",
     "output_type": "stream",
     "text": [
      "serialization needed\n",
      "Running node CreateDB\n",
      "Running node ShowTable\n",
      "Ensuring execution for energy\n",
      "Running node Bulk\n",
      "Running node M3GNet\n",
      "Running node CreateDB\n",
      "Running node Static\n",
      "Running node GetEnergyLast\n",
      "Restoring node outputs  aad4d0c9828ce452d888a801816d13c706b7b155ca630c35b9a23e1b1e2bc63a GetEnergyLast False\n",
      "No stored data found for node:  GetEnergyLast\n",
      "serialization not needed\n",
      "Running node CreateDB\n",
      "Running node ShowTable\n",
      "Ensuring execution for murn4\n",
      "Running node Linspace\n",
      "Running node CreateDB\n",
      "Running node IterNode\n",
      "Restoring node outputs  3cb9cbdac90bf946399190329b9d76df3a7151aacd6ffaf05157d68a4c4309b9 IterNode False\n",
      "No stored data found for node:  IterNode\n",
      "copy node (port):  BulkStaticEnergyF 0fecb738a6b6772cf4c7e2780fbcee8290bcaa064759d18c0abf15865f28850a\n",
      "Restoring node outputs  a7c68e4044a3c8e2aee51546491aa5b52b9cafc4a842f877022057c791c30cd9 BulkStaticEnergyF False\n",
      "No stored data found for node:  BulkStaticEnergyF\n",
      "serialization not needed\n",
      "Restoring node outputs  3fb9126cc5ada3ed584f138b083853417091e81358d28256e06ce3e408cbc357 BulkStaticEnergyF False\n",
      "No stored data found for node:  BulkStaticEnergyF\n",
      "serialization not needed\n",
      "Restoring node outputs  441889d45fe62a4035c4f9c156f7f05d175aa809c9d35834ee89a5da5f75d033 BulkStaticEnergyF False\n",
      "No stored data found for node:  BulkStaticEnergyF\n",
      "serialization not needed\n",
      "Restoring node outputs  278c7e5efa384fb18f15f554109bd38a4632ddacab70eee88a8cc87f92373dc8 BulkStaticEnergyF False\n",
      "No stored data found for node:  BulkStaticEnergyF\n"
     ]
    },
    {
     "name": "stderr",
     "output_type": "stream",
     "text": [
      "DEBUG:pyiron_log:Not supported parameter used!\n",
      "DEBUG:pyiron_log:Not supported parameter used!\n",
      "/Users/liamhuber/dev/miniforge3/envs/pycor12/lib/python3.12/site-packages/dgl/core.py:82: DGLWarning: The input graph for the user-defined edge function does not contain valid edges\n",
      "  dgl_warning(\n",
      "DEBUG:pyiron_log:Not supported parameter used!\n",
      "DEBUG:pyiron_log:Not supported parameter used!\n"
     ]
    },
    {
     "name": "stdout",
     "output_type": "stream",
     "text": [
      "serialization not needed\n",
      "Restoring node outputs  37b011b59638a23c639974b2b5cc4703d87851563376a0fa024b7ba4dc003737 BulkStaticEnergyF False\n",
      "No stored data found for node:  BulkStaticEnergyF\n",
      "serialization not needed\n",
      "Restoring node outputs  b63781c862f7b465beff713f53ff5c49c97f10e9b4f0ba276dcf7be67b7f0c33 BulkStaticEnergyF False\n",
      "No stored data found for node:  BulkStaticEnergyF\n",
      "serialization not needed\n",
      "Restoring node outputs  e69c784d41aa185a10fb42835a305ec0eb4b5600f76e468114e079616b59f62e BulkStaticEnergyF False\n",
      "No stored data found for node:  BulkStaticEnergyF\n",
      "serialization not needed\n",
      "serialization not needed\n",
      "serialization needed\n",
      "Running node CreateDB\n",
      "Running node ShowTable\n"
     ]
    }
   ],
   "source": [
    "def pull_all_terminal_nodes(graph: base.Graph, _verbose: bool = False):\n",
    "    graph_copy = base.get_updated_graph(graph)\n",
    "    for label, graph_node in graph_copy.nodes.items():\n",
    "        is_virtual = (\n",
    "            graph_node.node_type != \"node\" # Is this true? Is a \"graph\" node_type always virtual?\n",
    "            and graph_node.node is not None  # These are virtual IO nodes\n",
    "        )\n",
    "        is_terminal = label not in graph.edges.df[\"source\"].values\n",
    "        \n",
    "        if is_terminal and not is_virtual:\n",
    "            if _verbose:\n",
    "                print(\"Pulling\", label)\n",
    "            base.pull_node(graph_copy, label, db=pf.db)\n",
    "\n",
    "for wfw in pf.wf_widgets:\n",
    "    if wfw.graph.label == \"db\":\n",
    "        # The GetGraph node of this workflow fails for the stored \"node_id\" of 20\n",
    "        # It also fails if I go back and set this to 0\n",
    "        # I don't know what should be in the database at this point, but it isn't\n",
    "        continue\n",
    "    print(\"Ensuring execution for\", wfw.graph.label)\n",
    "    pull_all_terminal_nodes(wfw.graph)"
   ]
  },
  {
   "cell_type": "code",
   "execution_count": 21,
   "id": "e15c25b8-212d-4089-9857-4739097abe87",
   "metadata": {},
   "outputs": [
    {
     "data": {
      "text/html": [
       "<div>\n",
       "<style scoped>\n",
       "    .dataframe tbody tr th:only-of-type {\n",
       "        vertical-align: middle;\n",
       "    }\n",
       "\n",
       "    .dataframe tbody tr th {\n",
       "        vertical-align: top;\n",
       "    }\n",
       "\n",
       "    .dataframe thead th {\n",
       "        text-align: right;\n",
       "    }\n",
       "</style>\n",
       "<table border=\"1\" class=\"dataframe\">\n",
       "  <thead>\n",
       "    <tr style=\"text-align: right;\">\n",
       "      <th></th>\n",
       "      <th>hash</th>\n",
       "      <th>qualname</th>\n",
       "      <th>module</th>\n",
       "      <th>version</th>\n",
       "      <th>connected_inputs</th>\n",
       "      <th>inputs</th>\n",
       "      <th>outputs</th>\n",
       "      <th>output_path</th>\n",
       "      <th>master_hash</th>\n",
       "      <th>start_time</th>\n",
       "      <th>cpu_time</th>\n",
       "      <th>executor</th>\n",
       "      <th>user</th>\n",
       "    </tr>\n",
       "  </thead>\n",
       "  <tbody>\n",
       "    <tr>\n",
       "      <th>0</th>\n",
       "      <td>abafeae96775cd856b66a29e3de600f6a434df19701926...</td>\n",
       "      <td>subgraph</td>\n",
       "      <td>pyiron_core.pyiron_workflow.graph.base</td>\n",
       "      <td>not_defined</td>\n",
       "      <td>[]</td>\n",
       "      <td>{'Bulk__a': 2.2, 'Bulk__name': 'Al'}</td>\n",
       "      <td>[GetEnergyLast__energy_last]</td>\n",
       "      <td>None</td>\n",
       "      <td>af664f1e71b0ce7d5a6da1ec806b4f24be3f8e2bebb75c...</td>\n",
       "      <td>2025-09-10 17:22:53.602083</td>\n",
       "      <td>0.047643</td>\n",
       "      <td>None</td>\n",
       "      <td>liamhuber</td>\n",
       "    </tr>\n",
       "    <tr>\n",
       "      <th>1</th>\n",
       "      <td>0e96ec544f9e348c903604476973f36ba7e16ea3ca060f...</td>\n",
       "      <td>Linspace</td>\n",
       "      <td>pyiron_core.pyiron_nodes.math</td>\n",
       "      <td>not_defined</td>\n",
       "      <td>[]</td>\n",
       "      <td>{'x_max': 2.2, 'x_min': 1.8, 'endpoint': True,...</td>\n",
       "      <td>[linspace]</td>\n",
       "      <td>None</td>\n",
       "      <td>None</td>\n",
       "      <td>2025-09-10 17:22:53.096406</td>\n",
       "      <td>0.000070</td>\n",
       "      <td>None</td>\n",
       "      <td>liamhuber</td>\n",
       "    </tr>\n",
       "    <tr>\n",
       "      <th>2</th>\n",
       "      <td>c4a3041f12f5e8acd8c9a454dbdda1e59bc7f0e0a89a54...</td>\n",
       "      <td>CreateDB</td>\n",
       "      <td>pyiron_core.pyiron_nodes.databases.node_hash_db</td>\n",
       "      <td>not_defined</td>\n",
       "      <td>[]</td>\n",
       "      <td>{'host': 'localhost', 'port': 5432, 'user': 'l...</td>\n",
       "      <td>[db]</td>\n",
       "      <td>None</td>\n",
       "      <td>None</td>\n",
       "      <td>2025-09-10 17:22:53.096497</td>\n",
       "      <td>0.042077</td>\n",
       "      <td>None</td>\n",
       "      <td>liamhuber</td>\n",
       "    </tr>\n",
       "    <tr>\n",
       "      <th>3</th>\n",
       "      <td>131d82f2f1b3c1487bedcbabea4594866d8dc2d55372f5...</td>\n",
       "      <td>IterNode</td>\n",
       "      <td>pyiron_core.pyiron_nodes.executors</td>\n",
       "      <td>not_defined</td>\n",
       "      <td>[node, kwarg_list, _db]</td>\n",
       "      <td>{'_db': 'c4a3041f12f5e8acd8c9a454dbdda1e59bc7f...</td>\n",
       "      <td>[df]</td>\n",
       "      <td>/Users/liamhuber/.storage/131d82f2f1b3c1487bed...</td>\n",
       "      <td>None</td>\n",
       "      <td>2025-09-10 17:22:53.177687</td>\n",
       "      <td>0.472174</td>\n",
       "      <td>None</td>\n",
       "      <td>liamhuber</td>\n",
       "    </tr>\n",
       "    <tr>\n",
       "      <th>4</th>\n",
       "      <td>ea65a5fd008614403d9cf6ab7dd30913661fe9f8166e00...</td>\n",
       "      <td>Bulk</td>\n",
       "      <td>pyiron_core.pyiron_nodes.atomistic.structure.b...</td>\n",
       "      <td>not_defined</td>\n",
       "      <td>[]</td>\n",
       "      <td>{'a': None, 'c': None, 'u': None, 'name': 'Al'...</td>\n",
       "      <td>[structure]</td>\n",
       "      <td>None</td>\n",
       "      <td>None</td>\n",
       "      <td>2025-09-10 17:22:53.667117</td>\n",
       "      <td>0.000187</td>\n",
       "      <td>None</td>\n",
       "      <td>liamhuber</td>\n",
       "    </tr>\n",
       "    <tr>\n",
       "      <th>5</th>\n",
       "      <td>52cde6d28c1d4b01c21051ffcf4792ffc9df625e65937a...</td>\n",
       "      <td>M3GNet</td>\n",
       "      <td>pyiron_core.pyiron_nodes.atomistic.engine.ase</td>\n",
       "      <td>not_defined</td>\n",
       "      <td>[]</td>\n",
       "      <td>{'model': 'M3GNet-MP-2021.2.8-PES'}</td>\n",
       "      <td>[out]</td>\n",
       "      <td>None</td>\n",
       "      <td>None</td>\n",
       "      <td>2025-09-10 17:22:53.667315</td>\n",
       "      <td>0.015681</td>\n",
       "      <td>None</td>\n",
       "      <td>liamhuber</td>\n",
       "    </tr>\n",
       "    <tr>\n",
       "      <th>6</th>\n",
       "      <td>18a56dddc1d549054d6320c221f7d581672b974e3b0496...</td>\n",
       "      <td>Static</td>\n",
       "      <td>pyiron_core.pyiron_nodes.atomistic.calculator.ase</td>\n",
       "      <td>not_defined</td>\n",
       "      <td>[structure, engine]</td>\n",
       "      <td>{'engine': '52cde6d28c1d4b01c21051ffcf4792ffc9...</td>\n",
       "      <td>[out]</td>\n",
       "      <td>None</td>\n",
       "      <td>None</td>\n",
       "      <td>2025-09-10 17:22:53.688469</td>\n",
       "      <td>0.007643</td>\n",
       "      <td>None</td>\n",
       "      <td>liamhuber</td>\n",
       "    </tr>\n",
       "    <tr>\n",
       "      <th>7</th>\n",
       "      <td>aad4d0c9828ce452d888a801816d13c706b7b155ca630c...</td>\n",
       "      <td>GetEnergyLast</td>\n",
       "      <td>pyiron_core.pyiron_nodes.atomistic.calculator....</td>\n",
       "      <td>not_defined</td>\n",
       "      <td>[calculator, _db]</td>\n",
       "      <td>{'_db': 'c4a3041f12f5e8acd8c9a454dbdda1e59bc7f...</td>\n",
       "      <td>[energy_last]</td>\n",
       "      <td>/Users/liamhuber/.storage/aad4d0c9828ce452d888...</td>\n",
       "      <td>None</td>\n",
       "      <td>2025-09-10 17:22:53.703237</td>\n",
       "      <td>0.003726</td>\n",
       "      <td>None</td>\n",
       "      <td>liamhuber</td>\n",
       "    </tr>\n",
       "    <tr>\n",
       "      <th>8</th>\n",
       "      <td>a7c68e4044a3c8e2aee51546491aa5b52b9cafc4a842f8...</td>\n",
       "      <td>BulkStaticEnergyF</td>\n",
       "      <td>pyiron_core.pyiron_nodes.local_workflows.test</td>\n",
       "      <td>not_defined</td>\n",
       "      <td>[_db]</td>\n",
       "      <td>{'a': 3.0, '_db': 'c4a3041f12f5e8acd8c9a454dbd...</td>\n",
       "      <td>[out]</td>\n",
       "      <td>/Users/liamhuber/.storage/a7c68e4044a3c8e2aee5...</td>\n",
       "      <td>0fecb738a6b6772cf4c7e2780fbcee8290bcaa064759d1...</td>\n",
       "      <td>2025-09-10 17:22:53.735265</td>\n",
       "      <td>0.034199</td>\n",
       "      <td>None</td>\n",
       "      <td>liamhuber</td>\n",
       "    </tr>\n",
       "    <tr>\n",
       "      <th>9</th>\n",
       "      <td>3fb9126cc5ada3ed584f138b083853417091e81358d282...</td>\n",
       "      <td>BulkStaticEnergyF</td>\n",
       "      <td>pyiron_core.pyiron_nodes.local_workflows.test</td>\n",
       "      <td>not_defined</td>\n",
       "      <td>[_db]</td>\n",
       "      <td>{'a': 3.6666666666666665, '_db': 'c4a3041f12f5...</td>\n",
       "      <td>[out]</td>\n",
       "      <td>/Users/liamhuber/.storage/3fb9126cc5ada3ed584f...</td>\n",
       "      <td>0fecb738a6b6772cf4c7e2780fbcee8290bcaa064759d1...</td>\n",
       "      <td>2025-09-10 17:22:53.778497</td>\n",
       "      <td>0.028515</td>\n",
       "      <td>None</td>\n",
       "      <td>liamhuber</td>\n",
       "    </tr>\n",
       "    <tr>\n",
       "      <th>10</th>\n",
       "      <td>441889d45fe62a4035c4f9c156f7f05d175aa809c9d358...</td>\n",
       "      <td>BulkStaticEnergyF</td>\n",
       "      <td>pyiron_core.pyiron_nodes.local_workflows.test</td>\n",
       "      <td>not_defined</td>\n",
       "      <td>[_db]</td>\n",
       "      <td>{'a': 4.333333333333333, '_db': 'c4a3041f12f5e...</td>\n",
       "      <td>[out]</td>\n",
       "      <td>/Users/liamhuber/.storage/441889d45fe62a4035c4...</td>\n",
       "      <td>0fecb738a6b6772cf4c7e2780fbcee8290bcaa064759d1...</td>\n",
       "      <td>2025-09-10 17:22:53.816034</td>\n",
       "      <td>0.027190</td>\n",
       "      <td>None</td>\n",
       "      <td>liamhuber</td>\n",
       "    </tr>\n",
       "    <tr>\n",
       "      <th>11</th>\n",
       "      <td>278c7e5efa384fb18f15f554109bd38a4632ddacab70ee...</td>\n",
       "      <td>BulkStaticEnergyF</td>\n",
       "      <td>pyiron_core.pyiron_nodes.local_workflows.test</td>\n",
       "      <td>not_defined</td>\n",
       "      <td>[_db]</td>\n",
       "      <td>{'a': 5.0, '_db': 'c4a3041f12f5e8acd8c9a454dbd...</td>\n",
       "      <td>[out]</td>\n",
       "      <td>/Users/liamhuber/.storage/278c7e5efa384fb18f15...</td>\n",
       "      <td>0fecb738a6b6772cf4c7e2780fbcee8290bcaa064759d1...</td>\n",
       "      <td>2025-09-10 17:22:53.852448</td>\n",
       "      <td>0.028056</td>\n",
       "      <td>None</td>\n",
       "      <td>liamhuber</td>\n",
       "    </tr>\n",
       "    <tr>\n",
       "      <th>12</th>\n",
       "      <td>37b011b59638a23c639974b2b5cc4703d87851563376a0...</td>\n",
       "      <td>BulkStaticEnergyF</td>\n",
       "      <td>pyiron_core.pyiron_nodes.local_workflows.test</td>\n",
       "      <td>not_defined</td>\n",
       "      <td>[_db]</td>\n",
       "      <td>{'a': 5.666666666666666, '_db': 'c4a3041f12f5e...</td>\n",
       "      <td>[out]</td>\n",
       "      <td>/Users/liamhuber/.storage/37b011b59638a23c6399...</td>\n",
       "      <td>0fecb738a6b6772cf4c7e2780fbcee8290bcaa064759d1...</td>\n",
       "      <td>2025-09-10 17:22:53.889576</td>\n",
       "      <td>0.026666</td>\n",
       "      <td>None</td>\n",
       "      <td>liamhuber</td>\n",
       "    </tr>\n",
       "    <tr>\n",
       "      <th>13</th>\n",
       "      <td>b63781c862f7b465beff713f53ff5c49c97f10e9b4f0ba...</td>\n",
       "      <td>BulkStaticEnergyF</td>\n",
       "      <td>pyiron_core.pyiron_nodes.local_workflows.test</td>\n",
       "      <td>not_defined</td>\n",
       "      <td>[_db]</td>\n",
       "      <td>{'a': 6.333333333333333, '_db': 'c4a3041f12f5e...</td>\n",
       "      <td>[out]</td>\n",
       "      <td>/Users/liamhuber/.storage/b63781c862f7b465beff...</td>\n",
       "      <td>0fecb738a6b6772cf4c7e2780fbcee8290bcaa064759d1...</td>\n",
       "      <td>2025-09-10 17:22:53.924857</td>\n",
       "      <td>0.025360</td>\n",
       "      <td>None</td>\n",
       "      <td>liamhuber</td>\n",
       "    </tr>\n",
       "    <tr>\n",
       "      <th>14</th>\n",
       "      <td>e69c784d41aa185a10fb42835a305ec0eb4b5600f76e46...</td>\n",
       "      <td>BulkStaticEnergyF</td>\n",
       "      <td>pyiron_core.pyiron_nodes.local_workflows.test</td>\n",
       "      <td>not_defined</td>\n",
       "      <td>[_db]</td>\n",
       "      <td>{'a': 7.0, '_db': 'c4a3041f12f5e8acd8c9a454dbd...</td>\n",
       "      <td>[out]</td>\n",
       "      <td>/Users/liamhuber/.storage/e69c784d41aa185a10fb...</td>\n",
       "      <td>0fecb738a6b6772cf4c7e2780fbcee8290bcaa064759d1...</td>\n",
       "      <td>2025-09-10 17:22:53.959103</td>\n",
       "      <td>0.026424</td>\n",
       "      <td>None</td>\n",
       "      <td>liamhuber</td>\n",
       "    </tr>\n",
       "    <tr>\n",
       "      <th>15</th>\n",
       "      <td>95cf02f16cec428916aaa357048c0b491db69fa1466b1f...</td>\n",
       "      <td>Linspace</td>\n",
       "      <td>pyiron_core.pyiron_nodes.math</td>\n",
       "      <td>not_defined</td>\n",
       "      <td>[]</td>\n",
       "      <td>{'x_max': 7, 'x_min': 3, 'endpoint': True, 'nu...</td>\n",
       "      <td>[linspace]</td>\n",
       "      <td>None</td>\n",
       "      <td>None</td>\n",
       "      <td>2025-09-10 17:22:53.718452</td>\n",
       "      <td>0.000028</td>\n",
       "      <td>None</td>\n",
       "      <td>liamhuber</td>\n",
       "    </tr>\n",
       "    <tr>\n",
       "      <th>16</th>\n",
       "      <td>b0bbec0a45883f41202068aad8dc7577dc4fe8c38f80f9...</td>\n",
       "      <td>IterNode</td>\n",
       "      <td>pyiron_core.pyiron_nodes.executors</td>\n",
       "      <td>not_defined</td>\n",
       "      <td>[node, kwarg_list, _db]</td>\n",
       "      <td>{'_db': 'c4a3041f12f5e8acd8c9a454dbdda1e59bc7f...</td>\n",
       "      <td>[df]</td>\n",
       "      <td>/Users/liamhuber/.storage/b0bbec0a45883f412020...</td>\n",
       "      <td>None</td>\n",
       "      <td>2025-09-10 17:22:53.729010</td>\n",
       "      <td>0.258985</td>\n",
       "      <td>None</td>\n",
       "      <td>liamhuber</td>\n",
       "    </tr>\n",
       "  </tbody>\n",
       "</table>\n",
       "</div>"
      ],
      "text/plain": [
       "                                                 hash           qualname  \\\n",
       "0   abafeae96775cd856b66a29e3de600f6a434df19701926...           subgraph   \n",
       "1   0e96ec544f9e348c903604476973f36ba7e16ea3ca060f...           Linspace   \n",
       "2   c4a3041f12f5e8acd8c9a454dbdda1e59bc7f0e0a89a54...           CreateDB   \n",
       "3   131d82f2f1b3c1487bedcbabea4594866d8dc2d55372f5...           IterNode   \n",
       "4   ea65a5fd008614403d9cf6ab7dd30913661fe9f8166e00...               Bulk   \n",
       "5   52cde6d28c1d4b01c21051ffcf4792ffc9df625e65937a...             M3GNet   \n",
       "6   18a56dddc1d549054d6320c221f7d581672b974e3b0496...             Static   \n",
       "7   aad4d0c9828ce452d888a801816d13c706b7b155ca630c...      GetEnergyLast   \n",
       "8   a7c68e4044a3c8e2aee51546491aa5b52b9cafc4a842f8...  BulkStaticEnergyF   \n",
       "9   3fb9126cc5ada3ed584f138b083853417091e81358d282...  BulkStaticEnergyF   \n",
       "10  441889d45fe62a4035c4f9c156f7f05d175aa809c9d358...  BulkStaticEnergyF   \n",
       "11  278c7e5efa384fb18f15f554109bd38a4632ddacab70ee...  BulkStaticEnergyF   \n",
       "12  37b011b59638a23c639974b2b5cc4703d87851563376a0...  BulkStaticEnergyF   \n",
       "13  b63781c862f7b465beff713f53ff5c49c97f10e9b4f0ba...  BulkStaticEnergyF   \n",
       "14  e69c784d41aa185a10fb42835a305ec0eb4b5600f76e46...  BulkStaticEnergyF   \n",
       "15  95cf02f16cec428916aaa357048c0b491db69fa1466b1f...           Linspace   \n",
       "16  b0bbec0a45883f41202068aad8dc7577dc4fe8c38f80f9...           IterNode   \n",
       "\n",
       "                                               module      version  \\\n",
       "0              pyiron_core.pyiron_workflow.graph.base  not_defined   \n",
       "1                       pyiron_core.pyiron_nodes.math  not_defined   \n",
       "2     pyiron_core.pyiron_nodes.databases.node_hash_db  not_defined   \n",
       "3                  pyiron_core.pyiron_nodes.executors  not_defined   \n",
       "4   pyiron_core.pyiron_nodes.atomistic.structure.b...  not_defined   \n",
       "5       pyiron_core.pyiron_nodes.atomistic.engine.ase  not_defined   \n",
       "6   pyiron_core.pyiron_nodes.atomistic.calculator.ase  not_defined   \n",
       "7   pyiron_core.pyiron_nodes.atomistic.calculator....  not_defined   \n",
       "8       pyiron_core.pyiron_nodes.local_workflows.test  not_defined   \n",
       "9       pyiron_core.pyiron_nodes.local_workflows.test  not_defined   \n",
       "10      pyiron_core.pyiron_nodes.local_workflows.test  not_defined   \n",
       "11      pyiron_core.pyiron_nodes.local_workflows.test  not_defined   \n",
       "12      pyiron_core.pyiron_nodes.local_workflows.test  not_defined   \n",
       "13      pyiron_core.pyiron_nodes.local_workflows.test  not_defined   \n",
       "14      pyiron_core.pyiron_nodes.local_workflows.test  not_defined   \n",
       "15                      pyiron_core.pyiron_nodes.math  not_defined   \n",
       "16                 pyiron_core.pyiron_nodes.executors  not_defined   \n",
       "\n",
       "           connected_inputs  \\\n",
       "0                        []   \n",
       "1                        []   \n",
       "2                        []   \n",
       "3   [node, kwarg_list, _db]   \n",
       "4                        []   \n",
       "5                        []   \n",
       "6       [structure, engine]   \n",
       "7         [calculator, _db]   \n",
       "8                     [_db]   \n",
       "9                     [_db]   \n",
       "10                    [_db]   \n",
       "11                    [_db]   \n",
       "12                    [_db]   \n",
       "13                    [_db]   \n",
       "14                    [_db]   \n",
       "15                       []   \n",
       "16  [node, kwarg_list, _db]   \n",
       "\n",
       "                                               inputs  \\\n",
       "0                {'Bulk__a': 2.2, 'Bulk__name': 'Al'}   \n",
       "1   {'x_max': 2.2, 'x_min': 1.8, 'endpoint': True,...   \n",
       "2   {'host': 'localhost', 'port': 5432, 'user': 'l...   \n",
       "3   {'_db': 'c4a3041f12f5e8acd8c9a454dbdda1e59bc7f...   \n",
       "4   {'a': None, 'c': None, 'u': None, 'name': 'Al'...   \n",
       "5                 {'model': 'M3GNet-MP-2021.2.8-PES'}   \n",
       "6   {'engine': '52cde6d28c1d4b01c21051ffcf4792ffc9...   \n",
       "7   {'_db': 'c4a3041f12f5e8acd8c9a454dbdda1e59bc7f...   \n",
       "8   {'a': 3.0, '_db': 'c4a3041f12f5e8acd8c9a454dbd...   \n",
       "9   {'a': 3.6666666666666665, '_db': 'c4a3041f12f5...   \n",
       "10  {'a': 4.333333333333333, '_db': 'c4a3041f12f5e...   \n",
       "11  {'a': 5.0, '_db': 'c4a3041f12f5e8acd8c9a454dbd...   \n",
       "12  {'a': 5.666666666666666, '_db': 'c4a3041f12f5e...   \n",
       "13  {'a': 6.333333333333333, '_db': 'c4a3041f12f5e...   \n",
       "14  {'a': 7.0, '_db': 'c4a3041f12f5e8acd8c9a454dbd...   \n",
       "15  {'x_max': 7, 'x_min': 3, 'endpoint': True, 'nu...   \n",
       "16  {'_db': 'c4a3041f12f5e8acd8c9a454dbdda1e59bc7f...   \n",
       "\n",
       "                         outputs  \\\n",
       "0   [GetEnergyLast__energy_last]   \n",
       "1                     [linspace]   \n",
       "2                           [db]   \n",
       "3                           [df]   \n",
       "4                    [structure]   \n",
       "5                          [out]   \n",
       "6                          [out]   \n",
       "7                  [energy_last]   \n",
       "8                          [out]   \n",
       "9                          [out]   \n",
       "10                         [out]   \n",
       "11                         [out]   \n",
       "12                         [out]   \n",
       "13                         [out]   \n",
       "14                         [out]   \n",
       "15                    [linspace]   \n",
       "16                          [df]   \n",
       "\n",
       "                                          output_path  \\\n",
       "0                                                None   \n",
       "1                                                None   \n",
       "2                                                None   \n",
       "3   /Users/liamhuber/.storage/131d82f2f1b3c1487bed...   \n",
       "4                                                None   \n",
       "5                                                None   \n",
       "6                                                None   \n",
       "7   /Users/liamhuber/.storage/aad4d0c9828ce452d888...   \n",
       "8   /Users/liamhuber/.storage/a7c68e4044a3c8e2aee5...   \n",
       "9   /Users/liamhuber/.storage/3fb9126cc5ada3ed584f...   \n",
       "10  /Users/liamhuber/.storage/441889d45fe62a4035c4...   \n",
       "11  /Users/liamhuber/.storage/278c7e5efa384fb18f15...   \n",
       "12  /Users/liamhuber/.storage/37b011b59638a23c6399...   \n",
       "13  /Users/liamhuber/.storage/b63781c862f7b465beff...   \n",
       "14  /Users/liamhuber/.storage/e69c784d41aa185a10fb...   \n",
       "15                                               None   \n",
       "16  /Users/liamhuber/.storage/b0bbec0a45883f412020...   \n",
       "\n",
       "                                          master_hash  \\\n",
       "0   af664f1e71b0ce7d5a6da1ec806b4f24be3f8e2bebb75c...   \n",
       "1                                                None   \n",
       "2                                                None   \n",
       "3                                                None   \n",
       "4                                                None   \n",
       "5                                                None   \n",
       "6                                                None   \n",
       "7                                                None   \n",
       "8   0fecb738a6b6772cf4c7e2780fbcee8290bcaa064759d1...   \n",
       "9   0fecb738a6b6772cf4c7e2780fbcee8290bcaa064759d1...   \n",
       "10  0fecb738a6b6772cf4c7e2780fbcee8290bcaa064759d1...   \n",
       "11  0fecb738a6b6772cf4c7e2780fbcee8290bcaa064759d1...   \n",
       "12  0fecb738a6b6772cf4c7e2780fbcee8290bcaa064759d1...   \n",
       "13  0fecb738a6b6772cf4c7e2780fbcee8290bcaa064759d1...   \n",
       "14  0fecb738a6b6772cf4c7e2780fbcee8290bcaa064759d1...   \n",
       "15                                               None   \n",
       "16                                               None   \n",
       "\n",
       "                   start_time  cpu_time executor       user  \n",
       "0  2025-09-10 17:22:53.602083  0.047643     None  liamhuber  \n",
       "1  2025-09-10 17:22:53.096406  0.000070     None  liamhuber  \n",
       "2  2025-09-10 17:22:53.096497  0.042077     None  liamhuber  \n",
       "3  2025-09-10 17:22:53.177687  0.472174     None  liamhuber  \n",
       "4  2025-09-10 17:22:53.667117  0.000187     None  liamhuber  \n",
       "5  2025-09-10 17:22:53.667315  0.015681     None  liamhuber  \n",
       "6  2025-09-10 17:22:53.688469  0.007643     None  liamhuber  \n",
       "7  2025-09-10 17:22:53.703237  0.003726     None  liamhuber  \n",
       "8  2025-09-10 17:22:53.735265  0.034199     None  liamhuber  \n",
       "9  2025-09-10 17:22:53.778497  0.028515     None  liamhuber  \n",
       "10 2025-09-10 17:22:53.816034  0.027190     None  liamhuber  \n",
       "11 2025-09-10 17:22:53.852448  0.028056     None  liamhuber  \n",
       "12 2025-09-10 17:22:53.889576  0.026666     None  liamhuber  \n",
       "13 2025-09-10 17:22:53.924857  0.025360     None  liamhuber  \n",
       "14 2025-09-10 17:22:53.959103  0.026424     None  liamhuber  \n",
       "15 2025-09-10 17:22:53.718452  0.000028     None  liamhuber  \n",
       "16 2025-09-10 17:22:53.729010  0.258985     None  liamhuber  "
      ]
     },
     "execution_count": 21,
     "metadata": {},
     "output_type": "execute_result"
    }
   ],
   "source": [
    "select_graph_by_name(pf, \"murn4\")\n",
    "pf.graph.nodes[\"ShowTable\"].node.outputs.df.value"
   ]
  },
  {
   "cell_type": "code",
   "execution_count": 22,
   "id": "12d6e757-6259-4bee-b541-65b6f629d273",
   "metadata": {
    "ExecuteTime": {
     "end_time": "2025-05-16T23:04:07.555626Z",
     "start_time": "2025-05-16T23:04:07.345154Z"
    }
   },
   "outputs": [
    {
     "data": {
      "text/plain": [
       "'aad4d0c9828ce452d888a801816d13c706b7b155ca630c35b9a23e1b1e2bc63a'"
      ]
     },
     "execution_count": 22,
     "metadata": {},
     "output_type": "execute_result"
    }
   ],
   "source": [
    "select_graph_by_name(pf, \"murn4\")\n",
    "pf.graph.nodes[\"ShowTable\"].node.outputs.df.value.iloc[7].hash"
   ]
  },
  {
   "cell_type": "code",
   "execution_count": 23,
   "id": "7023b589-21ec-4091-ae82-b4c8e07deb23",
   "metadata": {
    "ExecuteTime": {
     "end_time": "2025-05-16T23:04:07.572193Z",
     "start_time": "2025-05-16T23:04:07.569874Z"
    }
   },
   "outputs": [],
   "source": [
    "db = pf.db"
   ]
  },
  {
   "cell_type": "code",
   "execution_count": 24,
   "id": "c398bd186f2b4d53",
   "metadata": {},
   "outputs": [
    {
     "data": {
      "application/vnd.jupyter.widget-view+json": {
       "model_id": "5b4f9e9cc9d14b7890fed679237c2c45",
       "version_major": 2,
       "version_minor": 1
      },
      "text/plain": [
       "ReactFlowWidget(layout=Layout(height='600px', width='800px'))"
      ]
     },
     "metadata": {},
     "output_type": "display_data"
    },
    {
     "data": {
      "text/plain": [
       "<pyiron_core.pyiron_workflow.graph.gui.GuiGraph at 0x30a0ca660>"
      ]
     },
     "execution_count": 24,
     "metadata": {},
     "output_type": "execute_result"
    }
   ],
   "source": [
    "Session = orm.sessionmaker(bind=db.engine)\n",
    "session = Session()\n",
    "\n",
    "df = pd.read_sql(session.query(db.table).statement, session.bind)\n",
    "\n",
    "session.close()\n",
    "\n",
    "_, graph = pyiron_database.restore_node_from_database(db=db, node_hash=df.hash.iloc[6]) #[19])\n",
    "pc.GuiGraph(graph)"
   ]
  },
  {
   "cell_type": "code",
   "execution_count": 25,
   "id": "d42c1511c8efc3aa",
   "metadata": {},
   "outputs": [
    {
     "data": {
      "text/html": [
       "<div>\n",
       "<style scoped>\n",
       "    .dataframe tbody tr th:only-of-type {\n",
       "        vertical-align: middle;\n",
       "    }\n",
       "\n",
       "    .dataframe tbody tr th {\n",
       "        vertical-align: top;\n",
       "    }\n",
       "\n",
       "    .dataframe thead th {\n",
       "        text-align: right;\n",
       "    }\n",
       "</style>\n",
       "<table border=\"1\" class=\"dataframe\">\n",
       "  <thead>\n",
       "    <tr style=\"text-align: right;\">\n",
       "      <th></th>\n",
       "      <th>hash</th>\n",
       "      <th>qualname</th>\n",
       "      <th>module</th>\n",
       "      <th>version</th>\n",
       "      <th>connected_inputs</th>\n",
       "      <th>inputs</th>\n",
       "      <th>outputs</th>\n",
       "      <th>output_path</th>\n",
       "      <th>master_hash</th>\n",
       "      <th>start_time</th>\n",
       "      <th>cpu_time</th>\n",
       "      <th>executor</th>\n",
       "      <th>user</th>\n",
       "    </tr>\n",
       "  </thead>\n",
       "  <tbody>\n",
       "    <tr>\n",
       "      <th>0</th>\n",
       "      <td>abafeae96775cd856b66a29e3de600f6a434df19701926...</td>\n",
       "      <td>subgraph</td>\n",
       "      <td>pyiron_core.pyiron_workflow.graph.base</td>\n",
       "      <td>not_defined</td>\n",
       "      <td>[]</td>\n",
       "      <td>{'Bulk__a': 2.2, 'Bulk__name': 'Al'}</td>\n",
       "      <td>[GetEnergyLast__energy_last]</td>\n",
       "      <td>None</td>\n",
       "      <td>af664f1e71b0ce7d5a6da1ec806b4f24be3f8e2bebb75c...</td>\n",
       "      <td>2025-09-10 17:22:53.602083</td>\n",
       "      <td>0.047643</td>\n",
       "      <td>None</td>\n",
       "      <td>liamhuber</td>\n",
       "    </tr>\n",
       "    <tr>\n",
       "      <th>1</th>\n",
       "      <td>0e96ec544f9e348c903604476973f36ba7e16ea3ca060f...</td>\n",
       "      <td>Linspace</td>\n",
       "      <td>pyiron_core.pyiron_nodes.math</td>\n",
       "      <td>not_defined</td>\n",
       "      <td>[]</td>\n",
       "      <td>{'x_max': 2.2, 'x_min': 1.8, 'endpoint': True,...</td>\n",
       "      <td>[linspace]</td>\n",
       "      <td>None</td>\n",
       "      <td>None</td>\n",
       "      <td>2025-09-10 17:22:53.096406</td>\n",
       "      <td>0.000070</td>\n",
       "      <td>None</td>\n",
       "      <td>liamhuber</td>\n",
       "    </tr>\n",
       "    <tr>\n",
       "      <th>2</th>\n",
       "      <td>c4a3041f12f5e8acd8c9a454dbdda1e59bc7f0e0a89a54...</td>\n",
       "      <td>CreateDB</td>\n",
       "      <td>pyiron_core.pyiron_nodes.databases.node_hash_db</td>\n",
       "      <td>not_defined</td>\n",
       "      <td>[]</td>\n",
       "      <td>{'host': 'localhost', 'port': 5432, 'user': 'l...</td>\n",
       "      <td>[db]</td>\n",
       "      <td>None</td>\n",
       "      <td>None</td>\n",
       "      <td>2025-09-10 17:22:53.096497</td>\n",
       "      <td>0.042077</td>\n",
       "      <td>None</td>\n",
       "      <td>liamhuber</td>\n",
       "    </tr>\n",
       "    <tr>\n",
       "      <th>3</th>\n",
       "      <td>131d82f2f1b3c1487bedcbabea4594866d8dc2d55372f5...</td>\n",
       "      <td>IterNode</td>\n",
       "      <td>pyiron_core.pyiron_nodes.executors</td>\n",
       "      <td>not_defined</td>\n",
       "      <td>[node, kwarg_list, _db]</td>\n",
       "      <td>{'_db': 'c4a3041f12f5e8acd8c9a454dbdda1e59bc7f...</td>\n",
       "      <td>[df]</td>\n",
       "      <td>/Users/liamhuber/.storage/131d82f2f1b3c1487bed...</td>\n",
       "      <td>None</td>\n",
       "      <td>2025-09-10 17:22:53.177687</td>\n",
       "      <td>0.472174</td>\n",
       "      <td>None</td>\n",
       "      <td>liamhuber</td>\n",
       "    </tr>\n",
       "    <tr>\n",
       "      <th>4</th>\n",
       "      <td>ea65a5fd008614403d9cf6ab7dd30913661fe9f8166e00...</td>\n",
       "      <td>Bulk</td>\n",
       "      <td>pyiron_core.pyiron_nodes.atomistic.structure.b...</td>\n",
       "      <td>not_defined</td>\n",
       "      <td>[]</td>\n",
       "      <td>{'a': None, 'c': None, 'u': None, 'name': 'Al'...</td>\n",
       "      <td>[structure]</td>\n",
       "      <td>None</td>\n",
       "      <td>None</td>\n",
       "      <td>2025-09-10 17:22:53.667117</td>\n",
       "      <td>0.000187</td>\n",
       "      <td>None</td>\n",
       "      <td>liamhuber</td>\n",
       "    </tr>\n",
       "    <tr>\n",
       "      <th>5</th>\n",
       "      <td>52cde6d28c1d4b01c21051ffcf4792ffc9df625e65937a...</td>\n",
       "      <td>M3GNet</td>\n",
       "      <td>pyiron_core.pyiron_nodes.atomistic.engine.ase</td>\n",
       "      <td>not_defined</td>\n",
       "      <td>[]</td>\n",
       "      <td>{'model': 'M3GNet-MP-2021.2.8-PES'}</td>\n",
       "      <td>[out]</td>\n",
       "      <td>None</td>\n",
       "      <td>None</td>\n",
       "      <td>2025-09-10 17:22:53.667315</td>\n",
       "      <td>0.015681</td>\n",
       "      <td>None</td>\n",
       "      <td>liamhuber</td>\n",
       "    </tr>\n",
       "    <tr>\n",
       "      <th>6</th>\n",
       "      <td>18a56dddc1d549054d6320c221f7d581672b974e3b0496...</td>\n",
       "      <td>Static</td>\n",
       "      <td>pyiron_core.pyiron_nodes.atomistic.calculator.ase</td>\n",
       "      <td>not_defined</td>\n",
       "      <td>[structure, engine]</td>\n",
       "      <td>{'engine': '52cde6d28c1d4b01c21051ffcf4792ffc9...</td>\n",
       "      <td>[out]</td>\n",
       "      <td>None</td>\n",
       "      <td>None</td>\n",
       "      <td>2025-09-10 17:22:53.688469</td>\n",
       "      <td>0.007643</td>\n",
       "      <td>None</td>\n",
       "      <td>liamhuber</td>\n",
       "    </tr>\n",
       "    <tr>\n",
       "      <th>7</th>\n",
       "      <td>aad4d0c9828ce452d888a801816d13c706b7b155ca630c...</td>\n",
       "      <td>GetEnergyLast</td>\n",
       "      <td>pyiron_core.pyiron_nodes.atomistic.calculator....</td>\n",
       "      <td>not_defined</td>\n",
       "      <td>[calculator, _db]</td>\n",
       "      <td>{'_db': 'c4a3041f12f5e8acd8c9a454dbdda1e59bc7f...</td>\n",
       "      <td>[energy_last]</td>\n",
       "      <td>/Users/liamhuber/.storage/aad4d0c9828ce452d888...</td>\n",
       "      <td>None</td>\n",
       "      <td>2025-09-10 17:22:53.703237</td>\n",
       "      <td>0.003726</td>\n",
       "      <td>None</td>\n",
       "      <td>liamhuber</td>\n",
       "    </tr>\n",
       "    <tr>\n",
       "      <th>8</th>\n",
       "      <td>a7c68e4044a3c8e2aee51546491aa5b52b9cafc4a842f8...</td>\n",
       "      <td>BulkStaticEnergyF</td>\n",
       "      <td>pyiron_core.pyiron_nodes.local_workflows.test</td>\n",
       "      <td>not_defined</td>\n",
       "      <td>[_db]</td>\n",
       "      <td>{'a': 3.0, '_db': 'c4a3041f12f5e8acd8c9a454dbd...</td>\n",
       "      <td>[out]</td>\n",
       "      <td>/Users/liamhuber/.storage/a7c68e4044a3c8e2aee5...</td>\n",
       "      <td>0fecb738a6b6772cf4c7e2780fbcee8290bcaa064759d1...</td>\n",
       "      <td>2025-09-10 17:22:53.735265</td>\n",
       "      <td>0.034199</td>\n",
       "      <td>None</td>\n",
       "      <td>liamhuber</td>\n",
       "    </tr>\n",
       "    <tr>\n",
       "      <th>9</th>\n",
       "      <td>3fb9126cc5ada3ed584f138b083853417091e81358d282...</td>\n",
       "      <td>BulkStaticEnergyF</td>\n",
       "      <td>pyiron_core.pyiron_nodes.local_workflows.test</td>\n",
       "      <td>not_defined</td>\n",
       "      <td>[_db]</td>\n",
       "      <td>{'a': 3.6666666666666665, '_db': 'c4a3041f12f5...</td>\n",
       "      <td>[out]</td>\n",
       "      <td>/Users/liamhuber/.storage/3fb9126cc5ada3ed584f...</td>\n",
       "      <td>0fecb738a6b6772cf4c7e2780fbcee8290bcaa064759d1...</td>\n",
       "      <td>2025-09-10 17:22:53.778497</td>\n",
       "      <td>0.028515</td>\n",
       "      <td>None</td>\n",
       "      <td>liamhuber</td>\n",
       "    </tr>\n",
       "    <tr>\n",
       "      <th>10</th>\n",
       "      <td>441889d45fe62a4035c4f9c156f7f05d175aa809c9d358...</td>\n",
       "      <td>BulkStaticEnergyF</td>\n",
       "      <td>pyiron_core.pyiron_nodes.local_workflows.test</td>\n",
       "      <td>not_defined</td>\n",
       "      <td>[_db]</td>\n",
       "      <td>{'a': 4.333333333333333, '_db': 'c4a3041f12f5e...</td>\n",
       "      <td>[out]</td>\n",
       "      <td>/Users/liamhuber/.storage/441889d45fe62a4035c4...</td>\n",
       "      <td>0fecb738a6b6772cf4c7e2780fbcee8290bcaa064759d1...</td>\n",
       "      <td>2025-09-10 17:22:53.816034</td>\n",
       "      <td>0.027190</td>\n",
       "      <td>None</td>\n",
       "      <td>liamhuber</td>\n",
       "    </tr>\n",
       "    <tr>\n",
       "      <th>11</th>\n",
       "      <td>278c7e5efa384fb18f15f554109bd38a4632ddacab70ee...</td>\n",
       "      <td>BulkStaticEnergyF</td>\n",
       "      <td>pyiron_core.pyiron_nodes.local_workflows.test</td>\n",
       "      <td>not_defined</td>\n",
       "      <td>[_db]</td>\n",
       "      <td>{'a': 5.0, '_db': 'c4a3041f12f5e8acd8c9a454dbd...</td>\n",
       "      <td>[out]</td>\n",
       "      <td>/Users/liamhuber/.storage/278c7e5efa384fb18f15...</td>\n",
       "      <td>0fecb738a6b6772cf4c7e2780fbcee8290bcaa064759d1...</td>\n",
       "      <td>2025-09-10 17:22:53.852448</td>\n",
       "      <td>0.028056</td>\n",
       "      <td>None</td>\n",
       "      <td>liamhuber</td>\n",
       "    </tr>\n",
       "    <tr>\n",
       "      <th>12</th>\n",
       "      <td>37b011b59638a23c639974b2b5cc4703d87851563376a0...</td>\n",
       "      <td>BulkStaticEnergyF</td>\n",
       "      <td>pyiron_core.pyiron_nodes.local_workflows.test</td>\n",
       "      <td>not_defined</td>\n",
       "      <td>[_db]</td>\n",
       "      <td>{'a': 5.666666666666666, '_db': 'c4a3041f12f5e...</td>\n",
       "      <td>[out]</td>\n",
       "      <td>/Users/liamhuber/.storage/37b011b59638a23c6399...</td>\n",
       "      <td>0fecb738a6b6772cf4c7e2780fbcee8290bcaa064759d1...</td>\n",
       "      <td>2025-09-10 17:22:53.889576</td>\n",
       "      <td>0.026666</td>\n",
       "      <td>None</td>\n",
       "      <td>liamhuber</td>\n",
       "    </tr>\n",
       "    <tr>\n",
       "      <th>13</th>\n",
       "      <td>b63781c862f7b465beff713f53ff5c49c97f10e9b4f0ba...</td>\n",
       "      <td>BulkStaticEnergyF</td>\n",
       "      <td>pyiron_core.pyiron_nodes.local_workflows.test</td>\n",
       "      <td>not_defined</td>\n",
       "      <td>[_db]</td>\n",
       "      <td>{'a': 6.333333333333333, '_db': 'c4a3041f12f5e...</td>\n",
       "      <td>[out]</td>\n",
       "      <td>/Users/liamhuber/.storage/b63781c862f7b465beff...</td>\n",
       "      <td>0fecb738a6b6772cf4c7e2780fbcee8290bcaa064759d1...</td>\n",
       "      <td>2025-09-10 17:22:53.924857</td>\n",
       "      <td>0.025360</td>\n",
       "      <td>None</td>\n",
       "      <td>liamhuber</td>\n",
       "    </tr>\n",
       "    <tr>\n",
       "      <th>14</th>\n",
       "      <td>e69c784d41aa185a10fb42835a305ec0eb4b5600f76e46...</td>\n",
       "      <td>BulkStaticEnergyF</td>\n",
       "      <td>pyiron_core.pyiron_nodes.local_workflows.test</td>\n",
       "      <td>not_defined</td>\n",
       "      <td>[_db]</td>\n",
       "      <td>{'a': 7.0, '_db': 'c4a3041f12f5e8acd8c9a454dbd...</td>\n",
       "      <td>[out]</td>\n",
       "      <td>/Users/liamhuber/.storage/e69c784d41aa185a10fb...</td>\n",
       "      <td>0fecb738a6b6772cf4c7e2780fbcee8290bcaa064759d1...</td>\n",
       "      <td>2025-09-10 17:22:53.959103</td>\n",
       "      <td>0.026424</td>\n",
       "      <td>None</td>\n",
       "      <td>liamhuber</td>\n",
       "    </tr>\n",
       "    <tr>\n",
       "      <th>15</th>\n",
       "      <td>95cf02f16cec428916aaa357048c0b491db69fa1466b1f...</td>\n",
       "      <td>Linspace</td>\n",
       "      <td>pyiron_core.pyiron_nodes.math</td>\n",
       "      <td>not_defined</td>\n",
       "      <td>[]</td>\n",
       "      <td>{'x_max': 7, 'x_min': 3, 'endpoint': True, 'nu...</td>\n",
       "      <td>[linspace]</td>\n",
       "      <td>None</td>\n",
       "      <td>None</td>\n",
       "      <td>2025-09-10 17:22:53.718452</td>\n",
       "      <td>0.000028</td>\n",
       "      <td>None</td>\n",
       "      <td>liamhuber</td>\n",
       "    </tr>\n",
       "    <tr>\n",
       "      <th>16</th>\n",
       "      <td>b0bbec0a45883f41202068aad8dc7577dc4fe8c38f80f9...</td>\n",
       "      <td>IterNode</td>\n",
       "      <td>pyiron_core.pyiron_nodes.executors</td>\n",
       "      <td>not_defined</td>\n",
       "      <td>[node, kwarg_list, _db]</td>\n",
       "      <td>{'_db': 'c4a3041f12f5e8acd8c9a454dbdda1e59bc7f...</td>\n",
       "      <td>[df]</td>\n",
       "      <td>/Users/liamhuber/.storage/b0bbec0a45883f412020...</td>\n",
       "      <td>None</td>\n",
       "      <td>2025-09-10 17:22:53.729010</td>\n",
       "      <td>0.258985</td>\n",
       "      <td>None</td>\n",
       "      <td>liamhuber</td>\n",
       "    </tr>\n",
       "  </tbody>\n",
       "</table>\n",
       "</div>"
      ],
      "text/plain": [
       "                                                 hash           qualname  \\\n",
       "0   abafeae96775cd856b66a29e3de600f6a434df19701926...           subgraph   \n",
       "1   0e96ec544f9e348c903604476973f36ba7e16ea3ca060f...           Linspace   \n",
       "2   c4a3041f12f5e8acd8c9a454dbdda1e59bc7f0e0a89a54...           CreateDB   \n",
       "3   131d82f2f1b3c1487bedcbabea4594866d8dc2d55372f5...           IterNode   \n",
       "4   ea65a5fd008614403d9cf6ab7dd30913661fe9f8166e00...               Bulk   \n",
       "5   52cde6d28c1d4b01c21051ffcf4792ffc9df625e65937a...             M3GNet   \n",
       "6   18a56dddc1d549054d6320c221f7d581672b974e3b0496...             Static   \n",
       "7   aad4d0c9828ce452d888a801816d13c706b7b155ca630c...      GetEnergyLast   \n",
       "8   a7c68e4044a3c8e2aee51546491aa5b52b9cafc4a842f8...  BulkStaticEnergyF   \n",
       "9   3fb9126cc5ada3ed584f138b083853417091e81358d282...  BulkStaticEnergyF   \n",
       "10  441889d45fe62a4035c4f9c156f7f05d175aa809c9d358...  BulkStaticEnergyF   \n",
       "11  278c7e5efa384fb18f15f554109bd38a4632ddacab70ee...  BulkStaticEnergyF   \n",
       "12  37b011b59638a23c639974b2b5cc4703d87851563376a0...  BulkStaticEnergyF   \n",
       "13  b63781c862f7b465beff713f53ff5c49c97f10e9b4f0ba...  BulkStaticEnergyF   \n",
       "14  e69c784d41aa185a10fb42835a305ec0eb4b5600f76e46...  BulkStaticEnergyF   \n",
       "15  95cf02f16cec428916aaa357048c0b491db69fa1466b1f...           Linspace   \n",
       "16  b0bbec0a45883f41202068aad8dc7577dc4fe8c38f80f9...           IterNode   \n",
       "\n",
       "                                               module      version  \\\n",
       "0              pyiron_core.pyiron_workflow.graph.base  not_defined   \n",
       "1                       pyiron_core.pyiron_nodes.math  not_defined   \n",
       "2     pyiron_core.pyiron_nodes.databases.node_hash_db  not_defined   \n",
       "3                  pyiron_core.pyiron_nodes.executors  not_defined   \n",
       "4   pyiron_core.pyiron_nodes.atomistic.structure.b...  not_defined   \n",
       "5       pyiron_core.pyiron_nodes.atomistic.engine.ase  not_defined   \n",
       "6   pyiron_core.pyiron_nodes.atomistic.calculator.ase  not_defined   \n",
       "7   pyiron_core.pyiron_nodes.atomistic.calculator....  not_defined   \n",
       "8       pyiron_core.pyiron_nodes.local_workflows.test  not_defined   \n",
       "9       pyiron_core.pyiron_nodes.local_workflows.test  not_defined   \n",
       "10      pyiron_core.pyiron_nodes.local_workflows.test  not_defined   \n",
       "11      pyiron_core.pyiron_nodes.local_workflows.test  not_defined   \n",
       "12      pyiron_core.pyiron_nodes.local_workflows.test  not_defined   \n",
       "13      pyiron_core.pyiron_nodes.local_workflows.test  not_defined   \n",
       "14      pyiron_core.pyiron_nodes.local_workflows.test  not_defined   \n",
       "15                      pyiron_core.pyiron_nodes.math  not_defined   \n",
       "16                 pyiron_core.pyiron_nodes.executors  not_defined   \n",
       "\n",
       "           connected_inputs  \\\n",
       "0                        []   \n",
       "1                        []   \n",
       "2                        []   \n",
       "3   [node, kwarg_list, _db]   \n",
       "4                        []   \n",
       "5                        []   \n",
       "6       [structure, engine]   \n",
       "7         [calculator, _db]   \n",
       "8                     [_db]   \n",
       "9                     [_db]   \n",
       "10                    [_db]   \n",
       "11                    [_db]   \n",
       "12                    [_db]   \n",
       "13                    [_db]   \n",
       "14                    [_db]   \n",
       "15                       []   \n",
       "16  [node, kwarg_list, _db]   \n",
       "\n",
       "                                               inputs  \\\n",
       "0                {'Bulk__a': 2.2, 'Bulk__name': 'Al'}   \n",
       "1   {'x_max': 2.2, 'x_min': 1.8, 'endpoint': True,...   \n",
       "2   {'host': 'localhost', 'port': 5432, 'user': 'l...   \n",
       "3   {'_db': 'c4a3041f12f5e8acd8c9a454dbdda1e59bc7f...   \n",
       "4   {'a': None, 'c': None, 'u': None, 'name': 'Al'...   \n",
       "5                 {'model': 'M3GNet-MP-2021.2.8-PES'}   \n",
       "6   {'engine': '52cde6d28c1d4b01c21051ffcf4792ffc9...   \n",
       "7   {'_db': 'c4a3041f12f5e8acd8c9a454dbdda1e59bc7f...   \n",
       "8   {'a': 3.0, '_db': 'c4a3041f12f5e8acd8c9a454dbd...   \n",
       "9   {'a': 3.6666666666666665, '_db': 'c4a3041f12f5...   \n",
       "10  {'a': 4.333333333333333, '_db': 'c4a3041f12f5e...   \n",
       "11  {'a': 5.0, '_db': 'c4a3041f12f5e8acd8c9a454dbd...   \n",
       "12  {'a': 5.666666666666666, '_db': 'c4a3041f12f5e...   \n",
       "13  {'a': 6.333333333333333, '_db': 'c4a3041f12f5e...   \n",
       "14  {'a': 7.0, '_db': 'c4a3041f12f5e8acd8c9a454dbd...   \n",
       "15  {'x_max': 7, 'x_min': 3, 'endpoint': True, 'nu...   \n",
       "16  {'_db': 'c4a3041f12f5e8acd8c9a454dbdda1e59bc7f...   \n",
       "\n",
       "                         outputs  \\\n",
       "0   [GetEnergyLast__energy_last]   \n",
       "1                     [linspace]   \n",
       "2                           [db]   \n",
       "3                           [df]   \n",
       "4                    [structure]   \n",
       "5                          [out]   \n",
       "6                          [out]   \n",
       "7                  [energy_last]   \n",
       "8                          [out]   \n",
       "9                          [out]   \n",
       "10                         [out]   \n",
       "11                         [out]   \n",
       "12                         [out]   \n",
       "13                         [out]   \n",
       "14                         [out]   \n",
       "15                    [linspace]   \n",
       "16                          [df]   \n",
       "\n",
       "                                          output_path  \\\n",
       "0                                                None   \n",
       "1                                                None   \n",
       "2                                                None   \n",
       "3   /Users/liamhuber/.storage/131d82f2f1b3c1487bed...   \n",
       "4                                                None   \n",
       "5                                                None   \n",
       "6                                                None   \n",
       "7   /Users/liamhuber/.storage/aad4d0c9828ce452d888...   \n",
       "8   /Users/liamhuber/.storage/a7c68e4044a3c8e2aee5...   \n",
       "9   /Users/liamhuber/.storage/3fb9126cc5ada3ed584f...   \n",
       "10  /Users/liamhuber/.storage/441889d45fe62a4035c4...   \n",
       "11  /Users/liamhuber/.storage/278c7e5efa384fb18f15...   \n",
       "12  /Users/liamhuber/.storage/37b011b59638a23c6399...   \n",
       "13  /Users/liamhuber/.storage/b63781c862f7b465beff...   \n",
       "14  /Users/liamhuber/.storage/e69c784d41aa185a10fb...   \n",
       "15                                               None   \n",
       "16  /Users/liamhuber/.storage/b0bbec0a45883f412020...   \n",
       "\n",
       "                                          master_hash  \\\n",
       "0   af664f1e71b0ce7d5a6da1ec806b4f24be3f8e2bebb75c...   \n",
       "1                                                None   \n",
       "2                                                None   \n",
       "3                                                None   \n",
       "4                                                None   \n",
       "5                                                None   \n",
       "6                                                None   \n",
       "7                                                None   \n",
       "8   0fecb738a6b6772cf4c7e2780fbcee8290bcaa064759d1...   \n",
       "9   0fecb738a6b6772cf4c7e2780fbcee8290bcaa064759d1...   \n",
       "10  0fecb738a6b6772cf4c7e2780fbcee8290bcaa064759d1...   \n",
       "11  0fecb738a6b6772cf4c7e2780fbcee8290bcaa064759d1...   \n",
       "12  0fecb738a6b6772cf4c7e2780fbcee8290bcaa064759d1...   \n",
       "13  0fecb738a6b6772cf4c7e2780fbcee8290bcaa064759d1...   \n",
       "14  0fecb738a6b6772cf4c7e2780fbcee8290bcaa064759d1...   \n",
       "15                                               None   \n",
       "16                                               None   \n",
       "\n",
       "                   start_time  cpu_time executor       user  \n",
       "0  2025-09-10 17:22:53.602083  0.047643     None  liamhuber  \n",
       "1  2025-09-10 17:22:53.096406  0.000070     None  liamhuber  \n",
       "2  2025-09-10 17:22:53.096497  0.042077     None  liamhuber  \n",
       "3  2025-09-10 17:22:53.177687  0.472174     None  liamhuber  \n",
       "4  2025-09-10 17:22:53.667117  0.000187     None  liamhuber  \n",
       "5  2025-09-10 17:22:53.667315  0.015681     None  liamhuber  \n",
       "6  2025-09-10 17:22:53.688469  0.007643     None  liamhuber  \n",
       "7  2025-09-10 17:22:53.703237  0.003726     None  liamhuber  \n",
       "8  2025-09-10 17:22:53.735265  0.034199     None  liamhuber  \n",
       "9  2025-09-10 17:22:53.778497  0.028515     None  liamhuber  \n",
       "10 2025-09-10 17:22:53.816034  0.027190     None  liamhuber  \n",
       "11 2025-09-10 17:22:53.852448  0.028056     None  liamhuber  \n",
       "12 2025-09-10 17:22:53.889576  0.026666     None  liamhuber  \n",
       "13 2025-09-10 17:22:53.924857  0.025360     None  liamhuber  \n",
       "14 2025-09-10 17:22:53.959103  0.026424     None  liamhuber  \n",
       "15 2025-09-10 17:22:53.718452  0.000028     None  liamhuber  \n",
       "16 2025-09-10 17:22:53.729010  0.258985     None  liamhuber  "
      ]
     },
     "execution_count": 25,
     "metadata": {},
     "output_type": "execute_result"
    }
   ],
   "source": [
    "df"
   ]
  },
  {
   "cell_type": "code",
   "execution_count": 26,
   "id": "63fd46ea-bd2f-431b-8510-64091c041b2f",
   "metadata": {
    "ExecuteTime": {
     "end_time": "2025-05-16T23:04:07.881276Z",
     "start_time": "2025-05-16T23:04:07.871746Z"
    }
   },
   "outputs": [
    {
     "data": {
      "text/plain": [
       "hash                abafeae96775cd856b66a29e3de600f6a434df19701926...\n",
       "qualname                                                     subgraph\n",
       "module                         pyiron_core.pyiron_workflow.graph.base\n",
       "version                                                   not_defined\n",
       "connected_inputs                                                   []\n",
       "inputs                           {'Bulk__a': 2.2, 'Bulk__name': 'Al'}\n",
       "outputs                                  [GetEnergyLast__energy_last]\n",
       "output_path                                                      None\n",
       "master_hash         af664f1e71b0ce7d5a6da1ec806b4f24be3f8e2bebb75c...\n",
       "start_time                                 2025-09-10 17:22:53.602083\n",
       "cpu_time                                                     0.047643\n",
       "executor                                                         None\n",
       "user                                                        liamhuber\n",
       "Name: 0, dtype: object"
      ]
     },
     "execution_count": 26,
     "metadata": {},
     "output_type": "execute_result"
    }
   ],
   "source": [
    "some_valid_hash = df[\"hash\"].iloc[0]\n",
    "df.query(f\"hash == '{some_valid_hash}'\").iloc[0]"
   ]
  },
  {
   "cell_type": "code",
   "execution_count": 27,
   "id": "3a6209dc608c517a",
   "metadata": {},
   "outputs": [
    {
     "data": {
      "text/plain": [
       "'Bulk'"
      ]
     },
     "execution_count": 27,
     "metadata": {},
     "output_type": "execute_result"
    }
   ],
   "source": [
    "nodes.atomistic.structure.build.Bulk('Al')._func.__qualname__"
   ]
  },
  {
   "cell_type": "code",
   "execution_count": 28,
   "id": "215face7b5bc2162",
   "metadata": {},
   "outputs": [
    {
     "name": "stdout",
     "output_type": "stream",
     "text": [
      "{'_mgr': BlockManager\n",
      "Items: Index(['a', 'result'], dtype='object')\n",
      "Axis 1: RangeIndex(start=0, stop=7, step=1)\n",
      "NumpyBlock: slice(0, 2, 1), 2 x 7, dtype: float64, '_typ': 'dataframe', '_metadata': [], 'attrs': {}, '_flags': {'allows_duplicate_labels': True}}\n"
     ]
    },
    {
     "data": {
      "text/html": [
       "<div>\n",
       "<style scoped>\n",
       "    .dataframe tbody tr th:only-of-type {\n",
       "        vertical-align: middle;\n",
       "    }\n",
       "\n",
       "    .dataframe tbody tr th {\n",
       "        vertical-align: top;\n",
       "    }\n",
       "\n",
       "    .dataframe thead th {\n",
       "        text-align: right;\n",
       "    }\n",
       "</style>\n",
       "<table border=\"1\" class=\"dataframe\">\n",
       "  <thead>\n",
       "    <tr style=\"text-align: right;\">\n",
       "      <th></th>\n",
       "      <th>a</th>\n",
       "      <th>result</th>\n",
       "    </tr>\n",
       "  </thead>\n",
       "  <tbody>\n",
       "    <tr>\n",
       "      <th>0</th>\n",
       "      <td>3.000000</td>\n",
       "      <td>2.528607</td>\n",
       "    </tr>\n",
       "    <tr>\n",
       "      <th>1</th>\n",
       "      <td>3.666667</td>\n",
       "      <td>-3.223616</td>\n",
       "    </tr>\n",
       "    <tr>\n",
       "      <th>2</th>\n",
       "      <td>4.333333</td>\n",
       "      <td>-3.567102</td>\n",
       "    </tr>\n",
       "    <tr>\n",
       "      <th>3</th>\n",
       "      <td>5.000000</td>\n",
       "      <td>-2.563248</td>\n",
       "    </tr>\n",
       "    <tr>\n",
       "      <th>4</th>\n",
       "      <td>5.666667</td>\n",
       "      <td>-0.607272</td>\n",
       "    </tr>\n",
       "    <tr>\n",
       "      <th>5</th>\n",
       "      <td>6.333333</td>\n",
       "      <td>0.184764</td>\n",
       "    </tr>\n",
       "    <tr>\n",
       "      <th>6</th>\n",
       "      <td>7.000000</td>\n",
       "      <td>-0.148894</td>\n",
       "    </tr>\n",
       "  </tbody>\n",
       "</table>\n",
       "</div>"
      ],
      "text/plain": [
       "          a    result\n",
       "0  3.000000  2.528607\n",
       "1  3.666667 -3.223616\n",
       "2  4.333333 -3.567102\n",
       "3  5.000000 -2.563248\n",
       "4  5.666667 -0.607272\n",
       "5  6.333333  0.184764\n",
       "6  7.000000 -0.148894"
      ]
     },
     "execution_count": 28,
     "metadata": {},
     "output_type": "execute_result"
    }
   ],
   "source": [
    "select_graph_by_name(pf, \"murn4\")\n",
    "df = pf.graph.nodes[\"IterNode\"].node.outputs.df.value\n",
    "state = df.__getstate__()\n",
    "print(state)\n",
    "\n",
    "df_new = pd.DataFrame()\n",
    "df_new._mgr = state[\"_mgr\"]\n",
    "df_new._metadata = state[\"_metadata\"]\n",
    "df_new2 = pd.DataFrame()\n",
    "df_new2.__setstate__(state)\n",
    "df_new2"
   ]
  },
  {
   "cell_type": "code",
   "execution_count": 29,
   "id": "fb93d48e-8086-4b5f-b678-b4e675695c53",
   "metadata": {
    "ExecuteTime": {
     "end_time": "2025-05-16T23:04:08.290827Z",
     "start_time": "2025-05-16T23:04:08.289014Z"
    }
   },
   "outputs": [],
   "source": [
    "node = pf.graph.nodes[\"IterNode\"].node"
   ]
  },
  {
   "cell_type": "code",
   "execution_count": 30,
   "id": "04cdc69f-c28a-46ca-9c32-2e5e3ce6a5a1",
   "metadata": {
    "ExecuteTime": {
     "end_time": "2025-05-16T23:04:08.375752Z",
     "start_time": "2025-05-16T23:04:08.367851Z"
    }
   },
   "outputs": [
    {
     "data": {
      "text/plain": [
       "['nodes']"
      ]
     },
     "execution_count": 30,
     "metadata": {},
     "output_type": "execute_result"
    }
   ],
   "source": [
    "user = 'localuser'\n",
    "password = 'none'\n",
    "host = 'localhost'\n",
    "port = '5432'\n",
    "database = 'localdb'\n",
    "\n",
    "connection_str = f'postgresql://{user}:{password}@{host}:{port}/{database}'\n",
    "engine = sqlalchemy.create_engine(connection_str)\n",
    "engine.connect()\n",
    "\n",
    "inspector = sqlalchemy.inspect(engine)\n",
    "table_names = inspector.get_table_names()\n",
    "table_names"
   ]
  },
  {
   "cell_type": "code",
   "execution_count": 31,
   "id": "e96b8fe62a4e28f5",
   "metadata": {},
   "outputs": [],
   "source": [
    "node = pf.graph.nodes[\"IterNode\"].node\n",
    "\n",
    "db = pyiron_database.PostgreSQLInstanceDatabase(connection_str)"
   ]
  },
  {
   "cell_type": "code",
   "execution_count": 32,
   "id": "2ec6cd9cae17c9d",
   "metadata": {},
   "outputs": [
    {
     "data": {
      "text/plain": [
       "pyiron_core.pyiron_database.instance_database.PostgreSQLInstanceDatabase.PostgreSQLInstanceDatabase"
      ]
     },
     "execution_count": 32,
     "metadata": {},
     "output_type": "execute_result"
    }
   ],
   "source": [
    "type(db)"
   ]
  },
  {
   "cell_type": "code",
   "execution_count": 33,
   "id": "ef7881fa-401d-4cef-b8a8-59ea0aa9f4b7",
   "metadata": {
    "ExecuteTime": {
     "end_time": "2025-05-16T23:04:08.551483Z",
     "start_time": "2025-05-16T23:04:08.536783Z"
    }
   },
   "outputs": [
    {
     "data": {
      "text/html": [
       "<div>\n",
       "<style scoped>\n",
       "    .dataframe tbody tr th:only-of-type {\n",
       "        vertical-align: middle;\n",
       "    }\n",
       "\n",
       "    .dataframe tbody tr th {\n",
       "        vertical-align: top;\n",
       "    }\n",
       "\n",
       "    .dataframe thead th {\n",
       "        text-align: right;\n",
       "    }\n",
       "</style>\n",
       "<table border=\"1\" class=\"dataframe\">\n",
       "  <thead>\n",
       "    <tr style=\"text-align: right;\">\n",
       "      <th></th>\n",
       "      <th>hash</th>\n",
       "      <th>qualname</th>\n",
       "      <th>module</th>\n",
       "      <th>version</th>\n",
       "      <th>connected_inputs</th>\n",
       "      <th>inputs</th>\n",
       "      <th>outputs</th>\n",
       "      <th>output_path</th>\n",
       "      <th>master_hash</th>\n",
       "      <th>start_time</th>\n",
       "      <th>cpu_time</th>\n",
       "      <th>executor</th>\n",
       "      <th>user</th>\n",
       "    </tr>\n",
       "  </thead>\n",
       "  <tbody>\n",
       "    <tr>\n",
       "      <th>0</th>\n",
       "      <td>abafeae96775cd856b66a29e3de600f6a434df19701926...</td>\n",
       "      <td>subgraph</td>\n",
       "      <td>pyiron_core.pyiron_workflow.graph.base</td>\n",
       "      <td>not_defined</td>\n",
       "      <td>[]</td>\n",
       "      <td>{'Bulk__a': 2.2, 'Bulk__name': 'Al'}</td>\n",
       "      <td>[GetEnergyLast__energy_last]</td>\n",
       "      <td>None</td>\n",
       "      <td>af664f1e71b0ce7d5a6da1ec806b4f24be3f8e2bebb75c...</td>\n",
       "      <td>2025-09-10 17:22:53.602083</td>\n",
       "      <td>0.047643</td>\n",
       "      <td>None</td>\n",
       "      <td>liamhuber</td>\n",
       "    </tr>\n",
       "    <tr>\n",
       "      <th>1</th>\n",
       "      <td>0e96ec544f9e348c903604476973f36ba7e16ea3ca060f...</td>\n",
       "      <td>Linspace</td>\n",
       "      <td>pyiron_core.pyiron_nodes.math</td>\n",
       "      <td>not_defined</td>\n",
       "      <td>[]</td>\n",
       "      <td>{'x_max': 2.2, 'x_min': 1.8, 'endpoint': True,...</td>\n",
       "      <td>[linspace]</td>\n",
       "      <td>None</td>\n",
       "      <td>None</td>\n",
       "      <td>2025-09-10 17:22:53.096406</td>\n",
       "      <td>0.000070</td>\n",
       "      <td>None</td>\n",
       "      <td>liamhuber</td>\n",
       "    </tr>\n",
       "    <tr>\n",
       "      <th>2</th>\n",
       "      <td>c4a3041f12f5e8acd8c9a454dbdda1e59bc7f0e0a89a54...</td>\n",
       "      <td>CreateDB</td>\n",
       "      <td>pyiron_core.pyiron_nodes.databases.node_hash_db</td>\n",
       "      <td>not_defined</td>\n",
       "      <td>[]</td>\n",
       "      <td>{'host': 'localhost', 'port': 5432, 'user': 'l...</td>\n",
       "      <td>[db]</td>\n",
       "      <td>None</td>\n",
       "      <td>None</td>\n",
       "      <td>2025-09-10 17:22:53.096497</td>\n",
       "      <td>0.042077</td>\n",
       "      <td>None</td>\n",
       "      <td>liamhuber</td>\n",
       "    </tr>\n",
       "    <tr>\n",
       "      <th>3</th>\n",
       "      <td>131d82f2f1b3c1487bedcbabea4594866d8dc2d55372f5...</td>\n",
       "      <td>IterNode</td>\n",
       "      <td>pyiron_core.pyiron_nodes.executors</td>\n",
       "      <td>not_defined</td>\n",
       "      <td>[node, kwarg_list, _db]</td>\n",
       "      <td>{'_db': 'c4a3041f12f5e8acd8c9a454dbdda1e59bc7f...</td>\n",
       "      <td>[df]</td>\n",
       "      <td>/Users/liamhuber/.storage/131d82f2f1b3c1487bed...</td>\n",
       "      <td>None</td>\n",
       "      <td>2025-09-10 17:22:53.177687</td>\n",
       "      <td>0.472174</td>\n",
       "      <td>None</td>\n",
       "      <td>liamhuber</td>\n",
       "    </tr>\n",
       "    <tr>\n",
       "      <th>4</th>\n",
       "      <td>ea65a5fd008614403d9cf6ab7dd30913661fe9f8166e00...</td>\n",
       "      <td>Bulk</td>\n",
       "      <td>pyiron_core.pyiron_nodes.atomistic.structure.b...</td>\n",
       "      <td>not_defined</td>\n",
       "      <td>[]</td>\n",
       "      <td>{'a': None, 'c': None, 'u': None, 'name': 'Al'...</td>\n",
       "      <td>[structure]</td>\n",
       "      <td>None</td>\n",
       "      <td>None</td>\n",
       "      <td>2025-09-10 17:22:53.667117</td>\n",
       "      <td>0.000187</td>\n",
       "      <td>None</td>\n",
       "      <td>liamhuber</td>\n",
       "    </tr>\n",
       "    <tr>\n",
       "      <th>5</th>\n",
       "      <td>52cde6d28c1d4b01c21051ffcf4792ffc9df625e65937a...</td>\n",
       "      <td>M3GNet</td>\n",
       "      <td>pyiron_core.pyiron_nodes.atomistic.engine.ase</td>\n",
       "      <td>not_defined</td>\n",
       "      <td>[]</td>\n",
       "      <td>{'model': 'M3GNet-MP-2021.2.8-PES'}</td>\n",
       "      <td>[out]</td>\n",
       "      <td>None</td>\n",
       "      <td>None</td>\n",
       "      <td>2025-09-10 17:22:53.667315</td>\n",
       "      <td>0.015681</td>\n",
       "      <td>None</td>\n",
       "      <td>liamhuber</td>\n",
       "    </tr>\n",
       "    <tr>\n",
       "      <th>6</th>\n",
       "      <td>18a56dddc1d549054d6320c221f7d581672b974e3b0496...</td>\n",
       "      <td>Static</td>\n",
       "      <td>pyiron_core.pyiron_nodes.atomistic.calculator.ase</td>\n",
       "      <td>not_defined</td>\n",
       "      <td>[structure, engine]</td>\n",
       "      <td>{'engine': '52cde6d28c1d4b01c21051ffcf4792ffc9...</td>\n",
       "      <td>[out]</td>\n",
       "      <td>None</td>\n",
       "      <td>None</td>\n",
       "      <td>2025-09-10 17:22:53.688469</td>\n",
       "      <td>0.007643</td>\n",
       "      <td>None</td>\n",
       "      <td>liamhuber</td>\n",
       "    </tr>\n",
       "    <tr>\n",
       "      <th>7</th>\n",
       "      <td>aad4d0c9828ce452d888a801816d13c706b7b155ca630c...</td>\n",
       "      <td>GetEnergyLast</td>\n",
       "      <td>pyiron_core.pyiron_nodes.atomistic.calculator....</td>\n",
       "      <td>not_defined</td>\n",
       "      <td>[calculator, _db]</td>\n",
       "      <td>{'_db': 'c4a3041f12f5e8acd8c9a454dbdda1e59bc7f...</td>\n",
       "      <td>[energy_last]</td>\n",
       "      <td>/Users/liamhuber/.storage/aad4d0c9828ce452d888...</td>\n",
       "      <td>None</td>\n",
       "      <td>2025-09-10 17:22:53.703237</td>\n",
       "      <td>0.003726</td>\n",
       "      <td>None</td>\n",
       "      <td>liamhuber</td>\n",
       "    </tr>\n",
       "    <tr>\n",
       "      <th>8</th>\n",
       "      <td>a7c68e4044a3c8e2aee51546491aa5b52b9cafc4a842f8...</td>\n",
       "      <td>BulkStaticEnergyF</td>\n",
       "      <td>pyiron_core.pyiron_nodes.local_workflows.test</td>\n",
       "      <td>not_defined</td>\n",
       "      <td>[_db]</td>\n",
       "      <td>{'a': 3.0, '_db': 'c4a3041f12f5e8acd8c9a454dbd...</td>\n",
       "      <td>[out]</td>\n",
       "      <td>/Users/liamhuber/.storage/a7c68e4044a3c8e2aee5...</td>\n",
       "      <td>0fecb738a6b6772cf4c7e2780fbcee8290bcaa064759d1...</td>\n",
       "      <td>2025-09-10 17:22:53.735265</td>\n",
       "      <td>0.034199</td>\n",
       "      <td>None</td>\n",
       "      <td>liamhuber</td>\n",
       "    </tr>\n",
       "    <tr>\n",
       "      <th>9</th>\n",
       "      <td>3fb9126cc5ada3ed584f138b083853417091e81358d282...</td>\n",
       "      <td>BulkStaticEnergyF</td>\n",
       "      <td>pyiron_core.pyiron_nodes.local_workflows.test</td>\n",
       "      <td>not_defined</td>\n",
       "      <td>[_db]</td>\n",
       "      <td>{'a': 3.6666666666666665, '_db': 'c4a3041f12f5...</td>\n",
       "      <td>[out]</td>\n",
       "      <td>/Users/liamhuber/.storage/3fb9126cc5ada3ed584f...</td>\n",
       "      <td>0fecb738a6b6772cf4c7e2780fbcee8290bcaa064759d1...</td>\n",
       "      <td>2025-09-10 17:22:53.778497</td>\n",
       "      <td>0.028515</td>\n",
       "      <td>None</td>\n",
       "      <td>liamhuber</td>\n",
       "    </tr>\n",
       "    <tr>\n",
       "      <th>10</th>\n",
       "      <td>441889d45fe62a4035c4f9c156f7f05d175aa809c9d358...</td>\n",
       "      <td>BulkStaticEnergyF</td>\n",
       "      <td>pyiron_core.pyiron_nodes.local_workflows.test</td>\n",
       "      <td>not_defined</td>\n",
       "      <td>[_db]</td>\n",
       "      <td>{'a': 4.333333333333333, '_db': 'c4a3041f12f5e...</td>\n",
       "      <td>[out]</td>\n",
       "      <td>/Users/liamhuber/.storage/441889d45fe62a4035c4...</td>\n",
       "      <td>0fecb738a6b6772cf4c7e2780fbcee8290bcaa064759d1...</td>\n",
       "      <td>2025-09-10 17:22:53.816034</td>\n",
       "      <td>0.027190</td>\n",
       "      <td>None</td>\n",
       "      <td>liamhuber</td>\n",
       "    </tr>\n",
       "    <tr>\n",
       "      <th>11</th>\n",
       "      <td>278c7e5efa384fb18f15f554109bd38a4632ddacab70ee...</td>\n",
       "      <td>BulkStaticEnergyF</td>\n",
       "      <td>pyiron_core.pyiron_nodes.local_workflows.test</td>\n",
       "      <td>not_defined</td>\n",
       "      <td>[_db]</td>\n",
       "      <td>{'a': 5.0, '_db': 'c4a3041f12f5e8acd8c9a454dbd...</td>\n",
       "      <td>[out]</td>\n",
       "      <td>/Users/liamhuber/.storage/278c7e5efa384fb18f15...</td>\n",
       "      <td>0fecb738a6b6772cf4c7e2780fbcee8290bcaa064759d1...</td>\n",
       "      <td>2025-09-10 17:22:53.852448</td>\n",
       "      <td>0.028056</td>\n",
       "      <td>None</td>\n",
       "      <td>liamhuber</td>\n",
       "    </tr>\n",
       "    <tr>\n",
       "      <th>12</th>\n",
       "      <td>37b011b59638a23c639974b2b5cc4703d87851563376a0...</td>\n",
       "      <td>BulkStaticEnergyF</td>\n",
       "      <td>pyiron_core.pyiron_nodes.local_workflows.test</td>\n",
       "      <td>not_defined</td>\n",
       "      <td>[_db]</td>\n",
       "      <td>{'a': 5.666666666666666, '_db': 'c4a3041f12f5e...</td>\n",
       "      <td>[out]</td>\n",
       "      <td>/Users/liamhuber/.storage/37b011b59638a23c6399...</td>\n",
       "      <td>0fecb738a6b6772cf4c7e2780fbcee8290bcaa064759d1...</td>\n",
       "      <td>2025-09-10 17:22:53.889576</td>\n",
       "      <td>0.026666</td>\n",
       "      <td>None</td>\n",
       "      <td>liamhuber</td>\n",
       "    </tr>\n",
       "    <tr>\n",
       "      <th>13</th>\n",
       "      <td>b63781c862f7b465beff713f53ff5c49c97f10e9b4f0ba...</td>\n",
       "      <td>BulkStaticEnergyF</td>\n",
       "      <td>pyiron_core.pyiron_nodes.local_workflows.test</td>\n",
       "      <td>not_defined</td>\n",
       "      <td>[_db]</td>\n",
       "      <td>{'a': 6.333333333333333, '_db': 'c4a3041f12f5e...</td>\n",
       "      <td>[out]</td>\n",
       "      <td>/Users/liamhuber/.storage/b63781c862f7b465beff...</td>\n",
       "      <td>0fecb738a6b6772cf4c7e2780fbcee8290bcaa064759d1...</td>\n",
       "      <td>2025-09-10 17:22:53.924857</td>\n",
       "      <td>0.025360</td>\n",
       "      <td>None</td>\n",
       "      <td>liamhuber</td>\n",
       "    </tr>\n",
       "    <tr>\n",
       "      <th>14</th>\n",
       "      <td>e69c784d41aa185a10fb42835a305ec0eb4b5600f76e46...</td>\n",
       "      <td>BulkStaticEnergyF</td>\n",
       "      <td>pyiron_core.pyiron_nodes.local_workflows.test</td>\n",
       "      <td>not_defined</td>\n",
       "      <td>[_db]</td>\n",
       "      <td>{'a': 7.0, '_db': 'c4a3041f12f5e8acd8c9a454dbd...</td>\n",
       "      <td>[out]</td>\n",
       "      <td>/Users/liamhuber/.storage/e69c784d41aa185a10fb...</td>\n",
       "      <td>0fecb738a6b6772cf4c7e2780fbcee8290bcaa064759d1...</td>\n",
       "      <td>2025-09-10 17:22:53.959103</td>\n",
       "      <td>0.026424</td>\n",
       "      <td>None</td>\n",
       "      <td>liamhuber</td>\n",
       "    </tr>\n",
       "    <tr>\n",
       "      <th>15</th>\n",
       "      <td>95cf02f16cec428916aaa357048c0b491db69fa1466b1f...</td>\n",
       "      <td>Linspace</td>\n",
       "      <td>pyiron_core.pyiron_nodes.math</td>\n",
       "      <td>not_defined</td>\n",
       "      <td>[]</td>\n",
       "      <td>{'x_max': 7, 'x_min': 3, 'endpoint': True, 'nu...</td>\n",
       "      <td>[linspace]</td>\n",
       "      <td>None</td>\n",
       "      <td>None</td>\n",
       "      <td>2025-09-10 17:22:53.718452</td>\n",
       "      <td>0.000028</td>\n",
       "      <td>None</td>\n",
       "      <td>liamhuber</td>\n",
       "    </tr>\n",
       "    <tr>\n",
       "      <th>16</th>\n",
       "      <td>b0bbec0a45883f41202068aad8dc7577dc4fe8c38f80f9...</td>\n",
       "      <td>IterNode</td>\n",
       "      <td>pyiron_core.pyiron_nodes.executors</td>\n",
       "      <td>not_defined</td>\n",
       "      <td>[node, kwarg_list, _db]</td>\n",
       "      <td>{'_db': 'c4a3041f12f5e8acd8c9a454dbdda1e59bc7f...</td>\n",
       "      <td>[df]</td>\n",
       "      <td>/Users/liamhuber/.storage/b0bbec0a45883f412020...</td>\n",
       "      <td>None</td>\n",
       "      <td>2025-09-10 17:22:53.729010</td>\n",
       "      <td>0.258985</td>\n",
       "      <td>None</td>\n",
       "      <td>liamhuber</td>\n",
       "    </tr>\n",
       "  </tbody>\n",
       "</table>\n",
       "</div>"
      ],
      "text/plain": [
       "                                                 hash           qualname  \\\n",
       "0   abafeae96775cd856b66a29e3de600f6a434df19701926...           subgraph   \n",
       "1   0e96ec544f9e348c903604476973f36ba7e16ea3ca060f...           Linspace   \n",
       "2   c4a3041f12f5e8acd8c9a454dbdda1e59bc7f0e0a89a54...           CreateDB   \n",
       "3   131d82f2f1b3c1487bedcbabea4594866d8dc2d55372f5...           IterNode   \n",
       "4   ea65a5fd008614403d9cf6ab7dd30913661fe9f8166e00...               Bulk   \n",
       "5   52cde6d28c1d4b01c21051ffcf4792ffc9df625e65937a...             M3GNet   \n",
       "6   18a56dddc1d549054d6320c221f7d581672b974e3b0496...             Static   \n",
       "7   aad4d0c9828ce452d888a801816d13c706b7b155ca630c...      GetEnergyLast   \n",
       "8   a7c68e4044a3c8e2aee51546491aa5b52b9cafc4a842f8...  BulkStaticEnergyF   \n",
       "9   3fb9126cc5ada3ed584f138b083853417091e81358d282...  BulkStaticEnergyF   \n",
       "10  441889d45fe62a4035c4f9c156f7f05d175aa809c9d358...  BulkStaticEnergyF   \n",
       "11  278c7e5efa384fb18f15f554109bd38a4632ddacab70ee...  BulkStaticEnergyF   \n",
       "12  37b011b59638a23c639974b2b5cc4703d87851563376a0...  BulkStaticEnergyF   \n",
       "13  b63781c862f7b465beff713f53ff5c49c97f10e9b4f0ba...  BulkStaticEnergyF   \n",
       "14  e69c784d41aa185a10fb42835a305ec0eb4b5600f76e46...  BulkStaticEnergyF   \n",
       "15  95cf02f16cec428916aaa357048c0b491db69fa1466b1f...           Linspace   \n",
       "16  b0bbec0a45883f41202068aad8dc7577dc4fe8c38f80f9...           IterNode   \n",
       "\n",
       "                                               module      version  \\\n",
       "0              pyiron_core.pyiron_workflow.graph.base  not_defined   \n",
       "1                       pyiron_core.pyiron_nodes.math  not_defined   \n",
       "2     pyiron_core.pyiron_nodes.databases.node_hash_db  not_defined   \n",
       "3                  pyiron_core.pyiron_nodes.executors  not_defined   \n",
       "4   pyiron_core.pyiron_nodes.atomistic.structure.b...  not_defined   \n",
       "5       pyiron_core.pyiron_nodes.atomistic.engine.ase  not_defined   \n",
       "6   pyiron_core.pyiron_nodes.atomistic.calculator.ase  not_defined   \n",
       "7   pyiron_core.pyiron_nodes.atomistic.calculator....  not_defined   \n",
       "8       pyiron_core.pyiron_nodes.local_workflows.test  not_defined   \n",
       "9       pyiron_core.pyiron_nodes.local_workflows.test  not_defined   \n",
       "10      pyiron_core.pyiron_nodes.local_workflows.test  not_defined   \n",
       "11      pyiron_core.pyiron_nodes.local_workflows.test  not_defined   \n",
       "12      pyiron_core.pyiron_nodes.local_workflows.test  not_defined   \n",
       "13      pyiron_core.pyiron_nodes.local_workflows.test  not_defined   \n",
       "14      pyiron_core.pyiron_nodes.local_workflows.test  not_defined   \n",
       "15                      pyiron_core.pyiron_nodes.math  not_defined   \n",
       "16                 pyiron_core.pyiron_nodes.executors  not_defined   \n",
       "\n",
       "           connected_inputs  \\\n",
       "0                        []   \n",
       "1                        []   \n",
       "2                        []   \n",
       "3   [node, kwarg_list, _db]   \n",
       "4                        []   \n",
       "5                        []   \n",
       "6       [structure, engine]   \n",
       "7         [calculator, _db]   \n",
       "8                     [_db]   \n",
       "9                     [_db]   \n",
       "10                    [_db]   \n",
       "11                    [_db]   \n",
       "12                    [_db]   \n",
       "13                    [_db]   \n",
       "14                    [_db]   \n",
       "15                       []   \n",
       "16  [node, kwarg_list, _db]   \n",
       "\n",
       "                                               inputs  \\\n",
       "0                {'Bulk__a': 2.2, 'Bulk__name': 'Al'}   \n",
       "1   {'x_max': 2.2, 'x_min': 1.8, 'endpoint': True,...   \n",
       "2   {'host': 'localhost', 'port': 5432, 'user': 'l...   \n",
       "3   {'_db': 'c4a3041f12f5e8acd8c9a454dbdda1e59bc7f...   \n",
       "4   {'a': None, 'c': None, 'u': None, 'name': 'Al'...   \n",
       "5                 {'model': 'M3GNet-MP-2021.2.8-PES'}   \n",
       "6   {'engine': '52cde6d28c1d4b01c21051ffcf4792ffc9...   \n",
       "7   {'_db': 'c4a3041f12f5e8acd8c9a454dbdda1e59bc7f...   \n",
       "8   {'a': 3.0, '_db': 'c4a3041f12f5e8acd8c9a454dbd...   \n",
       "9   {'a': 3.6666666666666665, '_db': 'c4a3041f12f5...   \n",
       "10  {'a': 4.333333333333333, '_db': 'c4a3041f12f5e...   \n",
       "11  {'a': 5.0, '_db': 'c4a3041f12f5e8acd8c9a454dbd...   \n",
       "12  {'a': 5.666666666666666, '_db': 'c4a3041f12f5e...   \n",
       "13  {'a': 6.333333333333333, '_db': 'c4a3041f12f5e...   \n",
       "14  {'a': 7.0, '_db': 'c4a3041f12f5e8acd8c9a454dbd...   \n",
       "15  {'x_max': 7, 'x_min': 3, 'endpoint': True, 'nu...   \n",
       "16  {'_db': 'c4a3041f12f5e8acd8c9a454dbdda1e59bc7f...   \n",
       "\n",
       "                         outputs  \\\n",
       "0   [GetEnergyLast__energy_last]   \n",
       "1                     [linspace]   \n",
       "2                           [db]   \n",
       "3                           [df]   \n",
       "4                    [structure]   \n",
       "5                          [out]   \n",
       "6                          [out]   \n",
       "7                  [energy_last]   \n",
       "8                          [out]   \n",
       "9                          [out]   \n",
       "10                         [out]   \n",
       "11                         [out]   \n",
       "12                         [out]   \n",
       "13                         [out]   \n",
       "14                         [out]   \n",
       "15                    [linspace]   \n",
       "16                          [df]   \n",
       "\n",
       "                                          output_path  \\\n",
       "0                                                None   \n",
       "1                                                None   \n",
       "2                                                None   \n",
       "3   /Users/liamhuber/.storage/131d82f2f1b3c1487bed...   \n",
       "4                                                None   \n",
       "5                                                None   \n",
       "6                                                None   \n",
       "7   /Users/liamhuber/.storage/aad4d0c9828ce452d888...   \n",
       "8   /Users/liamhuber/.storage/a7c68e4044a3c8e2aee5...   \n",
       "9   /Users/liamhuber/.storage/3fb9126cc5ada3ed584f...   \n",
       "10  /Users/liamhuber/.storage/441889d45fe62a4035c4...   \n",
       "11  /Users/liamhuber/.storage/278c7e5efa384fb18f15...   \n",
       "12  /Users/liamhuber/.storage/37b011b59638a23c6399...   \n",
       "13  /Users/liamhuber/.storage/b63781c862f7b465beff...   \n",
       "14  /Users/liamhuber/.storage/e69c784d41aa185a10fb...   \n",
       "15                                               None   \n",
       "16  /Users/liamhuber/.storage/b0bbec0a45883f412020...   \n",
       "\n",
       "                                          master_hash  \\\n",
       "0   af664f1e71b0ce7d5a6da1ec806b4f24be3f8e2bebb75c...   \n",
       "1                                                None   \n",
       "2                                                None   \n",
       "3                                                None   \n",
       "4                                                None   \n",
       "5                                                None   \n",
       "6                                                None   \n",
       "7                                                None   \n",
       "8   0fecb738a6b6772cf4c7e2780fbcee8290bcaa064759d1...   \n",
       "9   0fecb738a6b6772cf4c7e2780fbcee8290bcaa064759d1...   \n",
       "10  0fecb738a6b6772cf4c7e2780fbcee8290bcaa064759d1...   \n",
       "11  0fecb738a6b6772cf4c7e2780fbcee8290bcaa064759d1...   \n",
       "12  0fecb738a6b6772cf4c7e2780fbcee8290bcaa064759d1...   \n",
       "13  0fecb738a6b6772cf4c7e2780fbcee8290bcaa064759d1...   \n",
       "14  0fecb738a6b6772cf4c7e2780fbcee8290bcaa064759d1...   \n",
       "15                                               None   \n",
       "16                                               None   \n",
       "\n",
       "                   start_time  cpu_time executor       user  \n",
       "0  2025-09-10 17:22:53.602083  0.047643     None  liamhuber  \n",
       "1  2025-09-10 17:22:53.096406  0.000070     None  liamhuber  \n",
       "2  2025-09-10 17:22:53.096497  0.042077     None  liamhuber  \n",
       "3  2025-09-10 17:22:53.177687  0.472174     None  liamhuber  \n",
       "4  2025-09-10 17:22:53.667117  0.000187     None  liamhuber  \n",
       "5  2025-09-10 17:22:53.667315  0.015681     None  liamhuber  \n",
       "6  2025-09-10 17:22:53.688469  0.007643     None  liamhuber  \n",
       "7  2025-09-10 17:22:53.703237  0.003726     None  liamhuber  \n",
       "8  2025-09-10 17:22:53.735265  0.034199     None  liamhuber  \n",
       "9  2025-09-10 17:22:53.778497  0.028515     None  liamhuber  \n",
       "10 2025-09-10 17:22:53.816034  0.027190     None  liamhuber  \n",
       "11 2025-09-10 17:22:53.852448  0.028056     None  liamhuber  \n",
       "12 2025-09-10 17:22:53.889576  0.026666     None  liamhuber  \n",
       "13 2025-09-10 17:22:53.924857  0.025360     None  liamhuber  \n",
       "14 2025-09-10 17:22:53.959103  0.026424     None  liamhuber  \n",
       "15 2025-09-10 17:22:53.718452  0.000028     None  liamhuber  \n",
       "16 2025-09-10 17:22:53.729010  0.258985     None  liamhuber  "
      ]
     },
     "execution_count": 33,
     "metadata": {},
     "output_type": "execute_result"
    }
   ],
   "source": [
    "Session = orm.sessionmaker(bind=db.engine)\n",
    "session = Session()\n",
    "\n",
    "df = pd.read_sql(session.query(db.table).statement, session.bind)\n",
    "\n",
    "df"
   ]
  },
  {
   "cell_type": "code",
   "execution_count": 34,
   "id": "daa91f185f123bc",
   "metadata": {},
   "outputs": [
    {
     "data": {
      "application/vnd.jupyter.widget-view+json": {
       "model_id": "8b7c14956f0044a4a63e5e66c35f303b",
       "version_major": 2,
       "version_minor": 0
      },
      "text/plain": [
       "VBox(children=(HBox(children=(Output(layout=Layout(width='400px')), Tab(children=(ReactFlowWidget(layout=Layou…"
      ]
     },
     "execution_count": 34,
     "metadata": {},
     "output_type": "execute_result"
    }
   ],
   "source": [
    "pf = pc.PyironFlow(['assyst', 'linearfit2', 'graph', 'executor', 'executor2', 'murnaghan', 'murnaghan2'], workflow_path=json_file_location) # 'landau2',\n",
    "pf.gui"
   ]
  },
  {
   "cell_type": "code",
   "execution_count": 35,
   "id": "468c19e4a94702f7",
   "metadata": {},
   "outputs": [
    {
     "data": {
      "text/plain": [
       "True"
      ]
     },
     "execution_count": 35,
     "metadata": {},
     "output_type": "execute_result"
    }
   ],
   "source": [
    "select_graph_by_name(pf, \"murnaghan2\")\n",
    "# could also be \"executor2\" -- both have \"subgraph\" and \"Linspace\" nodes\n",
    "label =\"subgraph\"\n",
    "label = \"Linspace\"\n",
    "pf.graph.nodes[label].node.copy()._graph_node == pf.graph.nodes[label]"
   ]
  },
  {
   "cell_type": "code",
   "execution_count": 36,
   "id": "6a078b52-fd1b-4906-9e2c-815e505d5138",
   "metadata": {
    "ExecuteTime": {
     "end_time": "2025-05-16T23:04:09.368742Z",
     "start_time": "2025-05-16T23:04:09.362293Z"
    }
   },
   "outputs": [
    {
     "data": {
      "text/plain": [
       "<pyiron_core.pyiron_workflow.simple_workflow.Node at 0x31eb23440>"
      ]
     },
     "execution_count": 36,
     "metadata": {},
     "output_type": "execute_result"
    }
   ],
   "source": [
    "new_node = pickle.loads(pickle.dumps(pf.graph.nodes[\"subgraph\"]))\n",
    "new_node.node"
   ]
  },
  {
   "cell_type": "code",
   "execution_count": 37,
   "id": "e2f58aac-53f3-4d0a-89b0-7570b696c98f",
   "metadata": {
    "ExecuteTime": {
     "end_time": "2025-05-16T23:04:09.505587Z",
     "start_time": "2025-05-16T23:04:09.413026Z"
    }
   },
   "outputs": [
    {
     "name": "stderr",
     "output_type": "stream",
     "text": [
      "/Users/liamhuber/dev/miniforge3/envs/pycor12/lib/python3.12/site-packages/matgl/apps/pes.py:69: UserWarning: To copy construct from a tensor, it is recommended to use sourceTensor.clone().detach() or sourceTensor.clone().detach().requires_grad_(True), rather than torch.tensor(sourceTensor).\n",
      "  self.element_refs = AtomRef(property_offset=torch.tensor(element_refs, dtype=matgl.float_th))\n",
      "/Users/liamhuber/dev/miniforge3/envs/pycor12/lib/python3.12/site-packages/matgl/apps/pes.py:75: UserWarning: To copy construct from a tensor, it is recommended to use sourceTensor.clone().detach() or sourceTensor.clone().detach().requires_grad_(True), rather than torch.tensor(sourceTensor).\n",
      "  self.register_buffer(\"data_mean\", torch.tensor(data_mean, dtype=matgl.float_th))\n",
      "/Users/liamhuber/dev/miniforge3/envs/pycor12/lib/python3.12/site-packages/matgl/apps/pes.py:76: UserWarning: To copy construct from a tensor, it is recommended to use sourceTensor.clone().detach() or sourceTensor.clone().detach().requires_grad_(True), rather than torch.tensor(sourceTensor).\n",
      "  self.register_buffer(\"data_std\", torch.tensor(data_std, dtype=matgl.float_th))\n",
      "DEBUG:pyiron_log:Not supported parameter used!\n"
     ]
    },
    {
     "data": {
      "text/plain": [
       "53.408348083496094"
      ]
     },
     "execution_count": 37,
     "metadata": {},
     "output_type": "execute_result"
    }
   ],
   "source": [
    "base.GraphNode().__setstate__(pf.graph.nodes[\"subgraph\"].__getstate__()).node.run()"
   ]
  },
  {
   "cell_type": "code",
   "execution_count": 38,
   "id": "a6b0bd2f38212007",
   "metadata": {},
   "outputs": [
    {
     "name": "stdout",
     "output_type": "stream",
     "text": [
      "labels ['bulk__name', 'bulk__cubic']\n",
      "inp:  bulk name\n",
      "GraphEdge(source='va_i_subgraph__bulk__name', target='bulk', sourceHandle='x', targetHandle='name')\n",
      "inp:  bulk cubic\n",
      "GraphEdge(source='va_i_subgraph__bulk__cubic', target='bulk', sourceHandle='x', targetHandle='cubic')\n",
      "labels ['volume__volume']\n",
      "node:  bulk GraphNode(id='bulk', import_path='pyiron_core.pyiron_nodes.atomistic.structure.build.Bulk', label='bulk', parent_id='subgraph', level=1, node=<pyiron_core.pyiron_workflow.simple_workflow.Node object at 0x31eb5dc40>, graph=None, node_type='node', widget_type='customNode', expanded=False)\n",
      "node:  range GraphNode(id='range', import_path='pyiron_core.pyiron_nodes.math.Linspace', label='range', parent_id=None, level=0, node=<pyiron_core.pyiron_workflow.simple_workflow.Node object at 0x31eb215b0>, graph=None, node_type='node', widget_type='customNode', expanded=False)\n",
      "node:  volume GraphNode(id='volume', import_path='pyiron_core.pyiron_nodes.atomistic.structure.calc.Volume', label='volume', parent_id='subgraph', level=1, node=<pyiron_core.pyiron_workflow.simple_workflow.Node object at 0x31eb224b0>, graph=None, node_type='node', widget_type='customNode', expanded=False)\n",
      "node:  subgraph GraphNode(id='subgraph', import_path=None, label='subgraph', parent_id=None, level=0, node=<pyiron_core.pyiron_workflow.simple_workflow.Node object at 0x31ea16240>, graph=Graph(id=None, label='subgraph', root_node=None, nodes=NestedDict({'bulk': GraphNode(id='bulk', import_path='pyiron_core.pyiron_nodes.atomistic.structure.build.Bulk', label='bulk', parent_id=None, level=0, node=<pyiron_core.pyiron_workflow.simple_workflow.Node object at 0x31eb5dc40>, graph=None, node_type='node', widget_type='customNode', expanded=False), 'volume': GraphNode(id='volume', import_path='pyiron_core.pyiron_nodes.atomistic.structure.calc.Volume', label='volume', parent_id=None, level=0, node=<pyiron_core.pyiron_workflow.simple_workflow.Node object at 0x31eb224b0>, graph=None, node_type='node', widget_type='customNode', expanded=False)}), edges=[GraphEdge(source='bulk', target='volume', sourceHandle='structure', targetHandle='structure')], graph={}), node_type='graph', widget_type='customNode', expanded=False)\n",
      "node:  va_i_subgraph__bulk__name GraphNode(id='va_i_subgraph__bulk__name', import_path='pyiron_core.pyiron_workflow.api.serial.identity', label='va_i_subgraph__bulk__name', parent_id='subgraph', level=0, node=<pyiron_core.pyiron_workflow.simple_workflow.Node object at 0x31eb5de20>, graph=None, node_type='node', widget_type='customNode', expanded=False)\n",
      "node:  va_i_subgraph__bulk__cubic GraphNode(id='va_i_subgraph__bulk__cubic', import_path='pyiron_core.pyiron_workflow.api.serial.identity', label='va_i_subgraph__bulk__cubic', parent_id='subgraph', level=0, node=<pyiron_core.pyiron_workflow.simple_workflow.Node object at 0x31eabbcb0>, graph=None, node_type='node', widget_type='customNode', expanded=False)\n",
      "node:  va_o_subgraph__volume__volume GraphNode(id='va_o_subgraph__volume__volume', import_path='pyiron_core.pyiron_workflow.api.serial.identity', label='va_o_subgraph__volume__volume', parent_id='subgraph', level=0, node=<pyiron_core.pyiron_workflow.simple_workflow.Node object at 0x31eb75e20>, graph=None, node_type='node', widget_type='customNode', expanded=False)\n",
      "['subgraph']\n"
     ]
    },
    {
     "data": {
      "text/plain": [
       "Graph(id=None, label='test', root_node=None, nodes=Nodes({'subgraph': GraphNode(id='subgraph', import_path=None, label='subgraph', parent_id=None, level=0, node=<pyiron_core.pyiron_workflow.simple_workflow.Node object at 0x31ea16240>, graph=Graph(id=None, label='subgraph', root_node=None, nodes=NestedDict({'bulk': GraphNode(id='bulk', import_path='pyiron_core.pyiron_nodes.atomistic.structure.build.Bulk', label='bulk', parent_id=None, level=0, node=<pyiron_core.pyiron_workflow.simple_workflow.Node object at 0x31eb5dc40>, graph=None, node_type='node', widget_type='customNode', expanded=False), 'volume': GraphNode(id='volume', import_path='pyiron_core.pyiron_nodes.atomistic.structure.calc.Volume', label='volume', parent_id=None, level=0, node=<pyiron_core.pyiron_workflow.simple_workflow.Node object at 0x31eb224b0>, graph=None, node_type='node', widget_type='customNode', expanded=False)}), edges=[GraphEdge(source='bulk', target='volume', sourceHandle='structure', targetHandle='structure')], graph={}), node_type='graph', widget_type='customNode', expanded=False), 'range': GraphNode(id='range', import_path='pyiron_core.pyiron_nodes.math.Linspace', label='range', parent_id=None, level=0, node=<pyiron_core.pyiron_workflow.simple_workflow.Node object at 0x31eb215b0>, graph=None, node_type='node', widget_type='customNode', expanded=False)}), edges=[], graph={})"
      ]
     },
     "execution_count": 38,
     "metadata": {},
     "output_type": "execute_result"
    }
   ],
   "source": [
    "wf = pc.Workflow(\"test\")\n",
    "wf.bulk = nodes.atomistic.structure.build.Bulk(\"Al\", cubic=True)\n",
    "wf.volume = nodes.atomistic.structure.calc.Volume(wf.bulk)\n",
    "\n",
    "wf.range = nodes.math.Linspace(1.8, 2.2, 7)\n",
    "\n",
    "graph = base.get_graph_from_wf(wf, [], [])\n",
    "graph_sub = base.create_group(graph, [0, 2])\n",
    "\n",
    "base.get_updated_graph(graph_sub)"
   ]
  },
  {
   "cell_type": "code",
   "execution_count": 39,
   "id": "5a1b9edb-63f8-48ae-a5d2-9211c1192f3e",
   "metadata": {
    "ExecuteTime": {
     "end_time": "2025-05-16T23:04:09.605658Z",
     "start_time": "2025-05-16T23:04:09.602775Z"
    }
   },
   "outputs": [
    {
     "data": {
      "text/plain": [
       "{'Bulk': {'id': 'Bulk',\n",
       "  'import_path': 'pyiron_core.pyiron_nodes.atomistic.structure.build.Bulk',\n",
       "  'label': 'Bulk',\n",
       "  'parent_id': None,\n",
       "  'level': 0,\n",
       "  'graph': None,\n",
       "  'node_type': 'node',\n",
       "  'widget_type': 'customNode',\n",
       "  'expanded': False,\n",
       "  'node': {'label': 'Bulk',\n",
       "   'function': 'pyiron_core.pyiron_nodes.atomistic.structure.build.Bulk',\n",
       "   'inputs': {'name': 'Al', 'a': 2}}},\n",
       " 'M3GNet': {'id': 'M3GNet',\n",
       "  'import_path': 'pyiron_core.pyiron_nodes.atomistic.engine.ase.M3GNet',\n",
       "  'label': 'M3GNet',\n",
       "  'parent_id': None,\n",
       "  'level': 0,\n",
       "  'graph': None,\n",
       "  'node_type': 'node',\n",
       "  'widget_type': 'customNode',\n",
       "  'expanded': False,\n",
       "  'node': {'label': 'M3GNet',\n",
       "   'function': 'pyiron_core.pyiron_nodes.atomistic.engine.ase.M3GNet',\n",
       "   'inputs': {}}},\n",
       " 'Static': {'id': 'Static',\n",
       "  'import_path': 'pyiron_core.pyiron_nodes.atomistic.calculator.ase.Static',\n",
       "  'label': 'Static',\n",
       "  'parent_id': None,\n",
       "  'level': 0,\n",
       "  'graph': None,\n",
       "  'node_type': 'node',\n",
       "  'widget_type': 'customNode',\n",
       "  'expanded': False,\n",
       "  'node': {'label': 'Static',\n",
       "   'function': 'pyiron_core.pyiron_nodes.atomistic.calculator.ase.Static',\n",
       "   'inputs': {}}},\n",
       " 'GetEnergyLast': {'id': 'GetEnergyLast',\n",
       "  'import_path': 'pyiron_core.pyiron_nodes.atomistic.calculator.output.GetEnergyLast',\n",
       "  'label': 'GetEnergyLast',\n",
       "  'parent_id': None,\n",
       "  'level': 0,\n",
       "  'graph': None,\n",
       "  'node_type': 'node',\n",
       "  'widget_type': 'customNode',\n",
       "  'expanded': False,\n",
       "  'node': {'label': 'GetEnergyLast',\n",
       "   'function': 'pyiron_core.pyiron_nodes.atomistic.calculator.output.GetEnergyLast',\n",
       "   'inputs': {}}},\n",
       " '_obj_type': 'pyiron_core.pyiron_workflow.api.serial.GraphNode'}"
      ]
     },
     "execution_count": 39,
     "metadata": {},
     "output_type": "execute_result"
    }
   ],
   "source": [
    "wf_file = json_file_location / \"murnaghan2.json\"\n",
    "with open(wf_file, \"r\") as f:\n",
    "    graph_dict = (json.load(f))\n",
    "\n",
    "sub_nodes= graph_dict[\"nodes\"][\"subgraph\"][\"graph\"][\"nodes\"]\n",
    "sub_nodes"
   ]
  },
  {
   "cell_type": "code",
   "execution_count": 40,
   "id": "d7b310dc-26fe-48c1-b8ae-d09a26f64a43",
   "metadata": {
    "ExecuteTime": {
     "end_time": "2025-05-16T23:04:09.663263Z",
     "start_time": "2025-05-16T23:04:09.651575Z"
    }
   },
   "outputs": [
    {
     "data": {
      "text/plain": [
       "False"
      ]
     },
     "execution_count": 40,
     "metadata": {},
     "output_type": "execute_result"
    }
   ],
   "source": [
    "wf_file = json_file_location / \"murnaghan2.json\"\n",
    "with open(wf_file, \"r\") as f:\n",
    "    graph_dict = (json.load(f))\n",
    "\n",
    "loaded_graph = base.Graph().__setstate__(graph_dict)\n",
    "\n",
    "subgraph = base.Graph().__setstate__(graph_dict[\"nodes\"][\"subgraph\"][\"graph\"])\n",
    "\n",
    "subgraph.nodes._obj_type is None"
   ]
  },
  {
   "cell_type": "code",
   "execution_count": 41,
   "id": "5f020e6e-87db-4865-b634-26138b795dfe",
   "metadata": {
    "ExecuteTime": {
     "end_time": "2025-05-16T23:04:09.709427Z",
     "start_time": "2025-05-16T23:04:09.706936Z"
    }
   },
   "outputs": [
    {
     "data": {
      "text/plain": [
       "{'Bulk': {'id': 'Bulk',\n",
       "  'import_path': 'pyiron_core.pyiron_nodes.atomistic.structure.build.Bulk',\n",
       "  'label': 'Bulk',\n",
       "  'parent_id': None,\n",
       "  'level': 0,\n",
       "  'graph': None,\n",
       "  'node_type': 'node',\n",
       "  'widget_type': 'customNode',\n",
       "  'expanded': False,\n",
       "  'node': {'label': 'Bulk',\n",
       "   'function': 'pyiron_core.pyiron_nodes.atomistic.structure.build.Bulk',\n",
       "   'inputs': {'name': 'Al', 'a': 2}}},\n",
       " 'M3GNet': {'id': 'M3GNet',\n",
       "  'import_path': 'pyiron_core.pyiron_nodes.atomistic.engine.ase.M3GNet',\n",
       "  'label': 'M3GNet',\n",
       "  'parent_id': None,\n",
       "  'level': 0,\n",
       "  'graph': None,\n",
       "  'node_type': 'node',\n",
       "  'widget_type': 'customNode',\n",
       "  'expanded': False,\n",
       "  'node': {'label': 'M3GNet',\n",
       "   'function': 'pyiron_core.pyiron_nodes.atomistic.engine.ase.M3GNet',\n",
       "   'inputs': {}}},\n",
       " 'Static': {'id': 'Static',\n",
       "  'import_path': 'pyiron_core.pyiron_nodes.atomistic.calculator.ase.Static',\n",
       "  'label': 'Static',\n",
       "  'parent_id': None,\n",
       "  'level': 0,\n",
       "  'graph': None,\n",
       "  'node_type': 'node',\n",
       "  'widget_type': 'customNode',\n",
       "  'expanded': False,\n",
       "  'node': {'label': 'Static',\n",
       "   'function': 'pyiron_core.pyiron_nodes.atomistic.calculator.ase.Static',\n",
       "   'inputs': {}}},\n",
       " 'GetEnergyLast': {'id': 'GetEnergyLast',\n",
       "  'import_path': 'pyiron_core.pyiron_nodes.atomistic.calculator.output.GetEnergyLast',\n",
       "  'label': 'GetEnergyLast',\n",
       "  'parent_id': None,\n",
       "  'level': 0,\n",
       "  'graph': None,\n",
       "  'node_type': 'node',\n",
       "  'widget_type': 'customNode',\n",
       "  'expanded': False,\n",
       "  'node': {'label': 'GetEnergyLast',\n",
       "   'function': 'pyiron_core.pyiron_nodes.atomistic.calculator.output.GetEnergyLast',\n",
       "   'inputs': {}}},\n",
       " '_obj_type': 'pyiron_core.pyiron_workflow.api.serial.GraphNode'}"
      ]
     },
     "execution_count": 41,
     "metadata": {},
     "output_type": "execute_result"
    }
   ],
   "source": [
    "graph_dict[\"nodes\"][\"subgraph\"][\"graph\"][\"nodes\"]"
   ]
  },
  {
   "cell_type": "code",
   "execution_count": 42,
   "id": "42c46e64-7ceb-4f48-a36f-6704e5c5be13",
   "metadata": {
    "ExecuteTime": {
     "end_time": "2025-05-16T23:04:09.758411Z",
     "start_time": "2025-05-16T23:04:09.756444Z"
    }
   },
   "outputs": [
    {
     "data": {
      "text/plain": [
       "pyiron_core.pyiron_workflow.graph.base.GraphNode"
      ]
     },
     "execution_count": 42,
     "metadata": {},
     "output_type": "execute_result"
    }
   ],
   "source": [
    "loaded_graph.nodes._obj_type"
   ]
  },
  {
   "cell_type": "markdown",
   "id": "799e34f5-e993-40a6-86f1-48da9a9a03fa",
   "metadata": {},
   "source": [
    "The decorator functions of Nodes are a constant source of errors. Can we make them more elegant and robust by going from decorator arguments to class inheritance?? Do I really need something like ob_type? I know the type I want to get from the name, i.e., nodes should have always GraphNode elements."
   ]
  },
  {
   "cell_type": "code",
   "execution_count": 43,
   "id": "9853f013e82da094",
   "metadata": {},
   "outputs": [
    {
     "name": "stdout",
     "output_type": "stream",
     "text": [
      "xxx:  \n",
      "def subgraph(Bulk__name: str = \"Al\", Bulk__a: Optional[float] = 2):\n",
      "\n",
      "    from pyiron_core.pyiron_workflow import Workflow\n",
      "    from pyiron_core.pyiron_nodes.atomistic.structure.build import Bulk\n",
      "    from pyiron_core.pyiron_nodes.atomistic.engine.ase import M3GNet\n",
      "    from pyiron_core.pyiron_nodes.atomistic.calculator.ase import Static\n",
      "    from pyiron_core.pyiron_nodes.atomistic.calculator.output import GetEnergyLast\n",
      "\n",
      "    wf = Workflow('subgraph')\n",
      "    wf.Bulk = Bulk(name=Bulk__name, a=Bulk__a)\n",
      "    wf.M3GNet = M3GNet()\n",
      "    wf.Static = Static(structure=wf.Bulk, engine=wf.M3GNet)\n",
      "    wf.GetEnergyLast = GetEnergyLast(calculator=wf.Static)\n",
      "\n",
      "    return wf.GetEnergyLast.outputs.energy_last\n",
      "\n"
     ]
    },
    {
     "data": {
      "application/vnd.jupyter.widget-view+json": {
       "model_id": "da037d93dd74430e937dc65d6e9f612f",
       "version_major": 2,
       "version_minor": 1
      },
      "text/plain": [
       "ReactFlowWidget(layout=Layout(height='600px', width='800px'))"
      ]
     },
     "metadata": {},
     "output_type": "display_data"
    },
    {
     "data": {
      "text/plain": [
       "<pyiron_core.pyiron_workflow.graph.gui.GuiGraph at 0x31eb5eba0>"
      ]
     },
     "execution_count": 43,
     "metadata": {},
     "output_type": "execute_result"
    }
   ],
   "source": [
    "subgraph = base._load_graph(\"murnaghan2\", workflow_dir=json_file_location).nodes[\"subgraph\"]\n",
    "print('xxx: ', base.graph_to_code(subgraph.graph))\n",
    "\n",
    "pc.GuiGraph(subgraph.graph)"
   ]
  },
  {
   "cell_type": "code",
   "execution_count": 44,
   "id": "cee3bd93c02d4f86",
   "metadata": {},
   "outputs": [
    {
     "name": "stdout",
     "output_type": "stream",
     "text": [
      "xxx:  \n",
      "def subgraph(Bulk__name: str = \"Al\", Bulk__a: Optional[float] = 2):\n",
      "\n",
      "    from pyiron_core.pyiron_workflow import Workflow\n",
      "    from pyiron_core.pyiron_nodes.atomistic.structure.build import Bulk\n",
      "    from pyiron_core.pyiron_nodes.atomistic.engine.ase import M3GNet\n",
      "    from pyiron_core.pyiron_nodes.atomistic.calculator.ase import Static\n",
      "    from pyiron_core.pyiron_nodes.atomistic.calculator.output import GetEnergyLast\n",
      "\n",
      "    wf = Workflow('subgraph')\n",
      "    wf.Bulk = Bulk(name=Bulk__name, a=Bulk__a)\n",
      "    wf.M3GNet = M3GNet()\n",
      "    wf.Static = Static(structure=wf.Bulk, engine=wf.M3GNet)\n",
      "    wf.GetEnergyLast = GetEnergyLast(calculator=wf.Static)\n",
      "\n",
      "    return wf.GetEnergyLast.outputs.energy_last\n",
      "\n"
     ]
    },
    {
     "data": {
      "application/vnd.jupyter.widget-view+json": {
       "model_id": "38709388d0014681898604557b57c436",
       "version_major": 2,
       "version_minor": 1
      },
      "text/plain": [
       "ReactFlowWidget(layout=Layout(height='600px', width='800px'))"
      ]
     },
     "metadata": {},
     "output_type": "display_data"
    },
    {
     "data": {
      "text/plain": [
       "<pyiron_core.pyiron_workflow.graph.gui.GuiGraph at 0x31eb5cd40>"
      ]
     },
     "execution_count": 44,
     "metadata": {},
     "output_type": "execute_result"
    }
   ],
   "source": [
    "wf_file = json_file_location / \"murnaghan2.json\"\n",
    "with open(wf_file, \"r\") as f:\n",
    "    graph_dict = (json.load(f))\n",
    "\n",
    "loaded_graph = base.Graph().__setstate__(graph_dict)\n",
    "\n",
    "subgraph2 = loaded_graph.nodes[\"subgraph\"].graph\n",
    "print('xxx: ', base.graph_to_code(subgraph2))\n",
    "pc.GuiGraph(subgraph2)"
   ]
  },
  {
   "cell_type": "code",
   "execution_count": 45,
   "id": "9a420e2ea857d2e2",
   "metadata": {},
   "outputs": [
    {
     "name": "stdout",
     "output_type": "stream",
     "text": [
      "\n",
      "def subgraph(Bulk__name: str = \"Al\", Bulk__a: Optional[float] = 2):\n",
      "\n",
      "    from pyiron_core.pyiron_workflow import Workflow\n",
      "    from pyiron_core.pyiron_nodes.atomistic.structure.build import Bulk\n",
      "    from pyiron_core.pyiron_nodes.atomistic.engine.ase import M3GNet\n",
      "    from pyiron_core.pyiron_nodes.atomistic.calculator.ase import Static\n",
      "    from pyiron_core.pyiron_nodes.atomistic.calculator.output import GetEnergyLast\n",
      "\n",
      "    wf = Workflow('subgraph')\n",
      "    wf.Bulk = Bulk(name=Bulk__name, a=Bulk__a)\n",
      "    wf.M3GNet = M3GNet()\n",
      "    wf.Static = Static(structure=wf.Bulk, engine=wf.M3GNet)\n",
      "    wf.GetEnergyLast = GetEnergyLast(calculator=wf.Static)\n",
      "\n",
      "    return wf.GetEnergyLast.outputs.energy_last\n",
      "\n"
     ]
    }
   ],
   "source": [
    "print(base.get_code_from_graph(loaded_graph.nodes[\"subgraph\"].graph))"
   ]
  },
  {
   "cell_type": "code",
   "execution_count": 46,
   "id": "afa74248-fb8c-47a9-84b8-7c507f5b6075",
   "metadata": {
    "ExecuteTime": {
     "end_time": "2025-05-16T23:04:10.252138Z",
     "start_time": "2025-05-16T23:04:10.235935Z"
    }
   },
   "outputs": [
    {
     "name": "stdout",
     "output_type": "stream",
     "text": [
      "xxx:  \n",
      "def subgraph(Bulk__name: str = \"Al\", Bulk__a: Optional[float] = 2):\n",
      "\n",
      "    from pyiron_core.pyiron_workflow import Workflow\n",
      "    from pyiron_core.pyiron_nodes.atomistic.structure.build import Bulk\n",
      "    from pyiron_core.pyiron_nodes.atomistic.engine.ase import M3GNet\n",
      "    from pyiron_core.pyiron_nodes.atomistic.calculator.ase import Static\n",
      "    from pyiron_core.pyiron_nodes.atomistic.calculator.output import GetEnergyLast\n",
      "\n",
      "    wf = Workflow('subgraph')\n",
      "    wf.Bulk = Bulk(name=Bulk__name, a=Bulk__a)\n",
      "    wf.M3GNet = M3GNet()\n",
      "    wf.Static = Static(structure=wf.Bulk, engine=wf.M3GNet)\n",
      "    wf.GetEnergyLast = GetEnergyLast(calculator=wf.Static)\n",
      "\n",
      "    return wf.GetEnergyLast.outputs.energy_last\n",
      "\n"
     ]
    }
   ],
   "source": [
    "subgraph = base._load_graph(\"murnaghan2\", workflow_dir=json_file_location).nodes[\"subgraph\"]\n",
    "print('xxx: ', base.graph_to_code(subgraph.graph))"
   ]
  },
  {
   "cell_type": "code",
   "execution_count": 47,
   "id": "5ad627cc-0115-4685-a178-3c94f3fd18e2",
   "metadata": {
    "ExecuteTime": {
     "end_time": "2025-05-16T23:04:10.299237Z",
     "start_time": "2025-05-16T23:04:10.296137Z"
    }
   },
   "outputs": [
    {
     "data": {
      "text/plain": [
       "'Bulk__name: str = \"Al\", Bulk__a: Optional[float] = 2'"
      ]
     },
     "execution_count": 47,
     "metadata": {},
     "output_type": "execute_result"
    }
   ],
   "source": [
    "base._build_function_parameters(subgraph.graph, use_node_default=False)"
   ]
  },
  {
   "cell_type": "code",
   "execution_count": 48,
   "id": "a798b14f-53d0-4b04-958d-f1879b79fd6c",
   "metadata": {
    "ExecuteTime": {
     "end_time": "2025-05-16T23:04:10.362962Z",
     "start_time": "2025-05-16T23:04:10.357357Z"
    }
   },
   "outputs": [
    {
     "name": "stdout",
     "output_type": "stream",
     "text": [
      "xxx:  \n",
      "def subgraph(Bulk__name: str = \"Al\", Bulk__a: Optional[float] = 2):\n",
      "\n",
      "    from pyiron_core.pyiron_workflow import Workflow\n",
      "    from pyiron_core.pyiron_nodes.atomistic.structure.build import Bulk\n",
      "    from pyiron_core.pyiron_nodes.atomistic.engine.ase import M3GNet\n",
      "    from pyiron_core.pyiron_nodes.atomistic.calculator.ase import Static\n",
      "    from pyiron_core.pyiron_nodes.atomistic.calculator.output import GetEnergyLast\n",
      "\n",
      "    wf = Workflow('subgraph')\n",
      "    wf.Bulk = Bulk(name=Bulk__name, a=Bulk__a)\n",
      "    wf.M3GNet = M3GNet()\n",
      "    wf.Static = Static(structure=wf.Bulk, engine=wf.M3GNet)\n",
      "    wf.GetEnergyLast = GetEnergyLast(calculator=wf.Static)\n",
      "\n",
      "    return wf.GetEnergyLast.outputs.energy_last\n",
      "\n"
     ]
    }
   ],
   "source": [
    "print('xxx: ', base.get_code_from_graph(subgraph.graph, use_node_default=False))"
   ]
  },
  {
   "cell_type": "code",
   "execution_count": 49,
   "id": "aeccdf00-fa80-4315-a5f7-4dc4f5e88284",
   "metadata": {
    "ExecuteTime": {
     "end_time": "2025-05-16T23:04:10.427985Z",
     "start_time": "2025-05-16T23:04:10.414956Z"
    }
   },
   "outputs": [
    {
     "name": "stdout",
     "output_type": "stream",
     "text": [
      "\n",
      "def subgraph(Bulk__name: str = \"Al\", Bulk__a: Optional[float] = 2):\n",
      "\n",
      "    from pyiron_core.pyiron_workflow import Workflow\n",
      "    from pyiron_core.pyiron_nodes.atomistic.structure.build import Bulk\n",
      "    from pyiron_core.pyiron_nodes.atomistic.engine.ase import M3GNet\n",
      "    from pyiron_core.pyiron_nodes.atomistic.calculator.ase import Static\n",
      "    from pyiron_core.pyiron_nodes.atomistic.calculator.output import GetEnergyLast\n",
      "\n",
      "    wf = Workflow('subgraph')\n",
      "    wf.Bulk = Bulk(name=Bulk__name, a=Bulk__a)\n",
      "    wf.M3GNet = M3GNet()\n",
      "    wf.Static = Static(structure=wf.Bulk, engine=wf.M3GNet)\n",
      "    wf.GetEnergyLast = GetEnergyLast(calculator=wf.Static)\n",
      "\n",
      "    return wf.GetEnergyLast.outputs.energy_last\n",
      "\n"
     ]
    }
   ],
   "source": [
    "graph = base._load_graph(\"murnaghan2\", workflow_dir=json_file_location)\n",
    "print(base.get_code_from_graph(graph.nodes[\"subgraph\"].graph))"
   ]
  },
  {
   "cell_type": "code",
   "execution_count": 50,
   "id": "826876b1-c68e-4751-8779-dac8ef719904",
   "metadata": {
    "ExecuteTime": {
     "end_time": "2025-05-16T23:04:10.520339Z",
     "start_time": "2025-05-16T23:04:10.517909Z"
    }
   },
   "outputs": [
    {
     "data": {
      "text/plain": [
       "Graph(id=None, label='subgraph', root_node=None, nodes=Nodes({'Bulk': GraphNode(id='Bulk', import_path='pyiron_core.pyiron_nodes.atomistic.structure.build.Bulk', label='Bulk', parent_id=None, level=0, node=<pyiron_core.pyiron_workflow.simple_workflow.Node object at 0x31ebf1f40>, graph=None, node_type='node', widget_type='customNode', expanded=False), 'M3GNet': GraphNode(id='M3GNet', import_path='pyiron_core.pyiron_nodes.atomistic.engine.ase.M3GNet', label='M3GNet', parent_id=None, level=0, node=<pyiron_core.pyiron_workflow.simple_workflow.Node object at 0x31ebf1850>, graph=None, node_type='node', widget_type='customNode', expanded=False), 'Static': GraphNode(id='Static', import_path='pyiron_core.pyiron_nodes.atomistic.calculator.ase.Static', label='Static', parent_id=None, level=0, node=<pyiron_core.pyiron_workflow.simple_workflow.Node object at 0x31ebe5700>, graph=None, node_type='node', widget_type='customNode', expanded=False), 'GetEnergyLast': GraphNode(id='GetEnergyLast', import_path='pyiron_core.pyiron_nodes.atomistic.calculator.output.GetEnergyLast', label='GetEnergyLast', parent_id=None, level=0, node=<pyiron_core.pyiron_workflow.simple_workflow.Node object at 0x31ebe7920>, graph=None, node_type='node', widget_type='customNode', expanded=False)}), edges=[GraphEdge(source='Static', target='GetEnergyLast', sourceHandle='out', targetHandle='calculator'), GraphEdge(source='Bulk', target='Static', sourceHandle='structure', targetHandle='structure'), GraphEdge(source='M3GNet', target='Static', sourceHandle='out', targetHandle='engine')], graph={})"
      ]
     },
     "execution_count": 50,
     "metadata": {},
     "output_type": "execute_result"
    }
   ],
   "source": [
    "subgraph.graph"
   ]
  },
  {
   "cell_type": "code",
   "execution_count": 51,
   "id": "0896fa6c-4e3e-4f27-aade-8d728230186a",
   "metadata": {
    "ExecuteTime": {
     "end_time": "2025-05-16T23:04:10.572278Z",
     "start_time": "2025-05-16T23:04:10.569493Z"
    }
   },
   "outputs": [
    {
     "data": {
      "text/html": [
       "<div>\n",
       "<style scoped>\n",
       "    .dataframe tbody tr th:only-of-type {\n",
       "        vertical-align: middle;\n",
       "    }\n",
       "\n",
       "    .dataframe tbody tr th {\n",
       "        vertical-align: top;\n",
       "    }\n",
       "\n",
       "    .dataframe thead th {\n",
       "        text-align: right;\n",
       "    }\n",
       "</style>\n",
       "<table border=\"1\" class=\"dataframe\">\n",
       "  <thead>\n",
       "    <tr style=\"text-align: right;\">\n",
       "      <th></th>\n",
       "      <th>label</th>\n",
       "      <th>value</th>\n",
       "      <th>type</th>\n",
       "      <th>default</th>\n",
       "      <th>ready</th>\n",
       "      <th>node</th>\n",
       "    </tr>\n",
       "  </thead>\n",
       "  <tbody>\n",
       "    <tr>\n",
       "      <th>0</th>\n",
       "      <td>Bulk__name</td>\n",
       "      <td>Al</td>\n",
       "      <td>str</td>\n",
       "      <td>NotData</td>\n",
       "      <td>True</td>\n",
       "      <td>&lt;pyiron_core.pyiron_workflow.simple_workflow.N...</td>\n",
       "    </tr>\n",
       "    <tr>\n",
       "      <th>1</th>\n",
       "      <td>Bulk__a</td>\n",
       "      <td>2</td>\n",
       "      <td>Optional[float]</td>\n",
       "      <td>None</td>\n",
       "      <td>True</td>\n",
       "      <td>&lt;pyiron_core.pyiron_workflow.simple_workflow.N...</td>\n",
       "    </tr>\n",
       "  </tbody>\n",
       "</table>\n",
       "</div>"
      ],
      "text/plain": [
       "{'label': ['Bulk__name', 'Bulk__a'], 'value': ['Al', 2], 'type': ['str', 'Optional[float]'], 'default': ['NotData', None], 'ready': [True, True], 'node': [<pyiron_core.pyiron_workflow.simple_workflow.Node object at 0x31eb7fd10>, <pyiron_core.pyiron_workflow.simple_workflow.Node object at 0x31eb7fd10>]}"
      ]
     },
     "execution_count": 51,
     "metadata": {},
     "output_type": "execute_result"
    }
   ],
   "source": [
    "subgraph.node.inputs"
   ]
  },
  {
   "cell_type": "code",
   "execution_count": 52,
   "id": "b7677c1c-8865-4963-8f3e-b6ce3a43161b",
   "metadata": {
    "ExecuteTime": {
     "end_time": "2025-05-16T23:04:10.639477Z",
     "start_time": "2025-05-16T23:04:10.635371Z"
    }
   },
   "outputs": [
    {
     "name": "stdout",
     "output_type": "stream",
     "text": [
      "GraphNode(id='Bulk', import_path='pyiron_core.pyiron_nodes.atomistic.structure.build.Bulk', label='Bulk', parent_id=None, level=0, node=<pyiron_core.pyiron_workflow.simple_workflow.Node object at 0x31d8c8bf0>, graph=None, node_type='node', widget_type='customNode', expanded=False)\n",
      "GraphNode(id='Volume', import_path='pyiron_core.pyiron_nodes.atomistic.structure.calc.Volume', label='Volume', parent_id=None, level=0, node=<pyiron_core.pyiron_workflow.simple_workflow.Node object at 0x31d8c89b0>, graph=None, node_type='node', widget_type='customNode', expanded=False)\n",
      "GraphNode(id='ThreadPoolExecutor', import_path='pyiron_core.pyiron_nodes.executors.ThreadPoolExecutor', label='ThreadPoolExecutor', parent_id=None, level=0, node=<pyiron_core.pyiron_workflow.simple_workflow.Node object at 0x31eabbdd0>, graph=None, node_type='node', widget_type='customNode', expanded=False)\n",
      "GraphNode(id='IterNode', import_path='pyiron_core.pyiron_nodes.executors.IterNode', label='IterNode', parent_id=None, level=0, node=<pyiron_core.pyiron_workflow.simple_workflow.Node object at 0x31eab9cd0>, graph=None, node_type='node', widget_type='customNode', expanded=False)\n",
      "GraphNode(id='SingleNodeExecutor', import_path='pyiron_core.pyiron_nodes.executors.SingleNodeExecutor', label='SingleNodeExecutor', parent_id=None, level=0, node=<pyiron_core.pyiron_workflow.simple_workflow.Node object at 0x31eab9df0>, graph=None, node_type='node', widget_type='customNode', expanded=False)\n",
      "GraphNode(id='Linspace', import_path='pyiron_core.pyiron_nodes.math.Linspace', label='Linspace', parent_id=None, level=0, node=<pyiron_core.pyiron_workflow.simple_workflow.Node object at 0x31eab8b00>, graph=None, node_type='node', widget_type='customNode', expanded=False)\n"
     ]
    }
   ],
   "source": [
    "graph2 = base._load_graph(\"executor3\", workflow_dir=json_file_location)\n",
    "for node in graph2.nodes.values():\n",
    "    print(node)"
   ]
  },
  {
   "cell_type": "code",
   "execution_count": 53,
   "id": "3bb992b8201de946",
   "metadata": {},
   "outputs": [
    {
     "name": "stdout",
     "output_type": "stream",
     "text": [
      "CPU times: user 2.81 ms, sys: 565 μs, total: 3.38 ms\n",
      "Wall time: 3.1 ms\n"
     ]
    },
    {
     "data": {
      "text/plain": [
       "<pyiron_core.pyiron_workflow.simple_workflow.Node at 0x31eb7d670>"
      ]
     },
     "execution_count": 53,
     "metadata": {},
     "output_type": "execute_result"
    }
   ],
   "source": [
    "%%time\n",
    "Al = nodes.atomistic.structure.build.CubicBulkCell(element=\"Al\")\n",
    "\n",
    "dumps = pickle.dumps((Al, base.run_node))\n",
    "\n",
    "Al.__getstate__()\n",
    "Al_p, run = pickle.loads(dumps)\n",
    "Al_p.inputs\n",
    "# Al\n",
    "pc.Node().__setstate__(state=Al.__getstate__())"
   ]
  },
  {
   "cell_type": "code",
   "execution_count": 54,
   "id": "a4d5bbb5233af6df",
   "metadata": {},
   "outputs": [
    {
     "name": "stdout",
     "output_type": "stream",
     "text": [
      "labels ['Bulk__name', 'Bulk__a', 'Bulk__cubic', 'Linspace__x_min', 'Linspace__x_max', 'Linspace__num_points', 'IterNode__kwarg_name']\n",
      "inp:  Bulk name\n",
      "GraphEdge(source='va_i_subgraph__Bulk__name', target='Bulk', sourceHandle='x', targetHandle='name')\n",
      "inp:  Bulk a\n",
      "GraphEdge(source='va_i_subgraph__Bulk__a', target='Bulk', sourceHandle='x', targetHandle='a')\n",
      "inp:  Bulk cubic\n",
      "GraphEdge(source='va_i_subgraph__Bulk__cubic', target='Bulk', sourceHandle='x', targetHandle='cubic')\n",
      "inp:  Linspace x_min\n",
      "GraphEdge(source='va_i_subgraph__Linspace__x_min', target='Linspace', sourceHandle='x', targetHandle='x_min')\n",
      "inp:  Linspace x_max\n",
      "GraphEdge(source='va_i_subgraph__Linspace__x_max', target='Linspace', sourceHandle='x', targetHandle='x_max')\n",
      "inp:  Linspace num_points\n",
      "GraphEdge(source='va_i_subgraph__Linspace__num_points', target='Linspace', sourceHandle='x', targetHandle='num_points')\n",
      "inp:  IterNode kwarg_name\n",
      "GraphEdge(source='va_i_subgraph__IterNode__kwarg_name', target='IterNode', sourceHandle='x', targetHandle='kwarg_name')\n",
      "labels ['IterNode__df']\n",
      "node:  Bulk GraphNode(id='Bulk', import_path='pyiron_core.pyiron_nodes.atomistic.structure.build.Bulk', label='Bulk', parent_id='subgraph', level=1, node=<pyiron_core.pyiron_workflow.simple_workflow.Node object at 0x31eaee660>, graph=None, node_type='node', widget_type='customNode', expanded=False)\n",
      "node:  Volume GraphNode(id='Volume', import_path='pyiron_core.pyiron_nodes.atomistic.structure.calc.Volume', label='Volume', parent_id='subgraph', level=1, node=<pyiron_core.pyiron_workflow.simple_workflow.Node object at 0x31eaecc50>, graph=None, node_type='node', widget_type='customNode', expanded=False)\n",
      "node:  ThreadPoolExecutor GraphNode(id='ThreadPoolExecutor', import_path='pyiron_core.pyiron_nodes.executors.ThreadPoolExecutor', label='ThreadPoolExecutor', parent_id='subgraph', level=1, node=<pyiron_core.pyiron_workflow.simple_workflow.Node object at 0x31eaef890>, graph=None, node_type='node', widget_type='customNode', expanded=False)\n",
      "node:  IterNode GraphNode(id='IterNode', import_path='pyiron_core.pyiron_nodes.executors.IterNode', label='IterNode', parent_id='subgraph', level=1, node=<pyiron_core.pyiron_workflow.simple_workflow.Node object at 0x31eaec4a0>, graph=None, node_type='node', widget_type='customNode', expanded=False)\n",
      "node:  SingleNodeExecutor GraphNode(id='SingleNodeExecutor', import_path='pyiron_core.pyiron_nodes.executors.SingleNodeExecutor', label='SingleNodeExecutor', parent_id=None, level=0, node=<pyiron_core.pyiron_workflow.simple_workflow.Node object at 0x31eaefe30>, graph=None, node_type='node', widget_type='customNode', expanded=False)\n",
      "node:  Linspace GraphNode(id='Linspace', import_path='pyiron_core.pyiron_nodes.math.Linspace', label='Linspace', parent_id='subgraph', level=1, node=<pyiron_core.pyiron_workflow.simple_workflow.Node object at 0x31eaec1a0>, graph=None, node_type='node', widget_type='customNode', expanded=False)\n",
      "node:  subgraph GraphNode(id='subgraph', import_path=None, label='subgraph', parent_id=None, level=0, node=<pyiron_core.pyiron_workflow.simple_workflow.Node object at 0x31ebf0da0>, graph=Graph(id=None, label='subgraph', root_node=None, nodes=NestedDict({'Bulk': GraphNode(id='Bulk', import_path='pyiron_core.pyiron_nodes.atomistic.structure.build.Bulk', label='Bulk', parent_id=None, level=0, node=<pyiron_core.pyiron_workflow.simple_workflow.Node object at 0x31eaee660>, graph=None, node_type='node', widget_type='customNode', expanded=False), 'ThreadPoolExecutor': GraphNode(id='ThreadPoolExecutor', import_path='pyiron_core.pyiron_nodes.executors.ThreadPoolExecutor', label='ThreadPoolExecutor', parent_id=None, level=0, node=<pyiron_core.pyiron_workflow.simple_workflow.Node object at 0x31eaef890>, graph=None, node_type='node', widget_type='customNode', expanded=False), 'Linspace': GraphNode(id='Linspace', import_path='pyiron_core.pyiron_nodes.math.Linspace', label='Linspace', parent_id=None, level=0, node=<pyiron_core.pyiron_workflow.simple_workflow.Node object at 0x31eaec1a0>, graph=None, node_type='node', widget_type='customNode', expanded=False), 'Volume': GraphNode(id='Volume', import_path='pyiron_core.pyiron_nodes.atomistic.structure.calc.Volume', label='Volume', parent_id=None, level=0, node=<pyiron_core.pyiron_workflow.simple_workflow.Node object at 0x31eaecc50>, graph=None, node_type='node', widget_type='customNode', expanded=False), 'IterNode': GraphNode(id='IterNode', import_path='pyiron_core.pyiron_nodes.executors.IterNode', label='IterNode', parent_id=None, level=0, node=<pyiron_core.pyiron_workflow.simple_workflow.Node object at 0x31eaec4a0>, graph=None, node_type='node', widget_type='customNode', expanded=False)}), edges=[GraphEdge(source='Bulk', target='Volume', sourceHandle='structure', targetHandle='structure'), GraphEdge(source='Volume', target='IterNode', sourceHandle='volume', targetHandle='node'), GraphEdge(source='ThreadPoolExecutor', target='IterNode', sourceHandle='Executor', targetHandle='Executor'), GraphEdge(source='Linspace', target='IterNode', sourceHandle='linspace', targetHandle='kwarg_list')], graph={}), node_type='graph', widget_type='customNode', expanded=False)\n",
      "node:  va_i_subgraph__Bulk__name GraphNode(id='va_i_subgraph__Bulk__name', import_path='pyiron_core.pyiron_workflow.api.serial.identity', label='va_i_subgraph__Bulk__name', parent_id='subgraph', level=0, node=<pyiron_core.pyiron_workflow.simple_workflow.Node object at 0x31ebf0e90>, graph=None, node_type='node', widget_type='customNode', expanded=False)\n",
      "node:  va_i_subgraph__Bulk__a GraphNode(id='va_i_subgraph__Bulk__a', import_path='pyiron_core.pyiron_workflow.api.serial.identity', label='va_i_subgraph__Bulk__a', parent_id='subgraph', level=0, node=<pyiron_core.pyiron_workflow.simple_workflow.Node object at 0x31eb74590>, graph=None, node_type='node', widget_type='customNode', expanded=False)\n",
      "node:  va_i_subgraph__Bulk__cubic GraphNode(id='va_i_subgraph__Bulk__cubic', import_path='pyiron_core.pyiron_workflow.api.serial.identity', label='va_i_subgraph__Bulk__cubic', parent_id='subgraph', level=0, node=<pyiron_core.pyiron_workflow.simple_workflow.Node object at 0x31eb75610>, graph=None, node_type='node', widget_type='customNode', expanded=False)\n",
      "node:  va_i_subgraph__Linspace__x_min GraphNode(id='va_i_subgraph__Linspace__x_min', import_path='pyiron_core.pyiron_workflow.api.serial.identity', label='va_i_subgraph__Linspace__x_min', parent_id='subgraph', level=0, node=<pyiron_core.pyiron_workflow.simple_workflow.Node object at 0x31eb7e750>, graph=None, node_type='node', widget_type='customNode', expanded=False)\n",
      "node:  va_i_subgraph__Linspace__x_max GraphNode(id='va_i_subgraph__Linspace__x_max', import_path='pyiron_core.pyiron_workflow.api.serial.identity', label='va_i_subgraph__Linspace__x_max', parent_id='subgraph', level=0, node=<pyiron_core.pyiron_workflow.simple_workflow.Node object at 0x31eb74f50>, graph=None, node_type='node', widget_type='customNode', expanded=False)\n",
      "node:  va_i_subgraph__Linspace__num_points GraphNode(id='va_i_subgraph__Linspace__num_points', import_path='pyiron_core.pyiron_workflow.api.serial.identity', label='va_i_subgraph__Linspace__num_points', parent_id='subgraph', level=0, node=<pyiron_core.pyiron_workflow.simple_workflow.Node object at 0x31eb76150>, graph=None, node_type='node', widget_type='customNode', expanded=False)\n",
      "node:  va_i_subgraph__IterNode__kwarg_name GraphNode(id='va_i_subgraph__IterNode__kwarg_name', import_path='pyiron_core.pyiron_workflow.api.serial.identity', label='va_i_subgraph__IterNode__kwarg_name', parent_id='subgraph', level=0, node=<pyiron_core.pyiron_workflow.simple_workflow.Node object at 0x31eb75880>, graph=None, node_type='node', widget_type='customNode', expanded=False)\n",
      "node:  va_o_subgraph__IterNode__df GraphNode(id='va_o_subgraph__IterNode__df', import_path='pyiron_core.pyiron_workflow.api.serial.identity', label='va_o_subgraph__IterNode__df', parent_id='subgraph', level=0, node=<pyiron_core.pyiron_workflow.simple_workflow.Node object at 0x31eb75850>, graph=None, node_type='node', widget_type='customNode', expanded=False)\n",
      "['subgraph']\n",
      "<class 'pyiron_core.pyiron_workflow.graph.base.GraphNode'>\n",
      "NODE:  Bulk\n",
      "<class 'pyiron_core.pyiron_workflow.graph.base.GraphNode'>\n",
      "NODE:  ThreadPoolExecutor\n",
      "<class 'pyiron_core.pyiron_workflow.graph.base.GraphNode'>\n",
      "NODE:  Linspace\n",
      "<class 'pyiron_core.pyiron_workflow.graph.base.GraphNode'>\n",
      "NODE:  Volume\n",
      "<class 'pyiron_core.pyiron_workflow.graph.base.GraphNode'>\n",
      "NODE:  IterNode\n"
     ]
    }
   ],
   "source": [
    "graph = base._load_graph(\"executor3\", workflow_dir=json_file_location)\n",
    "\n",
    "# Originally this resulted in KeyError: 'subgraph'\n",
    "# Indeed, the executor3.json file has no subgraph.\n",
    "# Lets just stick _all_ the nodes in a subgraph and proceed\n",
    "# Nevermind, nope, because we're still not allowed multiple unconnected outputs in a subgraph\n",
    "# Just make a bespoke selection for now......\n",
    "graph = base.create_group(graph, [0, 1, 2, 3, 5], label=\"subgraph\")\n",
    "\n",
    "subgraph = graph.nodes[\"subgraph\"].graph\n",
    "for node in subgraph.nodes.values():\n",
    "    print(type(node))\n",
    "    \n",
    "    g = base.GraphNode().__setstate__(node.__getstate__())\n",
    "    print('NODE: ', g.label)"
   ]
  },
  {
   "cell_type": "code",
   "execution_count": 55,
   "id": "99853a0685f4e769",
   "metadata": {},
   "outputs": [
    {
     "data": {
      "text/plain": [
       "<pyiron_core.pyiron_workflow.simple_workflow.Node at 0x31ebf0bc0>"
      ]
     },
     "execution_count": 55,
     "metadata": {},
     "output_type": "execute_result"
    }
   ],
   "source": [
    "module = importlib.import_module('pyiron_core.pyiron_nodes.atomistic.structure.build')\n",
    "module.Bulk()"
   ]
  },
  {
   "cell_type": "code",
   "execution_count": 56,
   "id": "34877fc0387069c8",
   "metadata": {},
   "outputs": [
    {
     "data": {
      "text/plain": [
       "<pyiron_core.pyiron_workflow.simple_workflow.Node at 0x31ebf1d90>"
      ]
     },
     "execution_count": 56,
     "metadata": {},
     "output_type": "execute_result"
    }
   ],
   "source": [
    "pc.get_node_from_path('pyiron_core.pyiron_nodes.atomistic.structure.build.Bulk')()"
   ]
  },
  {
   "cell_type": "code",
   "execution_count": 57,
   "id": "8f0e3e5347d819e4",
   "metadata": {},
   "outputs": [
    {
     "data": {
      "text/plain": [
       "b'\\x80\\x04\\x95\\xc1\\x00\\x00\\x00\\x00\\x00\\x00\\x00\\x8c+pyiron_core.pyiron_workflow.simple_workflow\\x94\\x8c\\x04Node\\x94\\x93\\x94)\\x81\\x94}\\x94(\\x8c\\x05label\\x94\\x8c\\rCubicBulkCell\\x94\\x8c\\x08function\\x94\\x8c@pyiron_core.pyiron_nodes.atomistic.structure.build.CubicBulkCell\\x94\\x8c\\x06inputs\\x94}\\x94\\x8c\\x07element\\x94\\x8c\\x02Al\\x94sub.'"
      ]
     },
     "execution_count": 57,
     "metadata": {},
     "output_type": "execute_result"
    }
   ],
   "source": [
    "state = pickle.dumps(Al)\n",
    "state"
   ]
  },
  {
   "cell_type": "code",
   "execution_count": 58,
   "id": "302818b1-3779-4bd8-b37a-024680619c08",
   "metadata": {
    "ExecuteTime": {
     "end_time": "2025-05-16T23:04:11.133453Z",
     "start_time": "2025-05-16T23:04:11.129409Z"
    }
   },
   "outputs": [
    {
     "data": {
      "text/html": [
       "<div>\n",
       "<style scoped>\n",
       "    .dataframe tbody tr th:only-of-type {\n",
       "        vertical-align: middle;\n",
       "    }\n",
       "\n",
       "    .dataframe tbody tr th {\n",
       "        vertical-align: top;\n",
       "    }\n",
       "\n",
       "    .dataframe thead th {\n",
       "        text-align: right;\n",
       "    }\n",
       "</style>\n",
       "<table border=\"1\" class=\"dataframe\">\n",
       "  <thead>\n",
       "    <tr style=\"text-align: right;\">\n",
       "      <th></th>\n",
       "      <th>label</th>\n",
       "      <th>type</th>\n",
       "      <th>default</th>\n",
       "      <th>ready</th>\n",
       "      <th>value</th>\n",
       "      <th>node</th>\n",
       "    </tr>\n",
       "  </thead>\n",
       "  <tbody>\n",
       "    <tr>\n",
       "      <th>0</th>\n",
       "      <td>element</td>\n",
       "      <td>str</td>\n",
       "      <td>NotData</td>\n",
       "      <td>True</td>\n",
       "      <td>Al</td>\n",
       "      <td>&lt;pyiron_core.pyiron_workflow.simple_workflow.N...</td>\n",
       "    </tr>\n",
       "    <tr>\n",
       "      <th>1</th>\n",
       "      <td>cell_size</td>\n",
       "      <td>int</td>\n",
       "      <td>1</td>\n",
       "      <td>True</td>\n",
       "      <td>1</td>\n",
       "      <td>&lt;pyiron_core.pyiron_workflow.simple_workflow.N...</td>\n",
       "    </tr>\n",
       "    <tr>\n",
       "      <th>2</th>\n",
       "      <td>vacancy_index</td>\n",
       "      <td>Optional[int]</td>\n",
       "      <td>None</td>\n",
       "      <td>True</td>\n",
       "      <td>None</td>\n",
       "      <td>&lt;pyiron_core.pyiron_workflow.simple_workflow.N...</td>\n",
       "    </tr>\n",
       "  </tbody>\n",
       "</table>\n",
       "</div>"
      ],
      "text/plain": [
       "{'label': ['element', 'cell_size', 'vacancy_index'], 'type': ['str', 'int', 'Optional[int]'], 'default': ['NotData', 1, None], 'ready': [True, True, True], 'value': ['Al', 1, None], 'node': [<pyiron_core.pyiron_workflow.simple_workflow.Node object at 0x31ebf31a0>, <pyiron_core.pyiron_workflow.simple_workflow.Node object at 0x31ebf31a0>, <pyiron_core.pyiron_workflow.simple_workflow.Node object at 0x31ebf31a0>]}"
      ]
     },
     "execution_count": 58,
     "metadata": {},
     "output_type": "execute_result"
    }
   ],
   "source": [
    "copy.copy(Al_p).inputs"
   ]
  },
  {
   "cell_type": "code",
   "execution_count": 59,
   "id": "2a86efbe-200a-4000-8dc8-ae037c2cdb0e",
   "metadata": {
    "ExecuteTime": {
     "end_time": "2025-05-16T23:04:11.205944Z",
     "start_time": "2025-05-16T23:04:11.203237Z"
    }
   },
   "outputs": [
    {
     "data": {
      "text/plain": [
       "Graph(id=None, label='bulk', root_node=None, nodes=Nodes({'Bulk': GraphNode(id='Bulk', import_path='pyiron_core.pyiron_nodes.atomistic.structure.build.Bulk', label='Bulk', parent_id=None, level=0, node=<pyiron_core.pyiron_workflow.simple_workflow.Node object at 0x31ebf32c0>, graph=None, node_type='node', widget_type='customNode', expanded=False)}), edges=[], graph={})"
      ]
     },
     "execution_count": 59,
     "metadata": {},
     "output_type": "execute_result"
    }
   ],
   "source": [
    "graph = base._load_graph(\"bulk\", workflow_dir=json_file_location)\n",
    "graph"
   ]
  },
  {
   "cell_type": "code",
   "execution_count": 60,
   "id": "42e006741d4d19c5",
   "metadata": {},
   "outputs": [
    {
     "data": {
      "text/html": [
       "<div>\n",
       "<style scoped>\n",
       "    .dataframe tbody tr th:only-of-type {\n",
       "        vertical-align: middle;\n",
       "    }\n",
       "\n",
       "    .dataframe tbody tr th {\n",
       "        vertical-align: top;\n",
       "    }\n",
       "\n",
       "    .dataframe thead th {\n",
       "        text-align: right;\n",
       "    }\n",
       "</style>\n",
       "<table border=\"1\" class=\"dataframe\">\n",
       "  <thead>\n",
       "    <tr style=\"text-align: right;\">\n",
       "      <th></th>\n",
       "      <th>label</th>\n",
       "      <th>type</th>\n",
       "      <th>default</th>\n",
       "      <th>ready</th>\n",
       "      <th>value</th>\n",
       "      <th>node</th>\n",
       "    </tr>\n",
       "  </thead>\n",
       "  <tbody>\n",
       "    <tr>\n",
       "      <th>0</th>\n",
       "      <td>element</td>\n",
       "      <td>str</td>\n",
       "      <td>NotData</td>\n",
       "      <td>True</td>\n",
       "      <td>Al</td>\n",
       "      <td>&lt;pyiron_core.pyiron_workflow.simple_workflow.N...</td>\n",
       "    </tr>\n",
       "    <tr>\n",
       "      <th>1</th>\n",
       "      <td>cell_size</td>\n",
       "      <td>int</td>\n",
       "      <td>1</td>\n",
       "      <td>True</td>\n",
       "      <td>1</td>\n",
       "      <td>&lt;pyiron_core.pyiron_workflow.simple_workflow.N...</td>\n",
       "    </tr>\n",
       "    <tr>\n",
       "      <th>2</th>\n",
       "      <td>vacancy_index</td>\n",
       "      <td>Optional[int]</td>\n",
       "      <td>None</td>\n",
       "      <td>True</td>\n",
       "      <td>None</td>\n",
       "      <td>&lt;pyiron_core.pyiron_workflow.simple_workflow.N...</td>\n",
       "    </tr>\n",
       "  </tbody>\n",
       "</table>\n",
       "</div>"
      ],
      "text/plain": [
       "{'label': ['element', 'cell_size', 'vacancy_index'], 'type': ['str', 'int', 'Optional[int]'], 'default': ['NotData', 1, None], 'ready': [True, True, True], 'value': ['Al', 1, None], 'node': [<pyiron_core.pyiron_workflow.simple_workflow.Node object at 0x31ebf3410>, <pyiron_core.pyiron_workflow.simple_workflow.Node object at 0x31ebf3410>, <pyiron_core.pyiron_workflow.simple_workflow.Node object at 0x31ebf3410>]}"
      ]
     },
     "execution_count": 60,
     "metadata": {},
     "output_type": "execute_result"
    }
   ],
   "source": [
    "node = pc.Node().__setstate__(state=Al.__getstate__())\n",
    "node.inputs"
   ]
  },
  {
   "cell_type": "code",
   "execution_count": 61,
   "id": "c9723de569c63ab4",
   "metadata": {},
   "outputs": [
    {
     "data": {
      "application/vnd.jupyter.widget-view+json": {
       "model_id": "45a4be0645654d7582bd124618b8abed",
       "version_major": 2,
       "version_minor": 0
      },
      "text/plain": [
       "VBox(children=(HBox(children=(Output(layout=Layout(width='400px')), Tab(children=(ReactFlowWidget(layout=Layou…"
      ]
     },
     "execution_count": 61,
     "metadata": {},
     "output_type": "execute_result"
    }
   ],
   "source": [
    "pf = pc.PyironFlow(\n",
    "    [\n",
    "        'assyst',\n",
    "        'linearfit2', \n",
    "        'graph', \n",
    "        'executor', \n",
    "        'executor3',\n",
    "    ],\n",
    "    workflow_path=json_file_location,\n",
    ") # 'landau2',\n",
    "pf.gui"
   ]
  },
  {
   "cell_type": "code",
   "execution_count": 62,
   "id": "786d98a4ea6b2447",
   "metadata": {},
   "outputs": [
    {
     "data": {
      "text/plain": [
       "{'id': 'SpaceGroupInput',\n",
       " 'import_path': 'pyiron_core.pyiron_nodes.atomistic.assyst.structures.SpaceGroupInput',\n",
       " 'label': 'SpaceGroupInput',\n",
       " 'parent_id': None,\n",
       " 'level': 0,\n",
       " 'graph': None,\n",
       " 'node_type': 'node',\n",
       " 'widget_type': 'customNode',\n",
       " 'expanded': False,\n",
       " 'node': {'label': 'SpaceGroupInput',\n",
       "  'function': 'pyiron_core.pyiron_nodes.atomistic.assyst.structures.SpaceGroupInput',\n",
       "  'inputs': {'max_structures': 100}}}"
      ]
     },
     "execution_count": 62,
     "metadata": {},
     "output_type": "execute_result"
    }
   ],
   "source": [
    "select_graph_by_name(pf, \"linearfit2\")\n",
    "# Selecting the one we want doesn't work when it's already the one selected\n",
    "# Select something else first, then go back\n",
    "select_graph_by_name(pf, \"assyst\")\n",
    "# pf.graph only gets populated after switching tabs in the GUI\n",
    "# here just take the first one in the list and see if it works\n",
    "\n",
    "graph = pf.graph #.__getstate__()\n",
    "\n",
    "\n",
    "# base._get_subgraph(graph, [0,1]).nodes.__getstate__()\n",
    "graph.nodes.iloc(1).__getstate__()"
   ]
  },
  {
   "cell_type": "code",
   "execution_count": 63,
   "id": "556ef040-2405-49ed-a22a-c8e347c42be6",
   "metadata": {
    "ExecuteTime": {
     "end_time": "2025-05-16T23:04:12.182553Z",
     "start_time": "2025-05-16T23:04:12.180159Z"
    }
   },
   "outputs": [
    {
     "data": {
      "text/plain": [
       "Graph(id=None, label='assyst', root_node=None, nodes=Nodes({'ElementInput': GraphNode(id='ElementInput', import_path='pyiron_core.pyiron_nodes.atomistic.assyst.structures.ElementInput', label='ElementInput', parent_id=None, level=0, node=<pyiron_core.pyiron_workflow.simple_workflow.Node object at 0x31d8db0e0>, graph=None, node_type='node', widget_type='customNode', expanded=False), 'SpaceGroupInput': GraphNode(id='SpaceGroupInput', import_path='pyiron_core.pyiron_nodes.atomistic.assyst.structures.SpaceGroupInput', label='SpaceGroupInput', parent_id=None, level=0, node=<pyiron_core.pyiron_workflow.simple_workflow.Node object at 0x31ebf1130>, graph=None, node_type='node', widget_type='customNode', expanded=False), 'SpaceGroupSampling': GraphNode(id='SpaceGroupSampling', import_path='pyiron_core.pyiron_nodes.atomistic.assyst.structures.SpaceGroupSampling', label='SpaceGroupSampling', parent_id=None, level=0, node=<pyiron_core.pyiron_workflow.simple_workflow.Node object at 0x31ebf3830>, graph=None, node_type='node', widget_type='customNode', expanded=False), 'ApplyEngine': GraphNode(id='ApplyEngine', import_path='pyiron_core.pyiron_nodes.atomistic.calculator.generic.ApplyEngine', label='ApplyEngine', parent_id=None, level=0, node=<pyiron_core.pyiron_workflow.simple_workflow.Node object at 0x31eaecd40>, graph=None, node_type='node', widget_type='customNode', expanded=False), 'Static': GraphNode(id='Static', import_path='pyiron_core.pyiron_nodes.atomistic.calculator.ase.Static', label='Static', parent_id=None, level=0, node=<pyiron_core.pyiron_workflow.simple_workflow.Node object at 0x31eb7ed50>, graph=None, node_type='node', widget_type='customNode', expanded=False), 'M3GNet': GraphNode(id='M3GNet', import_path='pyiron_core.pyiron_nodes.atomistic.engine.ase.M3GNet', label='M3GNet', parent_id=None, level=0, node=<pyiron_core.pyiron_workflow.simple_workflow.Node object at 0x31eb74b60>, graph=None, node_type='node', widget_type='customNode', expanded=False), 'Bulk': GraphNode(id='Bulk', import_path='pyiron_core.pyiron_nodes.atomistic.structure.build.Bulk', label='Bulk', parent_id=None, level=0, node=<pyiron_core.pyiron_workflow.simple_workflow.Node object at 0x31eb76c00>, graph=None, node_type='node', widget_type='customNode', expanded=False), 'OutputSEFS': GraphNode(id='OutputSEFS', import_path='pyiron_core.pyiron_workflow.api.serial.func_dataclass', label='OutputSEFS', parent_id=None, level=0, node=<pyiron_core.pyiron_workflow.simple_workflow.Node object at 0x31eb76150>, graph=None, node_type='node', widget_type='customNode', expanded=False), 'Plot': GraphNode(id='Plot', import_path='pyiron_core.pyiron_nodes.plotting.Plot', label='Plot', parent_id=None, level=0, node=<pyiron_core.pyiron_workflow.simple_workflow.Node object at 0x31eb742f0>, graph=None, node_type='node', widget_type='customNode', expanded=False), 'Histogram': GraphNode(id='Histogram', import_path='pyiron_core.pyiron_nodes.plotting.Histogram', label='Histogram', parent_id=None, level=0, node=<pyiron_core.pyiron_workflow.simple_workflow.Node object at 0x31eb5c650>, graph=None, node_type='node', widget_type='customNode', expanded=False)}), edges=[GraphEdge(source='ElementInput', target='SpaceGroupInput', sourceHandle='dataclass', targetHandle='element1'), GraphEdge(source='SpaceGroupInput', target='SpaceGroupSampling', sourceHandle='dataclass', targetHandle='input'), GraphEdge(source='SpaceGroupSampling', target='ApplyEngine', sourceHandle='out_sefs', targetHandle='sefs_container'), GraphEdge(source='M3GNet', target='Static', sourceHandle='out', targetHandle='engine'), GraphEdge(source='Static', target='ApplyEngine', sourceHandle='out', targetHandle='engine'), GraphEdge(source='Bulk', target='Static', sourceHandle='structure', targetHandle='structure'), GraphEdge(source='ApplyEngine', target='OutputSEFS', sourceHandle='sefs_container', targetHandle='dataclass'), GraphEdge(source='OutputSEFS', target='Plot', sourceHandle='energies', targetHandle='y'), GraphEdge(source='OutputSEFS', target='Histogram', sourceHandle='energies', targetHandle='x')], graph={})"
      ]
     },
     "execution_count": 63,
     "metadata": {},
     "output_type": "execute_result"
    }
   ],
   "source": [
    "graph"
   ]
  },
  {
   "cell_type": "code",
   "execution_count": 64,
   "id": "da3ba042-5ae3-4b10-b31c-b53e847120d6",
   "metadata": {
    "ExecuteTime": {
     "end_time": "2025-05-16T23:04:12.242317Z",
     "start_time": "2025-05-16T23:04:12.236724Z"
    }
   },
   "outputs": [
    {
     "name": "stdout",
     "output_type": "stream",
     "text": [
      "labels ['ElementInput__num', 'SpaceGroupInput__max_structures']\n",
      "inp:  ElementInput num\n",
      "GraphEdge(source='va_i_subgraph__ElementInput__num', target='ElementInput', sourceHandle='x', targetHandle='num')\n",
      "inp:  SpaceGroupInput max_structures\n",
      "GraphEdge(source='va_i_subgraph__SpaceGroupInput__max_structures', target='SpaceGroupInput', sourceHandle='x', targetHandle='max_structures')\n",
      "labels ['SpaceGroupInput__dataclass']\n",
      "node:  ElementInput GraphNode(id='ElementInput', import_path='pyiron_core.pyiron_nodes.atomistic.assyst.structures.ElementInput', label='ElementInput', parent_id='subgraph', level=1, node=<pyiron_core.pyiron_workflow.simple_workflow.Node object at 0x31d8db0e0>, graph=None, node_type='node', widget_type='customNode', expanded=False)\n",
      "node:  SpaceGroupInput GraphNode(id='SpaceGroupInput', import_path='pyiron_core.pyiron_nodes.atomistic.assyst.structures.SpaceGroupInput', label='SpaceGroupInput', parent_id='subgraph', level=1, node=<pyiron_core.pyiron_workflow.simple_workflow.Node object at 0x31ebf1130>, graph=None, node_type='node', widget_type='customNode', expanded=False)\n",
      "node:  SpaceGroupSampling GraphNode(id='SpaceGroupSampling', import_path='pyiron_core.pyiron_nodes.atomistic.assyst.structures.SpaceGroupSampling', label='SpaceGroupSampling', parent_id=None, level=0, node=<pyiron_core.pyiron_workflow.simple_workflow.Node object at 0x31ebf3830>, graph=None, node_type='node', widget_type='customNode', expanded=False)\n",
      "node:  ApplyEngine GraphNode(id='ApplyEngine', import_path='pyiron_core.pyiron_nodes.atomistic.calculator.generic.ApplyEngine', label='ApplyEngine', parent_id=None, level=0, node=<pyiron_core.pyiron_workflow.simple_workflow.Node object at 0x31eaecd40>, graph=None, node_type='node', widget_type='customNode', expanded=False)\n",
      "node:  Static GraphNode(id='Static', import_path='pyiron_core.pyiron_nodes.atomistic.calculator.ase.Static', label='Static', parent_id=None, level=0, node=<pyiron_core.pyiron_workflow.simple_workflow.Node object at 0x31eb7ed50>, graph=None, node_type='node', widget_type='customNode', expanded=False)\n",
      "node:  M3GNet GraphNode(id='M3GNet', import_path='pyiron_core.pyiron_nodes.atomistic.engine.ase.M3GNet', label='M3GNet', parent_id=None, level=0, node=<pyiron_core.pyiron_workflow.simple_workflow.Node object at 0x31eb74b60>, graph=None, node_type='node', widget_type='customNode', expanded=False)\n",
      "node:  Bulk GraphNode(id='Bulk', import_path='pyiron_core.pyiron_nodes.atomistic.structure.build.Bulk', label='Bulk', parent_id=None, level=0, node=<pyiron_core.pyiron_workflow.simple_workflow.Node object at 0x31eb76c00>, graph=None, node_type='node', widget_type='customNode', expanded=False)\n",
      "node:  OutputSEFS GraphNode(id='OutputSEFS', import_path='pyiron_core.pyiron_workflow.api.serial.func_dataclass', label='OutputSEFS', parent_id=None, level=0, node=<pyiron_core.pyiron_workflow.simple_workflow.Node object at 0x31eb76150>, graph=None, node_type='node', widget_type='customNode', expanded=False)\n",
      "node:  Plot GraphNode(id='Plot', import_path='pyiron_core.pyiron_nodes.plotting.Plot', label='Plot', parent_id=None, level=0, node=<pyiron_core.pyiron_workflow.simple_workflow.Node object at 0x31eb742f0>, graph=None, node_type='node', widget_type='customNode', expanded=False)\n",
      "node:  Histogram GraphNode(id='Histogram', import_path='pyiron_core.pyiron_nodes.plotting.Histogram', label='Histogram', parent_id=None, level=0, node=<pyiron_core.pyiron_workflow.simple_workflow.Node object at 0x31eb5c650>, graph=None, node_type='node', widget_type='customNode', expanded=False)\n",
      "node:  subgraph GraphNode(id='subgraph', import_path=None, label='subgraph', parent_id=None, level=0, node=<pyiron_core.pyiron_workflow.simple_workflow.Node object at 0x31d7e1a00>, graph=Graph(id=None, label='subgraph', root_node=None, nodes=NestedDict({'ElementInput': GraphNode(id='ElementInput', import_path='pyiron_core.pyiron_nodes.atomistic.assyst.structures.ElementInput', label='ElementInput', parent_id=None, level=0, node=<pyiron_core.pyiron_workflow.simple_workflow.Node object at 0x31d8db0e0>, graph=None, node_type='node', widget_type='customNode', expanded=False), 'SpaceGroupInput': GraphNode(id='SpaceGroupInput', import_path='pyiron_core.pyiron_nodes.atomistic.assyst.structures.SpaceGroupInput', label='SpaceGroupInput', parent_id=None, level=0, node=<pyiron_core.pyiron_workflow.simple_workflow.Node object at 0x31ebf1130>, graph=None, node_type='node', widget_type='customNode', expanded=False)}), edges=[GraphEdge(source='ElementInput', target='SpaceGroupInput', sourceHandle='dataclass', targetHandle='element1')], graph={}), node_type='graph', widget_type='customNode', expanded=False)\n",
      "node:  va_i_subgraph__ElementInput__num GraphNode(id='va_i_subgraph__ElementInput__num', import_path='pyiron_core.pyiron_workflow.api.serial.identity', label='va_i_subgraph__ElementInput__num', parent_id='subgraph', level=0, node=<pyiron_core.pyiron_workflow.simple_workflow.Node object at 0x31d8db230>, graph=None, node_type='node', widget_type='customNode', expanded=False)\n",
      "node:  va_i_subgraph__SpaceGroupInput__max_structures GraphNode(id='va_i_subgraph__SpaceGroupInput__max_structures', import_path='pyiron_core.pyiron_workflow.api.serial.identity', label='va_i_subgraph__SpaceGroupInput__max_structures', parent_id='subgraph', level=0, node=<pyiron_core.pyiron_workflow.simple_workflow.Node object at 0x31eb7c260>, graph=None, node_type='node', widget_type='customNode', expanded=False)\n",
      "node:  va_o_subgraph__SpaceGroupInput__dataclass GraphNode(id='va_o_subgraph__SpaceGroupInput__dataclass', import_path='pyiron_core.pyiron_workflow.api.serial.identity', label='va_o_subgraph__SpaceGroupInput__dataclass', parent_id='subgraph', level=0, node=<pyiron_core.pyiron_workflow.simple_workflow.Node object at 0x31d5ad940>, graph=None, node_type='node', widget_type='customNode', expanded=False)\n",
      "['subgraph']\n"
     ]
    },
    {
     "data": {
      "text/plain": [
       "{'id': 'subgraph',\n",
       " 'import_path': None,\n",
       " 'label': 'subgraph',\n",
       " 'parent_id': None,\n",
       " 'level': 0,\n",
       " 'graph': {'label': 'subgraph',\n",
       "  'nodes': {'ElementInput': {'id': 'ElementInput',\n",
       "    'import_path': 'pyiron_core.pyiron_nodes.atomistic.assyst.structures.ElementInput',\n",
       "    'label': 'ElementInput',\n",
       "    'parent_id': None,\n",
       "    'level': 0,\n",
       "    'graph': None,\n",
       "    'node_type': 'node',\n",
       "    'widget_type': 'customNode',\n",
       "    'expanded': False,\n",
       "    'node': {'label': 'ElementInput',\n",
       "     'function': 'pyiron_core.pyiron_nodes.atomistic.assyst.structures.ElementInput',\n",
       "     'inputs': {'num': 2}}},\n",
       "   'SpaceGroupInput': {'id': 'SpaceGroupInput',\n",
       "    'import_path': 'pyiron_core.pyiron_nodes.atomistic.assyst.structures.SpaceGroupInput',\n",
       "    'label': 'SpaceGroupInput',\n",
       "    'parent_id': None,\n",
       "    'level': 0,\n",
       "    'graph': None,\n",
       "    'node_type': 'node',\n",
       "    'widget_type': 'customNode',\n",
       "    'expanded': False,\n",
       "    'node': {'label': 'SpaceGroupInput',\n",
       "     'function': 'pyiron_core.pyiron_nodes.atomistic.assyst.structures.SpaceGroupInput',\n",
       "     'inputs': {'max_structures': 100}}},\n",
       "   '_obj_type': 'pyiron_core.pyiron_workflow.api.serial.GraphNode'},\n",
       "  'edges': {'values': [{'source': 'ElementInput',\n",
       "     'target': 'SpaceGroupInput',\n",
       "     'sourceHandle': 'dataclass',\n",
       "     'targetHandle': 'element1'}],\n",
       "   'obj_type': 'pyiron_core.pyiron_workflow.api.serial.GraphEdge'}},\n",
       " 'node_type': 'graph',\n",
       " 'widget_type': 'customNode',\n",
       " 'expanded': False,\n",
       " 'node': {'label': 'subgraph',\n",
       "  'function': 'pyiron_core.pyiron_workflow.graph.base.subgraph',\n",
       "  'inputs': {'ElementInput__num': 2, 'SpaceGroupInput__max_structures': 100}}}"
      ]
     },
     "execution_count": 64,
     "metadata": {},
     "output_type": "execute_result"
    }
   ],
   "source": [
    "# pf.graph.nodes[\"subgraph\"].__getstate__()\n",
    "# None of the saved graphs have a \"subgraph\"\n",
    "# so let's make one\n",
    "\n",
    "graph = base.create_group(pf.graph, [0, 1])\n",
    "graph.nodes[\"subgraph\"].__getstate__()"
   ]
  },
  {
   "cell_type": "code",
   "execution_count": 65,
   "id": "70fb7d19-3672-4ff6-9616-791b1b9a655b",
   "metadata": {
    "ExecuteTime": {
     "end_time": "2025-05-16T23:04:12.286817Z",
     "start_time": "2025-05-16T23:04:12.283854Z"
    }
   },
   "outputs": [
    {
     "data": {
      "text/plain": [
       "<pyiron_core.pyiron_workflow.simple_workflow.Node at 0x31eb75310>"
      ]
     },
     "execution_count": 65,
     "metadata": {},
     "output_type": "execute_result"
    }
   ],
   "source": [
    "# base.graph_to_node(pf.graph.nodes[\"subgraph\"].graph)\n",
    "base.graph_to_node(graph.nodes[\"subgraph\"].graph)"
   ]
  },
  {
   "cell_type": "code",
   "execution_count": 66,
   "id": "54cc13c8-373e-41b6-8f31-bca31c1ca7a2",
   "metadata": {
    "ExecuteTime": {
     "end_time": "2025-05-16T23:04:12.333825Z",
     "start_time": "2025-05-16T23:04:12.329265Z"
    }
   },
   "outputs": [
    {
     "data": {
      "text/plain": [
       "Graph(id=None, label='executor3', root_node=None, nodes=Nodes({'Bulk': GraphNode(id='Bulk', import_path='pyiron_core.pyiron_nodes.atomistic.structure.build.Bulk', label='Bulk', parent_id=None, level=0, node=<pyiron_core.pyiron_workflow.simple_workflow.Node object at 0x16c114590>, graph=None, node_type='node', widget_type='customNode', expanded=False), 'Volume': GraphNode(id='Volume', import_path='pyiron_core.pyiron_nodes.atomistic.structure.calc.Volume', label='Volume', parent_id=None, level=0, node=<pyiron_core.pyiron_workflow.simple_workflow.Node object at 0x16c114260>, graph=None, node_type='node', widget_type='customNode', expanded=False), 'ThreadPoolExecutor': GraphNode(id='ThreadPoolExecutor', import_path='pyiron_core.pyiron_nodes.executors.ThreadPoolExecutor', label='ThreadPoolExecutor', parent_id=None, level=0, node=<pyiron_core.pyiron_workflow.simple_workflow.Node object at 0x16c115af0>, graph=None, node_type='node', widget_type='customNode', expanded=False), 'IterNode': GraphNode(id='IterNode', import_path='pyiron_core.pyiron_nodes.executors.IterNode', label='IterNode', parent_id=None, level=0, node=<pyiron_core.pyiron_workflow.simple_workflow.Node object at 0x31ea55130>, graph=None, node_type='node', widget_type='customNode', expanded=False), 'SingleNodeExecutor': GraphNode(id='SingleNodeExecutor', import_path='pyiron_core.pyiron_nodes.executors.SingleNodeExecutor', label='SingleNodeExecutor', parent_id=None, level=0, node=<pyiron_core.pyiron_workflow.simple_workflow.Node object at 0x31ea551c0>, graph=None, node_type='node', widget_type='customNode', expanded=False), 'Linspace': GraphNode(id='Linspace', import_path='pyiron_core.pyiron_nodes.math.Linspace', label='Linspace', parent_id=None, level=0, node=<pyiron_core.pyiron_workflow.simple_workflow.Node object at 0x31ea55190>, graph=None, node_type='node', widget_type='customNode', expanded=False)}), edges=[GraphEdge(source='Bulk', target='Volume', sourceHandle='structure', targetHandle='structure'), GraphEdge(source='Volume', target='IterNode', sourceHandle='volume', targetHandle='node'), GraphEdge(source='ThreadPoolExecutor', target='IterNode', sourceHandle='Executor', targetHandle='Executor'), GraphEdge(source='Linspace', target='IterNode', sourceHandle='linspace', targetHandle='kwarg_list')], graph={})"
      ]
     },
     "execution_count": 66,
     "metadata": {},
     "output_type": "execute_result"
    }
   ],
   "source": [
    "base._load_graph(\"executor3\", workflow_dir=json_file_location)"
   ]
  },
  {
   "cell_type": "code",
   "execution_count": 67,
   "id": "dc35f6e489c491a4",
   "metadata": {},
   "outputs": [
    {
     "name": "stdout",
     "output_type": "stream",
     "text": [
      "{'label': 'Bulk', 'function': 'pyiron_core.pyiron_nodes.atomistic.structure.build.Bulk', 'inputs': {'name': 'Al'}}\n"
     ]
    },
    {
     "data": {
      "text/plain": [
       "<pyiron_core.pyiron_workflow.simple_workflow.Node at 0x31d7b19a0>"
      ]
     },
     "execution_count": 67,
     "metadata": {},
     "output_type": "execute_result"
    }
   ],
   "source": [
    "state = pf.graph.nodes[\"Bulk\"].node.__getstate__()\n",
    "print(state)\n",
    "pc.Node().__setstate__(state)"
   ]
  },
  {
   "cell_type": "code",
   "execution_count": 68,
   "id": "aa7ca0d7f5feda43",
   "metadata": {},
   "outputs": [],
   "source": [
    "dumps = pickle.dumps(pf.graph.nodes)"
   ]
  },
  {
   "cell_type": "code",
   "execution_count": 69,
   "id": "e7ae1933-ec51-4e0a-9acd-28eb1c18c95b",
   "metadata": {
    "ExecuteTime": {
     "end_time": "2025-05-16T23:04:12.489030Z",
     "start_time": "2025-05-16T23:04:12.478306Z"
    }
   },
   "outputs": [
    {
     "data": {
      "text/html": [
       "<div>\n",
       "<style scoped>\n",
       "    .dataframe tbody tr th:only-of-type {\n",
       "        vertical-align: middle;\n",
       "    }\n",
       "\n",
       "    .dataframe tbody tr th {\n",
       "        vertical-align: top;\n",
       "    }\n",
       "\n",
       "    .dataframe thead th {\n",
       "        text-align: right;\n",
       "    }\n",
       "</style>\n",
       "<table border=\"1\" class=\"dataframe\">\n",
       "  <thead>\n",
       "    <tr style=\"text-align: right;\">\n",
       "      <th></th>\n",
       "      <th>id</th>\n",
       "      <th>import_path</th>\n",
       "      <th>label</th>\n",
       "      <th>parent_id</th>\n",
       "      <th>level</th>\n",
       "      <th>node</th>\n",
       "      <th>graph</th>\n",
       "      <th>node_type</th>\n",
       "      <th>widget_type</th>\n",
       "      <th>expanded</th>\n",
       "    </tr>\n",
       "  </thead>\n",
       "  <tbody>\n",
       "    <tr>\n",
       "      <th>0</th>\n",
       "      <td>ElementInput</td>\n",
       "      <td>pyiron_core.pyiron_nodes.atomistic.assyst.stru...</td>\n",
       "      <td>ElementInput</td>\n",
       "      <td>None</td>\n",
       "      <td>0</td>\n",
       "      <td>&lt;pyiron_core.pyiron_workflow.simple_workflow.N...</td>\n",
       "      <td>None</td>\n",
       "      <td>node</td>\n",
       "      <td>customNode</td>\n",
       "      <td>False</td>\n",
       "    </tr>\n",
       "    <tr>\n",
       "      <th>1</th>\n",
       "      <td>SpaceGroupInput</td>\n",
       "      <td>pyiron_core.pyiron_nodes.atomistic.assyst.stru...</td>\n",
       "      <td>SpaceGroupInput</td>\n",
       "      <td>None</td>\n",
       "      <td>0</td>\n",
       "      <td>&lt;pyiron_core.pyiron_workflow.simple_workflow.N...</td>\n",
       "      <td>None</td>\n",
       "      <td>node</td>\n",
       "      <td>customNode</td>\n",
       "      <td>False</td>\n",
       "    </tr>\n",
       "    <tr>\n",
       "      <th>2</th>\n",
       "      <td>SpaceGroupSampling</td>\n",
       "      <td>pyiron_core.pyiron_nodes.atomistic.assyst.stru...</td>\n",
       "      <td>SpaceGroupSampling</td>\n",
       "      <td>None</td>\n",
       "      <td>0</td>\n",
       "      <td>&lt;pyiron_core.pyiron_workflow.simple_workflow.N...</td>\n",
       "      <td>None</td>\n",
       "      <td>node</td>\n",
       "      <td>customNode</td>\n",
       "      <td>False</td>\n",
       "    </tr>\n",
       "    <tr>\n",
       "      <th>3</th>\n",
       "      <td>ApplyEngine</td>\n",
       "      <td>pyiron_core.pyiron_nodes.atomistic.calculator....</td>\n",
       "      <td>ApplyEngine</td>\n",
       "      <td>None</td>\n",
       "      <td>0</td>\n",
       "      <td>&lt;pyiron_core.pyiron_workflow.simple_workflow.N...</td>\n",
       "      <td>None</td>\n",
       "      <td>node</td>\n",
       "      <td>customNode</td>\n",
       "      <td>False</td>\n",
       "    </tr>\n",
       "    <tr>\n",
       "      <th>4</th>\n",
       "      <td>Static</td>\n",
       "      <td>pyiron_core.pyiron_nodes.atomistic.calculator....</td>\n",
       "      <td>Static</td>\n",
       "      <td>None</td>\n",
       "      <td>0</td>\n",
       "      <td>&lt;pyiron_core.pyiron_workflow.simple_workflow.N...</td>\n",
       "      <td>None</td>\n",
       "      <td>node</td>\n",
       "      <td>customNode</td>\n",
       "      <td>False</td>\n",
       "    </tr>\n",
       "    <tr>\n",
       "      <th>5</th>\n",
       "      <td>M3GNet</td>\n",
       "      <td>pyiron_core.pyiron_nodes.atomistic.engine.ase....</td>\n",
       "      <td>M3GNet</td>\n",
       "      <td>None</td>\n",
       "      <td>0</td>\n",
       "      <td>&lt;pyiron_core.pyiron_workflow.simple_workflow.N...</td>\n",
       "      <td>None</td>\n",
       "      <td>node</td>\n",
       "      <td>customNode</td>\n",
       "      <td>False</td>\n",
       "    </tr>\n",
       "    <tr>\n",
       "      <th>6</th>\n",
       "      <td>Bulk</td>\n",
       "      <td>pyiron_core.pyiron_nodes.atomistic.structure.b...</td>\n",
       "      <td>Bulk</td>\n",
       "      <td>None</td>\n",
       "      <td>0</td>\n",
       "      <td>&lt;pyiron_core.pyiron_workflow.simple_workflow.N...</td>\n",
       "      <td>None</td>\n",
       "      <td>node</td>\n",
       "      <td>customNode</td>\n",
       "      <td>False</td>\n",
       "    </tr>\n",
       "    <tr>\n",
       "      <th>7</th>\n",
       "      <td>OutputSEFS</td>\n",
       "      <td>pyiron_core.pyiron_workflow.api.serial.func_da...</td>\n",
       "      <td>OutputSEFS</td>\n",
       "      <td>None</td>\n",
       "      <td>0</td>\n",
       "      <td>&lt;pyiron_core.pyiron_workflow.simple_workflow.N...</td>\n",
       "      <td>None</td>\n",
       "      <td>node</td>\n",
       "      <td>customNode</td>\n",
       "      <td>False</td>\n",
       "    </tr>\n",
       "    <tr>\n",
       "      <th>8</th>\n",
       "      <td>Plot</td>\n",
       "      <td>pyiron_core.pyiron_nodes.plotting.Plot</td>\n",
       "      <td>Plot</td>\n",
       "      <td>None</td>\n",
       "      <td>0</td>\n",
       "      <td>&lt;pyiron_core.pyiron_workflow.simple_workflow.N...</td>\n",
       "      <td>None</td>\n",
       "      <td>node</td>\n",
       "      <td>customNode</td>\n",
       "      <td>False</td>\n",
       "    </tr>\n",
       "    <tr>\n",
       "      <th>9</th>\n",
       "      <td>Histogram</td>\n",
       "      <td>pyiron_core.pyiron_nodes.plotting.Histogram</td>\n",
       "      <td>Histogram</td>\n",
       "      <td>None</td>\n",
       "      <td>0</td>\n",
       "      <td>&lt;pyiron_core.pyiron_workflow.simple_workflow.N...</td>\n",
       "      <td>None</td>\n",
       "      <td>node</td>\n",
       "      <td>customNode</td>\n",
       "      <td>False</td>\n",
       "    </tr>\n",
       "  </tbody>\n",
       "</table>\n",
       "</div>"
      ],
      "text/plain": [
       "Nodes([('ElementInput',\n",
       "        GraphNode(id='ElementInput', import_path='pyiron_core.pyiron_nodes.atomistic.assyst.structures.ElementInput', label='ElementInput', parent_id=None, level=0, node=<pyiron_core.pyiron_workflow.simple_workflow.Node object at 0x31ebf3590>, graph=None, node_type='node', widget_type='customNode', expanded=False)),\n",
       "       ('SpaceGroupInput',\n",
       "        GraphNode(id='SpaceGroupInput', import_path='pyiron_core.pyiron_nodes.atomistic.assyst.structures.SpaceGroupInput', label='SpaceGroupInput', parent_id=None, level=0, node=<pyiron_core.pyiron_workflow.simple_workflow.Node object at 0x31d7b38f0>, graph=None, node_type='node', widget_type='customNode', expanded=False)),\n",
       "       ('SpaceGroupSampling',\n",
       "        GraphNode(id='SpaceGroupSampling', import_path='pyiron_core.pyiron_nodes.atomistic.assyst.structures.SpaceGroupSampling', label='SpaceGroupSampling', parent_id=None, level=0, node=<pyiron_core.pyiron_workflow.simple_workflow.Node object at 0x31d7b3170>, graph=None, node_type='node', widget_type='customNode', expanded=False)),\n",
       "       ('ApplyEngine',\n",
       "        GraphNode(id='ApplyEngine', import_path='pyiron_core.pyiron_nodes.atomistic.calculator.generic.ApplyEngine', label='ApplyEngine', parent_id=None, level=0, node=<pyiron_core.pyiron_workflow.simple_workflow.Node object at 0x31d7b20c0>, graph=None, node_type='node', widget_type='customNode', expanded=False)),\n",
       "       ('Static',\n",
       "        GraphNode(id='Static', import_path='pyiron_core.pyiron_nodes.atomistic.calculator.ase.Static', label='Static', parent_id=None, level=0, node=<pyiron_core.pyiron_workflow.simple_workflow.Node object at 0x31d7b08f0>, graph=None, node_type='node', widget_type='customNode', expanded=False)),\n",
       "       ('M3GNet',\n",
       "        GraphNode(id='M3GNet', import_path='pyiron_core.pyiron_nodes.atomistic.engine.ase.M3GNet', label='M3GNet', parent_id=None, level=0, node=<pyiron_core.pyiron_workflow.simple_workflow.Node object at 0x31d7b16d0>, graph=None, node_type='node', widget_type='customNode', expanded=False)),\n",
       "       ('Bulk',\n",
       "        GraphNode(id='Bulk', import_path='pyiron_core.pyiron_nodes.atomistic.structure.build.Bulk', label='Bulk', parent_id=None, level=0, node=<pyiron_core.pyiron_workflow.simple_workflow.Node object at 0x31d7b1550>, graph=None, node_type='node', widget_type='customNode', expanded=False)),\n",
       "       ('OutputSEFS',\n",
       "        GraphNode(id='OutputSEFS', import_path='pyiron_core.pyiron_workflow.api.serial.func_dataclass', label='OutputSEFS', parent_id=None, level=0, node=<pyiron_core.pyiron_workflow.simple_workflow.Node object at 0x31d7b1eb0>, graph=None, node_type='node', widget_type='customNode', expanded=False)),\n",
       "       ('Plot',\n",
       "        GraphNode(id='Plot', import_path='pyiron_core.pyiron_nodes.plotting.Plot', label='Plot', parent_id=None, level=0, node=<pyiron_core.pyiron_workflow.simple_workflow.Node object at 0x31d7b2d50>, graph=None, node_type='node', widget_type='customNode', expanded=False)),\n",
       "       ('Histogram',\n",
       "        GraphNode(id='Histogram', import_path='pyiron_core.pyiron_nodes.plotting.Histogram', label='Histogram', parent_id=None, level=0, node=<pyiron_core.pyiron_workflow.simple_workflow.Node object at 0x31d7b05c0>, graph=None, node_type='node', widget_type='customNode', expanded=False))])"
      ]
     },
     "execution_count": 69,
     "metadata": {},
     "output_type": "execute_result"
    }
   ],
   "source": [
    "pickle.loads(dumps)"
   ]
  },
  {
   "cell_type": "code",
   "execution_count": 70,
   "id": "72c0d45d-6056-4f86-a603-f5636c50971f",
   "metadata": {
    "ExecuteTime": {
     "end_time": "2025-05-16T23:04:12.535664Z",
     "start_time": "2025-05-16T23:04:12.531814Z"
    }
   },
   "outputs": [
    {
     "data": {
      "text/html": [
       "<div>\n",
       "<style scoped>\n",
       "    .dataframe tbody tr th:only-of-type {\n",
       "        vertical-align: middle;\n",
       "    }\n",
       "\n",
       "    .dataframe tbody tr th {\n",
       "        vertical-align: top;\n",
       "    }\n",
       "\n",
       "    .dataframe thead th {\n",
       "        text-align: right;\n",
       "    }\n",
       "</style>\n",
       "<table border=\"1\" class=\"dataframe\">\n",
       "  <thead>\n",
       "    <tr style=\"text-align: right;\">\n",
       "      <th></th>\n",
       "      <th>id</th>\n",
       "      <th>import_path</th>\n",
       "      <th>label</th>\n",
       "      <th>parent_id</th>\n",
       "      <th>level</th>\n",
       "      <th>node</th>\n",
       "      <th>graph</th>\n",
       "      <th>node_type</th>\n",
       "      <th>widget_type</th>\n",
       "      <th>expanded</th>\n",
       "    </tr>\n",
       "  </thead>\n",
       "  <tbody>\n",
       "    <tr>\n",
       "      <th>0</th>\n",
       "      <td>ElementInput</td>\n",
       "      <td>pyiron_core.pyiron_nodes.atomistic.assyst.stru...</td>\n",
       "      <td>ElementInput</td>\n",
       "      <td>None</td>\n",
       "      <td>0</td>\n",
       "      <td>&lt;pyiron_core.pyiron_workflow.simple_workflow.N...</td>\n",
       "      <td>None</td>\n",
       "      <td>node</td>\n",
       "      <td>customNode</td>\n",
       "      <td>False</td>\n",
       "    </tr>\n",
       "    <tr>\n",
       "      <th>1</th>\n",
       "      <td>SpaceGroupInput</td>\n",
       "      <td>pyiron_core.pyiron_nodes.atomistic.assyst.stru...</td>\n",
       "      <td>SpaceGroupInput</td>\n",
       "      <td>None</td>\n",
       "      <td>0</td>\n",
       "      <td>&lt;pyiron_core.pyiron_workflow.simple_workflow.N...</td>\n",
       "      <td>None</td>\n",
       "      <td>node</td>\n",
       "      <td>customNode</td>\n",
       "      <td>False</td>\n",
       "    </tr>\n",
       "    <tr>\n",
       "      <th>2</th>\n",
       "      <td>SpaceGroupSampling</td>\n",
       "      <td>pyiron_core.pyiron_nodes.atomistic.assyst.stru...</td>\n",
       "      <td>SpaceGroupSampling</td>\n",
       "      <td>None</td>\n",
       "      <td>0</td>\n",
       "      <td>&lt;pyiron_core.pyiron_workflow.simple_workflow.N...</td>\n",
       "      <td>None</td>\n",
       "      <td>node</td>\n",
       "      <td>customNode</td>\n",
       "      <td>False</td>\n",
       "    </tr>\n",
       "    <tr>\n",
       "      <th>3</th>\n",
       "      <td>ApplyEngine</td>\n",
       "      <td>pyiron_core.pyiron_nodes.atomistic.calculator....</td>\n",
       "      <td>ApplyEngine</td>\n",
       "      <td>None</td>\n",
       "      <td>0</td>\n",
       "      <td>&lt;pyiron_core.pyiron_workflow.simple_workflow.N...</td>\n",
       "      <td>None</td>\n",
       "      <td>node</td>\n",
       "      <td>customNode</td>\n",
       "      <td>False</td>\n",
       "    </tr>\n",
       "    <tr>\n",
       "      <th>4</th>\n",
       "      <td>Static</td>\n",
       "      <td>pyiron_core.pyiron_nodes.atomistic.calculator....</td>\n",
       "      <td>Static</td>\n",
       "      <td>None</td>\n",
       "      <td>0</td>\n",
       "      <td>&lt;pyiron_core.pyiron_workflow.simple_workflow.N...</td>\n",
       "      <td>None</td>\n",
       "      <td>node</td>\n",
       "      <td>customNode</td>\n",
       "      <td>False</td>\n",
       "    </tr>\n",
       "    <tr>\n",
       "      <th>5</th>\n",
       "      <td>M3GNet</td>\n",
       "      <td>pyiron_core.pyiron_nodes.atomistic.engine.ase....</td>\n",
       "      <td>M3GNet</td>\n",
       "      <td>None</td>\n",
       "      <td>0</td>\n",
       "      <td>&lt;pyiron_core.pyiron_workflow.simple_workflow.N...</td>\n",
       "      <td>None</td>\n",
       "      <td>node</td>\n",
       "      <td>customNode</td>\n",
       "      <td>False</td>\n",
       "    </tr>\n",
       "    <tr>\n",
       "      <th>6</th>\n",
       "      <td>Bulk</td>\n",
       "      <td>pyiron_core.pyiron_nodes.atomistic.structure.b...</td>\n",
       "      <td>Bulk</td>\n",
       "      <td>None</td>\n",
       "      <td>0</td>\n",
       "      <td>&lt;pyiron_core.pyiron_workflow.simple_workflow.N...</td>\n",
       "      <td>None</td>\n",
       "      <td>node</td>\n",
       "      <td>customNode</td>\n",
       "      <td>False</td>\n",
       "    </tr>\n",
       "    <tr>\n",
       "      <th>7</th>\n",
       "      <td>OutputSEFS</td>\n",
       "      <td>pyiron_core.pyiron_workflow.api.serial.func_da...</td>\n",
       "      <td>OutputSEFS</td>\n",
       "      <td>None</td>\n",
       "      <td>0</td>\n",
       "      <td>&lt;pyiron_core.pyiron_workflow.simple_workflow.N...</td>\n",
       "      <td>None</td>\n",
       "      <td>node</td>\n",
       "      <td>customNode</td>\n",
       "      <td>False</td>\n",
       "    </tr>\n",
       "    <tr>\n",
       "      <th>8</th>\n",
       "      <td>Plot</td>\n",
       "      <td>pyiron_core.pyiron_nodes.plotting.Plot</td>\n",
       "      <td>Plot</td>\n",
       "      <td>None</td>\n",
       "      <td>0</td>\n",
       "      <td>&lt;pyiron_core.pyiron_workflow.simple_workflow.N...</td>\n",
       "      <td>None</td>\n",
       "      <td>node</td>\n",
       "      <td>customNode</td>\n",
       "      <td>False</td>\n",
       "    </tr>\n",
       "    <tr>\n",
       "      <th>9</th>\n",
       "      <td>Histogram</td>\n",
       "      <td>pyiron_core.pyiron_nodes.plotting.Histogram</td>\n",
       "      <td>Histogram</td>\n",
       "      <td>None</td>\n",
       "      <td>0</td>\n",
       "      <td>&lt;pyiron_core.pyiron_workflow.simple_workflow.N...</td>\n",
       "      <td>None</td>\n",
       "      <td>node</td>\n",
       "      <td>customNode</td>\n",
       "      <td>False</td>\n",
       "    </tr>\n",
       "  </tbody>\n",
       "</table>\n",
       "</div>"
      ],
      "text/plain": [
       "Nodes([('ElementInput',\n",
       "        GraphNode(id='ElementInput', import_path='pyiron_core.pyiron_nodes.atomistic.assyst.structures.ElementInput', label='ElementInput', parent_id=None, level=0, node=<pyiron_core.pyiron_workflow.simple_workflow.Node object at 0x31d8db0e0>, graph=None, node_type='node', widget_type='customNode', expanded=False)),\n",
       "       ('SpaceGroupInput',\n",
       "        GraphNode(id='SpaceGroupInput', import_path='pyiron_core.pyiron_nodes.atomistic.assyst.structures.SpaceGroupInput', label='SpaceGroupInput', parent_id=None, level=0, node=<pyiron_core.pyiron_workflow.simple_workflow.Node object at 0x31ebf1130>, graph=None, node_type='node', widget_type='customNode', expanded=False)),\n",
       "       ('SpaceGroupSampling',\n",
       "        GraphNode(id='SpaceGroupSampling', import_path='pyiron_core.pyiron_nodes.atomistic.assyst.structures.SpaceGroupSampling', label='SpaceGroupSampling', parent_id=None, level=0, node=<pyiron_core.pyiron_workflow.simple_workflow.Node object at 0x31ebf3830>, graph=None, node_type='node', widget_type='customNode', expanded=False)),\n",
       "       ('ApplyEngine',\n",
       "        GraphNode(id='ApplyEngine', import_path='pyiron_core.pyiron_nodes.atomistic.calculator.generic.ApplyEngine', label='ApplyEngine', parent_id=None, level=0, node=<pyiron_core.pyiron_workflow.simple_workflow.Node object at 0x31eaecd40>, graph=None, node_type='node', widget_type='customNode', expanded=False)),\n",
       "       ('Static',\n",
       "        GraphNode(id='Static', import_path='pyiron_core.pyiron_nodes.atomistic.calculator.ase.Static', label='Static', parent_id=None, level=0, node=<pyiron_core.pyiron_workflow.simple_workflow.Node object at 0x31eb7ed50>, graph=None, node_type='node', widget_type='customNode', expanded=False)),\n",
       "       ('M3GNet',\n",
       "        GraphNode(id='M3GNet', import_path='pyiron_core.pyiron_nodes.atomistic.engine.ase.M3GNet', label='M3GNet', parent_id=None, level=0, node=<pyiron_core.pyiron_workflow.simple_workflow.Node object at 0x31eb74b60>, graph=None, node_type='node', widget_type='customNode', expanded=False)),\n",
       "       ('Bulk',\n",
       "        GraphNode(id='Bulk', import_path='pyiron_core.pyiron_nodes.atomistic.structure.build.Bulk', label='Bulk', parent_id=None, level=0, node=<pyiron_core.pyiron_workflow.simple_workflow.Node object at 0x31eb76c00>, graph=None, node_type='node', widget_type='customNode', expanded=False)),\n",
       "       ('OutputSEFS',\n",
       "        GraphNode(id='OutputSEFS', import_path='pyiron_core.pyiron_workflow.api.serial.func_dataclass', label='OutputSEFS', parent_id=None, level=0, node=<pyiron_core.pyiron_workflow.simple_workflow.Node object at 0x31eb76150>, graph=None, node_type='node', widget_type='customNode', expanded=False)),\n",
       "       ('Plot',\n",
       "        GraphNode(id='Plot', import_path='pyiron_core.pyiron_nodes.plotting.Plot', label='Plot', parent_id=None, level=0, node=<pyiron_core.pyiron_workflow.simple_workflow.Node object at 0x31eb742f0>, graph=None, node_type='node', widget_type='customNode', expanded=False)),\n",
       "       ('Histogram',\n",
       "        GraphNode(id='Histogram', import_path='pyiron_core.pyiron_nodes.plotting.Histogram', label='Histogram', parent_id=None, level=0, node=<pyiron_core.pyiron_workflow.simple_workflow.Node object at 0x31eb5c650>, graph=None, node_type='node', widget_type='customNode', expanded=False))])"
      ]
     },
     "execution_count": 70,
     "metadata": {},
     "output_type": "execute_result"
    }
   ],
   "source": [
    "pf.graph.nodes"
   ]
  },
  {
   "cell_type": "code",
   "execution_count": 71,
   "id": "a2cb8fd5-bd90-47f8-87f5-ebd89b5f74be",
   "metadata": {
    "ExecuteTime": {
     "end_time": "2025-05-16T23:04:12.653254Z",
     "start_time": "2025-05-16T23:04:12.651300Z"
    }
   },
   "outputs": [
    {
     "data": {
      "text/plain": [
       "GraphNode(id='Bulk', import_path='pyiron_core.pyiron_nodes.atomistic.structure.build.Bulk', label='Bulk', parent_id=None, level=0, node=<pyiron_core.pyiron_workflow.simple_workflow.Node object at 0x31eb76c00>, graph=None, node_type='node', widget_type='customNode', expanded=False)"
      ]
     },
     "execution_count": 71,
     "metadata": {},
     "output_type": "execute_result"
    }
   ],
   "source": [
    "pf.graph.nodes[\"Bulk\"]"
   ]
  },
  {
   "cell_type": "code",
   "execution_count": 72,
   "id": "aaaa8c45-5490-4f26-905a-f4aef8db2d14",
   "metadata": {
    "ExecuteTime": {
     "end_time": "2025-05-16T23:04:12.790628Z",
     "start_time": "2025-05-16T23:04:12.788527Z"
    }
   },
   "outputs": [
    {
     "data": {
      "text/plain": [
       "'graph'"
      ]
     },
     "execution_count": 72,
     "metadata": {},
     "output_type": "execute_result"
    }
   ],
   "source": [
    "# node = pf.graph.nodes[\"subgraph\"]\n",
    "node = graph.nodes[\"subgraph\"]\n",
    "node.node_type"
   ]
  },
  {
   "cell_type": "code",
   "execution_count": 73,
   "id": "1894446a-e6e1-4148-b8c4-df9b06dc9b7e",
   "metadata": {
    "ExecuteTime": {
     "end_time": "2025-05-16T23:04:12.870257Z",
     "start_time": "2025-05-16T23:04:12.866398Z"
    }
   },
   "outputs": [
    {
     "name": "stdout",
     "output_type": "stream",
     "text": [
      "<class 'pyiron_core.pyiron_workflow.simple_workflow.Node'> graph\n"
     ]
    },
    {
     "data": {
      "text/plain": [
       "SpaceGroupInput(spacegroups=[1, 2, 3, 4, 5, 6, 7, 8, 9, 10, 11, 12, 13, 14, 15, 16, 17, 18, 19, 20, 21, 22, 23, 24, 25, 26, 27, 28, 29, 30, 31, 32, 33, 34, 35, 36, 37, 38, 39, 40, 41, 42, 43, 44, 45, 46, 47, 48, 49, 50, 51, 52, 53, 54, 55, 56, 57, 58, 59, 60, 61, 62, 63, 64, 65, 66, 67, 68, 69, 70, 71, 72, 73, 74, 75, 76, 77, 78, 79, 80, 81, 82, 83, 84, 85, 86, 87, 88, 89, 90, 91, 92, 93, 94, 95, 96, 97, 98, 99, 100, 101, 102, 103, 104, 105, 106, 107, 108, 109, 110, 111, 112, 113, 114, 115, 116, 117, 118, 119, 120, 121, 122, 123, 124, 125, 126, 127, 128, 129, 130, 131, 132, 133, 134, 135, 136, 137, 138, 139, 140, 141, 142, 143, 144, 145, 146, 147, 148, 149, 150, 151, 152, 153, 154, 155, 156, 157, 158, 159, 160, 161, 162, 163, 164, 165, 166, 167, 168, 169, 170, 171, 172, 173, 174, 175, 176, 177, 178, 179, 180, 181, 182, 183, 184, 185, 186, 187, 188, 189, 190, 191, 192, 193, 194, 195, 196, 197, 198, 199, 200, 201, 202, 203, 204, 205, 206, 207, 208, 209, 210, 211, 212, 213, 214, 215, 216, 217, 218, 219, 220, 221, 222, 223, 224, 225, 226, 227, 228, 229, 230], element1=ElementInput(element='Al', num=2), element2=None, max_atoms=10, max_structures=100)"
      ]
     },
     "execution_count": 73,
     "metadata": {},
     "output_type": "execute_result"
    }
   ],
   "source": [
    "# base.run_macro_node(node.node)\n",
    "# I've already managed to deprecate this from the codebase\n",
    "# So let's purge it from the notebooks too\n",
    "# In any case, you can see from the print above and below that this is a \"graph\" not a \"macro_node\"...\n",
    "\n",
    "print(type(node.node), node.node.node_type)\n",
    "node.node.run()"
   ]
  },
  {
   "cell_type": "code",
   "execution_count": 74,
   "id": "af4e5dad-6d65-47e0-8512-21975f0da0b1",
   "metadata": {
    "ExecuteTime": {
     "end_time": "2025-05-16T23:04:12.932452Z",
     "start_time": "2025-05-16T23:04:12.929178Z"
    }
   },
   "outputs": [
    {
     "data": {
      "text/html": [
       "<div>\n",
       "<style scoped>\n",
       "    .dataframe tbody tr th:only-of-type {\n",
       "        vertical-align: middle;\n",
       "    }\n",
       "\n",
       "    .dataframe tbody tr th {\n",
       "        vertical-align: top;\n",
       "    }\n",
       "\n",
       "    .dataframe thead th {\n",
       "        text-align: right;\n",
       "    }\n",
       "</style>\n",
       "<table border=\"1\" class=\"dataframe\">\n",
       "  <thead>\n",
       "    <tr style=\"text-align: right;\">\n",
       "      <th></th>\n",
       "      <th>id</th>\n",
       "      <th>import_path</th>\n",
       "      <th>label</th>\n",
       "      <th>parent_id</th>\n",
       "      <th>level</th>\n",
       "      <th>node</th>\n",
       "      <th>graph</th>\n",
       "      <th>node_type</th>\n",
       "      <th>widget_type</th>\n",
       "      <th>expanded</th>\n",
       "    </tr>\n",
       "  </thead>\n",
       "  <tbody>\n",
       "    <tr>\n",
       "      <th>0</th>\n",
       "      <td>ElementInput</td>\n",
       "      <td>pyiron_core.pyiron_nodes.atomistic.assyst.stru...</td>\n",
       "      <td>ElementInput</td>\n",
       "      <td>None</td>\n",
       "      <td>0</td>\n",
       "      <td>&lt;pyiron_core.pyiron_workflow.simple_workflow.N...</td>\n",
       "      <td>None</td>\n",
       "      <td>node</td>\n",
       "      <td>customNode</td>\n",
       "      <td>False</td>\n",
       "    </tr>\n",
       "    <tr>\n",
       "      <th>1</th>\n",
       "      <td>SpaceGroupInput</td>\n",
       "      <td>pyiron_core.pyiron_nodes.atomistic.assyst.stru...</td>\n",
       "      <td>SpaceGroupInput</td>\n",
       "      <td>None</td>\n",
       "      <td>0</td>\n",
       "      <td>&lt;pyiron_core.pyiron_workflow.simple_workflow.N...</td>\n",
       "      <td>None</td>\n",
       "      <td>node</td>\n",
       "      <td>customNode</td>\n",
       "      <td>False</td>\n",
       "    </tr>\n",
       "  </tbody>\n",
       "</table>\n",
       "</div>"
      ],
      "text/plain": [
       "NestedDict([('ElementInput',\n",
       "             GraphNode(id='ElementInput', import_path='pyiron_core.pyiron_nodes.atomistic.assyst.structures.ElementInput', label='ElementInput', parent_id=None, level=0, node=<pyiron_core.pyiron_workflow.simple_workflow.Node object at 0x31d8db0e0>, graph=None, node_type='node', widget_type='customNode', expanded=False)),\n",
       "            ('SpaceGroupInput',\n",
       "             GraphNode(id='SpaceGroupInput', import_path='pyiron_core.pyiron_nodes.atomistic.assyst.structures.SpaceGroupInput', label='SpaceGroupInput', parent_id=None, level=0, node=<pyiron_core.pyiron_workflow.simple_workflow.Node object at 0x31ebf1130>, graph=None, node_type='node', widget_type='customNode', expanded=False))])"
      ]
     },
     "execution_count": 74,
     "metadata": {},
     "output_type": "execute_result"
    }
   ],
   "source": [
    "# subgraph = base.get_graph_from_macro_node(node.node)\n",
    "\n",
    "# In 81, node is `graph.nodes[\"subgraph\"]`\n",
    "# This is already a \"graph\"-type node, not a macro node\n",
    "# So it already has a graph\n",
    "subgraph = node.graph\n",
    "\n",
    "subgraph.nodes"
   ]
  },
  {
   "cell_type": "markdown",
   "id": "238e39f3-7203-4fc8-ad9d-f10cd6ca64ff",
   "metadata": {},
   "source": [
    "I need a way to describe/include virtual nodes both in the code as in the graph representation. Macros do not help since they are given explicitly as a file.\n",
    "- store original graph + grouping commands\n",
    "    - makes grouping/ungrouping very easy\n",
    "    - natural extension of expand/collaps\n",
    "    - we would then have nodes, edges + groups\n",
    "    - update would then not only handle expand but also grouping\n",
    "    - storage etc. would work as before (ideally no extra implementation)\n",
    "    - issue: how to translate this into code (add virtual nodes as macro to code)\n",
    "- add macro definitions to code\n",
    "    - assumption: we do not want to describe all groupings performed by the user, i.e., virtual nodes make sense and are needed\n",
    "    - pros: human readable, easy to put them later if needed to file\n",
    "    - question: how does it work together with with run_macro function etc. "
   ]
  },
  {
   "cell_type": "code",
   "execution_count": 75,
   "id": "b4fdacd2-14e6-4e60-8fb4-1674ad8e5a08",
   "metadata": {
    "ExecuteTime": {
     "end_time": "2025-05-16T23:04:13.007382Z",
     "start_time": "2025-05-16T23:04:12.983192Z"
    }
   },
   "outputs": [
    {
     "name": "stdout",
     "output_type": "stream",
     "text": [
      "\n",
      "def assyst(ElementInput__num: int = 2, Bulk__name: str = \"Al\", SpaceGroupInput__max_structures: int = 100, Plot__title: Optional[str] = \"\", Plot__symbol: Literal[., ,, o, v, ^, <, >, 1, 2, 3, 4, s, p, *, h, H, +, x, X, D, d, |, _] = \"o\", Plot__legend_label: Optional[str] = \"\"):\n",
      "\n",
      "    from pyiron_core.pyiron_workflow import Workflow\n",
      "    from pyiron_core.pyiron_nodes.atomistic.assyst.structures import ElementInput\n",
      "    from pyiron_core.pyiron_nodes.atomistic.engine.ase import M3GNet\n",
      "    from pyiron_core.pyiron_nodes.atomistic.structure.build import Bulk\n",
      "    from pyiron_core.pyiron_nodes.atomistic.assyst.structures import SpaceGroupInput\n",
      "    from pyiron_core.pyiron_nodes.atomistic.calculator.ase import Static\n",
      "    from pyiron_core.pyiron_nodes.atomistic.assyst.structures import SpaceGroupSampling\n",
      "    from pyiron_core.pyiron_nodes.atomistic.calculator.generic import ApplyEngine\n",
      "    from pyiron_core.pyiron_workflow.api.serial import func_dataclass\n",
      "    from pyiron_core.pyiron_nodes.plotting import Plot\n",
      "    from pyiron_core.pyiron_nodes.plotting import Histogram\n",
      "\n",
      "    wf = Workflow('assyst')\n",
      "    wf.ElementInput = ElementInput(num=ElementInput__num)\n",
      "    wf.M3GNet = M3GNet()\n",
      "    wf.Bulk = Bulk(name=Bulk__name)\n",
      "    wf.SpaceGroupInput = SpaceGroupInput(element1=wf.ElementInput, max_structures=SpaceGroupInput__max_structures)\n",
      "    wf.Static = Static(engine=wf.M3GNet, structure=wf.Bulk)\n",
      "    wf.SpaceGroupSampling = SpaceGroupSampling(input=wf.SpaceGroupInput)\n",
      "    wf.ApplyEngine = ApplyEngine(sefs_container=wf.SpaceGroupSampling, engine=wf.Static)\n",
      "    wf.OutputSEFS = func_dataclass(dataclass=wf.ApplyEngine)\n",
      "    wf.Plot = Plot(y=wf.OutputSEFS.outputs.energies, title=Plot__title, symbol=Plot__symbol, legend_label=Plot__legend_label)\n",
      "    wf.Histogram = Histogram(x=wf.OutputSEFS.outputs.energies)\n",
      "\n",
      "    return wf.OutputSEFS.outputs.structures, wf.OutputSEFS.outputs.forces, wf.OutputSEFS.outputs.stresses, wf.Plot.outputs.fig, wf.Histogram.outputs.fig\n",
      "\n"
     ]
    }
   ],
   "source": [
    "print(base.graph_to_code(pf.graph))"
   ]
  },
  {
   "cell_type": "code",
   "execution_count": 76,
   "id": "ccc3bebe-70bf-43d8-9ace-b1b0b50528ef",
   "metadata": {
    "ExecuteTime": {
     "end_time": "2025-05-16T23:04:13.127218Z",
     "start_time": "2025-05-16T23:04:13.125068Z"
    }
   },
   "outputs": [
    {
     "data": {
      "text/plain": [
       "('graph', 'subgraph')"
      ]
     },
     "execution_count": 76,
     "metadata": {},
     "output_type": "execute_result"
    }
   ],
   "source": [
    "node.node_type, node.label"
   ]
  },
  {
   "cell_type": "code",
   "execution_count": 77,
   "id": "de3ebedc-35e2-4d56-9f75-7ef6793fd720",
   "metadata": {
    "ExecuteTime": {
     "end_time": "2025-05-16T23:04:13.223633Z",
     "start_time": "2025-05-16T23:04:13.222112Z"
    }
   },
   "outputs": [],
   "source": [
    "# node._func()\n",
    "\n",
    "# node has not been redefined since \n",
    "#\n",
    "# # node = pf.graph.nodes[\"subgraph\"]\n",
    "# node = graph.nodes[\"subgraph\"]\n",
    "# \n",
    "# So it still should not have a func\n",
    "# Anyhow, other nodes certainly do, but I don't think it's critical that\n",
    "# we look at this private variable"
   ]
  },
  {
   "cell_type": "code",
   "execution_count": 78,
   "id": "59689c69-20fe-4c98-87d5-dbcb544677af",
   "metadata": {
    "ExecuteTime": {
     "end_time": "2025-05-16T23:04:13.260810Z",
     "start_time": "2025-05-16T23:04:13.258694Z"
    }
   },
   "outputs": [
    {
     "data": {
      "text/plain": [
       "GraphNode(id='subgraph', import_path=None, label='subgraph', parent_id=None, level=0, node=<pyiron_core.pyiron_workflow.simple_workflow.Node object at 0x31d7e1a00>, graph=Graph(id=None, label='subgraph', root_node=None, nodes=NestedDict({'ElementInput': GraphNode(id='ElementInput', import_path='pyiron_core.pyiron_nodes.atomistic.assyst.structures.ElementInput', label='ElementInput', parent_id=None, level=0, node=<pyiron_core.pyiron_workflow.simple_workflow.Node object at 0x31d8db0e0>, graph=None, node_type='node', widget_type='customNode', expanded=False), 'SpaceGroupInput': GraphNode(id='SpaceGroupInput', import_path='pyiron_core.pyiron_nodes.atomistic.assyst.structures.SpaceGroupInput', label='SpaceGroupInput', parent_id=None, level=0, node=<pyiron_core.pyiron_workflow.simple_workflow.Node object at 0x31ebf1130>, graph=None, node_type='node', widget_type='customNode', expanded=False)}), edges=[GraphEdge(source='ElementInput', target='SpaceGroupInput', sourceHandle='dataclass', targetHandle='element1')], graph={}), node_type='graph', widget_type='customNode', expanded=False)"
      ]
     },
     "execution_count": 78,
     "metadata": {},
     "output_type": "execute_result"
    }
   ],
   "source": [
    "# base.run_macro_node(node)\n",
    "node"
   ]
  },
  {
   "cell_type": "code",
   "execution_count": 79,
   "id": "7ff974ac-d557-4b25-8f1f-7f548f899b5a",
   "metadata": {
    "ExecuteTime": {
     "end_time": "2025-05-16T23:04:13.536682Z",
     "start_time": "2025-05-16T23:04:13.313472Z"
    }
   },
   "outputs": [
    {
     "name": "stdout",
     "output_type": "stream",
     "text": [
      "Running node fcc_metals\n",
      "Running node ThreadPoolExecutor\n",
      "Running node IterNode\n",
      "Restoring node outputs  4a090a960e28c87c9696fb7ce9179016845aab351e68c6660016e99be6e9bfe7 IterNode False\n",
      "No stored data found for node:  IterNode\n",
      "copy node (port):  Bulk 6df944974ec1c32f6f9a42281d36ecbdc4ed4f62340bb206e1b102bc4870d878\n",
      "graph_node Bulk\n",
      "serialization needed\n"
     ]
    },
    {
     "data": {
      "text/html": [
       "<div>\n",
       "<style scoped>\n",
       "    .dataframe tbody tr th:only-of-type {\n",
       "        vertical-align: middle;\n",
       "    }\n",
       "\n",
       "    .dataframe tbody tr th {\n",
       "        vertical-align: top;\n",
       "    }\n",
       "\n",
       "    .dataframe thead th {\n",
       "        text-align: right;\n",
       "    }\n",
       "</style>\n",
       "<table border=\"1\" class=\"dataframe\">\n",
       "  <thead>\n",
       "    <tr style=\"text-align: right;\">\n",
       "      <th></th>\n",
       "      <th>name</th>\n",
       "      <th>result</th>\n",
       "    </tr>\n",
       "  </thead>\n",
       "  <tbody>\n",
       "    <tr>\n",
       "      <th>0</th>\n",
       "      <td>Cu</td>\n",
       "      <td>[Atom('Cu', [0.0, 0.0, 0.0], index=0)]</td>\n",
       "    </tr>\n",
       "    <tr>\n",
       "      <th>1</th>\n",
       "      <td>Ag</td>\n",
       "      <td>[Atom('Ag', [0.0, 0.0, 0.0], index=0)]</td>\n",
       "    </tr>\n",
       "    <tr>\n",
       "      <th>2</th>\n",
       "      <td>Au</td>\n",
       "      <td>[Atom('Au', [0.0, 0.0, 0.0], index=0)]</td>\n",
       "    </tr>\n",
       "    <tr>\n",
       "      <th>3</th>\n",
       "      <td>Pt</td>\n",
       "      <td>[Atom('Pt', [0.0, 0.0, 0.0], index=0)]</td>\n",
       "    </tr>\n",
       "    <tr>\n",
       "      <th>4</th>\n",
       "      <td>Ni</td>\n",
       "      <td>[Atom('Ni', [0.0, 0.0, 0.0], magmom=0.6, index...</td>\n",
       "    </tr>\n",
       "    <tr>\n",
       "      <th>5</th>\n",
       "      <td>Pd</td>\n",
       "      <td>[Atom('Pd', [0.0, 0.0, 0.0], index=0)]</td>\n",
       "    </tr>\n",
       "    <tr>\n",
       "      <th>6</th>\n",
       "      <td>Rh</td>\n",
       "      <td>[Atom('Rh', [0.0, 0.0, 0.0], index=0)]</td>\n",
       "    </tr>\n",
       "    <tr>\n",
       "      <th>7</th>\n",
       "      <td>Ir</td>\n",
       "      <td>[Atom('Ir', [0.0, 0.0, 0.0], index=0)]</td>\n",
       "    </tr>\n",
       "  </tbody>\n",
       "</table>\n",
       "</div>"
      ],
      "text/plain": [
       "  name                                             result\n",
       "0   Cu             [Atom('Cu', [0.0, 0.0, 0.0], index=0)]\n",
       "1   Ag             [Atom('Ag', [0.0, 0.0, 0.0], index=0)]\n",
       "2   Au             [Atom('Au', [0.0, 0.0, 0.0], index=0)]\n",
       "3   Pt             [Atom('Pt', [0.0, 0.0, 0.0], index=0)]\n",
       "4   Ni  [Atom('Ni', [0.0, 0.0, 0.0], magmom=0.6, index...\n",
       "5   Pd             [Atom('Pd', [0.0, 0.0, 0.0], index=0)]\n",
       "6   Rh             [Atom('Rh', [0.0, 0.0, 0.0], index=0)]\n",
       "7   Ir             [Atom('Ir', [0.0, 0.0, 0.0], index=0)]"
      ]
     },
     "execution_count": 79,
     "metadata": {},
     "output_type": "execute_result"
    }
   ],
   "source": [
    "# pf.graph.nodes[\"IterNode\"].node()\n",
    "\n",
    "select_graph_by_name(pf, \"executor\")  # Select one of the workflows with an \"IterNode\"\n",
    "# It turns out we later need both \"Bulk\" and \"Volume\" nodes as well\n",
    "# \"Volume\" rules out \"executor\", so use \"executor3\"\n",
    "# Nevermind, \"executor3\" hits:\n",
    "# AttributeError: No attribute named Bulk__a\n",
    "\n",
    "# Invoking `node()` give a no-data error, let's pull\n",
    "# pf.graph.nodes[\"IterNode\"].node.pull()  # but not like this, that's also a no-data error\n",
    "base.pull_node(pf.graph, \"IterNode\")  # Here we go\n"
   ]
  },
  {
   "cell_type": "code",
   "execution_count": 80,
   "id": "d4eb709a4ca5c220",
   "metadata": {},
   "outputs": [
    {
     "data": {
      "text/plain": [
       "Al: [0. 0. 0.]\n",
       "tags: \n",
       "    indices: [0]\n",
       "pbc: [ True  True  True]\n",
       "cell: \n",
       "Cell([[0.0, 2.025, 2.025], [2.025, 0.0, 2.025], [2.025, 2.025, 0.0]])"
      ]
     },
     "execution_count": 80,
     "metadata": {},
     "output_type": "execute_result"
    }
   ],
   "source": [
    "nodes.atomistic.structure.build.Bulk()._func(name='Al')"
   ]
  },
  {
   "cell_type": "code",
   "execution_count": 81,
   "id": "b9063ad54140f31e",
   "metadata": {},
   "outputs": [
    {
     "data": {
      "text/html": [
       "<div>\n",
       "<style scoped>\n",
       "    .dataframe tbody tr th:only-of-type {\n",
       "        vertical-align: middle;\n",
       "    }\n",
       "\n",
       "    .dataframe tbody tr th {\n",
       "        vertical-align: top;\n",
       "    }\n",
       "\n",
       "    .dataframe thead th {\n",
       "        text-align: right;\n",
       "    }\n",
       "</style>\n",
       "<table border=\"1\" class=\"dataframe\">\n",
       "  <thead>\n",
       "    <tr style=\"text-align: right;\">\n",
       "      <th></th>\n",
       "      <th>label</th>\n",
       "      <th>type</th>\n",
       "      <th>default</th>\n",
       "      <th>ready</th>\n",
       "      <th>value</th>\n",
       "      <th>node</th>\n",
       "    </tr>\n",
       "  </thead>\n",
       "  <tbody>\n",
       "    <tr>\n",
       "      <th>0</th>\n",
       "      <td>name</td>\n",
       "      <td>str</td>\n",
       "      <td>NotData</td>\n",
       "      <td>True</td>\n",
       "      <td>Al</td>\n",
       "      <td>&lt;pyiron_core.pyiron_workflow.simple_workflow.N...</td>\n",
       "    </tr>\n",
       "    <tr>\n",
       "      <th>1</th>\n",
       "      <td>crystalstructure</td>\n",
       "      <td>Optional[Literal[fcc, bcc, hcp, diamond, rocks...</td>\n",
       "      <td>None</td>\n",
       "      <td>True</td>\n",
       "      <td>None</td>\n",
       "      <td>&lt;pyiron_core.pyiron_workflow.simple_workflow.N...</td>\n",
       "    </tr>\n",
       "    <tr>\n",
       "      <th>2</th>\n",
       "      <td>a</td>\n",
       "      <td>Optional[float]</td>\n",
       "      <td>None</td>\n",
       "      <td>True</td>\n",
       "      <td>None</td>\n",
       "      <td>&lt;pyiron_core.pyiron_workflow.simple_workflow.N...</td>\n",
       "    </tr>\n",
       "    <tr>\n",
       "      <th>3</th>\n",
       "      <td>c</td>\n",
       "      <td>Optional[float]</td>\n",
       "      <td>None</td>\n",
       "      <td>True</td>\n",
       "      <td>None</td>\n",
       "      <td>&lt;pyiron_core.pyiron_workflow.simple_workflow.N...</td>\n",
       "    </tr>\n",
       "    <tr>\n",
       "      <th>4</th>\n",
       "      <td>c_over_a</td>\n",
       "      <td>Optional[float]</td>\n",
       "      <td>None</td>\n",
       "      <td>True</td>\n",
       "      <td>None</td>\n",
       "      <td>&lt;pyiron_core.pyiron_workflow.simple_workflow.N...</td>\n",
       "    </tr>\n",
       "    <tr>\n",
       "      <th>5</th>\n",
       "      <td>u</td>\n",
       "      <td>Optional[float]</td>\n",
       "      <td>None</td>\n",
       "      <td>True</td>\n",
       "      <td>None</td>\n",
       "      <td>&lt;pyiron_core.pyiron_workflow.simple_workflow.N...</td>\n",
       "    </tr>\n",
       "    <tr>\n",
       "      <th>6</th>\n",
       "      <td>orthorhombic</td>\n",
       "      <td>bool</td>\n",
       "      <td>False</td>\n",
       "      <td>True</td>\n",
       "      <td>False</td>\n",
       "      <td>&lt;pyiron_core.pyiron_workflow.simple_workflow.N...</td>\n",
       "    </tr>\n",
       "    <tr>\n",
       "      <th>7</th>\n",
       "      <td>cubic</td>\n",
       "      <td>bool</td>\n",
       "      <td>False</td>\n",
       "      <td>True</td>\n",
       "      <td>False</td>\n",
       "      <td>&lt;pyiron_core.pyiron_workflow.simple_workflow.N...</td>\n",
       "    </tr>\n",
       "  </tbody>\n",
       "</table>\n",
       "</div>"
      ],
      "text/plain": [
       "{'label': ['name', 'crystalstructure', 'a', 'c', 'c_over_a', 'u', 'orthorhombic', 'cubic'], 'type': ['str', 'Optional[Literal[fcc, bcc, hcp, diamond, rocksalt]]', 'Optional[float]', 'Optional[float]', 'Optional[float]', 'Optional[float]', 'bool', 'bool'], 'default': ['NotData', None, None, None, None, None, False, False], 'ready': [True, True, True, True, True, True, True, True], 'value': ['Al', None, None, None, None, None, False, False], 'node': [<pyiron_core.pyiron_workflow.simple_workflow.Node object at 0x31c739460>, <pyiron_core.pyiron_workflow.simple_workflow.Node object at 0x31c739460>, <pyiron_core.pyiron_workflow.simple_workflow.Node object at 0x31c739460>, <pyiron_core.pyiron_workflow.simple_workflow.Node object at 0x31c739460>, <pyiron_core.pyiron_workflow.simple_workflow.Node object at 0x31c739460>, <pyiron_core.pyiron_workflow.simple_workflow.Node object at 0x31c739460>, <pyiron_core.pyiron_workflow.simple_workflow.Node object at 0x31c739460>, <pyiron_core.pyiron_workflow.simple_workflow.Node object at 0x31c739460>]}"
      ]
     },
     "execution_count": 81,
     "metadata": {},
     "output_type": "execute_result"
    }
   ],
   "source": [
    "bulk = nodes.atomistic.structure.build.Bulk()\n",
    "bulk.inputs[\"name\"] = \"Al\"\n",
    "bulk.inputs"
   ]
  },
  {
   "cell_type": "code",
   "execution_count": 82,
   "id": "c3a011c4fc32601f",
   "metadata": {},
   "outputs": [
    {
     "data": {
      "text/plain": [
       "Al: [0. 0. 0.]\n",
       "tags: \n",
       "    indices: [0]\n",
       "pbc: [ True  True  True]\n",
       "cell: \n",
       "Cell([[0.0, 1.0, 1.0], [1.0, 0.0, 1.0], [1.0, 1.0, 0.0]])"
      ]
     },
     "execution_count": 82,
     "metadata": {},
     "output_type": "execute_result"
    }
   ],
   "source": [
    "nodes.atomistic.structure.build.Bulk()('Al', a=2)"
   ]
  },
  {
   "cell_type": "code",
   "execution_count": 83,
   "id": "3916b7febd1c3c2d",
   "metadata": {},
   "outputs": [
    {
     "data": {
      "text/plain": [
       "['Bulk', 'Volume']"
      ]
     },
     "execution_count": 83,
     "metadata": {},
     "output_type": "execute_result"
    }
   ],
   "source": [
    "list(set(['Volume', 'Bulk', 'Volume']))"
   ]
  },
  {
   "cell_type": "code",
   "execution_count": 84,
   "id": "70f9cbaad570ee2c",
   "metadata": {},
   "outputs": [
    {
     "name": "stdout",
     "output_type": "stream",
     "text": [
      "labels ['Bulk__name', 'Bulk__a', 'Bulk__cubic']\n",
      "inp:  Bulk name\n",
      "GraphEdge(source='va_i_subgraph__Bulk__name', target='Bulk', sourceHandle='x', targetHandle='name')\n",
      "inp:  Bulk a\n",
      "GraphEdge(source='va_i_subgraph__Bulk__a', target='Bulk', sourceHandle='x', targetHandle='a')\n",
      "inp:  Bulk cubic\n",
      "GraphEdge(source='va_i_subgraph__Bulk__cubic', target='Bulk', sourceHandle='x', targetHandle='cubic')\n",
      "labels ['Volume__volume']\n",
      "node:  Bulk GraphNode(id='Bulk', import_path='pyiron_core.pyiron_nodes.atomistic.structure.build.Bulk', label='Bulk', parent_id='subgraph', level=1, node=<pyiron_core.pyiron_workflow.simple_workflow.Node object at 0x31ec186e0>, graph=None, node_type='node', widget_type='customNode', expanded=False)\n",
      "node:  Volume GraphNode(id='Volume', import_path='pyiron_core.pyiron_nodes.atomistic.structure.calc.Volume', label='Volume', parent_id='subgraph', level=1, node=<pyiron_core.pyiron_workflow.simple_workflow.Node object at 0x31ebe4b00>, graph=None, node_type='node', widget_type='customNode', expanded=False)\n",
      "node:  ThreadPoolExecutor GraphNode(id='ThreadPoolExecutor', import_path='pyiron_core.pyiron_nodes.executors.ThreadPoolExecutor', label='ThreadPoolExecutor', parent_id=None, level=0, node=<pyiron_core.pyiron_workflow.simple_workflow.Node object at 0x31ec4a990>, graph=None, node_type='node', widget_type='customNode', expanded=False)\n",
      "node:  IterNode GraphNode(id='IterNode', import_path='pyiron_core.pyiron_nodes.executors.IterNode', label='IterNode', parent_id=None, level=0, node=<pyiron_core.pyiron_workflow.simple_workflow.Node object at 0x31eb76420>, graph=None, node_type='node', widget_type='customNode', expanded=False)\n",
      "node:  SingleNodeExecutor GraphNode(id='SingleNodeExecutor', import_path='pyiron_core.pyiron_nodes.executors.SingleNodeExecutor', label='SingleNodeExecutor', parent_id=None, level=0, node=<pyiron_core.pyiron_workflow.simple_workflow.Node object at 0x31d7e2ba0>, graph=None, node_type='node', widget_type='customNode', expanded=False)\n",
      "node:  Linspace GraphNode(id='Linspace', import_path='pyiron_core.pyiron_nodes.math.Linspace', label='Linspace', parent_id=None, level=0, node=<pyiron_core.pyiron_workflow.simple_workflow.Node object at 0x31ec4a570>, graph=None, node_type='node', widget_type='customNode', expanded=False)\n",
      "node:  subgraph GraphNode(id='subgraph', import_path=None, label='subgraph', parent_id=None, level=0, node=<pyiron_core.pyiron_workflow.simple_workflow.Node object at 0x31d515850>, graph=Graph(id=None, label='subgraph', root_node=None, nodes=NestedDict({'Bulk': GraphNode(id='Bulk', import_path='pyiron_core.pyiron_nodes.atomistic.structure.build.Bulk', label='Bulk', parent_id=None, level=0, node=<pyiron_core.pyiron_workflow.simple_workflow.Node object at 0x31ec186e0>, graph=None, node_type='node', widget_type='customNode', expanded=False), 'Volume': GraphNode(id='Volume', import_path='pyiron_core.pyiron_nodes.atomistic.structure.calc.Volume', label='Volume', parent_id=None, level=0, node=<pyiron_core.pyiron_workflow.simple_workflow.Node object at 0x31ebe4b00>, graph=None, node_type='node', widget_type='customNode', expanded=False)}), edges=[GraphEdge(source='Bulk', target='Volume', sourceHandle='structure', targetHandle='structure')], graph={}), node_type='graph', widget_type='customNode', expanded=False)\n",
      "node:  va_i_subgraph__Bulk__name GraphNode(id='va_i_subgraph__Bulk__name', import_path='pyiron_core.pyiron_workflow.api.serial.identity', label='va_i_subgraph__Bulk__name', parent_id='subgraph', level=0, node=<pyiron_core.pyiron_workflow.simple_workflow.Node object at 0x31d5aac90>, graph=None, node_type='node', widget_type='customNode', expanded=False)\n",
      "node:  va_i_subgraph__Bulk__a GraphNode(id='va_i_subgraph__Bulk__a', import_path='pyiron_core.pyiron_workflow.api.serial.identity', label='va_i_subgraph__Bulk__a', parent_id='subgraph', level=0, node=<pyiron_core.pyiron_workflow.simple_workflow.Node object at 0x31d5af0e0>, graph=None, node_type='node', widget_type='customNode', expanded=False)\n",
      "node:  va_i_subgraph__Bulk__cubic GraphNode(id='va_i_subgraph__Bulk__cubic', import_path='pyiron_core.pyiron_workflow.api.serial.identity', label='va_i_subgraph__Bulk__cubic', parent_id='subgraph', level=0, node=<pyiron_core.pyiron_workflow.simple_workflow.Node object at 0x31d5a8740>, graph=None, node_type='node', widget_type='customNode', expanded=False)\n",
      "node:  va_o_subgraph__Volume__volume GraphNode(id='va_o_subgraph__Volume__volume', import_path='pyiron_core.pyiron_workflow.api.serial.identity', label='va_o_subgraph__Volume__volume', parent_id='subgraph', level=0, node=<pyiron_core.pyiron_workflow.simple_workflow.Node object at 0x31d5153d0>, graph=None, node_type='node', widget_type='customNode', expanded=False)\n",
      "['subgraph']\n"
     ]
    }
   ],
   "source": [
    "# We need a workflow with both \"Bulk\" and \"Volume\"\n",
    "# Only \"executor3\" fits the bill among the loaded flows\n",
    "# It didn't work to load it initially, but we can switch now\n",
    "select_graph_by_name(pf, \"executor3\") \n",
    "\n",
    "selected_nodes = [\"Bulk\", \"Volume\"]\n",
    "base.create_group(pf.graph, selected_nodes).nodes[\"subgraph\"].node._workflow # .run()  # graph.nodes[\"Bulk\"].node.run()"
   ]
  },
  {
   "cell_type": "code",
   "execution_count": 85,
   "id": "45b1e9ec0eb50f2d",
   "metadata": {},
   "outputs": [
    {
     "name": "stdout",
     "output_type": "stream",
     "text": [
      "labels ['Bulk__name', 'Bulk__a', 'Bulk__cubic']\n",
      "inp:  Bulk name\n",
      "GraphEdge(source='va_i_subgraph__Bulk__name', target='Bulk', sourceHandle='x', targetHandle='name')\n",
      "inp:  Bulk a\n",
      "GraphEdge(source='va_i_subgraph__Bulk__a', target='Bulk', sourceHandle='x', targetHandle='a')\n",
      "inp:  Bulk cubic\n",
      "GraphEdge(source='va_i_subgraph__Bulk__cubic', target='Bulk', sourceHandle='x', targetHandle='cubic')\n",
      "labels ['Volume__volume']\n",
      "node:  Bulk GraphNode(id='Bulk', import_path='pyiron_core.pyiron_nodes.atomistic.structure.build.Bulk', label='Bulk', parent_id='subgraph', level=1, node=<pyiron_core.pyiron_workflow.simple_workflow.Node object at 0x31ec186e0>, graph=None, node_type='node', widget_type='customNode', expanded=False)\n",
      "node:  Volume GraphNode(id='Volume', import_path='pyiron_core.pyiron_nodes.atomistic.structure.calc.Volume', label='Volume', parent_id='subgraph', level=1, node=<pyiron_core.pyiron_workflow.simple_workflow.Node object at 0x31ebe4b00>, graph=None, node_type='node', widget_type='customNode', expanded=False)\n",
      "node:  ThreadPoolExecutor GraphNode(id='ThreadPoolExecutor', import_path='pyiron_core.pyiron_nodes.executors.ThreadPoolExecutor', label='ThreadPoolExecutor', parent_id=None, level=0, node=<pyiron_core.pyiron_workflow.simple_workflow.Node object at 0x31ec4a990>, graph=None, node_type='node', widget_type='customNode', expanded=False)\n",
      "node:  IterNode GraphNode(id='IterNode', import_path='pyiron_core.pyiron_nodes.executors.IterNode', label='IterNode', parent_id=None, level=0, node=<pyiron_core.pyiron_workflow.simple_workflow.Node object at 0x31eb76420>, graph=None, node_type='node', widget_type='customNode', expanded=False)\n",
      "node:  SingleNodeExecutor GraphNode(id='SingleNodeExecutor', import_path='pyiron_core.pyiron_nodes.executors.SingleNodeExecutor', label='SingleNodeExecutor', parent_id=None, level=0, node=<pyiron_core.pyiron_workflow.simple_workflow.Node object at 0x31d7e2ba0>, graph=None, node_type='node', widget_type='customNode', expanded=False)\n",
      "node:  Linspace GraphNode(id='Linspace', import_path='pyiron_core.pyiron_nodes.math.Linspace', label='Linspace', parent_id=None, level=0, node=<pyiron_core.pyiron_workflow.simple_workflow.Node object at 0x31ec4a570>, graph=None, node_type='node', widget_type='customNode', expanded=False)\n",
      "node:  subgraph GraphNode(id='subgraph', import_path=None, label='subgraph', parent_id=None, level=0, node=<pyiron_core.pyiron_workflow.simple_workflow.Node object at 0x31d0e5c70>, graph=Graph(id=None, label='subgraph', root_node=None, nodes=NestedDict({'Bulk': GraphNode(id='Bulk', import_path='pyiron_core.pyiron_nodes.atomistic.structure.build.Bulk', label='Bulk', parent_id=None, level=0, node=<pyiron_core.pyiron_workflow.simple_workflow.Node object at 0x31ec186e0>, graph=None, node_type='node', widget_type='customNode', expanded=False), 'Volume': GraphNode(id='Volume', import_path='pyiron_core.pyiron_nodes.atomistic.structure.calc.Volume', label='Volume', parent_id=None, level=0, node=<pyiron_core.pyiron_workflow.simple_workflow.Node object at 0x31ebe4b00>, graph=None, node_type='node', widget_type='customNode', expanded=False)}), edges=[GraphEdge(source='Bulk', target='Volume', sourceHandle='structure', targetHandle='structure')], graph={}), node_type='graph', widget_type='customNode', expanded=False)\n",
      "node:  va_i_subgraph__Bulk__name GraphNode(id='va_i_subgraph__Bulk__name', import_path='pyiron_core.pyiron_workflow.api.serial.identity', label='va_i_subgraph__Bulk__name', parent_id='subgraph', level=0, node=<pyiron_core.pyiron_workflow.simple_workflow.Node object at 0x31d517d10>, graph=None, node_type='node', widget_type='customNode', expanded=False)\n",
      "node:  va_i_subgraph__Bulk__a GraphNode(id='va_i_subgraph__Bulk__a', import_path='pyiron_core.pyiron_workflow.api.serial.identity', label='va_i_subgraph__Bulk__a', parent_id='subgraph', level=0, node=<pyiron_core.pyiron_workflow.simple_workflow.Node object at 0x31d0e5ca0>, graph=None, node_type='node', widget_type='customNode', expanded=False)\n",
      "node:  va_i_subgraph__Bulk__cubic GraphNode(id='va_i_subgraph__Bulk__cubic', import_path='pyiron_core.pyiron_workflow.api.serial.identity', label='va_i_subgraph__Bulk__cubic', parent_id='subgraph', level=0, node=<pyiron_core.pyiron_workflow.simple_workflow.Node object at 0x31d040260>, graph=None, node_type='node', widget_type='customNode', expanded=False)\n",
      "node:  va_o_subgraph__Volume__volume GraphNode(id='va_o_subgraph__Volume__volume', import_path='pyiron_core.pyiron_workflow.api.serial.identity', label='va_o_subgraph__Volume__volume', parent_id='subgraph', level=0, node=<pyiron_core.pyiron_workflow.simple_workflow.Node object at 0x31d7b3bc0>, graph=None, node_type='node', widget_type='customNode', expanded=False)\n",
      "['subgraph']\n",
      "\n",
      "def subgraph(Bulk__name: str = \"Al\", Bulk__a: Optional[float] = 2, Bulk__cubic: bool = True):\n",
      "\n",
      "    from pyiron_core.pyiron_workflow import Workflow\n",
      "    from pyiron_core.pyiron_nodes.atomistic.structure.build import Bulk\n",
      "    from pyiron_core.pyiron_nodes.atomistic.structure.calc import Volume\n",
      "\n",
      "    wf = Workflow('subgraph')\n",
      "    wf.Bulk = Bulk(name=Bulk__name, a=Bulk__a, cubic=Bulk__cubic)\n",
      "    wf.Volume = Volume(structure=wf.Bulk)\n",
      "\n",
      "    return wf.Volume.outputs.volume\n",
      "\n"
     ]
    }
   ],
   "source": [
    "f = base.create_group(pf.graph, selected_nodes).nodes[\"subgraph\"].graph  #.graph.nodes #.nodes[\"Bulk\"].node.inputs\n",
    "print(base.graph_to_code(f))"
   ]
  },
  {
   "cell_type": "code",
   "execution_count": 86,
   "id": "d3299239aae62889",
   "metadata": {},
   "outputs": [
    {
     "data": {
      "text/html": [
       "<div>\n",
       "<style scoped>\n",
       "    .dataframe tbody tr th:only-of-type {\n",
       "        vertical-align: middle;\n",
       "    }\n",
       "\n",
       "    .dataframe tbody tr th {\n",
       "        vertical-align: top;\n",
       "    }\n",
       "\n",
       "    .dataframe thead th {\n",
       "        text-align: right;\n",
       "    }\n",
       "</style>\n",
       "<table border=\"1\" class=\"dataframe\">\n",
       "  <thead>\n",
       "    <tr style=\"text-align: right;\">\n",
       "      <th></th>\n",
       "      <th>id</th>\n",
       "      <th>import_path</th>\n",
       "      <th>label</th>\n",
       "      <th>parent_id</th>\n",
       "      <th>level</th>\n",
       "      <th>node</th>\n",
       "      <th>graph</th>\n",
       "      <th>node_type</th>\n",
       "      <th>widget_type</th>\n",
       "      <th>expanded</th>\n",
       "    </tr>\n",
       "  </thead>\n",
       "  <tbody>\n",
       "    <tr>\n",
       "      <th>0</th>\n",
       "      <td>Bulk</td>\n",
       "      <td>pyiron_core.pyiron_nodes.atomistic.structure.b...</td>\n",
       "      <td>Bulk</td>\n",
       "      <td>None</td>\n",
       "      <td>0</td>\n",
       "      <td>&lt;pyiron_core.pyiron_workflow.simple_workflow.N...</td>\n",
       "      <td>None</td>\n",
       "      <td>node</td>\n",
       "      <td>customNode</td>\n",
       "      <td>False</td>\n",
       "    </tr>\n",
       "    <tr>\n",
       "      <th>1</th>\n",
       "      <td>Volume</td>\n",
       "      <td>pyiron_core.pyiron_nodes.atomistic.structure.c...</td>\n",
       "      <td>Volume</td>\n",
       "      <td>None</td>\n",
       "      <td>0</td>\n",
       "      <td>&lt;pyiron_core.pyiron_workflow.simple_workflow.N...</td>\n",
       "      <td>None</td>\n",
       "      <td>node</td>\n",
       "      <td>customNode</td>\n",
       "      <td>False</td>\n",
       "    </tr>\n",
       "  </tbody>\n",
       "</table>\n",
       "</div>"
      ],
      "text/plain": [
       "NestedDict([('Bulk',\n",
       "             GraphNode(id='Bulk', import_path='pyiron_core.pyiron_nodes.atomistic.structure.build.Bulk', label='Bulk', parent_id=None, level=0, node=<pyiron_core.pyiron_workflow.simple_workflow.Node object at 0x31ec186e0>, graph=None, node_type='node', widget_type='customNode', expanded=False)),\n",
       "            ('Volume',\n",
       "             GraphNode(id='Volume', import_path='pyiron_core.pyiron_nodes.atomistic.structure.calc.Volume', label='Volume', parent_id=None, level=0, node=<pyiron_core.pyiron_workflow.simple_workflow.Node object at 0x31ebe4b00>, graph=None, node_type='node', widget_type='customNode', expanded=False))])"
      ]
     },
     "execution_count": 86,
     "metadata": {},
     "output_type": "execute_result"
    }
   ],
   "source": [
    "f.nodes"
   ]
  },
  {
   "cell_type": "code",
   "execution_count": 87,
   "id": "cd5685491ecd9d8c",
   "metadata": {},
   "outputs": [
    {
     "name": "stdout",
     "output_type": "stream",
     "text": [
      "labels ['Bulk__name', 'Bulk__a', 'Bulk__cubic']\n",
      "inp:  Bulk name\n",
      "GraphEdge(source='va_i_subgraph__Bulk__name', target='Bulk', sourceHandle='x', targetHandle='name')\n",
      "inp:  Bulk a\n",
      "GraphEdge(source='va_i_subgraph__Bulk__a', target='Bulk', sourceHandle='x', targetHandle='a')\n",
      "inp:  Bulk cubic\n",
      "GraphEdge(source='va_i_subgraph__Bulk__cubic', target='Bulk', sourceHandle='x', targetHandle='cubic')\n",
      "labels ['Volume__volume']\n",
      "node:  Bulk GraphNode(id='Bulk', import_path='pyiron_core.pyiron_nodes.atomistic.structure.build.Bulk', label='Bulk', parent_id='subgraph', level=1, node=<pyiron_core.pyiron_workflow.simple_workflow.Node object at 0x31ec186e0>, graph=None, node_type='node', widget_type='customNode', expanded=False)\n",
      "node:  Volume GraphNode(id='Volume', import_path='pyiron_core.pyiron_nodes.atomistic.structure.calc.Volume', label='Volume', parent_id='subgraph', level=1, node=<pyiron_core.pyiron_workflow.simple_workflow.Node object at 0x31ebe4b00>, graph=None, node_type='node', widget_type='customNode', expanded=False)\n",
      "node:  ThreadPoolExecutor GraphNode(id='ThreadPoolExecutor', import_path='pyiron_core.pyiron_nodes.executors.ThreadPoolExecutor', label='ThreadPoolExecutor', parent_id=None, level=0, node=<pyiron_core.pyiron_workflow.simple_workflow.Node object at 0x31ec4a990>, graph=None, node_type='node', widget_type='customNode', expanded=False)\n",
      "node:  IterNode GraphNode(id='IterNode', import_path='pyiron_core.pyiron_nodes.executors.IterNode', label='IterNode', parent_id=None, level=0, node=<pyiron_core.pyiron_workflow.simple_workflow.Node object at 0x31eb76420>, graph=None, node_type='node', widget_type='customNode', expanded=False)\n",
      "node:  SingleNodeExecutor GraphNode(id='SingleNodeExecutor', import_path='pyiron_core.pyiron_nodes.executors.SingleNodeExecutor', label='SingleNodeExecutor', parent_id=None, level=0, node=<pyiron_core.pyiron_workflow.simple_workflow.Node object at 0x31d7e2ba0>, graph=None, node_type='node', widget_type='customNode', expanded=False)\n",
      "node:  Linspace GraphNode(id='Linspace', import_path='pyiron_core.pyiron_nodes.math.Linspace', label='Linspace', parent_id=None, level=0, node=<pyiron_core.pyiron_workflow.simple_workflow.Node object at 0x31ec4a570>, graph=None, node_type='node', widget_type='customNode', expanded=False)\n",
      "node:  subgraph GraphNode(id='subgraph', import_path=None, label='subgraph', parent_id=None, level=0, node=<pyiron_core.pyiron_workflow.simple_workflow.Node object at 0x31c73d400>, graph=Graph(id=None, label='subgraph', root_node=None, nodes=NestedDict({'Bulk': GraphNode(id='Bulk', import_path='pyiron_core.pyiron_nodes.atomistic.structure.build.Bulk', label='Bulk', parent_id=None, level=0, node=<pyiron_core.pyiron_workflow.simple_workflow.Node object at 0x31ec186e0>, graph=None, node_type='node', widget_type='customNode', expanded=False), 'Volume': GraphNode(id='Volume', import_path='pyiron_core.pyiron_nodes.atomistic.structure.calc.Volume', label='Volume', parent_id=None, level=0, node=<pyiron_core.pyiron_workflow.simple_workflow.Node object at 0x31ebe4b00>, graph=None, node_type='node', widget_type='customNode', expanded=False)}), edges=[GraphEdge(source='Bulk', target='Volume', sourceHandle='structure', targetHandle='structure')], graph={}), node_type='graph', widget_type='customNode', expanded=False)\n",
      "node:  va_i_subgraph__Bulk__name GraphNode(id='va_i_subgraph__Bulk__name', import_path='pyiron_core.pyiron_workflow.api.serial.identity', label='va_i_subgraph__Bulk__name', parent_id='subgraph', level=0, node=<pyiron_core.pyiron_workflow.simple_workflow.Node object at 0x31c73d0d0>, graph=None, node_type='node', widget_type='customNode', expanded=False)\n",
      "node:  va_i_subgraph__Bulk__a GraphNode(id='va_i_subgraph__Bulk__a', import_path='pyiron_core.pyiron_workflow.api.serial.identity', label='va_i_subgraph__Bulk__a', parent_id='subgraph', level=0, node=<pyiron_core.pyiron_workflow.simple_workflow.Node object at 0x31d020f50>, graph=None, node_type='node', widget_type='customNode', expanded=False)\n",
      "node:  va_i_subgraph__Bulk__cubic GraphNode(id='va_i_subgraph__Bulk__cubic', import_path='pyiron_core.pyiron_workflow.api.serial.identity', label='va_i_subgraph__Bulk__cubic', parent_id='subgraph', level=0, node=<pyiron_core.pyiron_workflow.simple_workflow.Node object at 0x31d039070>, graph=None, node_type='node', widget_type='customNode', expanded=False)\n",
      "node:  va_o_subgraph__Volume__volume GraphNode(id='va_o_subgraph__Volume__volume', import_path='pyiron_core.pyiron_workflow.api.serial.identity', label='va_o_subgraph__Volume__volume', parent_id='subgraph', level=0, node=<pyiron_core.pyiron_workflow.simple_workflow.Node object at 0x31d0222a0>, graph=None, node_type='node', widget_type='customNode', expanded=False)\n",
      "['subgraph']\n"
     ]
    },
    {
     "data": {
      "text/plain": [
       "Graph(id=None, label='executor3', root_node=None, nodes=Nodes({'subgraph': GraphNode(id='subgraph', import_path=None, label='subgraph', parent_id=None, level=0, node=<pyiron_core.pyiron_workflow.simple_workflow.Node object at 0x31c73d400>, graph=Graph(id=None, label='subgraph', root_node=None, nodes=NestedDict({'Bulk': GraphNode(id='Bulk', import_path='pyiron_core.pyiron_nodes.atomistic.structure.build.Bulk', label='Bulk', parent_id=None, level=0, node=<pyiron_core.pyiron_workflow.simple_workflow.Node object at 0x31ec186e0>, graph=None, node_type='node', widget_type='customNode', expanded=False), 'Volume': GraphNode(id='Volume', import_path='pyiron_core.pyiron_nodes.atomistic.structure.calc.Volume', label='Volume', parent_id=None, level=0, node=<pyiron_core.pyiron_workflow.simple_workflow.Node object at 0x31ebe4b00>, graph=None, node_type='node', widget_type='customNode', expanded=False)}), edges=[GraphEdge(source='Bulk', target='Volume', sourceHandle='structure', targetHandle='structure')], graph={}), node_type='graph', widget_type='customNode', expanded=False), 'Bulk': GraphNode(id='Bulk', import_path='pyiron_core.pyiron_nodes.atomistic.structure.build.Bulk', label='Bulk', parent_id='subgraph', level=1, node=<pyiron_core.pyiron_workflow.simple_workflow.Node object at 0x31ec186e0>, graph=None, node_type='node', widget_type='customNode', expanded=False), 'Volume': GraphNode(id='Volume', import_path='pyiron_core.pyiron_nodes.atomistic.structure.calc.Volume', label='Volume', parent_id='subgraph', level=1, node=<pyiron_core.pyiron_workflow.simple_workflow.Node object at 0x31ebe4b00>, graph=None, node_type='node', widget_type='customNode', expanded=False), 'ThreadPoolExecutor': GraphNode(id='ThreadPoolExecutor', import_path='pyiron_core.pyiron_nodes.executors.ThreadPoolExecutor', label='ThreadPoolExecutor', parent_id=None, level=0, node=<pyiron_core.pyiron_workflow.simple_workflow.Node object at 0x31ec4a990>, graph=None, node_type='node', widget_type='customNode', expanded=False), 'IterNode': GraphNode(id='IterNode', import_path='pyiron_core.pyiron_nodes.executors.IterNode', label='IterNode', parent_id=None, level=0, node=<pyiron_core.pyiron_workflow.simple_workflow.Node object at 0x31eb76420>, graph=None, node_type='node', widget_type='customNode', expanded=False), 'SingleNodeExecutor': GraphNode(id='SingleNodeExecutor', import_path='pyiron_core.pyiron_nodes.executors.SingleNodeExecutor', label='SingleNodeExecutor', parent_id=None, level=0, node=<pyiron_core.pyiron_workflow.simple_workflow.Node object at 0x31d7e2ba0>, graph=None, node_type='node', widget_type='customNode', expanded=False), 'Linspace': GraphNode(id='Linspace', import_path='pyiron_core.pyiron_nodes.math.Linspace', label='Linspace', parent_id=None, level=0, node=<pyiron_core.pyiron_workflow.simple_workflow.Node object at 0x31ec4a570>, graph=None, node_type='node', widget_type='customNode', expanded=False), 'va_i_subgraph__Bulk__name': GraphNode(id='va_i_subgraph__Bulk__name', import_path='pyiron_core.pyiron_workflow.api.serial.identity', label='va_i_subgraph__Bulk__name', parent_id='subgraph', level=0, node=<pyiron_core.pyiron_workflow.simple_workflow.Node object at 0x31c73d0d0>, graph=None, node_type='node', widget_type='customNode', expanded=False), 'va_i_subgraph__Bulk__a': GraphNode(id='va_i_subgraph__Bulk__a', import_path='pyiron_core.pyiron_workflow.api.serial.identity', label='va_i_subgraph__Bulk__a', parent_id='subgraph', level=0, node=<pyiron_core.pyiron_workflow.simple_workflow.Node object at 0x31d020f50>, graph=None, node_type='node', widget_type='customNode', expanded=False), 'va_i_subgraph__Bulk__cubic': GraphNode(id='va_i_subgraph__Bulk__cubic', import_path='pyiron_core.pyiron_workflow.api.serial.identity', label='va_i_subgraph__Bulk__cubic', parent_id='subgraph', level=0, node=<pyiron_core.pyiron_workflow.simple_workflow.Node object at 0x31d039070>, graph=None, node_type='node', widget_type='customNode', expanded=False), 'va_o_subgraph__Volume__volume': GraphNode(id='va_o_subgraph__Volume__volume', import_path='pyiron_core.pyiron_workflow.api.serial.identity', label='va_o_subgraph__Volume__volume', parent_id='subgraph', level=0, node=<pyiron_core.pyiron_workflow.simple_workflow.Node object at 0x31d0222a0>, graph=None, node_type='node', widget_type='customNode', expanded=False)}), edges=[GraphEdge(source='Bulk', target='Volume', sourceHandle='structure', targetHandle='structure'), GraphEdge(source='va_o_subgraph__Volume__volume', target='IterNode', sourceHandle='x', targetHandle='node'), GraphEdge(source='ThreadPoolExecutor', target='IterNode', sourceHandle='Executor', targetHandle='Executor'), GraphEdge(source='Linspace', target='IterNode', sourceHandle='linspace', targetHandle='kwarg_list'), GraphEdge(source='va_i_subgraph__Bulk__name', target='Bulk', sourceHandle='x', targetHandle='name'), GraphEdge(source='va_i_subgraph__Bulk__a', target='Bulk', sourceHandle='x', targetHandle='a'), GraphEdge(source='va_i_subgraph__Bulk__cubic', target='Bulk', sourceHandle='x', targetHandle='cubic'), GraphEdge(source='Volume', target='va_o_subgraph__Volume__volume', sourceHandle='volume', targetHandle='x')], graph={})"
      ]
     },
     "execution_count": 87,
     "metadata": {},
     "output_type": "execute_result"
    }
   ],
   "source": [
    "base.create_group(pf.graph, selected_nodes)#.nodes[\"subgraph\"].nodes"
   ]
  },
  {
   "cell_type": "code",
   "execution_count": 88,
   "id": "b8bf5678bb67b870",
   "metadata": {},
   "outputs": [
    {
     "name": "stdout",
     "output_type": "stream",
     "text": [
      "\n",
      "def executor3(Bulk__name: str = \"Al\", Bulk__a: Optional[float] = 2, Bulk__cubic: bool = True, IterNode__kwarg_name: str = \"Bulk__a\", Linspace__x_min: float = 1.8, Linspace__x_max: float = 2.2, Linspace__num_points: int = 7):\n",
      "\n",
      "    from pyiron_core.pyiron_workflow import Workflow\n",
      "    from pyiron_core.pyiron_nodes.atomistic.structure.build import Bulk\n",
      "    from pyiron_core.pyiron_nodes.atomistic.structure.calc import Volume\n",
      "    from pyiron_core.pyiron_nodes.executors import ThreadPoolExecutor\n",
      "    from pyiron_core.pyiron_nodes.executors import IterNode\n",
      "    from pyiron_core.pyiron_nodes.executors import SingleNodeExecutor\n",
      "    from pyiron_core.pyiron_nodes.math import Linspace\n",
      "\n",
      "    wf = Workflow('executor3')\n",
      "    wf.Bulk = Bulk(name=Bulk__name, a=Bulk__a, cubic=Bulk__cubic)\n",
      "    wf.Volume = Volume(structure=wf.Bulk)\n",
      "    wf.ThreadPoolExecutor = ThreadPoolExecutor()\n",
      "    wf.IterNode = IterNode(node=wf.Volume, Executor=wf.ThreadPoolExecutor, kwarg_list=wf.Linspace, kwarg_name=IterNode__kwarg_name)\n",
      "    wf.SingleNodeExecutor = SingleNodeExecutor()\n",
      "    wf.Linspace = Linspace(x_min=Linspace__x_min, x_max=Linspace__x_max, num_points=Linspace__num_points)\n",
      "\n",
      "    return wf.IterNode.outputs.df, wf.SingleNodeExecutor.outputs.Executor\n",
      "\n"
     ]
    }
   ],
   "source": [
    "# print(get_code_from_graph1(pf.graph))\n",
    "# NameError: name 'get_code_from_graph1' is not defined\n",
    "\n",
    "# the one from the library should be ok instead\n",
    "print(base.get_code_from_graph(pf.graph))"
   ]
  },
  {
   "cell_type": "code",
   "execution_count": 89,
   "id": "548612c5e2cb8221",
   "metadata": {},
   "outputs": [],
   "source": [
    "# print(get_code_from_graph(graph, use_node_default=False))\n",
    "\n",
    "# It looks like the library method `base.get_code_from_graph` was developed here earlier\n",
    "# We can skip these dead calls without any loss"
   ]
  },
  {
   "cell_type": "code",
   "execution_count": 90,
   "id": "ecefaf2faba857d7",
   "metadata": {},
   "outputs": [
    {
     "data": {
      "text/plain": [
       "16.60753125"
      ]
     },
     "execution_count": 90,
     "metadata": {},
     "output_type": "execute_result"
    }
   ],
   "source": [
    "@pc.as_macro_node(\"out\")\n",
    "def subgraph(Bulk__name: str = \"Al\"):\n",
    "\n",
    "    from pyiron_core import nodes, Workflow\n",
    "\n",
    "    wf = Workflow('subgraph')\n",
    "\n",
    "    wf.Bulk = nodes.atomistic.structure.build.Bulk(name=Bulk__name)\n",
    "    wf.Volume = nodes.atomistic.structure.calc.Volume(structure=wf.Bulk)\n",
    "\n",
    "    return wf.Volume\n",
    "\n",
    "subgraph()(Bulk__name=\"Al\")"
   ]
  },
  {
   "cell_type": "code",
   "execution_count": 91,
   "id": "a41c634f50954849",
   "metadata": {},
   "outputs": [
    {
     "data": {
      "text/plain": [
       "'macro_node'"
      ]
     },
     "execution_count": 91,
     "metadata": {},
     "output_type": "execute_result"
    }
   ],
   "source": [
    "subgraph().node_type"
   ]
  },
  {
   "cell_type": "code",
   "execution_count": 92,
   "id": "b75c61cd-a003-4641-9994-fc307b9a2756",
   "metadata": {
    "ExecuteTime": {
     "end_time": "2025-05-16T23:04:14.538804Z",
     "start_time": "2025-05-16T23:04:14.536005Z"
    }
   },
   "outputs": [
    {
     "data": {
      "text/plain": [
       "[('Bulk', 'name'),\n",
       " ('Bulk', 'a'),\n",
       " ('Bulk', 'cubic'),\n",
       " ('Linspace', 'x_min'),\n",
       " ('Linspace', 'x_max'),\n",
       " ('Linspace', 'num_points'),\n",
       " ('Volume', 'structure'),\n",
       " ('IterNode', 'node'),\n",
       " ('IterNode', 'kwarg_name'),\n",
       " ('IterNode', 'kwarg_list'),\n",
       " ('IterNode', 'Executor')]"
      ]
     },
     "execution_count": 92,
     "metadata": {},
     "output_type": "execute_result"
    }
   ],
   "source": [
    "graph = pf.graph\n",
    "graph = base.topological_sort(graph)\n",
    "\n",
    "base.get_non_default_input(graph, flatten=True)"
   ]
  },
  {
   "cell_type": "code",
   "execution_count": 93,
   "id": "4a7f81e4-bffd-461c-8e3c-ee927cfba59c",
   "metadata": {
    "ExecuteTime": {
     "end_time": "2025-05-16T23:04:14.582978Z",
     "start_time": "2025-05-16T23:04:14.580250Z"
    }
   },
   "outputs": [
    {
     "name": "stdout",
     "output_type": "stream",
     "text": [
      "\n",
      "def subgraph(Bulk__name: str = \"Al\", Bulk__a: Optional[float] = 2, Bulk__cubic: bool = True):\n",
      "\n",
      "    from pyiron_core.pyiron_workflow import Workflow\n",
      "    from pyiron_core.pyiron_nodes.atomistic.structure.build import Bulk\n",
      "    from pyiron_core.pyiron_nodes.atomistic.structure.calc import Volume\n",
      "\n",
      "    wf = Workflow('subgraph')\n",
      "    wf.Bulk = Bulk(name=Bulk__name, a=Bulk__a, cubic=Bulk__cubic)\n",
      "    wf.Volume = Volume(structure=wf.Bulk)\n",
      "\n",
      "    return wf.Volume.outputs.volume\n",
      "\n"
     ]
    }
   ],
   "source": [
    "# Reload the module\n",
    "# importlib.reload(to_code)\n",
    "\n",
    "print(base.get_code_from_graph(f, use_node_default=False))"
   ]
  },
  {
   "cell_type": "code",
   "execution_count": 94,
   "id": "509f346d-d2b1-4c52-91f6-df3c4163f85b",
   "metadata": {
    "ExecuteTime": {
     "end_time": "2025-05-16T23:04:14.631761Z",
     "start_time": "2025-05-16T23:04:14.628947Z"
    }
   },
   "outputs": [
    {
     "data": {
      "text/plain": [
       "'def f(arg: str = \"\") -> None: ...\\n'"
      ]
     },
     "execution_count": 94,
     "metadata": {},
     "output_type": "execute_result"
    }
   ],
   "source": [
    "# black.format_str()\n",
    "# TypeError: format_str() missing 1 required positional argument: 'src_contents'\n",
    "\n",
    "# Just feed it something\n",
    "black.format_str(\"def f(arg:str='')->None:...\", mode=black.Mode())"
   ]
  },
  {
   "cell_type": "code",
   "execution_count": 95,
   "id": "48ccd73e-0572-4946-a970-97c24af6f24d",
   "metadata": {
    "ExecuteTime": {
     "end_time": "2025-05-16T23:04:14.912849Z",
     "start_time": "2025-05-16T23:04:14.682875Z"
    }
   },
   "outputs": [
    {
     "name": "stdout",
     "output_type": "stream",
     "text": [
      "def linearfit2(ReadPickledDatasetAsDataframe__file_path: str = \"mgca.pckl.tgz\"):\n",
      "\n",
      "    from pyiron_core.pyiron_workflow import Workflow\n",
      "    from pyiron_core.pyiron_nodes.atomistic.ml_potentials.fitting.linearfit import (\n",
      "        ParameterizePotentialConfig,\n",
      "    )\n",
      "    from pyiron_core.pyiron_nodes.atomistic.ml_potentials.fitting.linearfit import (\n",
      "        SplitTrainingAndTesting,\n",
      "    )\n",
      "    from pyiron_core.pyiron_nodes.atomistic.ml_potentials.fitting.linearfit import (\n",
      "        RunLinearFit,\n",
      "    )\n",
      "    from pyiron_core.pyiron_nodes.atomistic.ml_potentials.fitting.linearfit import (\n",
      "        ReadPickledDatasetAsDataframe,\n",
      "    )\n",
      "    from pyiron_core.pyiron_nodes.atomistic.ml_potentials.fitting.linearfit import (\n",
      "        PlotEnergyFittingCurve,\n",
      "    )\n",
      "    from pyiron_core.pyiron_nodes.atomistic.ml_potentials.fitting.linearfit import (\n",
      "        PredictEnergiesAndForces,\n",
      "    )\n",
      "\n",
      "    wf = Workflow(\"linearfit2\")\n",
      "    wf.ParameterizePotentialConfig = ParameterizePotentialConfig()\n",
      "    wf.SplitTrainingAndTesting = SplitTrainingAndTesting(\n",
      "        data_df=wf.ReadPickledDatasetAsDataframe\n",
      "    )\n",
      "    wf.RunLinearFit = RunLinearFit(\n",
      "        df_test=wf.SplitTrainingAndTesting.outputs.df_testing,\n",
      "        df_train=wf.SplitTrainingAndTesting.outputs.df_training,\n",
      "        potential_config=wf.ParameterizePotentialConfig,\n",
      "    )\n",
      "    wf.ReadPickledDatasetAsDataframe = ReadPickledDatasetAsDataframe(\n",
      "        file_path=ReadPickledDatasetAsDataframe__file_path\n",
      "    )\n",
      "    wf.PlotEnergyFittingCurve = PlotEnergyFittingCurve(\n",
      "        data_dict=wf.PredictEnergiesAndForces\n",
      "    )\n",
      "    wf.PredictEnergiesAndForces = PredictEnergiesAndForces(\n",
      "        basis=wf.RunLinearFit,\n",
      "        df_train=wf.SplitTrainingAndTesting.outputs.df_training,\n",
      "        df_test=wf.SplitTrainingAndTesting.outputs.df_testing,\n",
      "    )\n",
      "\n",
      "    return wf.PlotEnergyFittingCurve.outputs.fig\n",
      "\n"
     ]
    }
   ],
   "source": [
    "mode = black.Mode()\n",
    "\n",
    "# print(black.format_str(get_code_from_graph(pf.graph), mode=mode))\n",
    "#  ValueError: Macro works only for single output node.\n",
    "\n",
    "# Per https://github.com/JNmpi/pyiron_core/issues/33, this is not \"macros\"\n",
    "# This is some part of the auto-parser (also used for grouping subgraphs) only accepting single returns\n",
    "# True macros can indeed return multiple items\n",
    "# Let's select a graph where this might work and try again\n",
    "\n",
    "select_graph_by_name(pf, \"linearfit2\")\n",
    "print(black.format_str(base.get_code_from_graph(pf.graph), mode=mode))"
   ]
  },
  {
   "cell_type": "code",
   "execution_count": 96,
   "id": "fccfc68291e4db82",
   "metadata": {},
   "outputs": [
    {
     "name": "stderr",
     "output_type": "stream",
     "text": [
      "DEBUG:pyiron_log:Not supported parameter used!\n",
      "DEBUG:pyiron_log:Not supported parameter used!\n",
      "DEBUG:pyiron_log:Not supported parameter used!\n",
      "/Users/liamhuber/dev/miniforge3/envs/pycor12/lib/python3.12/site-packages/ase/io/lammpsdata.py:49: FutureWarning: \"style\" is deprecated; please use \"atom_style\".\n",
      "  warnings.warn(\n",
      "DEBUG:pyiron_log:Not supported parameter used!\n",
      "/Users/liamhuber/dev/miniforge3/envs/pycor12/lib/python3.12/site-packages/ase/io/lammpsdata.py:49: FutureWarning: \"style\" is deprecated; please use \"atom_style\".\n",
      "  warnings.warn(\n"
     ]
    },
    {
     "data": {
      "image/png": "[encoded data removed]",
      "text/plain": [
       "<Figure size 640x480 with 1 Axes>"
      ]
     },
     "metadata": {},
     "output_type": "display_data"
    },
    {
     "data": {
      "text/plain": [
       "(428.0, None)"
      ]
     },
     "execution_count": 96,
     "metadata": {},
     "output_type": "execute_result"
    }
   ],
   "source": [
    "\n",
    "# Without this, when I try to reference pyiron_nodes.atomistic.property.calphy.X`, I get\n",
    "# AttributeError: module 'pyiron_nodes.atomistic.property' has no attribute 'calphy'\n",
    "# This must just be something with the init files not registering modules nicely over in pyiron_nodes\n",
    "# My notebook is highlighting `property` as a python keyword, so maybe there is some conflict that \n",
    "# confuses things?\n",
    "# Still, we never need to actually use pn_calphy, just completing the import is enough\n",
    "\n",
    "\n",
    "wf = pc.Workflow('calphy2')\n",
    "\n",
    "element = \"Al\"\n",
    "cell_size = 3\n",
    "solid_fraction = 0\n",
    "\n",
    "wf.CubicBulkCell = nodes.atomistic.structure.build.CubicBulkCell(element=element, cell_size=cell_size)\n",
    "wf.Potential = nodes.atomistic.engine.lammps.Potential(structure=wf.CubicBulkCell)\n",
    "\n",
    "wf.Tolerance = nodes.atomistic.property.calphy.Tolerance(solid_fraction=solid_fraction)\n",
    "wf.InputClass = nodes.atomistic.property.calphy.InputClass()\n",
    "wf.InputClass_1 = nodes.atomistic.property.calphy.InputClass(tolerance=wf.Tolerance)\n",
    "wf.SolidFreeEnergyWithTemperature = nodes.atomistic.property.calphy.SolidFreeEnergyWithTemperature(structure=wf.CubicBulkCell, potential=wf.Potential, inp=wf.InputClass_1, store=False)\n",
    "wf.LiquidFreeEnergyWithTemperature = nodes.atomistic.property.calphy.LiquidFreeEnergyWithTemperature(potential=wf.Potential, structure=wf.CubicBulkCell, inp=wf.InputClass, store=False)\n",
    "wf.CalculatePhaseTransformationTemperature = nodes.atomistic.property.calphy.CalculatePhaseTransformationTemperature(t1=wf.SolidFreeEnergyWithTemperature.outputs.t,\n",
    "                                                                                                                            f1=wf.SolidFreeEnergyWithTemperature.outputs.f, \n",
    "                                                                                                                            t2=wf.LiquidFreeEnergyWithTemperature.outputs.t, \n",
    "                                                                                                                            f2=wf.LiquidFreeEnergyWithTemperature.outputs.f) \n",
    "\n",
    "wf.CalculatePhaseTransformationTemperature.pull()"
   ]
  },
  {
   "cell_type": "code",
   "execution_count": 97,
   "id": "e46431340e34ea1",
   "metadata": {},
   "outputs": [
    {
     "name": "stderr",
     "output_type": "stream",
     "text": [
      "DEBUG:pyiron_log:Not supported parameter used!\n",
      "DEBUG:pyiron_log:Not supported parameter used!\n",
      "DEBUG:pyiron_log:Not supported parameter used!\n"
     ]
    },
    {
     "name": "stdout",
     "output_type": "stream",
     "text": [
      "Expanding node CubicBulkCell\n",
      "Running node bulk\n",
      "Running node InputClass\n",
      "Running node repeat\n",
      "Running node vacancy\n",
      "Running node Potential\n",
      "Running node LiquidFreeEnergyWithTemperature\n"
     ]
    },
    {
     "name": "stderr",
     "output_type": "stream",
     "text": [
      "/Users/liamhuber/dev/miniforge3/envs/pycor12/lib/python3.12/site-packages/ase/io/lammpsdata.py:49: FutureWarning: \"style\" is deprecated; please use \"atom_style\".\n",
      "  warnings.warn(\n"
     ]
    },
    {
     "data": {
      "text/plain": [
       "(array([300.        , 300.060012  , 300.12004802, ..., 599.52038369,\n",
       "        599.76009596, 600.        ]),\n",
       " array([-3.37863204, -3.37866109, -3.37869018, ..., -3.55402788,\n",
       "        -3.55418321, -3.55433857]))"
      ]
     },
     "execution_count": 97,
     "metadata": {},
     "output_type": "execute_result"
    }
   ],
   "source": [
    "graph = base.get_full_graph_from_wf(wf)\n",
    "\n",
    "base.pull_node(base.get_updated_graph(graph), \"LiquidFreeEnergyWithTemperature\")"
   ]
  },
  {
   "cell_type": "markdown",
   "id": "590036c5-5cad-4bad-a29a-682f40ccb3cc",
   "metadata": {},
   "source": [
    "critical feature:\n",
    "- executorlib must be able to run single node or (sub)-workflow\n",
    "- executorlib is a task manager (not a workflow executor)\n",
    "- library stack:\n",
    "    - workflow_creator\n",
    "    - workflow_executor\n",
    "    - executor_lib\n",
    "- application:\n",
    "    - exec.submit(node)  "
   ]
  },
  {
   "cell_type": "code",
   "execution_count": 98,
   "id": "89003ff5cf41e0a4",
   "metadata": {},
   "outputs": [],
   "source": [
    "@pc.as_macro_node(\"transition_temperature\")\n",
    "def calphy2(element: str, cell_size: int = 1, solid_fraction: float = 0.7):\n",
    "\n",
    "    from pyiron_core import nodes, Workflow\n",
    "\n",
    "    wf = Workflow('calphy2')\n",
    "\n",
    "    wf.CubicBulkCell = nodes.atomistic.structure.build.CubicBulkCell(element=element, cell_size=cell_size)\n",
    "    wf.Tolerance = nodes.atomistic.property.calphy.Tolerance(solid_fraction=solid_fraction)\n",
    "    wf.InputClass = nodes.atomistic.property.calphy.InputClass()\n",
    "    wf.Potential = nodes.atomistic.engine.lammps.Potential(structure=wf.CubicBulkCell)\n",
    "    wf.InputClass_1 = nodes.atomistic.property.calphy.InputClass(tolerance=wf.Tolerance)\n",
    "    wf.LiquidFreeEnergyWithTemperature = nodes.atomistic.property.calphy.LiquidFreeEnergyWithTemperature(potential=wf.Potential, structure=wf.CubicBulkCell, inp=wf.InputClass)\n",
    "    wf.SolidFreeEnergyWithTemperature = nodes.atomistic.property.calphy.SolidFreeEnergyWithTemperature(structure=wf.CubicBulkCell, potential=wf.Potential, inp=wf.InputClass_1)\n",
    "    wf.CalculatePhaseTransformationTemperature = nodes.atomistic.property.calphy.CalculatePhaseTransformationTemperature(t1=wf.SolidFreeEnergyWithTemperature.outputs.t, f1=wf.SolidFreeEnergyWithTemperature.outputs.f, t2=wf.LiquidFreeEnergyWithTemperature.outputs.t, f2=wf.LiquidFreeEnergyWithTemperature.outputs.f)\n",
    "\n",
    "    return wf.CalculatePhaseTransformationTemperature# .outputs.transition_temp #, wf.CalculatePhaseTransformationTemperature.outputs.plot\n",
    "\n",
    "    "
   ]
  },
  {
   "cell_type": "markdown",
   "id": "41ab2644-7b49-47be-9954-af31b8210b4b",
   "metadata": {},
   "source": [
    "It appears that macro of a macro does not work\n",
    "- check!!"
   ]
  },
  {
   "cell_type": "markdown",
   "id": "4baeecdc-ff90-4a16-925d-3a9a255d3cd5",
   "metadata": {},
   "source": [
    "It does now! Calphy runs are costly, so we demo this separately now\n",
    "\n",
    "Aside on macros within macros:"
   ]
  },
  {
   "cell_type": "code",
   "execution_count": 99,
   "id": "115431abd49d284b",
   "metadata": {},
   "outputs": [
    {
     "data": {
      "text/plain": [
       "2"
      ]
     },
     "execution_count": 99,
     "metadata": {},
     "output_type": "execute_result"
    }
   ],
   "source": [
    "@pc.as_function_node\n",
    "def AddOne(x):\n",
    "    y = x + 1\n",
    "    return y\n",
    "    \n",
    "@pc.as_macro_node([\"y\"])\n",
    "def AddTwo(x):\n",
    "    wf = pc.Workflow(\"add_two_subgraph\")\n",
    "    wf.n1 = AddOne(x)\n",
    "    wf.n2 = AddOne(wf.n1)\n",
    "    return wf.n2\n",
    "\n",
    "@pc.as_macro_node([\"y\"])\n",
    "def AddThree(x):\n",
    "    wf = pc.Workflow(\"add_three_subgraph\")\n",
    "    wf.n1 = AddOne(x)\n",
    "    wf.n2 = AddTwo(x)\n",
    "    return wf.n2\n",
    "\n",
    "wf = pc.Workflow(\"nested_macro_demo\")\n",
    "wf.nested = AddThree(0)\n",
    "wf.run()"
   ]
  },
  {
   "cell_type": "markdown",
   "id": "1eeef875-68f1-4ce4-ad4e-6032d78361fc",
   "metadata": {},
   "source": [
    "Note that nesting graph groups is currently still problematic: https://github.com/JNmpi/pyiron_core/issues/50\n",
    "\n",
    "End aside on macros within macros"
   ]
  },
  {
   "cell_type": "code",
   "execution_count": 100,
   "id": "951223034199a488",
   "metadata": {},
   "outputs": [],
   "source": [
    "@pc.as_macro_node(\"transition_temperature\")\n",
    "def calphy2(element: str, cell_size: int = 1, solid_fraction: float = 0.7):\n",
    "\n",
    "    from pyiron_core import nodes, Workflow\n",
    "\n",
    "    wf = Workflow('calphy2')\n",
    "    wf.CubicBulkCell = nodes.atomistic.structure.build.CubicBulkCell(element=element, cell_size=cell_size)\n",
    "\n",
    "    return wf.CubicBulkCell"
   ]
  },
  {
   "cell_type": "code",
   "execution_count": 101,
   "id": "97441b669c659e84",
   "metadata": {},
   "outputs": [
    {
     "data": {
      "text/html": [
       "<div>\n",
       "<style scoped>\n",
       "    .dataframe tbody tr th:only-of-type {\n",
       "        vertical-align: middle;\n",
       "    }\n",
       "\n",
       "    .dataframe tbody tr th {\n",
       "        vertical-align: top;\n",
       "    }\n",
       "\n",
       "    .dataframe thead th {\n",
       "        text-align: right;\n",
       "    }\n",
       "</style>\n",
       "<table border=\"1\" class=\"dataframe\">\n",
       "  <thead>\n",
       "    <tr style=\"text-align: right;\">\n",
       "      <th></th>\n",
       "      <th>id</th>\n",
       "      <th>import_path</th>\n",
       "      <th>label</th>\n",
       "      <th>parent_id</th>\n",
       "      <th>level</th>\n",
       "      <th>node</th>\n",
       "      <th>graph</th>\n",
       "      <th>node_type</th>\n",
       "      <th>widget_type</th>\n",
       "      <th>expanded</th>\n",
       "    </tr>\n",
       "  </thead>\n",
       "  <tbody>\n",
       "    <tr>\n",
       "      <th>0</th>\n",
       "      <td>CubicBulkCell</td>\n",
       "      <td>pyiron_core.pyiron_nodes.atomistic.structure.b...</td>\n",
       "      <td>CubicBulkCell</td>\n",
       "      <td>None</td>\n",
       "      <td>0</td>\n",
       "      <td>&lt;pyiron_core.pyiron_workflow.simple_workflow.N...</td>\n",
       "      <td>Graph(id=None, label='CubicBulkCell', root_nod...</td>\n",
       "      <td>graph</td>\n",
       "      <td>customNode</td>\n",
       "      <td>True</td>\n",
       "    </tr>\n",
       "    <tr>\n",
       "      <th>1</th>\n",
       "      <td>va_i_CubicBulkCell__element</td>\n",
       "      <td>pyiron_core.pyiron_workflow.api.serial.identity</td>\n",
       "      <td>va_i_CubicBulkCell__element</td>\n",
       "      <td>CubicBulkCell</td>\n",
       "      <td>1</td>\n",
       "      <td>&lt;pyiron_core.pyiron_workflow.simple_workflow.N...</td>\n",
       "      <td>None</td>\n",
       "      <td>node</td>\n",
       "      <td>customNode</td>\n",
       "      <td>False</td>\n",
       "    </tr>\n",
       "    <tr>\n",
       "      <th>2</th>\n",
       "      <td>va_i_CubicBulkCell__cell_size</td>\n",
       "      <td>pyiron_core.pyiron_workflow.api.serial.identity</td>\n",
       "      <td>va_i_CubicBulkCell__cell_size</td>\n",
       "      <td>CubicBulkCell</td>\n",
       "      <td>1</td>\n",
       "      <td>&lt;pyiron_core.pyiron_workflow.simple_workflow.N...</td>\n",
       "      <td>None</td>\n",
       "      <td>node</td>\n",
       "      <td>customNode</td>\n",
       "      <td>False</td>\n",
       "    </tr>\n",
       "    <tr>\n",
       "      <th>3</th>\n",
       "      <td>va_i_CubicBulkCell__vacancy_index</td>\n",
       "      <td>pyiron_core.pyiron_workflow.api.serial.identity</td>\n",
       "      <td>va_i_CubicBulkCell__vacancy_index</td>\n",
       "      <td>CubicBulkCell</td>\n",
       "      <td>1</td>\n",
       "      <td>&lt;pyiron_core.pyiron_workflow.simple_workflow.N...</td>\n",
       "      <td>None</td>\n",
       "      <td>node</td>\n",
       "      <td>customNode</td>\n",
       "      <td>False</td>\n",
       "    </tr>\n",
       "    <tr>\n",
       "      <th>4</th>\n",
       "      <td>bulk</td>\n",
       "      <td>pyiron_core.pyiron_nodes.atomistic.structure.b...</td>\n",
       "      <td>bulk</td>\n",
       "      <td>CubicBulkCell</td>\n",
       "      <td>1</td>\n",
       "      <td>&lt;pyiron_core.pyiron_workflow.simple_workflow.N...</td>\n",
       "      <td>None</td>\n",
       "      <td>node</td>\n",
       "      <td>customNode</td>\n",
       "      <td>False</td>\n",
       "    </tr>\n",
       "    <tr>\n",
       "      <th>5</th>\n",
       "      <td>repeat</td>\n",
       "      <td>pyiron_core.pyiron_nodes.atomistic.structure.t...</td>\n",
       "      <td>repeat</td>\n",
       "      <td>CubicBulkCell</td>\n",
       "      <td>1</td>\n",
       "      <td>&lt;pyiron_core.pyiron_workflow.simple_workflow.N...</td>\n",
       "      <td>None</td>\n",
       "      <td>node</td>\n",
       "      <td>customNode</td>\n",
       "      <td>False</td>\n",
       "    </tr>\n",
       "    <tr>\n",
       "      <th>6</th>\n",
       "      <td>vacancy</td>\n",
       "      <td>pyiron_core.pyiron_nodes.atomistic.structure.t...</td>\n",
       "      <td>vacancy</td>\n",
       "      <td>CubicBulkCell</td>\n",
       "      <td>1</td>\n",
       "      <td>&lt;pyiron_core.pyiron_workflow.simple_workflow.N...</td>\n",
       "      <td>None</td>\n",
       "      <td>node</td>\n",
       "      <td>customNode</td>\n",
       "      <td>False</td>\n",
       "    </tr>\n",
       "    <tr>\n",
       "      <th>7</th>\n",
       "      <td>va_o_CubicBulkCell__structure</td>\n",
       "      <td>pyiron_core.pyiron_workflow.api.serial.identity</td>\n",
       "      <td>va_o_CubicBulkCell__structure</td>\n",
       "      <td>CubicBulkCell</td>\n",
       "      <td>1</td>\n",
       "      <td>&lt;pyiron_core.pyiron_workflow.simple_workflow.N...</td>\n",
       "      <td>None</td>\n",
       "      <td>node</td>\n",
       "      <td>customNode</td>\n",
       "      <td>False</td>\n",
       "    </tr>\n",
       "  </tbody>\n",
       "</table>\n",
       "</div>"
      ],
      "text/plain": [
       "Nodes([('CubicBulkCell',\n",
       "        GraphNode(id='CubicBulkCell', import_path='pyiron_core.pyiron_nodes.atomistic.structure.build.CubicBulkCell', label='CubicBulkCell', parent_id=None, level=0, node=<pyiron_core.pyiron_workflow.simple_workflow.Node object at 0x322648080>, graph=Graph(id=None, label='CubicBulkCell', root_node=None, nodes=NestedDict({'va_i_CubicBulkCell__element': GraphNode(id='va_i_CubicBulkCell__element', import_path='pyiron_core.pyiron_workflow.api.serial.identity', label='va_i_CubicBulkCell__element', parent_id='CubicBulkCell', level=1, node=<pyiron_core.pyiron_workflow.simple_workflow.Node object at 0x323d59880>, graph=None, node_type='node', widget_type='customNode', expanded=False), 'va_i_CubicBulkCell__cell_size': GraphNode(id='va_i_CubicBulkCell__cell_size', import_path='pyiron_core.pyiron_workflow.api.serial.identity', label='va_i_CubicBulkCell__cell_size', parent_id='CubicBulkCell', level=1, node=<pyiron_core.pyiron_workflow.simple_workflow.Node object at 0x32264df40>, graph=None, node_type='node', widget_type='customNode', expanded=False), 'va_i_CubicBulkCell__vacancy_index': GraphNode(id='va_i_CubicBulkCell__vacancy_index', import_path='pyiron_core.pyiron_workflow.api.serial.identity', label='va_i_CubicBulkCell__vacancy_index', parent_id='CubicBulkCell', level=1, node=<pyiron_core.pyiron_workflow.simple_workflow.Node object at 0x32264ffb0>, graph=None, node_type='node', widget_type='customNode', expanded=False), 'bulk': GraphNode(id='bulk', import_path='pyiron_core.pyiron_nodes.atomistic.structure.build.Bulk', label='bulk', parent_id='CubicBulkCell', level=1, node=<pyiron_core.pyiron_workflow.simple_workflow.Node object at 0x32264fe00>, graph=None, node_type='node', widget_type='customNode', expanded=False), 'repeat': GraphNode(id='repeat', import_path='pyiron_core.pyiron_nodes.atomistic.structure.transform.Repeat', label='repeat', parent_id='CubicBulkCell', level=1, node=<pyiron_core.pyiron_workflow.simple_workflow.Node object at 0x32264e0c0>, graph=None, node_type='node', widget_type='customNode', expanded=False), 'vacancy': GraphNode(id='vacancy', import_path='pyiron_core.pyiron_nodes.atomistic.structure.transform.CreateVacancy', label='vacancy', parent_id='CubicBulkCell', level=1, node=<pyiron_core.pyiron_workflow.simple_workflow.Node object at 0x32264ff80>, graph=None, node_type='node', widget_type='customNode', expanded=False), 'va_o_CubicBulkCell__structure': GraphNode(id='va_o_CubicBulkCell__structure', import_path='pyiron_core.pyiron_workflow.api.serial.identity', label='va_o_CubicBulkCell__structure', parent_id='CubicBulkCell', level=1, node=<pyiron_core.pyiron_workflow.simple_workflow.Node object at 0x31e021e80>, graph=None, node_type='node', widget_type='customNode', expanded=False)}), edges=[GraphEdge(source='va_i_CubicBulkCell__element', target='bulk', sourceHandle='x', targetHandle='name'), GraphEdge(source='va_i_CubicBulkCell__cell_size', target='repeat', sourceHandle='x', targetHandle='repeat_scalar'), GraphEdge(source='va_i_CubicBulkCell__vacancy_index', target='vacancy', sourceHandle='x', targetHandle='index'), GraphEdge(source='bulk', target='repeat', sourceHandle='structure', targetHandle='structure'), GraphEdge(source='repeat', target='vacancy', sourceHandle='structure', targetHandle='structure'), GraphEdge(source='vacancy', target='va_o_CubicBulkCell__structure', sourceHandle='structure', targetHandle='x')], graph={}), node_type='graph', widget_type='customNode', expanded=True)),\n",
       "       ('va_i_CubicBulkCell__element',\n",
       "        GraphNode(id='va_i_CubicBulkCell__element', import_path='pyiron_core.pyiron_workflow.api.serial.identity', label='va_i_CubicBulkCell__element', parent_id='CubicBulkCell', level=1, node=<pyiron_core.pyiron_workflow.simple_workflow.Node object at 0x323d59880>, graph=None, node_type='node', widget_type='customNode', expanded=False)),\n",
       "       ('va_i_CubicBulkCell__cell_size',\n",
       "        GraphNode(id='va_i_CubicBulkCell__cell_size', import_path='pyiron_core.pyiron_workflow.api.serial.identity', label='va_i_CubicBulkCell__cell_size', parent_id='CubicBulkCell', level=1, node=<pyiron_core.pyiron_workflow.simple_workflow.Node object at 0x32264df40>, graph=None, node_type='node', widget_type='customNode', expanded=False)),\n",
       "       ('va_i_CubicBulkCell__vacancy_index',\n",
       "        GraphNode(id='va_i_CubicBulkCell__vacancy_index', import_path='pyiron_core.pyiron_workflow.api.serial.identity', label='va_i_CubicBulkCell__vacancy_index', parent_id='CubicBulkCell', level=1, node=<pyiron_core.pyiron_workflow.simple_workflow.Node object at 0x32264ffb0>, graph=None, node_type='node', widget_type='customNode', expanded=False)),\n",
       "       ('bulk',\n",
       "        GraphNode(id='bulk', import_path='pyiron_core.pyiron_nodes.atomistic.structure.build.Bulk', label='bulk', parent_id='CubicBulkCell', level=1, node=<pyiron_core.pyiron_workflow.simple_workflow.Node object at 0x32264fe00>, graph=None, node_type='node', widget_type='customNode', expanded=False)),\n",
       "       ('repeat',\n",
       "        GraphNode(id='repeat', import_path='pyiron_core.pyiron_nodes.atomistic.structure.transform.Repeat', label='repeat', parent_id='CubicBulkCell', level=1, node=<pyiron_core.pyiron_workflow.simple_workflow.Node object at 0x32264e0c0>, graph=None, node_type='node', widget_type='customNode', expanded=False)),\n",
       "       ('vacancy',\n",
       "        GraphNode(id='vacancy', import_path='pyiron_core.pyiron_nodes.atomistic.structure.transform.CreateVacancy', label='vacancy', parent_id='CubicBulkCell', level=1, node=<pyiron_core.pyiron_workflow.simple_workflow.Node object at 0x32264ff80>, graph=None, node_type='node', widget_type='customNode', expanded=False)),\n",
       "       ('va_o_CubicBulkCell__structure',\n",
       "        GraphNode(id='va_o_CubicBulkCell__structure', import_path='pyiron_core.pyiron_workflow.api.serial.identity', label='va_o_CubicBulkCell__structure', parent_id='CubicBulkCell', level=1, node=<pyiron_core.pyiron_workflow.simple_workflow.Node object at 0x31e021e80>, graph=None, node_type='node', widget_type='customNode', expanded=False))])"
      ]
     },
     "execution_count": 101,
     "metadata": {},
     "output_type": "execute_result"
    }
   ],
   "source": [
    "graph = base.Graph()\n",
    "graph += nodes.atomistic.structure.build.CubicBulkCell(element=\"Al\")\n",
    "graph.nodes"
   ]
  },
  {
   "cell_type": "code",
   "execution_count": 102,
   "id": "7a165d4785bae102",
   "metadata": {},
   "outputs": [
    {
     "data": {
      "text/html": [
       "<div>\n",
       "<style scoped>\n",
       "    .dataframe tbody tr th:only-of-type {\n",
       "        vertical-align: middle;\n",
       "    }\n",
       "\n",
       "    .dataframe tbody tr th {\n",
       "        vertical-align: top;\n",
       "    }\n",
       "\n",
       "    .dataframe thead th {\n",
       "        text-align: right;\n",
       "    }\n",
       "</style>\n",
       "<table border=\"1\" class=\"dataframe\">\n",
       "  <thead>\n",
       "    <tr style=\"text-align: right;\">\n",
       "      <th></th>\n",
       "      <th>id</th>\n",
       "      <th>import_path</th>\n",
       "      <th>label</th>\n",
       "      <th>parent_id</th>\n",
       "      <th>level</th>\n",
       "      <th>node</th>\n",
       "      <th>graph</th>\n",
       "      <th>node_type</th>\n",
       "      <th>widget_type</th>\n",
       "      <th>expanded</th>\n",
       "    </tr>\n",
       "  </thead>\n",
       "  <tbody>\n",
       "    <tr>\n",
       "      <th>0</th>\n",
       "      <td>CubicBulkCell</td>\n",
       "      <td>pyiron_core.pyiron_nodes.atomistic.structure.b...</td>\n",
       "      <td>CubicBulkCell</td>\n",
       "      <td>None</td>\n",
       "      <td>0</td>\n",
       "      <td>&lt;pyiron_core.pyiron_workflow.simple_workflow.N...</td>\n",
       "      <td>Graph(id=None, label='CubicBulkCell', root_nod...</td>\n",
       "      <td>graph</td>\n",
       "      <td>customNode</td>\n",
       "      <td>True</td>\n",
       "    </tr>\n",
       "    <tr>\n",
       "      <th>1</th>\n",
       "      <td>va_i_CubicBulkCell__vacancy_index</td>\n",
       "      <td>pyiron_core.pyiron_workflow.api.serial.identity</td>\n",
       "      <td>va_i_CubicBulkCell__vacancy_index</td>\n",
       "      <td>CubicBulkCell</td>\n",
       "      <td>1</td>\n",
       "      <td>&lt;pyiron_core.pyiron_workflow.simple_workflow.N...</td>\n",
       "      <td>None</td>\n",
       "      <td>node</td>\n",
       "      <td>customNode</td>\n",
       "      <td>False</td>\n",
       "    </tr>\n",
       "    <tr>\n",
       "      <th>2</th>\n",
       "      <td>va_i_calphy2__element</td>\n",
       "      <td>pyiron_core.pyiron_workflow.api.serial.identity</td>\n",
       "      <td>va_i_calphy2__element</td>\n",
       "      <td>None</td>\n",
       "      <td>0</td>\n",
       "      <td>&lt;pyiron_core.pyiron_workflow.simple_workflow.N...</td>\n",
       "      <td>None</td>\n",
       "      <td>node</td>\n",
       "      <td>customNode</td>\n",
       "      <td>False</td>\n",
       "    </tr>\n",
       "    <tr>\n",
       "      <th>3</th>\n",
       "      <td>va_i_calphy2__cell_size</td>\n",
       "      <td>pyiron_core.pyiron_workflow.api.serial.identity</td>\n",
       "      <td>va_i_calphy2__cell_size</td>\n",
       "      <td>None</td>\n",
       "      <td>0</td>\n",
       "      <td>&lt;pyiron_core.pyiron_workflow.simple_workflow.N...</td>\n",
       "      <td>None</td>\n",
       "      <td>node</td>\n",
       "      <td>customNode</td>\n",
       "      <td>False</td>\n",
       "    </tr>\n",
       "    <tr>\n",
       "      <th>4</th>\n",
       "      <td>va_i_CubicBulkCell__element</td>\n",
       "      <td>pyiron_core.pyiron_workflow.api.serial.identity</td>\n",
       "      <td>va_i_CubicBulkCell__element</td>\n",
       "      <td>CubicBulkCell</td>\n",
       "      <td>1</td>\n",
       "      <td>&lt;pyiron_core.pyiron_workflow.simple_workflow.N...</td>\n",
       "      <td>None</td>\n",
       "      <td>node</td>\n",
       "      <td>customNode</td>\n",
       "      <td>False</td>\n",
       "    </tr>\n",
       "    <tr>\n",
       "      <th>5</th>\n",
       "      <td>va_i_CubicBulkCell__cell_size</td>\n",
       "      <td>pyiron_core.pyiron_workflow.api.serial.identity</td>\n",
       "      <td>va_i_CubicBulkCell__cell_size</td>\n",
       "      <td>CubicBulkCell</td>\n",
       "      <td>1</td>\n",
       "      <td>&lt;pyiron_core.pyiron_workflow.simple_workflow.N...</td>\n",
       "      <td>None</td>\n",
       "      <td>node</td>\n",
       "      <td>customNode</td>\n",
       "      <td>False</td>\n",
       "    </tr>\n",
       "    <tr>\n",
       "      <th>6</th>\n",
       "      <td>bulk</td>\n",
       "      <td>pyiron_core.pyiron_nodes.atomistic.structure.b...</td>\n",
       "      <td>bulk</td>\n",
       "      <td>CubicBulkCell</td>\n",
       "      <td>1</td>\n",
       "      <td>&lt;pyiron_core.pyiron_workflow.simple_workflow.N...</td>\n",
       "      <td>None</td>\n",
       "      <td>node</td>\n",
       "      <td>customNode</td>\n",
       "      <td>False</td>\n",
       "    </tr>\n",
       "    <tr>\n",
       "      <th>7</th>\n",
       "      <td>repeat</td>\n",
       "      <td>pyiron_core.pyiron_nodes.atomistic.structure.t...</td>\n",
       "      <td>repeat</td>\n",
       "      <td>CubicBulkCell</td>\n",
       "      <td>1</td>\n",
       "      <td>&lt;pyiron_core.pyiron_workflow.simple_workflow.N...</td>\n",
       "      <td>None</td>\n",
       "      <td>node</td>\n",
       "      <td>customNode</td>\n",
       "      <td>False</td>\n",
       "    </tr>\n",
       "    <tr>\n",
       "      <th>8</th>\n",
       "      <td>vacancy</td>\n",
       "      <td>pyiron_core.pyiron_nodes.atomistic.structure.t...</td>\n",
       "      <td>vacancy</td>\n",
       "      <td>CubicBulkCell</td>\n",
       "      <td>1</td>\n",
       "      <td>&lt;pyiron_core.pyiron_workflow.simple_workflow.N...</td>\n",
       "      <td>None</td>\n",
       "      <td>node</td>\n",
       "      <td>customNode</td>\n",
       "      <td>False</td>\n",
       "    </tr>\n",
       "    <tr>\n",
       "      <th>9</th>\n",
       "      <td>va_o_CubicBulkCell__structure</td>\n",
       "      <td>pyiron_core.pyiron_workflow.api.serial.identity</td>\n",
       "      <td>va_o_CubicBulkCell__structure</td>\n",
       "      <td>CubicBulkCell</td>\n",
       "      <td>1</td>\n",
       "      <td>&lt;pyiron_core.pyiron_workflow.simple_workflow.N...</td>\n",
       "      <td>None</td>\n",
       "      <td>node</td>\n",
       "      <td>customNode</td>\n",
       "      <td>False</td>\n",
       "    </tr>\n",
       "    <tr>\n",
       "      <th>10</th>\n",
       "      <td>va_o_calphy2__transition_temperature</td>\n",
       "      <td>pyiron_core.pyiron_workflow.api.serial.identity</td>\n",
       "      <td>va_o_calphy2__transition_temperature</td>\n",
       "      <td>None</td>\n",
       "      <td>0</td>\n",
       "      <td>&lt;pyiron_core.pyiron_workflow.simple_workflow.N...</td>\n",
       "      <td>None</td>\n",
       "      <td>node</td>\n",
       "      <td>customNode</td>\n",
       "      <td>False</td>\n",
       "    </tr>\n",
       "  </tbody>\n",
       "</table>\n",
       "</div>"
      ],
      "text/plain": [
       "NestedDict([('CubicBulkCell',\n",
       "             GraphNode(id='CubicBulkCell', import_path='pyiron_core.pyiron_nodes.atomistic.structure.build.CubicBulkCell', label='CubicBulkCell', parent_id=None, level=0, node=<pyiron_core.pyiron_workflow.simple_workflow.Node object at 0x32264b890>, graph=Graph(id=None, label='CubicBulkCell', root_node=None, nodes=NestedDict({'va_i_CubicBulkCell__element': GraphNode(id='va_i_CubicBulkCell__element', import_path='pyiron_core.pyiron_workflow.api.serial.identity', label='va_i_CubicBulkCell__element', parent_id='CubicBulkCell', level=1, node=<pyiron_core.pyiron_workflow.simple_workflow.Node object at 0x31dc8ca40>, graph=None, node_type='node', widget_type='customNode', expanded=False), 'va_i_CubicBulkCell__cell_size': GraphNode(id='va_i_CubicBulkCell__cell_size', import_path='pyiron_core.pyiron_workflow.api.serial.identity', label='va_i_CubicBulkCell__cell_size', parent_id='CubicBulkCell', level=1, node=<pyiron_core.pyiron_workflow.simple_workflow.Node object at 0x31dc8f800>, graph=None, node_type='node', widget_type='customNode', expanded=False), 'va_i_CubicBulkCell__vacancy_index': GraphNode(id='va_i_CubicBulkCell__vacancy_index', import_path='pyiron_core.pyiron_workflow.api.serial.identity', label='va_i_CubicBulkCell__vacancy_index', parent_id='CubicBulkCell', level=1, node=<pyiron_core.pyiron_workflow.simple_workflow.Node object at 0x31dc8e540>, graph=None, node_type='node', widget_type='customNode', expanded=False), 'bulk': GraphNode(id='bulk', import_path='pyiron_core.pyiron_nodes.atomistic.structure.build.Bulk', label='bulk', parent_id='CubicBulkCell', level=1, node=<pyiron_core.pyiron_workflow.simple_workflow.Node object at 0x31e020da0>, graph=None, node_type='node', widget_type='customNode', expanded=False), 'repeat': GraphNode(id='repeat', import_path='pyiron_core.pyiron_nodes.atomistic.structure.transform.Repeat', label='repeat', parent_id='CubicBulkCell', level=1, node=<pyiron_core.pyiron_workflow.simple_workflow.Node object at 0x31e020d10>, graph=None, node_type='node', widget_type='customNode', expanded=False), 'vacancy': GraphNode(id='vacancy', import_path='pyiron_core.pyiron_nodes.atomistic.structure.transform.CreateVacancy', label='vacancy', parent_id='CubicBulkCell', level=1, node=<pyiron_core.pyiron_workflow.simple_workflow.Node object at 0x31e023c50>, graph=None, node_type='node', widget_type='customNode', expanded=False), 'va_o_CubicBulkCell__structure': GraphNode(id='va_o_CubicBulkCell__structure', import_path='pyiron_core.pyiron_workflow.api.serial.identity', label='va_o_CubicBulkCell__structure', parent_id='CubicBulkCell', level=1, node=<pyiron_core.pyiron_workflow.simple_workflow.Node object at 0x31dc8c6e0>, graph=None, node_type='node', widget_type='customNode', expanded=False)}), edges=[GraphEdge(source='va_i_CubicBulkCell__element', target='bulk', sourceHandle='x', targetHandle='name'), GraphEdge(source='va_i_CubicBulkCell__cell_size', target='repeat', sourceHandle='x', targetHandle='repeat_scalar'), GraphEdge(source='va_i_CubicBulkCell__vacancy_index', target='vacancy', sourceHandle='x', targetHandle='index'), GraphEdge(source='bulk', target='repeat', sourceHandle='structure', targetHandle='structure'), GraphEdge(source='repeat', target='vacancy', sourceHandle='structure', targetHandle='structure'), GraphEdge(source='vacancy', target='va_o_CubicBulkCell__structure', sourceHandle='structure', targetHandle='x')], graph={}), node_type='graph', widget_type='customNode', expanded=True)),\n",
       "            ('va_i_CubicBulkCell__vacancy_index',\n",
       "             GraphNode(id='va_i_CubicBulkCell__vacancy_index', import_path='pyiron_core.pyiron_workflow.api.serial.identity', label='va_i_CubicBulkCell__vacancy_index', parent_id='CubicBulkCell', level=1, node=<pyiron_core.pyiron_workflow.simple_workflow.Node object at 0x31dc8e540>, graph=None, node_type='node', widget_type='customNode', expanded=False)),\n",
       "            ('va_i_calphy2__element',\n",
       "             GraphNode(id='va_i_calphy2__element', import_path='pyiron_core.pyiron_workflow.api.serial.identity', label='va_i_calphy2__element', parent_id=None, level=0, node=<pyiron_core.pyiron_workflow.simple_workflow.Node object at 0x31dc8f470>, graph=None, node_type='node', widget_type='customNode', expanded=False)),\n",
       "            ('va_i_calphy2__cell_size',\n",
       "             GraphNode(id='va_i_calphy2__cell_size', import_path='pyiron_core.pyiron_workflow.api.serial.identity', label='va_i_calphy2__cell_size', parent_id=None, level=0, node=<pyiron_core.pyiron_workflow.simple_workflow.Node object at 0x31dc8eea0>, graph=None, node_type='node', widget_type='customNode', expanded=False)),\n",
       "            ('va_i_CubicBulkCell__element',\n",
       "             GraphNode(id='va_i_CubicBulkCell__element', import_path='pyiron_core.pyiron_workflow.api.serial.identity', label='va_i_CubicBulkCell__element', parent_id='CubicBulkCell', level=1, node=<pyiron_core.pyiron_workflow.simple_workflow.Node object at 0x31dc8ca40>, graph=None, node_type='node', widget_type='customNode', expanded=False)),\n",
       "            ('va_i_CubicBulkCell__cell_size',\n",
       "             GraphNode(id='va_i_CubicBulkCell__cell_size', import_path='pyiron_core.pyiron_workflow.api.serial.identity', label='va_i_CubicBulkCell__cell_size', parent_id='CubicBulkCell', level=1, node=<pyiron_core.pyiron_workflow.simple_workflow.Node object at 0x31dc8f800>, graph=None, node_type='node', widget_type='customNode', expanded=False)),\n",
       "            ('bulk',\n",
       "             GraphNode(id='bulk', import_path='pyiron_core.pyiron_nodes.atomistic.structure.build.Bulk', label='bulk', parent_id='CubicBulkCell', level=1, node=<pyiron_core.pyiron_workflow.simple_workflow.Node object at 0x31e020da0>, graph=None, node_type='node', widget_type='customNode', expanded=False)),\n",
       "            ('repeat',\n",
       "             GraphNode(id='repeat', import_path='pyiron_core.pyiron_nodes.atomistic.structure.transform.Repeat', label='repeat', parent_id='CubicBulkCell', level=1, node=<pyiron_core.pyiron_workflow.simple_workflow.Node object at 0x31e020d10>, graph=None, node_type='node', widget_type='customNode', expanded=False)),\n",
       "            ('vacancy',\n",
       "             GraphNode(id='vacancy', import_path='pyiron_core.pyiron_nodes.atomistic.structure.transform.CreateVacancy', label='vacancy', parent_id='CubicBulkCell', level=1, node=<pyiron_core.pyiron_workflow.simple_workflow.Node object at 0x31e023c50>, graph=None, node_type='node', widget_type='customNode', expanded=False)),\n",
       "            ('va_o_CubicBulkCell__structure',\n",
       "             GraphNode(id='va_o_CubicBulkCell__structure', import_path='pyiron_core.pyiron_workflow.api.serial.identity', label='va_o_CubicBulkCell__structure', parent_id='CubicBulkCell', level=1, node=<pyiron_core.pyiron_workflow.simple_workflow.Node object at 0x31dc8c6e0>, graph=None, node_type='node', widget_type='customNode', expanded=False)),\n",
       "            ('va_o_calphy2__transition_temperature',\n",
       "             GraphNode(id='va_o_calphy2__transition_temperature', import_path='pyiron_core.pyiron_workflow.api.serial.identity', label='va_o_calphy2__transition_temperature', parent_id=None, level=0, node=<pyiron_core.pyiron_workflow.simple_workflow.Node object at 0x31dc8e240>, graph=None, node_type='node', widget_type='customNode', expanded=False))])"
      ]
     },
     "execution_count": 102,
     "metadata": {},
     "output_type": "execute_result"
    }
   ],
   "source": [
    "n = calphy2(element=\"Al\")\n",
    "graph = base.get_graph_from_macro_node(n)\n",
    "graph.nodes"
   ]
  },
  {
   "cell_type": "code",
   "execution_count": 103,
   "id": "c74dfebd4abdbcb4",
   "metadata": {},
   "outputs": [],
   "source": [
    "@pc.as_macro_node(\"structure\")\n",
    "def CubicBulkCell(\n",
    "    element: str, cell_size: int = 1, vacancy_index: Optional[int] = None\n",
    "):\n",
    "\n",
    "    from pyiron_core import Workflow\n",
    "    from pyiron_core.pyiron_nodes.atomistic.structure.build import Bulk\n",
    "    from pyiron_core.pyiron_nodes.atomistic.structure.transform import (\n",
    "        CreateVacancy,\n",
    "        Repeat,\n",
    "    )\n",
    "\n",
    "\n",
    "    wf = Workflow('macro')\n",
    "\n",
    "    wf.bulk = Bulk(name=element, cubic=True)\n",
    "    wf.repeat = Repeat(structure=wf.bulk, repeat_scalar=cell_size)\n",
    "\n",
    "    wf.vacancy = CreateVacancy(structure=wf.repeat, index=vacancy_index)\n",
    "    return wf.vacancy"
   ]
  },
  {
   "cell_type": "code",
   "execution_count": 104,
   "id": "626ff19d1e4ad669",
   "metadata": {},
   "outputs": [
    {
     "name": "stderr",
     "output_type": "stream",
     "text": [
      "DEBUG:pyiron_log:Not supported parameter used!\n",
      "DEBUG:pyiron_log:Not supported parameter used!\n"
     ]
    },
    {
     "data": {
      "text/plain": [
       "Al: [0. 0. 0.]\n",
       "Al: [0.    2.025 2.025]\n",
       "Al: [2.025 0.    2.025]\n",
       "Al: [2.025 2.025 0.   ]\n",
       "tags: \n",
       "    indices: [0 0 0 0]\n",
       "pbc: [ True  True  True]\n",
       "cell: \n",
       "Cell([4.05, 4.05, 4.05])"
      ]
     },
     "execution_count": 104,
     "metadata": {},
     "output_type": "execute_result"
    }
   ],
   "source": [
    "CubicBulkCell(\"Al\").run()"
   ]
  },
  {
   "cell_type": "code",
   "execution_count": 105,
   "id": "b63e162107b1a67f",
   "metadata": {},
   "outputs": [
    {
     "data": {
      "text/plain": [
       "<pyiron_core.pyiron_workflow.simple_workflow.Node at 0x31dbe3050>"
      ]
     },
     "execution_count": 105,
     "metadata": {},
     "output_type": "execute_result"
    }
   ],
   "source": [
    "nodes.atomistic.structure.build.CubicBulkCell(element=\"Al\")"
   ]
  },
  {
   "cell_type": "code",
   "execution_count": 106,
   "id": "5ab6664763ec0191",
   "metadata": {},
   "outputs": [
    {
     "name": "stdout",
     "output_type": "stream",
     "text": [
      "[4, 6, 8]\n",
      "CPU times: user 49.5 ms, sys: 35.8 ms, total: 85.4 ms\n",
      "Wall time: 143 ms\n"
     ]
    }
   ],
   "source": [
    "%%time\n",
    "with executorlib.SingleNodeExecutor(max_workers=4, block_allocation=True) as exe:\n",
    "    future_lst = [exe.submit(sum, [i, i]) for i in range(2, 5)]\n",
    "    print([f.result() for f in future_lst])"
   ]
  },
  {
   "cell_type": "code",
   "execution_count": 107,
   "id": "9b1cb535-9f8d-4bdb-9434-fa9772021e23",
   "metadata": {
    "ExecuteTime": {
     "end_time": "2025-05-16T23:04:43.997091Z",
     "start_time": "2025-05-16T23:04:43.994845Z"
    }
   },
   "outputs": [],
   "source": [
    "PRIMES = [\n",
    "    112272535095293,\n",
    "    112582705942171,\n",
    "    112272535095293,\n",
    "    115280095190773,\n",
    "    115797848077099,\n",
    "    1099726899285419]\n",
    "\n",
    "def is_prime(n):\n",
    "    if n < 2:\n",
    "        return False\n",
    "    if n == 2:\n",
    "        return True\n",
    "    if n % 2 == 0:\n",
    "        return False\n",
    "\n",
    "    sqrt_n = int(math.floor(math.sqrt(n)))\n",
    "    for i in range(3, sqrt_n + 1, 2):\n",
    "        if n % i == 0:\n",
    "            return False\n",
    "    return True\n",
    "\n",
    "\n"
   ]
  },
  {
   "cell_type": "code",
   "execution_count": 108,
   "id": "82b26367-c463-4616-a301-47f26c717386",
   "metadata": {
    "ExecuteTime": {
     "end_time": "2025-05-16T23:04:44.317938Z",
     "start_time": "2025-05-16T23:04:44.020447Z"
    }
   },
   "outputs": [
    {
     "name": "stdout",
     "output_type": "stream",
     "text": [
      "[True, True, True, True, True, False]\n",
      "CPU times: user 25 ms, sys: 23.7 ms, total: 48.7 ms\n",
      "Wall time: 243 ms\n"
     ]
    }
   ],
   "source": [
    "%%time\n",
    "with executorlib.SingleNodeExecutor(max_workers=6, block_allocation=False) as exe:\n",
    "    future_lst = [exe.submit(is_prime, n) for n in PRIMES]\n",
    "    print([f.result() for f in future_lst])"
   ]
  },
  {
   "cell_type": "code",
   "execution_count": 109,
   "id": "2003a640ec4b80bf",
   "metadata": {},
   "outputs": [
    {
     "name": "stdout",
     "output_type": "stream",
     "text": [
      "[Al: [0. 0. 0.]\n",
      "tags: \n",
      "    indices: [0]\n",
      "pbc: [ True  True  True]\n",
      "cell: \n",
      "Cell([[0.0, 2.025, 2.025], [2.025, 0.0, 2.025], [2.025, 2.025, 0.0]])\n",
      ", Fe: [0. 0. 0.]\n",
      "tags: \n",
      "    indices: [0]\n",
      "    spin: [2.3]\n",
      "    initial_magmoms: [2.3]\n",
      "pbc: [ True  True  True]\n",
      "cell: \n",
      "Cell([[-1.435, 1.435, 1.435], [1.435, -1.435, 1.435], [1.435, 1.435, -1.435]])\n",
      ", Ni: [0. 0. 0.]\n",
      "tags: \n",
      "    indices: [0]\n",
      "    spin: [0.6]\n",
      "    initial_magmoms: [0.6]\n",
      "pbc: [ True  True  True]\n",
      "cell: \n",
      "Cell([[0.0, 1.76, 1.76], [1.76, 0.0, 1.76], [1.76, 1.76, 0.0]])\n",
      ", Zn: [0. 0. 0.]\n",
      "Zn: [4.92198874e-17 1.53575172e+00 2.46848000e+00]\n",
      "tags: \n",
      "    indices: [0 0]\n",
      "pbc: [ True  True  True]\n",
      "cell: \n",
      "Cell([[2.66, 0.0, 0.0], [-1.33, 2.303627574066607, 0.0], [0.0, 0.0, 4.936960000000001]])\n",
      "]\n",
      "CPU times: user 26.4 ms, sys: 17 ms, total: 43.4 ms\n",
      "Wall time: 1.43 s\n"
     ]
    }
   ],
   "source": [
    "%%time\n",
    "with executorlib.SingleNodeExecutor(max_workers=1, block_allocation=True) as exe:\n",
    "    future_lst = [exe.submit(nodes.atomistic.structure.build.Bulk()._func, n) for n in [\"Al\", \"Fe\", \"Ni\", \"Zn\"]]\n",
    "    print([f.result() for f in future_lst])"
   ]
  },
  {
   "cell_type": "code",
   "execution_count": 110,
   "id": "8494bc4c5ff828a0",
   "metadata": {},
   "outputs": [
    {
     "data": {
      "text/plain": [
       "'Aluminum'"
      ]
     },
     "execution_count": 110,
     "metadata": {},
     "output_type": "execute_result"
    }
   ],
   "source": [
    "Al = nodes.atomistic.structure.build.Bulk()._func('Al')\n",
    "Al.species[0].name"
   ]
  },
  {
   "cell_type": "code",
   "execution_count": 111,
   "id": "67d0b8f13a8ad212",
   "metadata": {},
   "outputs": [
    {
     "name": "stdout",
     "output_type": "stream",
     "text": [
      "Al\n",
      "Fe\n",
      "CPU times: user 1.18 ms, sys: 167 μs, total: 1.35 ms\n",
      "Wall time: 1.27 ms\n"
     ]
    }
   ],
   "source": [
    "%%time\n",
    "for n in [\"Al\", \"Fe\"]:\n",
    "    print(nodes.atomistic.structure.build.Bulk(n).run())"
   ]
  },
  {
   "cell_type": "code",
   "execution_count": 112,
   "id": "80d979fb1255860c",
   "metadata": {},
   "outputs": [
    {
     "name": "stdout",
     "output_type": "stream",
     "text": [
      "out:  Al\n",
      "Al: [0. 0. 0.]\n",
      "Al: [0.    2.025 2.025]\n",
      "Al: [2.025 0.    2.025]\n",
      "Al: [2.025 2.025 0.   ]\n",
      "tags: \n",
      "    indices: [0 0 0 0]\n",
      "pbc: [ True  True  True]\n",
      "cell: \n",
      "Cell([4.05, 4.05, 4.05])\n",
      "\n",
      "out:  Fe\n",
      "Fe: [0. 0. 0.]\n",
      "Fe: [1.435 1.435 1.435]\n",
      "tags: \n",
      "    indices: [0 0]\n",
      "    spin: [2.3 2.3]\n",
      "    initial_magmoms: [2.3 2.3]\n",
      "pbc: [ True  True  True]\n",
      "cell: \n",
      "Cell([2.87, 2.87, 2.87])\n",
      "\n"
     ]
    }
   ],
   "source": [
    "elements = ['Al', 'Fe']\n",
    "\n",
    "\n",
    "# We can use a with statement to ensure threads are cleaned up promptly\n",
    "with concurrent.futures.ThreadPoolExecutor(max_workers=1) as executor:\n",
    "    # Start the load operations and mark each future with its URL\n",
    "    futures = {executor.submit(nodes.atomistic.structure.build.Bulk()._func, el, **{'cubic': True}): el for el in elements}\n",
    "    for future in concurrent.futures.as_completed(futures):\n",
    "        out = futures[future]\n",
    "        print(\"out: \", out)\n",
    "\n",
    "        data = future.result()\n",
    "        print(data.__repr__())"
   ]
  },
  {
   "cell_type": "code",
   "execution_count": 113,
   "id": "73021549702739c4",
   "metadata": {},
   "outputs": [],
   "source": [
    "@pc.as_function_node\n",
    "def IterNode(node: pc.Node, kwarg_name: str, kwarg_list: list, max_workers: int=1, executor=None):\n",
    "    # from concurrent.futures import ThreadPoolExecutor as Executor\n",
    "    from executorlib import SingleNodeExecutor as Executor\n",
    "    from concurrent.futures import as_completed\n",
    "\n",
    "    out_dict = dict()\n",
    "    with Executor(max_workers=max_workers) as executor:\n",
    "        # Start the load operations and mark each future with its index\n",
    "        futures = {executor.submit(node._func, **{kwarg_name: el}): el for el in kwarg_list}\n",
    "        for future in as_completed(futures):\n",
    "            out = futures[future]    \n",
    "            data = future.result()\n",
    "            out_dict[out] = data.species[0].name\n",
    "            \n",
    "            # print(\"out: \", out)\n",
    "            # print(data.__repr__())\n",
    "            \n",
    "    return out_dict\n",
    "    "
   ]
  },
  {
   "cell_type": "code",
   "execution_count": 114,
   "id": "456639a345db788e",
   "metadata": {},
   "outputs": [
    {
     "name": "stdout",
     "output_type": "stream",
     "text": [
      "copy node:  Bulk 8a76d7455b629820a4c4467fb7d92b8cd8ff6744a9264c3f841e9bbabd03807d\n",
      "CPU times: user 134 ms, sys: 17.7 ms, total: 152 ms\n",
      "Wall time: 1.27 s\n"
     ]
    },
    {
     "data": {
      "text/plain": [
       "{'Fe': 'Iron', 'Al': 'Aluminum'}"
      ]
     },
     "execution_count": 114,
     "metadata": {},
     "output_type": "execute_result"
    }
   ],
   "source": [
    "%%time\n",
    "elements = ['Al', 'Fe']\n",
    "\n",
    "IterNode(nodes.atomistic.structure.build.Bulk(), \"name\", elements, max_workers=2).run()"
   ]
  },
  {
   "cell_type": "code",
   "execution_count": 115,
   "id": "91e3f62e214ea97d",
   "metadata": {},
   "outputs": [
    {
     "data": {
      "text/plain": [
       "array([3, 1, 8])"
      ]
     },
     "execution_count": 115,
     "metadata": {},
     "output_type": "execute_result"
    }
   ],
   "source": [
    "# Define the matrix mat and the index array ind1\n",
    "mat = np.array([[0, 1, 2],\n",
    "                [3, 4, 5],\n",
    "                [6, 7, 8]])\n",
    "\n",
    "ind1 = np.array([1, 0, 2])\n",
    "\n",
    "# Compute v using advanced indexing\n",
    "v = mat[ind1, np.arange(len(ind1))]\n",
    "\n",
    "v  # Output: [3, 1, 8]"
   ]
  },
  {
   "cell_type": "code",
   "execution_count": 116,
   "id": "2b7b320296d5eb8",
   "metadata": {},
   "outputs": [],
   "source": [
    "n = nodes.atomistic.structure.build.Bulk(\"Al\")"
   ]
  },
  {
   "cell_type": "code",
   "execution_count": 117,
   "id": "bdd1f691a152e930",
   "metadata": {},
   "outputs": [
    {
     "data": {
      "text/plain": [
       "{'name': 'Al',\n",
       " 'crystalstructure': None,\n",
       " 'a': 2.1,\n",
       " 'c': None,\n",
       " 'c_over_a': None,\n",
       " 'u': None,\n",
       " 'orthorhombic': False,\n",
       " 'cubic': False}"
      ]
     },
     "execution_count": 117,
     "metadata": {},
     "output_type": "execute_result"
    }
   ],
   "source": [
    "kwargs = n.kwargs\n",
    "kwargs.update({\"a\": 2.1})\n",
    "kwargs"
   ]
  },
  {
   "cell_type": "code",
   "execution_count": 118,
   "id": "97e254fffa33d7f1",
   "metadata": {},
   "outputs": [
    {
     "name": "stdout",
     "output_type": "stream",
     "text": [
      "Local mode - cleaning up LocalPostgres\n",
      "Running ('pg_ctl', '-D', '/Users/liamhuber/dev/pycor/pyiron_core/.pycor/pgdata', 'stop')\n",
      "waiting for server to shut down.... done\n",
      "server stopped\n",
      "Running ('pg_ctl', '-D', '/Users/liamhuber/dev/pycor/pyiron_core/.pycor/pgdata', 'status')\n"
     ]
    }
   ],
   "source": [
    "# CLEANUP\n",
    "\n",
    "lpg.cleanup()\n",
    "\n",
    "cwd = pathlib.Path(\"../liam\")\n",
    "\n",
    "with contextlib.suppress(FileNotFoundError):\n",
    "    (cwd / \"NiAlH_jea.eam.alloy\").unlink()\n",
    "\n",
    "with contextlib.suppress(FileNotFoundError):\n",
    "    (cwd / \"pyiron.log\").unlink()\n",
    "\n",
    "for path in cwd.glob(\"*.dat\"):\n",
    "    with contextlib.suppress(FileNotFoundError):\n",
    "        path.unlink()\n",
    "\n",
    "for path in cwd.glob(\"*.dat-*\"):\n",
    "    if path.is_dir():\n",
    "        with contextlib.suppress(FileNotFoundError):\n",
    "            shutil.rmtree(path)\n",
    "\n",
    "path = (cwd / \".storage\")\n",
    "if path.is_dir():\n",
    "    with contextlib.suppress(FileNotFoundError):\n",
    "        shutil.rmtree(path)"
   ]
  },
  {
   "cell_type": "code",
   "execution_count": null,
   "id": "d84715c1e2db94e0",
   "metadata": {},
   "outputs": [],
   "source": []
  }
 ],
 "metadata": {
  "kernelspec": {
   "display_name": "Python 3 (ipykernel)",
   "language": "python",
   "name": "python3"
  },
  "language_info": {
   "codemirror_mode": {
    "name": "ipython",
    "version": 3
   },
   "file_extension": ".py",
   "mimetype": "text/x-python",
   "name": "python",
   "nbconvert_exporter": "python",
   "pygments_lexer": "ipython3",
   "version": "3.12.10"
  }
 },
 "nbformat": 4,
 "nbformat_minor": 5
}
