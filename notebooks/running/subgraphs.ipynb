{
 "cells": [
  {
   "cell_type": "code",
   "execution_count": 1,
   "id": "initial_id",
   "metadata": {
    "ExecuteTime": {
     "end_time": "2025-04-30T20:40:43.160114Z",
     "start_time": "2025-04-30T20:40:42.801245Z"
    }
   },
   "outputs": [],
   "source": [
    "import pyiron_core as pc"
   ]
  },
  {
   "cell_type": "code",
   "execution_count": 2,
   "id": "24b31153cb427a01",
   "metadata": {
    "ExecuteTime": {
     "end_time": "2025-04-30T20:40:43.286536Z",
     "start_time": "2025-04-30T20:40:43.162307Z"
    }
   },
   "outputs": [
    {
     "data": {
      "text/plain": [
       "('input will be output', 0)"
      ]
     },
     "execution_count": 2,
     "metadata": {},
     "output_type": "execute_result"
    }
   ],
   "source": [
    "@pc.as_inp_dataclass_node\n",
    "class MyInpData:\n",
    "    question: str = \"still computing\"\n",
    "    answer: int = 42\n",
    "\n",
    "@pc.as_out_dataclass_node\n",
    "class MyOutData:\n",
    "    question: str = \"still computing\"\n",
    "    answer: int = 42\n",
    "\n",
    "wf = pc.Workflow(\"auto_encoding_graph\")\n",
    "wf.to_dataclass = MyInpData(\"input will be output\", 0)\n",
    "wf.from_dataclass = MyOutData(wf.to_dataclass)\n",
    "wf.run()"
   ]
  },
  {
   "cell_type": "code",
   "execution_count": 3,
   "id": "af6bc96ff44ee655",
   "metadata": {
    "ExecuteTime": {
     "end_time": "2025-04-30T20:40:43.412819Z",
     "start_time": "2025-04-30T20:40:43.408409Z"
    }
   },
   "outputs": [
    {
     "data": {
      "text/plain": [
       "(\"also when it's a macro\", 1)"
      ]
     },
     "execution_count": 3,
     "metadata": {},
     "output_type": "execute_result"
    }
   ],
   "source": [
    "@pc.as_macro_node([\"q\", \"a\"])\n",
    "def auto_encoder(q: str, a: int):\n",
    "    wf = pc.Workflow(\"auto_encoding_subgraph\")\n",
    "    wf.to_dataclass = MyInpData(q, a)\n",
    "    wf.from_dataclass = MyOutData(wf.to_dataclass)\n",
    "    return wf.from_dataclass.outputs.question, wf.from_dataclass.outputs.answer\n",
    "\n",
    "macro = auto_encoder()\n",
    "macro(\"also when it's a macro\", 1)"
   ]
  },
  {
   "cell_type": "markdown",
   "id": "fef1858f8337d92f",
   "metadata": {},
   "source": [
    "It's hidden behind a private variable, but we can investigate the internal state of the subgraph -- i.e. the macro object contains its subgraph's retrospective provenance"
   ]
  },
  {
   "cell_type": "code",
   "execution_count": 4,
   "id": "bcb835c61f03052f",
   "metadata": {
    "ExecuteTime": {
     "end_time": "2025-04-30T20:40:43.421425Z",
     "start_time": "2025-04-30T20:40:43.419718Z"
    }
   },
   "outputs": [
    {
     "data": {
      "text/plain": [
       "MyInpData(question=\"also when it's a macro\", answer=1)"
      ]
     },
     "execution_count": 4,
     "metadata": {},
     "output_type": "execute_result"
    }
   ],
   "source": [
    "macro._wf_macro.to_dataclass.outputs.dataclass.value"
   ]
  },
  {
   "cell_type": "markdown",
   "id": "9b796e8f70a1ee0e",
   "metadata": {},
   "source": [
    "`Workflow` objects are already inspectable, since we can always look at their children:"
   ]
  },
  {
   "cell_type": "code",
   "execution_count": 5,
   "id": "3f4014e1cdace84b",
   "metadata": {
    "ExecuteTime": {
     "end_time": "2025-04-30T20:40:43.434905Z",
     "start_time": "2025-04-30T20:40:43.428970Z"
    }
   },
   "outputs": [
    {
     "data": {
      "text/plain": [
       "('provenance is great', 2)"
      ]
     },
     "execution_count": 5,
     "metadata": {},
     "output_type": "execute_result"
    }
   ],
   "source": [
    "wf = pc.Workflow(\"my_workflow\")\n",
    "wf.to_dataclass = MyInpData(\"provenance is great\", 2)\n",
    "wf.from_dataclass = MyOutData(wf.to_dataclass.outputs.dataclass)\n",
    "wf.macro = auto_encoder(wf.from_dataclass.outputs.question, wf.from_dataclass.outputs.answer)\n",
    "wf.run()"
   ]
  },
  {
   "cell_type": "code",
   "execution_count": 6,
   "id": "a2aa637b307c7cc6",
   "metadata": {
    "ExecuteTime": {
     "end_time": "2025-04-30T20:40:43.447559Z",
     "start_time": "2025-04-30T20:40:43.445614Z"
    }
   },
   "outputs": [
    {
     "data": {
      "text/plain": [
       "MyInpData(question='provenance is great', answer=2)"
      ]
     },
     "execution_count": 6,
     "metadata": {},
     "output_type": "execute_result"
    }
   ],
   "source": [
    "wf.macro._wf_macro.to_dataclass.outputs.dataclass.value"
   ]
  },
  {
   "cell_type": "markdown",
   "id": "3a54c99787ec2efa",
   "metadata": {},
   "source": [
    "And we can nest macros, maintaining provenance to arbitrary depth"
   ]
  },
  {
   "cell_type": "code",
   "execution_count": 7,
   "id": "cb9af61dc6f0c44a",
   "metadata": {
    "ExecuteTime": {
     "end_time": "2025-04-30T20:40:43.464307Z",
     "start_time": "2025-04-30T20:40:43.457353Z"
    }
   },
   "outputs": [
    {
     "data": {
      "text/plain": [
       "('we might want to make this optional so the garbage collector can save us memory',\n",
       " 3)"
      ]
     },
     "execution_count": 7,
     "metadata": {},
     "output_type": "execute_result"
    }
   ],
   "source": [
    "@pc.as_macro_node([\"deep_q\", \"deep_a\"])\n",
    "def nested_macro(q: str, a: int):\n",
    "    wf = pc.Workflow(\"nested_macro_subgraph\")\n",
    "    wf.to_dataclass = MyInpData(q, a)\n",
    "    wf.from_dataclass = MyOutData(wf.to_dataclass)\n",
    "    wf.sub_macro = auto_encoder(wf.from_dataclass.outputs.question, wf.from_dataclass.outputs.answer)\n",
    "    return wf.sub_macro.outputs.q, wf.sub_macro.outputs.a\n",
    "\n",
    "nm = nested_macro()\n",
    "nm(\"we might want to make this optional so the garbage collector can save us memory\", 3)"
   ]
  },
  {
   "cell_type": "code",
   "execution_count": 8,
   "id": "33b9a3e05e3d7e84",
   "metadata": {
    "ExecuteTime": {
     "end_time": "2025-04-30T20:40:43.476215Z",
     "start_time": "2025-04-30T20:40:43.474331Z"
    }
   },
   "outputs": [
    {
     "data": {
      "text/plain": [
       "MyInpData(question='we might want to make this optional so the garbage collector can save us memory', answer=3)"
      ]
     },
     "execution_count": 8,
     "metadata": {},
     "output_type": "execute_result"
    }
   ],
   "source": [
    "nm._wf_macro.sub_macro._wf_macro.to_dataclass.outputs.dataclass.value"
   ]
  },
  {
   "cell_type": "code",
   "execution_count": null,
   "id": "c54df0babc8aae25",
   "metadata": {
    "ExecuteTime": {
     "end_time": "2025-04-30T20:40:43.487081Z",
     "start_time": "2025-04-30T20:40:43.485874Z"
    }
   },
   "outputs": [],
   "source": []
  }
 ],
 "metadata": {
  "kernelspec": {
   "display_name": "Python 3 (ipykernel)",
   "language": "python",
   "name": "python3"
  },
  "language_info": {
   "codemirror_mode": {
    "name": "ipython",
    "version": 3
   },
   "file_extension": ".py",
   "mimetype": "text/x-python",
   "name": "python",
   "nbconvert_exporter": "python",
   "pygments_lexer": "ipython3",
   "version": "3.12.10"
  }
 },
 "nbformat": 4,
 "nbformat_minor": 5
}
