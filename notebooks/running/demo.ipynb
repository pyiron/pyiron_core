{
 "cells": [
  {
   "cell_type": "code",
   "execution_count": 1,
   "id": "initial_id",
   "metadata": {
    "ExecuteTime": {
     "end_time": "2025-05-13T17:52:04.530614Z",
     "start_time": "2025-05-13T17:52:04.120604Z"
    }
   },
   "outputs": [],
   "source": [
    "import numpy as np\n",
    "\n",
    "import pyiron_core as pc"
   ]
  },
  {
   "cell_type": "code",
   "execution_count": 2,
   "id": "d7d36c23e9fb2822",
   "metadata": {
    "ExecuteTime": {
     "end_time": "2025-05-13T17:52:04.633183Z",
     "start_time": "2025-05-13T17:52:04.631130Z"
    }
   },
   "outputs": [],
   "source": [
    "@pc.as_function_node\n",
    "def linspace(x_min: int = 0, x_max: float = 2 * np.pi, n: int = 50):\n",
    "\n",
    "    vec = np.linspace(x_min, x_max, n)\n",
    "    return vec\n",
    "\n",
    "\n",
    "@pc.as_function_node\n",
    "def sin(x):\n",
    "    import numpy as np\n",
    "\n",
    "    vec = np.sin(x)\n",
    "    return vec\n",
    "\n",
    "\n",
    "@pc.as_function_node(\"plot\")\n",
    "def plot(x, y):\n",
    "    import matplotlib.pylab as plt\n",
    "\n",
    "    plt.plot(x, y)\n",
    "    return plt.show()"
   ]
  },
  {
   "cell_type": "code",
   "execution_count": 3,
   "id": "fc11f5dd91672e91",
   "metadata": {
    "ExecuteTime": {
     "end_time": "2025-05-13T17:52:04.640738Z",
     "start_time": "2025-05-13T17:52:04.638410Z"
    }
   },
   "outputs": [],
   "source": [
    "wf = pc.Workflow(\"my_first_workflow\")\n",
    "\n",
    "wf.x = linspace(x_min=-2)\n",
    "wf.sin = sin(x=wf.x)\n",
    "wf.plot = plot(x=wf.x, y=wf.sin.outputs.vec)"
   ]
  },
  {
   "cell_type": "code",
   "execution_count": 4,
   "id": "45bf43efb57a784d",
   "metadata": {
    "ExecuteTime": {
     "end_time": "2025-05-13T17:52:04.684848Z",
     "start_time": "2025-05-13T17:52:04.678826Z"
    }
   },
   "outputs": [
    {
     "data": {
      "text/plain": [
       "pyiron_core.pyiron_workflow instance: \n",
       "from pyiron_core.pyiron_workflow import Workflow\n",
       "import pyiron_nodes\n",
       "\n",
       "wf = Workflow(\"my_first_workflow\")\n",
       "\n",
       "wf.x = __main__.linspace(x_min=-2)\n",
       "wf.sin = __main__.sin(x=wf.x)\n",
       "wf.plot = __main__.plot(x=wf.x, y=wf.sin)"
      ]
     },
     "execution_count": 4,
     "metadata": {},
     "output_type": "execute_result"
    }
   ],
   "source": [
    "wf"
   ]
  },
  {
   "cell_type": "code",
   "execution_count": 5,
   "id": "a1d04eeb74ecc5d0",
   "metadata": {
    "ExecuteTime": {
     "end_time": "2025-05-13T17:52:05.056501Z",
     "start_time": "2025-05-13T17:52:04.694838Z"
    }
   },
   "outputs": [
    {
     "data": {
      "image/png": "[encoded data removed]",
      "text/plain": [
       "<Figure size 640x480 with 1 Axes>"
      ]
     },
     "metadata": {},
     "output_type": "display_data"
    }
   ],
   "source": [
    "wf.run()"
   ]
  },
  {
   "cell_type": "code",
   "execution_count": 6,
   "id": "19f4821b786a7574",
   "metadata": {
    "ExecuteTime": {
     "end_time": "2025-05-13T17:52:05.613527Z",
     "start_time": "2025-05-13T17:52:05.085277Z"
    }
   },
   "outputs": [
    {
     "data": {
      "application/vnd.jupyter.widget-view+json": {
       "model_id": "d0a4265c730a479caa4237f448bf9d26",
       "version_major": 2,
       "version_minor": 0
      },
      "text/plain": [
       "VBox(children=(HBox(children=(Output(layout=Layout(width='400px')), Tab(children=(ReactFlowWidget(layout=Layou…"
      ]
     },
     "execution_count": 6,
     "metadata": {},
     "output_type": "execute_result"
    }
   ],
   "source": [
    "widget = pc.PyironFlow([wf])\n",
    "widget.gui"
   ]
  },
  {
   "cell_type": "markdown",
   "id": "26281224d97e5b03",
   "metadata": {},
   "source": [
    "In the GUI, we can transition from a `Node`/`Workflow` representation to a `Graph` representation.\n",
    "The GUI lets us group nodes together, and pull on individual nodes.\n",
    "We can duplicate this at the code level as follows:"
   ]
  },
  {
   "cell_type": "code",
   "execution_count": 7,
   "id": "1d228c9ec2a84daa",
   "metadata": {},
   "outputs": [
    {
     "name": "stdout",
     "output_type": "stream",
     "text": [
      "labels ['m__num_points']\n",
      "inp:  m num_points\n",
      "GraphEdge(source='va_i_subgraph__m__num_points', target='m', sourceHandle='x', targetHandle='num_points')\n",
      "labels ['m__linspace']\n",
      "node:  m GraphNode(id='m', import_path='pyiron_core.pyiron_nodes.math.Linspace', label='m', parent_id='subgraph', level=1, node=<pyiron_core.pyiron_workflow.simple_workflow.Node object at 0x158b9bec0>, graph=None, node_type='node', widget_type='customNode', expanded=False)\n",
      "node:  subgraph GraphNode(id='subgraph', import_path=None, label='subgraph', parent_id=None, level=0, node=<pyiron_core.pyiron_workflow.simple_workflow.Node object at 0x158b6a3f0>, graph=Graph(id=None, label='subgraph', root_node=None, nodes=NestedDict({'m': GraphNode(id='m', import_path='pyiron_core.pyiron_nodes.math.Linspace', label='m', parent_id=None, level=0, node=<pyiron_core.pyiron_workflow.simple_workflow.Node object at 0x158b9bec0>, graph=None, node_type='node', widget_type='customNode', expanded=False)}), edges=[], graph={}), node_type='graph', widget_type='customNode', expanded=False)\n",
      "node:  va_i_subgraph__m__num_points GraphNode(id='va_i_subgraph__m__num_points', import_path='pyiron_core.pyiron_workflow.api.serial.identity', label='va_i_subgraph__m__num_points', parent_id='subgraph', level=0, node=<pyiron_core.pyiron_workflow.simple_workflow.Node object at 0x158b9b590>, graph=None, node_type='node', widget_type='customNode', expanded=False)\n",
      "node:  va_o_subgraph__m__linspace GraphNode(id='va_o_subgraph__m__linspace', import_path='pyiron_core.pyiron_workflow.api.serial.identity', label='va_o_subgraph__m__linspace', parent_id='subgraph', level=0, node=<pyiron_core.pyiron_workflow.simple_workflow.Node object at 0x158b6b050>, graph=None, node_type='node', widget_type='customNode', expanded=False)\n",
      "['subgraph']\n",
      "Running node subgraph\n"
     ]
    },
    {
     "data": {
      "text/plain": [
       "array([0., 1.])"
      ]
     },
     "execution_count": 7,
     "metadata": {},
     "output_type": "execute_result"
    }
   ],
   "source": [
    "from pyiron_core import nodes\n",
    "from pyiron_core.pyiron_workflow.api import graph as base\n",
    "\n",
    "wf = pc.Workflow(\"group_returns\")\n",
    "wf.m = nodes.math.Linspace(0,1,2)\n",
    "g = base.get_full_graph_from_wf(wf)\n",
    "g = base.create_group(g, [0], label=\"subgraph\")\n",
    "base.pull_node(g, \"subgraph\")"
   ]
  },
  {
   "cell_type": "code",
   "execution_count": null,
   "id": "39db0928fa6fd654",
   "metadata": {},
   "outputs": [],
   "source": []
  }
 ],
 "metadata": {
  "kernelspec": {
   "display_name": "Python 3 (ipykernel)",
   "language": "python",
   "name": "python3"
  },
  "language_info": {
   "codemirror_mode": {
    "name": "ipython",
    "version": 3
   },
   "file_extension": ".py",
   "mimetype": "text/x-python",
   "name": "python",
   "nbconvert_exporter": "python",
   "pygments_lexer": "ipython3",
   "version": "3.12.10"
  }
 },
 "nbformat": 4,
 "nbformat_minor": 5
}
