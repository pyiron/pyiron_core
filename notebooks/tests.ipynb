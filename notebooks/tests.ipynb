{
 "cells": [
  {
   "cell_type": "code",
   "execution_count": 1,
   "metadata": {},
   "outputs": [],
   "source": [
    "import sys\n",
    "\n",
    "sys.path.insert(0, \"/Users/joerg/git_libs/pyiron_core\")"
   ]
  },
  {
   "cell_type": "code",
   "execution_count": 2,
   "metadata": {},
   "outputs": [
    {
     "data": {
      "application/vnd.jupyter.widget-view+json": {
       "model_id": "5439a8e1e69340cfae35ecbb4b04eb3f",
       "version_major": 2,
       "version_minor": 0
      },
      "text/plain": []
     },
     "metadata": {},
     "output_type": "display_data"
    }
   ],
   "source": [
    "import pyiron_workflow.graph.graph_operations as go\n",
    "from pyiron_workflow import as_function_node\n",
    "from pyiron_workflow.graph import base, gui\n",
    "from pyiron_workflow.simple_workflow import Workflow\n",
    "import pyiron_nodes as pn\n",
    "# from pyironflow.pyironflow import PyironFlow"
   ]
  },
  {
   "cell_type": "code",
   "execution_count": 43,
   "metadata": {},
   "outputs": [
    {
     "name": "stdout",
     "output_type": "stream",
     "text": [
      "Adding macro node CubicBulkCell\n",
      "label:  macro CubicBulkCell\n",
      "wf_label:  CubicBulkCell\n",
      "target:  vacancy structure\n"
     ]
    },
    {
     "data": {
      "text/html": [
       "<div>\n",
       "<style scoped>\n",
       "    .dataframe tbody tr th:only-of-type {\n",
       "        vertical-align: middle;\n",
       "    }\n",
       "\n",
       "    .dataframe tbody tr th {\n",
       "        vertical-align: top;\n",
       "    }\n",
       "\n",
       "    .dataframe thead th {\n",
       "        text-align: right;\n",
       "    }\n",
       "</style>\n",
       "<table border=\"1\" class=\"dataframe\">\n",
       "  <thead>\n",
       "    <tr style=\"text-align: right;\">\n",
       "      <th></th>\n",
       "      <th>label</th>\n",
       "      <th>type</th>\n",
       "      <th>default</th>\n",
       "      <th>ready</th>\n",
       "      <th>value</th>\n",
       "      <th>node</th>\n",
       "    </tr>\n",
       "  </thead>\n",
       "  <tbody>\n",
       "    <tr>\n",
       "      <th>0</th>\n",
       "      <td>structure</td>\n",
       "      <td>NonPrimitive</td>\n",
       "      <td>NotData</td>\n",
       "      <td>True</td>\n",
       "      <td>label                                         ...</td>\n",
       "      <td>&lt;pyiron_workflow.simple_workflow.Node object a...</td>\n",
       "    </tr>\n",
       "    <tr>\n",
       "      <th>1</th>\n",
       "      <td>repeat_scalar</td>\n",
       "      <td>int</td>\n",
       "      <td>1</td>\n",
       "      <td>True</td>\n",
       "      <td>va_i_CubicBulkCell__cell_size</td>\n",
       "      <td>&lt;pyiron_workflow.simple_workflow.Node object a...</td>\n",
       "    </tr>\n",
       "  </tbody>\n",
       "</table>\n",
       "</div>"
      ],
      "text/plain": [
       "{'label': ['structure', 'repeat_scalar'], 'type': ['NonPrimitive', 'int'], 'default': ['NotData', 1], 'ready': [True, True], 'value': [label                                            structure\n",
       "type                                     builtins.NoneType\n",
       "ready                                                False\n",
       "value                                                 None\n",
       "node     <pyiron_workflow.simple_workflow.Node object a...\n",
       "dtype: object, 'va_i_CubicBulkCell__cell_size'], 'node': [<pyiron_workflow.simple_workflow.Node object at 0x15f967470>, <pyiron_workflow.simple_workflow.Node object at 0x15f967470>]}"
      ]
     },
     "execution_count": 43,
     "metadata": {},
     "output_type": "execute_result"
    }
   ],
   "source": [
    "graph = base.Graph('test')\n",
    "\n",
    "node = pn.atomistic.structure.build.CubicBulkCell('Al')\n",
    "graph += node\n",
    "\n",
    "# base.GuiGraph(graph, full_graph=True, sleep=2.)\n",
    "graph.nodes[\"CubicBulkCell\"].graph.nodes[\"repeat\"].node.inputs\n"
   ]
  },
  {
   "cell_type": "code",
   "execution_count": 48,
   "metadata": {},
   "outputs": [
    {
     "data": {
      "text/html": [
       "<div>\n",
       "<style scoped>\n",
       "    .dataframe tbody tr th:only-of-type {\n",
       "        vertical-align: middle;\n",
       "    }\n",
       "\n",
       "    .dataframe tbody tr th {\n",
       "        vertical-align: top;\n",
       "    }\n",
       "\n",
       "    .dataframe thead th {\n",
       "        text-align: right;\n",
       "    }\n",
       "</style>\n",
       "<table border=\"1\" class=\"dataframe\">\n",
       "  <thead>\n",
       "    <tr style=\"text-align: right;\">\n",
       "      <th></th>\n",
       "      <th>id</th>\n",
       "      <th>import_path</th>\n",
       "      <th>label</th>\n",
       "      <th>parent_id</th>\n",
       "      <th>level</th>\n",
       "      <th>node</th>\n",
       "      <th>graph</th>\n",
       "      <th>node_type</th>\n",
       "      <th>widget_type</th>\n",
       "      <th>expanded</th>\n",
       "    </tr>\n",
       "  </thead>\n",
       "  <tbody>\n",
       "    <tr>\n",
       "      <th>0</th>\n",
       "      <td>va_i_CubicBulkCell__element</td>\n",
       "      <td>pyiron_workflow.graph.base.identity</td>\n",
       "      <td>va_i_CubicBulkCell__element</td>\n",
       "      <td>CubicBulkCell</td>\n",
       "      <td>1</td>\n",
       "      <td>&lt;pyiron_workflow.simple_workflow.Node object a...</td>\n",
       "      <td>None</td>\n",
       "      <td>node</td>\n",
       "      <td>customNode</td>\n",
       "      <td>False</td>\n",
       "    </tr>\n",
       "    <tr>\n",
       "      <th>1</th>\n",
       "      <td>va_i_CubicBulkCell__cell_size</td>\n",
       "      <td>pyiron_workflow.graph.base.identity</td>\n",
       "      <td>va_i_CubicBulkCell__cell_size</td>\n",
       "      <td>CubicBulkCell</td>\n",
       "      <td>1</td>\n",
       "      <td>&lt;pyiron_workflow.simple_workflow.Node object a...</td>\n",
       "      <td>None</td>\n",
       "      <td>node</td>\n",
       "      <td>customNode</td>\n",
       "      <td>False</td>\n",
       "    </tr>\n",
       "    <tr>\n",
       "      <th>2</th>\n",
       "      <td>va_i_CubicBulkCell__vacancy_index</td>\n",
       "      <td>pyiron_workflow.graph.base.identity</td>\n",
       "      <td>va_i_CubicBulkCell__vacancy_index</td>\n",
       "      <td>CubicBulkCell</td>\n",
       "      <td>1</td>\n",
       "      <td>&lt;pyiron_workflow.simple_workflow.Node object a...</td>\n",
       "      <td>None</td>\n",
       "      <td>node</td>\n",
       "      <td>customNode</td>\n",
       "      <td>False</td>\n",
       "    </tr>\n",
       "    <tr>\n",
       "      <th>3</th>\n",
       "      <td>bulk</td>\n",
       "      <td>pyiron_nodes.atomistic.structure.build.Bulk</td>\n",
       "      <td>bulk</td>\n",
       "      <td>CubicBulkCell</td>\n",
       "      <td>1</td>\n",
       "      <td>&lt;pyiron_workflow.simple_workflow.Node object a...</td>\n",
       "      <td>None</td>\n",
       "      <td>node</td>\n",
       "      <td>customNode</td>\n",
       "      <td>False</td>\n",
       "    </tr>\n",
       "    <tr>\n",
       "      <th>4</th>\n",
       "      <td>repeat</td>\n",
       "      <td>pyiron_nodes.atomistic.structure.transform.Repeat</td>\n",
       "      <td>repeat</td>\n",
       "      <td>CubicBulkCell</td>\n",
       "      <td>1</td>\n",
       "      <td>&lt;pyiron_workflow.simple_workflow.Node object a...</td>\n",
       "      <td>None</td>\n",
       "      <td>node</td>\n",
       "      <td>customNode</td>\n",
       "      <td>False</td>\n",
       "    </tr>\n",
       "    <tr>\n",
       "      <th>5</th>\n",
       "      <td>vacancy</td>\n",
       "      <td>pyiron_nodes.atomistic.structure.transform.Cre...</td>\n",
       "      <td>vacancy</td>\n",
       "      <td>CubicBulkCell</td>\n",
       "      <td>1</td>\n",
       "      <td>&lt;pyiron_workflow.simple_workflow.Node object a...</td>\n",
       "      <td>None</td>\n",
       "      <td>node</td>\n",
       "      <td>customNode</td>\n",
       "      <td>False</td>\n",
       "    </tr>\n",
       "    <tr>\n",
       "      <th>6</th>\n",
       "      <td>va_o_CubicBulkCell__structure</td>\n",
       "      <td>pyiron_workflow.graph.base.identity</td>\n",
       "      <td>va_o_CubicBulkCell__structure</td>\n",
       "      <td>CubicBulkCell</td>\n",
       "      <td>1</td>\n",
       "      <td>&lt;pyiron_workflow.simple_workflow.Node object a...</td>\n",
       "      <td>None</td>\n",
       "      <td>node</td>\n",
       "      <td>customNode</td>\n",
       "      <td>False</td>\n",
       "    </tr>\n",
       "  </tbody>\n",
       "</table>\n",
       "</div>"
      ],
      "text/plain": [
       "NestedDict([('va_i_CubicBulkCell__element',\n",
       "             GraphNode(id='va_i_CubicBulkCell__element', import_path='pyiron_workflow.graph.base.identity', label='va_i_CubicBulkCell__element', parent_id='CubicBulkCell', level=1, node=<pyiron_workflow.simple_workflow.Node object at 0x15f961820>, graph=None, node_type='node', widget_type='customNode', expanded=False)),\n",
       "            ('va_i_CubicBulkCell__cell_size',\n",
       "             GraphNode(id='va_i_CubicBulkCell__cell_size', import_path='pyiron_workflow.graph.base.identity', label='va_i_CubicBulkCell__cell_size', parent_id='CubicBulkCell', level=1, node=<pyiron_workflow.simple_workflow.Node object at 0x15f967380>, graph=None, node_type='node', widget_type='customNode', expanded=False)),\n",
       "            ('va_i_CubicBulkCell__vacancy_index',\n",
       "             GraphNode(id='va_i_CubicBulkCell__vacancy_index', import_path='pyiron_workflow.graph.base.identity', label='va_i_CubicBulkCell__vacancy_index', parent_id='CubicBulkCell', level=1, node=<pyiron_workflow.simple_workflow.Node object at 0x15f9662d0>, graph=None, node_type='node', widget_type='customNode', expanded=False)),\n",
       "            ('bulk',\n",
       "             GraphNode(id='bulk', import_path='pyiron_nodes.atomistic.structure.build.Bulk', label='bulk', parent_id='CubicBulkCell', level=1, node=<pyiron_workflow.simple_workflow.Node object at 0x15f966f60>, graph=None, node_type='node', widget_type='customNode', expanded=False)),\n",
       "            ('repeat',\n",
       "             GraphNode(id='repeat', import_path='pyiron_nodes.atomistic.structure.transform.Repeat', label='repeat', parent_id='CubicBulkCell', level=1, node=<pyiron_workflow.simple_workflow.Node object at 0x15f967470>, graph=None, node_type='node', widget_type='customNode', expanded=False)),\n",
       "            ('vacancy',\n",
       "             GraphNode(id='vacancy', import_path='pyiron_nodes.atomistic.structure.transform.CreateVacancy', label='vacancy', parent_id='CubicBulkCell', level=1, node=<pyiron_workflow.simple_workflow.Node object at 0x15f966990>, graph=None, node_type='node', widget_type='customNode', expanded=False)),\n",
       "            ('va_o_CubicBulkCell__structure',\n",
       "             GraphNode(id='va_o_CubicBulkCell__structure', import_path='pyiron_workflow.graph.base.identity', label='va_o_CubicBulkCell__structure', parent_id='CubicBulkCell', level=1, node=<pyiron_workflow.simple_workflow.Node object at 0x15f967830>, graph=None, node_type='node', widget_type='customNode', expanded=False))])"
      ]
     },
     "execution_count": 48,
     "metadata": {},
     "output_type": "execute_result"
    }
   ],
   "source": [
    "graph.nodes[\"CubicBulkCell\"].graph.nodes"
   ]
  },
  {
   "cell_type": "code",
   "execution_count": 47,
   "metadata": {},
   "outputs": [
    {
     "data": {
      "text/plain": [
       "{'element': 'Al', 'cell_size': 1, 'vacancy_index': None}"
      ]
     },
     "execution_count": 47,
     "metadata": {},
     "output_type": "execute_result"
    }
   ],
   "source": [
    "node.kwargs"
   ]
  },
  {
   "cell_type": "code",
   "execution_count": 42,
   "metadata": {},
   "outputs": [
    {
     "name": "stdout",
     "output_type": "stream",
     "text": [
      "label:  macro CubicBulkCell\n",
      "wf_label:  CubicBulkCell\n",
      "target:  vacancy structure\n"
     ]
    },
    {
     "data": {
      "text/html": [
       "<div>\n",
       "<style scoped>\n",
       "    .dataframe tbody tr th:only-of-type {\n",
       "        vertical-align: middle;\n",
       "    }\n",
       "\n",
       "    .dataframe tbody tr th {\n",
       "        vertical-align: top;\n",
       "    }\n",
       "\n",
       "    .dataframe thead th {\n",
       "        text-align: right;\n",
       "    }\n",
       "</style>\n",
       "<table border=\"1\" class=\"dataframe\">\n",
       "  <thead>\n",
       "    <tr style=\"text-align: right;\">\n",
       "      <th></th>\n",
       "      <th>label</th>\n",
       "      <th>type</th>\n",
       "      <th>default</th>\n",
       "      <th>ready</th>\n",
       "      <th>value</th>\n",
       "      <th>node</th>\n",
       "    </tr>\n",
       "  </thead>\n",
       "  <tbody>\n",
       "    <tr>\n",
       "      <th>0</th>\n",
       "      <td>structure</td>\n",
       "      <td>NonPrimitive</td>\n",
       "      <td>NotData</td>\n",
       "      <td>True</td>\n",
       "      <td>label                                         ...</td>\n",
       "      <td>&lt;pyiron_workflow.simple_workflow.Node object a...</td>\n",
       "    </tr>\n",
       "    <tr>\n",
       "      <th>1</th>\n",
       "      <td>repeat_scalar</td>\n",
       "      <td>int</td>\n",
       "      <td>1</td>\n",
       "      <td>True</td>\n",
       "      <td>va_i_CubicBulkCell__cell_size</td>\n",
       "      <td>&lt;pyiron_workflow.simple_workflow.Node object a...</td>\n",
       "    </tr>\n",
       "  </tbody>\n",
       "</table>\n",
       "</div>"
      ],
      "text/plain": [
       "{'label': ['structure', 'repeat_scalar'], 'type': ['NonPrimitive', 'int'], 'default': ['NotData', 1], 'ready': [True, True], 'value': [label                                            structure\n",
       "type                                     builtins.NoneType\n",
       "ready                                                False\n",
       "value                                                 None\n",
       "node     <pyiron_workflow.simple_workflow.Node object a...\n",
       "dtype: object, 'va_i_CubicBulkCell__cell_size'], 'node': [<pyiron_workflow.simple_workflow.Node object at 0x15f8b3200>, <pyiron_workflow.simple_workflow.Node object at 0x15f8b3200>]}"
      ]
     },
     "execution_count": 42,
     "metadata": {},
     "output_type": "execute_result"
    }
   ],
   "source": [
    "base.get_graph_from_macro_node(node).nodes[\"repeat\"].node.inputs"
   ]
  },
  {
   "cell_type": "markdown",
   "metadata": {},
   "source": [
    "Why not running the graph rather than the workflow. Graph is much more powerful and includes serialization and subgraphs? This works already! Does not yet have concept of input."
   ]
  },
  {
   "cell_type": "code",
   "execution_count": 3,
   "metadata": {},
   "outputs": [
    {
     "data": {
      "application/vnd.jupyter.widget-view+json": {
       "model_id": "18aba4436c59438e821c3c6ea44865c5",
       "version_major": 2,
       "version_minor": 1
      },
      "text/plain": [
       "ReactFlowWidget(layout=Layout(height='400px', width='800px'))"
      ]
     },
     "metadata": {},
     "output_type": "display_data"
    },
    {
     "data": {
      "text/plain": [
       "<pyiron_workflow.graph.base.GuiGraph at 0x1587ddca0>"
      ]
     },
     "execution_count": 3,
     "metadata": {},
     "output_type": "execute_result"
    }
   ],
   "source": [
    "wf = Workflow('test')\n",
    "wf.bulk = pn.atomistic.structure.build.Bulk('Al', cubic=True)\n",
    "wf.repeat = pn.atomistic.structure.transform.Repeat(wf.bulk, repeat_scalar=1)\n",
    "wf.repeat2 = pn.atomistic.structure.transform.Repeat(wf.repeat, repeat_scalar=1)\n",
    "# wf.lammps = pn.atomistic.engine.lammps.Code1(structure=wf.repeat2)\n",
    "\n",
    "full_graph = base.get_full_graph_from_wf(wf)\n",
    "sub_graph = base._get_subgraph(full_graph, [1]) # collaps if node is macro node\n",
    "\n",
    "# TODO: \n",
    "# - extend output option (include all child node outputs)\n",
    "# - substitute selected nodes with ports having outside connections by a single virtual (graph-only) node\n",
    "# - add parent group as graph node\n",
    "# - make all inner nodes to child nodes of the parent group\n",
    "# - create node object for the parent group\n",
    "\n",
    "base.GuiGraph(full_graph, full_graph=True, height=400)\n",
    "# node = base.graph_to_node(sub_graph)\n",
    "# node\n",
    "# node.outputs, sub_graph.label, "
   ]
  },
  {
   "cell_type": "code",
   "execution_count": 4,
   "metadata": {},
   "outputs": [],
   "source": [
    "# TODO: \n",
    "# - extend output option (include all child node outputs)\n",
    "# - substitute selected nodes with ports having outside connections by a single virtual (graph-only) node\n",
    "# - add parent group as graph node\n",
    "# - make all inner nodes to child nodes of the parent group\n",
    "# - create node object for the parent group"
   ]
  },
  {
   "cell_type": "code",
   "execution_count": 5,
   "metadata": {},
   "outputs": [],
   "source": [
    "full_graph.nodes;"
   ]
  },
  {
   "cell_type": "code",
   "execution_count": 6,
   "metadata": {},
   "outputs": [
    {
     "data": {
      "text/html": [
       "<div>\n",
       "<style scoped>\n",
       "    .dataframe tbody tr th:only-of-type {\n",
       "        vertical-align: middle;\n",
       "    }\n",
       "\n",
       "    .dataframe tbody tr th {\n",
       "        vertical-align: top;\n",
       "    }\n",
       "\n",
       "    .dataframe thead th {\n",
       "        text-align: right;\n",
       "    }\n",
       "</style>\n",
       "<table border=\"1\" class=\"dataframe\">\n",
       "  <thead>\n",
       "    <tr style=\"text-align: right;\">\n",
       "      <th></th>\n",
       "      <th>label</th>\n",
       "      <th>value</th>\n",
       "      <th>type</th>\n",
       "      <th>default</th>\n",
       "      <th>ready</th>\n",
       "      <th>node</th>\n",
       "    </tr>\n",
       "  </thead>\n",
       "  <tbody>\n",
       "    <tr>\n",
       "      <th>0</th>\n",
       "      <td>repeat__structure</td>\n",
       "      <td>label                                         ...</td>\n",
       "      <td>NonPrimitive</td>\n",
       "      <td>NotData</td>\n",
       "      <td>True</td>\n",
       "      <td>&lt;pyiron_workflow.simple_workflow.Node object a...</td>\n",
       "    </tr>\n",
       "  </tbody>\n",
       "</table>\n",
       "</div>"
      ],
      "text/plain": [
       "{'label': ['repeat__structure'], 'value': [label                                            structure\n",
       "type                                     builtins.NoneType\n",
       "ready                                                False\n",
       "value                                                 None\n",
       "node     <pyiron_workflow.simple_workflow.Node object a...\n",
       "dtype: object], 'type': ['NonPrimitive'], 'default': ['NotData'], 'ready': [True], 'node': [<pyiron_workflow.simple_workflow.Node object at 0x158c5fec0>]}"
      ]
     },
     "execution_count": 6,
     "metadata": {},
     "output_type": "execute_result"
    }
   ],
   "source": [
    "node = base.graph_to_node(sub_graph)\n",
    "node.inputs"
   ]
  },
  {
   "cell_type": "code",
   "execution_count": 7,
   "metadata": {},
   "outputs": [
    {
     "data": {
      "text/plain": [
       "[('repeat', 'structure')]"
      ]
     },
     "execution_count": 7,
     "metadata": {},
     "output_type": "execute_result"
    }
   ],
   "source": [
    "base.get_externally_connected_input_ports(sub_graph)"
   ]
  },
  {
   "cell_type": "code",
   "execution_count": 8,
   "metadata": {},
   "outputs": [
    {
     "data": {
      "text/plain": [
       "{'repeat': {'structure': label                                            structure\n",
       "  type                                     builtins.NoneType\n",
       "  ready                                                False\n",
       "  value                                                 None\n",
       "  node     <pyiron_workflow.simple_workflow.Node object a...\n",
       "  dtype: object}}"
      ]
     },
     "execution_count": 8,
     "metadata": {},
     "output_type": "execute_result"
    }
   ],
   "source": [
    "base.get_non_default_input(sub_graph)"
   ]
  },
  {
   "cell_type": "code",
   "execution_count": 9,
   "metadata": {},
   "outputs": [
    {
     "data": {
      "text/html": [
       "<div>\n",
       "<style scoped>\n",
       "    .dataframe tbody tr th:only-of-type {\n",
       "        vertical-align: middle;\n",
       "    }\n",
       "\n",
       "    .dataframe tbody tr th {\n",
       "        vertical-align: top;\n",
       "    }\n",
       "\n",
       "    .dataframe thead th {\n",
       "        text-align: right;\n",
       "    }\n",
       "</style>\n",
       "<table border=\"1\" class=\"dataframe\">\n",
       "  <thead>\n",
       "    <tr style=\"text-align: right;\">\n",
       "      <th></th>\n",
       "      <th>label</th>\n",
       "      <th>value</th>\n",
       "      <th>type</th>\n",
       "      <th>ready</th>\n",
       "      <th>node</th>\n",
       "    </tr>\n",
       "  </thead>\n",
       "  <tbody>\n",
       "    <tr>\n",
       "      <th>0</th>\n",
       "      <td>repeat__structure</td>\n",
       "      <td>None</td>\n",
       "      <td>builtins.str</td>\n",
       "      <td>False</td>\n",
       "      <td>&lt;pyiron_workflow.simple_workflow.Node object a...</td>\n",
       "    </tr>\n",
       "  </tbody>\n",
       "</table>\n",
       "</div>"
      ],
      "text/plain": [
       "{'label': ['repeat__structure'], 'value': [None], 'type': ['builtins.str'], 'ready': [False], 'node': [<pyiron_workflow.simple_workflow.Node object at 0x1590012e0>]}"
      ]
     },
     "execution_count": 9,
     "metadata": {},
     "output_type": "execute_result"
    }
   ],
   "source": [
    "base.graph_to_node(sub_graph).outputs"
   ]
  },
  {
   "cell_type": "code",
   "execution_count": 10,
   "metadata": {},
   "outputs": [
    {
     "name": "stdout",
     "output_type": "stream",
     "text": [
      "labels ['bulk__name', 'bulk__cubic']\n",
      "GraphEdge(source='va_i_subgraph__bulk__name', target='bulk', sourceHandle='x', targetHandle='name')\n",
      "GraphEdge(source='va_i_subgraph__bulk__cubic', target='bulk', sourceHandle='x', targetHandle='cubic')\n",
      "labels ['repeat__structure']\n",
      "['subgraph']\n"
     ]
    },
    {
     "data": {
      "text/html": [
       "<div>\n",
       "<style scoped>\n",
       "    .dataframe tbody tr th:only-of-type {\n",
       "        vertical-align: middle;\n",
       "    }\n",
       "\n",
       "    .dataframe tbody tr th {\n",
       "        vertical-align: top;\n",
       "    }\n",
       "\n",
       "    .dataframe thead th {\n",
       "        text-align: right;\n",
       "    }\n",
       "</style>\n",
       "<table border=\"1\" class=\"dataframe\">\n",
       "  <thead>\n",
       "    <tr style=\"text-align: right;\">\n",
       "      <th></th>\n",
       "      <th>source</th>\n",
       "      <th>target</th>\n",
       "      <th>sourceHandle</th>\n",
       "      <th>targetHandle</th>\n",
       "    </tr>\n",
       "  </thead>\n",
       "  <tbody>\n",
       "    <tr>\n",
       "      <th>0</th>\n",
       "      <td>bulk</td>\n",
       "      <td>repeat</td>\n",
       "      <td>structure</td>\n",
       "      <td>structure</td>\n",
       "    </tr>\n",
       "    <tr>\n",
       "      <th>1</th>\n",
       "      <td>va_o_subgraph__repeat__structure</td>\n",
       "      <td>repeat2</td>\n",
       "      <td>x</td>\n",
       "      <td>structure</td>\n",
       "    </tr>\n",
       "    <tr>\n",
       "      <th>2</th>\n",
       "      <td>va_i_subgraph__bulk__name</td>\n",
       "      <td>bulk</td>\n",
       "      <td>x</td>\n",
       "      <td>name</td>\n",
       "    </tr>\n",
       "    <tr>\n",
       "      <th>3</th>\n",
       "      <td>va_i_subgraph__bulk__cubic</td>\n",
       "      <td>bulk</td>\n",
       "      <td>x</td>\n",
       "      <td>cubic</td>\n",
       "    </tr>\n",
       "    <tr>\n",
       "      <th>4</th>\n",
       "      <td>repeat</td>\n",
       "      <td>va_o_subgraph__repeat__structure</td>\n",
       "      <td>structure</td>\n",
       "      <td>x</td>\n",
       "    </tr>\n",
       "  </tbody>\n",
       "</table>\n",
       "</div>"
      ],
      "text/plain": [
       "[GraphEdge(source='bulk', target='repeat', sourceHandle='structure', targetHandle='structure'),\n",
       " GraphEdge(source='va_o_subgraph__repeat__structure', target='repeat2', sourceHandle='x', targetHandle='structure'),\n",
       " GraphEdge(source='va_i_subgraph__bulk__name', target='bulk', sourceHandle='x', targetHandle='name'),\n",
       " GraphEdge(source='va_i_subgraph__bulk__cubic', target='bulk', sourceHandle='x', targetHandle='cubic'),\n",
       " GraphEdge(source='repeat', target='va_o_subgraph__repeat__structure', sourceHandle='structure', targetHandle='x')]"
      ]
     },
     "execution_count": 10,
     "metadata": {},
     "output_type": "execute_result"
    }
   ],
   "source": [
    "new_graph = base.create_group(full_graph, [0,1], label=\"subgraph\")\n",
    "new_graph.edges"
   ]
  },
  {
   "cell_type": "markdown",
   "metadata": {},
   "source": [
    "Remark: Make sure that all operations regarding virtual nodes and edges are encapsulated to not affect any other groups"
   ]
  },
  {
   "cell_type": "code",
   "execution_count": 11,
   "metadata": {},
   "outputs": [
    {
     "name": "stdout",
     "output_type": "stream",
     "text": [
      "Adding macro node lammps\n",
      "label:  LammpsMacro lammps\n",
      "wf_label:  lammps\n",
      "target:  Collect generic\n",
      "target:  InitLammps path\n",
      "Expanding node lammps\n",
      "labels ['bulk__name', 'bulk__cubic']\n",
      "GraphEdge(source='va_i_subgraph__bulk__name', target='bulk', sourceHandle='x', targetHandle='name')\n",
      "GraphEdge(source='va_i_subgraph__bulk__cubic', target='bulk', sourceHandle='x', targetHandle='cubic')\n",
      "labels ['repeat2__structure']\n",
      "['subgraph']\n",
      "Expanding node subgraph\n"
     ]
    },
    {
     "data": {
      "application/vnd.jupyter.widget-view+json": {
       "model_id": "429fb7dc8258475e8a86e65077685b04",
       "version_major": 2,
       "version_minor": 1
      },
      "text/plain": [
       "ReactFlowWidget(layout=Layout(height='400px', width='800px'))"
      ]
     },
     "metadata": {},
     "output_type": "display_data"
    },
    {
     "data": {
      "text/plain": [
       "<pyiron_workflow.graph.base.GuiGraph at 0x159002810>"
      ]
     },
     "execution_count": 11,
     "metadata": {},
     "output_type": "execute_result"
    }
   ],
   "source": [
    "wf = Workflow(\"test\")\n",
    "wf.bulk = pn.atomistic.structure.build.Bulk(\"Al\", cubic=True)\n",
    "wf.repeat = pn.atomistic.structure.transform.Repeat(wf.bulk, repeat_scalar=1)\n",
    "wf.repeat2 = pn.atomistic.structure.transform.Repeat(wf.repeat, repeat_scalar=1)\n",
    "wf.lammps = pn.atomistic.engine.lammps.Code1(structure=wf.repeat2)\n",
    "\n",
    "full_graph = base.get_full_graph_from_wf(wf)\n",
    "\n",
    "new_graph = base.create_group(full_graph, [0, 1, 2], label=\"subgraph\")\n",
    "\n",
    "new_graph.nodes[\"subgraph\"].expanded = True\n",
    "new_graph.nodes[\"lammps\"].expanded = False\n",
    "\n",
    "# True, True gives error\n",
    "\n",
    "new_graph = base.get_updated_graph(new_graph)\n",
    "\n",
    "base.GuiGraph(new_graph, full_graph=True, height=400)"
   ]
  },
  {
   "cell_type": "code",
   "execution_count": 12,
   "metadata": {},
   "outputs": [
    {
     "data": {
      "text/html": [
       "<div>\n",
       "<style scoped>\n",
       "    .dataframe tbody tr th:only-of-type {\n",
       "        vertical-align: middle;\n",
       "    }\n",
       "\n",
       "    .dataframe tbody tr th {\n",
       "        vertical-align: top;\n",
       "    }\n",
       "\n",
       "    .dataframe thead th {\n",
       "        text-align: right;\n",
       "    }\n",
       "</style>\n",
       "<table border=\"1\" class=\"dataframe\">\n",
       "  <thead>\n",
       "    <tr style=\"text-align: right;\">\n",
       "      <th></th>\n",
       "      <th>id</th>\n",
       "      <th>import_path</th>\n",
       "      <th>label</th>\n",
       "      <th>parent_id</th>\n",
       "      <th>level</th>\n",
       "      <th>node</th>\n",
       "      <th>graph</th>\n",
       "      <th>node_type</th>\n",
       "      <th>widget_type</th>\n",
       "      <th>expanded</th>\n",
       "    </tr>\n",
       "  </thead>\n",
       "  <tbody>\n",
       "    <tr>\n",
       "      <th>0</th>\n",
       "      <td>subgraph</td>\n",
       "      <td>None</td>\n",
       "      <td>subgraph</td>\n",
       "      <td>None</td>\n",
       "      <td>0</td>\n",
       "      <td>&lt;pyiron_workflow.simple_workflow.Node object a...</td>\n",
       "      <td>Graph(id=None, label='subgraph', root_node=Non...</td>\n",
       "      <td>graph</td>\n",
       "      <td>customNode</td>\n",
       "      <td>True</td>\n",
       "    </tr>\n",
       "    <tr>\n",
       "      <th>1</th>\n",
       "      <td>bulk</td>\n",
       "      <td>pyiron_nodes.atomistic.structure.build.Bulk</td>\n",
       "      <td>bulk</td>\n",
       "      <td>subgraph</td>\n",
       "      <td>1</td>\n",
       "      <td>&lt;pyiron_workflow.simple_workflow.Node object a...</td>\n",
       "      <td>None</td>\n",
       "      <td>node</td>\n",
       "      <td>customNode</td>\n",
       "      <td>False</td>\n",
       "    </tr>\n",
       "    <tr>\n",
       "      <th>2</th>\n",
       "      <td>repeat</td>\n",
       "      <td>pyiron_nodes.atomistic.structure.transform.Repeat</td>\n",
       "      <td>repeat</td>\n",
       "      <td>subgraph</td>\n",
       "      <td>1</td>\n",
       "      <td>&lt;pyiron_workflow.simple_workflow.Node object a...</td>\n",
       "      <td>None</td>\n",
       "      <td>node</td>\n",
       "      <td>customNode</td>\n",
       "      <td>False</td>\n",
       "    </tr>\n",
       "    <tr>\n",
       "      <th>3</th>\n",
       "      <td>repeat2</td>\n",
       "      <td>pyiron_nodes.atomistic.structure.transform.Repeat</td>\n",
       "      <td>repeat2</td>\n",
       "      <td>subgraph</td>\n",
       "      <td>1</td>\n",
       "      <td>&lt;pyiron_workflow.simple_workflow.Node object a...</td>\n",
       "      <td>None</td>\n",
       "      <td>node</td>\n",
       "      <td>customNode</td>\n",
       "      <td>False</td>\n",
       "    </tr>\n",
       "    <tr>\n",
       "      <th>4</th>\n",
       "      <td>lammps</td>\n",
       "      <td>pyiron_nodes.atomistic.engine.lammps.Code1</td>\n",
       "      <td>lammps</td>\n",
       "      <td>None</td>\n",
       "      <td>0</td>\n",
       "      <td>&lt;pyiron_workflow.simple_workflow.Node object a...</td>\n",
       "      <td>Graph(id='lammps', label='lammps', root_node=N...</td>\n",
       "      <td>graph</td>\n",
       "      <td>customNode</td>\n",
       "      <td>False</td>\n",
       "    </tr>\n",
       "  </tbody>\n",
       "</table>\n",
       "</div>"
      ],
      "text/plain": [
       "NestedDict([('subgraph',\n",
       "             GraphNode(id='subgraph', import_path=None, label='subgraph', parent_id=None, level=0, node=<pyiron_workflow.simple_workflow.Node object at 0x159123800>, graph=Graph(id=None, label='subgraph', root_node=None, nodes=NestedDict({'bulk': GraphNode(id='bulk', import_path='pyiron_nodes.atomistic.structure.build.Bulk', label='bulk', parent_id=None, level=0, node=<pyiron_workflow.simple_workflow.Node object at 0x158c5f710>, graph=None, node_type='node', widget_type='customNode', expanded=False), 'repeat': GraphNode(id='repeat', import_path='pyiron_nodes.atomistic.structure.transform.Repeat', label='repeat', parent_id=None, level=0, node=<pyiron_workflow.simple_workflow.Node object at 0x159014c20>, graph=None, node_type='node', widget_type='customNode', expanded=False), 'repeat2': GraphNode(id='repeat2', import_path='pyiron_nodes.atomistic.structure.transform.Repeat', label='repeat2', parent_id=None, level=0, node=<pyiron_workflow.simple_workflow.Node object at 0x159015be0>, graph=None, node_type='node', widget_type='customNode', expanded=False)}), edges=[GraphEdge(source='bulk', target='repeat', sourceHandle='structure', targetHandle='structure'), GraphEdge(source='repeat', target='repeat2', sourceHandle='structure', targetHandle='structure')], graph={}), node_type='graph', widget_type='customNode', expanded=True)),\n",
       "            ('bulk',\n",
       "             GraphNode(id='bulk', import_path='pyiron_nodes.atomistic.structure.build.Bulk', label='bulk', parent_id='subgraph', level=1, node=<pyiron_workflow.simple_workflow.Node object at 0x158c5f710>, graph=None, node_type='node', widget_type='customNode', expanded=False)),\n",
       "            ('repeat',\n",
       "             GraphNode(id='repeat', import_path='pyiron_nodes.atomistic.structure.transform.Repeat', label='repeat', parent_id='subgraph', level=1, node=<pyiron_workflow.simple_workflow.Node object at 0x159014c20>, graph=None, node_type='node', widget_type='customNode', expanded=False)),\n",
       "            ('repeat2',\n",
       "             GraphNode(id='repeat2', import_path='pyiron_nodes.atomistic.structure.transform.Repeat', label='repeat2', parent_id='subgraph', level=1, node=<pyiron_workflow.simple_workflow.Node object at 0x159015be0>, graph=None, node_type='node', widget_type='customNode', expanded=False)),\n",
       "            ('lammps',\n",
       "             GraphNode(id='lammps', import_path='pyiron_nodes.atomistic.engine.lammps.Code1', label='lammps', parent_id=None, level=0, node=<pyiron_workflow.simple_workflow.Node object at 0x159000320>, graph=Graph(id='lammps', label='lammps', root_node=None, nodes=NestedDict({'va_i_lammps__structure': GraphNode(id='va_i_lammps__structure', import_path='pyiron_workflow.graph.base.identity', label='va_i_lammps__structure', parent_id='lammps', level=1, node=<pyiron_workflow.simple_workflow.Node object at 0x159017230>, graph=None, node_type='node', widget_type='customNode', expanded=False), 'va_i_lammps__potential': GraphNode(id='va_i_lammps__potential', import_path='pyiron_workflow.graph.base.identity', label='va_i_lammps__potential', parent_id='lammps', level=1, node=<pyiron_workflow.simple_workflow.Node object at 0x1590165d0>, graph=None, node_type='node', widget_type='customNode', expanded=False), 'va_i_lammps__calculator': GraphNode(id='va_i_lammps__calculator', import_path='pyiron_workflow.graph.base.identity', label='va_i_lammps__calculator', parent_id='lammps', level=1, node=<pyiron_workflow.simple_workflow.Node object at 0x159017050>, graph=None, node_type='node', widget_type='customNode', expanded=False), 'va_i_lammps__working_dir': GraphNode(id='va_i_lammps__working_dir', import_path='pyiron_workflow.graph.base.identity', label='va_i_lammps__working_dir', parent_id='lammps', level=1, node=<pyiron_workflow.simple_workflow.Node object at 0x159017530>, graph=None, node_type='node', widget_type='customNode', expanded=False), 'ListPotentials': GraphNode(id='ListPotentials', import_path='pyiron_nodes.atomistic.engine.lammps.ListPotentials', label='ListPotentials', parent_id='lammps', level=1, node=<pyiron_workflow.simple_workflow.Node object at 0x1590161e0>, graph=None, node_type='node', widget_type='customNode', expanded=False), 'Potential': GraphNode(id='Potential', import_path='pyiron_nodes.atomistic.engine.lammps.Potential', label='Potential', parent_id='lammps', level=1, node=<pyiron_workflow.simple_workflow.Node object at 0x158d4efc0>, graph=None, node_type='node', widget_type='customNode', expanded=False), 'InitLammps': GraphNode(id='InitLammps', import_path='pyiron_nodes.atomistic.engine.lammps.InitLammps', label='InitLammps', parent_id='lammps', level=1, node=<pyiron_workflow.simple_workflow.Node object at 0x159016f90>, graph=None, node_type='node', widget_type='customNode', expanded=False), 'Shell': GraphNode(id='Shell', import_path='pyiron_nodes.atomistic.engine.lammps.Shell', label='Shell', parent_id='lammps', level=1, node=<pyiron_workflow.simple_workflow.Node object at 0x1590162a0>, graph=None, node_type='node', widget_type='customNode', expanded=False), 'va_o_lammps__path': GraphNode(id='va_o_lammps__path', import_path='pyiron_workflow.graph.base.identity', label='va_o_lammps__path', parent_id='lammps', level=1, node=<pyiron_workflow.simple_workflow.Node object at 0x159121f40>, graph=None, node_type='node', widget_type='customNode', expanded=False), 'ParseLogFile': GraphNode(id='ParseLogFile', import_path='pyiron_nodes.atomistic.engine.lammps.ParseLogFile', label='ParseLogFile', parent_id='lammps', level=1, node=<pyiron_workflow.simple_workflow.Node object at 0x159016750>, graph=None, node_type='node', widget_type='customNode', expanded=False), 'ParseDumpFile': GraphNode(id='ParseDumpFile', import_path='pyiron_nodes.atomistic.engine.lammps.ParseDumpFile', label='ParseDumpFile', parent_id='lammps', level=1, node=<pyiron_workflow.simple_workflow.Node object at 0x159016360>, graph=None, node_type='node', widget_type='customNode', expanded=False), 'Collect': GraphNode(id='Collect', import_path='pyiron_nodes.atomistic.engine.lammps.Collect', label='Collect', parent_id='lammps', level=1, node=<pyiron_workflow.simple_workflow.Node object at 0x159016ab0>, graph=None, node_type='node', widget_type='customNode', expanded=False), 'va_o_lammps__generic': GraphNode(id='va_o_lammps__generic', import_path='pyiron_workflow.graph.base.identity', label='va_o_lammps__generic', parent_id='lammps', level=1, node=<pyiron_workflow.simple_workflow.Node object at 0x159017680>, graph=None, node_type='node', widget_type='customNode', expanded=False)}), edges=[GraphEdge(source='va_i_lammps__structure', target='Potential', sourceHandle='x', targetHandle='structure'), GraphEdge(source='va_i_lammps__potential', target='Potential', sourceHandle='x', targetHandle='name'), GraphEdge(source='va_i_lammps__structure', target='ListPotentials', sourceHandle='x', targetHandle='structure'), GraphEdge(source='va_i_lammps__structure', target='InitLammps', sourceHandle='x', targetHandle='structure'), GraphEdge(source='va_i_lammps__calculator', target='InitLammps', sourceHandle='x', targetHandle='calculator'), GraphEdge(source='va_i_lammps__working_dir', target='InitLammps', sourceHandle='x', targetHandle='working_directory'), GraphEdge(source='Potential', target='InitLammps', sourceHandle='pot', targetHandle='potential'), GraphEdge(source='InitLammps', target='Shell', sourceHandle='path', targetHandle='working_directory'), GraphEdge(source='Shell', target='ParseLogFile', sourceHandle='log', targetHandle='log_file'), GraphEdge(source='Shell', target='ParseDumpFile', sourceHandle='dump', targetHandle='dump_file'), GraphEdge(source='ParseDumpFile', target='Collect', sourceHandle='dump', targetHandle='out_dump'), GraphEdge(source='ParseLogFile', target='Collect', sourceHandle='log', targetHandle='out_log'), GraphEdge(source='Collect', target='va_o_lammps__generic', sourceHandle='generic', targetHandle='x'), GraphEdge(source='InitLammps', target='va_o_lammps__path', sourceHandle='path', targetHandle='x')], graph={}), node_type='graph', widget_type='customNode', expanded=False))])"
      ]
     },
     "execution_count": 12,
     "metadata": {},
     "output_type": "execute_result"
    }
   ],
   "source": [
    "g = base._remove_virtual_nodes(new_graph, parent_label='lammps')\n",
    "g = base._remove_virtual_nodes(g, parent_label='subgraph')\n",
    "g = base.remove_hidden_nodes(g, \"lammps\")\n",
    "g.nodes"
   ]
  },
  {
   "cell_type": "code",
   "execution_count": 13,
   "metadata": {},
   "outputs": [
    {
     "data": {
      "text/html": [
       "<div>\n",
       "<style scoped>\n",
       "    .dataframe tbody tr th:only-of-type {\n",
       "        vertical-align: middle;\n",
       "    }\n",
       "\n",
       "    .dataframe tbody tr th {\n",
       "        vertical-align: top;\n",
       "    }\n",
       "\n",
       "    .dataframe thead th {\n",
       "        text-align: right;\n",
       "    }\n",
       "</style>\n",
       "<table border=\"1\" class=\"dataframe\">\n",
       "  <thead>\n",
       "    <tr style=\"text-align: right;\">\n",
       "      <th></th>\n",
       "      <th>id</th>\n",
       "      <th>import_path</th>\n",
       "      <th>label</th>\n",
       "      <th>parent_id</th>\n",
       "      <th>level</th>\n",
       "      <th>node</th>\n",
       "      <th>graph</th>\n",
       "      <th>node_type</th>\n",
       "      <th>widget_type</th>\n",
       "      <th>expanded</th>\n",
       "    </tr>\n",
       "  </thead>\n",
       "  <tbody>\n",
       "    <tr>\n",
       "      <th>0</th>\n",
       "      <td>subgraph</td>\n",
       "      <td>None</td>\n",
       "      <td>subgraph</td>\n",
       "      <td>None</td>\n",
       "      <td>0</td>\n",
       "      <td>&lt;pyiron_workflow.simple_workflow.Node object a...</td>\n",
       "      <td>Graph(id=None, label='subgraph', root_node=Non...</td>\n",
       "      <td>graph</td>\n",
       "      <td>customNode</td>\n",
       "      <td>True</td>\n",
       "    </tr>\n",
       "    <tr>\n",
       "      <th>1</th>\n",
       "      <td>bulk</td>\n",
       "      <td>pyiron_nodes.atomistic.structure.build.Bulk</td>\n",
       "      <td>bulk</td>\n",
       "      <td>subgraph</td>\n",
       "      <td>1</td>\n",
       "      <td>&lt;pyiron_workflow.simple_workflow.Node object a...</td>\n",
       "      <td>None</td>\n",
       "      <td>node</td>\n",
       "      <td>customNode</td>\n",
       "      <td>False</td>\n",
       "    </tr>\n",
       "    <tr>\n",
       "      <th>2</th>\n",
       "      <td>repeat</td>\n",
       "      <td>pyiron_nodes.atomistic.structure.transform.Repeat</td>\n",
       "      <td>repeat</td>\n",
       "      <td>subgraph</td>\n",
       "      <td>1</td>\n",
       "      <td>&lt;pyiron_workflow.simple_workflow.Node object a...</td>\n",
       "      <td>None</td>\n",
       "      <td>node</td>\n",
       "      <td>customNode</td>\n",
       "      <td>False</td>\n",
       "    </tr>\n",
       "    <tr>\n",
       "      <th>3</th>\n",
       "      <td>repeat2</td>\n",
       "      <td>pyiron_nodes.atomistic.structure.transform.Repeat</td>\n",
       "      <td>repeat2</td>\n",
       "      <td>subgraph</td>\n",
       "      <td>1</td>\n",
       "      <td>&lt;pyiron_workflow.simple_workflow.Node object a...</td>\n",
       "      <td>None</td>\n",
       "      <td>node</td>\n",
       "      <td>customNode</td>\n",
       "      <td>False</td>\n",
       "    </tr>\n",
       "    <tr>\n",
       "      <th>4</th>\n",
       "      <td>lammps</td>\n",
       "      <td>pyiron_nodes.atomistic.engine.lammps.Code1</td>\n",
       "      <td>lammps</td>\n",
       "      <td>None</td>\n",
       "      <td>0</td>\n",
       "      <td>&lt;pyiron_workflow.simple_workflow.Node object a...</td>\n",
       "      <td>Graph(id='lammps', label='lammps', root_node=N...</td>\n",
       "      <td>graph</td>\n",
       "      <td>customNode</td>\n",
       "      <td>False</td>\n",
       "    </tr>\n",
       "  </tbody>\n",
       "</table>\n",
       "</div>"
      ],
      "text/plain": [
       "NestedDict([('subgraph',\n",
       "             GraphNode(id='subgraph', import_path=None, label='subgraph', parent_id=None, level=0, node=<pyiron_workflow.simple_workflow.Node object at 0x159123800>, graph=Graph(id=None, label='subgraph', root_node=None, nodes=NestedDict({'bulk': GraphNode(id='bulk', import_path='pyiron_nodes.atomistic.structure.build.Bulk', label='bulk', parent_id=None, level=0, node=<pyiron_workflow.simple_workflow.Node object at 0x158c5f710>, graph=None, node_type='node', widget_type='customNode', expanded=False), 'repeat': GraphNode(id='repeat', import_path='pyiron_nodes.atomistic.structure.transform.Repeat', label='repeat', parent_id=None, level=0, node=<pyiron_workflow.simple_workflow.Node object at 0x159014c20>, graph=None, node_type='node', widget_type='customNode', expanded=False), 'repeat2': GraphNode(id='repeat2', import_path='pyiron_nodes.atomistic.structure.transform.Repeat', label='repeat2', parent_id=None, level=0, node=<pyiron_workflow.simple_workflow.Node object at 0x159015be0>, graph=None, node_type='node', widget_type='customNode', expanded=False)}), edges=[GraphEdge(source='bulk', target='repeat', sourceHandle='structure', targetHandle='structure'), GraphEdge(source='repeat', target='repeat2', sourceHandle='structure', targetHandle='structure')], graph={}), node_type='graph', widget_type='customNode', expanded=True)),\n",
       "            ('bulk',\n",
       "             GraphNode(id='bulk', import_path='pyiron_nodes.atomistic.structure.build.Bulk', label='bulk', parent_id='subgraph', level=1, node=<pyiron_workflow.simple_workflow.Node object at 0x158c5f710>, graph=None, node_type='node', widget_type='customNode', expanded=False)),\n",
       "            ('repeat',\n",
       "             GraphNode(id='repeat', import_path='pyiron_nodes.atomistic.structure.transform.Repeat', label='repeat', parent_id='subgraph', level=1, node=<pyiron_workflow.simple_workflow.Node object at 0x159014c20>, graph=None, node_type='node', widget_type='customNode', expanded=False)),\n",
       "            ('repeat2',\n",
       "             GraphNode(id='repeat2', import_path='pyiron_nodes.atomistic.structure.transform.Repeat', label='repeat2', parent_id='subgraph', level=1, node=<pyiron_workflow.simple_workflow.Node object at 0x159015be0>, graph=None, node_type='node', widget_type='customNode', expanded=False)),\n",
       "            ('lammps',\n",
       "             GraphNode(id='lammps', import_path='pyiron_nodes.atomistic.engine.lammps.Code1', label='lammps', parent_id=None, level=0, node=<pyiron_workflow.simple_workflow.Node object at 0x159000320>, graph=Graph(id='lammps', label='lammps', root_node=None, nodes=NestedDict({'va_i_lammps__structure': GraphNode(id='va_i_lammps__structure', import_path='pyiron_workflow.graph.base.identity', label='va_i_lammps__structure', parent_id='lammps', level=1, node=<pyiron_workflow.simple_workflow.Node object at 0x159017230>, graph=None, node_type='node', widget_type='customNode', expanded=False), 'va_i_lammps__potential': GraphNode(id='va_i_lammps__potential', import_path='pyiron_workflow.graph.base.identity', label='va_i_lammps__potential', parent_id='lammps', level=1, node=<pyiron_workflow.simple_workflow.Node object at 0x1590165d0>, graph=None, node_type='node', widget_type='customNode', expanded=False), 'va_i_lammps__calculator': GraphNode(id='va_i_lammps__calculator', import_path='pyiron_workflow.graph.base.identity', label='va_i_lammps__calculator', parent_id='lammps', level=1, node=<pyiron_workflow.simple_workflow.Node object at 0x159017050>, graph=None, node_type='node', widget_type='customNode', expanded=False), 'va_i_lammps__working_dir': GraphNode(id='va_i_lammps__working_dir', import_path='pyiron_workflow.graph.base.identity', label='va_i_lammps__working_dir', parent_id='lammps', level=1, node=<pyiron_workflow.simple_workflow.Node object at 0x159017530>, graph=None, node_type='node', widget_type='customNode', expanded=False), 'ListPotentials': GraphNode(id='ListPotentials', import_path='pyiron_nodes.atomistic.engine.lammps.ListPotentials', label='ListPotentials', parent_id='lammps', level=1, node=<pyiron_workflow.simple_workflow.Node object at 0x1590161e0>, graph=None, node_type='node', widget_type='customNode', expanded=False), 'Potential': GraphNode(id='Potential', import_path='pyiron_nodes.atomistic.engine.lammps.Potential', label='Potential', parent_id='lammps', level=1, node=<pyiron_workflow.simple_workflow.Node object at 0x158d4efc0>, graph=None, node_type='node', widget_type='customNode', expanded=False), 'InitLammps': GraphNode(id='InitLammps', import_path='pyiron_nodes.atomistic.engine.lammps.InitLammps', label='InitLammps', parent_id='lammps', level=1, node=<pyiron_workflow.simple_workflow.Node object at 0x159016f90>, graph=None, node_type='node', widget_type='customNode', expanded=False), 'Shell': GraphNode(id='Shell', import_path='pyiron_nodes.atomistic.engine.lammps.Shell', label='Shell', parent_id='lammps', level=1, node=<pyiron_workflow.simple_workflow.Node object at 0x1590162a0>, graph=None, node_type='node', widget_type='customNode', expanded=False), 'va_o_lammps__path': GraphNode(id='va_o_lammps__path', import_path='pyiron_workflow.graph.base.identity', label='va_o_lammps__path', parent_id='lammps', level=1, node=<pyiron_workflow.simple_workflow.Node object at 0x159121f40>, graph=None, node_type='node', widget_type='customNode', expanded=False), 'ParseLogFile': GraphNode(id='ParseLogFile', import_path='pyiron_nodes.atomistic.engine.lammps.ParseLogFile', label='ParseLogFile', parent_id='lammps', level=1, node=<pyiron_workflow.simple_workflow.Node object at 0x159016750>, graph=None, node_type='node', widget_type='customNode', expanded=False), 'ParseDumpFile': GraphNode(id='ParseDumpFile', import_path='pyiron_nodes.atomistic.engine.lammps.ParseDumpFile', label='ParseDumpFile', parent_id='lammps', level=1, node=<pyiron_workflow.simple_workflow.Node object at 0x159016360>, graph=None, node_type='node', widget_type='customNode', expanded=False), 'Collect': GraphNode(id='Collect', import_path='pyiron_nodes.atomistic.engine.lammps.Collect', label='Collect', parent_id='lammps', level=1, node=<pyiron_workflow.simple_workflow.Node object at 0x159016ab0>, graph=None, node_type='node', widget_type='customNode', expanded=False), 'va_o_lammps__generic': GraphNode(id='va_o_lammps__generic', import_path='pyiron_workflow.graph.base.identity', label='va_o_lammps__generic', parent_id='lammps', level=1, node=<pyiron_workflow.simple_workflow.Node object at 0x159017680>, graph=None, node_type='node', widget_type='customNode', expanded=False)}), edges=[GraphEdge(source='va_i_lammps__structure', target='Potential', sourceHandle='x', targetHandle='structure'), GraphEdge(source='va_i_lammps__potential', target='Potential', sourceHandle='x', targetHandle='name'), GraphEdge(source='va_i_lammps__structure', target='ListPotentials', sourceHandle='x', targetHandle='structure'), GraphEdge(source='va_i_lammps__structure', target='InitLammps', sourceHandle='x', targetHandle='structure'), GraphEdge(source='va_i_lammps__calculator', target='InitLammps', sourceHandle='x', targetHandle='calculator'), GraphEdge(source='va_i_lammps__working_dir', target='InitLammps', sourceHandle='x', targetHandle='working_directory'), GraphEdge(source='Potential', target='InitLammps', sourceHandle='pot', targetHandle='potential'), GraphEdge(source='InitLammps', target='Shell', sourceHandle='path', targetHandle='working_directory'), GraphEdge(source='Shell', target='ParseLogFile', sourceHandle='log', targetHandle='log_file'), GraphEdge(source='Shell', target='ParseDumpFile', sourceHandle='dump', targetHandle='dump_file'), GraphEdge(source='ParseDumpFile', target='Collect', sourceHandle='dump', targetHandle='out_dump'), GraphEdge(source='ParseLogFile', target='Collect', sourceHandle='log', targetHandle='out_log'), GraphEdge(source='Collect', target='va_o_lammps__generic', sourceHandle='generic', targetHandle='x'), GraphEdge(source='InitLammps', target='va_o_lammps__path', sourceHandle='path', targetHandle='x')], graph={}), node_type='graph', widget_type='customNode', expanded=False))])"
      ]
     },
     "execution_count": 13,
     "metadata": {},
     "output_type": "execute_result"
    }
   ],
   "source": [
    "new_graph.nodes"
   ]
  },
  {
   "cell_type": "code",
   "execution_count": 14,
   "metadata": {},
   "outputs": [
    {
     "data": {
      "text/html": [
       "<div>\n",
       "<style scoped>\n",
       "    .dataframe tbody tr th:only-of-type {\n",
       "        vertical-align: middle;\n",
       "    }\n",
       "\n",
       "    .dataframe tbody tr th {\n",
       "        vertical-align: top;\n",
       "    }\n",
       "\n",
       "    .dataframe thead th {\n",
       "        text-align: right;\n",
       "    }\n",
       "</style>\n",
       "<table border=\"1\" class=\"dataframe\">\n",
       "  <thead>\n",
       "    <tr style=\"text-align: right;\">\n",
       "      <th></th>\n",
       "      <th>source</th>\n",
       "      <th>target</th>\n",
       "      <th>sourceHandle</th>\n",
       "      <th>targetHandle</th>\n",
       "    </tr>\n",
       "  </thead>\n",
       "  <tbody>\n",
       "    <tr>\n",
       "      <th>0</th>\n",
       "      <td>bulk</td>\n",
       "      <td>repeat</td>\n",
       "      <td>structure</td>\n",
       "      <td>structure</td>\n",
       "    </tr>\n",
       "    <tr>\n",
       "      <th>1</th>\n",
       "      <td>repeat</td>\n",
       "      <td>repeat2</td>\n",
       "      <td>structure</td>\n",
       "      <td>structure</td>\n",
       "    </tr>\n",
       "    <tr>\n",
       "      <th>2</th>\n",
       "      <td>bulk</td>\n",
       "      <td>repeat</td>\n",
       "      <td>structure</td>\n",
       "      <td>structure</td>\n",
       "    </tr>\n",
       "    <tr>\n",
       "      <th>3</th>\n",
       "      <td>repeat</td>\n",
       "      <td>repeat2</td>\n",
       "      <td>structure</td>\n",
       "      <td>structure</td>\n",
       "    </tr>\n",
       "    <tr>\n",
       "      <th>4</th>\n",
       "      <td>repeat2</td>\n",
       "      <td>lammps</td>\n",
       "      <td>structure</td>\n",
       "      <td>structure</td>\n",
       "    </tr>\n",
       "  </tbody>\n",
       "</table>\n",
       "</div>"
      ],
      "text/plain": [
       "[GraphEdge(source='bulk', target='repeat', sourceHandle='structure', targetHandle='structure'),\n",
       " GraphEdge(source='repeat', target='repeat2', sourceHandle='structure', targetHandle='structure'),\n",
       " GraphEdge(source='bulk', target='repeat', sourceHandle='structure', targetHandle='structure'),\n",
       " GraphEdge(source='repeat', target='repeat2', sourceHandle='structure', targetHandle='structure'),\n",
       " GraphEdge(source='repeat2', target='lammps', sourceHandle='structure', targetHandle='structure')]"
      ]
     },
     "execution_count": 14,
     "metadata": {},
     "output_type": "execute_result"
    }
   ],
   "source": [
    "new_graph.edges"
   ]
  },
  {
   "cell_type": "code",
   "execution_count": 15,
   "metadata": {},
   "outputs": [
    {
     "data": {
      "text/plain": [
       "{'label': 'subgraph',\n",
       " 'nodes': {'bulk': {'id': 'bulk',\n",
       "   'import_path': 'pyiron_nodes.atomistic.structure.build.Bulk',\n",
       "   'label': 'bulk',\n",
       "   'parent_id': None,\n",
       "   'level': 0,\n",
       "   'graph': None,\n",
       "   'node_type': 'node',\n",
       "   'widget_type': 'customNode',\n",
       "   'expanded': False,\n",
       "   'node': {'label': 'bulk',\n",
       "    'function': 'pyiron_nodes.atomistic.structure.build.Bulk',\n",
       "    'inputs': {'name': 'Al', 'cubic': True}}},\n",
       "  'repeat': {'id': 'repeat',\n",
       "   'import_path': 'pyiron_nodes.atomistic.structure.transform.Repeat',\n",
       "   'label': 'repeat',\n",
       "   'parent_id': None,\n",
       "   'level': 0,\n",
       "   'graph': None,\n",
       "   'node_type': 'node',\n",
       "   'widget_type': 'customNode',\n",
       "   'expanded': False,\n",
       "   'node': {'label': 'repeat',\n",
       "    'function': 'pyiron_nodes.atomistic.structure.transform.Repeat',\n",
       "    'inputs': {}}},\n",
       "  'repeat2': {'id': 'repeat2',\n",
       "   'import_path': 'pyiron_nodes.atomistic.structure.transform.Repeat',\n",
       "   'label': 'repeat2',\n",
       "   'parent_id': None,\n",
       "   'level': 0,\n",
       "   'graph': None,\n",
       "   'node_type': 'node',\n",
       "   'widget_type': 'customNode',\n",
       "   'expanded': False,\n",
       "   'node': {'label': 'repeat2',\n",
       "    'function': 'pyiron_nodes.atomistic.structure.transform.Repeat',\n",
       "    'inputs': {}}}},\n",
       " 'edges': {'values': [{'source': 'bulk',\n",
       "    'target': 'repeat',\n",
       "    'sourceHandle': 'structure',\n",
       "    'targetHandle': 'structure'},\n",
       "   {'source': 'repeat',\n",
       "    'target': 'repeat2',\n",
       "    'sourceHandle': 'structure',\n",
       "    'targetHandle': 'structure'}],\n",
       "  'obj_type': 'pyiron_workflow.graph.base.GraphEdge'}}"
      ]
     },
     "execution_count": 15,
     "metadata": {},
     "output_type": "execute_result"
    }
   ],
   "source": [
    "new_graph.__getstate__()['nodes']['subgraph']['graph']"
   ]
  },
  {
   "cell_type": "code",
   "execution_count": 16,
   "metadata": {},
   "outputs": [
    {
     "data": {
      "text/plain": [
       "{'calculator': 'NotData'}"
      ]
     },
     "execution_count": 16,
     "metadata": {},
     "output_type": "execute_result"
    }
   ],
   "source": [
    "new_graph.__getstate__()['nodes']['lammps']['node']['inputs']"
   ]
  },
  {
   "cell_type": "code",
   "execution_count": 17,
   "metadata": {},
   "outputs": [
    {
     "ename": "AttributeError",
     "evalue": "module 'pyiron_workflow.graph.base' has no attribute 'subgraph'",
     "output_type": "error",
     "traceback": [
      "\u001b[0;31m---------------------------------------------------------------------------\u001b[0m",
      "\u001b[0;31mAttributeError\u001b[0m                            Traceback (most recent call last)",
      "Cell \u001b[0;32mIn[17], line 2\u001b[0m\n\u001b[1;32m      1\u001b[0m \u001b[38;5;66;03m# base._save_graph(new_graph2, \"new_graph2.json\")\u001b[39;00m\n\u001b[0;32m----> 2\u001b[0m loaded_graph \u001b[38;5;241m=\u001b[39m \u001b[43mbase\u001b[49m\u001b[38;5;241;43m.\u001b[39;49m\u001b[43m_load_graph\u001b[49m\u001b[43m(\u001b[49m\u001b[38;5;124;43m\"\u001b[39;49m\u001b[38;5;124;43mnew_graph2.json\u001b[39;49m\u001b[38;5;124;43m\"\u001b[39;49m\u001b[43m)\u001b[49m\n",
      "File \u001b[0;32m~/git_libs/pyiron_core/pyiron_workflow/graph/base.py:1647\u001b[0m, in \u001b[0;36m_load_graph\u001b[0;34m(filename, workflow_dir)\u001b[0m\n\u001b[1;32m   1644\u001b[0m     \u001b[38;5;28;01mraise\u001b[39;00m \u001b[38;5;167;01mFileNotFoundError\u001b[39;00m(\u001b[38;5;124mf\u001b[39m\u001b[38;5;124m\"\u001b[39m\u001b[38;5;124mFile \u001b[39m\u001b[38;5;124m'\u001b[39m\u001b[38;5;132;01m{\u001b[39;00mfilename\u001b[38;5;132;01m}\u001b[39;00m\u001b[38;5;124m'\u001b[39m\u001b[38;5;124m not found in dir \u001b[39m\u001b[38;5;132;01m{\u001b[39;00mworkflow_dir\u001b[38;5;132;01m}\u001b[39;00m\u001b[38;5;124m.\u001b[39m\u001b[38;5;124m\"\u001b[39m)\n\u001b[1;32m   1646\u001b[0m \u001b[38;5;28;01mwith\u001b[39;00m \u001b[38;5;28mopen\u001b[39m(wf_file, \u001b[38;5;124m\"\u001b[39m\u001b[38;5;124mr\u001b[39m\u001b[38;5;124m\"\u001b[39m) \u001b[38;5;28;01mas\u001b[39;00m f:\n\u001b[0;32m-> 1647\u001b[0m     graph \u001b[38;5;241m=\u001b[39m \u001b[43mGraph\u001b[49m\u001b[43m(\u001b[49m\u001b[43m)\u001b[49m\u001b[38;5;241;43m.\u001b[39;49m\u001b[43m__setstate__\u001b[49m\u001b[43m(\u001b[49m\u001b[43mjson\u001b[49m\u001b[38;5;241;43m.\u001b[39;49m\u001b[43mload\u001b[49m\u001b[43m(\u001b[49m\u001b[43mf\u001b[49m\u001b[43m)\u001b[49m\u001b[43m)\u001b[49m\n\u001b[1;32m   1649\u001b[0m \u001b[38;5;28;01mreturn\u001b[39;00m graph\n",
      "File \u001b[0;32m~/git_libs/pyiron_core/pyiron_workflow/graph/base.py:139\u001b[0m, in \u001b[0;36m_setstate__graph\u001b[0;34m(self, state)\u001b[0m\n\u001b[1;32m    137\u001b[0m \u001b[38;5;28;01mdef\u001b[39;00m \u001b[38;5;21m_setstate__graph\u001b[39m(\u001b[38;5;28mself\u001b[39m, state):\n\u001b[1;32m    138\u001b[0m     \u001b[38;5;28mself\u001b[39m\u001b[38;5;241m.\u001b[39mlabel \u001b[38;5;241m=\u001b[39m state[\u001b[38;5;124m\"\u001b[39m\u001b[38;5;124mlabel\u001b[39m\u001b[38;5;124m\"\u001b[39m]\n\u001b[0;32m--> 139\u001b[0m     \u001b[38;5;28mself\u001b[39m\u001b[38;5;241m.\u001b[39mnodes \u001b[38;5;241m=\u001b[39m \u001b[43mNodes\u001b[49m\u001b[43m(\u001b[49m\u001b[43m)\u001b[49m\u001b[38;5;241;43m.\u001b[39;49m\u001b[43m__setstate__\u001b[49m\u001b[43m(\u001b[49m\u001b[43mstate\u001b[49m\u001b[43m[\u001b[49m\u001b[38;5;124;43m\"\u001b[39;49m\u001b[38;5;124;43mnodes\u001b[39;49m\u001b[38;5;124;43m\"\u001b[39;49m\u001b[43m]\u001b[49m\u001b[43m)\u001b[49m\n\u001b[1;32m    140\u001b[0m     \u001b[38;5;66;03m# make update to the nodes without copying the object\u001b[39;00m\n\u001b[1;32m    141\u001b[0m     \u001b[38;5;66;03m# edges = Edges().__setstate__(state[\"edges\"])\u001b[39;00m\n\u001b[1;32m    142\u001b[0m     \u001b[38;5;66;03m# for edge in edges:\u001b[39;00m\n\u001b[1;32m    143\u001b[0m     \u001b[38;5;66;03m#     self += edge\u001b[39;00m\n\u001b[1;32m    144\u001b[0m     \u001b[38;5;28mself\u001b[39m\u001b[38;5;241m.\u001b[39medges \u001b[38;5;241m=\u001b[39m Edges()\u001b[38;5;241m.\u001b[39m__setstate__(state[\u001b[38;5;124m\"\u001b[39m\u001b[38;5;124medges\u001b[39m\u001b[38;5;124m\"\u001b[39m])\n",
      "File \u001b[0;32m~/git_libs/pyiron_core/pyiron_workflow/graph/decorators.py:188\u001b[0m, in \u001b[0;36mNestedDict.__setstate__\u001b[0;34m(self, state)\u001b[0m\n\u001b[1;32m    185\u001b[0m     \u001b[38;5;28mself\u001b[39m\u001b[38;5;241m.\u001b[39m_obj_type \u001b[38;5;241m=\u001b[39m get_object_from_path(state[\u001b[38;5;124m\"\u001b[39m\u001b[38;5;124m_obj_type\u001b[39m\u001b[38;5;124m\"\u001b[39m])\n\u001b[1;32m    186\u001b[0m     \u001b[38;5;28;01mdel\u001b[39;00m state[\u001b[38;5;124m\"\u001b[39m\u001b[38;5;124m_obj_type\u001b[39m\u001b[38;5;124m\"\u001b[39m]\n\u001b[0;32m--> 188\u001b[0m     \u001b[38;5;28mself\u001b[39m\u001b[38;5;241m.\u001b[39mupdate({k: \u001b[38;5;28;43mself\u001b[39;49m\u001b[38;5;241;43m.\u001b[39;49m\u001b[43m_obj_type\u001b[49m\u001b[43m(\u001b[49m\u001b[43m)\u001b[49m\u001b[38;5;241;43m.\u001b[39;49m\u001b[43m__setstate__\u001b[49m\u001b[43m(\u001b[49m\u001b[43mv\u001b[49m\u001b[43m)\u001b[49m \u001b[38;5;28;01mfor\u001b[39;00m k, v \u001b[38;5;129;01min\u001b[39;00m state\u001b[38;5;241m.\u001b[39mitems()})\n\u001b[1;32m    189\u001b[0m \u001b[38;5;28;01melse\u001b[39;00m:\n\u001b[1;32m    190\u001b[0m     \u001b[38;5;28mself\u001b[39m\u001b[38;5;241m.\u001b[39mupdate(state)\n",
      "File \u001b[0;32m~/git_libs/pyiron_core/pyiron_workflow/graph/base.py:60\u001b[0m, in \u001b[0;36m_setstate__graph_node\u001b[0;34m(self, state)\u001b[0m\n\u001b[1;32m     58\u001b[0m \u001b[38;5;28;01mfor\u001b[39;00m k, v \u001b[38;5;129;01min\u001b[39;00m state\u001b[38;5;241m.\u001b[39mitems():\n\u001b[1;32m     59\u001b[0m     \u001b[38;5;28;01mif\u001b[39;00m k \u001b[38;5;241m==\u001b[39m \u001b[38;5;124m\"\u001b[39m\u001b[38;5;124mnode\u001b[39m\u001b[38;5;124m\"\u001b[39m:\n\u001b[0;32m---> 60\u001b[0m         \u001b[38;5;28mself\u001b[39m\u001b[38;5;241m.\u001b[39mnode \u001b[38;5;241m=\u001b[39m \u001b[43mNode\u001b[49m\u001b[43m(\u001b[49m\u001b[43m)\u001b[49m\u001b[38;5;241;43m.\u001b[39;49m\u001b[43m__setstate__\u001b[49m\u001b[43m(\u001b[49m\u001b[43mv\u001b[49m\u001b[43m)\u001b[49m\n\u001b[1;32m     61\u001b[0m     \u001b[38;5;28;01melif\u001b[39;00m k \u001b[38;5;241m==\u001b[39m \u001b[38;5;124m\"\u001b[39m\u001b[38;5;124mgraph\u001b[39m\u001b[38;5;124m\"\u001b[39m:\n\u001b[1;32m     62\u001b[0m         \u001b[38;5;28;01mif\u001b[39;00m v \u001b[38;5;129;01mis\u001b[39;00m \u001b[38;5;129;01mnot\u001b[39;00m \u001b[38;5;28;01mNone\u001b[39;00m:\n",
      "File \u001b[0;32m~/git_libs/pyiron_core/pyiron_workflow/simple_workflow.py:541\u001b[0m, in \u001b[0;36mNode.__setstate__\u001b[0;34m(self, state)\u001b[0m\n\u001b[1;32m    540\u001b[0m \u001b[38;5;28;01mdef\u001b[39;00m \u001b[38;5;21m__setstate__\u001b[39m(\u001b[38;5;28mself\u001b[39m, state):\n\u001b[0;32m--> 541\u001b[0m     \u001b[38;5;28mself\u001b[39m \u001b[38;5;241m=\u001b[39m \u001b[43mget_node_from_path\u001b[49m\u001b[43m(\u001b[49m\u001b[43mstate\u001b[49m\u001b[43m[\u001b[49m\u001b[38;5;124;43m\"\u001b[39;49m\u001b[38;5;124;43mfunction\u001b[39;49m\u001b[38;5;124;43m\"\u001b[39;49m\u001b[43m]\u001b[49m\u001b[43m)\u001b[49m(\u001b[38;5;241m*\u001b[39m\u001b[38;5;241m*\u001b[39mstate[\u001b[38;5;124m\"\u001b[39m\u001b[38;5;124minputs\u001b[39m\u001b[38;5;124m\"\u001b[39m])\n\u001b[1;32m    542\u001b[0m     \u001b[38;5;28mself\u001b[39m\u001b[38;5;241m.\u001b[39mlabel \u001b[38;5;241m=\u001b[39m state[\u001b[38;5;124m\"\u001b[39m\u001b[38;5;124mlabel\u001b[39m\u001b[38;5;124m\"\u001b[39m]\n\u001b[1;32m    543\u001b[0m     \u001b[38;5;28;01mreturn\u001b[39;00m \u001b[38;5;28mself\u001b[39m\n",
      "File \u001b[0;32m~/git_libs/pyiron_core/pyiron_workflow/simple_workflow.py:561\u001b[0m, in \u001b[0;36mget_node_from_path\u001b[0;34m(import_path)\u001b[0m\n\u001b[1;32m    559\u001b[0m     \u001b[38;5;28;01mreturn\u001b[39;00m \u001b[38;5;28;01mNone\u001b[39;00m\n\u001b[1;32m    560\u001b[0m \u001b[38;5;66;03m# Get the object\u001b[39;00m\n\u001b[0;32m--> 561\u001b[0m object_from_path \u001b[38;5;241m=\u001b[39m \u001b[38;5;28;43mgetattr\u001b[39;49m\u001b[43m(\u001b[49m\u001b[43mmodule\u001b[49m\u001b[43m,\u001b[49m\u001b[43m \u001b[49m\u001b[43mname\u001b[49m\u001b[43m)\u001b[49m\n\u001b[1;32m    562\u001b[0m \u001b[38;5;28;01mreturn\u001b[39;00m object_from_path\n",
      "\u001b[0;31mAttributeError\u001b[0m: module 'pyiron_workflow.graph.base' has no attribute 'subgraph'"
     ]
    }
   ],
   "source": [
    "# base._save_graph(new_graph2, \"new_graph2.json\")\n",
    "loaded_graph = base._load_graph(\"new_graph2.json\")"
   ]
  },
  {
   "cell_type": "code",
   "execution_count": null,
   "metadata": {},
   "outputs": [],
   "source": [
    "base.display_gui_data(new_graph2)\n"
   ]
  },
  {
   "cell_type": "code",
   "execution_count": null,
   "metadata": {},
   "outputs": [],
   "source": [
    "new_graph = base.create_group(full_graph, [0,1], label=\"subgraph\")\n",
    "new_graph = base.move_parent_nodes_to_top(new_graph)\n",
    "new_graph.nodes[\"subgraph\"].expanded = True\n",
    "new_graph = base.get_updated_graph(new_graph)\n",
    "\n",
    "# new_graph0 = base.collapse_node(new_graph, \"subgraph\")\n",
    "# new_graph = base.expand_node(new_graph, \"subgraph\")\n",
    "# new_graph1 = base._remove_virtual_edges(new_graph0)\n",
    "# new_graph2 = base._remove_edges_to_hidden_nodes(new_graph1)\n",
    "# new_graph = base._remove_virtual_nodes(new_graph, reconnect_edges=True, parent_label=\"subgraph\")\n",
    "# new_graph = base._remove_virtual_nodes(new_graph, reconnect_edges=True, parent_label=\"lammps\")\n",
    "# new_graph = base.update_execution_graph(new_graph)\n",
    "\n",
    "new_graph.edges"
   ]
  },
  {
   "cell_type": "code",
   "execution_count": null,
   "metadata": {},
   "outputs": [],
   "source": [
    "new_graph0.edges"
   ]
  },
  {
   "cell_type": "markdown",
   "metadata": {},
   "source": [
    "TODO:\n",
    "- remove duplicate edges"
   ]
  },
  {
   "cell_type": "code",
   "execution_count": null,
   "metadata": {},
   "outputs": [],
   "source": [
    "xx"
   ]
  },
  {
   "cell_type": "code",
   "execution_count": 18,
   "metadata": {},
   "outputs": [
    {
     "name": "stdout",
     "output_type": "stream",
     "text": [
      "Expanding node Code1\n"
     ]
    },
    {
     "data": {
      "application/vnd.jupyter.widget-view+json": {
       "model_id": "b08d8ee62a6f4abc84287a8bddcd992b",
       "version_major": 2,
       "version_minor": 0
      },
      "text/plain": [
       "HBox(children=(Output(), Tab(children=(ReactFlowWidget(layout=Layout(height='800px', width='1200px')), ReactFl…"
      ]
     },
     "execution_count": 18,
     "metadata": {},
     "output_type": "execute_result"
    },
    {
     "name": "stdout",
     "output_type": "stream",
     "text": [
      "Expanding node CubicBulkCell\n"
     ]
    }
   ],
   "source": [
    "from pyiron_workflow.graph import gui\n",
    "\n",
    "pf = gui.PyironFlow(['flow_macro', 'lammps_test'])\n",
    "pf.gui"
   ]
  },
  {
   "cell_type": "code",
   "execution_count": null,
   "metadata": {},
   "outputs": [],
   "source": [
    "base._graph_to_gui(sub_graph)"
   ]
  },
  {
   "cell_type": "code",
   "execution_count": null,
   "metadata": {},
   "outputs": [],
   "source": [
    "def Subgraph(structure, ):\n",
    "\n",
    "    from pyiron_workflow import Workflow\n",
    "    import pyiron_nodes\n",
    "\n",
    "    wf = Workflow('subgraph')\n",
    "\n",
    "    wf.Repeat = pyiron_nodes.atomistic.structure.transform.Repeat(structure=structure) \n",
    "    wf.Repeat_2 = pyiron_nodes.atomistic.structure.transform.Repeat(structure=wf.Repeat) \n",
    "    wf.Plot3d = pyiron_nodes.atomistic.structure.view.Plot3d(structure=structure) \n",
    "\n",
    "    return wf.Repeat_2\n",
    "\n",
    "structure = pn.atomistic.structure.build.Bulk(\"Al\", cubic=True).run()\n",
    "Subgraph(structure=structure).pull()"
   ]
  },
  {
   "cell_type": "code",
   "execution_count": null,
   "metadata": {},
   "outputs": [],
   "source": [
    "def my_func(structure=None, repeat_scalar=1):\n",
    "    from pyiron_workflow import Workflow\n",
    "    import pyiron_nodes\n",
    "\n",
    "    wf = Workflow(\"subgraph\")\n",
    "\n",
    "    # wf.va_i_subgraph__structure = __main__.InputNode()\n",
    "    wf.Repeat = pyiron_nodes.atomistic.structure.transform.Repeat(structure=structure, repeat_scalar=repeat_scalar)\n",
    "    wf.Repeat_2 = pyiron_nodes.atomistic.structure.transform.Repeat(structure=wf.Repeat)\n",
    "    wf.Plot3d = pyiron_nodes.atomistic.structure.view.Plot3d(structure=structure)\n",
    "\n",
    "    return wf.Repeat_2.pull()\n",
    "   \n",
    "structure = pn.atomistic.structure.build.Bulk(\"Al\", cubic=True).run()\n",
    "my_func(structure=structure, repeat_scalar=2);\n"
   ]
  },
  {
   "cell_type": "code",
   "execution_count": null,
   "metadata": {},
   "outputs": [],
   "source": [
    "structure = pn.atomistic.structure.build.Bulk(\"Al\", cubic=True).run()\n",
    "import pyiron_nodes\n",
    "\n",
    "wf = Workflow(\"subgraph\")\n",
    "\n",
    "# wf.va_i_subgraph__structure = __main__.InputNode()\n",
    "wf.Repeat = pyiron_nodes.atomistic.structure.transform.Repeat(structure=structure)\n",
    "wf.Repeat_2 = pyiron_nodes.atomistic.structure.transform.Repeat(structure=wf.Repeat, repeat_scalar=1)\n",
    "wf.Plot3d = pyiron_nodes.atomistic.structure.view.Plot3d(structure=structure)\n",
    "\n",
    "wf.run()\n"
   ]
  },
  {
   "cell_type": "markdown",
   "metadata": {},
   "source": [
    "## From Graph"
   ]
  },
  {
   "cell_type": "code",
   "execution_count": null,
   "metadata": {},
   "outputs": [],
   "source": [
    "import pyiron_nodes as pn\n",
    "\n",
    "\n",
    "@as_function_node\n",
    "def InputNode(structure=None):\n",
    "    return structure\n",
    "\n",
    "\n",
    "@as_function_node\n",
    "def OutputNode(structure=None):\n",
    "    return structure\n",
    "\n",
    "InputStructure = \"va_i_subgraph__structure\"\n",
    "OutputStructure = \"va_o_subgraph__structure\"\n",
    "\n",
    "sub_graph = base.Graph(label=\"subgraph\")\n",
    "sub_graph += InputNode(label=InputStructure)\n",
    "#sub_graph += pn.atomistic.structure.transform.Repeat(label=\"Repeat\")\n",
    "#sub_graph += pn.atomistic.structure.transform.Repeat(label=\"Repeat_2\")\n",
    "#sub_graph += pn.atomistic.structure.view.Plot3d(label=\"Plot3d\")\n",
    "sub_graph += OutputNode(label=OutputStructure)\n",
    "\n",
    "#sub_graph += base.GraphEdge(\"Repeat\", \"Repeat_2\", \"structure\", \"structure\")\n",
    "#sub_graph += base.GraphEdge(InputStructure, \"Repeat\", \"structure\", \"structure\")\n",
    "#sub_graph += base.GraphEdge(InputStructure, \"Plot3d\", \"structure\", \"structure\")\n",
    "#sub_graph += base.GraphEdge(\"Repeat_2\", OutputStructure, \"structure\", \"structure\")\n",
    "\n",
    "graph = base.Graph(label=\"Workflow\")\n",
    "graph += pn.atomistic.structure.build.Bulk(name=\"Al\", label=\"structure\")\n",
    "graph += pn.atomistic.structure.transform.Repeat(label=\"repeat\")\n",
    "graph += sub_graph\n",
    "graph.nodes[\"subgraph\"].expanded = False\n",
    "graph.nodes[\"subgraph\"].node = base.graph_to_node(sub_graph)\n",
    "\n",
    "graph += pn.atomistic.structure.view.Plot3d(label=\"plot\")\n",
    "\n",
    "graph += base.GraphEdge(\"structure\", \"repeat\", \"structure\", \"structure\")\n",
    "graph += base.GraphEdge(OutputStructure, \"plot\", \"structure\", \"structure\")\n",
    "graph += base.GraphEdge(\"repeat\", InputStructure, \"structure\", \"structure\")\n",
    "# graph += base.GraphEdge(\"subgraph\", \"plot\", \"structure\", \"structure\")\n",
    "# graph += base.GraphEdge(\"repeat\", \"subgraph\", \"structure\", \"structure\")\n",
    "\n",
    "graph = base.remove_node(graph, \"Repeat\")\n",
    "graph = base.remove_node(graph, \"Repeat_2\")\n",
    "\n",
    "\n",
    "base.GuiGraph(graph);"
   ]
  },
  {
   "cell_type": "code",
   "execution_count": null,
   "metadata": {},
   "outputs": [],
   "source": [
    "sub_graph = base.Graph(label=\"subgraph\")\n",
    "sub_graph += pn.atomistic.structure.build.Bulk(label='Bulk', name='Al')\n",
    "sub_graph += pn.atomistic.structure.transform.Repeat(label=\"Repeat\", repeat_scalar=2)\n",
    "sub_graph += pn.atomistic.structure.transform.Repeat(label=\"Repeat_2\")\n",
    "sub_graph += pn.atomistic.structure.view.Plot3d(label=\"Plot3d\")\n",
    "# sub_graph += OutputNode(label=OutputStructure)\n",
    "\n",
    "sub_graph += base.GraphEdge(\"Repeat\", \"Repeat_2\", \"structure\", \"structure\")\n",
    "sub_graph += base.GraphEdge(\"Bulk\", \"Repeat\", \"structure\", \"structure\")\n",
    "sub_graph += base.GraphEdge(\"Bulk\", \"Plot3d\", \"structure\", \"structure\")\n",
    "# sub_graph += base.GraphEdge(\"Repeat_2\", OutputStructure, \"structure\", \"structure\")\n",
    "\n",
    "# sub_graph = base.update_execution_graph(sub_graph)\n",
    "\n",
    "graph = base.Graph(label=\"Workflow\")\n",
    "graph += pn.atomistic.structure.build.Bulk(name=\"Al\", label=\"structure\")\n",
    "graph += pn.atomistic.structure.transform.Repeat(label=\"repeat\")\n",
    "# graph += base.graph_to_node(sub_graph)\n",
    "graph += sub_graph \n",
    "graph.nodes[\"subgraph\"].expanded = False\n",
    "graph.nodes[\"subgraph\"].node = base.graph_to_node(sub_graph)\n",
    "\n",
    "graph += pn.atomistic.structure.view.Plot3d(label=\"plot\")\n",
    "\n",
    "graph += base.GraphEdge(\"structure\", \"repeat\", \"structure\", \"structure\")\n",
    "# graph += base.GraphEdge(OutputStructure, \"plot\", \"structure\", \"structure\")\n",
    "# graph += base.GraphEdge(\"repeat\", InputStructure, \"structure\", \"structure\")\n",
    "\n",
    "base.get_inputs_of_graph(sub_graph, exclude_unconnected_default_ports=True)\n",
    "base.GuiGraph(graph)"
   ]
  },
  {
   "cell_type": "code",
   "execution_count": null,
   "metadata": {},
   "outputs": [],
   "source": [
    "node = base.graph_to_node(sub_graph)\n",
    "node.inputs.repeat_scalar = 1\n",
    "node.inputs\n",
    "\n",
    "node.run()"
   ]
  },
  {
   "cell_type": "code",
   "execution_count": null,
   "metadata": {},
   "outputs": [],
   "source": [
    "graph.nodes[\"subgraph\"].expanded = True\n",
    "graph.nodes"
   ]
  },
  {
   "cell_type": "code",
   "execution_count": null,
   "metadata": {},
   "outputs": [],
   "source": [
    "xx"
   ]
  },
  {
   "cell_type": "code",
   "execution_count": null,
   "metadata": {},
   "outputs": [],
   "source": [
    "print(graph.nodes[\"subgraph\"].expanded)\n",
    "# Collapse a node\n",
    "collapsed_graph = base.collapse_node(graph, \"subgraph\")\n",
    "\n",
    "# Expand a node\n",
    "expanded_graph = base._expand_node(graph, \"subgraph\")\n",
    "print(graph.nodes[\"subgraph\"].expanded)\n"
   ]
  },
  {
   "cell_type": "code",
   "execution_count": null,
   "metadata": {},
   "outputs": [],
   "source": [
    "graph.label"
   ]
  },
  {
   "cell_type": "code",
   "execution_count": null,
   "metadata": {},
   "outputs": [],
   "source": [
    "pf = gui.PyironFlow([graph])\n",
    "pf.gui"
   ]
  },
  {
   "cell_type": "code",
   "execution_count": null,
   "metadata": {},
   "outputs": [],
   "source": [
    "base.GuiGraph(collapsed_graph);"
   ]
  },
  {
   "cell_type": "code",
   "execution_count": null,
   "metadata": {},
   "outputs": [],
   "source": [
    "graph.nodes[\"subgraph\"].node.__getstate__() # correct function has to be constructed and stored in the node!"
   ]
  },
  {
   "cell_type": "markdown",
   "metadata": {},
   "source": [
    "## From workflow"
   ]
  },
  {
   "cell_type": "code",
   "execution_count": null,
   "metadata": {},
   "outputs": [],
   "source": [
    "wf = Workflow('lammps_full')\n",
    "\n",
    "# wf.structure = pn.atomistic.structure.build.Bulk('Al', cubic=True)\n",
    "wf.lammps = pn.atomistic.engine.lammps.Code1() # structure=wf.structure)\n",
    "# wf.md_output = pn.atomistic.calculator.data.OutputCalcMD(dataclass=wf.lammps.outputs.generic)"
   ]
  },
  {
   "cell_type": "code",
   "execution_count": null,
   "metadata": {},
   "outputs": [],
   "source": [
    "graph = base.Graph(label='test')\n",
    "graph += pn.atomistic.engine.lammps.Code1()\n",
    "graph.nodes[\"Code1\"].expanded = False\n",
    "\n",
    "base.GuiGraph(graph)\n",
    "                   "
   ]
  },
  {
   "cell_type": "code",
   "execution_count": null,
   "metadata": {},
   "outputs": [],
   "source": [
    "# graph.nodes['Code1'].graph"
   ]
  },
  {
   "cell_type": "code",
   "execution_count": null,
   "metadata": {},
   "outputs": [],
   "source": [
    "graph = base.get_full_graph_from_wf(wf)\n"
   ]
  },
  {
   "cell_type": "code",
   "execution_count": null,
   "metadata": {},
   "outputs": [],
   "source": [
    "base.get_import_path_from_type(pn.atomistic.engine.lammps.Code1)"
   ]
  },
  {
   "cell_type": "code",
   "execution_count": null,
   "metadata": {},
   "outputs": [],
   "source": [
    "# wf = Workflow(\"flow\")\n",
    "# wf.LoadGraph = pn.graphs.flow.LoadGraph('lammps_full')\n",
    "# wf.DisplayNodes = pn.graphs.flow.DisplayNodes(graph=wf.LoadGraph)\n",
    "# wf.DisplayNodes.pull()\n",
    "\n",
    "# graph = base.get_full_graph_from_wf(wf)"
   ]
  },
  {
   "cell_type": "code",
   "execution_count": null,
   "metadata": {},
   "outputs": [],
   "source": [
    "# base.GuiGraph(pf.graph)"
   ]
  },
  {
   "cell_type": "code",
   "execution_count": null,
   "metadata": {},
   "outputs": [],
   "source": [
    "pf = gui.PyironFlow([wf, 'flow_expand', 'edges'])\n",
    "pf.gui"
   ]
  },
  {
   "cell_type": "code",
   "execution_count": null,
   "metadata": {},
   "outputs": [],
   "source": [
    "from pyiron_workflow import as_macro_node"
   ]
  },
  {
   "cell_type": "code",
   "execution_count": null,
   "metadata": {},
   "outputs": [],
   "source": [
    "graph = base.Graph('test')\n",
    "graph += pf.graph.nodes['Repeat']\n",
    "\n",
    "pf.graph.nodes['Repeat'].node.outputs.structure"
   ]
  },
  {
   "cell_type": "code",
   "execution_count": null,
   "metadata": {},
   "outputs": [],
   "source": [
    "base.get_inputs_of_graph(pf.graph, exclude_unconnected_default_ports=True) "
   ]
  },
  {
   "cell_type": "code",
   "execution_count": null,
   "metadata": {},
   "outputs": [],
   "source": [
    "base.get_inputs_of_graph(graph, exclude_unconnected_default_ports=False)"
   ]
  },
  {
   "cell_type": "code",
   "execution_count": null,
   "metadata": {},
   "outputs": [],
   "source": [
    "base.get_outputs_of_graph(pf.graph)"
   ]
  },
  {
   "cell_type": "code",
   "execution_count": null,
   "metadata": {},
   "outputs": [],
   "source": [
    "print(base.graph_to_code(pf.graph))"
   ]
  },
  {
   "cell_type": "code",
   "execution_count": null,
   "metadata": {},
   "outputs": [],
   "source": [
    "node = base.graph_to_node(pf.graph, exclude_unconnected_default_ports=False)\n",
    "node.inputs.repeat_scalar = 1\n",
    "node.run()\n",
    "node.inputs"
   ]
  },
  {
   "cell_type": "code",
   "execution_count": null,
   "metadata": {},
   "outputs": [],
   "source": [
    "import inspect\n",
    "\n",
    "inspect.getsource(node._func)"
   ]
  },
  {
   "cell_type": "code",
   "execution_count": null,
   "metadata": {},
   "outputs": [],
   "source": [
    "import types\n",
    "from functools import partial\n",
    "\n",
    "def graph_to_code(graph):\n",
    "    graph = base.get_updated_graph(graph)\n",
    "    graph = base.topological_sort(graph)\n",
    "    graph = base.get_code_from_graph(graph)\n",
    "    return graph\n",
    "\n",
    "\n",
    "def graph_to_node(graph: base.Graph, exclude_unconnected_default_ports=True) -> base.Node:\n",
    "    \n",
    "    function_string = graph_to_code(graph)\n",
    "    \n",
    "    # Create a dictionary to serve as the local namespace\n",
    "    virtual_namespace = {}\n",
    "    \n",
    "    # Execute the function string in the local namespace\n",
    "    exec(function_string, globals(), virtual_namespace)\n",
    "    \n",
    "    # Retrieve the function from the local namespace\n",
    "    func = virtual_namespace[graph.label]\n",
    "\n",
    "    node = base.Node(\n",
    "        func=func,\n",
    "        label=graph.label,\n",
    "        node_type=\"graph\",\n",
    "        inputs=base.get_inputs_of_graph(graph, exclude_unconnected_default_ports=True),\n",
    "        outputs=base.get_outputs_of_graph(graph),\n",
    "    )\n",
    "    node.label = graph.label  # should not be necessary\n",
    "\n",
    "\n",
    "    def _run(node):\n",
    "        port = func(**node.kwargs)\n",
    "\n",
    "        return port.node._workflow.run()\n",
    "    \n",
    "    node._run = types.MethodType(_run, node)\n",
    "\n",
    "    return node\n",
    "\n",
    "\n",
    "\n",
    "node = graph_to_node(pf.graph)\n",
    "node.inputs.repeat_scalar = 1\n",
    "\n",
    "node.run()\n",
    "node.outputs.structure.value"
   ]
  },
  {
   "cell_type": "code",
   "execution_count": null,
   "metadata": {},
   "outputs": [],
   "source": [
    "\n",
    "\n",
    "function_string = graph_to_code(pf.graph)\n",
    "\n",
    "# Create a dictionary to serve as the local namespace\n",
    "virtual_namespace = {}\n",
    "\n",
    "# Execute the function string in the local namespace\n",
    "exec(function_string, globals(), virtual_namespace)\n",
    "\n",
    "# Retrieve the function from the local namespace\n",
    "func = virtual_namespace['Workflow_3']\n",
    "\n",
    "port = func(name='Fe', repeat_scalar=2)\n",
    "port.node._workflow.run()"
   ]
  },
  {
   "cell_type": "code",
   "execution_count": null,
   "metadata": {},
   "outputs": [],
   "source": [
    "# Define the function as a string\n",
    "function_string = \"\"\"\n",
    "def Workflow_3(name: str, cubic: bool = False, repeat_scalar: int = 1):\n",
    "\n",
    "    from pyiron_workflow import Workflow\n",
    "    import pyiron_nodes\n",
    "\n",
    "    wf = Workflow('Workflow_3')\n",
    "\n",
    "    wf.Bulk = pyiron_nodes.atomistic.structure.build.Bulk(name=name, cubic=cubic) \n",
    "    wf.Repeat = pyiron_nodes.atomistic.structure.transform.Repeat(structure=wf.Bulk, repeat_scalar=repeat_scalar) \n",
    "\n",
    "    return wf.Repeat.outputs.structure\n",
    "\"\"\"\n",
    "\n",
    "# Create a dictionary to serve as the local namespace\n",
    "virtual_namespace = {}\n",
    "\n",
    "# Execute the function string in the local namespace\n",
    "exec(function_string, globals(), virtual_namespace)\n",
    "\n",
    "# Retrieve the function from the local namespace\n",
    "func = virtual_namespace['Workflow_3']\n",
    "\n",
    "port = func(name='Fe', repeat_scalar=2)\n",
    "port.node._workflow.run()"
   ]
  },
  {
   "cell_type": "code",
   "execution_count": null,
   "metadata": {},
   "outputs": [],
   "source": []
  },
  {
   "cell_type": "code",
   "execution_count": null,
   "metadata": {},
   "outputs": [],
   "source": [
    "port.label"
   ]
  },
  {
   "cell_type": "code",
   "execution_count": null,
   "metadata": {},
   "outputs": [],
   "source": [
    "virtual_namespace"
   ]
  },
  {
   "cell_type": "code",
   "execution_count": null,
   "metadata": {},
   "outputs": [],
   "source": [
    "xx"
   ]
  },
  {
   "cell_type": "code",
   "execution_count": null,
   "metadata": {},
   "outputs": [],
   "source": [
    "label = 'lammps'\n",
    "print(graph.nodes[label].expanded)\n",
    "# Collapse a node\n",
    "collapsed_graph = base.collapse_node(graph, label)\n",
    "print(graph.nodes[label].expanded)\n",
    "\n",
    "# Expand a node\n",
    "expanded_graph = base.expand_node(graph, label)\n",
    "print(graph.nodes[label].expanded)"
   ]
  },
  {
   "cell_type": "code",
   "execution_count": null,
   "metadata": {},
   "outputs": [],
   "source": [
    "collapsed_graph.edges"
   ]
  },
  {
   "cell_type": "code",
   "execution_count": null,
   "metadata": {},
   "outputs": [],
   "source": [
    "base.GuiGraph(collapsed_graph)"
   ]
  },
  {
   "cell_type": "code",
   "execution_count": null,
   "metadata": {},
   "outputs": [],
   "source": [
    "base.GuiGraph(expanded_graph)"
   ]
  },
  {
   "cell_type": "code",
   "execution_count": null,
   "metadata": {},
   "outputs": [],
   "source": [
    "base.GuiGraph(graph)"
   ]
  },
  {
   "cell_type": "code",
   "execution_count": null,
   "metadata": {},
   "outputs": [],
   "source": [
    "graph.nodes"
   ]
  },
  {
   "cell_type": "code",
   "execution_count": null,
   "metadata": {},
   "outputs": [],
   "source": [
    "collapsed_graph.nodes"
   ]
  },
  {
   "cell_type": "code",
   "execution_count": null,
   "metadata": {},
   "outputs": [],
   "source": [
    "graph.nodes['lammps'].expanded = False\n",
    "\n",
    "u_graph = base.get_updated_graph(graph)\n",
    "\n",
    "graph.nodes['lammps'].expanded \n",
    "\n"
   ]
  },
  {
   "cell_type": "code",
   "execution_count": null,
   "metadata": {},
   "outputs": [],
   "source": [
    "base.GuiGraph(u_graph)"
   ]
  },
  {
   "cell_type": "code",
   "execution_count": null,
   "metadata": {},
   "outputs": [],
   "source": []
  }
 ],
 "metadata": {
  "kernelspec": {
   "display_name": "Python 3 (ipykernel)",
   "language": "python",
   "name": "python3"
  },
  "language_info": {
   "codemirror_mode": {
    "name": "ipython",
    "version": 3
   },
   "file_extension": ".py",
   "mimetype": "text/x-python",
   "name": "python",
   "nbconvert_exporter": "python",
   "pygments_lexer": "ipython3",
   "version": "3.12.4"
  }
 },
 "nbformat": 4,
 "nbformat_minor": 4
}
