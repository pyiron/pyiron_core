{
 "cells": [
  {
   "cell_type": "code",
   "execution_count": 1,
   "metadata": {},
   "outputs": [],
   "source": [
    "import sys\n",
    "\n",
    "sys.path.insert(0, \"/Users/joerg/git_libs/pyiron_core\")"
   ]
  },
  {
   "cell_type": "code",
   "execution_count": 2,
   "metadata": {},
   "outputs": [
    {
     "data": {
      "application/vnd.jupyter.widget-view+json": {
       "model_id": "a626363b4638454ebce677b0e78c0bda",
       "version_major": 2,
       "version_minor": 0
      },
      "text/plain": []
     },
     "metadata": {},
     "output_type": "display_data"
    }
   ],
   "source": [
    "import pyiron_workflow.graph.graph_operations as go\n",
    "from pyiron_workflow import as_function_node\n",
    "from pyiron_workflow.graph import base\n",
    "from pyiron_workflow.simple_workflow import Workflow\n",
    "import pyiron_nodes as pn"
   ]
  },
  {
   "cell_type": "markdown",
   "metadata": {},
   "source": [
    "Why not running the graph rather than the workflow. Graph is much more powerful and includes serialization and subgraphs? This works already! Does not yet have concept of input."
   ]
  },
  {
   "cell_type": "code",
   "execution_count": 3,
   "metadata": {},
   "outputs": [
    {
     "name": "stderr",
     "output_type": "stream",
     "text": [
      "DEBUG:pyiron_log:Not supported parameter used!\n",
      "DEBUG:pyiron_log:Not supported parameter used!\n"
     ]
    },
    {
     "data": {
      "text/plain": [
       "Al: [0. 0. 0.]\n",
       "Al: [0.    2.025 2.025]\n",
       "Al: [2.025 0.    2.025]\n",
       "Al: [2.025 2.025 0.   ]\n",
       "tags: \n",
       "    indices: [0 0 0 0]\n",
       "pbc: [ True  True  True]\n",
       "cell: \n",
       "Cell([4.05, 4.05, 4.05])"
      ]
     },
     "execution_count": 3,
     "metadata": {},
     "output_type": "execute_result"
    }
   ],
   "source": [
    "def Subgraph(structure, ):\n",
    "\n",
    "    from pyiron_workflow import Workflow\n",
    "    import pyiron_nodes\n",
    "\n",
    "    wf = Workflow('subgraph')\n",
    "\n",
    "    wf.Repeat = pyiron_nodes.atomistic.structure.transform.Repeat(structure=structure) \n",
    "    wf.Repeat_2 = pyiron_nodes.atomistic.structure.transform.Repeat(structure=wf.Repeat) \n",
    "    wf.Plot3d = pyiron_nodes.atomistic.structure.view.Plot3d(structure=structure) \n",
    "\n",
    "    return wf.Repeat_2\n",
    "\n",
    "structure = pn.atomistic.structure.build.Bulk(\"Al\", cubic=True).run()\n",
    "Subgraph(structure=structure).pull()"
   ]
  },
  {
   "cell_type": "code",
   "execution_count": 4,
   "metadata": {},
   "outputs": [
    {
     "name": "stderr",
     "output_type": "stream",
     "text": [
      "DEBUG:pyiron_log:Not supported parameter used!\n",
      "DEBUG:pyiron_log:Not supported parameter used!\n"
     ]
    }
   ],
   "source": [
    "def my_func(structure=None, repeat_scalar=1):\n",
    "    from pyiron_workflow import Workflow\n",
    "    import pyiron_nodes\n",
    "\n",
    "    wf = Workflow(\"subgraph\")\n",
    "\n",
    "    # wf.va_i_subgraph__structure = __main__.InputNode()\n",
    "    wf.Repeat = pyiron_nodes.atomistic.structure.transform.Repeat(structure=structure, repeat_scalar=repeat_scalar)\n",
    "    wf.Repeat_2 = pyiron_nodes.atomistic.structure.transform.Repeat(structure=wf.Repeat)\n",
    "    wf.Plot3d = pyiron_nodes.atomistic.structure.view.Plot3d(structure=structure)\n",
    "\n",
    "    return wf.Repeat_2.pull()\n",
    "   \n",
    "structure = pn.atomistic.structure.build.Bulk(\"Al\", cubic=True).run()\n",
    "my_func(structure=structure, repeat_scalar=2);\n"
   ]
  },
  {
   "cell_type": "code",
   "execution_count": 5,
   "metadata": {},
   "outputs": [
    {
     "name": "stderr",
     "output_type": "stream",
     "text": [
      "DEBUG:pyiron_log:Not supported parameter used!\n",
      "DEBUG:pyiron_log:Not supported parameter used!\n"
     ]
    },
    {
     "data": {
      "text/plain": [
       "Al: [0. 0. 0.]\n",
       "Al: [0.    2.025 2.025]\n",
       "Al: [2.025 0.    2.025]\n",
       "Al: [2.025 2.025 0.   ]\n",
       "tags: \n",
       "    indices: [0 0 0 0]\n",
       "pbc: [ True  True  True]\n",
       "cell: \n",
       "Cell([4.05, 4.05, 4.05])"
      ]
     },
     "execution_count": 5,
     "metadata": {},
     "output_type": "execute_result"
    }
   ],
   "source": [
    "structure = pn.atomistic.structure.build.Bulk(\"Al\", cubic=True).run()\n",
    "import pyiron_nodes\n",
    "\n",
    "wf = Workflow(\"subgraph\")\n",
    "\n",
    "# wf.va_i_subgraph__structure = __main__.InputNode()\n",
    "wf.Repeat = pyiron_nodes.atomistic.structure.transform.Repeat(structure=structure)\n",
    "wf.Repeat_2 = pyiron_nodes.atomistic.structure.transform.Repeat(structure=wf.Repeat, repeat_scalar=1)\n",
    "wf.Plot3d = pyiron_nodes.atomistic.structure.view.Plot3d(structure=structure)\n",
    "\n",
    "wf.run()\n"
   ]
  },
  {
   "cell_type": "markdown",
   "metadata": {},
   "source": [
    "## From Graph"
   ]
  },
  {
   "cell_type": "code",
   "execution_count": 6,
   "metadata": {},
   "outputs": [],
   "source": [
    "import pyiron_nodes as pn\n",
    "\n",
    "\n",
    "@as_function_node\n",
    "def InputNode(structure=None):\n",
    "    return structure\n",
    "\n",
    "\n",
    "@as_function_node\n",
    "def OutputNode(structure=None):\n",
    "    return structure\n",
    "\n",
    "InputStructure = \"va_i_subgraph__structure\"\n",
    "OutputStructure = \"va_o_subgraph__structure\"\n",
    "\n",
    "sub_graph = base.Graph(label=\"subgraph\")\n",
    "sub_graph += InputNode(label=InputStructure)\n",
    "sub_graph += pn.atomistic.structure.transform.Repeat(label=\"Repeat\")\n",
    "sub_graph += pn.atomistic.structure.transform.Repeat(label=\"Repeat_2\")\n",
    "sub_graph += pn.atomistic.structure.view.Plot3d(label=\"Plot3d\")\n",
    "sub_graph += OutputNode(label=OutputStructure)\n",
    "\n",
    "sub_graph += base.GraphEdge(\"Repeat\", \"Repeat_2\", \"structure\", \"structure\")\n",
    "sub_graph += base.GraphEdge(InputStructure, \"Repeat\", \"structure\", \"structure\")\n",
    "sub_graph += base.GraphEdge(InputStructure, \"Plot3d\", \"structure\", \"structure\")\n",
    "sub_graph += base.GraphEdge(\"Repeat_2\", OutputStructure, \"structure\", \"structure\")\n",
    "\n",
    "graph = base.Graph(label=\"Workflow\")\n",
    "graph += pn.atomistic.structure.build.Bulk(name=\"Al\", label=\"structure\")\n",
    "graph += pn.atomistic.structure.transform.Repeat(label=\"repeat\")\n",
    "graph += sub_graph\n",
    "graph.nodes[\"subgraph\"].expanded = False\n",
    "graph.nodes[\"subgraph\"].node = go.graph_to_node(sub_graph)\n",
    "\n",
    "graph += pn.atomistic.structure.view.Plot3d(label=\"plot\")\n",
    "\n",
    "graph += base.GraphEdge(\"structure\", \"repeat\", \"structure\", \"structure\")\n",
    "graph += base.GraphEdge(OutputStructure, \"plot\", \"structure\", \"structure\")\n",
    "graph += base.GraphEdge(\"repeat\", InputStructure, \"structure\", \"structure\")\n",
    "# graph += base.GraphEdge(\"subgraph\", \"plot\", \"structure\", \"structure\")\n",
    "# graph += base.GraphEdge(\"repeat\", \"subgraph\", \"structure\", \"structure\")\n",
    "\n",
    "graph = base.remove_node(graph, \"Repeat\")\n",
    "graph = base.remove_node(graph, \"Repeat_2\")\n",
    "\n",
    "\n",
    "base.GuiGraph(graph);"
   ]
  },
  {
   "cell_type": "code",
   "execution_count": 7,
   "metadata": {},
   "outputs": [
    {
     "name": "stdout",
     "output_type": "stream",
     "text": [
      "False\n",
      "Collapsing node subgraph\n",
      "False\n"
     ]
    }
   ],
   "source": [
    "print(graph.nodes[\"subgraph\"].expanded)\n",
    "# Collapse a node\n",
    "collapsed_graph = base.collapse_node(graph, \"subgraph\")\n",
    "\n",
    "# Expand a node\n",
    "# expanded_graph = go._expand_node(graph, \"subgraph\")\n",
    "print(graph.nodes[\"subgraph\"].expanded)\n"
   ]
  },
  {
   "cell_type": "code",
   "execution_count": 8,
   "metadata": {},
   "outputs": [],
   "source": [
    "# base.GuiGraph(expanded_graph);"
   ]
  },
  {
   "cell_type": "code",
   "execution_count": 9,
   "metadata": {},
   "outputs": [],
   "source": [
    "base.GuiGraph(collapsed_graph);"
   ]
  },
  {
   "cell_type": "code",
   "execution_count": 10,
   "metadata": {},
   "outputs": [
    {
     "data": {
      "text/plain": [
       "{'label': 'subgraph',\n",
       " 'function': 'pyiron_workflow.graph.graph_operations.foo',\n",
       " 'inputs': {}}"
      ]
     },
     "execution_count": 10,
     "metadata": {},
     "output_type": "execute_result"
    }
   ],
   "source": [
    "graph.nodes[\"subgraph\"].node.__getstate__() # correct function has to be constructed and stored in the node!"
   ]
  },
  {
   "cell_type": "markdown",
   "metadata": {},
   "source": [
    "## From workflow"
   ]
  },
  {
   "cell_type": "code",
   "execution_count": 11,
   "metadata": {},
   "outputs": [],
   "source": [
    "wf = Workflow('lammps_full')\n",
    "\n",
    "wf.structure = pn.atomistic.structure.build.Bulk('Al', cubic=True)\n",
    "wf.lammps = pn.atomistic.engine.lammps.Code1(structure=wf.structure)\n",
    "wf.md_output = pn.atomistic.calculator.data.OutputCalcMD(dataclass=wf.lammps.outputs.generic)"
   ]
  },
  {
   "cell_type": "code",
   "execution_count": 12,
   "metadata": {},
   "outputs": [
    {
     "name": "stdout",
     "output_type": "stream",
     "text": [
      "label:  LammpsMacro lammps\n",
      "wf_label:  lammps\n",
      "target:  Collect generic\n",
      "target:  InitLammps path\n",
      "new_graph:  lammps\n"
     ]
    }
   ],
   "source": [
    "graph = base.get_full_graph_from_wf(wf)"
   ]
  },
  {
   "cell_type": "code",
   "execution_count": 13,
   "metadata": {},
   "outputs": [
    {
     "name": "stdout",
     "output_type": "stream",
     "text": [
      "True\n",
      "Collapsing node lammps\n",
      "True\n",
      "Expanding node lammps\n",
      "Removing nodes {'va_o_lammps__path', 'va_i_lammps__potential', 'va_i_lammps__working_dir', 'va_i_lammps__calculator', 'va_i_lammps__structure', 'va_o_lammps__generic'}\n",
      "Node va_i_lammps__potential has no source nodes\n",
      "Node va_i_lammps__working_dir has no source nodes\n",
      "Node va_i_lammps__calculator has no source nodes\n",
      "True\n"
     ]
    }
   ],
   "source": [
    "label = 'lammps'\n",
    "print(graph.nodes[label].expanded)\n",
    "# Collapse a node\n",
    "collapsed_graph = base.collapse_node(graph, label)\n",
    "print(graph.nodes[label].expanded)\n",
    "\n",
    "# Expand a node\n",
    "expanded_graph = base.expand_node(graph, label)\n",
    "print(graph.nodes[label].expanded)"
   ]
  },
  {
   "cell_type": "code",
   "execution_count": 14,
   "metadata": {},
   "outputs": [
    {
     "data": {
      "application/vnd.jupyter.widget-view+json": {
       "model_id": "02fcdd9dc812403b9511685df7cbcfad",
       "version_major": 2,
       "version_minor": 1
      },
      "text/plain": [
       "ReactFlowWidget()"
      ]
     },
     "metadata": {},
     "output_type": "display_data"
    },
    {
     "data": {
      "text/plain": [
       "<pyiron_workflow.graph.base.GuiGraph at 0x158a39a00>"
      ]
     },
     "execution_count": 14,
     "metadata": {},
     "output_type": "execute_result"
    }
   ],
   "source": [
    "base.GuiGraph(collapsed_graph)"
   ]
  },
  {
   "cell_type": "code",
   "execution_count": 15,
   "metadata": {},
   "outputs": [
    {
     "data": {
      "application/vnd.jupyter.widget-view+json": {
       "model_id": "24867a49a684463f83f75486600bc399",
       "version_major": 2,
       "version_minor": 1
      },
      "text/plain": [
       "ReactFlowWidget()"
      ]
     },
     "metadata": {},
     "output_type": "display_data"
    },
    {
     "data": {
      "text/plain": [
       "<pyiron_workflow.graph.base.GuiGraph at 0x158af5eb0>"
      ]
     },
     "execution_count": 15,
     "metadata": {},
     "output_type": "execute_result"
    }
   ],
   "source": [
    "base.GuiGraph(expanded_graph)"
   ]
  },
  {
   "cell_type": "code",
   "execution_count": 16,
   "metadata": {},
   "outputs": [
    {
     "data": {
      "application/vnd.jupyter.widget-view+json": {
       "model_id": "2b0736a77ff94cf88d4f4c0f46f5d753",
       "version_major": 2,
       "version_minor": 1
      },
      "text/plain": [
       "ReactFlowWidget()"
      ]
     },
     "metadata": {},
     "output_type": "display_data"
    },
    {
     "data": {
      "text/plain": [
       "<pyiron_workflow.graph.base.GuiGraph at 0x158a3a2d0>"
      ]
     },
     "execution_count": 16,
     "metadata": {},
     "output_type": "execute_result"
    }
   ],
   "source": [
    "base.GuiGraph(graph)"
   ]
  },
  {
   "cell_type": "code",
   "execution_count": 17,
   "metadata": {},
   "outputs": [
    {
     "data": {
      "text/html": [
       "<div>\n",
       "<style scoped>\n",
       "    .dataframe tbody tr th:only-of-type {\n",
       "        vertical-align: middle;\n",
       "    }\n",
       "\n",
       "    .dataframe tbody tr th {\n",
       "        vertical-align: top;\n",
       "    }\n",
       "\n",
       "    .dataframe thead th {\n",
       "        text-align: right;\n",
       "    }\n",
       "</style>\n",
       "<table border=\"1\" class=\"dataframe\">\n",
       "  <thead>\n",
       "    <tr style=\"text-align: right;\">\n",
       "      <th></th>\n",
       "      <th>id</th>\n",
       "      <th>import_path</th>\n",
       "      <th>label</th>\n",
       "      <th>parent_id</th>\n",
       "      <th>level</th>\n",
       "      <th>node</th>\n",
       "      <th>graph</th>\n",
       "      <th>node_type</th>\n",
       "      <th>widget_type</th>\n",
       "      <th>expanded</th>\n",
       "    </tr>\n",
       "  </thead>\n",
       "  <tbody>\n",
       "    <tr>\n",
       "      <th>0</th>\n",
       "      <td>structure</td>\n",
       "      <td>pyiron_nodes.atomistic.structure.build.Bulk</td>\n",
       "      <td>structure</td>\n",
       "      <td>None</td>\n",
       "      <td>0</td>\n",
       "      <td>&lt;pyiron_workflow.simple_workflow.Node object a...</td>\n",
       "      <td>None</td>\n",
       "      <td>node</td>\n",
       "      <td>customNode</td>\n",
       "      <td>False</td>\n",
       "    </tr>\n",
       "    <tr>\n",
       "      <th>1</th>\n",
       "      <td>lammps</td>\n",
       "      <td>None</td>\n",
       "      <td>lammps</td>\n",
       "      <td>None</td>\n",
       "      <td>0</td>\n",
       "      <td>&lt;pyiron_workflow.simple_workflow.Node object a...</td>\n",
       "      <td>Graph(id=None, label='lammps', root_node=None,...</td>\n",
       "      <td>graph</td>\n",
       "      <td>customNode</td>\n",
       "      <td>True</td>\n",
       "    </tr>\n",
       "    <tr>\n",
       "      <th>2</th>\n",
       "      <td>DummyNode</td>\n",
       "      <td>pyiron_nodes.atomistic.engine.lammps.DummyNode</td>\n",
       "      <td>DummyNode</td>\n",
       "      <td>lammps</td>\n",
       "      <td>1</td>\n",
       "      <td>&lt;pyiron_workflow.simple_workflow.Node object a...</td>\n",
       "      <td>None</td>\n",
       "      <td>node</td>\n",
       "      <td>customNode</td>\n",
       "      <td>False</td>\n",
       "    </tr>\n",
       "    <tr>\n",
       "      <th>3</th>\n",
       "      <td>ListPotentials</td>\n",
       "      <td>pyiron_nodes.atomistic.engine.lammps.ListPoten...</td>\n",
       "      <td>ListPotentials</td>\n",
       "      <td>lammps</td>\n",
       "      <td>1</td>\n",
       "      <td>&lt;pyiron_workflow.simple_workflow.Node object a...</td>\n",
       "      <td>None</td>\n",
       "      <td>node</td>\n",
       "      <td>customNode</td>\n",
       "      <td>False</td>\n",
       "    </tr>\n",
       "    <tr>\n",
       "      <th>4</th>\n",
       "      <td>Potential</td>\n",
       "      <td>pyiron_nodes.atomistic.engine.lammps.Potential</td>\n",
       "      <td>Potential</td>\n",
       "      <td>lammps</td>\n",
       "      <td>1</td>\n",
       "      <td>&lt;pyiron_workflow.simple_workflow.Node object a...</td>\n",
       "      <td>None</td>\n",
       "      <td>node</td>\n",
       "      <td>customNode</td>\n",
       "      <td>False</td>\n",
       "    </tr>\n",
       "    <tr>\n",
       "      <th>5</th>\n",
       "      <td>InitLammps</td>\n",
       "      <td>pyiron_nodes.atomistic.engine.lammps.InitLammps</td>\n",
       "      <td>InitLammps</td>\n",
       "      <td>lammps</td>\n",
       "      <td>1</td>\n",
       "      <td>&lt;pyiron_workflow.simple_workflow.Node object a...</td>\n",
       "      <td>None</td>\n",
       "      <td>node</td>\n",
       "      <td>customNode</td>\n",
       "      <td>False</td>\n",
       "    </tr>\n",
       "    <tr>\n",
       "      <th>6</th>\n",
       "      <td>Shell</td>\n",
       "      <td>pyiron_nodes.atomistic.engine.lammps.Shell</td>\n",
       "      <td>Shell</td>\n",
       "      <td>lammps</td>\n",
       "      <td>1</td>\n",
       "      <td>&lt;pyiron_workflow.simple_workflow.Node object a...</td>\n",
       "      <td>None</td>\n",
       "      <td>node</td>\n",
       "      <td>customNode</td>\n",
       "      <td>False</td>\n",
       "    </tr>\n",
       "    <tr>\n",
       "      <th>7</th>\n",
       "      <td>ParseLogFile</td>\n",
       "      <td>pyiron_nodes.atomistic.engine.lammps.ParseLogFile</td>\n",
       "      <td>ParseLogFile</td>\n",
       "      <td>lammps</td>\n",
       "      <td>1</td>\n",
       "      <td>&lt;pyiron_workflow.simple_workflow.Node object a...</td>\n",
       "      <td>None</td>\n",
       "      <td>node</td>\n",
       "      <td>customNode</td>\n",
       "      <td>False</td>\n",
       "    </tr>\n",
       "    <tr>\n",
       "      <th>8</th>\n",
       "      <td>ParseDumpFile</td>\n",
       "      <td>pyiron_nodes.atomistic.engine.lammps.ParseDump...</td>\n",
       "      <td>ParseDumpFile</td>\n",
       "      <td>lammps</td>\n",
       "      <td>1</td>\n",
       "      <td>&lt;pyiron_workflow.simple_workflow.Node object a...</td>\n",
       "      <td>None</td>\n",
       "      <td>node</td>\n",
       "      <td>customNode</td>\n",
       "      <td>False</td>\n",
       "    </tr>\n",
       "    <tr>\n",
       "      <th>9</th>\n",
       "      <td>Collect</td>\n",
       "      <td>pyiron_nodes.atomistic.engine.lammps.Collect</td>\n",
       "      <td>Collect</td>\n",
       "      <td>lammps</td>\n",
       "      <td>1</td>\n",
       "      <td>&lt;pyiron_workflow.simple_workflow.Node object a...</td>\n",
       "      <td>None</td>\n",
       "      <td>node</td>\n",
       "      <td>customNode</td>\n",
       "      <td>False</td>\n",
       "    </tr>\n",
       "    <tr>\n",
       "      <th>10</th>\n",
       "      <td>md_output</td>\n",
       "      <td>pyiron_workflow.simple_workflow.func_dataclass</td>\n",
       "      <td>md_output</td>\n",
       "      <td>None</td>\n",
       "      <td>0</td>\n",
       "      <td>&lt;pyiron_workflow.simple_workflow.Node object a...</td>\n",
       "      <td>None</td>\n",
       "      <td>node</td>\n",
       "      <td>customNode</td>\n",
       "      <td>False</td>\n",
       "    </tr>\n",
       "  </tbody>\n",
       "</table>\n",
       "</div>"
      ],
      "text/plain": [
       "NestedDict([('structure',\n",
       "             GraphNode(id='structure', import_path='pyiron_nodes.atomistic.structure.build.Bulk', label='structure', parent_id=None, level=0, node=<pyiron_workflow.simple_workflow.Node object at 0x158951160>, graph=None, node_type='node', widget_type='customNode', expanded=False)),\n",
       "            ('lammps',\n",
       "             GraphNode(id='lammps', import_path=None, label='lammps', parent_id=None, level=0, node=<pyiron_workflow.simple_workflow.Node object at 0x1589cfa10>, graph=Graph(id=None, label='lammps', root_node=None, nodes=NestedDict({'va_i_lammps__structure': None, 'va_i_lammps__potential': None, 'va_i_lammps__calculator': None, 'va_i_lammps__working_dir': None, 'DummyNode': None, 'ListPotentials': None, 'Potential': None, 'InitLammps': None, 'Shell': None, 'va_o_lammps__path': None, 'ParseLogFile': None, 'ParseDumpFile': None, 'Collect': None, 'va_o_lammps__generic': None}), edges=[GraphEdge(source='va_i_lammps__structure', target='Potential', sourceHandle='x', targetHandle='structure'), GraphEdge(source='va_i_lammps__potential', target='Potential', sourceHandle='x', targetHandle='name'), GraphEdge(source='va_i_lammps__structure', target='DummyNode', sourceHandle='x', targetHandle='structure1'), GraphEdge(source='va_i_lammps__structure', target='DummyNode', sourceHandle='x', targetHandle='structure2'), GraphEdge(source='va_i_lammps__structure', target='ListPotentials', sourceHandle='x', targetHandle='structure'), GraphEdge(source='va_i_lammps__structure', target='InitLammps', sourceHandle='x', targetHandle='structure'), GraphEdge(source='va_i_lammps__calculator', target='InitLammps', sourceHandle='x', targetHandle='calculator'), GraphEdge(source='va_i_lammps__working_dir', target='InitLammps', sourceHandle='x', targetHandle='working_directory'), GraphEdge(source='Potential', target='InitLammps', sourceHandle='pot', targetHandle='potential'), GraphEdge(source='InitLammps', target='Shell', sourceHandle='path', targetHandle='working_directory'), GraphEdge(source='Shell', target='ParseLogFile', sourceHandle='log', targetHandle='log_file'), GraphEdge(source='Shell', target='ParseDumpFile', sourceHandle='dump', targetHandle='dump_file'), GraphEdge(source='ParseDumpFile', target='Collect', sourceHandle='dump', targetHandle='out_dump'), GraphEdge(source='ParseLogFile', target='Collect', sourceHandle='log', targetHandle='out_log'), GraphEdge(source='Collect', target='va_o_lammps__generic', sourceHandle='generic', targetHandle='x'), GraphEdge(source='InitLammps', target='va_o_lammps__path', sourceHandle='path', targetHandle='x')], graph={}), node_type='graph', widget_type='customNode', expanded=True)),\n",
       "            ('DummyNode',\n",
       "             GraphNode(id='DummyNode', import_path='pyiron_nodes.atomistic.engine.lammps.DummyNode', label='DummyNode', parent_id='lammps', level=1, node=<pyiron_workflow.simple_workflow.Node object at 0x158af7320>, graph=None, node_type='node', widget_type='customNode', expanded=False)),\n",
       "            ('ListPotentials',\n",
       "             GraphNode(id='ListPotentials', import_path='pyiron_nodes.atomistic.engine.lammps.ListPotentials', label='ListPotentials', parent_id='lammps', level=1, node=<pyiron_workflow.simple_workflow.Node object at 0x158af7620>, graph=None, node_type='node', widget_type='customNode', expanded=False)),\n",
       "            ('Potential',\n",
       "             GraphNode(id='Potential', import_path='pyiron_nodes.atomistic.engine.lammps.Potential', label='Potential', parent_id='lammps', level=1, node=<pyiron_workflow.simple_workflow.Node object at 0x158af6f30>, graph=None, node_type='node', widget_type='customNode', expanded=False)),\n",
       "            ('InitLammps',\n",
       "             GraphNode(id='InitLammps', import_path='pyiron_nodes.atomistic.engine.lammps.InitLammps', label='InitLammps', parent_id='lammps', level=1, node=<pyiron_workflow.simple_workflow.Node object at 0x158af5be0>, graph=None, node_type='node', widget_type='customNode', expanded=False)),\n",
       "            ('Shell',\n",
       "             GraphNode(id='Shell', import_path='pyiron_nodes.atomistic.engine.lammps.Shell', label='Shell', parent_id='lammps', level=1, node=<pyiron_workflow.simple_workflow.Node object at 0x158af6c00>, graph=None, node_type='node', widget_type='customNode', expanded=False)),\n",
       "            ('ParseLogFile',\n",
       "             GraphNode(id='ParseLogFile', import_path='pyiron_nodes.atomistic.engine.lammps.ParseLogFile', label='ParseLogFile', parent_id='lammps', level=1, node=<pyiron_workflow.simple_workflow.Node object at 0x158af40b0>, graph=None, node_type='node', widget_type='customNode', expanded=False)),\n",
       "            ('ParseDumpFile',\n",
       "             GraphNode(id='ParseDumpFile', import_path='pyiron_nodes.atomistic.engine.lammps.ParseDumpFile', label='ParseDumpFile', parent_id='lammps', level=1, node=<pyiron_workflow.simple_workflow.Node object at 0x158af71d0>, graph=None, node_type='node', widget_type='customNode', expanded=False)),\n",
       "            ('Collect',\n",
       "             GraphNode(id='Collect', import_path='pyiron_nodes.atomistic.engine.lammps.Collect', label='Collect', parent_id='lammps', level=1, node=<pyiron_workflow.simple_workflow.Node object at 0x158af4470>, graph=None, node_type='node', widget_type='customNode', expanded=False)),\n",
       "            ('md_output',\n",
       "             GraphNode(id='md_output', import_path='pyiron_workflow.simple_workflow.func_dataclass', label='md_output', parent_id=None, level=0, node=<pyiron_workflow.simple_workflow.Node object at 0x158af50d0>, graph=None, node_type='node', widget_type='customNode', expanded=False))])"
      ]
     },
     "execution_count": 17,
     "metadata": {},
     "output_type": "execute_result"
    }
   ],
   "source": [
    "expanded_graph.nodes"
   ]
  },
  {
   "cell_type": "code",
   "execution_count": 18,
   "metadata": {},
   "outputs": [
    {
     "data": {
      "text/html": [
       "<div>\n",
       "<style scoped>\n",
       "    .dataframe tbody tr th:only-of-type {\n",
       "        vertical-align: middle;\n",
       "    }\n",
       "\n",
       "    .dataframe tbody tr th {\n",
       "        vertical-align: top;\n",
       "    }\n",
       "\n",
       "    .dataframe thead th {\n",
       "        text-align: right;\n",
       "    }\n",
       "</style>\n",
       "<table border=\"1\" class=\"dataframe\">\n",
       "  <thead>\n",
       "    <tr style=\"text-align: right;\">\n",
       "      <th></th>\n",
       "      <th>id</th>\n",
       "      <th>import_path</th>\n",
       "      <th>label</th>\n",
       "      <th>parent_id</th>\n",
       "      <th>level</th>\n",
       "      <th>node</th>\n",
       "      <th>graph</th>\n",
       "      <th>node_type</th>\n",
       "      <th>widget_type</th>\n",
       "      <th>expanded</th>\n",
       "    </tr>\n",
       "  </thead>\n",
       "  <tbody>\n",
       "    <tr>\n",
       "      <th>0</th>\n",
       "      <td>structure</td>\n",
       "      <td>pyiron_nodes.atomistic.structure.build.Bulk</td>\n",
       "      <td>structure</td>\n",
       "      <td>None</td>\n",
       "      <td>0</td>\n",
       "      <td>&lt;pyiron_workflow.simple_workflow.Node object a...</td>\n",
       "      <td>None</td>\n",
       "      <td>node</td>\n",
       "      <td>customNode</td>\n",
       "      <td>False</td>\n",
       "    </tr>\n",
       "    <tr>\n",
       "      <th>1</th>\n",
       "      <td>lammps</td>\n",
       "      <td>None</td>\n",
       "      <td>lammps</td>\n",
       "      <td>None</td>\n",
       "      <td>0</td>\n",
       "      <td>&lt;pyiron_workflow.simple_workflow.Node object a...</td>\n",
       "      <td>Graph(id='lammps', label='lammps', root_node=N...</td>\n",
       "      <td>graph</td>\n",
       "      <td>customNode</td>\n",
       "      <td>True</td>\n",
       "    </tr>\n",
       "    <tr>\n",
       "      <th>2</th>\n",
       "      <td>va_i_lammps__structure</td>\n",
       "      <td>pyiron_workflow.graph.base.identity</td>\n",
       "      <td>va_i_lammps__structure</td>\n",
       "      <td>lammps</td>\n",
       "      <td>1</td>\n",
       "      <td>&lt;pyiron_workflow.simple_workflow.Node object a...</td>\n",
       "      <td>None</td>\n",
       "      <td>node</td>\n",
       "      <td>customNode</td>\n",
       "      <td>False</td>\n",
       "    </tr>\n",
       "    <tr>\n",
       "      <th>3</th>\n",
       "      <td>va_i_lammps__potential</td>\n",
       "      <td>pyiron_workflow.graph.base.identity</td>\n",
       "      <td>va_i_lammps__potential</td>\n",
       "      <td>lammps</td>\n",
       "      <td>1</td>\n",
       "      <td>&lt;pyiron_workflow.simple_workflow.Node object a...</td>\n",
       "      <td>None</td>\n",
       "      <td>node</td>\n",
       "      <td>customNode</td>\n",
       "      <td>False</td>\n",
       "    </tr>\n",
       "    <tr>\n",
       "      <th>4</th>\n",
       "      <td>va_i_lammps__calculator</td>\n",
       "      <td>pyiron_workflow.graph.base.identity</td>\n",
       "      <td>va_i_lammps__calculator</td>\n",
       "      <td>lammps</td>\n",
       "      <td>1</td>\n",
       "      <td>&lt;pyiron_workflow.simple_workflow.Node object a...</td>\n",
       "      <td>None</td>\n",
       "      <td>node</td>\n",
       "      <td>customNode</td>\n",
       "      <td>False</td>\n",
       "    </tr>\n",
       "    <tr>\n",
       "      <th>5</th>\n",
       "      <td>va_i_lammps__working_dir</td>\n",
       "      <td>pyiron_workflow.graph.base.identity</td>\n",
       "      <td>va_i_lammps__working_dir</td>\n",
       "      <td>lammps</td>\n",
       "      <td>1</td>\n",
       "      <td>&lt;pyiron_workflow.simple_workflow.Node object a...</td>\n",
       "      <td>None</td>\n",
       "      <td>node</td>\n",
       "      <td>customNode</td>\n",
       "      <td>False</td>\n",
       "    </tr>\n",
       "    <tr>\n",
       "      <th>6</th>\n",
       "      <td>DummyNode</td>\n",
       "      <td>pyiron_nodes.atomistic.engine.lammps.DummyNode</td>\n",
       "      <td>DummyNode</td>\n",
       "      <td>lammps</td>\n",
       "      <td>1</td>\n",
       "      <td>&lt;pyiron_workflow.simple_workflow.Node object a...</td>\n",
       "      <td>None</td>\n",
       "      <td>node</td>\n",
       "      <td>customNode</td>\n",
       "      <td>False</td>\n",
       "    </tr>\n",
       "    <tr>\n",
       "      <th>7</th>\n",
       "      <td>ListPotentials</td>\n",
       "      <td>pyiron_nodes.atomistic.engine.lammps.ListPoten...</td>\n",
       "      <td>ListPotentials</td>\n",
       "      <td>lammps</td>\n",
       "      <td>1</td>\n",
       "      <td>&lt;pyiron_workflow.simple_workflow.Node object a...</td>\n",
       "      <td>None</td>\n",
       "      <td>node</td>\n",
       "      <td>customNode</td>\n",
       "      <td>False</td>\n",
       "    </tr>\n",
       "    <tr>\n",
       "      <th>8</th>\n",
       "      <td>Potential</td>\n",
       "      <td>pyiron_nodes.atomistic.engine.lammps.Potential</td>\n",
       "      <td>Potential</td>\n",
       "      <td>lammps</td>\n",
       "      <td>1</td>\n",
       "      <td>&lt;pyiron_workflow.simple_workflow.Node object a...</td>\n",
       "      <td>None</td>\n",
       "      <td>node</td>\n",
       "      <td>customNode</td>\n",
       "      <td>False</td>\n",
       "    </tr>\n",
       "    <tr>\n",
       "      <th>9</th>\n",
       "      <td>InitLammps</td>\n",
       "      <td>pyiron_nodes.atomistic.engine.lammps.InitLammps</td>\n",
       "      <td>InitLammps</td>\n",
       "      <td>lammps</td>\n",
       "      <td>1</td>\n",
       "      <td>&lt;pyiron_workflow.simple_workflow.Node object a...</td>\n",
       "      <td>None</td>\n",
       "      <td>node</td>\n",
       "      <td>customNode</td>\n",
       "      <td>False</td>\n",
       "    </tr>\n",
       "    <tr>\n",
       "      <th>10</th>\n",
       "      <td>Shell</td>\n",
       "      <td>pyiron_nodes.atomistic.engine.lammps.Shell</td>\n",
       "      <td>Shell</td>\n",
       "      <td>lammps</td>\n",
       "      <td>1</td>\n",
       "      <td>&lt;pyiron_workflow.simple_workflow.Node object a...</td>\n",
       "      <td>None</td>\n",
       "      <td>node</td>\n",
       "      <td>customNode</td>\n",
       "      <td>False</td>\n",
       "    </tr>\n",
       "    <tr>\n",
       "      <th>11</th>\n",
       "      <td>va_o_lammps__path</td>\n",
       "      <td>pyiron_workflow.graph.base.identity</td>\n",
       "      <td>va_o_lammps__path</td>\n",
       "      <td>lammps</td>\n",
       "      <td>1</td>\n",
       "      <td>&lt;pyiron_workflow.simple_workflow.Node object a...</td>\n",
       "      <td>None</td>\n",
       "      <td>node</td>\n",
       "      <td>customNode</td>\n",
       "      <td>False</td>\n",
       "    </tr>\n",
       "    <tr>\n",
       "      <th>12</th>\n",
       "      <td>ParseLogFile</td>\n",
       "      <td>pyiron_nodes.atomistic.engine.lammps.ParseLogFile</td>\n",
       "      <td>ParseLogFile</td>\n",
       "      <td>lammps</td>\n",
       "      <td>1</td>\n",
       "      <td>&lt;pyiron_workflow.simple_workflow.Node object a...</td>\n",
       "      <td>None</td>\n",
       "      <td>node</td>\n",
       "      <td>customNode</td>\n",
       "      <td>False</td>\n",
       "    </tr>\n",
       "    <tr>\n",
       "      <th>13</th>\n",
       "      <td>ParseDumpFile</td>\n",
       "      <td>pyiron_nodes.atomistic.engine.lammps.ParseDump...</td>\n",
       "      <td>ParseDumpFile</td>\n",
       "      <td>lammps</td>\n",
       "      <td>1</td>\n",
       "      <td>&lt;pyiron_workflow.simple_workflow.Node object a...</td>\n",
       "      <td>None</td>\n",
       "      <td>node</td>\n",
       "      <td>customNode</td>\n",
       "      <td>False</td>\n",
       "    </tr>\n",
       "    <tr>\n",
       "      <th>14</th>\n",
       "      <td>Collect</td>\n",
       "      <td>pyiron_nodes.atomistic.engine.lammps.Collect</td>\n",
       "      <td>Collect</td>\n",
       "      <td>lammps</td>\n",
       "      <td>1</td>\n",
       "      <td>&lt;pyiron_workflow.simple_workflow.Node object a...</td>\n",
       "      <td>None</td>\n",
       "      <td>node</td>\n",
       "      <td>customNode</td>\n",
       "      <td>False</td>\n",
       "    </tr>\n",
       "    <tr>\n",
       "      <th>15</th>\n",
       "      <td>va_o_lammps__generic</td>\n",
       "      <td>pyiron_workflow.graph.base.identity</td>\n",
       "      <td>va_o_lammps__generic</td>\n",
       "      <td>lammps</td>\n",
       "      <td>1</td>\n",
       "      <td>&lt;pyiron_workflow.simple_workflow.Node object a...</td>\n",
       "      <td>None</td>\n",
       "      <td>node</td>\n",
       "      <td>customNode</td>\n",
       "      <td>False</td>\n",
       "    </tr>\n",
       "    <tr>\n",
       "      <th>16</th>\n",
       "      <td>md_output</td>\n",
       "      <td>pyiron_workflow.simple_workflow.func_dataclass</td>\n",
       "      <td>md_output</td>\n",
       "      <td>None</td>\n",
       "      <td>0</td>\n",
       "      <td>&lt;pyiron_workflow.simple_workflow.Node object a...</td>\n",
       "      <td>None</td>\n",
       "      <td>node</td>\n",
       "      <td>customNode</td>\n",
       "      <td>False</td>\n",
       "    </tr>\n",
       "  </tbody>\n",
       "</table>\n",
       "</div>"
      ],
      "text/plain": [
       "NestedDict([('structure',\n",
       "             GraphNode(id='structure', import_path='pyiron_nodes.atomistic.structure.build.Bulk', label='structure', parent_id=None, level=0, node=<pyiron_workflow.simple_workflow.Node object at 0x1589ccfb0>, graph=None, node_type='node', widget_type='customNode', expanded=False)),\n",
       "            ('lammps',\n",
       "             GraphNode(id='lammps', import_path=None, label='lammps', parent_id=None, level=0, node=<pyiron_workflow.simple_workflow.Node object at 0x1589ccec0>, graph=Graph(id='lammps', label='lammps', root_node=None, nodes=NestedDict({'va_i_lammps__structure': GraphNode(id='va_i_lammps__structure', import_path='pyiron_workflow.graph.base.identity', label='va_i_lammps__structure', parent_id='lammps', level=1, node=<pyiron_workflow.simple_workflow.Node object at 0x1589f1b50>, graph=None, node_type='node', widget_type='customNode', expanded=False), 'va_i_lammps__potential': GraphNode(id='va_i_lammps__potential', import_path='pyiron_workflow.graph.base.identity', label='va_i_lammps__potential', parent_id='lammps', level=1, node=<pyiron_workflow.simple_workflow.Node object at 0x15866b7d0>, graph=None, node_type='node', widget_type='customNode', expanded=False), 'va_i_lammps__calculator': GraphNode(id='va_i_lammps__calculator', import_path='pyiron_workflow.graph.base.identity', label='va_i_lammps__calculator', parent_id='lammps', level=1, node=<pyiron_workflow.simple_workflow.Node object at 0x1589f02c0>, graph=None, node_type='node', widget_type='customNode', expanded=False), 'va_i_lammps__working_dir': GraphNode(id='va_i_lammps__working_dir', import_path='pyiron_workflow.graph.base.identity', label='va_i_lammps__working_dir', parent_id='lammps', level=1, node=<pyiron_workflow.simple_workflow.Node object at 0x1589a7650>, graph=None, node_type='node', widget_type='customNode', expanded=False), 'DummyNode': GraphNode(id='DummyNode', import_path='pyiron_nodes.atomistic.engine.lammps.DummyNode', label='DummyNode', parent_id='lammps', level=1, node=<pyiron_workflow.simple_workflow.Node object at 0x1589cd370>, graph=None, node_type='node', widget_type='customNode', expanded=False), 'ListPotentials': GraphNode(id='ListPotentials', import_path='pyiron_nodes.atomistic.engine.lammps.ListPotentials', label='ListPotentials', parent_id='lammps', level=1, node=<pyiron_workflow.simple_workflow.Node object at 0x1589ccce0>, graph=None, node_type='node', widget_type='customNode', expanded=False), 'Potential': GraphNode(id='Potential', import_path='pyiron_nodes.atomistic.engine.lammps.Potential', label='Potential', parent_id='lammps', level=1, node=<pyiron_workflow.simple_workflow.Node object at 0x1589cd8b0>, graph=None, node_type='node', widget_type='customNode', expanded=False), 'InitLammps': GraphNode(id='InitLammps', import_path='pyiron_nodes.atomistic.engine.lammps.InitLammps', label='InitLammps', parent_id='lammps', level=1, node=<pyiron_workflow.simple_workflow.Node object at 0x1589cd2e0>, graph=None, node_type='node', widget_type='customNode', expanded=False), 'Shell': GraphNode(id='Shell', import_path='pyiron_nodes.atomistic.engine.lammps.Shell', label='Shell', parent_id='lammps', level=1, node=<pyiron_workflow.simple_workflow.Node object at 0x158179b20>, graph=None, node_type='node', widget_type='customNode', expanded=False), 'va_o_lammps__path': GraphNode(id='va_o_lammps__path', import_path='pyiron_workflow.graph.base.identity', label='va_o_lammps__path', parent_id='lammps', level=1, node=<pyiron_workflow.simple_workflow.Node object at 0x1589cf350>, graph=None, node_type='node', widget_type='customNode', expanded=False), 'ParseLogFile': GraphNode(id='ParseLogFile', import_path='pyiron_nodes.atomistic.engine.lammps.ParseLogFile', label='ParseLogFile', parent_id='lammps', level=1, node=<pyiron_workflow.simple_workflow.Node object at 0x1586960f0>, graph=None, node_type='node', widget_type='customNode', expanded=False), 'ParseDumpFile': GraphNode(id='ParseDumpFile', import_path='pyiron_nodes.atomistic.engine.lammps.ParseDumpFile', label='ParseDumpFile', parent_id='lammps', level=1, node=<pyiron_workflow.simple_workflow.Node object at 0x158696060>, graph=None, node_type='node', widget_type='customNode', expanded=False), 'Collect': GraphNode(id='Collect', import_path='pyiron_nodes.atomistic.engine.lammps.Collect', label='Collect', parent_id='lammps', level=1, node=<pyiron_workflow.simple_workflow.Node object at 0x149f45cd0>, graph=None, node_type='node', widget_type='customNode', expanded=False), 'va_o_lammps__generic': GraphNode(id='va_o_lammps__generic', import_path='pyiron_workflow.graph.base.identity', label='va_o_lammps__generic', parent_id='lammps', level=1, node=<pyiron_workflow.simple_workflow.Node object at 0x1589f1130>, graph=None, node_type='node', widget_type='customNode', expanded=False)}), edges=[GraphEdge(source='va_i_lammps__structure', target='Potential', sourceHandle='x', targetHandle='structure'), GraphEdge(source='va_i_lammps__potential', target='Potential', sourceHandle='x', targetHandle='name'), GraphEdge(source='va_i_lammps__structure', target='DummyNode', sourceHandle='x', targetHandle='structure1'), GraphEdge(source='va_i_lammps__structure', target='DummyNode', sourceHandle='x', targetHandle='structure2'), GraphEdge(source='va_i_lammps__structure', target='ListPotentials', sourceHandle='x', targetHandle='structure'), GraphEdge(source='va_i_lammps__structure', target='InitLammps', sourceHandle='x', targetHandle='structure'), GraphEdge(source='va_i_lammps__calculator', target='InitLammps', sourceHandle='x', targetHandle='calculator'), GraphEdge(source='va_i_lammps__working_dir', target='InitLammps', sourceHandle='x', targetHandle='working_directory'), GraphEdge(source='Potential', target='InitLammps', sourceHandle='pot', targetHandle='potential'), GraphEdge(source='InitLammps', target='Shell', sourceHandle='path', targetHandle='working_directory'), GraphEdge(source='Shell', target='ParseLogFile', sourceHandle='log', targetHandle='log_file'), GraphEdge(source='Shell', target='ParseDumpFile', sourceHandle='dump', targetHandle='dump_file'), GraphEdge(source='ParseDumpFile', target='Collect', sourceHandle='dump', targetHandle='out_dump'), GraphEdge(source='ParseLogFile', target='Collect', sourceHandle='log', targetHandle='out_log'), GraphEdge(source='Collect', target='va_o_lammps__generic', sourceHandle='generic', targetHandle='x'), GraphEdge(source='InitLammps', target='va_o_lammps__path', sourceHandle='path', targetHandle='x')], graph={}), node_type='graph', widget_type='customNode', expanded=True)),\n",
       "            ('va_i_lammps__structure',\n",
       "             GraphNode(id='va_i_lammps__structure', import_path='pyiron_workflow.graph.base.identity', label='va_i_lammps__structure', parent_id='lammps', level=1, node=<pyiron_workflow.simple_workflow.Node object at 0x1589f1b50>, graph=None, node_type='node', widget_type='customNode', expanded=False)),\n",
       "            ('va_i_lammps__potential',\n",
       "             GraphNode(id='va_i_lammps__potential', import_path='pyiron_workflow.graph.base.identity', label='va_i_lammps__potential', parent_id='lammps', level=1, node=<pyiron_workflow.simple_workflow.Node object at 0x15866b7d0>, graph=None, node_type='node', widget_type='customNode', expanded=False)),\n",
       "            ('va_i_lammps__calculator',\n",
       "             GraphNode(id='va_i_lammps__calculator', import_path='pyiron_workflow.graph.base.identity', label='va_i_lammps__calculator', parent_id='lammps', level=1, node=<pyiron_workflow.simple_workflow.Node object at 0x1589f02c0>, graph=None, node_type='node', widget_type='customNode', expanded=False)),\n",
       "            ('va_i_lammps__working_dir',\n",
       "             GraphNode(id='va_i_lammps__working_dir', import_path='pyiron_workflow.graph.base.identity', label='va_i_lammps__working_dir', parent_id='lammps', level=1, node=<pyiron_workflow.simple_workflow.Node object at 0x1589a7650>, graph=None, node_type='node', widget_type='customNode', expanded=False)),\n",
       "            ('DummyNode',\n",
       "             GraphNode(id='DummyNode', import_path='pyiron_nodes.atomistic.engine.lammps.DummyNode', label='DummyNode', parent_id='lammps', level=1, node=<pyiron_workflow.simple_workflow.Node object at 0x1589cd370>, graph=None, node_type='node', widget_type='customNode', expanded=False)),\n",
       "            ('ListPotentials',\n",
       "             GraphNode(id='ListPotentials', import_path='pyiron_nodes.atomistic.engine.lammps.ListPotentials', label='ListPotentials', parent_id='lammps', level=1, node=<pyiron_workflow.simple_workflow.Node object at 0x1589ccce0>, graph=None, node_type='node', widget_type='customNode', expanded=False)),\n",
       "            ('Potential',\n",
       "             GraphNode(id='Potential', import_path='pyiron_nodes.atomistic.engine.lammps.Potential', label='Potential', parent_id='lammps', level=1, node=<pyiron_workflow.simple_workflow.Node object at 0x1589cd8b0>, graph=None, node_type='node', widget_type='customNode', expanded=False)),\n",
       "            ('InitLammps',\n",
       "             GraphNode(id='InitLammps', import_path='pyiron_nodes.atomistic.engine.lammps.InitLammps', label='InitLammps', parent_id='lammps', level=1, node=<pyiron_workflow.simple_workflow.Node object at 0x1589cd2e0>, graph=None, node_type='node', widget_type='customNode', expanded=False)),\n",
       "            ('Shell',\n",
       "             GraphNode(id='Shell', import_path='pyiron_nodes.atomistic.engine.lammps.Shell', label='Shell', parent_id='lammps', level=1, node=<pyiron_workflow.simple_workflow.Node object at 0x158179b20>, graph=None, node_type='node', widget_type='customNode', expanded=False)),\n",
       "            ('va_o_lammps__path',\n",
       "             GraphNode(id='va_o_lammps__path', import_path='pyiron_workflow.graph.base.identity', label='va_o_lammps__path', parent_id='lammps', level=1, node=<pyiron_workflow.simple_workflow.Node object at 0x1589cf350>, graph=None, node_type='node', widget_type='customNode', expanded=False)),\n",
       "            ('ParseLogFile',\n",
       "             GraphNode(id='ParseLogFile', import_path='pyiron_nodes.atomistic.engine.lammps.ParseLogFile', label='ParseLogFile', parent_id='lammps', level=1, node=<pyiron_workflow.simple_workflow.Node object at 0x1586960f0>, graph=None, node_type='node', widget_type='customNode', expanded=False)),\n",
       "            ('ParseDumpFile',\n",
       "             GraphNode(id='ParseDumpFile', import_path='pyiron_nodes.atomistic.engine.lammps.ParseDumpFile', label='ParseDumpFile', parent_id='lammps', level=1, node=<pyiron_workflow.simple_workflow.Node object at 0x158696060>, graph=None, node_type='node', widget_type='customNode', expanded=False)),\n",
       "            ('Collect',\n",
       "             GraphNode(id='Collect', import_path='pyiron_nodes.atomistic.engine.lammps.Collect', label='Collect', parent_id='lammps', level=1, node=<pyiron_workflow.simple_workflow.Node object at 0x149f45cd0>, graph=None, node_type='node', widget_type='customNode', expanded=False)),\n",
       "            ('va_o_lammps__generic',\n",
       "             GraphNode(id='va_o_lammps__generic', import_path='pyiron_workflow.graph.base.identity', label='va_o_lammps__generic', parent_id='lammps', level=1, node=<pyiron_workflow.simple_workflow.Node object at 0x1589f1130>, graph=None, node_type='node', widget_type='customNode', expanded=False)),\n",
       "            ('md_output',\n",
       "             GraphNode(id='md_output', import_path='pyiron_workflow.simple_workflow.func_dataclass', label='md_output', parent_id=None, level=0, node=<pyiron_workflow.simple_workflow.Node object at 0x1589cf5c0>, graph=None, node_type='node', widget_type='customNode', expanded=False))])"
      ]
     },
     "execution_count": 18,
     "metadata": {},
     "output_type": "execute_result"
    }
   ],
   "source": [
    "graph.nodes"
   ]
  },
  {
   "cell_type": "code",
   "execution_count": null,
   "metadata": {},
   "outputs": [],
   "source": []
  }
 ],
 "metadata": {
  "kernelspec": {
   "display_name": "Python 3 (ipykernel)",
   "language": "python",
   "name": "python3"
  },
  "language_info": {
   "codemirror_mode": {
    "name": "ipython",
    "version": 3
   },
   "file_extension": ".py",
   "mimetype": "text/x-python",
   "name": "python",
   "nbconvert_exporter": "python",
   "pygments_lexer": "ipython3",
   "version": "3.12.4"
  }
 },
 "nbformat": 4,
 "nbformat_minor": 4
}
