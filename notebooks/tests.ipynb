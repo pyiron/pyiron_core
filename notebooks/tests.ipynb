{
 "cells": [
  {
   "cell_type": "code",
   "execution_count": 1,
   "metadata": {},
   "outputs": [],
   "source": [
    "import sys\n",
    "\n",
    "sys.path.insert(0, \"/Users/joerg/git_libs/pyiron_core\")"
   ]
  },
  {
   "cell_type": "code",
   "execution_count": 2,
   "metadata": {},
   "outputs": [
    {
     "data": {
      "application/vnd.jupyter.widget-view+json": {
       "model_id": "d7ab8947e360498881d17fd568c2264a",
       "version_major": 2,
       "version_minor": 0
      },
      "text/plain": []
     },
     "metadata": {},
     "output_type": "display_data"
    }
   ],
   "source": [
    "import pyiron_workflow.graph.graph_operations as go\n",
    "from pyiron_workflow import as_function_node\n",
    "from pyiron_workflow.graph import base, gui\n",
    "from pyiron_workflow.simple_workflow import Workflow\n",
    "import pyiron_nodes as pn\n",
    "# from pyironflow.pyironflow import PyironFlow"
   ]
  },
  {
   "cell_type": "markdown",
   "metadata": {},
   "source": [
    "Why not running the graph rather than the workflow. Graph is much more powerful and includes serialization and subgraphs? This works already! Does not yet have concept of input."
   ]
  },
  {
   "cell_type": "code",
   "execution_count": 3,
   "metadata": {},
   "outputs": [
    {
     "name": "stderr",
     "output_type": "stream",
     "text": [
      "DEBUG:pyiron_log:Not supported parameter used!\n",
      "DEBUG:pyiron_log:Not supported parameter used!\n"
     ]
    },
    {
     "data": {
      "text/plain": [
       "Al: [0. 0. 0.]\n",
       "Al: [0.    2.025 2.025]\n",
       "Al: [2.025 0.    2.025]\n",
       "Al: [2.025 2.025 0.   ]\n",
       "tags: \n",
       "    indices: [0 0 0 0]\n",
       "pbc: [ True  True  True]\n",
       "cell: \n",
       "Cell([4.05, 4.05, 4.05])"
      ]
     },
     "execution_count": 3,
     "metadata": {},
     "output_type": "execute_result"
    }
   ],
   "source": [
    "def Subgraph(structure, ):\n",
    "\n",
    "    from pyiron_workflow import Workflow\n",
    "    import pyiron_nodes\n",
    "\n",
    "    wf = Workflow('subgraph')\n",
    "\n",
    "    wf.Repeat = pyiron_nodes.atomistic.structure.transform.Repeat(structure=structure) \n",
    "    wf.Repeat_2 = pyiron_nodes.atomistic.structure.transform.Repeat(structure=wf.Repeat) \n",
    "    wf.Plot3d = pyiron_nodes.atomistic.structure.view.Plot3d(structure=structure) \n",
    "\n",
    "    return wf.Repeat_2\n",
    "\n",
    "structure = pn.atomistic.structure.build.Bulk(\"Al\", cubic=True).run()\n",
    "Subgraph(structure=structure).pull()"
   ]
  },
  {
   "cell_type": "code",
   "execution_count": 4,
   "metadata": {},
   "outputs": [
    {
     "name": "stderr",
     "output_type": "stream",
     "text": [
      "DEBUG:pyiron_log:Not supported parameter used!\n",
      "DEBUG:pyiron_log:Not supported parameter used!\n"
     ]
    }
   ],
   "source": [
    "def my_func(structure=None, repeat_scalar=1):\n",
    "    from pyiron_workflow import Workflow\n",
    "    import pyiron_nodes\n",
    "\n",
    "    wf = Workflow(\"subgraph\")\n",
    "\n",
    "    # wf.va_i_subgraph__structure = __main__.InputNode()\n",
    "    wf.Repeat = pyiron_nodes.atomistic.structure.transform.Repeat(structure=structure, repeat_scalar=repeat_scalar)\n",
    "    wf.Repeat_2 = pyiron_nodes.atomistic.structure.transform.Repeat(structure=wf.Repeat)\n",
    "    wf.Plot3d = pyiron_nodes.atomistic.structure.view.Plot3d(structure=structure)\n",
    "\n",
    "    return wf.Repeat_2.pull()\n",
    "   \n",
    "structure = pn.atomistic.structure.build.Bulk(\"Al\", cubic=True).run()\n",
    "my_func(structure=structure, repeat_scalar=2);\n"
   ]
  },
  {
   "cell_type": "code",
   "execution_count": 5,
   "metadata": {},
   "outputs": [
    {
     "name": "stderr",
     "output_type": "stream",
     "text": [
      "DEBUG:pyiron_log:Not supported parameter used!\n",
      "DEBUG:pyiron_log:Not supported parameter used!\n"
     ]
    },
    {
     "data": {
      "text/plain": [
       "Al: [0. 0. 0.]\n",
       "Al: [0.    2.025 2.025]\n",
       "Al: [2.025 0.    2.025]\n",
       "Al: [2.025 2.025 0.   ]\n",
       "tags: \n",
       "    indices: [0 0 0 0]\n",
       "pbc: [ True  True  True]\n",
       "cell: \n",
       "Cell([4.05, 4.05, 4.05])"
      ]
     },
     "execution_count": 5,
     "metadata": {},
     "output_type": "execute_result"
    }
   ],
   "source": [
    "structure = pn.atomistic.structure.build.Bulk(\"Al\", cubic=True).run()\n",
    "import pyiron_nodes\n",
    "\n",
    "wf = Workflow(\"subgraph\")\n",
    "\n",
    "# wf.va_i_subgraph__structure = __main__.InputNode()\n",
    "wf.Repeat = pyiron_nodes.atomistic.structure.transform.Repeat(structure=structure)\n",
    "wf.Repeat_2 = pyiron_nodes.atomistic.structure.transform.Repeat(structure=wf.Repeat, repeat_scalar=1)\n",
    "wf.Plot3d = pyiron_nodes.atomistic.structure.view.Plot3d(structure=structure)\n",
    "\n",
    "wf.run()\n"
   ]
  },
  {
   "cell_type": "markdown",
   "metadata": {},
   "source": [
    "## From Graph"
   ]
  },
  {
   "cell_type": "code",
   "execution_count": 6,
   "metadata": {},
   "outputs": [],
   "source": [
    "import pyiron_nodes as pn\n",
    "\n",
    "\n",
    "@as_function_node\n",
    "def InputNode(structure=None):\n",
    "    return structure\n",
    "\n",
    "\n",
    "@as_function_node\n",
    "def OutputNode(structure=None):\n",
    "    return structure\n",
    "\n",
    "InputStructure = \"va_i_subgraph__structure\"\n",
    "OutputStructure = \"va_o_subgraph__structure\"\n",
    "\n",
    "sub_graph = base.Graph(label=\"subgraph\")\n",
    "sub_graph += InputNode(label=InputStructure)\n",
    "sub_graph += pn.atomistic.structure.transform.Repeat(label=\"Repeat\")\n",
    "sub_graph += pn.atomistic.structure.transform.Repeat(label=\"Repeat_2\")\n",
    "sub_graph += pn.atomistic.structure.view.Plot3d(label=\"Plot3d\")\n",
    "sub_graph += OutputNode(label=OutputStructure)\n",
    "\n",
    "sub_graph += base.GraphEdge(\"Repeat\", \"Repeat_2\", \"structure\", \"structure\")\n",
    "sub_graph += base.GraphEdge(InputStructure, \"Repeat\", \"structure\", \"structure\")\n",
    "sub_graph += base.GraphEdge(InputStructure, \"Plot3d\", \"structure\", \"structure\")\n",
    "sub_graph += base.GraphEdge(\"Repeat_2\", OutputStructure, \"structure\", \"structure\")\n",
    "\n",
    "graph = base.Graph(label=\"Workflow\")\n",
    "graph += pn.atomistic.structure.build.Bulk(name=\"Al\", label=\"structure\")\n",
    "graph += pn.atomistic.structure.transform.Repeat(label=\"repeat\")\n",
    "graph += sub_graph\n",
    "graph.nodes[\"subgraph\"].expanded = False\n",
    "graph.nodes[\"subgraph\"].node = go.graph_to_node(sub_graph)\n",
    "\n",
    "graph += pn.atomistic.structure.view.Plot3d(label=\"plot\")\n",
    "\n",
    "graph += base.GraphEdge(\"structure\", \"repeat\", \"structure\", \"structure\")\n",
    "graph += base.GraphEdge(OutputStructure, \"plot\", \"structure\", \"structure\")\n",
    "graph += base.GraphEdge(\"repeat\", InputStructure, \"structure\", \"structure\")\n",
    "# graph += base.GraphEdge(\"subgraph\", \"plot\", \"structure\", \"structure\")\n",
    "# graph += base.GraphEdge(\"repeat\", \"subgraph\", \"structure\", \"structure\")\n",
    "\n",
    "graph = base.remove_node(graph, \"Repeat\")\n",
    "graph = base.remove_node(graph, \"Repeat_2\")\n",
    "\n",
    "\n",
    "base.GuiGraph(graph);"
   ]
  },
  {
   "cell_type": "code",
   "execution_count": 7,
   "metadata": {},
   "outputs": [
    {
     "name": "stdout",
     "output_type": "stream",
     "text": [
      "False\n",
      "Collapsing node subgraph\n",
      "False\n"
     ]
    }
   ],
   "source": [
    "print(graph.nodes[\"subgraph\"].expanded)\n",
    "# Collapse a node\n",
    "collapsed_graph = base.collapse_node(graph, \"subgraph\")\n",
    "\n",
    "# Expand a node\n",
    "# expanded_graph = go._expand_node(graph, \"subgraph\")\n",
    "print(graph.nodes[\"subgraph\"].expanded)\n"
   ]
  },
  {
   "cell_type": "code",
   "execution_count": 8,
   "metadata": {},
   "outputs": [],
   "source": [
    "# base.GuiGraph(expanded_graph);"
   ]
  },
  {
   "cell_type": "code",
   "execution_count": 9,
   "metadata": {},
   "outputs": [],
   "source": [
    "base.GuiGraph(collapsed_graph);"
   ]
  },
  {
   "cell_type": "code",
   "execution_count": 10,
   "metadata": {},
   "outputs": [
    {
     "data": {
      "text/plain": [
       "{'label': 'subgraph',\n",
       " 'function': 'pyiron_workflow.graph.graph_operations.foo',\n",
       " 'inputs': {}}"
      ]
     },
     "execution_count": 10,
     "metadata": {},
     "output_type": "execute_result"
    }
   ],
   "source": [
    "graph.nodes[\"subgraph\"].node.__getstate__() # correct function has to be constructed and stored in the node!"
   ]
  },
  {
   "cell_type": "markdown",
   "metadata": {},
   "source": [
    "## From workflow"
   ]
  },
  {
   "cell_type": "code",
   "execution_count": 11,
   "metadata": {},
   "outputs": [],
   "source": [
    "wf = Workflow('lammps_full')\n",
    "\n",
    "# wf.structure = pn.atomistic.structure.build.Bulk('Al', cubic=True)\n",
    "wf.lammps = pn.atomistic.engine.lammps.Code1() # structure=wf.structure)\n",
    "# wf.md_output = pn.atomistic.calculator.data.OutputCalcMD(dataclass=wf.lammps.outputs.generic)"
   ]
  },
  {
   "cell_type": "code",
   "execution_count": 12,
   "metadata": {},
   "outputs": [
    {
     "name": "stdout",
     "output_type": "stream",
     "text": [
      "label:  LammpsMacro Code1\n",
      "wf_label:  Code1\n",
      "target:  Collect generic\n",
      "target:  InitLammps path\n",
      "new_graph:  Code1\n"
     ]
    },
    {
     "data": {
      "application/vnd.jupyter.widget-view+json": {
       "model_id": "a36f146b49e048aa9bc3cfdf7b006bea",
       "version_major": 2,
       "version_minor": 1
      },
      "text/plain": [
       "ReactFlowWidget()"
      ]
     },
     "metadata": {},
     "output_type": "display_data"
    },
    {
     "data": {
      "text/plain": [
       "<pyiron_workflow.graph.base.GuiGraph at 0x1080958e0>"
      ]
     },
     "execution_count": 12,
     "metadata": {},
     "output_type": "execute_result"
    }
   ],
   "source": [
    "graph = base.Graph(label='test')\n",
    "graph += pn.atomistic.engine.lammps.Code1()\n",
    "graph.nodes[\"Code1\"].expanded = False\n",
    "\n",
    "base.GuiGraph(graph)\n",
    "                   "
   ]
  },
  {
   "cell_type": "code",
   "execution_count": 13,
   "metadata": {},
   "outputs": [
    {
     "name": "stdout",
     "output_type": "stream",
     "text": [
      "label:  LammpsMacro lammps\n",
      "wf_label:  lammps\n",
      "target:  Collect generic\n",
      "target:  InitLammps path\n",
      "new_graph:  lammps\n"
     ]
    }
   ],
   "source": [
    "graph = base.get_full_graph_from_wf(wf)\n"
   ]
  },
  {
   "cell_type": "code",
   "execution_count": 14,
   "metadata": {},
   "outputs": [
    {
     "data": {
      "text/plain": [
       "'pyiron_nodes.atomistic.engine.lammps.Code1_postfix'"
      ]
     },
     "execution_count": 14,
     "metadata": {},
     "output_type": "execute_result"
    }
   ],
   "source": [
    "base.get_import_path_from_type(pn.atomistic.engine.lammps.Code1)"
   ]
  },
  {
   "cell_type": "code",
   "execution_count": 15,
   "metadata": {},
   "outputs": [],
   "source": [
    "# wf = Workflow(\"flow\")\n",
    "# wf.LoadGraph = pn.graphs.flow.LoadGraph('lammps_full')\n",
    "# wf.DisplayNodes = pn.graphs.flow.DisplayNodes(graph=wf.LoadGraph)\n",
    "# wf.DisplayNodes.pull()\n",
    "\n",
    "# graph = base.get_full_graph_from_wf(wf)"
   ]
  },
  {
   "cell_type": "code",
   "execution_count": 16,
   "metadata": {},
   "outputs": [],
   "source": [
    "# base.GuiGraph(pf.graph)"
   ]
  },
  {
   "cell_type": "code",
   "execution_count": 17,
   "metadata": {},
   "outputs": [
    {
     "name": "stdout",
     "output_type": "stream",
     "text": [
      "label:  LammpsMacro lammps\n",
      "wf_label:  lammps\n",
      "target:  Collect generic\n",
      "target:  InitLammps path\n",
      "new_graph:  lammps\n",
      "Expanding node lammps\n",
      "Collapsing node Code1\n"
     ]
    },
    {
     "data": {
      "application/vnd.jupyter.widget-view+json": {
       "model_id": "b80b3f412c024561b80173849d667c2d",
       "version_major": 2,
       "version_minor": 0
      },
      "text/plain": [
       "HBox(children=(Output(), Tab(children=(ReactFlowWidget(layout=Layout(height='800px', width='1200px')), ReactFl…"
      ]
     },
     "execution_count": 17,
     "metadata": {},
     "output_type": "execute_result"
    }
   ],
   "source": [
    "pf = gui.PyironFlow([wf, 'flow_expand', 'edges'])\n",
    "pf.gui"
   ]
  },
  {
   "cell_type": "code",
   "execution_count": 18,
   "metadata": {},
   "outputs": [
    {
     "ename": "AttributeError",
     "evalue": "'PyironFlow' object has no attribute 'graph'",
     "output_type": "error",
     "traceback": [
      "\u001b[0;31m---------------------------------------------------------------------------\u001b[0m",
      "\u001b[0;31mAttributeError\u001b[0m                            Traceback (most recent call last)",
      "Cell \u001b[0;32mIn[18], line 1\u001b[0m\n\u001b[0;32m----> 1\u001b[0m \u001b[43mpf\u001b[49m\u001b[38;5;241;43m.\u001b[39;49m\u001b[43mgraph\u001b[49m\u001b[38;5;241m.\u001b[39mnodes\n",
      "\u001b[0;31mAttributeError\u001b[0m: 'PyironFlow' object has no attribute 'graph'"
     ]
    }
   ],
   "source": [
    "pf.graph.nodes"
   ]
  },
  {
   "cell_type": "code",
   "execution_count": null,
   "metadata": {},
   "outputs": [],
   "source": [
    "xx"
   ]
  },
  {
   "cell_type": "code",
   "execution_count": null,
   "metadata": {},
   "outputs": [],
   "source": [
    "label = 'lammps'\n",
    "print(graph.nodes[label].expanded)\n",
    "# Collapse a node\n",
    "collapsed_graph = base.collapse_node(graph, label)\n",
    "print(graph.nodes[label].expanded)\n",
    "\n",
    "# Expand a node\n",
    "expanded_graph = base.expand_node(graph, label)\n",
    "print(graph.nodes[label].expanded)"
   ]
  },
  {
   "cell_type": "code",
   "execution_count": null,
   "metadata": {},
   "outputs": [],
   "source": [
    "collapsed_graph.edges"
   ]
  },
  {
   "cell_type": "code",
   "execution_count": null,
   "metadata": {},
   "outputs": [],
   "source": [
    "base.GuiGraph(collapsed_graph)"
   ]
  },
  {
   "cell_type": "code",
   "execution_count": null,
   "metadata": {},
   "outputs": [],
   "source": [
    "base.GuiGraph(expanded_graph)"
   ]
  },
  {
   "cell_type": "code",
   "execution_count": null,
   "metadata": {},
   "outputs": [],
   "source": [
    "base.GuiGraph(graph)"
   ]
  },
  {
   "cell_type": "code",
   "execution_count": null,
   "metadata": {},
   "outputs": [],
   "source": [
    "graph.nodes"
   ]
  },
  {
   "cell_type": "code",
   "execution_count": null,
   "metadata": {},
   "outputs": [],
   "source": [
    "collapsed_graph.nodes"
   ]
  },
  {
   "cell_type": "code",
   "execution_count": null,
   "metadata": {},
   "outputs": [],
   "source": [
    "graph.nodes['lammps'].expanded = False\n",
    "\n",
    "u_graph = base.get_updated_graph(graph)\n",
    "\n",
    "graph.nodes['lammps'].expanded \n",
    "\n"
   ]
  },
  {
   "cell_type": "code",
   "execution_count": null,
   "metadata": {},
   "outputs": [],
   "source": [
    "base.GuiGraph(u_graph)"
   ]
  },
  {
   "cell_type": "code",
   "execution_count": null,
   "metadata": {},
   "outputs": [],
   "source": []
  }
 ],
 "metadata": {
  "kernelspec": {
   "display_name": "Python 3 (ipykernel)",
   "language": "python",
   "name": "python3"
  },
  "language_info": {
   "codemirror_mode": {
    "name": "ipython",
    "version": 3
   },
   "file_extension": ".py",
   "mimetype": "text/x-python",
   "name": "python",
   "nbconvert_exporter": "python",
   "pygments_lexer": "ipython3",
   "version": "3.12.4"
  }
 },
 "nbformat": 4,
 "nbformat_minor": 4
}
