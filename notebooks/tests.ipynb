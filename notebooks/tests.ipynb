{
 "cells": [
  {
   "cell_type": "code",
   "execution_count": 1,
   "metadata": {},
   "outputs": [],
   "source": [
    "import sys\n",
    "\n",
    "sys.path.insert(0, \"/Users/neugebauer/gitProjects/pyiron_core\")"
   ]
  },
  {
   "cell_type": "code",
   "execution_count": 2,
   "metadata": {},
   "outputs": [
    {
     "name": "stderr",
     "output_type": "stream",
     "text": [
      "2025-02-18 13:20:09,815 - pyiron_log - WARNING - pyiron found a 'dynamic' folder in the /Users/neugebauer/pyiron/resources resource directory. These are no longer supported in pyiron_base >=0.7.0. They are replaced by Project.create_job_class() and Project.wrap_python_function().\n",
      "2025-02-18 13:20:09,816 - pyiron_log - WARNING - pyiron found a 'templates' folder in the /Users/neugebauer/pyiron/resources resource directory. These are no longer supported in pyiron_base >=0.7.0. They are replaced by Project.create_job_class() and Project.wrap_python_function().\n"
     ]
    },
    {
     "data": {
      "application/vnd.jupyter.widget-view+json": {
       "model_id": "c7654174738e40309d94d680bfb6d616",
       "version_major": 2,
       "version_minor": 0
      },
      "text/plain": []
     },
     "metadata": {},
     "output_type": "display_data"
    }
   ],
   "source": [
    "import pyiron_workflow.graph.graph_operations as go\n",
    "from pyiron_workflow import as_function_node\n",
    "from pyiron_workflow.graph import base, gui\n",
    "from pyiron_workflow.simple_workflow import Workflow\n",
    "import pyiron_nodes as pn\n",
    "# from pyironflow.pyironflow import PyironFlow"
   ]
  },
  {
   "cell_type": "code",
   "execution_count": 3,
   "metadata": {},
   "outputs": [
    {
     "name": "stdout",
     "output_type": "stream",
     "text": [
      "Adding macro node CubicBulkCell\n",
      "wf_label:  CubicBulkCell\n",
      "target:  vacancy structure\n"
     ]
    },
    {
     "data": {
      "text/html": [
       "<div>\n",
       "<style scoped>\n",
       "    .dataframe tbody tr th:only-of-type {\n",
       "        vertical-align: middle;\n",
       "    }\n",
       "\n",
       "    .dataframe tbody tr th {\n",
       "        vertical-align: top;\n",
       "    }\n",
       "\n",
       "    .dataframe thead th {\n",
       "        text-align: right;\n",
       "    }\n",
       "</style>\n",
       "<table border=\"1\" class=\"dataframe\">\n",
       "  <thead>\n",
       "    <tr style=\"text-align: right;\">\n",
       "      <th></th>\n",
       "      <th>label</th>\n",
       "      <th>type</th>\n",
       "      <th>default</th>\n",
       "      <th>ready</th>\n",
       "      <th>value</th>\n",
       "      <th>node</th>\n",
       "    </tr>\n",
       "  </thead>\n",
       "  <tbody>\n",
       "    <tr>\n",
       "      <th>0</th>\n",
       "      <td>structure</td>\n",
       "      <td>NonPrimitive</td>\n",
       "      <td>NotData</td>\n",
       "      <td>True</td>\n",
       "      <td>label                                         ...</td>\n",
       "      <td>&lt;pyiron_workflow.simple_workflow.Node object a...</td>\n",
       "    </tr>\n",
       "    <tr>\n",
       "      <th>1</th>\n",
       "      <td>repeat_scalar</td>\n",
       "      <td>int</td>\n",
       "      <td>1</td>\n",
       "      <td>True</td>\n",
       "      <td>label                                         ...</td>\n",
       "      <td>&lt;pyiron_workflow.simple_workflow.Node object a...</td>\n",
       "    </tr>\n",
       "  </tbody>\n",
       "</table>\n",
       "</div>"
      ],
      "text/plain": [
       "{'label': ['structure', 'repeat_scalar'], 'type': ['NonPrimitive', 'int'], 'default': ['NotData', 1], 'ready': [True, True], 'value': [label                                            structure\n",
       "type                                     builtins.NoneType\n",
       "ready                                                False\n",
       "value                                                 None\n",
       "node     <pyiron_workflow.simple_workflow.Node object a...\n",
       "dtype: object, label                                              cell_size\n",
       "type                                                     int\n",
       "default                                                    1\n",
       "ready                                                   True\n",
       "value                                                      1\n",
       "node       <pyiron_workflow.simple_workflow.Node object a...\n",
       "dtype: object], 'node': [<pyiron_workflow.simple_workflow.Node object at 0x122eb4290>, <pyiron_workflow.simple_workflow.Node object at 0x122eb4290>]}"
      ]
     },
     "execution_count": 3,
     "metadata": {},
     "output_type": "execute_result"
    }
   ],
   "source": [
    "graph = base.Graph('test')\n",
    "\n",
    "node = pn.atomistic.structure.build.CubicBulkCell('Al')\n",
    "graph += node\n",
    "\n",
    "# base.GuiGraph(graph, full_graph=True, sleep=2.)\n",
    "graph.nodes[\"CubicBulkCell\"].graph.nodes[\"repeat\"].node.inputs\n"
   ]
  },
  {
   "cell_type": "code",
   "execution_count": 4,
   "metadata": {},
   "outputs": [
    {
     "data": {
      "text/html": [
       "<div>\n",
       "<style scoped>\n",
       "    .dataframe tbody tr th:only-of-type {\n",
       "        vertical-align: middle;\n",
       "    }\n",
       "\n",
       "    .dataframe tbody tr th {\n",
       "        vertical-align: top;\n",
       "    }\n",
       "\n",
       "    .dataframe thead th {\n",
       "        text-align: right;\n",
       "    }\n",
       "</style>\n",
       "<table border=\"1\" class=\"dataframe\">\n",
       "  <thead>\n",
       "    <tr style=\"text-align: right;\">\n",
       "      <th></th>\n",
       "      <th>id</th>\n",
       "      <th>import_path</th>\n",
       "      <th>label</th>\n",
       "      <th>parent_id</th>\n",
       "      <th>level</th>\n",
       "      <th>node</th>\n",
       "      <th>graph</th>\n",
       "      <th>node_type</th>\n",
       "      <th>widget_type</th>\n",
       "      <th>expanded</th>\n",
       "    </tr>\n",
       "  </thead>\n",
       "  <tbody>\n",
       "    <tr>\n",
       "      <th>0</th>\n",
       "      <td>va_i_CubicBulkCell__element</td>\n",
       "      <td>pyiron_workflow.graph.base.identity</td>\n",
       "      <td>va_i_CubicBulkCell__element</td>\n",
       "      <td>CubicBulkCell</td>\n",
       "      <td>1</td>\n",
       "      <td>&lt;pyiron_workflow.simple_workflow.Node object a...</td>\n",
       "      <td>None</td>\n",
       "      <td>node</td>\n",
       "      <td>customNode</td>\n",
       "      <td>False</td>\n",
       "    </tr>\n",
       "    <tr>\n",
       "      <th>1</th>\n",
       "      <td>va_i_CubicBulkCell__cell_size</td>\n",
       "      <td>pyiron_workflow.graph.base.identity</td>\n",
       "      <td>va_i_CubicBulkCell__cell_size</td>\n",
       "      <td>CubicBulkCell</td>\n",
       "      <td>1</td>\n",
       "      <td>&lt;pyiron_workflow.simple_workflow.Node object a...</td>\n",
       "      <td>None</td>\n",
       "      <td>node</td>\n",
       "      <td>customNode</td>\n",
       "      <td>False</td>\n",
       "    </tr>\n",
       "    <tr>\n",
       "      <th>2</th>\n",
       "      <td>va_i_CubicBulkCell__vacancy_index</td>\n",
       "      <td>pyiron_workflow.graph.base.identity</td>\n",
       "      <td>va_i_CubicBulkCell__vacancy_index</td>\n",
       "      <td>CubicBulkCell</td>\n",
       "      <td>1</td>\n",
       "      <td>&lt;pyiron_workflow.simple_workflow.Node object a...</td>\n",
       "      <td>None</td>\n",
       "      <td>node</td>\n",
       "      <td>customNode</td>\n",
       "      <td>False</td>\n",
       "    </tr>\n",
       "    <tr>\n",
       "      <th>3</th>\n",
       "      <td>bulk</td>\n",
       "      <td>pyiron_nodes.atomistic.structure.build.Bulk</td>\n",
       "      <td>bulk</td>\n",
       "      <td>CubicBulkCell</td>\n",
       "      <td>1</td>\n",
       "      <td>&lt;pyiron_workflow.simple_workflow.Node object a...</td>\n",
       "      <td>None</td>\n",
       "      <td>node</td>\n",
       "      <td>customNode</td>\n",
       "      <td>False</td>\n",
       "    </tr>\n",
       "    <tr>\n",
       "      <th>4</th>\n",
       "      <td>repeat</td>\n",
       "      <td>pyiron_nodes.atomistic.structure.transform.Repeat</td>\n",
       "      <td>repeat</td>\n",
       "      <td>CubicBulkCell</td>\n",
       "      <td>1</td>\n",
       "      <td>&lt;pyiron_workflow.simple_workflow.Node object a...</td>\n",
       "      <td>None</td>\n",
       "      <td>node</td>\n",
       "      <td>customNode</td>\n",
       "      <td>False</td>\n",
       "    </tr>\n",
       "    <tr>\n",
       "      <th>5</th>\n",
       "      <td>vacancy</td>\n",
       "      <td>pyiron_nodes.atomistic.structure.transform.Cre...</td>\n",
       "      <td>vacancy</td>\n",
       "      <td>CubicBulkCell</td>\n",
       "      <td>1</td>\n",
       "      <td>&lt;pyiron_workflow.simple_workflow.Node object a...</td>\n",
       "      <td>None</td>\n",
       "      <td>node</td>\n",
       "      <td>customNode</td>\n",
       "      <td>False</td>\n",
       "    </tr>\n",
       "    <tr>\n",
       "      <th>6</th>\n",
       "      <td>va_o_CubicBulkCell__structure</td>\n",
       "      <td>pyiron_workflow.graph.base.identity</td>\n",
       "      <td>va_o_CubicBulkCell__structure</td>\n",
       "      <td>CubicBulkCell</td>\n",
       "      <td>1</td>\n",
       "      <td>&lt;pyiron_workflow.simple_workflow.Node object a...</td>\n",
       "      <td>None</td>\n",
       "      <td>node</td>\n",
       "      <td>customNode</td>\n",
       "      <td>False</td>\n",
       "    </tr>\n",
       "  </tbody>\n",
       "</table>\n",
       "</div>"
      ],
      "text/plain": [
       "NestedDict([('va_i_CubicBulkCell__element',\n",
       "             GraphNode(id='va_i_CubicBulkCell__element', import_path='pyiron_workflow.graph.base.identity', label='va_i_CubicBulkCell__element', parent_id='CubicBulkCell', level=1, node=<pyiron_workflow.simple_workflow.Node object at 0x122eb4350>, graph=None, node_type='node', widget_type='customNode', expanded=False)),\n",
       "            ('va_i_CubicBulkCell__cell_size',\n",
       "             GraphNode(id='va_i_CubicBulkCell__cell_size', import_path='pyiron_workflow.graph.base.identity', label='va_i_CubicBulkCell__cell_size', parent_id='CubicBulkCell', level=1, node=<pyiron_workflow.simple_workflow.Node object at 0x122eb4380>, graph=None, node_type='node', widget_type='customNode', expanded=False)),\n",
       "            ('va_i_CubicBulkCell__vacancy_index',\n",
       "             GraphNode(id='va_i_CubicBulkCell__vacancy_index', import_path='pyiron_workflow.graph.base.identity', label='va_i_CubicBulkCell__vacancy_index', parent_id='CubicBulkCell', level=1, node=<pyiron_workflow.simple_workflow.Node object at 0x122eb4b90>, graph=None, node_type='node', widget_type='customNode', expanded=False)),\n",
       "            ('bulk',\n",
       "             GraphNode(id='bulk', import_path='pyiron_nodes.atomistic.structure.build.Bulk', label='bulk', parent_id='CubicBulkCell', level=1, node=<pyiron_workflow.simple_workflow.Node object at 0x122eb40e0>, graph=None, node_type='node', widget_type='customNode', expanded=False)),\n",
       "            ('repeat',\n",
       "             GraphNode(id='repeat', import_path='pyiron_nodes.atomistic.structure.transform.Repeat', label='repeat', parent_id='CubicBulkCell', level=1, node=<pyiron_workflow.simple_workflow.Node object at 0x122eb4290>, graph=None, node_type='node', widget_type='customNode', expanded=False)),\n",
       "            ('vacancy',\n",
       "             GraphNode(id='vacancy', import_path='pyiron_nodes.atomistic.structure.transform.CreateVacancy', label='vacancy', parent_id='CubicBulkCell', level=1, node=<pyiron_workflow.simple_workflow.Node object at 0x122eb41a0>, graph=None, node_type='node', widget_type='customNode', expanded=False)),\n",
       "            ('va_o_CubicBulkCell__structure',\n",
       "             GraphNode(id='va_o_CubicBulkCell__structure', import_path='pyiron_workflow.graph.base.identity', label='va_o_CubicBulkCell__structure', parent_id='CubicBulkCell', level=1, node=<pyiron_workflow.simple_workflow.Node object at 0x122eb5310>, graph=None, node_type='node', widget_type='customNode', expanded=False))])"
      ]
     },
     "execution_count": 4,
     "metadata": {},
     "output_type": "execute_result"
    }
   ],
   "source": [
    "graph.nodes[\"CubicBulkCell\"].graph.nodes"
   ]
  },
  {
   "cell_type": "code",
   "execution_count": 5,
   "metadata": {},
   "outputs": [
    {
     "data": {
      "text/plain": [
       "{'element': 'Al', 'cell_size': 1, 'vacancy_index': None}"
      ]
     },
     "execution_count": 5,
     "metadata": {},
     "output_type": "execute_result"
    }
   ],
   "source": [
    "node.kwargs"
   ]
  },
  {
   "cell_type": "code",
   "execution_count": 6,
   "metadata": {},
   "outputs": [
    {
     "name": "stdout",
     "output_type": "stream",
     "text": [
      "wf_label:  CubicBulkCell\n",
      "target:  vacancy structure\n"
     ]
    },
    {
     "data": {
      "text/html": [
       "<div>\n",
       "<style scoped>\n",
       "    .dataframe tbody tr th:only-of-type {\n",
       "        vertical-align: middle;\n",
       "    }\n",
       "\n",
       "    .dataframe tbody tr th {\n",
       "        vertical-align: top;\n",
       "    }\n",
       "\n",
       "    .dataframe thead th {\n",
       "        text-align: right;\n",
       "    }\n",
       "</style>\n",
       "<table border=\"1\" class=\"dataframe\">\n",
       "  <thead>\n",
       "    <tr style=\"text-align: right;\">\n",
       "      <th></th>\n",
       "      <th>label</th>\n",
       "      <th>type</th>\n",
       "      <th>default</th>\n",
       "      <th>ready</th>\n",
       "      <th>value</th>\n",
       "      <th>node</th>\n",
       "    </tr>\n",
       "  </thead>\n",
       "  <tbody>\n",
       "    <tr>\n",
       "      <th>0</th>\n",
       "      <td>structure</td>\n",
       "      <td>NonPrimitive</td>\n",
       "      <td>NotData</td>\n",
       "      <td>True</td>\n",
       "      <td>label                                         ...</td>\n",
       "      <td>&lt;pyiron_workflow.simple_workflow.Node object a...</td>\n",
       "    </tr>\n",
       "    <tr>\n",
       "      <th>1</th>\n",
       "      <td>repeat_scalar</td>\n",
       "      <td>int</td>\n",
       "      <td>1</td>\n",
       "      <td>True</td>\n",
       "      <td>label                                         ...</td>\n",
       "      <td>&lt;pyiron_workflow.simple_workflow.Node object a...</td>\n",
       "    </tr>\n",
       "  </tbody>\n",
       "</table>\n",
       "</div>"
      ],
      "text/plain": [
       "{'label': ['structure', 'repeat_scalar'], 'type': ['NonPrimitive', 'int'], 'default': ['NotData', 1], 'ready': [True, True], 'value': [label                                            structure\n",
       "type                                     builtins.NoneType\n",
       "ready                                                False\n",
       "value                                                 None\n",
       "node     <pyiron_workflow.simple_workflow.Node object a...\n",
       "dtype: object, label                                              cell_size\n",
       "type                                                     int\n",
       "default                                                    1\n",
       "ready                                                   True\n",
       "value                                                      1\n",
       "node       <pyiron_workflow.simple_workflow.Node object a...\n",
       "dtype: object], 'node': [<pyiron_workflow.simple_workflow.Node object at 0x122eb70b0>, <pyiron_workflow.simple_workflow.Node object at 0x122eb70b0>]}"
      ]
     },
     "execution_count": 6,
     "metadata": {},
     "output_type": "execute_result"
    }
   ],
   "source": [
    "base.get_graph_from_macro_node(node).nodes[\"repeat\"].node.inputs"
   ]
  },
  {
   "cell_type": "markdown",
   "metadata": {},
   "source": [
    "Why not running the graph rather than the workflow. Graph is much more powerful and includes serialization and subgraphs? This works already! Does not yet have concept of input."
   ]
  },
  {
   "cell_type": "code",
   "execution_count": 7,
   "metadata": {},
   "outputs": [
    {
     "data": {
      "application/vnd.jupyter.widget-view+json": {
       "model_id": "041fa27dd92a4a5296d0b917d3fc6a9a",
       "version_major": 2,
       "version_minor": 1
      },
      "text/plain": [
       "ReactFlowWidget(layout=Layout(height='400px', width='800px'))"
      ]
     },
     "metadata": {},
     "output_type": "display_data"
    },
    {
     "data": {
      "text/plain": [
       "<pyiron_workflow.graph.base.GuiGraph at 0x122d03f50>"
      ]
     },
     "execution_count": 7,
     "metadata": {},
     "output_type": "execute_result"
    }
   ],
   "source": [
    "wf = Workflow('test')\n",
    "wf.bulk = pn.atomistic.structure.build.Bulk('Al', cubic=True)\n",
    "wf.repeat = pn.atomistic.structure.transform.Repeat(wf.bulk, repeat_scalar=1)\n",
    "wf.repeat2 = pn.atomistic.structure.transform.Repeat(wf.repeat, repeat_scalar=1)\n",
    "# wf.lammps = pn.atomistic.engine.lammps.Code1(structure=wf.repeat2)\n",
    "\n",
    "full_graph = base.get_full_graph_from_wf(wf)\n",
    "sub_graph = base._get_subgraph(full_graph, [1]) # collaps if node is macro node\n",
    "\n",
    "# TODO: \n",
    "# - extend output option (include all child node outputs)\n",
    "# - substitute selected nodes with ports having outside connections by a single virtual (graph-only) node\n",
    "# - add parent group as graph node\n",
    "# - make all inner nodes to child nodes of the parent group\n",
    "# - create node object for the parent group\n",
    "\n",
    "base.GuiGraph(full_graph, full_graph=True, height=400)\n",
    "# node = base.graph_to_node(sub_graph)\n",
    "# node\n",
    "# node.outputs, sub_graph.label, "
   ]
  },
  {
   "cell_type": "code",
   "execution_count": 8,
   "metadata": {},
   "outputs": [],
   "source": [
    "# TODO: \n",
    "# - extend output option (include all child node outputs)\n",
    "# - substitute selected nodes with ports having outside connections by a single virtual (graph-only) node\n",
    "# - add parent group as graph node\n",
    "# - make all inner nodes to child nodes of the parent group\n",
    "# - create node object for the parent group"
   ]
  },
  {
   "cell_type": "code",
   "execution_count": 9,
   "metadata": {},
   "outputs": [],
   "source": [
    "full_graph.nodes;"
   ]
  },
  {
   "cell_type": "code",
   "execution_count": 10,
   "metadata": {},
   "outputs": [
    {
     "data": {
      "text/html": [
       "<div>\n",
       "<style scoped>\n",
       "    .dataframe tbody tr th:only-of-type {\n",
       "        vertical-align: middle;\n",
       "    }\n",
       "\n",
       "    .dataframe tbody tr th {\n",
       "        vertical-align: top;\n",
       "    }\n",
       "\n",
       "    .dataframe thead th {\n",
       "        text-align: right;\n",
       "    }\n",
       "</style>\n",
       "<table border=\"1\" class=\"dataframe\">\n",
       "  <thead>\n",
       "    <tr style=\"text-align: right;\">\n",
       "      <th></th>\n",
       "      <th>label</th>\n",
       "      <th>value</th>\n",
       "      <th>type</th>\n",
       "      <th>default</th>\n",
       "      <th>ready</th>\n",
       "      <th>node</th>\n",
       "    </tr>\n",
       "  </thead>\n",
       "  <tbody>\n",
       "    <tr>\n",
       "      <th>0</th>\n",
       "      <td>repeat__structure</td>\n",
       "      <td>label                                         ...</td>\n",
       "      <td>NonPrimitive</td>\n",
       "      <td>NotData</td>\n",
       "      <td>True</td>\n",
       "      <td>&lt;pyiron_workflow.simple_workflow.Node object a...</td>\n",
       "    </tr>\n",
       "  </tbody>\n",
       "</table>\n",
       "</div>"
      ],
      "text/plain": [
       "{'label': ['repeat__structure'], 'value': [label                                            structure\n",
       "type                                     builtins.NoneType\n",
       "ready                                                False\n",
       "value                                                 None\n",
       "node     <pyiron_workflow.simple_workflow.Node object a...\n",
       "dtype: object], 'type': ['NonPrimitive'], 'default': ['NotData'], 'ready': [True], 'node': [<pyiron_workflow.simple_workflow.Node object at 0x1230e9be0>]}"
      ]
     },
     "execution_count": 10,
     "metadata": {},
     "output_type": "execute_result"
    }
   ],
   "source": [
    "node = base.graph_to_node(sub_graph)\n",
    "node.inputs"
   ]
  },
  {
   "cell_type": "code",
   "execution_count": 11,
   "metadata": {},
   "outputs": [
    {
     "data": {
      "text/plain": [
       "[('repeat', 'structure')]"
      ]
     },
     "execution_count": 11,
     "metadata": {},
     "output_type": "execute_result"
    }
   ],
   "source": [
    "base.get_externally_connected_input_ports(sub_graph)"
   ]
  },
  {
   "cell_type": "code",
   "execution_count": 12,
   "metadata": {},
   "outputs": [
    {
     "data": {
      "text/plain": [
       "{'repeat': {'structure': label                                            structure\n",
       "  type                                     builtins.NoneType\n",
       "  ready                                                False\n",
       "  value                                                 None\n",
       "  node     <pyiron_workflow.simple_workflow.Node object a...\n",
       "  dtype: object}}"
      ]
     },
     "execution_count": 12,
     "metadata": {},
     "output_type": "execute_result"
    }
   ],
   "source": [
    "base.get_non_default_input(sub_graph)"
   ]
  },
  {
   "cell_type": "code",
   "execution_count": 13,
   "metadata": {},
   "outputs": [
    {
     "data": {
      "text/html": [
       "<div>\n",
       "<style scoped>\n",
       "    .dataframe tbody tr th:only-of-type {\n",
       "        vertical-align: middle;\n",
       "    }\n",
       "\n",
       "    .dataframe tbody tr th {\n",
       "        vertical-align: top;\n",
       "    }\n",
       "\n",
       "    .dataframe thead th {\n",
       "        text-align: right;\n",
       "    }\n",
       "</style>\n",
       "<table border=\"1\" class=\"dataframe\">\n",
       "  <thead>\n",
       "    <tr style=\"text-align: right;\">\n",
       "      <th></th>\n",
       "      <th>label</th>\n",
       "      <th>value</th>\n",
       "      <th>type</th>\n",
       "      <th>ready</th>\n",
       "      <th>node</th>\n",
       "    </tr>\n",
       "  </thead>\n",
       "  <tbody>\n",
       "    <tr>\n",
       "      <th>0</th>\n",
       "      <td>repeat__structure</td>\n",
       "      <td>None</td>\n",
       "      <td>builtins.str</td>\n",
       "      <td>False</td>\n",
       "      <td>&lt;pyiron_workflow.simple_workflow.Node object a...</td>\n",
       "    </tr>\n",
       "  </tbody>\n",
       "</table>\n",
       "</div>"
      ],
      "text/plain": [
       "{'label': ['repeat__structure'], 'value': [None], 'type': ['builtins.str'], 'ready': [False], 'node': [<pyiron_workflow.simple_workflow.Node object at 0x1230fa8d0>]}"
      ]
     },
     "execution_count": 13,
     "metadata": {},
     "output_type": "execute_result"
    }
   ],
   "source": [
    "base.graph_to_node(sub_graph).outputs"
   ]
  },
  {
   "cell_type": "code",
   "execution_count": 14,
   "metadata": {},
   "outputs": [
    {
     "name": "stdout",
     "output_type": "stream",
     "text": [
      "labels ['bulk__name', 'bulk__cubic']\n",
      "GraphEdge(source='va_i_subgraph__bulk__name', target='bulk', sourceHandle='x', targetHandle='name')\n",
      "GraphEdge(source='va_i_subgraph__bulk__cubic', target='bulk', sourceHandle='x', targetHandle='cubic')\n",
      "labels ['repeat__structure']\n",
      "['subgraph']\n"
     ]
    },
    {
     "data": {
      "text/html": [
       "<div>\n",
       "<style scoped>\n",
       "    .dataframe tbody tr th:only-of-type {\n",
       "        vertical-align: middle;\n",
       "    }\n",
       "\n",
       "    .dataframe tbody tr th {\n",
       "        vertical-align: top;\n",
       "    }\n",
       "\n",
       "    .dataframe thead th {\n",
       "        text-align: right;\n",
       "    }\n",
       "</style>\n",
       "<table border=\"1\" class=\"dataframe\">\n",
       "  <thead>\n",
       "    <tr style=\"text-align: right;\">\n",
       "      <th></th>\n",
       "      <th>source</th>\n",
       "      <th>target</th>\n",
       "      <th>sourceHandle</th>\n",
       "      <th>targetHandle</th>\n",
       "    </tr>\n",
       "  </thead>\n",
       "  <tbody>\n",
       "    <tr>\n",
       "      <th>0</th>\n",
       "      <td>bulk</td>\n",
       "      <td>repeat</td>\n",
       "      <td>structure</td>\n",
       "      <td>structure</td>\n",
       "    </tr>\n",
       "    <tr>\n",
       "      <th>1</th>\n",
       "      <td>va_o_subgraph__repeat__structure</td>\n",
       "      <td>repeat2</td>\n",
       "      <td>x</td>\n",
       "      <td>structure</td>\n",
       "    </tr>\n",
       "    <tr>\n",
       "      <th>2</th>\n",
       "      <td>va_i_subgraph__bulk__name</td>\n",
       "      <td>bulk</td>\n",
       "      <td>x</td>\n",
       "      <td>name</td>\n",
       "    </tr>\n",
       "    <tr>\n",
       "      <th>3</th>\n",
       "      <td>va_i_subgraph__bulk__cubic</td>\n",
       "      <td>bulk</td>\n",
       "      <td>x</td>\n",
       "      <td>cubic</td>\n",
       "    </tr>\n",
       "    <tr>\n",
       "      <th>4</th>\n",
       "      <td>repeat</td>\n",
       "      <td>va_o_subgraph__repeat__structure</td>\n",
       "      <td>structure</td>\n",
       "      <td>x</td>\n",
       "    </tr>\n",
       "  </tbody>\n",
       "</table>\n",
       "</div>"
      ],
      "text/plain": [
       "[GraphEdge(source='bulk', target='repeat', sourceHandle='structure', targetHandle='structure'),\n",
       " GraphEdge(source='va_o_subgraph__repeat__structure', target='repeat2', sourceHandle='x', targetHandle='structure'),\n",
       " GraphEdge(source='va_i_subgraph__bulk__name', target='bulk', sourceHandle='x', targetHandle='name'),\n",
       " GraphEdge(source='va_i_subgraph__bulk__cubic', target='bulk', sourceHandle='x', targetHandle='cubic'),\n",
       " GraphEdge(source='repeat', target='va_o_subgraph__repeat__structure', sourceHandle='structure', targetHandle='x')]"
      ]
     },
     "execution_count": 14,
     "metadata": {},
     "output_type": "execute_result"
    }
   ],
   "source": [
    "new_graph = base.create_group(full_graph, [0,1], label=\"subgraph\")\n",
    "new_graph.edges"
   ]
  },
  {
   "cell_type": "markdown",
   "metadata": {},
   "source": [
    "Remark: Make sure that all operations regarding virtual nodes and edges are encapsulated to not affect any other groups"
   ]
  },
  {
   "cell_type": "code",
   "execution_count": 15,
   "metadata": {},
   "outputs": [
    {
     "name": "stdout",
     "output_type": "stream",
     "text": [
      "Adding macro node lammps\n",
      "wf_label:  lammps\n",
      "target:  Collect generic\n",
      "target:  InitLammps path\n",
      "Expanding node lammps\n",
      "labels ['bulk__name', 'bulk__cubic']\n",
      "GraphEdge(source='va_i_subgraph__bulk__name', target='bulk', sourceHandle='x', targetHandle='name')\n",
      "GraphEdge(source='va_i_subgraph__bulk__cubic', target='bulk', sourceHandle='x', targetHandle='cubic')\n",
      "labels ['repeat2__structure']\n",
      "['subgraph']\n",
      "Expanding node subgraph\n"
     ]
    },
    {
     "data": {
      "application/vnd.jupyter.widget-view+json": {
       "model_id": "d13f0a4fc9594bad99b2ac6f4603eace",
       "version_major": 2,
       "version_minor": 1
      },
      "text/plain": [
       "ReactFlowWidget(layout=Layout(height='400px', width='800px'))"
      ]
     },
     "metadata": {},
     "output_type": "display_data"
    },
    {
     "data": {
      "text/plain": [
       "<pyiron_workflow.graph.base.GuiGraph at 0x1231e9220>"
      ]
     },
     "execution_count": 15,
     "metadata": {},
     "output_type": "execute_result"
    }
   ],
   "source": [
    "wf = Workflow(\"test\")\n",
    "wf.bulk = pn.atomistic.structure.build.Bulk(\"Al\", cubic=True)\n",
    "wf.repeat = pn.atomistic.structure.transform.Repeat(wf.bulk, repeat_scalar=1)\n",
    "wf.repeat2 = pn.atomistic.structure.transform.Repeat(wf.repeat, repeat_scalar=1)\n",
    "wf.lammps = pn.atomistic.engine.lammps.Code1(structure=wf.repeat2)\n",
    "\n",
    "full_graph = base.get_full_graph_from_wf(wf)\n",
    "\n",
    "new_graph = base.create_group(full_graph, [0, 1, 2], label=\"subgraph\")\n",
    "\n",
    "new_graph.nodes[\"subgraph\"].expanded = True\n",
    "new_graph.nodes[\"lammps\"].expanded = False\n",
    "\n",
    "# True, True gives error\n",
    "\n",
    "new_graph = base.get_updated_graph(new_graph)\n",
    "\n",
    "base.GuiGraph(new_graph, full_graph=True, height=400)"
   ]
  },
  {
   "cell_type": "code",
   "execution_count": 16,
   "metadata": {},
   "outputs": [
    {
     "data": {
      "text/html": [
       "<div>\n",
       "<style scoped>\n",
       "    .dataframe tbody tr th:only-of-type {\n",
       "        vertical-align: middle;\n",
       "    }\n",
       "\n",
       "    .dataframe tbody tr th {\n",
       "        vertical-align: top;\n",
       "    }\n",
       "\n",
       "    .dataframe thead th {\n",
       "        text-align: right;\n",
       "    }\n",
       "</style>\n",
       "<table border=\"1\" class=\"dataframe\">\n",
       "  <thead>\n",
       "    <tr style=\"text-align: right;\">\n",
       "      <th></th>\n",
       "      <th>id</th>\n",
       "      <th>import_path</th>\n",
       "      <th>label</th>\n",
       "      <th>parent_id</th>\n",
       "      <th>level</th>\n",
       "      <th>node</th>\n",
       "      <th>graph</th>\n",
       "      <th>node_type</th>\n",
       "      <th>widget_type</th>\n",
       "      <th>expanded</th>\n",
       "    </tr>\n",
       "  </thead>\n",
       "  <tbody>\n",
       "    <tr>\n",
       "      <th>0</th>\n",
       "      <td>subgraph</td>\n",
       "      <td>None</td>\n",
       "      <td>subgraph</td>\n",
       "      <td>None</td>\n",
       "      <td>0</td>\n",
       "      <td>&lt;pyiron_workflow.simple_workflow.Node object a...</td>\n",
       "      <td>Graph(id=None, label='subgraph', root_node=Non...</td>\n",
       "      <td>graph</td>\n",
       "      <td>customNode</td>\n",
       "      <td>True</td>\n",
       "    </tr>\n",
       "    <tr>\n",
       "      <th>1</th>\n",
       "      <td>bulk</td>\n",
       "      <td>pyiron_nodes.atomistic.structure.build.Bulk</td>\n",
       "      <td>bulk</td>\n",
       "      <td>subgraph</td>\n",
       "      <td>1</td>\n",
       "      <td>&lt;pyiron_workflow.simple_workflow.Node object a...</td>\n",
       "      <td>None</td>\n",
       "      <td>node</td>\n",
       "      <td>customNode</td>\n",
       "      <td>False</td>\n",
       "    </tr>\n",
       "    <tr>\n",
       "      <th>2</th>\n",
       "      <td>repeat</td>\n",
       "      <td>pyiron_nodes.atomistic.structure.transform.Repeat</td>\n",
       "      <td>repeat</td>\n",
       "      <td>subgraph</td>\n",
       "      <td>1</td>\n",
       "      <td>&lt;pyiron_workflow.simple_workflow.Node object a...</td>\n",
       "      <td>None</td>\n",
       "      <td>node</td>\n",
       "      <td>customNode</td>\n",
       "      <td>False</td>\n",
       "    </tr>\n",
       "    <tr>\n",
       "      <th>3</th>\n",
       "      <td>repeat2</td>\n",
       "      <td>pyiron_nodes.atomistic.structure.transform.Repeat</td>\n",
       "      <td>repeat2</td>\n",
       "      <td>subgraph</td>\n",
       "      <td>1</td>\n",
       "      <td>&lt;pyiron_workflow.simple_workflow.Node object a...</td>\n",
       "      <td>None</td>\n",
       "      <td>node</td>\n",
       "      <td>customNode</td>\n",
       "      <td>False</td>\n",
       "    </tr>\n",
       "    <tr>\n",
       "      <th>4</th>\n",
       "      <td>lammps</td>\n",
       "      <td>pyiron_nodes.atomistic.engine.lammps.Code1</td>\n",
       "      <td>lammps</td>\n",
       "      <td>None</td>\n",
       "      <td>0</td>\n",
       "      <td>&lt;pyiron_workflow.simple_workflow.Node object a...</td>\n",
       "      <td>Graph(id='lammps', label='lammps', root_node=N...</td>\n",
       "      <td>graph</td>\n",
       "      <td>customNode</td>\n",
       "      <td>False</td>\n",
       "    </tr>\n",
       "  </tbody>\n",
       "</table>\n",
       "</div>"
      ],
      "text/plain": [
       "NestedDict([('subgraph',\n",
       "             GraphNode(id='subgraph', import_path=None, label='subgraph', parent_id=None, level=0, node=<pyiron_workflow.simple_workflow.Node object at 0x1231db6e0>, graph=Graph(id=None, label='subgraph', root_node=None, nodes=NestedDict({'bulk': GraphNode(id='bulk', import_path='pyiron_nodes.atomistic.structure.build.Bulk', label='bulk', parent_id=None, level=0, node=<pyiron_workflow.simple_workflow.Node object at 0x1230fbad0>, graph=None, node_type='node', widget_type='customNode', expanded=False), 'repeat': GraphNode(id='repeat', import_path='pyiron_nodes.atomistic.structure.transform.Repeat', label='repeat', parent_id=None, level=0, node=<pyiron_workflow.simple_workflow.Node object at 0x1230fbaa0>, graph=None, node_type='node', widget_type='customNode', expanded=False), 'repeat2': GraphNode(id='repeat2', import_path='pyiron_nodes.atomistic.structure.transform.Repeat', label='repeat2', parent_id=None, level=0, node=<pyiron_workflow.simple_workflow.Node object at 0x1230fbc20>, graph=None, node_type='node', widget_type='customNode', expanded=False)}), edges=[GraphEdge(source='bulk', target='repeat', sourceHandle='structure', targetHandle='structure'), GraphEdge(source='repeat', target='repeat2', sourceHandle='structure', targetHandle='structure')], graph={}), node_type='graph', widget_type='customNode', expanded=True)),\n",
       "            ('bulk',\n",
       "             GraphNode(id='bulk', import_path='pyiron_nodes.atomistic.structure.build.Bulk', label='bulk', parent_id='subgraph', level=1, node=<pyiron_workflow.simple_workflow.Node object at 0x1230fbad0>, graph=None, node_type='node', widget_type='customNode', expanded=False)),\n",
       "            ('repeat',\n",
       "             GraphNode(id='repeat', import_path='pyiron_nodes.atomistic.structure.transform.Repeat', label='repeat', parent_id='subgraph', level=1, node=<pyiron_workflow.simple_workflow.Node object at 0x1230fbaa0>, graph=None, node_type='node', widget_type='customNode', expanded=False)),\n",
       "            ('repeat2',\n",
       "             GraphNode(id='repeat2', import_path='pyiron_nodes.atomistic.structure.transform.Repeat', label='repeat2', parent_id='subgraph', level=1, node=<pyiron_workflow.simple_workflow.Node object at 0x1230fbc20>, graph=None, node_type='node', widget_type='customNode', expanded=False)),\n",
       "            ('lammps',\n",
       "             GraphNode(id='lammps', import_path='pyiron_nodes.atomistic.engine.lammps.Code1', label='lammps', parent_id=None, level=0, node=<pyiron_workflow.simple_workflow.Node object at 0x1230e9c40>, graph=Graph(id='lammps', label='lammps', root_node=None, nodes=NestedDict({'va_i_lammps__structure': GraphNode(id='va_i_lammps__structure', import_path='pyiron_workflow.graph.base.identity', label='va_i_lammps__structure', parent_id='lammps', level=1, node=<pyiron_workflow.simple_workflow.Node object at 0x1230d1d90>, graph=None, node_type='node', widget_type='customNode', expanded=False), 'va_i_lammps__potential': GraphNode(id='va_i_lammps__potential', import_path='pyiron_workflow.graph.base.identity', label='va_i_lammps__potential', parent_id='lammps', level=1, node=<pyiron_workflow.simple_workflow.Node object at 0x1230d1e50>, graph=None, node_type='node', widget_type='customNode', expanded=False), 'va_i_lammps__calculator': GraphNode(id='va_i_lammps__calculator', import_path='pyiron_workflow.graph.base.identity', label='va_i_lammps__calculator', parent_id='lammps', level=1, node=<pyiron_workflow.simple_workflow.Node object at 0x1230fb6b0>, graph=None, node_type='node', widget_type='customNode', expanded=False), 'va_i_lammps__working_dir': GraphNode(id='va_i_lammps__working_dir', import_path='pyiron_workflow.graph.base.identity', label='va_i_lammps__working_dir', parent_id='lammps', level=1, node=<pyiron_workflow.simple_workflow.Node object at 0x1230f8890>, graph=None, node_type='node', widget_type='customNode', expanded=False), 'ListPotentials': GraphNode(id='ListPotentials', import_path='pyiron_nodes.atomistic.engine.lammps.ListPotentials', label='ListPotentials', parent_id='lammps', level=1, node=<pyiron_workflow.simple_workflow.Node object at 0x1230d20f0>, graph=None, node_type='node', widget_type='customNode', expanded=False), 'Potential': GraphNode(id='Potential', import_path='pyiron_nodes.atomistic.engine.lammps.Potential', label='Potential', parent_id='lammps', level=1, node=<pyiron_workflow.simple_workflow.Node object at 0x1230d2060>, graph=None, node_type='node', widget_type='customNode', expanded=False), 'InitLammps': GraphNode(id='InitLammps', import_path='pyiron_nodes.atomistic.engine.lammps.InitLammps', label='InitLammps', parent_id='lammps', level=1, node=<pyiron_workflow.simple_workflow.Node object at 0x1230d21b0>, graph=None, node_type='node', widget_type='customNode', expanded=False), 'Shell': GraphNode(id='Shell', import_path='pyiron_nodes.atomistic.engine.lammps.Shell', label='Shell', parent_id='lammps', level=1, node=<pyiron_workflow.simple_workflow.Node object at 0x1230d2150>, graph=None, node_type='node', widget_type='customNode', expanded=False), 'va_o_lammps__path': GraphNode(id='va_o_lammps__path', import_path='pyiron_workflow.graph.base.identity', label='va_o_lammps__path', parent_id='lammps', level=1, node=<pyiron_workflow.simple_workflow.Node object at 0x1230e9b50>, graph=None, node_type='node', widget_type='customNode', expanded=False), 'ParseLogFile': GraphNode(id='ParseLogFile', import_path='pyiron_nodes.atomistic.engine.lammps.ParseLogFile', label='ParseLogFile', parent_id='lammps', level=1, node=<pyiron_workflow.simple_workflow.Node object at 0x1230d1e20>, graph=None, node_type='node', widget_type='customNode', expanded=False), 'ParseDumpFile': GraphNode(id='ParseDumpFile', import_path='pyiron_nodes.atomistic.engine.lammps.ParseDumpFile', label='ParseDumpFile', parent_id='lammps', level=1, node=<pyiron_workflow.simple_workflow.Node object at 0x1230d1760>, graph=None, node_type='node', widget_type='customNode', expanded=False), 'Collect': GraphNode(id='Collect', import_path='pyiron_nodes.atomistic.engine.lammps.Collect', label='Collect', parent_id='lammps', level=1, node=<pyiron_workflow.simple_workflow.Node object at 0x1230d34d0>, graph=None, node_type='node', widget_type='customNode', expanded=False), 'va_o_lammps__generic': GraphNode(id='va_o_lammps__generic', import_path='pyiron_workflow.graph.base.identity', label='va_o_lammps__generic', parent_id='lammps', level=1, node=<pyiron_workflow.simple_workflow.Node object at 0x1230fa270>, graph=None, node_type='node', widget_type='customNode', expanded=False)}), edges=[GraphEdge(source='va_i_lammps__structure', target='Potential', sourceHandle='x', targetHandle='structure'), GraphEdge(source='va_i_lammps__potential', target='Potential', sourceHandle='x', targetHandle='name'), GraphEdge(source='va_i_lammps__structure', target='ListPotentials', sourceHandle='x', targetHandle='structure'), GraphEdge(source='va_i_lammps__structure', target='InitLammps', sourceHandle='x', targetHandle='structure'), GraphEdge(source='va_i_lammps__calculator', target='InitLammps', sourceHandle='x', targetHandle='calculator'), GraphEdge(source='va_i_lammps__working_dir', target='InitLammps', sourceHandle='x', targetHandle='working_directory'), GraphEdge(source='Potential', target='InitLammps', sourceHandle='pot', targetHandle='potential'), GraphEdge(source='InitLammps', target='Shell', sourceHandle='path', targetHandle='working_directory'), GraphEdge(source='Shell', target='ParseLogFile', sourceHandle='log', targetHandle='log_file'), GraphEdge(source='Shell', target='ParseDumpFile', sourceHandle='dump', targetHandle='dump_file'), GraphEdge(source='ParseDumpFile', target='Collect', sourceHandle='dump', targetHandle='out_dump'), GraphEdge(source='ParseLogFile', target='Collect', sourceHandle='log', targetHandle='out_log'), GraphEdge(source='Collect', target='va_o_lammps__generic', sourceHandle='generic', targetHandle='x'), GraphEdge(source='InitLammps', target='va_o_lammps__path', sourceHandle='path', targetHandle='x')], graph={}), node_type='graph', widget_type='customNode', expanded=False))])"
      ]
     },
     "execution_count": 16,
     "metadata": {},
     "output_type": "execute_result"
    }
   ],
   "source": [
    "g = base._remove_virtual_nodes(new_graph, parent_label='lammps')\n",
    "g = base._remove_virtual_nodes(g, parent_label='subgraph')\n",
    "g = base.remove_hidden_nodes(g, \"lammps\")\n",
    "g.nodes"
   ]
  },
  {
   "cell_type": "code",
   "execution_count": 17,
   "metadata": {},
   "outputs": [
    {
     "data": {
      "text/html": [
       "<div>\n",
       "<style scoped>\n",
       "    .dataframe tbody tr th:only-of-type {\n",
       "        vertical-align: middle;\n",
       "    }\n",
       "\n",
       "    .dataframe tbody tr th {\n",
       "        vertical-align: top;\n",
       "    }\n",
       "\n",
       "    .dataframe thead th {\n",
       "        text-align: right;\n",
       "    }\n",
       "</style>\n",
       "<table border=\"1\" class=\"dataframe\">\n",
       "  <thead>\n",
       "    <tr style=\"text-align: right;\">\n",
       "      <th></th>\n",
       "      <th>id</th>\n",
       "      <th>import_path</th>\n",
       "      <th>label</th>\n",
       "      <th>parent_id</th>\n",
       "      <th>level</th>\n",
       "      <th>node</th>\n",
       "      <th>graph</th>\n",
       "      <th>node_type</th>\n",
       "      <th>widget_type</th>\n",
       "      <th>expanded</th>\n",
       "    </tr>\n",
       "  </thead>\n",
       "  <tbody>\n",
       "    <tr>\n",
       "      <th>0</th>\n",
       "      <td>subgraph</td>\n",
       "      <td>None</td>\n",
       "      <td>subgraph</td>\n",
       "      <td>None</td>\n",
       "      <td>0</td>\n",
       "      <td>&lt;pyiron_workflow.simple_workflow.Node object a...</td>\n",
       "      <td>Graph(id=None, label='subgraph', root_node=Non...</td>\n",
       "      <td>graph</td>\n",
       "      <td>customNode</td>\n",
       "      <td>True</td>\n",
       "    </tr>\n",
       "    <tr>\n",
       "      <th>1</th>\n",
       "      <td>bulk</td>\n",
       "      <td>pyiron_nodes.atomistic.structure.build.Bulk</td>\n",
       "      <td>bulk</td>\n",
       "      <td>subgraph</td>\n",
       "      <td>1</td>\n",
       "      <td>&lt;pyiron_workflow.simple_workflow.Node object a...</td>\n",
       "      <td>None</td>\n",
       "      <td>node</td>\n",
       "      <td>customNode</td>\n",
       "      <td>False</td>\n",
       "    </tr>\n",
       "    <tr>\n",
       "      <th>2</th>\n",
       "      <td>repeat</td>\n",
       "      <td>pyiron_nodes.atomistic.structure.transform.Repeat</td>\n",
       "      <td>repeat</td>\n",
       "      <td>subgraph</td>\n",
       "      <td>1</td>\n",
       "      <td>&lt;pyiron_workflow.simple_workflow.Node object a...</td>\n",
       "      <td>None</td>\n",
       "      <td>node</td>\n",
       "      <td>customNode</td>\n",
       "      <td>False</td>\n",
       "    </tr>\n",
       "    <tr>\n",
       "      <th>3</th>\n",
       "      <td>repeat2</td>\n",
       "      <td>pyiron_nodes.atomistic.structure.transform.Repeat</td>\n",
       "      <td>repeat2</td>\n",
       "      <td>subgraph</td>\n",
       "      <td>1</td>\n",
       "      <td>&lt;pyiron_workflow.simple_workflow.Node object a...</td>\n",
       "      <td>None</td>\n",
       "      <td>node</td>\n",
       "      <td>customNode</td>\n",
       "      <td>False</td>\n",
       "    </tr>\n",
       "    <tr>\n",
       "      <th>4</th>\n",
       "      <td>lammps</td>\n",
       "      <td>pyiron_nodes.atomistic.engine.lammps.Code1</td>\n",
       "      <td>lammps</td>\n",
       "      <td>None</td>\n",
       "      <td>0</td>\n",
       "      <td>&lt;pyiron_workflow.simple_workflow.Node object a...</td>\n",
       "      <td>Graph(id='lammps', label='lammps', root_node=N...</td>\n",
       "      <td>graph</td>\n",
       "      <td>customNode</td>\n",
       "      <td>False</td>\n",
       "    </tr>\n",
       "  </tbody>\n",
       "</table>\n",
       "</div>"
      ],
      "text/plain": [
       "NestedDict([('subgraph',\n",
       "             GraphNode(id='subgraph', import_path=None, label='subgraph', parent_id=None, level=0, node=<pyiron_workflow.simple_workflow.Node object at 0x1231db6e0>, graph=Graph(id=None, label='subgraph', root_node=None, nodes=NestedDict({'bulk': GraphNode(id='bulk', import_path='pyiron_nodes.atomistic.structure.build.Bulk', label='bulk', parent_id=None, level=0, node=<pyiron_workflow.simple_workflow.Node object at 0x1230fbad0>, graph=None, node_type='node', widget_type='customNode', expanded=False), 'repeat': GraphNode(id='repeat', import_path='pyiron_nodes.atomistic.structure.transform.Repeat', label='repeat', parent_id=None, level=0, node=<pyiron_workflow.simple_workflow.Node object at 0x1230fbaa0>, graph=None, node_type='node', widget_type='customNode', expanded=False), 'repeat2': GraphNode(id='repeat2', import_path='pyiron_nodes.atomistic.structure.transform.Repeat', label='repeat2', parent_id=None, level=0, node=<pyiron_workflow.simple_workflow.Node object at 0x1230fbc20>, graph=None, node_type='node', widget_type='customNode', expanded=False)}), edges=[GraphEdge(source='bulk', target='repeat', sourceHandle='structure', targetHandle='structure'), GraphEdge(source='repeat', target='repeat2', sourceHandle='structure', targetHandle='structure')], graph={}), node_type='graph', widget_type='customNode', expanded=True)),\n",
       "            ('bulk',\n",
       "             GraphNode(id='bulk', import_path='pyiron_nodes.atomistic.structure.build.Bulk', label='bulk', parent_id='subgraph', level=1, node=<pyiron_workflow.simple_workflow.Node object at 0x1230fbad0>, graph=None, node_type='node', widget_type='customNode', expanded=False)),\n",
       "            ('repeat',\n",
       "             GraphNode(id='repeat', import_path='pyiron_nodes.atomistic.structure.transform.Repeat', label='repeat', parent_id='subgraph', level=1, node=<pyiron_workflow.simple_workflow.Node object at 0x1230fbaa0>, graph=None, node_type='node', widget_type='customNode', expanded=False)),\n",
       "            ('repeat2',\n",
       "             GraphNode(id='repeat2', import_path='pyiron_nodes.atomistic.structure.transform.Repeat', label='repeat2', parent_id='subgraph', level=1, node=<pyiron_workflow.simple_workflow.Node object at 0x1230fbc20>, graph=None, node_type='node', widget_type='customNode', expanded=False)),\n",
       "            ('lammps',\n",
       "             GraphNode(id='lammps', import_path='pyiron_nodes.atomistic.engine.lammps.Code1', label='lammps', parent_id=None, level=0, node=<pyiron_workflow.simple_workflow.Node object at 0x1230e9c40>, graph=Graph(id='lammps', label='lammps', root_node=None, nodes=NestedDict({'va_i_lammps__structure': GraphNode(id='va_i_lammps__structure', import_path='pyiron_workflow.graph.base.identity', label='va_i_lammps__structure', parent_id='lammps', level=1, node=<pyiron_workflow.simple_workflow.Node object at 0x1230d1d90>, graph=None, node_type='node', widget_type='customNode', expanded=False), 'va_i_lammps__potential': GraphNode(id='va_i_lammps__potential', import_path='pyiron_workflow.graph.base.identity', label='va_i_lammps__potential', parent_id='lammps', level=1, node=<pyiron_workflow.simple_workflow.Node object at 0x1230d1e50>, graph=None, node_type='node', widget_type='customNode', expanded=False), 'va_i_lammps__calculator': GraphNode(id='va_i_lammps__calculator', import_path='pyiron_workflow.graph.base.identity', label='va_i_lammps__calculator', parent_id='lammps', level=1, node=<pyiron_workflow.simple_workflow.Node object at 0x1230fb6b0>, graph=None, node_type='node', widget_type='customNode', expanded=False), 'va_i_lammps__working_dir': GraphNode(id='va_i_lammps__working_dir', import_path='pyiron_workflow.graph.base.identity', label='va_i_lammps__working_dir', parent_id='lammps', level=1, node=<pyiron_workflow.simple_workflow.Node object at 0x1230f8890>, graph=None, node_type='node', widget_type='customNode', expanded=False), 'ListPotentials': GraphNode(id='ListPotentials', import_path='pyiron_nodes.atomistic.engine.lammps.ListPotentials', label='ListPotentials', parent_id='lammps', level=1, node=<pyiron_workflow.simple_workflow.Node object at 0x1230d20f0>, graph=None, node_type='node', widget_type='customNode', expanded=False), 'Potential': GraphNode(id='Potential', import_path='pyiron_nodes.atomistic.engine.lammps.Potential', label='Potential', parent_id='lammps', level=1, node=<pyiron_workflow.simple_workflow.Node object at 0x1230d2060>, graph=None, node_type='node', widget_type='customNode', expanded=False), 'InitLammps': GraphNode(id='InitLammps', import_path='pyiron_nodes.atomistic.engine.lammps.InitLammps', label='InitLammps', parent_id='lammps', level=1, node=<pyiron_workflow.simple_workflow.Node object at 0x1230d21b0>, graph=None, node_type='node', widget_type='customNode', expanded=False), 'Shell': GraphNode(id='Shell', import_path='pyiron_nodes.atomistic.engine.lammps.Shell', label='Shell', parent_id='lammps', level=1, node=<pyiron_workflow.simple_workflow.Node object at 0x1230d2150>, graph=None, node_type='node', widget_type='customNode', expanded=False), 'va_o_lammps__path': GraphNode(id='va_o_lammps__path', import_path='pyiron_workflow.graph.base.identity', label='va_o_lammps__path', parent_id='lammps', level=1, node=<pyiron_workflow.simple_workflow.Node object at 0x1230e9b50>, graph=None, node_type='node', widget_type='customNode', expanded=False), 'ParseLogFile': GraphNode(id='ParseLogFile', import_path='pyiron_nodes.atomistic.engine.lammps.ParseLogFile', label='ParseLogFile', parent_id='lammps', level=1, node=<pyiron_workflow.simple_workflow.Node object at 0x1230d1e20>, graph=None, node_type='node', widget_type='customNode', expanded=False), 'ParseDumpFile': GraphNode(id='ParseDumpFile', import_path='pyiron_nodes.atomistic.engine.lammps.ParseDumpFile', label='ParseDumpFile', parent_id='lammps', level=1, node=<pyiron_workflow.simple_workflow.Node object at 0x1230d1760>, graph=None, node_type='node', widget_type='customNode', expanded=False), 'Collect': GraphNode(id='Collect', import_path='pyiron_nodes.atomistic.engine.lammps.Collect', label='Collect', parent_id='lammps', level=1, node=<pyiron_workflow.simple_workflow.Node object at 0x1230d34d0>, graph=None, node_type='node', widget_type='customNode', expanded=False), 'va_o_lammps__generic': GraphNode(id='va_o_lammps__generic', import_path='pyiron_workflow.graph.base.identity', label='va_o_lammps__generic', parent_id='lammps', level=1, node=<pyiron_workflow.simple_workflow.Node object at 0x1230fa270>, graph=None, node_type='node', widget_type='customNode', expanded=False)}), edges=[GraphEdge(source='va_i_lammps__structure', target='Potential', sourceHandle='x', targetHandle='structure'), GraphEdge(source='va_i_lammps__potential', target='Potential', sourceHandle='x', targetHandle='name'), GraphEdge(source='va_i_lammps__structure', target='ListPotentials', sourceHandle='x', targetHandle='structure'), GraphEdge(source='va_i_lammps__structure', target='InitLammps', sourceHandle='x', targetHandle='structure'), GraphEdge(source='va_i_lammps__calculator', target='InitLammps', sourceHandle='x', targetHandle='calculator'), GraphEdge(source='va_i_lammps__working_dir', target='InitLammps', sourceHandle='x', targetHandle='working_directory'), GraphEdge(source='Potential', target='InitLammps', sourceHandle='pot', targetHandle='potential'), GraphEdge(source='InitLammps', target='Shell', sourceHandle='path', targetHandle='working_directory'), GraphEdge(source='Shell', target='ParseLogFile', sourceHandle='log', targetHandle='log_file'), GraphEdge(source='Shell', target='ParseDumpFile', sourceHandle='dump', targetHandle='dump_file'), GraphEdge(source='ParseDumpFile', target='Collect', sourceHandle='dump', targetHandle='out_dump'), GraphEdge(source='ParseLogFile', target='Collect', sourceHandle='log', targetHandle='out_log'), GraphEdge(source='Collect', target='va_o_lammps__generic', sourceHandle='generic', targetHandle='x'), GraphEdge(source='InitLammps', target='va_o_lammps__path', sourceHandle='path', targetHandle='x')], graph={}), node_type='graph', widget_type='customNode', expanded=False))])"
      ]
     },
     "execution_count": 17,
     "metadata": {},
     "output_type": "execute_result"
    }
   ],
   "source": [
    "new_graph.nodes"
   ]
  },
  {
   "cell_type": "code",
   "execution_count": 18,
   "metadata": {},
   "outputs": [
    {
     "data": {
      "text/html": [
       "<div>\n",
       "<style scoped>\n",
       "    .dataframe tbody tr th:only-of-type {\n",
       "        vertical-align: middle;\n",
       "    }\n",
       "\n",
       "    .dataframe tbody tr th {\n",
       "        vertical-align: top;\n",
       "    }\n",
       "\n",
       "    .dataframe thead th {\n",
       "        text-align: right;\n",
       "    }\n",
       "</style>\n",
       "<table border=\"1\" class=\"dataframe\">\n",
       "  <thead>\n",
       "    <tr style=\"text-align: right;\">\n",
       "      <th></th>\n",
       "      <th>source</th>\n",
       "      <th>target</th>\n",
       "      <th>sourceHandle</th>\n",
       "      <th>targetHandle</th>\n",
       "    </tr>\n",
       "  </thead>\n",
       "  <tbody>\n",
       "    <tr>\n",
       "      <th>0</th>\n",
       "      <td>bulk</td>\n",
       "      <td>repeat</td>\n",
       "      <td>structure</td>\n",
       "      <td>structure</td>\n",
       "    </tr>\n",
       "    <tr>\n",
       "      <th>1</th>\n",
       "      <td>repeat</td>\n",
       "      <td>repeat2</td>\n",
       "      <td>structure</td>\n",
       "      <td>structure</td>\n",
       "    </tr>\n",
       "    <tr>\n",
       "      <th>2</th>\n",
       "      <td>bulk</td>\n",
       "      <td>repeat</td>\n",
       "      <td>structure</td>\n",
       "      <td>structure</td>\n",
       "    </tr>\n",
       "    <tr>\n",
       "      <th>3</th>\n",
       "      <td>repeat</td>\n",
       "      <td>repeat2</td>\n",
       "      <td>structure</td>\n",
       "      <td>structure</td>\n",
       "    </tr>\n",
       "    <tr>\n",
       "      <th>4</th>\n",
       "      <td>repeat2</td>\n",
       "      <td>lammps</td>\n",
       "      <td>structure</td>\n",
       "      <td>structure</td>\n",
       "    </tr>\n",
       "  </tbody>\n",
       "</table>\n",
       "</div>"
      ],
      "text/plain": [
       "[GraphEdge(source='bulk', target='repeat', sourceHandle='structure', targetHandle='structure'),\n",
       " GraphEdge(source='repeat', target='repeat2', sourceHandle='structure', targetHandle='structure'),\n",
       " GraphEdge(source='bulk', target='repeat', sourceHandle='structure', targetHandle='structure'),\n",
       " GraphEdge(source='repeat', target='repeat2', sourceHandle='structure', targetHandle='structure'),\n",
       " GraphEdge(source='repeat2', target='lammps', sourceHandle='structure', targetHandle='structure')]"
      ]
     },
     "execution_count": 18,
     "metadata": {},
     "output_type": "execute_result"
    }
   ],
   "source": [
    "new_graph.edges"
   ]
  },
  {
   "cell_type": "code",
   "execution_count": 19,
   "metadata": {},
   "outputs": [
    {
     "data": {
      "text/plain": [
       "{'label': 'subgraph',\n",
       " 'nodes': {'bulk': {'id': 'bulk',\n",
       "   'import_path': 'pyiron_nodes.atomistic.structure.build.Bulk',\n",
       "   'label': 'bulk',\n",
       "   'parent_id': None,\n",
       "   'level': 0,\n",
       "   'graph': None,\n",
       "   'node_type': 'node',\n",
       "   'widget_type': 'customNode',\n",
       "   'expanded': False,\n",
       "   'node': {'label': 'bulk',\n",
       "    'function': 'pyiron_nodes.atomistic.structure.build.Bulk',\n",
       "    'inputs': {'name': 'Al', 'cubic': True}}},\n",
       "  'repeat': {'id': 'repeat',\n",
       "   'import_path': 'pyiron_nodes.atomistic.structure.transform.Repeat',\n",
       "   'label': 'repeat',\n",
       "   'parent_id': None,\n",
       "   'level': 0,\n",
       "   'graph': None,\n",
       "   'node_type': 'node',\n",
       "   'widget_type': 'customNode',\n",
       "   'expanded': False,\n",
       "   'node': {'label': 'repeat',\n",
       "    'function': 'pyiron_nodes.atomistic.structure.transform.Repeat',\n",
       "    'inputs': {}}},\n",
       "  'repeat2': {'id': 'repeat2',\n",
       "   'import_path': 'pyiron_nodes.atomistic.structure.transform.Repeat',\n",
       "   'label': 'repeat2',\n",
       "   'parent_id': None,\n",
       "   'level': 0,\n",
       "   'graph': None,\n",
       "   'node_type': 'node',\n",
       "   'widget_type': 'customNode',\n",
       "   'expanded': False,\n",
       "   'node': {'label': 'repeat2',\n",
       "    'function': 'pyiron_nodes.atomistic.structure.transform.Repeat',\n",
       "    'inputs': {}}}},\n",
       " 'edges': {'values': [{'source': 'bulk',\n",
       "    'target': 'repeat',\n",
       "    'sourceHandle': 'structure',\n",
       "    'targetHandle': 'structure'},\n",
       "   {'source': 'repeat',\n",
       "    'target': 'repeat2',\n",
       "    'sourceHandle': 'structure',\n",
       "    'targetHandle': 'structure'}],\n",
       "  'obj_type': 'pyiron_workflow.graph.base.GraphEdge'}}"
      ]
     },
     "execution_count": 19,
     "metadata": {},
     "output_type": "execute_result"
    }
   ],
   "source": [
    "new_graph.__getstate__()['nodes']['subgraph']['graph']"
   ]
  },
  {
   "cell_type": "code",
   "execution_count": 20,
   "metadata": {},
   "outputs": [
    {
     "data": {
      "text/plain": [
       "{'calculator': 'NotData'}"
      ]
     },
     "execution_count": 20,
     "metadata": {},
     "output_type": "execute_result"
    }
   ],
   "source": [
    "new_graph.__getstate__()['nodes']['lammps']['node']['inputs']"
   ]
  },
  {
   "cell_type": "code",
   "execution_count": 21,
   "metadata": {},
   "outputs": [
    {
     "ename": "FileNotFoundError",
     "evalue": "File 'new_graph2.json' not found in dir ..",
     "output_type": "error",
     "traceback": [
      "\u001b[0;31m---------------------------------------------------------------------------\u001b[0m",
      "\u001b[0;31mFileNotFoundError\u001b[0m                         Traceback (most recent call last)",
      "Cell \u001b[0;32mIn[21], line 2\u001b[0m\n\u001b[1;32m      1\u001b[0m \u001b[38;5;66;03m# base._save_graph(new_graph2, \"new_graph2.json\")\u001b[39;00m\n\u001b[0;32m----> 2\u001b[0m loaded_graph \u001b[38;5;241m=\u001b[39m \u001b[43mbase\u001b[49m\u001b[38;5;241;43m.\u001b[39;49m\u001b[43m_load_graph\u001b[49m\u001b[43m(\u001b[49m\u001b[38;5;124;43m\"\u001b[39;49m\u001b[38;5;124;43mnew_graph2.json\u001b[39;49m\u001b[38;5;124;43m\"\u001b[39;49m\u001b[43m)\u001b[49m\n",
      "File \u001b[0;32m~/gitProjects/pyiron_core/pyiron_workflow/graph/base.py:1656\u001b[0m, in \u001b[0;36m_load_graph\u001b[0;34m(filename, workflow_dir)\u001b[0m\n\u001b[1;32m   1654\u001b[0m wf_file \u001b[38;5;241m=\u001b[39m workflow_dir \u001b[38;5;241m/\u001b[39m filename\n\u001b[1;32m   1655\u001b[0m \u001b[38;5;28;01mif\u001b[39;00m \u001b[38;5;129;01mnot\u001b[39;00m wf_file\u001b[38;5;241m.\u001b[39mexists():\n\u001b[0;32m-> 1656\u001b[0m     \u001b[38;5;28;01mraise\u001b[39;00m \u001b[38;5;167;01mFileNotFoundError\u001b[39;00m(\u001b[38;5;124mf\u001b[39m\u001b[38;5;124m\"\u001b[39m\u001b[38;5;124mFile \u001b[39m\u001b[38;5;124m'\u001b[39m\u001b[38;5;132;01m{\u001b[39;00mfilename\u001b[38;5;132;01m}\u001b[39;00m\u001b[38;5;124m'\u001b[39m\u001b[38;5;124m not found in dir \u001b[39m\u001b[38;5;132;01m{\u001b[39;00mworkflow_dir\u001b[38;5;132;01m}\u001b[39;00m\u001b[38;5;124m.\u001b[39m\u001b[38;5;124m\"\u001b[39m)\n\u001b[1;32m   1658\u001b[0m \u001b[38;5;28;01mwith\u001b[39;00m \u001b[38;5;28mopen\u001b[39m(wf_file, \u001b[38;5;124m\"\u001b[39m\u001b[38;5;124mr\u001b[39m\u001b[38;5;124m\"\u001b[39m) \u001b[38;5;28;01mas\u001b[39;00m f:\n\u001b[1;32m   1659\u001b[0m     graph \u001b[38;5;241m=\u001b[39m Graph()\u001b[38;5;241m.\u001b[39m__setstate__(json\u001b[38;5;241m.\u001b[39mload(f))\n",
      "\u001b[0;31mFileNotFoundError\u001b[0m: File 'new_graph2.json' not found in dir .."
     ]
    }
   ],
   "source": [
    "# base._save_graph(new_graph2, \"new_graph2.json\")\n",
    "loaded_graph = base._load_graph(\"new_graph2.json\")"
   ]
  },
  {
   "cell_type": "code",
   "execution_count": null,
   "metadata": {},
   "outputs": [],
   "source": [
    "base.display_gui_data(new_graph2)\n"
   ]
  },
  {
   "cell_type": "code",
   "execution_count": null,
   "metadata": {},
   "outputs": [],
   "source": [
    "new_graph = base.create_group(full_graph, [0,1], label=\"subgraph\")\n",
    "new_graph = base.move_parent_nodes_to_top(new_graph)\n",
    "new_graph.nodes[\"subgraph\"].expanded = True\n",
    "new_graph = base.get_updated_graph(new_graph)\n",
    "\n",
    "# new_graph0 = base.collapse_node(new_graph, \"subgraph\")\n",
    "# new_graph = base.expand_node(new_graph, \"subgraph\")\n",
    "# new_graph1 = base._remove_virtual_edges(new_graph0)\n",
    "# new_graph2 = base._remove_edges_to_hidden_nodes(new_graph1)\n",
    "# new_graph = base._remove_virtual_nodes(new_graph, reconnect_edges=True, parent_label=\"subgraph\")\n",
    "# new_graph = base._remove_virtual_nodes(new_graph, reconnect_edges=True, parent_label=\"lammps\")\n",
    "# new_graph = base.update_execution_graph(new_graph)\n",
    "\n",
    "new_graph.edges"
   ]
  },
  {
   "cell_type": "code",
   "execution_count": null,
   "metadata": {},
   "outputs": [],
   "source": [
    "new_graph0.edges"
   ]
  },
  {
   "cell_type": "markdown",
   "metadata": {},
   "source": [
    "TODO:\n",
    "- remove duplicate edges"
   ]
  },
  {
   "cell_type": "code",
   "execution_count": null,
   "metadata": {},
   "outputs": [],
   "source": [
    "xx"
   ]
  },
  {
   "cell_type": "code",
   "execution_count": 22,
   "metadata": {},
   "outputs": [
    {
     "name": "stdout",
     "output_type": "stream",
     "text": [
      "Adding macro node lammps\n",
      "wf_label:  lammps\n",
      "target:  Collect generic\n",
      "target:  InitLammps path\n",
      "Expanding node lammps\n"
     ]
    },
    {
     "data": {
      "application/vnd.jupyter.widget-view+json": {
       "model_id": "98ccd3b1321043b9b0f837f23d80ae29",
       "version_major": 2,
       "version_minor": 0
      },
      "text/plain": [
       "HBox(children=(Output(), Tab(children=(ReactFlowWidget(layout=Layout(height='800px', width='1200px')), Output(…"
      ]
     },
     "execution_count": 22,
     "metadata": {},
     "output_type": "execute_result"
    },
    {
     "name": "stdout",
     "output_type": "stream",
     "text": [
      "Expanding node lammps\n",
      "Expanding node lammps\n",
      "Expanding node lammps\n",
      "Expanding node lammps\n"
     ]
    },
    {
     "name": "stdout",
     "output_type": "stream",
     "text": [
      "Creating new tab for Workflow_1 1 1\n"
     ]
    }
   ],
   "source": [
    "from pyiron_workflow.graph import gui\n",
    "\n",
    "pf = gui.PyironFlow([wf]) # 'flow_macro', 'lammps_test'])\n",
    "pf.gui"
   ]
  },
  {
   "cell_type": "code",
   "execution_count": 47,
   "metadata": {},
   "outputs": [
    {
     "name": "stdout",
     "output_type": "stream",
     "text": [
      "Expanding node lammps\n"
     ]
    },
    {
     "ename": "StopIteration",
     "evalue": "",
     "output_type": "error",
     "traceback": [
      "\u001b[0;31m---------------------------------------------------------------------------\u001b[0m",
      "\u001b[0;31mStopIteration\u001b[0m                             Traceback (most recent call last)",
      "Cell \u001b[0;32mIn[47], line 1\u001b[0m\n\u001b[0;32m----> 1\u001b[0m \u001b[43mbase\u001b[49m\u001b[38;5;241;43m.\u001b[39;49m\u001b[43mgraph_to_code\u001b[49m\u001b[43m(\u001b[49m\u001b[43mpf\u001b[49m\u001b[38;5;241;43m.\u001b[39;49m\u001b[43mgraph\u001b[49m\u001b[43m)\u001b[49m\n",
      "File \u001b[0;32m~/gitProjects/pyiron_core/pyiron_workflow/graph/base.py:1360\u001b[0m, in \u001b[0;36mgraph_to_code\u001b[0;34m(graph)\u001b[0m\n\u001b[1;32m   1358\u001b[0m graph \u001b[38;5;241m=\u001b[39m get_updated_graph(graph)\n\u001b[1;32m   1359\u001b[0m graph \u001b[38;5;241m=\u001b[39m topological_sort(graph)\n\u001b[0;32m-> 1360\u001b[0m graph \u001b[38;5;241m=\u001b[39m \u001b[43mget_code_from_graph\u001b[49m\u001b[43m(\u001b[49m\u001b[43mgraph\u001b[49m\u001b[43m)\u001b[49m\n\u001b[1;32m   1361\u001b[0m \u001b[38;5;28;01mreturn\u001b[39;00m graph\n",
      "File \u001b[0;32m~/gitProjects/pyiron_core/pyiron_workflow/graph/base.py:604\u001b[0m, in \u001b[0;36mget_code_from_graph\u001b[0;34m(graph, workflow_lib, pyiron_nodes_lib)\u001b[0m\n\u001b[1;32m    601\u001b[0m             \u001b[38;5;28mprint\u001b[39m(\u001b[38;5;124mf\u001b[39m\u001b[38;5;124m\"\u001b[39m\u001b[38;5;124mFound edge \u001b[39m\u001b[38;5;132;01m{\u001b[39;00medge\u001b[38;5;132;01m}\u001b[39;00m\u001b[38;5;124m\"\u001b[39m)\n\u001b[1;32m    603\u001b[0m \u001b[38;5;66;03m# include all non-default values\u001b[39;00m\n\u001b[0;32m--> 604\u001b[0m non_default_inp \u001b[38;5;241m=\u001b[39m \u001b[43mget_non_default_input\u001b[49m\u001b[43m(\u001b[49m\u001b[43mgraph\u001b[49m\u001b[43m)\u001b[49m\n\u001b[1;32m    605\u001b[0m \u001b[38;5;28;01mif\u001b[39;00m node\u001b[38;5;241m.\u001b[39mlabel \u001b[38;5;129;01min\u001b[39;00m non_default_inp:\n\u001b[1;32m    606\u001b[0m     \u001b[38;5;28;01mfor\u001b[39;00m k, v \u001b[38;5;129;01min\u001b[39;00m non_default_inp[node\u001b[38;5;241m.\u001b[39mlabel]\u001b[38;5;241m.\u001b[39mitems():\n\u001b[1;32m    607\u001b[0m         \u001b[38;5;66;03m# print(f\"Testing {node.label}: {k} to kwargs_list\")\u001b[39;00m\n",
      "File \u001b[0;32m~/gitProjects/pyiron_core/pyiron_workflow/graph/base.py:1157\u001b[0m, in \u001b[0;36mget_non_default_input\u001b[0;34m(graph, exclude_connections, flatten)\u001b[0m\n\u001b[1;32m   1155\u001b[0m \u001b[38;5;28;01mfor\u001b[39;00m node \u001b[38;5;129;01min\u001b[39;00m graph\u001b[38;5;241m.\u001b[39mnodes\u001b[38;5;241m.\u001b[39mvalues():\n\u001b[1;32m   1156\u001b[0m     data \u001b[38;5;241m=\u001b[39m node\u001b[38;5;241m.\u001b[39mnode\u001b[38;5;241m.\u001b[39minputs\u001b[38;5;241m.\u001b[39mdata\n\u001b[0;32m-> 1157\u001b[0m     changed_args \u001b[38;5;241m=\u001b[39m \u001b[43m_different_indices\u001b[49m\u001b[43m(\u001b[49m\u001b[43mdata\u001b[49m\u001b[43m[\u001b[49m\u001b[38;5;124;43m\"\u001b[39;49m\u001b[38;5;124;43mdefault\u001b[39;49m\u001b[38;5;124;43m\"\u001b[39;49m\u001b[43m]\u001b[49m\u001b[43m,\u001b[49m\u001b[43m \u001b[49m\u001b[43mdata\u001b[49m\u001b[43m[\u001b[49m\u001b[38;5;124;43m\"\u001b[39;49m\u001b[38;5;124;43mvalue\u001b[39;49m\u001b[38;5;124;43m\"\u001b[39;49m\u001b[43m]\u001b[49m\u001b[43m)\u001b[49m\n\u001b[1;32m   1158\u001b[0m     node_dict \u001b[38;5;241m=\u001b[39m \u001b[38;5;28mdict\u001b[39m()\n\u001b[1;32m   1159\u001b[0m     \u001b[38;5;28;01mfor\u001b[39;00m i \u001b[38;5;129;01min\u001b[39;00m changed_args:\n",
      "File \u001b[0;32m~/gitProjects/pyiron_core/pyiron_workflow/graph/base.py:1146\u001b[0m, in \u001b[0;36m_different_indices\u001b[0;34m(default, value)\u001b[0m\n\u001b[1;32m   1141\u001b[0m \u001b[38;5;28;01mdef\u001b[39;00m \u001b[38;5;21m_different_indices\u001b[39m(default, value):\n\u001b[1;32m   1142\u001b[0m     \u001b[38;5;66;03m# TODO: quick fix, use _get_non_default_inputs from simple_workflow.py\u001b[39;00m\n\u001b[1;32m   1143\u001b[0m     \u001b[38;5;28;01mreturn\u001b[39;00m [\n\u001b[1;32m   1144\u001b[0m         i\n\u001b[1;32m   1145\u001b[0m         \u001b[38;5;28;01mfor\u001b[39;00m i \u001b[38;5;129;01min\u001b[39;00m \u001b[38;5;28mrange\u001b[39m(\u001b[38;5;28mlen\u001b[39m(default))\n\u001b[0;32m-> 1146\u001b[0m         \u001b[38;5;28;01mif\u001b[39;00m (\u001b[38;5;28mstr\u001b[39m(default[i]) \u001b[38;5;241m!=\u001b[39m \u001b[38;5;28;43mstr\u001b[39;49m\u001b[43m(\u001b[49m\u001b[43mvalue\u001b[49m\u001b[43m[\u001b[49m\u001b[43mi\u001b[49m\u001b[43m]\u001b[49m\u001b[43m)\u001b[49m) \u001b[38;5;129;01mor\u001b[39;00m (\u001b[38;5;28mstr\u001b[39m(value[i]) \u001b[38;5;129;01min\u001b[39;00m (NotData))\n\u001b[1;32m   1147\u001b[0m     ]\n",
      "File \u001b[0;32m~/gitProjects/pyiron_core/pyiron_workflow/simple_workflow.py:301\u001b[0m, in \u001b[0;36mAttribute.__repr__\u001b[0;34m(self)\u001b[0m\n\u001b[1;32m    300\u001b[0m \u001b[38;5;28;01mdef\u001b[39;00m \u001b[38;5;21m__repr__\u001b[39m(\u001b[38;5;28mself\u001b[39m):\n\u001b[0;32m--> 301\u001b[0m     \u001b[38;5;28;01mreturn\u001b[39;00m \u001b[43mpd\u001b[49m\u001b[38;5;241;43m.\u001b[39;49m\u001b[43mSeries\u001b[49m\u001b[43m(\u001b[49m\u001b[38;5;28;43mself\u001b[39;49m\u001b[38;5;241;43m.\u001b[39;49m\u001b[43m_to_dict\u001b[49m\u001b[43m(\u001b[49m\u001b[43m)\u001b[49m\u001b[43m)\u001b[49m\u001b[38;5;241;43m.\u001b[39;49m\u001b[38;5;21;43m__repr__\u001b[39;49m\u001b[43m(\u001b[49m\u001b[43m)\u001b[49m\n",
      "File \u001b[0;32m~/mambaforge/envs/py12/lib/python3.12/site-packages/pandas/core/series.py:1784\u001b[0m, in \u001b[0;36mSeries.__repr__\u001b[0;34m(self)\u001b[0m\n\u001b[1;32m   1782\u001b[0m \u001b[38;5;66;03m# pylint: disable=invalid-repr-returned\u001b[39;00m\n\u001b[1;32m   1783\u001b[0m repr_params \u001b[38;5;241m=\u001b[39m fmt\u001b[38;5;241m.\u001b[39mget_series_repr_params()\n\u001b[0;32m-> 1784\u001b[0m \u001b[38;5;28;01mreturn\u001b[39;00m \u001b[38;5;28;43mself\u001b[39;49m\u001b[38;5;241;43m.\u001b[39;49m\u001b[43mto_string\u001b[49m\u001b[43m(\u001b[49m\u001b[38;5;241;43m*\u001b[39;49m\u001b[38;5;241;43m*\u001b[39;49m\u001b[43mrepr_params\u001b[49m\u001b[43m)\u001b[49m\n",
      "File \u001b[0;32m~/mambaforge/envs/py12/lib/python3.12/site-packages/pandas/core/series.py:1883\u001b[0m, in \u001b[0;36mSeries.to_string\u001b[0;34m(self, buf, na_rep, float_format, header, index, length, dtype, name, max_rows, min_rows)\u001b[0m\n\u001b[1;32m   1831\u001b[0m \u001b[38;5;250m\u001b[39m\u001b[38;5;124;03m\"\"\"\u001b[39;00m\n\u001b[1;32m   1832\u001b[0m \u001b[38;5;124;03mRender a string representation of the Series.\u001b[39;00m\n\u001b[1;32m   1833\u001b[0m \n\u001b[0;32m   (...)\u001b[0m\n\u001b[1;32m   1869\u001b[0m \u001b[38;5;124;03m'0    1\\\\n1    2\\\\n2    3'\u001b[39;00m\n\u001b[1;32m   1870\u001b[0m \u001b[38;5;124;03m\"\"\"\u001b[39;00m\n\u001b[1;32m   1871\u001b[0m formatter \u001b[38;5;241m=\u001b[39m fmt\u001b[38;5;241m.\u001b[39mSeriesFormatter(\n\u001b[1;32m   1872\u001b[0m     \u001b[38;5;28mself\u001b[39m,\n\u001b[1;32m   1873\u001b[0m     name\u001b[38;5;241m=\u001b[39mname,\n\u001b[0;32m   (...)\u001b[0m\n\u001b[1;32m   1881\u001b[0m     max_rows\u001b[38;5;241m=\u001b[39mmax_rows,\n\u001b[1;32m   1882\u001b[0m )\n\u001b[0;32m-> 1883\u001b[0m result \u001b[38;5;241m=\u001b[39m \u001b[43mformatter\u001b[49m\u001b[38;5;241;43m.\u001b[39;49m\u001b[43mto_string\u001b[49m\u001b[43m(\u001b[49m\u001b[43m)\u001b[49m\n\u001b[1;32m   1885\u001b[0m \u001b[38;5;66;03m# catch contract violations\u001b[39;00m\n\u001b[1;32m   1886\u001b[0m \u001b[38;5;28;01mif\u001b[39;00m \u001b[38;5;129;01mnot\u001b[39;00m \u001b[38;5;28misinstance\u001b[39m(result, \u001b[38;5;28mstr\u001b[39m):\n",
      "File \u001b[0;32m~/mambaforge/envs/py12/lib/python3.12/site-packages/pandas/io/formats/format.py:320\u001b[0m, in \u001b[0;36mSeriesFormatter.to_string\u001b[0;34m(self)\u001b[0m\n\u001b[1;32m    318\u001b[0m \u001b[38;5;28;01melse\u001b[39;00m:\n\u001b[1;32m    319\u001b[0m     fmt_index \u001b[38;5;241m=\u001b[39m index\u001b[38;5;241m.\u001b[39m_format_flat(include_name\u001b[38;5;241m=\u001b[39m\u001b[38;5;28;01mTrue\u001b[39;00m)\n\u001b[0;32m--> 320\u001b[0m fmt_values \u001b[38;5;241m=\u001b[39m \u001b[38;5;28;43mself\u001b[39;49m\u001b[38;5;241;43m.\u001b[39;49m\u001b[43m_get_formatted_values\u001b[49m\u001b[43m(\u001b[49m\u001b[43m)\u001b[49m\n\u001b[1;32m    322\u001b[0m \u001b[38;5;28;01mif\u001b[39;00m \u001b[38;5;28mself\u001b[39m\u001b[38;5;241m.\u001b[39mis_truncated_vertically:\n\u001b[1;32m    323\u001b[0m     n_header_rows \u001b[38;5;241m=\u001b[39m \u001b[38;5;241m0\u001b[39m\n",
      "File \u001b[0;32m~/mambaforge/envs/py12/lib/python3.12/site-packages/pandas/io/formats/format.py:297\u001b[0m, in \u001b[0;36mSeriesFormatter._get_formatted_values\u001b[0;34m(self)\u001b[0m\n\u001b[1;32m    296\u001b[0m \u001b[38;5;28;01mdef\u001b[39;00m \u001b[38;5;21m_get_formatted_values\u001b[39m(\u001b[38;5;28mself\u001b[39m) \u001b[38;5;241m-\u001b[39m\u001b[38;5;241m>\u001b[39m \u001b[38;5;28mlist\u001b[39m[\u001b[38;5;28mstr\u001b[39m]:\n\u001b[0;32m--> 297\u001b[0m     \u001b[38;5;28;01mreturn\u001b[39;00m \u001b[43mformat_array\u001b[49m\u001b[43m(\u001b[49m\n\u001b[1;32m    298\u001b[0m \u001b[43m        \u001b[49m\u001b[38;5;28;43mself\u001b[39;49m\u001b[38;5;241;43m.\u001b[39;49m\u001b[43mtr_series\u001b[49m\u001b[38;5;241;43m.\u001b[39;49m\u001b[43m_values\u001b[49m\u001b[43m,\u001b[49m\n\u001b[1;32m    299\u001b[0m \u001b[43m        \u001b[49m\u001b[38;5;28;43;01mNone\u001b[39;49;00m\u001b[43m,\u001b[49m\n\u001b[1;32m    300\u001b[0m \u001b[43m        \u001b[49m\u001b[43mfloat_format\u001b[49m\u001b[38;5;241;43m=\u001b[39;49m\u001b[38;5;28;43mself\u001b[39;49m\u001b[38;5;241;43m.\u001b[39;49m\u001b[43mfloat_format\u001b[49m\u001b[43m,\u001b[49m\n\u001b[1;32m    301\u001b[0m \u001b[43m        \u001b[49m\u001b[43mna_rep\u001b[49m\u001b[38;5;241;43m=\u001b[39;49m\u001b[38;5;28;43mself\u001b[39;49m\u001b[38;5;241;43m.\u001b[39;49m\u001b[43mna_rep\u001b[49m\u001b[43m,\u001b[49m\n\u001b[1;32m    302\u001b[0m \u001b[43m        \u001b[49m\u001b[43mleading_space\u001b[49m\u001b[38;5;241;43m=\u001b[39;49m\u001b[38;5;28;43mself\u001b[39;49m\u001b[38;5;241;43m.\u001b[39;49m\u001b[43mindex\u001b[49m\u001b[43m,\u001b[49m\n\u001b[1;32m    303\u001b[0m \u001b[43m    \u001b[49m\u001b[43m)\u001b[49m\n",
      "File \u001b[0;32m~/mambaforge/envs/py12/lib/python3.12/site-packages/pandas/io/formats/format.py:1161\u001b[0m, in \u001b[0;36mformat_array\u001b[0;34m(values, formatter, float_format, na_rep, digits, space, justify, decimal, leading_space, quoting, fallback_formatter)\u001b[0m\n\u001b[1;32m   1145\u001b[0m     digits \u001b[38;5;241m=\u001b[39m get_option(\u001b[38;5;124m\"\u001b[39m\u001b[38;5;124mdisplay.precision\u001b[39m\u001b[38;5;124m\"\u001b[39m)\n\u001b[1;32m   1147\u001b[0m fmt_obj \u001b[38;5;241m=\u001b[39m fmt_klass(\n\u001b[1;32m   1148\u001b[0m     values,\n\u001b[1;32m   1149\u001b[0m     digits\u001b[38;5;241m=\u001b[39mdigits,\n\u001b[0;32m   (...)\u001b[0m\n\u001b[1;32m   1158\u001b[0m     fallback_formatter\u001b[38;5;241m=\u001b[39mfallback_formatter,\n\u001b[1;32m   1159\u001b[0m )\n\u001b[0;32m-> 1161\u001b[0m \u001b[38;5;28;01mreturn\u001b[39;00m \u001b[43mfmt_obj\u001b[49m\u001b[38;5;241;43m.\u001b[39;49m\u001b[43mget_result\u001b[49m\u001b[43m(\u001b[49m\u001b[43m)\u001b[49m\n",
      "File \u001b[0;32m~/mambaforge/envs/py12/lib/python3.12/site-packages/pandas/io/formats/format.py:1194\u001b[0m, in \u001b[0;36m_GenericArrayFormatter.get_result\u001b[0;34m(self)\u001b[0m\n\u001b[1;32m   1193\u001b[0m \u001b[38;5;28;01mdef\u001b[39;00m \u001b[38;5;21mget_result\u001b[39m(\u001b[38;5;28mself\u001b[39m) \u001b[38;5;241m-\u001b[39m\u001b[38;5;241m>\u001b[39m \u001b[38;5;28mlist\u001b[39m[\u001b[38;5;28mstr\u001b[39m]:\n\u001b[0;32m-> 1194\u001b[0m     fmt_values \u001b[38;5;241m=\u001b[39m \u001b[38;5;28;43mself\u001b[39;49m\u001b[38;5;241;43m.\u001b[39;49m\u001b[43m_format_strings\u001b[49m\u001b[43m(\u001b[49m\u001b[43m)\u001b[49m\n\u001b[1;32m   1195\u001b[0m     \u001b[38;5;28;01mreturn\u001b[39;00m _make_fixed_width(fmt_values, \u001b[38;5;28mself\u001b[39m\u001b[38;5;241m.\u001b[39mjustify)\n",
      "File \u001b[0;32m~/mambaforge/envs/py12/lib/python3.12/site-packages/pandas/io/formats/format.py:1259\u001b[0m, in \u001b[0;36m_GenericArrayFormatter._format_strings\u001b[0;34m(self)\u001b[0m\n\u001b[1;32m   1257\u001b[0m \u001b[38;5;28;01mfor\u001b[39;00m i, v \u001b[38;5;129;01min\u001b[39;00m \u001b[38;5;28menumerate\u001b[39m(vals):\n\u001b[1;32m   1258\u001b[0m     \u001b[38;5;28;01mif\u001b[39;00m (\u001b[38;5;129;01mnot\u001b[39;00m is_float_type[i] \u001b[38;5;129;01mor\u001b[39;00m \u001b[38;5;28mself\u001b[39m\u001b[38;5;241m.\u001b[39mformatter \u001b[38;5;129;01mis\u001b[39;00m \u001b[38;5;129;01mnot\u001b[39;00m \u001b[38;5;28;01mNone\u001b[39;00m) \u001b[38;5;129;01mand\u001b[39;00m leading_space:\n\u001b[0;32m-> 1259\u001b[0m         fmt_values\u001b[38;5;241m.\u001b[39mappend(\u001b[38;5;124mf\u001b[39m\u001b[38;5;124m\"\u001b[39m\u001b[38;5;124m \u001b[39m\u001b[38;5;132;01m{\u001b[39;00m\u001b[43m_format\u001b[49m\u001b[43m(\u001b[49m\u001b[43mv\u001b[49m\u001b[43m)\u001b[49m\u001b[38;5;132;01m}\u001b[39;00m\u001b[38;5;124m\"\u001b[39m)\n\u001b[1;32m   1260\u001b[0m     \u001b[38;5;28;01melif\u001b[39;00m is_float_type[i]:\n\u001b[1;32m   1261\u001b[0m         fmt_values\u001b[38;5;241m.\u001b[39mappend(float_format(v))\n",
      "File \u001b[0;32m~/mambaforge/envs/py12/lib/python3.12/site-packages/pandas/io/formats/format.py:1239\u001b[0m, in \u001b[0;36m_GenericArrayFormatter._format_strings.<locals>._format\u001b[0;34m(x)\u001b[0m\n\u001b[1;32m   1236\u001b[0m     \u001b[38;5;28;01mreturn\u001b[39;00m \u001b[38;5;28mrepr\u001b[39m(x)\n\u001b[1;32m   1237\u001b[0m \u001b[38;5;28;01melse\u001b[39;00m:\n\u001b[1;32m   1238\u001b[0m     \u001b[38;5;66;03m# object dtype\u001b[39;00m\n\u001b[0;32m-> 1239\u001b[0m     \u001b[38;5;28;01mreturn\u001b[39;00m \u001b[38;5;28mstr\u001b[39m(\u001b[43mformatter\u001b[49m\u001b[43m(\u001b[49m\u001b[43mx\u001b[49m\u001b[43m)\u001b[49m)\n",
      "File \u001b[0;32m~/mambaforge/envs/py12/lib/python3.12/site-packages/pandas/io/formats/printing.py:223\u001b[0m, in \u001b[0;36mpprint_thing\u001b[0;34m(thing, _nest_lvl, escape_chars, default_escapes, quote_strings, max_seq_items)\u001b[0m\n\u001b[1;32m    219\u001b[0m     result \u001b[38;5;241m=\u001b[39m _pprint_dict(\n\u001b[1;32m    220\u001b[0m         thing, _nest_lvl, quote_strings\u001b[38;5;241m=\u001b[39m\u001b[38;5;28;01mTrue\u001b[39;00m, max_seq_items\u001b[38;5;241m=\u001b[39mmax_seq_items\n\u001b[1;32m    221\u001b[0m     )\n\u001b[1;32m    222\u001b[0m \u001b[38;5;28;01melif\u001b[39;00m is_sequence(thing) \u001b[38;5;129;01mand\u001b[39;00m _nest_lvl \u001b[38;5;241m<\u001b[39m get_option(\u001b[38;5;124m\"\u001b[39m\u001b[38;5;124mdisplay.pprint_nest_depth\u001b[39m\u001b[38;5;124m\"\u001b[39m):\n\u001b[0;32m--> 223\u001b[0m     result \u001b[38;5;241m=\u001b[39m \u001b[43m_pprint_seq\u001b[49m\u001b[43m(\u001b[49m\n\u001b[1;32m    224\u001b[0m \u001b[43m        \u001b[49m\u001b[43mthing\u001b[49m\u001b[43m,\u001b[49m\n\u001b[1;32m    225\u001b[0m \u001b[43m        \u001b[49m\u001b[43m_nest_lvl\u001b[49m\u001b[43m,\u001b[49m\n\u001b[1;32m    226\u001b[0m \u001b[43m        \u001b[49m\u001b[43mescape_chars\u001b[49m\u001b[38;5;241;43m=\u001b[39;49m\u001b[43mescape_chars\u001b[49m\u001b[43m,\u001b[49m\n\u001b[1;32m    227\u001b[0m \u001b[43m        \u001b[49m\u001b[43mquote_strings\u001b[49m\u001b[38;5;241;43m=\u001b[39;49m\u001b[43mquote_strings\u001b[49m\u001b[43m,\u001b[49m\n\u001b[1;32m    228\u001b[0m \u001b[43m        \u001b[49m\u001b[43mmax_seq_items\u001b[49m\u001b[38;5;241;43m=\u001b[39;49m\u001b[43mmax_seq_items\u001b[49m\u001b[43m,\u001b[49m\n\u001b[1;32m    229\u001b[0m \u001b[43m    \u001b[49m\u001b[43m)\u001b[49m\n\u001b[1;32m    230\u001b[0m \u001b[38;5;28;01melif\u001b[39;00m \u001b[38;5;28misinstance\u001b[39m(thing, \u001b[38;5;28mstr\u001b[39m) \u001b[38;5;129;01mand\u001b[39;00m quote_strings:\n\u001b[1;32m    231\u001b[0m     result \u001b[38;5;241m=\u001b[39m \u001b[38;5;124mf\u001b[39m\u001b[38;5;124m\"\u001b[39m\u001b[38;5;124m'\u001b[39m\u001b[38;5;132;01m{\u001b[39;00mas_escaped_string(thing)\u001b[38;5;132;01m}\u001b[39;00m\u001b[38;5;124m'\u001b[39m\u001b[38;5;124m\"\u001b[39m\n",
      "File \u001b[0;32m~/mambaforge/envs/py12/lib/python3.12/site-packages/pandas/io/formats/printing.py:121\u001b[0m, in \u001b[0;36m_pprint_seq\u001b[0;34m(seq, _nest_lvl, max_seq_items, **kwds)\u001b[0m\n\u001b[1;32m    118\u001b[0m s \u001b[38;5;241m=\u001b[39m \u001b[38;5;28miter\u001b[39m(seq)\n\u001b[1;32m    119\u001b[0m \u001b[38;5;66;03m# handle sets, no slicing\u001b[39;00m\n\u001b[1;32m    120\u001b[0m r \u001b[38;5;241m=\u001b[39m [\n\u001b[0;32m--> 121\u001b[0m     \u001b[43mpprint_thing\u001b[49m\u001b[43m(\u001b[49m\u001b[38;5;28;43mnext\u001b[39;49m\u001b[43m(\u001b[49m\u001b[43ms\u001b[49m\u001b[43m)\u001b[49m\u001b[43m,\u001b[49m\u001b[43m \u001b[49m\u001b[43m_nest_lvl\u001b[49m\u001b[43m \u001b[49m\u001b[38;5;241;43m+\u001b[39;49m\u001b[43m \u001b[49m\u001b[38;5;241;43m1\u001b[39;49m\u001b[43m,\u001b[49m\u001b[43m \u001b[49m\u001b[43mmax_seq_items\u001b[49m\u001b[38;5;241;43m=\u001b[39;49m\u001b[43mmax_seq_items\u001b[49m\u001b[43m,\u001b[49m\u001b[43m \u001b[49m\u001b[38;5;241;43m*\u001b[39;49m\u001b[38;5;241;43m*\u001b[39;49m\u001b[43mkwds\u001b[49m\u001b[43m)\u001b[49m\n\u001b[1;32m    122\u001b[0m     \u001b[38;5;28;01mfor\u001b[39;00m i \u001b[38;5;129;01min\u001b[39;00m \u001b[38;5;28mrange\u001b[39m(\u001b[38;5;28mmin\u001b[39m(nitems, \u001b[38;5;28mlen\u001b[39m(seq)))\n\u001b[1;32m    123\u001b[0m ]\n\u001b[1;32m    124\u001b[0m body \u001b[38;5;241m=\u001b[39m \u001b[38;5;124m\"\u001b[39m\u001b[38;5;124m, \u001b[39m\u001b[38;5;124m\"\u001b[39m\u001b[38;5;241m.\u001b[39mjoin(r)\n\u001b[1;32m    126\u001b[0m \u001b[38;5;28;01mif\u001b[39;00m nitems \u001b[38;5;241m<\u001b[39m \u001b[38;5;28mlen\u001b[39m(seq):\n",
      "File \u001b[0;32m~/mambaforge/envs/py12/lib/python3.12/site-packages/pandas/io/formats/printing.py:223\u001b[0m, in \u001b[0;36mpprint_thing\u001b[0;34m(thing, _nest_lvl, escape_chars, default_escapes, quote_strings, max_seq_items)\u001b[0m\n\u001b[1;32m    219\u001b[0m     result \u001b[38;5;241m=\u001b[39m _pprint_dict(\n\u001b[1;32m    220\u001b[0m         thing, _nest_lvl, quote_strings\u001b[38;5;241m=\u001b[39m\u001b[38;5;28;01mTrue\u001b[39;00m, max_seq_items\u001b[38;5;241m=\u001b[39mmax_seq_items\n\u001b[1;32m    221\u001b[0m     )\n\u001b[1;32m    222\u001b[0m \u001b[38;5;28;01melif\u001b[39;00m is_sequence(thing) \u001b[38;5;129;01mand\u001b[39;00m _nest_lvl \u001b[38;5;241m<\u001b[39m get_option(\u001b[38;5;124m\"\u001b[39m\u001b[38;5;124mdisplay.pprint_nest_depth\u001b[39m\u001b[38;5;124m\"\u001b[39m):\n\u001b[0;32m--> 223\u001b[0m     result \u001b[38;5;241m=\u001b[39m \u001b[43m_pprint_seq\u001b[49m\u001b[43m(\u001b[49m\n\u001b[1;32m    224\u001b[0m \u001b[43m        \u001b[49m\u001b[43mthing\u001b[49m\u001b[43m,\u001b[49m\n\u001b[1;32m    225\u001b[0m \u001b[43m        \u001b[49m\u001b[43m_nest_lvl\u001b[49m\u001b[43m,\u001b[49m\n\u001b[1;32m    226\u001b[0m \u001b[43m        \u001b[49m\u001b[43mescape_chars\u001b[49m\u001b[38;5;241;43m=\u001b[39;49m\u001b[43mescape_chars\u001b[49m\u001b[43m,\u001b[49m\n\u001b[1;32m    227\u001b[0m \u001b[43m        \u001b[49m\u001b[43mquote_strings\u001b[49m\u001b[38;5;241;43m=\u001b[39;49m\u001b[43mquote_strings\u001b[49m\u001b[43m,\u001b[49m\n\u001b[1;32m    228\u001b[0m \u001b[43m        \u001b[49m\u001b[43mmax_seq_items\u001b[49m\u001b[38;5;241;43m=\u001b[39;49m\u001b[43mmax_seq_items\u001b[49m\u001b[43m,\u001b[49m\n\u001b[1;32m    229\u001b[0m \u001b[43m    \u001b[49m\u001b[43m)\u001b[49m\n\u001b[1;32m    230\u001b[0m \u001b[38;5;28;01melif\u001b[39;00m \u001b[38;5;28misinstance\u001b[39m(thing, \u001b[38;5;28mstr\u001b[39m) \u001b[38;5;129;01mand\u001b[39;00m quote_strings:\n\u001b[1;32m    231\u001b[0m     result \u001b[38;5;241m=\u001b[39m \u001b[38;5;124mf\u001b[39m\u001b[38;5;124m\"\u001b[39m\u001b[38;5;124m'\u001b[39m\u001b[38;5;132;01m{\u001b[39;00mas_escaped_string(thing)\u001b[38;5;132;01m}\u001b[39;00m\u001b[38;5;124m'\u001b[39m\u001b[38;5;124m\"\u001b[39m\n",
      "File \u001b[0;32m~/mambaforge/envs/py12/lib/python3.12/site-packages/pandas/io/formats/printing.py:121\u001b[0m, in \u001b[0;36m_pprint_seq\u001b[0;34m(seq, _nest_lvl, max_seq_items, **kwds)\u001b[0m\n\u001b[1;32m    118\u001b[0m s \u001b[38;5;241m=\u001b[39m \u001b[38;5;28miter\u001b[39m(seq)\n\u001b[1;32m    119\u001b[0m \u001b[38;5;66;03m# handle sets, no slicing\u001b[39;00m\n\u001b[1;32m    120\u001b[0m r \u001b[38;5;241m=\u001b[39m [\n\u001b[0;32m--> 121\u001b[0m     pprint_thing(\u001b[38;5;28;43mnext\u001b[39;49m\u001b[43m(\u001b[49m\u001b[43ms\u001b[49m\u001b[43m)\u001b[49m, _nest_lvl \u001b[38;5;241m+\u001b[39m \u001b[38;5;241m1\u001b[39m, max_seq_items\u001b[38;5;241m=\u001b[39mmax_seq_items, \u001b[38;5;241m*\u001b[39m\u001b[38;5;241m*\u001b[39mkwds)\n\u001b[1;32m    122\u001b[0m     \u001b[38;5;28;01mfor\u001b[39;00m i \u001b[38;5;129;01min\u001b[39;00m \u001b[38;5;28mrange\u001b[39m(\u001b[38;5;28mmin\u001b[39m(nitems, \u001b[38;5;28mlen\u001b[39m(seq)))\n\u001b[1;32m    123\u001b[0m ]\n\u001b[1;32m    124\u001b[0m body \u001b[38;5;241m=\u001b[39m \u001b[38;5;124m\"\u001b[39m\u001b[38;5;124m, \u001b[39m\u001b[38;5;124m\"\u001b[39m\u001b[38;5;241m.\u001b[39mjoin(r)\n\u001b[1;32m    126\u001b[0m \u001b[38;5;28;01mif\u001b[39;00m nitems \u001b[38;5;241m<\u001b[39m \u001b[38;5;28mlen\u001b[39m(seq):\n",
      "\u001b[0;31mStopIteration\u001b[0m: "
     ]
    }
   ],
   "source": [
    "base.graph_to_code(pf.graph)"
   ]
  },
  {
   "cell_type": "code",
   "execution_count": 43,
   "metadata": {},
   "outputs": [
    {
     "name": "stdout",
     "output_type": "stream",
     "text": [
      "@as_macro_node(labels=[\"generic\", \"path\"])\n",
      "def Code1(\n",
      "    structure: Atoms,\n",
      "    calculator,  # =InputCalcStatic(),  # TODO: Don't use mutable defaults\n",
      "    potential: Optional[str] = None,\n",
      "    working_dir: str = \"test2\",\n",
      "):\n",
      "\n",
      "    from pyiron_workflow import Workflow\n",
      "\n",
      "    wf = Workflow(\"LammpsMacro\")\n",
      "\n",
      "    wf.Potential = Potential(structure=structure, name=potential)\n",
      "    # wf.DummyNode = DummyNode(structure1=structure, structure2=structure)    \n",
      "\n",
      "    wf.ListPotentials = ListPotentials(structure=structure)\n",
      "\n",
      "    # wf.calc = CalcMD(calculator)\n",
      "\n",
      "    wf.InitLammps = InitLammps(\n",
      "        structure=structure,\n",
      "        potential=wf.Potential,\n",
      "        # calculator=wf.calc,\n",
      "        calculator=calculator,\n",
      "        working_directory=working_dir,\n",
      "    )\n",
      "\n",
      "    wf.Shell = Shell(\n",
      "        # command=ExecutablePathResolver(module=\"lammps\", code=\"lammps\").path(),\n",
      "        working_directory=wf.InitLammps,\n",
      "    )\n",
      "\n",
      "    wf.ParseLogFile = ParseLogFile(log_file=wf.Shell.outputs.log)\n",
      "    wf.ParseDumpFile = ParseDumpFile(dump_file=wf.Shell.outputs.dump)\n",
      "    wf.Collect = Collect(\n",
      "        out_dump=wf.ParseDumpFile.outputs.dump,\n",
      "        out_log=wf.ParseLogFile.outputs.log,\n",
      "        calc_mode=\"md\",  # wf.calc,\n",
      "    )\n",
      "\n",
      "    return wf.Collect, wf.InitLammps.outputs.path\n",
      "\n",
      "Expanding node lammps\n",
      "Expanding node lammps\n",
      "Expanding node lammps\n",
      "Expanding node lammps\n",
      "Expanding node lammps\n"
     ]
    }
   ],
   "source": [
    "import inspect\n",
    "print(inspect.getsource(macro_node._func))"
   ]
  },
  {
   "cell_type": "code",
   "execution_count": 45,
   "metadata": {},
   "outputs": [],
   "source": [
    "macro_node = pf.graph.nodes # ['lammps'].node\n",
    "# macro_node._func(**macro_node.kwargs)"
   ]
  },
  {
   "cell_type": "code",
   "execution_count": 35,
   "metadata": {},
   "outputs": [
    {
     "ename": "AttributeError",
     "evalue": "'NoneType' object has no attribute 'get_chemical_symbols'",
     "output_type": "error",
     "traceback": [
      "\u001b[0;31m---------------------------------------------------------------------------\u001b[0m",
      "\u001b[0;31mAttributeError\u001b[0m                            Traceback (most recent call last)",
      "Cell \u001b[0;32mIn[35], line 1\u001b[0m\n\u001b[0;32m----> 1\u001b[0m \u001b[43mpf\u001b[49m\u001b[38;5;241;43m.\u001b[39;49m\u001b[43mgraph\u001b[49m\u001b[38;5;241;43m.\u001b[39;49m\u001b[43mnodes\u001b[49m\u001b[43m[\u001b[49m\u001b[38;5;124;43m'\u001b[39;49m\u001b[38;5;124;43mlammps\u001b[39;49m\u001b[38;5;124;43m'\u001b[39;49m\u001b[43m]\u001b[49m\u001b[38;5;241;43m.\u001b[39;49m\u001b[43mnode\u001b[49m\u001b[38;5;241;43m.\u001b[39;49m\u001b[43mrun\u001b[49m\u001b[43m(\u001b[49m\u001b[43m)\u001b[49m \u001b[38;5;66;03m#inputs.structure.value\u001b[39;00m\n",
      "File \u001b[0;32m~/gitProjects/pyiron_core/pyiron_workflow/simple_workflow.py:487\u001b[0m, in \u001b[0;36mNode.run\u001b[0;34m(self)\u001b[0m\n\u001b[1;32m    485\u001b[0m \u001b[38;5;28;01mdef\u001b[39;00m \u001b[38;5;21mrun\u001b[39m(\u001b[38;5;28mself\u001b[39m):\n\u001b[1;32m    486\u001b[0m     \u001b[38;5;28mself\u001b[39m\u001b[38;5;241m.\u001b[39m_validate_input()\n\u001b[0;32m--> 487\u001b[0m     out \u001b[38;5;241m=\u001b[39m \u001b[38;5;28;43mself\u001b[39;49m\u001b[38;5;241;43m.\u001b[39;49m\u001b[43m_run\u001b[49m\u001b[43m(\u001b[49m\u001b[43m)\u001b[49m\n\u001b[1;32m    488\u001b[0m     \u001b[38;5;28mself\u001b[39m\u001b[38;5;241m.\u001b[39m_run_set_values(out)\n\u001b[1;32m    490\u001b[0m     \u001b[38;5;28;01mreturn\u001b[39;00m out\n",
      "File \u001b[0;32m~/gitProjects/pyiron_core/pyiron_workflow/simple_workflow.py:803\u001b[0m, in \u001b[0;36m_return_as_macro_node.<locals>.run_macro\u001b[0;34m(self, wf_macro)\u001b[0m\n\u001b[1;32m    802\u001b[0m \u001b[38;5;28;01mdef\u001b[39;00m \u001b[38;5;21mrun_macro\u001b[39m(\u001b[38;5;28mself\u001b[39m, wf_macro):\n\u001b[0;32m--> 803\u001b[0m     wf_out \u001b[38;5;241m=\u001b[39m \u001b[43mwf_macro\u001b[49m\u001b[38;5;241;43m.\u001b[39;49m\u001b[43mrun\u001b[49m\u001b[43m(\u001b[49m\u001b[43m)\u001b[49m  \u001b[38;5;66;03m# run the workflow\u001b[39;00m\n\u001b[1;32m    804\u001b[0m     \u001b[38;5;28;01mreturn\u001b[39;00m wf_out\n",
      "File \u001b[0;32m~/gitProjects/pyiron_core/pyiron_workflow/simple_workflow.py:961\u001b[0m, in \u001b[0;36mWorkflow.run\u001b[0;34m(self, debug)\u001b[0m\n\u001b[1;32m    960\u001b[0m \u001b[38;5;28;01mdef\u001b[39;00m \u001b[38;5;21mrun\u001b[39m(\u001b[38;5;28mself\u001b[39m, debug\u001b[38;5;241m=\u001b[39m\u001b[38;5;28;01mFalse\u001b[39;00m):\n\u001b[0;32m--> 961\u001b[0m     \u001b[38;5;28;01mreturn\u001b[39;00m \u001b[43mwf_graph_tools\u001b[49m\u001b[38;5;241;43m.\u001b[39;49m\u001b[43mrun_wf\u001b[49m\u001b[43m(\u001b[49m\u001b[38;5;28;43mself\u001b[39;49m\u001b[43m,\u001b[49m\u001b[43m \u001b[49m\u001b[43mdebug\u001b[49m\u001b[38;5;241;43m=\u001b[39;49m\u001b[43mdebug\u001b[49m\u001b[43m)\u001b[49m\n",
      "File \u001b[0;32m~/gitProjects/pyiron_core/pyiron_workflow/wf_graph_tools.py:403\u001b[0m, in \u001b[0;36mrun_wf\u001b[0;34m(wf, debug)\u001b[0m\n\u001b[1;32m    401\u001b[0m         \u001b[38;5;28;01mif\u001b[39;00m debug:\n\u001b[1;32m    402\u001b[0m             \u001b[38;5;28mprint\u001b[39m(\u001b[38;5;124mf\u001b[39m\u001b[38;5;124m\"\u001b[39m\u001b[38;5;124mrunning node \u001b[39m\u001b[38;5;132;01m{\u001b[39;00mnode[\u001b[38;5;241m0\u001b[39m]\u001b[38;5;132;01m}\u001b[39;00m\u001b[38;5;124m\"\u001b[39m)\n\u001b[0;32m--> 403\u001b[0m         out \u001b[38;5;241m=\u001b[39m \u001b[43mwf\u001b[49m\u001b[38;5;241;43m.\u001b[39;49m\u001b[43m_nodes\u001b[49m\u001b[43m[\u001b[49m\u001b[43mnode\u001b[49m\u001b[43m[\u001b[49m\u001b[38;5;241;43m0\u001b[39;49m\u001b[43m]\u001b[49m\u001b[43m]\u001b[49m\u001b[38;5;241;43m.\u001b[39;49m\u001b[43mrun\u001b[49m\u001b[43m(\u001b[49m\u001b[43m)\u001b[49m\n\u001b[1;32m    405\u001b[0m \u001b[38;5;28;01mreturn\u001b[39;00m out\n",
      "File \u001b[0;32m~/gitProjects/pyiron_core/pyiron_workflow/simple_workflow.py:487\u001b[0m, in \u001b[0;36mNode.run\u001b[0;34m(self)\u001b[0m\n\u001b[1;32m    485\u001b[0m \u001b[38;5;28;01mdef\u001b[39;00m \u001b[38;5;21mrun\u001b[39m(\u001b[38;5;28mself\u001b[39m):\n\u001b[1;32m    486\u001b[0m     \u001b[38;5;28mself\u001b[39m\u001b[38;5;241m.\u001b[39m_validate_input()\n\u001b[0;32m--> 487\u001b[0m     out \u001b[38;5;241m=\u001b[39m \u001b[38;5;28;43mself\u001b[39;49m\u001b[38;5;241;43m.\u001b[39;49m\u001b[43m_run\u001b[49m\u001b[43m(\u001b[49m\u001b[43m)\u001b[49m\n\u001b[1;32m    488\u001b[0m     \u001b[38;5;28mself\u001b[39m\u001b[38;5;241m.\u001b[39m_run_set_values(out)\n\u001b[1;32m    490\u001b[0m     \u001b[38;5;28;01mreturn\u001b[39;00m out\n",
      "File \u001b[0;32m~/gitProjects/pyiron_core/pyiron_workflow/simple_workflow.py:508\u001b[0m, in \u001b[0;36mNode._run\u001b[0;34m(self)\u001b[0m\n\u001b[1;32m    506\u001b[0m \u001b[38;5;28;01mdef\u001b[39;00m \u001b[38;5;21m_run\u001b[39m(\u001b[38;5;28mself\u001b[39m):\n\u001b[1;32m    507\u001b[0m     \u001b[38;5;66;03m# print(\"node_run: \", self.label, self.kwargs, self._func)\u001b[39;00m\n\u001b[0;32m--> 508\u001b[0m     \u001b[38;5;28;01mreturn\u001b[39;00m \u001b[38;5;28;43mself\u001b[39;49m\u001b[38;5;241;43m.\u001b[39;49m\u001b[43m_func\u001b[49m\u001b[43m(\u001b[49m\u001b[38;5;241;43m*\u001b[39;49m\u001b[38;5;241;43m*\u001b[39;49m\u001b[38;5;28;43mself\u001b[39;49m\u001b[38;5;241;43m.\u001b[39;49m\u001b[43mkwargs\u001b[49m\u001b[43m)\u001b[49m\n",
      "File \u001b[0;32m~/gitProjects/pyiron_core/pyiron_nodes/atomistic/engine/lammps.py:239\u001b[0m, in \u001b[0;36mPotential\u001b[0;34m(structure, name, index)\u001b[0m\n\u001b[1;32m    235\u001b[0m \u001b[38;5;129m@as_function_node\u001b[39m(\u001b[38;5;124m\"\u001b[39m\u001b[38;5;124mpotential\u001b[39m\u001b[38;5;124m\"\u001b[39m)\n\u001b[1;32m    236\u001b[0m \u001b[38;5;28;01mdef\u001b[39;00m \u001b[38;5;21mPotential\u001b[39m(structure, name: Optional[\u001b[38;5;28mstr\u001b[39m] \u001b[38;5;241m=\u001b[39m \u001b[38;5;28;01mNone\u001b[39;00m, index: \u001b[38;5;28mint\u001b[39m \u001b[38;5;241m=\u001b[39m \u001b[38;5;241m0\u001b[39m):\n\u001b[1;32m    237\u001b[0m     \u001b[38;5;28;01mfrom\u001b[39;00m \u001b[38;5;21;01mpyiron_atomistics\u001b[39;00m\u001b[38;5;21;01m.\u001b[39;00m\u001b[38;5;21;01mlammps\u001b[39;00m\u001b[38;5;21;01m.\u001b[39;00m\u001b[38;5;21;01mpotential\u001b[39;00m \u001b[38;5;28;01mimport\u001b[39;00m list_potentials \u001b[38;5;28;01mas\u001b[39;00m lp\n\u001b[0;32m--> 239\u001b[0m     potentials \u001b[38;5;241m=\u001b[39m \u001b[43mlp\u001b[49m\u001b[43m(\u001b[49m\u001b[43mstructure\u001b[49m\u001b[43m)\u001b[49m\n\u001b[1;32m    240\u001b[0m     \u001b[38;5;28;01mif\u001b[39;00m name \u001b[38;5;129;01mis\u001b[39;00m \u001b[38;5;28;01mNone\u001b[39;00m:\n\u001b[1;32m    241\u001b[0m         pot \u001b[38;5;241m=\u001b[39m potentials[index]\n",
      "File \u001b[0;32m~/mambaforge/envs/py12/lib/python3.12/site-packages/pyiron_atomistics/lammps/potential.py:360\u001b[0m, in \u001b[0;36mlist_potentials\u001b[0;34m(structure)\u001b[0m\n\u001b[1;32m    348\u001b[0m \u001b[38;5;28;01mdef\u001b[39;00m \u001b[38;5;21mlist_potentials\u001b[39m(structure: Atoms) \u001b[38;5;241m-\u001b[39m\u001b[38;5;241m>\u001b[39m List[\u001b[38;5;28mstr\u001b[39m]:\n\u001b[1;32m    349\u001b[0m \u001b[38;5;250m    \u001b[39m\u001b[38;5;124;03m\"\"\"\u001b[39;00m\n\u001b[1;32m    350\u001b[0m \u001b[38;5;124;03m    List of interatomic potentials suitable for the given atomic structure.\u001b[39;00m\n\u001b[1;32m    351\u001b[0m \n\u001b[0;32m   (...)\u001b[0m\n\u001b[1;32m    358\u001b[0m \u001b[38;5;124;03m        list: potential names\u001b[39;00m\n\u001b[1;32m    359\u001b[0m \u001b[38;5;124;03m    \"\"\"\u001b[39;00m\n\u001b[0;32m--> 360\u001b[0m     \u001b[38;5;28;01mreturn\u001b[39;00m \u001b[38;5;28mlist\u001b[39m(\u001b[43mview_potentials\u001b[49m\u001b[43m(\u001b[49m\u001b[43mstructure\u001b[49m\u001b[43m)\u001b[49m[\u001b[38;5;124m\"\u001b[39m\u001b[38;5;124mName\u001b[39m\u001b[38;5;124m\"\u001b[39m]\u001b[38;5;241m.\u001b[39mvalues)\n",
      "File \u001b[0;32m~/mambaforge/envs/py12/lib/python3.12/site-packages/pyiron_atomistics/lammps/potential.py:344\u001b[0m, in \u001b[0;36mview_potentials\u001b[0;34m(structure)\u001b[0m\n\u001b[1;32m    332\u001b[0m \u001b[38;5;28;01mdef\u001b[39;00m \u001b[38;5;21mview_potentials\u001b[39m(structure: Atoms) \u001b[38;5;241m-\u001b[39m\u001b[38;5;241m>\u001b[39m pd\u001b[38;5;241m.\u001b[39mDataFrame:\n\u001b[1;32m    333\u001b[0m \u001b[38;5;250m    \u001b[39m\u001b[38;5;124;03m\"\"\"\u001b[39;00m\n\u001b[1;32m    334\u001b[0m \u001b[38;5;124;03m    List all interatomic potentials for the given atomistic structure including all potential parameters.\u001b[39;00m\n\u001b[1;32m    335\u001b[0m \n\u001b[0;32m   (...)\u001b[0m\n\u001b[1;32m    342\u001b[0m \u001b[38;5;124;03m        pandas.Dataframe: Dataframe including all potential parameters.\u001b[39;00m\n\u001b[1;32m    343\u001b[0m \u001b[38;5;124;03m    \"\"\"\u001b[39;00m\n\u001b[0;32m--> 344\u001b[0m     list_of_elements \u001b[38;5;241m=\u001b[39m \u001b[38;5;28mset\u001b[39m(\u001b[43mstructure\u001b[49m\u001b[38;5;241;43m.\u001b[39;49m\u001b[43mget_chemical_symbols\u001b[49m())\n\u001b[1;32m    345\u001b[0m     \u001b[38;5;28;01mreturn\u001b[39;00m LammpsPotentialFile()\u001b[38;5;241m.\u001b[39mfind(list_of_elements)\n",
      "\u001b[0;31mAttributeError\u001b[0m: 'NoneType' object has no attribute 'get_chemical_symbols'"
     ]
    }
   ],
   "source": [
    "pf.graph.nodes['lammps'].node.run() #inputs.structure.value"
   ]
  },
  {
   "cell_type": "code",
   "execution_count": 28,
   "metadata": {},
   "outputs": [
    {
     "ename": "AttributeError",
     "evalue": "'NoneType' object has no attribute 'get_chemical_symbols'",
     "output_type": "error",
     "traceback": [
      "\u001b[0;31m---------------------------------------------------------------------------\u001b[0m",
      "\u001b[0;31mAttributeError\u001b[0m                            Traceback (most recent call last)",
      "Cell \u001b[0;32mIn[28], line 1\u001b[0m\n\u001b[0;32m----> 1\u001b[0m \u001b[43mpf\u001b[49m\u001b[38;5;241;43m.\u001b[39;49m\u001b[43mgraph\u001b[49m\u001b[38;5;241;43m.\u001b[39;49m\u001b[43mnodes\u001b[49m\u001b[43m[\u001b[49m\u001b[38;5;124;43m'\u001b[39;49m\u001b[38;5;124;43mlammps\u001b[39;49m\u001b[38;5;124;43m'\u001b[39;49m\u001b[43m]\u001b[49m\u001b[38;5;241;43m.\u001b[39;49m\u001b[43mnode\u001b[49m\u001b[38;5;241;43m.\u001b[39;49m\u001b[43mrun\u001b[49m\u001b[43m(\u001b[49m\u001b[43m)\u001b[49m\n",
      "File \u001b[0;32m~/gitProjects/pyiron_core/pyiron_workflow/simple_workflow.py:487\u001b[0m, in \u001b[0;36mNode.run\u001b[0;34m(self)\u001b[0m\n\u001b[1;32m    485\u001b[0m \u001b[38;5;28;01mdef\u001b[39;00m \u001b[38;5;21mrun\u001b[39m(\u001b[38;5;28mself\u001b[39m):\n\u001b[1;32m    486\u001b[0m     \u001b[38;5;28mself\u001b[39m\u001b[38;5;241m.\u001b[39m_validate_input()\n\u001b[0;32m--> 487\u001b[0m     out \u001b[38;5;241m=\u001b[39m \u001b[38;5;28;43mself\u001b[39;49m\u001b[38;5;241;43m.\u001b[39;49m\u001b[43m_run\u001b[49m\u001b[43m(\u001b[49m\u001b[43m)\u001b[49m\n\u001b[1;32m    488\u001b[0m     \u001b[38;5;28mself\u001b[39m\u001b[38;5;241m.\u001b[39m_run_set_values(out)\n\u001b[1;32m    490\u001b[0m     \u001b[38;5;28;01mreturn\u001b[39;00m out\n",
      "File \u001b[0;32m~/gitProjects/pyiron_core/pyiron_workflow/simple_workflow.py:803\u001b[0m, in \u001b[0;36m_return_as_macro_node.<locals>.run_macro\u001b[0;34m(self, wf_macro)\u001b[0m\n\u001b[1;32m    802\u001b[0m \u001b[38;5;28;01mdef\u001b[39;00m \u001b[38;5;21mrun_macro\u001b[39m(\u001b[38;5;28mself\u001b[39m, wf_macro):\n\u001b[0;32m--> 803\u001b[0m     wf_out \u001b[38;5;241m=\u001b[39m \u001b[43mwf_macro\u001b[49m\u001b[38;5;241;43m.\u001b[39;49m\u001b[43mrun\u001b[49m\u001b[43m(\u001b[49m\u001b[43m)\u001b[49m  \u001b[38;5;66;03m# run the workflow\u001b[39;00m\n\u001b[1;32m    804\u001b[0m     \u001b[38;5;28;01mreturn\u001b[39;00m wf_out\n",
      "File \u001b[0;32m~/gitProjects/pyiron_core/pyiron_workflow/simple_workflow.py:961\u001b[0m, in \u001b[0;36mWorkflow.run\u001b[0;34m(self, debug)\u001b[0m\n\u001b[1;32m    960\u001b[0m \u001b[38;5;28;01mdef\u001b[39;00m \u001b[38;5;21mrun\u001b[39m(\u001b[38;5;28mself\u001b[39m, debug\u001b[38;5;241m=\u001b[39m\u001b[38;5;28;01mFalse\u001b[39;00m):\n\u001b[0;32m--> 961\u001b[0m     \u001b[38;5;28;01mreturn\u001b[39;00m \u001b[43mwf_graph_tools\u001b[49m\u001b[38;5;241;43m.\u001b[39;49m\u001b[43mrun_wf\u001b[49m\u001b[43m(\u001b[49m\u001b[38;5;28;43mself\u001b[39;49m\u001b[43m,\u001b[49m\u001b[43m \u001b[49m\u001b[43mdebug\u001b[49m\u001b[38;5;241;43m=\u001b[39;49m\u001b[43mdebug\u001b[49m\u001b[43m)\u001b[49m\n",
      "File \u001b[0;32m~/gitProjects/pyiron_core/pyiron_workflow/wf_graph_tools.py:403\u001b[0m, in \u001b[0;36mrun_wf\u001b[0;34m(wf, debug)\u001b[0m\n\u001b[1;32m    401\u001b[0m         \u001b[38;5;28;01mif\u001b[39;00m debug:\n\u001b[1;32m    402\u001b[0m             \u001b[38;5;28mprint\u001b[39m(\u001b[38;5;124mf\u001b[39m\u001b[38;5;124m\"\u001b[39m\u001b[38;5;124mrunning node \u001b[39m\u001b[38;5;132;01m{\u001b[39;00mnode[\u001b[38;5;241m0\u001b[39m]\u001b[38;5;132;01m}\u001b[39;00m\u001b[38;5;124m\"\u001b[39m)\n\u001b[0;32m--> 403\u001b[0m         out \u001b[38;5;241m=\u001b[39m \u001b[43mwf\u001b[49m\u001b[38;5;241;43m.\u001b[39;49m\u001b[43m_nodes\u001b[49m\u001b[43m[\u001b[49m\u001b[43mnode\u001b[49m\u001b[43m[\u001b[49m\u001b[38;5;241;43m0\u001b[39;49m\u001b[43m]\u001b[49m\u001b[43m]\u001b[49m\u001b[38;5;241;43m.\u001b[39;49m\u001b[43mrun\u001b[49m\u001b[43m(\u001b[49m\u001b[43m)\u001b[49m\n\u001b[1;32m    405\u001b[0m \u001b[38;5;28;01mreturn\u001b[39;00m out\n",
      "File \u001b[0;32m~/gitProjects/pyiron_core/pyiron_workflow/simple_workflow.py:487\u001b[0m, in \u001b[0;36mNode.run\u001b[0;34m(self)\u001b[0m\n\u001b[1;32m    485\u001b[0m \u001b[38;5;28;01mdef\u001b[39;00m \u001b[38;5;21mrun\u001b[39m(\u001b[38;5;28mself\u001b[39m):\n\u001b[1;32m    486\u001b[0m     \u001b[38;5;28mself\u001b[39m\u001b[38;5;241m.\u001b[39m_validate_input()\n\u001b[0;32m--> 487\u001b[0m     out \u001b[38;5;241m=\u001b[39m \u001b[38;5;28;43mself\u001b[39;49m\u001b[38;5;241;43m.\u001b[39;49m\u001b[43m_run\u001b[49m\u001b[43m(\u001b[49m\u001b[43m)\u001b[49m\n\u001b[1;32m    488\u001b[0m     \u001b[38;5;28mself\u001b[39m\u001b[38;5;241m.\u001b[39m_run_set_values(out)\n\u001b[1;32m    490\u001b[0m     \u001b[38;5;28;01mreturn\u001b[39;00m out\n",
      "File \u001b[0;32m~/gitProjects/pyiron_core/pyiron_workflow/simple_workflow.py:508\u001b[0m, in \u001b[0;36mNode._run\u001b[0;34m(self)\u001b[0m\n\u001b[1;32m    506\u001b[0m \u001b[38;5;28;01mdef\u001b[39;00m \u001b[38;5;21m_run\u001b[39m(\u001b[38;5;28mself\u001b[39m):\n\u001b[1;32m    507\u001b[0m     \u001b[38;5;66;03m# print(\"node_run: \", self.label, self.kwargs, self._func)\u001b[39;00m\n\u001b[0;32m--> 508\u001b[0m     \u001b[38;5;28;01mreturn\u001b[39;00m \u001b[38;5;28;43mself\u001b[39;49m\u001b[38;5;241;43m.\u001b[39;49m\u001b[43m_func\u001b[49m\u001b[43m(\u001b[49m\u001b[38;5;241;43m*\u001b[39;49m\u001b[38;5;241;43m*\u001b[39;49m\u001b[38;5;28;43mself\u001b[39;49m\u001b[38;5;241;43m.\u001b[39;49m\u001b[43mkwargs\u001b[49m\u001b[43m)\u001b[49m\n",
      "File \u001b[0;32m~/gitProjects/pyiron_core/pyiron_nodes/atomistic/engine/lammps.py:239\u001b[0m, in \u001b[0;36mPotential\u001b[0;34m(structure, name, index)\u001b[0m\n\u001b[1;32m    235\u001b[0m \u001b[38;5;129m@as_function_node\u001b[39m(\u001b[38;5;124m\"\u001b[39m\u001b[38;5;124mpotential\u001b[39m\u001b[38;5;124m\"\u001b[39m)\n\u001b[1;32m    236\u001b[0m \u001b[38;5;28;01mdef\u001b[39;00m \u001b[38;5;21mPotential\u001b[39m(structure, name: Optional[\u001b[38;5;28mstr\u001b[39m] \u001b[38;5;241m=\u001b[39m \u001b[38;5;28;01mNone\u001b[39;00m, index: \u001b[38;5;28mint\u001b[39m \u001b[38;5;241m=\u001b[39m \u001b[38;5;241m0\u001b[39m):\n\u001b[1;32m    237\u001b[0m     \u001b[38;5;28;01mfrom\u001b[39;00m \u001b[38;5;21;01mpyiron_atomistics\u001b[39;00m\u001b[38;5;21;01m.\u001b[39;00m\u001b[38;5;21;01mlammps\u001b[39;00m\u001b[38;5;21;01m.\u001b[39;00m\u001b[38;5;21;01mpotential\u001b[39;00m \u001b[38;5;28;01mimport\u001b[39;00m list_potentials \u001b[38;5;28;01mas\u001b[39;00m lp\n\u001b[0;32m--> 239\u001b[0m     potentials \u001b[38;5;241m=\u001b[39m \u001b[43mlp\u001b[49m\u001b[43m(\u001b[49m\u001b[43mstructure\u001b[49m\u001b[43m)\u001b[49m\n\u001b[1;32m    240\u001b[0m     \u001b[38;5;28;01mif\u001b[39;00m name \u001b[38;5;129;01mis\u001b[39;00m \u001b[38;5;28;01mNone\u001b[39;00m:\n\u001b[1;32m    241\u001b[0m         pot \u001b[38;5;241m=\u001b[39m potentials[index]\n",
      "File \u001b[0;32m~/mambaforge/envs/py12/lib/python3.12/site-packages/pyiron_atomistics/lammps/potential.py:360\u001b[0m, in \u001b[0;36mlist_potentials\u001b[0;34m(structure)\u001b[0m\n\u001b[1;32m    348\u001b[0m \u001b[38;5;28;01mdef\u001b[39;00m \u001b[38;5;21mlist_potentials\u001b[39m(structure: Atoms) \u001b[38;5;241m-\u001b[39m\u001b[38;5;241m>\u001b[39m List[\u001b[38;5;28mstr\u001b[39m]:\n\u001b[1;32m    349\u001b[0m \u001b[38;5;250m    \u001b[39m\u001b[38;5;124;03m\"\"\"\u001b[39;00m\n\u001b[1;32m    350\u001b[0m \u001b[38;5;124;03m    List of interatomic potentials suitable for the given atomic structure.\u001b[39;00m\n\u001b[1;32m    351\u001b[0m \n\u001b[0;32m   (...)\u001b[0m\n\u001b[1;32m    358\u001b[0m \u001b[38;5;124;03m        list: potential names\u001b[39;00m\n\u001b[1;32m    359\u001b[0m \u001b[38;5;124;03m    \"\"\"\u001b[39;00m\n\u001b[0;32m--> 360\u001b[0m     \u001b[38;5;28;01mreturn\u001b[39;00m \u001b[38;5;28mlist\u001b[39m(\u001b[43mview_potentials\u001b[49m\u001b[43m(\u001b[49m\u001b[43mstructure\u001b[49m\u001b[43m)\u001b[49m[\u001b[38;5;124m\"\u001b[39m\u001b[38;5;124mName\u001b[39m\u001b[38;5;124m\"\u001b[39m]\u001b[38;5;241m.\u001b[39mvalues)\n",
      "File \u001b[0;32m~/mambaforge/envs/py12/lib/python3.12/site-packages/pyiron_atomistics/lammps/potential.py:344\u001b[0m, in \u001b[0;36mview_potentials\u001b[0;34m(structure)\u001b[0m\n\u001b[1;32m    332\u001b[0m \u001b[38;5;28;01mdef\u001b[39;00m \u001b[38;5;21mview_potentials\u001b[39m(structure: Atoms) \u001b[38;5;241m-\u001b[39m\u001b[38;5;241m>\u001b[39m pd\u001b[38;5;241m.\u001b[39mDataFrame:\n\u001b[1;32m    333\u001b[0m \u001b[38;5;250m    \u001b[39m\u001b[38;5;124;03m\"\"\"\u001b[39;00m\n\u001b[1;32m    334\u001b[0m \u001b[38;5;124;03m    List all interatomic potentials for the given atomistic structure including all potential parameters.\u001b[39;00m\n\u001b[1;32m    335\u001b[0m \n\u001b[0;32m   (...)\u001b[0m\n\u001b[1;32m    342\u001b[0m \u001b[38;5;124;03m        pandas.Dataframe: Dataframe including all potential parameters.\u001b[39;00m\n\u001b[1;32m    343\u001b[0m \u001b[38;5;124;03m    \"\"\"\u001b[39;00m\n\u001b[0;32m--> 344\u001b[0m     list_of_elements \u001b[38;5;241m=\u001b[39m \u001b[38;5;28mset\u001b[39m(\u001b[43mstructure\u001b[49m\u001b[38;5;241;43m.\u001b[39;49m\u001b[43mget_chemical_symbols\u001b[49m())\n\u001b[1;32m    345\u001b[0m     \u001b[38;5;28;01mreturn\u001b[39;00m LammpsPotentialFile()\u001b[38;5;241m.\u001b[39mfind(list_of_elements)\n",
      "\u001b[0;31mAttributeError\u001b[0m: 'NoneType' object has no attribute 'get_chemical_symbols'"
     ]
    }
   ],
   "source": [
    "pf.graph.nodes['lammps'].node.run()"
   ]
  },
  {
   "cell_type": "code",
   "execution_count": null,
   "metadata": {},
   "outputs": [],
   "source": [
    "base._graph_to_gui(sub_graph)"
   ]
  },
  {
   "cell_type": "code",
   "execution_count": null,
   "metadata": {},
   "outputs": [],
   "source": [
    "def Subgraph(structure, ):\n",
    "\n",
    "    from pyiron_workflow import Workflow\n",
    "    import pyiron_nodes\n",
    "\n",
    "    wf = Workflow('subgraph')\n",
    "\n",
    "    wf.Repeat = pyiron_nodes.atomistic.structure.transform.Repeat(structure=structure) \n",
    "    wf.Repeat_2 = pyiron_nodes.atomistic.structure.transform.Repeat(structure=wf.Repeat) \n",
    "    wf.Plot3d = pyiron_nodes.atomistic.structure.view.Plot3d(structure=structure) \n",
    "\n",
    "    return wf.Repeat_2\n",
    "\n",
    "structure = pn.atomistic.structure.build.Bulk(\"Al\", cubic=True).run()\n",
    "Subgraph(structure=structure).pull()"
   ]
  },
  {
   "cell_type": "code",
   "execution_count": null,
   "metadata": {},
   "outputs": [],
   "source": [
    "def my_func(structure=None, repeat_scalar=1):\n",
    "    from pyiron_workflow import Workflow\n",
    "    import pyiron_nodes\n",
    "\n",
    "    wf = Workflow(\"subgraph\")\n",
    "\n",
    "    # wf.va_i_subgraph__structure = __main__.InputNode()\n",
    "    wf.Repeat = pyiron_nodes.atomistic.structure.transform.Repeat(structure=structure, repeat_scalar=repeat_scalar)\n",
    "    wf.Repeat_2 = pyiron_nodes.atomistic.structure.transform.Repeat(structure=wf.Repeat)\n",
    "    wf.Plot3d = pyiron_nodes.atomistic.structure.view.Plot3d(structure=structure)\n",
    "\n",
    "    return wf.Repeat_2.pull()\n",
    "   \n",
    "structure = pn.atomistic.structure.build.Bulk(\"Al\", cubic=True).run()\n",
    "my_func(structure=structure, repeat_scalar=2);\n"
   ]
  },
  {
   "cell_type": "code",
   "execution_count": null,
   "metadata": {},
   "outputs": [],
   "source": [
    "structure = pn.atomistic.structure.build.Bulk(\"Al\", cubic=True).run()\n",
    "import pyiron_nodes\n",
    "\n",
    "wf = Workflow(\"subgraph\")\n",
    "\n",
    "# wf.va_i_subgraph__structure = __main__.InputNode()\n",
    "wf.Repeat = pyiron_nodes.atomistic.structure.transform.Repeat(structure=structure)\n",
    "wf.Repeat_2 = pyiron_nodes.atomistic.structure.transform.Repeat(structure=wf.Repeat, repeat_scalar=1)\n",
    "wf.Plot3d = pyiron_nodes.atomistic.structure.view.Plot3d(structure=structure)\n",
    "\n",
    "wf.run()\n"
   ]
  },
  {
   "cell_type": "markdown",
   "metadata": {},
   "source": [
    "## From Graph"
   ]
  },
  {
   "cell_type": "code",
   "execution_count": null,
   "metadata": {},
   "outputs": [],
   "source": [
    "import pyiron_nodes as pn\n",
    "\n",
    "\n",
    "@as_function_node\n",
    "def InputNode(structure=None):\n",
    "    return structure\n",
    "\n",
    "\n",
    "@as_function_node\n",
    "def OutputNode(structure=None):\n",
    "    return structure\n",
    "\n",
    "InputStructure = \"va_i_subgraph__structure\"\n",
    "OutputStructure = \"va_o_subgraph__structure\"\n",
    "\n",
    "sub_graph = base.Graph(label=\"subgraph\")\n",
    "sub_graph += InputNode(label=InputStructure)\n",
    "#sub_graph += pn.atomistic.structure.transform.Repeat(label=\"Repeat\")\n",
    "#sub_graph += pn.atomistic.structure.transform.Repeat(label=\"Repeat_2\")\n",
    "#sub_graph += pn.atomistic.structure.view.Plot3d(label=\"Plot3d\")\n",
    "sub_graph += OutputNode(label=OutputStructure)\n",
    "\n",
    "#sub_graph += base.GraphEdge(\"Repeat\", \"Repeat_2\", \"structure\", \"structure\")\n",
    "#sub_graph += base.GraphEdge(InputStructure, \"Repeat\", \"structure\", \"structure\")\n",
    "#sub_graph += base.GraphEdge(InputStructure, \"Plot3d\", \"structure\", \"structure\")\n",
    "#sub_graph += base.GraphEdge(\"Repeat_2\", OutputStructure, \"structure\", \"structure\")\n",
    "\n",
    "graph = base.Graph(label=\"Workflow\")\n",
    "graph += pn.atomistic.structure.build.Bulk(name=\"Al\", label=\"structure\")\n",
    "graph += pn.atomistic.structure.transform.Repeat(label=\"repeat\")\n",
    "graph += sub_graph\n",
    "graph.nodes[\"subgraph\"].expanded = False\n",
    "graph.nodes[\"subgraph\"].node = base.graph_to_node(sub_graph)\n",
    "\n",
    "graph += pn.atomistic.structure.view.Plot3d(label=\"plot\")\n",
    "\n",
    "graph += base.GraphEdge(\"structure\", \"repeat\", \"structure\", \"structure\")\n",
    "graph += base.GraphEdge(OutputStructure, \"plot\", \"structure\", \"structure\")\n",
    "graph += base.GraphEdge(\"repeat\", InputStructure, \"structure\", \"structure\")\n",
    "# graph += base.GraphEdge(\"subgraph\", \"plot\", \"structure\", \"structure\")\n",
    "# graph += base.GraphEdge(\"repeat\", \"subgraph\", \"structure\", \"structure\")\n",
    "\n",
    "graph = base.remove_node(graph, \"Repeat\")\n",
    "graph = base.remove_node(graph, \"Repeat_2\")\n",
    "\n",
    "\n",
    "base.GuiGraph(graph);"
   ]
  },
  {
   "cell_type": "code",
   "execution_count": null,
   "metadata": {},
   "outputs": [],
   "source": [
    "sub_graph = base.Graph(label=\"subgraph\")\n",
    "sub_graph += pn.atomistic.structure.build.Bulk(label='Bulk', name='Al')\n",
    "sub_graph += pn.atomistic.structure.transform.Repeat(label=\"Repeat\", repeat_scalar=2)\n",
    "sub_graph += pn.atomistic.structure.transform.Repeat(label=\"Repeat_2\")\n",
    "sub_graph += pn.atomistic.structure.view.Plot3d(label=\"Plot3d\")\n",
    "# sub_graph += OutputNode(label=OutputStructure)\n",
    "\n",
    "sub_graph += base.GraphEdge(\"Repeat\", \"Repeat_2\", \"structure\", \"structure\")\n",
    "sub_graph += base.GraphEdge(\"Bulk\", \"Repeat\", \"structure\", \"structure\")\n",
    "sub_graph += base.GraphEdge(\"Bulk\", \"Plot3d\", \"structure\", \"structure\")\n",
    "# sub_graph += base.GraphEdge(\"Repeat_2\", OutputStructure, \"structure\", \"structure\")\n",
    "\n",
    "# sub_graph = base.update_execution_graph(sub_graph)\n",
    "\n",
    "graph = base.Graph(label=\"Workflow\")\n",
    "graph += pn.atomistic.structure.build.Bulk(name=\"Al\", label=\"structure\")\n",
    "graph += pn.atomistic.structure.transform.Repeat(label=\"repeat\")\n",
    "# graph += base.graph_to_node(sub_graph)\n",
    "graph += sub_graph \n",
    "graph.nodes[\"subgraph\"].expanded = False\n",
    "graph.nodes[\"subgraph\"].node = base.graph_to_node(sub_graph)\n",
    "\n",
    "graph += pn.atomistic.structure.view.Plot3d(label=\"plot\")\n",
    "\n",
    "graph += base.GraphEdge(\"structure\", \"repeat\", \"structure\", \"structure\")\n",
    "# graph += base.GraphEdge(OutputStructure, \"plot\", \"structure\", \"structure\")\n",
    "# graph += base.GraphEdge(\"repeat\", InputStructure, \"structure\", \"structure\")\n",
    "\n",
    "base.get_inputs_of_graph(sub_graph, exclude_unconnected_default_ports=True)\n",
    "base.GuiGraph(graph)"
   ]
  },
  {
   "cell_type": "code",
   "execution_count": null,
   "metadata": {},
   "outputs": [],
   "source": [
    "node = base.graph_to_node(sub_graph)\n",
    "node.inputs.repeat_scalar = 1\n",
    "node.inputs\n",
    "\n",
    "node.run()"
   ]
  },
  {
   "cell_type": "code",
   "execution_count": null,
   "metadata": {},
   "outputs": [],
   "source": [
    "graph.nodes[\"subgraph\"].expanded = True\n",
    "graph.nodes"
   ]
  },
  {
   "cell_type": "code",
   "execution_count": null,
   "metadata": {},
   "outputs": [],
   "source": [
    "xx"
   ]
  },
  {
   "cell_type": "code",
   "execution_count": null,
   "metadata": {},
   "outputs": [],
   "source": [
    "print(graph.nodes[\"subgraph\"].expanded)\n",
    "# Collapse a node\n",
    "collapsed_graph = base.collapse_node(graph, \"subgraph\")\n",
    "\n",
    "# Expand a node\n",
    "expanded_graph = base._expand_node(graph, \"subgraph\")\n",
    "print(graph.nodes[\"subgraph\"].expanded)\n"
   ]
  },
  {
   "cell_type": "code",
   "execution_count": null,
   "metadata": {},
   "outputs": [],
   "source": [
    "graph.label"
   ]
  },
  {
   "cell_type": "code",
   "execution_count": null,
   "metadata": {},
   "outputs": [],
   "source": [
    "pf = gui.PyironFlow([graph])\n",
    "pf.gui"
   ]
  },
  {
   "cell_type": "code",
   "execution_count": null,
   "metadata": {},
   "outputs": [],
   "source": [
    "base.GuiGraph(collapsed_graph);"
   ]
  },
  {
   "cell_type": "code",
   "execution_count": null,
   "metadata": {},
   "outputs": [],
   "source": [
    "graph.nodes[\"subgraph\"].node.__getstate__() # correct function has to be constructed and stored in the node!"
   ]
  },
  {
   "cell_type": "markdown",
   "metadata": {},
   "source": [
    "## From workflow"
   ]
  },
  {
   "cell_type": "code",
   "execution_count": null,
   "metadata": {},
   "outputs": [],
   "source": [
    "wf = Workflow('lammps_full')\n",
    "\n",
    "# wf.structure = pn.atomistic.structure.build.Bulk('Al', cubic=True)\n",
    "wf.lammps = pn.atomistic.engine.lammps.Code1() # structure=wf.structure)\n",
    "# wf.md_output = pn.atomistic.calculator.data.OutputCalcMD(dataclass=wf.lammps.outputs.generic)"
   ]
  },
  {
   "cell_type": "code",
   "execution_count": null,
   "metadata": {},
   "outputs": [],
   "source": [
    "graph = base.Graph(label='test')\n",
    "graph += pn.atomistic.engine.lammps.Code1()\n",
    "graph.nodes[\"Code1\"].expanded = False\n",
    "\n",
    "base.GuiGraph(graph)\n",
    "                   "
   ]
  },
  {
   "cell_type": "code",
   "execution_count": null,
   "metadata": {},
   "outputs": [],
   "source": [
    "# graph.nodes['Code1'].graph"
   ]
  },
  {
   "cell_type": "code",
   "execution_count": null,
   "metadata": {},
   "outputs": [],
   "source": [
    "graph = base.get_full_graph_from_wf(wf)\n"
   ]
  },
  {
   "cell_type": "code",
   "execution_count": null,
   "metadata": {},
   "outputs": [],
   "source": [
    "base.get_import_path_from_type(pn.atomistic.engine.lammps.Code1)"
   ]
  },
  {
   "cell_type": "code",
   "execution_count": null,
   "metadata": {},
   "outputs": [],
   "source": [
    "# wf = Workflow(\"flow\")\n",
    "# wf.LoadGraph = pn.graphs.flow.LoadGraph('lammps_full')\n",
    "# wf.DisplayNodes = pn.graphs.flow.DisplayNodes(graph=wf.LoadGraph)\n",
    "# wf.DisplayNodes.pull()\n",
    "\n",
    "# graph = base.get_full_graph_from_wf(wf)"
   ]
  },
  {
   "cell_type": "code",
   "execution_count": null,
   "metadata": {},
   "outputs": [],
   "source": [
    "# base.GuiGraph(pf.graph)"
   ]
  },
  {
   "cell_type": "code",
   "execution_count": null,
   "metadata": {},
   "outputs": [],
   "source": [
    "pf = gui.PyironFlow([wf, 'flow_expand', 'edges'])\n",
    "pf.gui"
   ]
  },
  {
   "cell_type": "code",
   "execution_count": null,
   "metadata": {},
   "outputs": [],
   "source": [
    "from pyiron_workflow import as_macro_node"
   ]
  },
  {
   "cell_type": "code",
   "execution_count": null,
   "metadata": {},
   "outputs": [],
   "source": [
    "graph = base.Graph('test')\n",
    "graph += pf.graph.nodes['Repeat']\n",
    "\n",
    "pf.graph.nodes['Repeat'].node.outputs.structure"
   ]
  },
  {
   "cell_type": "code",
   "execution_count": null,
   "metadata": {},
   "outputs": [],
   "source": [
    "base.get_inputs_of_graph(pf.graph, exclude_unconnected_default_ports=True) "
   ]
  },
  {
   "cell_type": "code",
   "execution_count": null,
   "metadata": {},
   "outputs": [],
   "source": [
    "base.get_inputs_of_graph(graph, exclude_unconnected_default_ports=False)"
   ]
  },
  {
   "cell_type": "code",
   "execution_count": null,
   "metadata": {},
   "outputs": [],
   "source": [
    "base.get_outputs_of_graph(pf.graph)"
   ]
  },
  {
   "cell_type": "code",
   "execution_count": null,
   "metadata": {},
   "outputs": [],
   "source": [
    "print(base.graph_to_code(pf.graph))"
   ]
  },
  {
   "cell_type": "code",
   "execution_count": null,
   "metadata": {},
   "outputs": [],
   "source": [
    "node = base.graph_to_node(pf.graph, exclude_unconnected_default_ports=False)\n",
    "node.inputs.repeat_scalar = 1\n",
    "node.run()\n",
    "node.inputs"
   ]
  },
  {
   "cell_type": "code",
   "execution_count": null,
   "metadata": {},
   "outputs": [],
   "source": [
    "import inspect\n",
    "\n",
    "inspect.getsource(node._func)"
   ]
  },
  {
   "cell_type": "code",
   "execution_count": null,
   "metadata": {},
   "outputs": [],
   "source": [
    "import types\n",
    "from functools import partial\n",
    "\n",
    "def graph_to_code(graph):\n",
    "    graph = base.get_updated_graph(graph)\n",
    "    graph = base.topological_sort(graph)\n",
    "    graph = base.get_code_from_graph(graph)\n",
    "    return graph\n",
    "\n",
    "\n",
    "def graph_to_node(graph: base.Graph, exclude_unconnected_default_ports=True) -> base.Node:\n",
    "    \n",
    "    function_string = graph_to_code(graph)\n",
    "    \n",
    "    # Create a dictionary to serve as the local namespace\n",
    "    virtual_namespace = {}\n",
    "    \n",
    "    # Execute the function string in the local namespace\n",
    "    exec(function_string, globals(), virtual_namespace)\n",
    "    \n",
    "    # Retrieve the function from the local namespace\n",
    "    func = virtual_namespace[graph.label]\n",
    "\n",
    "    node = base.Node(\n",
    "        func=func,\n",
    "        label=graph.label,\n",
    "        node_type=\"graph\",\n",
    "        inputs=base.get_inputs_of_graph(graph, exclude_unconnected_default_ports=True),\n",
    "        outputs=base.get_outputs_of_graph(graph),\n",
    "    )\n",
    "    node.label = graph.label  # should not be necessary\n",
    "\n",
    "\n",
    "    def _run(node):\n",
    "        port = func(**node.kwargs)\n",
    "\n",
    "        return port.node._workflow.run()\n",
    "    \n",
    "    node._run = types.MethodType(_run, node)\n",
    "\n",
    "    return node\n",
    "\n",
    "\n",
    "\n",
    "node = graph_to_node(pf.graph)\n",
    "node.inputs.repeat_scalar = 1\n",
    "\n",
    "node.run()\n",
    "node.outputs.structure.value"
   ]
  },
  {
   "cell_type": "code",
   "execution_count": null,
   "metadata": {},
   "outputs": [],
   "source": [
    "\n",
    "\n",
    "function_string = graph_to_code(pf.graph)\n",
    "\n",
    "# Create a dictionary to serve as the local namespace\n",
    "virtual_namespace = {}\n",
    "\n",
    "# Execute the function string in the local namespace\n",
    "exec(function_string, globals(), virtual_namespace)\n",
    "\n",
    "# Retrieve the function from the local namespace\n",
    "func = virtual_namespace['Workflow_3']\n",
    "\n",
    "port = func(name='Fe', repeat_scalar=2)\n",
    "port.node._workflow.run()"
   ]
  },
  {
   "cell_type": "code",
   "execution_count": null,
   "metadata": {},
   "outputs": [],
   "source": [
    "# Define the function as a string\n",
    "function_string = \"\"\"\n",
    "def Workflow_3(name: str, cubic: bool = False, repeat_scalar: int = 1):\n",
    "\n",
    "    from pyiron_workflow import Workflow\n",
    "    import pyiron_nodes\n",
    "\n",
    "    wf = Workflow('Workflow_3')\n",
    "\n",
    "    wf.Bulk = pyiron_nodes.atomistic.structure.build.Bulk(name=name, cubic=cubic) \n",
    "    wf.Repeat = pyiron_nodes.atomistic.structure.transform.Repeat(structure=wf.Bulk, repeat_scalar=repeat_scalar) \n",
    "\n",
    "    return wf.Repeat.outputs.structure\n",
    "\"\"\"\n",
    "\n",
    "# Create a dictionary to serve as the local namespace\n",
    "virtual_namespace = {}\n",
    "\n",
    "# Execute the function string in the local namespace\n",
    "exec(function_string, globals(), virtual_namespace)\n",
    "\n",
    "# Retrieve the function from the local namespace\n",
    "func = virtual_namespace['Workflow_3']\n",
    "\n",
    "port = func(name='Fe', repeat_scalar=2)\n",
    "port.node._workflow.run()"
   ]
  },
  {
   "cell_type": "code",
   "execution_count": null,
   "metadata": {},
   "outputs": [],
   "source": []
  },
  {
   "cell_type": "code",
   "execution_count": null,
   "metadata": {},
   "outputs": [],
   "source": [
    "port.label"
   ]
  },
  {
   "cell_type": "code",
   "execution_count": null,
   "metadata": {},
   "outputs": [],
   "source": [
    "virtual_namespace"
   ]
  },
  {
   "cell_type": "code",
   "execution_count": null,
   "metadata": {},
   "outputs": [],
   "source": [
    "xx"
   ]
  },
  {
   "cell_type": "code",
   "execution_count": null,
   "metadata": {},
   "outputs": [],
   "source": [
    "label = 'lammps'\n",
    "print(graph.nodes[label].expanded)\n",
    "# Collapse a node\n",
    "collapsed_graph = base.collapse_node(graph, label)\n",
    "print(graph.nodes[label].expanded)\n",
    "\n",
    "# Expand a node\n",
    "expanded_graph = base.expand_node(graph, label)\n",
    "print(graph.nodes[label].expanded)"
   ]
  },
  {
   "cell_type": "code",
   "execution_count": null,
   "metadata": {},
   "outputs": [],
   "source": [
    "collapsed_graph.edges"
   ]
  },
  {
   "cell_type": "code",
   "execution_count": null,
   "metadata": {},
   "outputs": [],
   "source": [
    "base.GuiGraph(collapsed_graph)"
   ]
  },
  {
   "cell_type": "code",
   "execution_count": null,
   "metadata": {},
   "outputs": [],
   "source": [
    "base.GuiGraph(expanded_graph)"
   ]
  },
  {
   "cell_type": "code",
   "execution_count": null,
   "metadata": {},
   "outputs": [],
   "source": [
    "base.GuiGraph(graph)"
   ]
  },
  {
   "cell_type": "code",
   "execution_count": null,
   "metadata": {},
   "outputs": [],
   "source": [
    "graph.nodes"
   ]
  },
  {
   "cell_type": "code",
   "execution_count": null,
   "metadata": {},
   "outputs": [],
   "source": [
    "collapsed_graph.nodes"
   ]
  },
  {
   "cell_type": "code",
   "execution_count": null,
   "metadata": {},
   "outputs": [],
   "source": [
    "graph.nodes['lammps'].expanded = False\n",
    "\n",
    "u_graph = base.get_updated_graph(graph)\n",
    "\n",
    "graph.nodes['lammps'].expanded \n",
    "\n"
   ]
  },
  {
   "cell_type": "code",
   "execution_count": null,
   "metadata": {},
   "outputs": [],
   "source": [
    "base.GuiGraph(u_graph)"
   ]
  },
  {
   "cell_type": "code",
   "execution_count": null,
   "metadata": {},
   "outputs": [],
   "source": []
  }
 ],
 "metadata": {
  "kernelspec": {
   "display_name": "Python 3 (ipykernel)",
   "language": "python",
   "name": "python3"
  },
  "language_info": {
   "codemirror_mode": {
    "name": "ipython",
    "version": 3
   },
   "file_extension": ".py",
   "mimetype": "text/x-python",
   "name": "python",
   "nbconvert_exporter": "python",
   "pygments_lexer": "ipython3",
   "version": "3.12.4"
  }
 },
 "nbformat": 4,
 "nbformat_minor": 4
}
