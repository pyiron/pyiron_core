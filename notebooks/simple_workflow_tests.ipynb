{
 "cells": [
  {
   "cell_type": "markdown",
   "metadata": {},
   "source": [
    "# Test simple workflow implementation"
   ]
  },
  {
   "cell_type": "markdown",
   "metadata": {},
   "source": [
    "### DotDict"
   ]
  },
  {
   "cell_type": "code",
   "execution_count": 1,
   "metadata": {},
   "outputs": [
    {
     "data": {
      "text/plain": [
       "['/Users/joerg/git_libs/pyiron_core',\n",
       " '/Users/joerg/git_libs/pyiron_nodes',\n",
       " '/Users/joerg/git_libs/pyiron_workflow',\n",
       " '/Users/joerg/git_libs/ironflow',\n",
       " '/Users/joerg/git_libs/pyiron_core/notebooks',\n",
       " '/Users/joerg/miniforge3/envs/py12/lib/python312.zip',\n",
       " '/Users/joerg/miniforge3/envs/py12/lib/python3.12',\n",
       " '/Users/joerg/miniforge3/envs/py12/lib/python3.12/lib-dynload',\n",
       " '',\n",
       " '/Users/joerg/miniforge3/envs/py12/lib/python3.12/site-packages']"
      ]
     },
     "execution_count": 1,
     "metadata": {},
     "output_type": "execute_result"
    }
   ],
   "source": [
    "import sys\n",
    "sys.path.insert(0, '/Users/joerg/git_libs/pyiron_core')\n",
    "sys.path"
   ]
  },
  {
   "cell_type": "code",
   "execution_count": 2,
   "metadata": {},
   "outputs": [
    {
     "ename": "SyntaxError",
     "evalue": "'(' was never closed (simple_workflow.py, line 715)",
     "output_type": "error",
     "traceback": [
      "Traceback \u001b[0;36m(most recent call last)\u001b[0m:\n",
      "\u001b[0m  File \u001b[1;32m~/miniforge3/envs/py12/lib/python3.12/site-packages/IPython/core/interactiveshell.py:3577\u001b[0m in \u001b[1;35mrun_code\u001b[0m\n    exec(code_obj, self.user_global_ns, self.user_ns)\u001b[0m\n",
      "\u001b[0m  Cell \u001b[1;32mIn[2], line 1\u001b[0m\n    from pyiron_workflow.simple_workflow import DotDict\u001b[0m\n",
      "\u001b[0;36m  File \u001b[0;32m~/git_libs/pyiron_core/pyiron_workflow/__init__.py:5\u001b[0;36m\n\u001b[0;31m    from pyiron_workflow import simple_workflow\u001b[0;36m\n",
      "\u001b[0;36m  File \u001b[0;32m~/git_libs/pyiron_core/pyiron_workflow/simple_workflow.py:715\u001b[0;36m\u001b[0m\n\u001b[0;31m    print('func_dataclass: ', func(), is_dataclass(func()),\u001b[0m\n\u001b[0m         ^\u001b[0m\n\u001b[0;31mSyntaxError\u001b[0m\u001b[0;31m:\u001b[0m '(' was never closed\n"
     ]
    }
   ],
   "source": [
    "from pyiron_workflow.simple_workflow import DotDict\n",
    "\n",
    "my_dict = DotDict(item_type=str)\n",
    "my_dict.add_key(\"a\", \"abs\")\n",
    "my_dict.add_key(\"c\", \"abs\")\n",
    "my_dict[\"f\"] = \"gh\"\n",
    "del my_dict[\"a\"]\n",
    "my_dict.keys()\n",
    "try:\n",
    "    my_dict.d = 10\n",
    "except TypeError as e:\n",
    "    print(\"Error: \", e)\n",
    "print(my_dict.keys())\n",
    "print(my_dict[\"f\"])"
   ]
  },
  {
   "cell_type": "markdown",
   "metadata": {},
   "source": []
  },
  {
   "cell_type": "markdown",
   "metadata": {},
   "source": [
    "### Analyze function"
   ]
  },
  {
   "cell_type": "code",
   "execution_count": 3,
   "metadata": {},
   "outputs": [],
   "source": [
    "from pyiron_workflow.simple_workflow import (\n",
    "    extract_output_parameters_from_function,\n",
    "    extract_input_parameters_from_function,\n",
    "    get_type_from_path,\n",
    "    get_import_path_from_type,\n",
    ")"
   ]
  },
  {
   "cell_type": "code",
   "execution_count": 4,
   "metadata": {},
   "outputs": [
    {
     "name": "stdout",
     "output_type": "stream",
     "text": [
      "(3, {'c': 'abs', 'f': 'gh'}, 7)\n",
      "{'label': ['a', 'i2', None], 'type': ['builtins.int', 'pyiron_workflow.simple_workflow.DotDict', 'builtins.int']}\n"
     ]
    }
   ],
   "source": [
    "def demo_fn(i1: int, i2: DotDict, i3: int = 5) -> tuple[int, DotDict, int]:\n",
    "    a = i1 + 1\n",
    "    b = 2\n",
    "    return a, i2, i3 + 2  # This function returns a and b\n",
    "\n",
    "\n",
    "print(demo_fn(2, i2=my_dict))\n",
    "print(extract_output_parameters_from_function(demo_fn))  # Output: ('a', 'b')"
   ]
  },
  {
   "cell_type": "code",
   "execution_count": 5,
   "metadata": {},
   "outputs": [
    {
     "data": {
      "text/plain": [
       "{'label': ['i1', 'i2', 'i3'],\n",
       " 'type': ['builtins.int',\n",
       "  'pyiron_workflow.simple_workflow.DotDict',\n",
       "  'builtins.int'],\n",
       " 'default': ['__empty', '__empty', 5]}"
      ]
     },
     "execution_count": 5,
     "metadata": {},
     "output_type": "execute_result"
    }
   ],
   "source": [
    "inp_info = extract_input_parameters_from_function(demo_fn)\n",
    "inp_info"
   ]
  },
  {
   "cell_type": "code",
   "execution_count": 6,
   "metadata": {},
   "outputs": [
    {
     "data": {
      "text/plain": [
       "'{\"label\": [\"i1\", \"i2\", \"i3\"], \"type\": [\"builtins.int\", \"pyiron_workflow.simple_workflow.DotDict\", \"builtins.int\"], \"default\": [\"__empty\", \"__empty\", 5]}'"
      ]
     },
     "execution_count": 6,
     "metadata": {},
     "output_type": "execute_result"
    }
   ],
   "source": [
    "import json\n",
    "\n",
    "json.dumps(inp_info)"
   ]
  },
  {
   "cell_type": "markdown",
   "metadata": {},
   "source": [
    "### Construct Node"
   ]
  },
  {
   "cell_type": "code",
   "execution_count": 7,
   "metadata": {},
   "outputs": [],
   "source": [
    "from pyiron_workflow.simple_workflow import Node, as_function_node"
   ]
  },
  {
   "cell_type": "code",
   "execution_count": 8,
   "metadata": {},
   "outputs": [],
   "source": [
    "import numpy as np\n",
    "\n",
    "\n",
    "@as_function_node\n",
    "def linspace(x_min: int = 0, x_max: float = 2 * np.pi, n: int = 50):\n",
    "\n",
    "    vec = np.linspace(x_min, x_max, n)\n",
    "    return vec\n",
    "\n",
    "\n",
    "@as_function_node\n",
    "def sin(x):\n",
    "    import numpy as np\n",
    "\n",
    "    vec = np.sin(x)\n",
    "    return vec\n",
    "\n",
    "\n",
    "@as_function_node(\"plot\")\n",
    "def plot(x, y):\n",
    "    import matplotlib.pylab as plt\n",
    "\n",
    "    plt.plot(x, y)\n",
    "    return plt.show()"
   ]
  },
  {
   "cell_type": "code",
   "execution_count": 9,
   "metadata": {},
   "outputs": [
    {
     "data": {
      "text/plain": [
       "label                                                  x_min\n",
       "type                                            builtins.int\n",
       "default                                                    0\n",
       "ready                                                   True\n",
       "value                                                      2\n",
       "node       <pyiron_workflow.simple_workflow.Node object a...\n",
       "dtype: object"
      ]
     },
     "execution_count": 9,
     "metadata": {},
     "output_type": "execute_result"
    }
   ],
   "source": [
    "l = linspace(x_min=2)\n",
    "l.inputs.x_min"
   ]
  },
  {
   "cell_type": "code",
   "execution_count": 10,
   "metadata": {},
   "outputs": [
    {
     "data": {
      "text/plain": [
       "{'label': ['vec'], 'type': ['builtins.NoneType'], 'ready': [False], 'value': [None], 'node': [<pyiron_workflow.simple_workflow.Node object at 0x122845a30>]}"
      ]
     },
     "execution_count": 10,
     "metadata": {},
     "output_type": "execute_result"
    }
   ],
   "source": [
    "l.outputs"
   ]
  },
  {
   "cell_type": "code",
   "execution_count": 11,
   "metadata": {},
   "outputs": [
    {
     "data": {
      "text/plain": [
       "{'x_min': 2, 'x_max': 6.283185307179586, 'n': 50}"
      ]
     },
     "execution_count": 11,
     "metadata": {},
     "output_type": "execute_result"
    }
   ],
   "source": [
    "l.kwargs"
   ]
  },
  {
   "cell_type": "code",
   "execution_count": 12,
   "metadata": {},
   "outputs": [
    {
     "data": {
      "text/plain": [
       "array([2.        , 2.08741195, 2.17482389, 2.26223584, 2.34964778,\n",
       "       2.43705973, 2.52447167, 2.61188362, 2.69929556, 2.78670751,\n",
       "       2.87411945, 2.9615314 , 3.04894334, 3.13635529, 3.22376723,\n",
       "       3.31117918, 3.39859112, 3.48600307, 3.57341501, 3.66082696,\n",
       "       3.7482389 , 3.83565085, 3.92306279, 4.01047474, 4.09788668,\n",
       "       4.18529863, 4.27271057, 4.36012252, 4.44753446, 4.53494641,\n",
       "       4.62235835, 4.7097703 , 4.79718224, 4.88459419, 4.97200613,\n",
       "       5.05941808, 5.14683002, 5.23424197, 5.32165391, 5.40906586,\n",
       "       5.4964778 , 5.58388975, 5.67130169, 5.75871364, 5.84612558,\n",
       "       5.93353753, 6.02094947, 6.10836142, 6.19577336, 6.28318531])"
      ]
     },
     "execution_count": 12,
     "metadata": {},
     "output_type": "execute_result"
    }
   ],
   "source": [
    "l._func(**l.kwargs)"
   ]
  },
  {
   "cell_type": "code",
   "execution_count": 13,
   "metadata": {},
   "outputs": [
    {
     "data": {
      "text/plain": [
       "array([2.        , 2.08741195, 2.17482389, 2.26223584, 2.34964778,\n",
       "       2.43705973, 2.52447167, 2.61188362, 2.69929556, 2.78670751,\n",
       "       2.87411945, 2.9615314 , 3.04894334, 3.13635529, 3.22376723,\n",
       "       3.31117918, 3.39859112, 3.48600307, 3.57341501, 3.66082696,\n",
       "       3.7482389 , 3.83565085, 3.92306279, 4.01047474, 4.09788668,\n",
       "       4.18529863, 4.27271057, 4.36012252, 4.44753446, 4.53494641,\n",
       "       4.62235835, 4.7097703 , 4.79718224, 4.88459419, 4.97200613,\n",
       "       5.05941808, 5.14683002, 5.23424197, 5.32165391, 5.40906586,\n",
       "       5.4964778 , 5.58388975, 5.67130169, 5.75871364, 5.84612558,\n",
       "       5.93353753, 6.02094947, 6.10836142, 6.19577336, 6.28318531])"
      ]
     },
     "execution_count": 13,
     "metadata": {},
     "output_type": "execute_result"
    }
   ],
   "source": [
    "l.run()"
   ]
  },
  {
   "cell_type": "code",
   "execution_count": 14,
   "metadata": {},
   "outputs": [
    {
     "data": {
      "text/plain": [
       "array([2.        , 2.08741195, 2.17482389, 2.26223584, 2.34964778,\n",
       "       2.43705973, 2.52447167, 2.61188362, 2.69929556, 2.78670751,\n",
       "       2.87411945, 2.9615314 , 3.04894334, 3.13635529, 3.22376723,\n",
       "       3.31117918, 3.39859112, 3.48600307, 3.57341501, 3.66082696,\n",
       "       3.7482389 , 3.83565085, 3.92306279, 4.01047474, 4.09788668,\n",
       "       4.18529863, 4.27271057, 4.36012252, 4.44753446, 4.53494641,\n",
       "       4.62235835, 4.7097703 , 4.79718224, 4.88459419, 4.97200613,\n",
       "       5.05941808, 5.14683002, 5.23424197, 5.32165391, 5.40906586,\n",
       "       5.4964778 , 5.58388975, 5.67130169, 5.75871364, 5.84612558,\n",
       "       5.93353753, 6.02094947, 6.10836142, 6.19577336, 6.28318531])"
      ]
     },
     "execution_count": 14,
     "metadata": {},
     "output_type": "execute_result"
    }
   ],
   "source": [
    "l.outputs.vec.value"
   ]
  },
  {
   "cell_type": "markdown",
   "metadata": {},
   "source": [
    "### Workflow"
   ]
  },
  {
   "cell_type": "code",
   "execution_count": 15,
   "metadata": {},
   "outputs": [],
   "source": [
    "from pyiron_workflow.simple_workflow import Workflow, Node, Port"
   ]
  },
  {
   "cell_type": "code",
   "execution_count": 16,
   "metadata": {},
   "outputs": [
    {
     "data": {
      "image/png": "[encoded data removed]",
      "text/plain": [
       "<Figure size 640x480 with 1 Axes>"
      ]
     },
     "metadata": {},
     "output_type": "display_data"
    }
   ],
   "source": [
    "wf = Workflow(\"my_first_workflow\")\n",
    "\n",
    "wf.x = linspace(x_min=-2)\n",
    "wf.sin = sin(x=wf.x)\n",
    "wf.plot = plot(x=wf.x, y=wf.sin.outputs.vec)\n",
    "\n",
    "wf.run()"
   ]
  },
  {
   "cell_type": "code",
   "execution_count": 17,
   "metadata": {},
   "outputs": [
    {
     "data": {
      "text/plain": [
       "OrderedDict([('x', <pyiron_workflow.simple_workflow.Node at 0x105adb500>),\n",
       "             ('sin', <pyiron_workflow.simple_workflow.Node at 0x105adb6b0>),\n",
       "             ('plot', <pyiron_workflow.simple_workflow.Node at 0x1226e8da0>)])"
      ]
     },
     "execution_count": 17,
     "metadata": {},
     "output_type": "execute_result"
    }
   ],
   "source": [
    "wf._nodes"
   ]
  },
  {
   "cell_type": "code",
   "execution_count": 18,
   "metadata": {},
   "outputs": [
    {
     "data": {
      "text/plain": [
       "[{'source': 'x',\n",
       "  'source_handle': 'vec',\n",
       "  'target': 'sin',\n",
       "  'target_handle': 'x'},\n",
       " {'source': 'x',\n",
       "  'source_handle': 'vec',\n",
       "  'target': 'plot',\n",
       "  'target_handle': 'x'},\n",
       " {'source': 'sin',\n",
       "  'source_handle': 'vec',\n",
       "  'target': 'plot',\n",
       "  'target_handle': 'y'}]"
      ]
     },
     "execution_count": 18,
     "metadata": {},
     "output_type": "execute_result"
    }
   ],
   "source": [
    "wf._edges"
   ]
  },
  {
   "cell_type": "markdown",
   "metadata": {},
   "source": [
    "Key idea: Provide generic functions to change between dict and object view"
   ]
  },
  {
   "cell_type": "markdown",
   "metadata": {},
   "source": [
    "### Tests with a toy function"
   ]
  },
  {
   "cell_type": "code",
   "execution_count": 19,
   "metadata": {},
   "outputs": [],
   "source": [
    "import logging\n",
    "\n",
    "# logging.basicConfig(level=logging.DEBUG)\n",
    "\n",
    "\n",
    "@as_function_node\n",
    "def sin_test(x: float, y: int = 2):\n",
    "    import numpy as np\n",
    "\n",
    "    y = np.sin(x)\n",
    "    z = y + 2\n",
    "    return y, z"
   ]
  },
  {
   "cell_type": "code",
   "execution_count": 20,
   "metadata": {},
   "outputs": [
    {
     "data": {
      "text/plain": [
       "label                                                      x\n",
       "type                                          builtins.float\n",
       "default                                              __empty\n",
       "ready                                                   True\n",
       "value                                                      9\n",
       "node       <pyiron_workflow.simple_workflow.Node object a...\n",
       "dtype: object"
      ]
     },
     "execution_count": 20,
     "metadata": {},
     "output_type": "execute_result"
    }
   ],
   "source": [
    "# node = Node(sin, output_labels=[\"sin\"])\n",
    "node = sin_test(x=0)\n",
    "\n",
    "node.inputs.x = 9\n",
    "node.inputs.x"
   ]
  },
  {
   "cell_type": "markdown",
   "metadata": {},
   "source": [
    "Make this idea/concept hierarchical for nested dictionaries, i.e. workflow -> nodes -> ports\n",
    "\n",
    "key idea: central object is nested dict, represented by different views from the central object"
   ]
  },
  {
   "cell_type": "code",
   "execution_count": 21,
   "metadata": {},
   "outputs": [
    {
     "data": {
      "text/plain": [
       "(0.4121184852417566, 2.4121184852417565)"
      ]
     },
     "execution_count": 21,
     "metadata": {},
     "output_type": "execute_result"
    }
   ],
   "source": [
    "out = node.run()\n",
    "out"
   ]
  },
  {
   "cell_type": "code",
   "execution_count": 22,
   "metadata": {},
   "outputs": [
    {
     "data": {
      "text/plain": [
       "{'label': ['y', 'z'], 'type': ['builtins.NoneType', 'builtins.NoneType'], 'ready': [True, True], 'value': [0.4121184852417566, 2.4121184852417565], 'node': [<pyiron_workflow.simple_workflow.Node object at 0x1328fa090>, <pyiron_workflow.simple_workflow.Node object at 0x1328fa090>]}"
      ]
     },
     "execution_count": 22,
     "metadata": {},
     "output_type": "execute_result"
    }
   ],
   "source": [
    "node.outputs"
   ]
  },
  {
   "cell_type": "code",
   "execution_count": 23,
   "metadata": {},
   "outputs": [
    {
     "data": {
      "text/plain": [
       "label                                                    z\n",
       "type                                     builtins.NoneType\n",
       "ready                                                 True\n",
       "value                                             2.412118\n",
       "node     <pyiron_workflow.simple_workflow.Node object a...\n",
       "dtype: object"
      ]
     },
     "execution_count": 23,
     "metadata": {},
     "output_type": "execute_result"
    }
   ],
   "source": [
    "node.outputs.z"
   ]
  },
  {
   "cell_type": "code",
   "execution_count": 24,
   "metadata": {},
   "outputs": [
    {
     "data": {
      "text/plain": [
       "{'name': 'sin_test', 'import_path': '__main__.sin_test'}"
      ]
     },
     "execution_count": 24,
     "metadata": {},
     "output_type": "execute_result"
    }
   ],
   "source": [
    "node.function"
   ]
  },
  {
   "cell_type": "code",
   "execution_count": null,
   "metadata": {},
   "outputs": [],
   "source": []
  },
  {
   "cell_type": "code",
   "execution_count": 25,
   "metadata": {},
   "outputs": [],
   "source": [
    "@as_function_node\n",
    "def body(x):\n",
    "    y = x + 1\n",
    "    return y\n",
    "\n",
    "\n",
    "@as_function_node\n",
    "def greater(x, x0=10):\n",
    "    is_greater = x > x0\n",
    "    return is_greater\n",
    "\n",
    "\n",
    "def for_loop(body, i_max, i_min=0, break_condition=None):\n",
    "    x = body.inputs.x.value\n",
    "    for i in range(i_min, i_max):\n",
    "        x = body(x)\n",
    "        if break_condition is not None:\n",
    "            if break_condition._func(x):  # run with updated x0\n",
    "                print(\"break\")\n",
    "                break\n",
    "    return x"
   ]
  },
  {
   "cell_type": "code",
   "execution_count": 26,
   "metadata": {},
   "outputs": [
    {
     "name": "stdout",
     "output_type": "stream",
     "text": [
      "break\n"
     ]
    },
    {
     "data": {
      "text/plain": [
       "11"
      ]
     },
     "execution_count": 26,
     "metadata": {},
     "output_type": "execute_result"
    }
   ],
   "source": [
    "for_loop(body(x=0), 20, break_condition=greater(x0=15))"
   ]
  },
  {
   "cell_type": "code",
   "execution_count": 27,
   "metadata": {},
   "outputs": [
    {
     "data": {
      "text/plain": [
       "label                                                     x0\n",
       "type                                       builtins.NoneType\n",
       "default                                                   10\n",
       "ready                                                   True\n",
       "value                                                     20\n",
       "node       <pyiron_workflow.simple_workflow.Node object a...\n",
       "dtype: object"
      ]
     },
     "execution_count": 27,
     "metadata": {},
     "output_type": "execute_result"
    }
   ],
   "source": [
    "greater(x0=20).inputs.x0"
   ]
  },
  {
   "cell_type": "code",
   "execution_count": 28,
   "metadata": {},
   "outputs": [],
   "source": [
    "@as_function_node\n",
    "def body(x):\n",
    "    y = x + 1\n",
    "    return y\n",
    "\n",
    "\n",
    "@as_function_node\n",
    "def greater(x, x0=10):\n",
    "    is_greater = x > x0\n",
    "    return is_greater\n",
    "\n",
    "\n",
    "@as_function_node\n",
    "def for_loop(body: Node, i_max, i_min=0, break_condition: Node = None):\n",
    "    print(body)\n",
    "    x = body.inputs.x.value\n",
    "    for i in range(i_min, i_max):\n",
    "        x = body(x)\n",
    "        if break_condition is not None:\n",
    "            if break_condition(x):\n",
    "                print(\"break\")\n",
    "                break\n",
    "    return x"
   ]
  },
  {
   "cell_type": "markdown",
   "metadata": {},
   "source": [
    "Note:\n",
    "+ only absolutely necessary input (all optional parameters are transported via the node instances!) \n",
    "- explicit assumption regarding name of first body argument ('x')\n",
    "   -> maybe introduce get_first_argument()\n",
    "   -> loosened condition to first argument  \n"
   ]
  },
  {
   "cell_type": "code",
   "execution_count": 29,
   "metadata": {},
   "outputs": [
    {
     "name": "stdout",
     "output_type": "stream",
     "text": [
      "<pyiron_workflow.simple_workflow.Node object at 0x1328ee900>\n",
      "break\n"
     ]
    },
    {
     "data": {
      "text/plain": [
       "16"
      ]
     },
     "execution_count": 29,
     "metadata": {},
     "output_type": "execute_result"
    }
   ],
   "source": [
    "loop_node = for_loop(body=body(x=0), i_max=20, break_condition=greater(x0=15))\n",
    "loop_node.run()"
   ]
  },
  {
   "cell_type": "code",
   "execution_count": 30,
   "metadata": {},
   "outputs": [
    {
     "name": "stdout",
     "output_type": "stream",
     "text": [
      "<pyiron_workflow.simple_workflow.Node object at 0x13293b350>\n",
      "break\n"
     ]
    },
    {
     "data": {
      "text/plain": [
       "16"
      ]
     },
     "execution_count": 30,
     "metadata": {},
     "output_type": "execute_result"
    }
   ],
   "source": [
    "loop_node = for_loop(body=body(x=0), i_max=20, break_condition=greater(x0=15))\n",
    "loop_node(i_max=20)"
   ]
  },
  {
   "cell_type": "markdown",
   "metadata": {},
   "source": [
    "### Improved syntax for recursive loop"
   ]
  },
  {
   "cell_type": "code",
   "execution_count": 31,
   "metadata": {},
   "outputs": [],
   "source": [
    "@as_function_node\n",
    "def recursive(x: int, x_0: int = 10) -> tuple[int, bool]:\n",
    "    x_new = x + 1\n",
    "\n",
    "    break_condition = False\n",
    "    if x_new > x_0:\n",
    "        break_condition = True\n",
    "    return x_new, break_condition\n",
    "\n",
    "\n",
    "@as_function_node\n",
    "def loop_recursion(recursive_function: Node, max_steps=10):\n",
    "    x = recursive_function.inputs.x.value\n",
    "    for i in range(max_steps):\n",
    "        x, break_condition = recursive_function(x)\n",
    "        print(x, break_condition)\n",
    "\n",
    "        if break_condition:\n",
    "            break\n",
    "\n",
    "    return x"
   ]
  },
  {
   "cell_type": "code",
   "execution_count": 32,
   "metadata": {},
   "outputs": [
    {
     "data": {
      "text/plain": [
       "(2, False)"
      ]
     },
     "execution_count": 32,
     "metadata": {},
     "output_type": "execute_result"
    }
   ],
   "source": [
    "recursive(1).run()"
   ]
  },
  {
   "cell_type": "code",
   "execution_count": 33,
   "metadata": {},
   "outputs": [
    {
     "name": "stdout",
     "output_type": "stream",
     "text": [
      "2 False\n",
      "3 False\n",
      "4 False\n",
      "5 False\n",
      "6 False\n",
      "7 False\n",
      "8 False\n",
      "9 False\n",
      "10 False\n",
      "11 True\n"
     ]
    },
    {
     "data": {
      "text/plain": [
       "11"
      ]
     },
     "execution_count": 33,
     "metadata": {},
     "output_type": "execute_result"
    }
   ],
   "source": [
    "# rf = recursive_function=recursive(2)\n",
    "loop = loop_recursion(recursive(1))\n",
    "loop()"
   ]
  },
  {
   "cell_type": "code",
   "execution_count": 34,
   "metadata": {},
   "outputs": [],
   "source": [
    "@as_function_node\n",
    "def increment_and_check(x: int, x_0: int = 10) -> tuple[int, bool]:\n",
    "    \"\"\"\n",
    "    Increments the input value x and checks if it is greater than a threshold (x_0).\n",
    "\n",
    "    Parameters:\n",
    "    x: An integer to be incremented.\n",
    "    x_0: A threshold for the break condition.\n",
    "\n",
    "    Returns:\n",
    "    tuple: The incremented value and a Boolean indicating if the incremented value has exceeded x_0.\n",
    "    \"\"\"\n",
    "    x_new = x + 1\n",
    "    stop_condition = x_new > x_0\n",
    "    return x_new, stop_condition\n",
    "\n",
    "\n",
    "@as_function_node\n",
    "def perform_iterations(iteration_function: Node, max_steps: int = 10) -> int:\n",
    "    \"\"\"\n",
    "    Performs a loop of iterations on a provided function, up to max_steps iterations. It stops early if the iteration function indicates to do so.\n",
    "\n",
    "    Parameters:\n",
    "    iteration_function: a Node object specifying the function to perform iterations on.\n",
    "    max_steps: the maximum number of iterations to perform.\n",
    "\n",
    "    Returns:\n",
    "    int: the final value after performing the iterations.\n",
    "    \"\"\"\n",
    "    x = (\n",
    "        iteration_function.inputs.x.value\n",
    "    )  # TODO: avoid assumption about variable name 'x'\n",
    "    for _ in range(max_steps):\n",
    "        x, stop_condition = iteration_function(x)\n",
    "        print(x, stop_condition)\n",
    "\n",
    "        if stop_condition:\n",
    "            break\n",
    "\n",
    "    return x"
   ]
  },
  {
   "cell_type": "code",
   "execution_count": 35,
   "metadata": {},
   "outputs": [
    {
     "data": {
      "text/plain": [
       "['x', 'x_0']"
      ]
     },
     "execution_count": 35,
     "metadata": {},
     "output_type": "execute_result"
    }
   ],
   "source": [
    "increment_and_check(x=1).inputs.data[\"label\"]"
   ]
  },
  {
   "cell_type": "code",
   "execution_count": 36,
   "metadata": {},
   "outputs": [
    {
     "name": "stdout",
     "output_type": "stream",
     "text": [
      "2 False\n",
      "3 False\n",
      "4 False\n",
      "5 False\n",
      "6 False\n",
      "7 False\n",
      "8 False\n",
      "9 False\n",
      "10 False\n",
      "11 True\n"
     ]
    },
    {
     "data": {
      "text/plain": [
       "11"
      ]
     },
     "execution_count": 36,
     "metadata": {},
     "output_type": "execute_result"
    }
   ],
   "source": [
    "perform_iterations(increment_and_check(x=1), max_steps=10).run()"
   ]
  },
  {
   "cell_type": "markdown",
   "metadata": {},
   "source": [
    "### Convert dataclass into node_function"
   ]
  },
  {
   "cell_type": "code",
   "execution_count": 37,
   "metadata": {},
   "outputs": [],
   "source": [
    "from dataclasses import dataclass"
   ]
  },
  {
   "cell_type": "code",
   "execution_count": 38,
   "metadata": {},
   "outputs": [
    {
     "name": "stdout",
     "output_type": "stream",
     "text": [
      "Name: a, Type: <class 'int'>, Value: 0\n",
      "Name: b, Type: <class 'str'>, Value: test\n"
     ]
    }
   ],
   "source": [
    "from dataclasses import dataclass, fields\n",
    "\n",
    "\n",
    "@dataclass\n",
    "class TestData:\n",
    "    a: int = 0\n",
    "    b: str = \"abc\"\n",
    "\n",
    "\n",
    "test_data = TestData(b=\"test\")\n",
    "\n",
    "for field in fields(TestData):\n",
    "    name = field.name\n",
    "    type_hint = field.type\n",
    "    value = getattr(test_data, name)\n",
    "    print(f\"Name: {name}, Type: {type_hint}, Value: {value}\")"
   ]
  },
  {
   "cell_type": "code",
   "execution_count": 39,
   "metadata": {},
   "outputs": [
    {
     "data": {
      "text/plain": [
       "(Field(name='a',type=<class 'int'>,default=0,default_factory=<dataclasses._MISSING_TYPE object at 0x101e0c050>,init=True,repr=True,hash=None,compare=True,metadata=mappingproxy({}),kw_only=False,_field_type=_FIELD),\n",
       " Field(name='b',type=<class 'str'>,default='abc',default_factory=<dataclasses._MISSING_TYPE object at 0x101e0c050>,init=True,repr=True,hash=None,compare=True,metadata=mappingproxy({}),kw_only=False,_field_type=_FIELD))"
      ]
     },
     "execution_count": 39,
     "metadata": {},
     "output_type": "execute_result"
    }
   ],
   "source": [
    "fields(test_data)"
   ]
  },
  {
   "cell_type": "code",
   "execution_count": 40,
   "metadata": {},
   "outputs": [
    {
     "data": {
      "text/plain": [
       "{'label': ['a', 'b'], 'type': [int, str], 'default': [0, 'abc']}"
      ]
     },
     "execution_count": 40,
     "metadata": {},
     "output_type": "execute_result"
    }
   ],
   "source": [
    "from pyiron_workflow.simple_workflow import extract_dataclass_parameters\n",
    "\n",
    "extract_dataclass_parameters(TestData())"
   ]
  },
  {
   "cell_type": "code",
   "execution_count": 41,
   "metadata": {},
   "outputs": [],
   "source": [
    "def as_out_dataclass(**kwargs):\n",
    "    dataclass = TestData(kwargs)\n",
    "    return dataclass"
   ]
  },
  {
   "cell_type": "code",
   "execution_count": 42,
   "metadata": {},
   "outputs": [
    {
     "data": {
      "text/plain": [
       "TestData(a={'label': ['a', 'b'], 'type': [<class 'int'>, <class 'str'>], 'default': [0, 'test']}, b='abc')"
      ]
     },
     "execution_count": 42,
     "metadata": {},
     "output_type": "execute_result"
    }
   ],
   "source": [
    "as_out_dataclass(**extract_dataclass_parameters(test_data))"
   ]
  },
  {
   "cell_type": "code",
   "execution_count": 43,
   "metadata": {},
   "outputs": [],
   "source": [
    "from pyiron_workflow.simple_workflow import as_out_dataclass_node, as_inp_dataclass_node\n",
    "\n",
    "\n",
    "@as_inp_dataclass_node\n",
    "class TestData:\n",
    "    a: int = 0\n",
    "    b: str = \"abc\"\n",
    "    c: float = 10.9"
   ]
  },
  {
   "cell_type": "code",
   "execution_count": 44,
   "metadata": {},
   "outputs": [
    {
     "data": {
      "text/plain": [
       "TestData(a=0, b='d', c=10.9)"
      ]
     },
     "execution_count": 44,
     "metadata": {},
     "output_type": "execute_result"
    }
   ],
   "source": [
    "td = TestData(b='d')\n",
    "td._func(**td.kwargs)"
   ]
  },
  {
   "cell_type": "code",
   "execution_count": 45,
   "metadata": {},
   "outputs": [
    {
     "data": {
      "text/plain": [
       "TestData(a=0, b='d', c=10.9)"
      ]
     },
     "execution_count": 45,
     "metadata": {},
     "output_type": "execute_result"
    }
   ],
   "source": [
    "td.run()"
   ]
  },
  {
   "cell_type": "code",
   "execution_count": 46,
   "metadata": {},
   "outputs": [
    {
     "data": {
      "text/plain": [
       "TestData(a=20, b='bc', c=10.9)"
      ]
     },
     "execution_count": 46,
     "metadata": {},
     "output_type": "execute_result"
    }
   ],
   "source": [
    "td(a=20, b='bc')"
   ]
  },
  {
   "cell_type": "code",
   "execution_count": 47,
   "metadata": {},
   "outputs": [
    {
     "data": {
      "text/plain": [
       "TestData(a=20, b='bc', c=10.9)"
      ]
     },
     "execution_count": 47,
     "metadata": {},
     "output_type": "execute_result"
    }
   ],
   "source": [
    "data = td.outputs.dataclass.value\n",
    "data"
   ]
  },
  {
   "cell_type": "code",
   "execution_count": null,
   "metadata": {},
   "outputs": [],
   "source": []
  },
  {
   "cell_type": "code",
   "execution_count": 48,
   "metadata": {},
   "outputs": [],
   "source": [
    "@as_out_dataclass_node\n",
    "class TestData:\n",
    "    a: int = 0\n",
    "    b: str = \"abc\"\n",
    "    c: float = 10.9"
   ]
  },
  {
   "cell_type": "code",
   "execution_count": 49,
   "metadata": {},
   "outputs": [
    {
     "data": {
      "text/plain": [
       "{'label': ['dataclass'], 'type': [<function dataclass at 0x101de7600>], 'ready': [True], 'value': [TestData(a=20, b='bc', c=10.9)], 'node': [<pyiron_workflow.simple_workflow.Node object at 0x13293be30>]}"
      ]
     },
     "execution_count": 49,
     "metadata": {},
     "output_type": "execute_result"
    }
   ],
   "source": [
    "td_out = TestData(dataclass=data)\n",
    "td_out.inputs"
   ]
  },
  {
   "cell_type": "code",
   "execution_count": 50,
   "metadata": {},
   "outputs": [
    {
     "data": {
      "text/plain": [
       "TestData(a=20, b='bc', c=10.9)"
      ]
     },
     "execution_count": 50,
     "metadata": {},
     "output_type": "execute_result"
    }
   ],
   "source": [
    "td_out.inputs.dataclass.value"
   ]
  },
  {
   "cell_type": "code",
   "execution_count": 51,
   "metadata": {},
   "outputs": [
    {
     "data": {
      "text/plain": [
       "(20, 'bc', 10.9)"
      ]
     },
     "execution_count": 51,
     "metadata": {},
     "output_type": "execute_result"
    }
   ],
   "source": [
    "td_out.run()"
   ]
  },
  {
   "cell_type": "code",
   "execution_count": 52,
   "metadata": {},
   "outputs": [
    {
     "data": {
      "text/plain": [
       "{'label': ['a', 'b', 'c'], 'type': [<class 'int'>, <class 'str'>, <class 'float'>], 'default': [0, 'abc', 10.9], 'ready': [True, True, True], 'value': [20, 'bc', 10.9], 'node': [<pyiron_workflow.simple_workflow.Node object at 0x13293be30>, <pyiron_workflow.simple_workflow.Node object at 0x13293be30>, <pyiron_workflow.simple_workflow.Node object at 0x13293be30>]}"
      ]
     },
     "execution_count": 52,
     "metadata": {},
     "output_type": "execute_result"
    }
   ],
   "source": [
    "td_out.outputs"
   ]
  },
  {
   "cell_type": "code",
   "execution_count": 53,
   "metadata": {},
   "outputs": [
    {
     "data": {
      "text/plain": [
       "[20, 'bc', 10.9]"
      ]
     },
     "execution_count": 53,
     "metadata": {},
     "output_type": "execute_result"
    }
   ],
   "source": [
    "from dataclasses import asdict\n",
    "data = td.outputs.dataclass.value\n",
    "\n",
    "list(asdict(data).values())"
   ]
  },
  {
   "cell_type": "code",
   "execution_count": 54,
   "metadata": {},
   "outputs": [
    {
     "data": {
      "text/plain": [
       "{'a': 20, 'b': 'bc', 'c': 10.9}"
      ]
     },
     "execution_count": 54,
     "metadata": {},
     "output_type": "execute_result"
    }
   ],
   "source": [
    "asdict(data)"
   ]
  },
  {
   "cell_type": "code",
   "execution_count": 55,
   "metadata": {},
   "outputs": [],
   "source": [
    "def func(**kwargs):\n",
    "    if len(kwargs.keys()) != 1:\n",
    "        raise ValueError(\n",
    "            \"dataclass output node should contain only a single input variable\"\n",
    "        )\n",
    "    value = list(kwargs.values())[0]\n",
    "    return tuple(asdict(value).values())"
   ]
  },
  {
   "cell_type": "code",
   "execution_count": 56,
   "metadata": {},
   "outputs": [
    {
     "data": {
      "text/plain": [
       "(20, 'bc', 10.9)"
      ]
     },
     "execution_count": 56,
     "metadata": {},
     "output_type": "execute_result"
    }
   ],
   "source": [
    "func(dataclass=td.outputs.dataclass.value)"
   ]
  },
  {
   "cell_type": "code",
   "execution_count": null,
   "metadata": {},
   "outputs": [],
   "source": []
  }
 ],
 "metadata": {
  "kernelspec": {
   "display_name": "py12",
   "language": "python",
   "name": "python3"
  },
  "language_info": {
   "codemirror_mode": {
    "name": "ipython",
    "version": 3
   },
   "file_extension": ".py",
   "mimetype": "text/x-python",
   "name": "python",
   "nbconvert_exporter": "python",
   "pygments_lexer": "ipython3",
   "version": "3.12.4"
  }
 },
 "nbformat": 4,
 "nbformat_minor": 2
}
