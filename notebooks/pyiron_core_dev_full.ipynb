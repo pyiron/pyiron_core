{
 "cells": [
  {
   "cell_type": "code",
   "execution_count": 1,
   "metadata": {},
   "outputs": [
    {
     "name": "stdout",
     "output_type": "stream",
     "text": [
      "\u001B[1G\u001B[0K⠙\u001B[1G\u001B[0K⠹\u001B[1G\u001B[0K⠸\u001B[1G\u001B[0K⠼\u001B[1G\u001B[0K\n",
      "  \u001B[37m../static/\u001B[0m\u001B[1mwidget.js\u001B[0m    \u001B[33m1.7mb ⚠️\u001B[0m\n",
      "  \u001B[37m../static/\u001B[0m\u001B[1mwidget.css\u001B[0m  \u001B[36m15.1kb\u001B[0m\n",
      "\n",
      "⚡ \u001B[32mDone in 158ms\u001B[0m\n",
      "\u001B[1G\u001B[0K⠙\u001B[1G\u001B[0K"
     ]
    }
   ],
   "source": [
    "import pyiron_workflow.graph.gui\n",
    "!npx esbuild ../js/widget.jsx --minify --format=esm --bundle --outdir=../static"
   ]
  },
  {
   "cell_type": "code",
   "execution_count": 2,
   "metadata": {},
   "outputs": [],
   "source": [
    "import sys\n",
    "\n",
    "sys.path.insert(0, \"/Users/joerg/git_libs/pyiron_core\")\n",
    "# sys.path"
   ]
  },
  {
   "cell_type": "code",
   "execution_count": 3,
   "metadata": {},
   "outputs": [
    {
     "data": {
      "application/vnd.jupyter.widget-view+json": {
       "model_id": "b5f0a8e3e5ee444bbf4b189829313143",
       "version_major": 2,
       "version_minor": 0
      },
      "text/plain": []
     },
     "metadata": {},
     "output_type": "display_data"
    }
   ],
   "source": [
    "from pyiron_workflow import Workflow, as_out_dataclass_node\n",
    "from pyironflow.wf_extensions import get_nodes, _to_jsonifyable\n",
    "import pyiron_nodes as pn\n",
    "import numpy as np\n",
    "import json\n",
    "import pyiron_workflow.wf_graph_tools as gt"
   ]
  },
  {
   "cell_type": "markdown",
   "metadata": {},
   "source": [
    "### Test wf_graph.py"
   ]
  },
  {
   "cell_type": "code",
   "execution_count": 4,
   "metadata": {},
   "outputs": [],
   "source": [
    "from pyiron_workflow.wf_graph import Graph, GraphNode, GraphEdge, GuiData"
   ]
  },
  {
   "cell_type": "code",
   "execution_count": 5,
   "metadata": {},
   "outputs": [
    {
     "name": "stdout",
     "output_type": "stream",
     "text": [
      "structure:  NotData\n"
     ]
    },
    {
     "data": {
      "application/vnd.jupyter.widget-view+json": {
       "model_id": "a30c8b483ee345778ff6a3c4b31a999f",
       "version_major": 2,
       "version_minor": 1
      },
      "text/plain": [
       "ReactFlowWidget()"
      ]
     },
     "execution_count": 5,
     "metadata": {},
     "output_type": "execute_result"
    }
   ],
   "source": [
    "lammps = pn.atomistic.engine.lammps.Code()\n",
    "\n",
    "macro_graph = Graph().get_graph_from_macro(lammps)\n",
    "\n",
    "w = macro_graph.display()\n",
    "\n",
    "w"
   ]
  },
  {
   "cell_type": "code",
   "execution_count": 6,
   "metadata": {},
   "outputs": [],
   "source": [
    "w.commands = json.dumps({'command': 'AutomatedLayout'})"
   ]
  },
  {
   "cell_type": "code",
   "execution_count": 20,
   "metadata": {
    "scrolled": true
   },
   "outputs": [
    {
     "data": {
      "application/vnd.jupyter.widget-view+json": {
       "model_id": "738e6dfc11094040a75bf5f998894b1f",
       "version_major": 2,
       "version_minor": 1
      },
      "text/plain": [
       "ReactFlowWidget()"
      ]
     },
     "execution_count": 20,
     "metadata": {},
     "output_type": "execute_result"
    }
   ],
   "source": [
    "sub_graph = Graph(label=\"graph\")\n",
    "sub_graph.add_node( pn.atomistic.structure.build.Bulk(name='Al'), label=\"structure\")\n",
    "sub_graph.add_node( pn.atomistic.structure.transform.Repeat(), label=\"repeat\")\n",
    "\n",
    "# TODO: copy the graph to avoid changing the original graph\n",
    "\n",
    "\n",
    "graph = Graph()\n",
    "graph.add_node(pn.atomistic.structure.build.Bulk(name=\"Al\"), label=\"structure\")\n",
    "graph.add_node(pn.atomistic.structure.transform.Repeat(), label=\"repeat\")\n",
    "graph.add_node(macro_graph, label=\"graph\")\n",
    "graph.add_edge(\"structure\", \"repeat\", \"structure\", \"structure\")\n",
    "\n",
    "# TODO: validate consistency of edges!!\n",
    "if True:\n",
    "    # graph.add_edge(\"repeat\", \"InitLammps\", \"structure\", \"structure\")\n",
    "    graph.expand_node(\"graph\")\n",
    "else:\n",
    "    pass\n",
    "graph.add_edge(\"repeat\", \"graph\", \"structure\", \"structure\")\n",
    "graph.display_gui_nodes()['style']\n",
    "\n",
    "w = graph.display()\n",
    "\n",
    "w\n"
   ]
  },
  {
   "cell_type": "code",
   "execution_count": 21,
   "metadata": {},
   "outputs": [
    {
     "name": "stdout",
     "output_type": "stream",
     "text": [
      "Graph: graph\n"
     ]
    },
    {
     "data": {
      "text/html": [
       "<div>\n",
       "<style scoped>\n",
       "    .dataframe tbody tr th:only-of-type {\n",
       "        vertical-align: middle;\n",
       "    }\n",
       "\n",
       "    .dataframe tbody tr th {\n",
       "        vertical-align: top;\n",
       "    }\n",
       "\n",
       "    .dataframe thead th {\n",
       "        text-align: right;\n",
       "    }\n",
       "</style>\n",
       "<table border=\"1\" class=\"dataframe\">\n",
       "  <thead>\n",
       "    <tr style=\"text-align: right;\">\n",
       "      <th></th>\n",
       "      <th>id</th>\n",
       "      <th>import_path</th>\n",
       "      <th>label</th>\n",
       "      <th>parent_id</th>\n",
       "      <th>level</th>\n",
       "      <th>node</th>\n",
       "      <th>graph</th>\n",
       "      <th>type</th>\n",
       "      <th>expanded</th>\n",
       "    </tr>\n",
       "  </thead>\n",
       "  <tbody>\n",
       "    <tr>\n",
       "      <th>0</th>\n",
       "      <td>Bulk</td>\n",
       "      <td>None</td>\n",
       "      <td>Bulk</td>\n",
       "      <td>None</td>\n",
       "      <td>0</td>\n",
       "      <td>&lt;pyiron_workflow.simple_workflow.Node object a...</td>\n",
       "      <td>None</td>\n",
       "      <td>customNode</td>\n",
       "      <td>False</td>\n",
       "    </tr>\n",
       "    <tr>\n",
       "      <th>1</th>\n",
       "      <td>Repeat</td>\n",
       "      <td>None</td>\n",
       "      <td>Repeat</td>\n",
       "      <td>None</td>\n",
       "      <td>0</td>\n",
       "      <td>&lt;pyiron_workflow.simple_workflow.Node object a...</td>\n",
       "      <td>None</td>\n",
       "      <td>customNode</td>\n",
       "      <td>False</td>\n",
       "    </tr>\n",
       "    <tr>\n",
       "      <th>2</th>\n",
       "      <td>graph</td>\n",
       "      <td>None</td>\n",
       "      <td>LammpsMacro</td>\n",
       "      <td>None</td>\n",
       "      <td>0</td>\n",
       "      <td>&lt;pyiron_workflow.simple_workflow.Node object a...</td>\n",
       "      <td>&lt;pyiron_workflow.wf_graph.Graph object at 0x15...</td>\n",
       "      <td>graph</td>\n",
       "      <td>True</td>\n",
       "    </tr>\n",
       "  </tbody>\n",
       "</table>\n",
       "</div>"
      ],
      "text/plain": [
       "       id import_path        label parent_id  level  \\\n",
       "0    Bulk        None         Bulk      None      0   \n",
       "1  Repeat        None       Repeat      None      0   \n",
       "2   graph        None  LammpsMacro      None      0   \n",
       "\n",
       "                                                node  \\\n",
       "0  <pyiron_workflow.simple_workflow.Node object a...   \n",
       "1  <pyiron_workflow.simple_workflow.Node object a...   \n",
       "2  <pyiron_workflow.simple_workflow.Node object a...   \n",
       "\n",
       "                                               graph        type  expanded  \n",
       "0                                               None  customNode     False  \n",
       "1                                               None  customNode     False  \n",
       "2  <pyiron_workflow.wf_graph.Graph object at 0x15...       graph      True  "
      ]
     },
     "execution_count": 21,
     "metadata": {},
     "output_type": "execute_result"
    }
   ],
   "source": [
    "graph.display_nodes()"
   ]
  },
  {
   "cell_type": "code",
   "execution_count": 9,
   "metadata": {},
   "outputs": [
    {
     "data": {
      "text/html": [
       "<div>\n",
       "<style scoped>\n",
       "    .dataframe tbody tr th:only-of-type {\n",
       "        vertical-align: middle;\n",
       "    }\n",
       "\n",
       "    .dataframe tbody tr th {\n",
       "        vertical-align: top;\n",
       "    }\n",
       "\n",
       "    .dataframe thead th {\n",
       "        text-align: right;\n",
       "    }\n",
       "</style>\n",
       "<table border=\"1\" class=\"dataframe\">\n",
       "  <thead>\n",
       "    <tr style=\"text-align: right;\">\n",
       "      <th></th>\n",
       "      <th>label</th>\n",
       "      <th>source_labels</th>\n",
       "      <th>target_labels</th>\n",
       "      <th>import_path</th>\n",
       "      <th>target_values</th>\n",
       "      <th>target_types</th>\n",
       "      <th>source_values</th>\n",
       "      <th>source_types</th>\n",
       "    </tr>\n",
       "  </thead>\n",
       "  <tbody>\n",
       "    <tr>\n",
       "      <th>0</th>\n",
       "      <td>Bulk</td>\n",
       "      <td>[structure]</td>\n",
       "      <td>[name, crystalstructure, a, c, c_over_a, u, or...</td>\n",
       "      <td>pyiron_nodes.atomistic.structure.build.Bulk</td>\n",
       "      <td>[Al, None, None, None, None, None, False, False]</td>\n",
       "      <td>[str, str, float, float, int, float, bool, bool]</td>\n",
       "      <td>[NotData]</td>\n",
       "      <td>[builtins.NoneType]</td>\n",
       "    </tr>\n",
       "    <tr>\n",
       "      <th>1</th>\n",
       "      <td>Repeat</td>\n",
       "      <td>[structure]</td>\n",
       "      <td>[structure, repeat_scalar]</td>\n",
       "      <td>pyiron_nodes.atomistic.structure.transform.Repeat</td>\n",
       "      <td>[NotData, 1]</td>\n",
       "      <td>[NonPrimitive, int]</td>\n",
       "      <td>[NotData]</td>\n",
       "      <td>[builtins.str]</td>\n",
       "    </tr>\n",
       "    <tr>\n",
       "      <th>2</th>\n",
       "      <td>Code</td>\n",
       "      <td>[generic]</td>\n",
       "      <td>[structure, calculator, potential, working_dir]</td>\n",
       "      <td>pyiron_nodes.atomistic.engine.lammps.Code</td>\n",
       "      <td>[NotData, NotData, None, test2]</td>\n",
       "      <td>[NonPrimitive, None, str, str]</td>\n",
       "      <td>[NotData]</td>\n",
       "      <td>[builtins.NoneType]</td>\n",
       "    </tr>\n",
       "  </tbody>\n",
       "</table>\n",
       "</div>"
      ],
      "text/plain": [
       "    label source_labels                                      target_labels  \\\n",
       "0    Bulk   [structure]  [name, crystalstructure, a, c, c_over_a, u, or...   \n",
       "1  Repeat   [structure]                         [structure, repeat_scalar]   \n",
       "2    Code     [generic]    [structure, calculator, potential, working_dir]   \n",
       "\n",
       "                                         import_path  \\\n",
       "0        pyiron_nodes.atomistic.structure.build.Bulk   \n",
       "1  pyiron_nodes.atomistic.structure.transform.Repeat   \n",
       "2          pyiron_nodes.atomistic.engine.lammps.Code   \n",
       "\n",
       "                                      target_values  \\\n",
       "0  [Al, None, None, None, None, None, False, False]   \n",
       "1                                      [NotData, 1]   \n",
       "2                   [NotData, NotData, None, test2]   \n",
       "\n",
       "                                       target_types source_values  \\\n",
       "0  [str, str, float, float, int, float, bool, bool]     [NotData]   \n",
       "1                               [NonPrimitive, int]     [NotData]   \n",
       "2                    [NonPrimitive, None, str, str]     [NotData]   \n",
       "\n",
       "          source_types  \n",
       "0  [builtins.NoneType]  \n",
       "1       [builtins.str]  \n",
       "2  [builtins.NoneType]  "
      ]
     },
     "execution_count": 9,
     "metadata": {},
     "output_type": "execute_result"
    }
   ],
   "source": "pyiron_workflow.graph.gui.display_gui_data()"
  },
  {
   "cell_type": "code",
   "execution_count": 13,
   "metadata": {},
   "outputs": [
    {
     "name": "stdout",
     "output_type": "stream",
     "text": [
      "Graph: graph\n"
     ]
    },
    {
     "data": {
      "text/html": [
       "<div>\n",
       "<style scoped>\n",
       "    .dataframe tbody tr th:only-of-type {\n",
       "        vertical-align: middle;\n",
       "    }\n",
       "\n",
       "    .dataframe tbody tr th {\n",
       "        vertical-align: top;\n",
       "    }\n",
       "\n",
       "    .dataframe thead th {\n",
       "        text-align: right;\n",
       "    }\n",
       "</style>\n",
       "<table border=\"1\" class=\"dataframe\">\n",
       "  <thead>\n",
       "    <tr style=\"text-align: right;\">\n",
       "      <th></th>\n",
       "      <th>source</th>\n",
       "      <th>target</th>\n",
       "      <th>sourceHandle</th>\n",
       "      <th>targetHandle</th>\n",
       "    </tr>\n",
       "  </thead>\n",
       "  <tbody>\n",
       "    <tr>\n",
       "      <th>0</th>\n",
       "      <td>structure</td>\n",
       "      <td>repeat</td>\n",
       "      <td>structure</td>\n",
       "      <td>structure</td>\n",
       "    </tr>\n",
       "  </tbody>\n",
       "</table>\n",
       "</div>"
      ],
      "text/plain": [
       "      source  target sourceHandle targetHandle\n",
       "0  structure  repeat    structure    structure"
      ]
     },
     "execution_count": 13,
     "metadata": {},
     "output_type": "execute_result"
    }
   ],
   "source": [
    "graph.display_edges()"
   ]
  },
  {
   "cell_type": "code",
   "execution_count": 10,
   "metadata": {},
   "outputs": [
    {
     "ename": "NameError",
     "evalue": "name 'xx' is not defined",
     "output_type": "error",
     "traceback": [
      "\u001B[0;31m---------------------------------------------------------------------------\u001B[0m",
      "\u001B[0;31mNameError\u001B[0m                                 Traceback (most recent call last)",
      "Cell \u001B[0;32mIn[10], line 1\u001B[0m\n\u001B[0;32m----> 1\u001B[0m \u001B[43mxx\u001B[49m\n",
      "\u001B[0;31mNameError\u001B[0m: name 'xx' is not defined"
     ]
    }
   ],
   "source": [
    "xx"
   ]
  },
  {
   "cell_type": "code",
   "execution_count": null,
   "metadata": {},
   "outputs": [],
   "source": [
    "import threading\n",
    "from IPython.display import display\n",
    "import ipywidgets as widgets\n",
    "import time\n",
    "from pyironflow.reactflow import ReactFlowWidget\n",
    "import json\n",
    "\n",
    "w = ReactFlowWidget()\n",
    "\n",
    "def on_value_change(change):\n",
    "    print(\"print command: \", change[\"new\"])\n",
    "    command, node_name = change[\"new\"].split(\":\") \n",
    "    if command == 'finished':\n",
    "        print('done')\n",
    "\n",
    "def work(w):\n",
    "    data = dict(\n",
    "    #    label=graph.label,\n",
    "        nodes=graph._nodes_to_gui(),\n",
    "        edges=graph._edges_to_gui(),\n",
    "        graph=graph._graph_to_gui(),\n",
    "    )\n",
    "    # print('data: ', json.dumps(data))\n",
    "    # w.observe(on_value_change, names=\"commands\")\n",
    "    time.sleep(0.2)\n",
    "    w.observe(on_value_change, names=\"commands\")\n",
    "    w.mydata = json.dumps(data)\n",
    "\n",
    "thread = threading.Thread(target=work, args=(w,))\n",
    "display(w)\n",
    "thread.start()"
   ]
  },
  {
   "cell_type": "code",
   "execution_count": null,
   "metadata": {},
   "outputs": [],
   "source": [
    "xx"
   ]
  },
  {
   "cell_type": "code",
   "execution_count": null,
   "metadata": {},
   "outputs": [],
   "source": [
    "graph.display()"
   ]
  },
  {
   "cell_type": "code",
   "execution_count": null,
   "metadata": {},
   "outputs": [],
   "source": [
    "def on_value_change(change):\n",
    "    print(\"print command: \", change[\"new\"])\n",
    "    command, node_name = change[\"new\"].split(\":\") \n",
    "    if command == 'finished':\n",
    "        print('done')\n",
    "\n",
    "data = dict(\n",
    "#    label=graph.label,\n",
    "    nodes=pyiron_workflow.graph.gui._nodes_to_gui(),\n",
    "    edges=pyiron_workflow.graph.gui._edges_to_gui(),\n",
    "    graph=pyiron_workflow.graph.gui._graph_to_gui(),\n",
    ")\n",
    "# print('data: ', json.dumps(data))\n",
    "w.observe(on_value_change, names=\"commands\")\n",
    "w.mydata = json.dumps(data)"
   ]
  },
  {
   "cell_type": "code",
   "execution_count": null,
   "metadata": {},
   "outputs": [],
   "source": [
    "import asyncio\n",
    "\n",
    "class YourClassName:\n",
    "    def __init__(self):\n",
    "        self.task_finished_event = asyncio.Event()\n",
    "\n",
    "    def _edges_to_gui(self, remove_none=True):\n",
    "        edges = []\n",
    "        for i, (k, v) in enumerate(self.edges.items()):\n",
    "            edge_dict = v.asdict(remove_none=remove_none)\n",
    "            edge_dict[\"id\"] = k\n",
    "            edge_dict[\"style\"] = {\"strokeWidth\": 2, \"stroke\": \"black\"}\n",
    "\n",
    "            edges.append(edge_dict)\n",
    "\n",
    "        return edges\n",
    "\n",
    "    def display(self, update_layout=True):\n",
    "        from pyironflow.reactflow import ReactFlowWidget\n",
    "        import json\n",
    "\n",
    "        w = ReactFlowWidget()\n",
    "\n",
    "        data = dict(\n",
    "            label=self.label,\n",
    "            nodes=self._nodes_to_gui(),\n",
    "            edges=self._edges_to_gui(),\n",
    "            graph=self._graph_to_gui(),\n",
    "        )\n",
    "        w.mydata = json.dumps(data)\n",
    "        w.observe(self.on_value_change, names=\"commands\")\n",
    "\n",
    "        # Set up the callback to handle the completion of the task\n",
    "        def on_task_finished(change):\n",
    "            if change['new'] == 'finished':\n",
    "                print(\"Task is finished!\")\n",
    "                self.task_finished_event.set()  # Signal that the task is finished\n",
    "                # Perform any additional actions needed when the task is finished\n",
    "\n",
    "        # Observe the 'status' traitlet (or any other relevant traitlet)\n",
    "        w.observe(on_task_finished, names='status')\n",
    "\n",
    "        return w\n",
    "\n",
    "    @staticmethod\n",
    "    def on_value_change(change):\n",
    "        print(\"print command: \", change[\"new\"])\n",
    "        command, node_name = change[\"new\"].split(\":\")\n",
    "        if command == 'finished':\n",
    "            print('done')\n",
    "\n",
    "    async def wait_for_task(self):\n",
    "        await self.task_finished_event.wait()\n",
    "        print(\"Event has been triggered, task is finished!\")"
   ]
  },
  {
   "cell_type": "code",
   "execution_count": null,
   "metadata": {},
   "outputs": [],
   "source": [
    "w.commands"
   ]
  },
  {
   "cell_type": "code",
   "execution_count": null,
   "metadata": {},
   "outputs": [],
   "source": [
    "\n",
    "w.commands = json.dumps({'command': 'AutomatedLayout'})"
   ]
  },
  {
   "cell_type": "code",
   "execution_count": null,
   "metadata": {},
   "outputs": [],
   "source": [
    "import time\n",
    "# time.sleep(1)\n",
    "\n",
    "w.graph = json.dumps(pyiron_workflow.graph.gui._graph_to_gui())\n",
    "# json.loads(w.graph)"
   ]
  },
  {
   "cell_type": "code",
   "execution_count": null,
   "metadata": {},
   "outputs": [],
   "source": [
    "xx"
   ]
  },
  {
   "cell_type": "code",
   "execution_count": null,
   "metadata": {},
   "outputs": [],
   "source": [
    "nodes[0]['parentID']"
   ]
  },
  {
   "cell_type": "code",
   "execution_count": null,
   "metadata": {},
   "outputs": [],
   "source": "pyiron_workflow.graph.gui._graph_to_gui()"
  },
  {
   "cell_type": "code",
   "execution_count": null,
   "metadata": {},
   "outputs": [],
   "source": [
    "nodes = pyiron_workflow.graph.gui._nodes_to_gui(remove_none=False)\n",
    "pyiron_workflow.graph.gui._gui_children(nodes[2])"
   ]
  },
  {
   "cell_type": "code",
   "execution_count": null,
   "metadata": {},
   "outputs": [],
   "source": "pyiron_workflow.graph.gui._graph_to_gui()"
  },
  {
   "cell_type": "code",
   "execution_count": null,
   "metadata": {},
   "outputs": [],
   "source": [
    "graph.display_gui_nodes()"
   ]
  },
  {
   "cell_type": "code",
   "execution_count": null,
   "metadata": {},
   "outputs": [],
   "source": "pyiron_workflow.graph.gui.display_gui_data()"
  },
  {
   "cell_type": "code",
   "execution_count": null,
   "metadata": {},
   "outputs": [],
   "source": [
    "xx"
   ]
  },
  {
   "cell_type": "code",
   "execution_count": null,
   "metadata": {},
   "outputs": [],
   "source": [
    "from collections import OrderedDict\n",
    "\n",
    "Graph(nodes=OrderedDict(structure2=graph.nodes['graph'])).display()"
   ]
  },
  {
   "cell_type": "code",
   "execution_count": null,
   "metadata": {},
   "outputs": [],
   "source": [
    "sub_graph = Graph(\n",
    "    id=\"Lammps\",\n",
    "    nodes={\n",
    "        \"code\": GraphNode(\n",
    "            id=\"code\", import_path=\"pyiron_nodes.atomistic.engine.lammps.Code\"\n",
    "        ),\n",
    "        \"potential\": GraphNode(\n",
    "            id=\"potential\", import_path=\"pyiron_nodes.atomistic.engine.lammps.Potential\"\n",
    "        ),\n",
    "    },\n",
    "    edges={\n",
    "        0: GraphEdge(source=\"code\", target=\"potential\"),\n",
    "        # 1: dict(source=\"structure\", target=\"calculator\"),\n",
    "    },\n",
    ")\n",
    "\n",
    "\n",
    "graph = Graph()\n",
    "graph.add_node(\n",
    "    GraphNode(\n",
    "        id=\"structure\",\n",
    "        import_path=\"pyiron_nodes.atomistic.structure.build.CubicBulkCell\",\n",
    "    )\n",
    ")\n",
    "graph.add_node(\n",
    "    GraphNode(\n",
    "        id=\"calculator\", import_path=\"pyiron_nodes.atomistic.engine.lammps.CalcMD\"\n",
    "    )\n",
    ")\n",
    "\n",
    "graph.add_node(sub_graph)\n",
    "\n",
    "graph.add_edge(\n",
    "    \"structure\", \"calculator\", source_handle=\"structure\", target_handle=\"structure\"\n",
    ")\n",
    "\n",
    "graph.expand_node(\"Lammps\")\n",
    "# graph.collapse_node(\"Lammps\")\n",
    "\n",
    "pyiron_workflow.graph.gui.display_gui_data()"
   ]
  },
  {
   "cell_type": "code",
   "execution_count": null,
   "metadata": {},
   "outputs": [],
   "source": [
    "graph.display_gui_nodes()"
   ]
  },
  {
   "cell_type": "code",
   "execution_count": null,
   "metadata": {},
   "outputs": [],
   "source": [
    "graph.display()"
   ]
  },
  {
   "cell_type": "code",
   "execution_count": null,
   "metadata": {},
   "outputs": [],
   "source": [
    "xx"
   ]
  },
  {
   "cell_type": "code",
   "execution_count": null,
   "metadata": {},
   "outputs": [],
   "source": [
    "pn.atomistic.engine.lammps.InputCalcStatic().run()"
   ]
  },
  {
   "cell_type": "code",
   "execution_count": null,
   "metadata": {},
   "outputs": [],
   "source": [
    "wf = Workflow(\"Lammps_macro\")\n",
    "wf.structure = pn.atomistic.structure.build.CubicBulkCell(\"Al\", cell_size=1)\n",
    "\n",
    "wf.calculator = (\n",
    "    pn.atomistic.engine.lammps.CalcMD()\n",
    ")  # temperature=300, n_ionic_steps=10_000)\n",
    "# wf.potential = pn.atomistic.engine.lammps.Potential(\n",
    "#     structure=wf.structure, name=\"1995--Angelo-J-E--Ni-Al-H--LAMMPS--ipr1\"\n",
    "# )\n",
    "wf.lammps = pn.atomistic.engine.lammps.Code(\n",
    "    structure=wf.structure,\n",
    "    calculator=wf.calculator,\n",
    "    potential=\"1995--Angelo-J-E--Ni-Al-H--LAMMPS--ipr1\",  # wf.potential\n",
    ")\n",
    "\n",
    "# print(wf.potential.pull())\n",
    "wf.calculator.run()\n",
    "# wf.lammps.inputs.structure.value.outputs, wf.lammps.inputs.potential.value.outputs\n",
    "# wf.lammps.inputs.potential.value.label\n",
    "# wf.run(debug=True)"
   ]
  },
  {
   "cell_type": "code",
   "execution_count": null,
   "metadata": {},
   "outputs": [],
   "source": [
    "from dataclasses import dataclass\n",
    "from collections import OrderedDict\n",
    "\n",
    "\n",
    "def as_dotdict_dataclass(*args, doc_func=None, **kwargs):\n",
    "    # def wf_data_class(*args, doc_func=None, keys_to_store=None, **kwargs):\n",
    "    \"\"\"\n",
    "    Extension of the python default dataclass to include methods and functionality needed for pyiron_workflows\n",
    "\n",
    "    :param args: pass to dataclass decorator\n",
    "    :param doc_func: function from which to copy docstring\n",
    "    # :param keys_to_store:\n",
    "    :param kwargs: pass to dataclass decorator\n",
    "    :return: dataclass like object with enhanced workflow features\n",
    "    \"\"\"\n",
    "\n",
    "    def wrapper(cls):\n",
    "        cls = dataclass(*args, **kwargs)(cls)\n",
    "\n",
    "        # Add/modify a variable\n",
    "        if doc_func is not None:\n",
    "            cls.__doc__ = doc_func.__doc__\n",
    "\n",
    "        # Add new methods\n",
    "        def keys(self):\n",
    "            return self.__dict__.keys()\n",
    "\n",
    "        def items(self):\n",
    "            return [(k, self[k]) for k in self.keys()]\n",
    "\n",
    "        def asdict(self, remove_none=False):\n",
    "            if remove_none:\n",
    "                return {k: self[k] for k in self.keys() if self[k] is not None}\n",
    "            else:\n",
    "                return {k: self[k] for k in self.keys()}\n",
    "\n",
    "        def __getitem__(self, key):\n",
    "            return self.__dict__[key]\n",
    "\n",
    "        def __setitem__(self, key, value):\n",
    "            if key in self.keys():\n",
    "                self.__dict__[key] = value\n",
    "\n",
    "        def select(self, keys_to_store=None):\n",
    "            if keys_to_store is None:\n",
    "                keys_to_store = self.keys()  # cls._keys_to_store\n",
    "            return {k: self[k] for k in keys_to_store}\n",
    "\n",
    "        setattr(cls, \"keys\", keys)\n",
    "        setattr(cls, \"items\", items)\n",
    "        setattr(cls, \"asdict\", asdict)\n",
    "        setattr(cls, \"__getitem__\", __getitem__)\n",
    "        setattr(cls, \"__setitem__\", __setitem__)\n",
    "        setattr(cls, \"select\", select)\n",
    "\n",
    "        return cls\n",
    "\n",
    "    return wrapper"
   ]
  },
  {
   "cell_type": "code",
   "execution_count": null,
   "metadata": {},
   "outputs": [],
   "source": [
    "from pyiron_workflow import Node\n",
    "import pandas as pd\n",
    "\n",
    "\n",
    "@as_dotdict_dataclass()\n",
    "class GraphNode:\n",
    "    id: str  # unique identifier\n",
    "    import_path: str = None  # import path to the node\n",
    "    label: str = None  # label/name of the node\n",
    "    parent_id: str = None  # parent node id\n",
    "    level: int = 0  # level in the graph\n",
    "    node: Node = None  # node object\n",
    "    type: str = \"node\"  # type of node\n",
    "\n",
    "\n",
    "@as_dotdict_dataclass()\n",
    "class GuiNode:\n",
    "    id: str\n",
    "    data: dict = None\n",
    "    position: dict = None\n",
    "    style: dict = None\n",
    "    targetPosition: str = \"left\"\n",
    "    sourcePosition: str = \"right\"\n",
    "    type: str = None\n",
    "    parentId: str = None\n",
    "    extent: str = None\n",
    "\n",
    "\n",
    "class Graph:\n",
    "    def __init__(\n",
    "        self, id: str = \"graph\", nodes: dict = None, edges: dict = None, label=None\n",
    "    ):\n",
    "        self.id = id\n",
    "        if label is None:\n",
    "            label = id\n",
    "        self.label = label\n",
    "\n",
    "        self.nodes = nodes if nodes is not None else OrderedDict()\n",
    "        self.edges = edges if edges is not None else OrderedDict()\n",
    "\n",
    "    def add_node(self, node: GraphNode):\n",
    "        self.nodes[node.id] = node\n",
    "\n",
    "    def add_graph(self, graph: \"Graph\"):\n",
    "        self.nodes[graph.label] = GraphNode(\n",
    "            id=graph.id, node=graph, label=graph.label, type=\"graph\"\n",
    "        )\n",
    "\n",
    "    def add_edge(\n",
    "        self,\n",
    "        source: str,\n",
    "        target: str,\n",
    "        source_handle: str = None,\n",
    "        target_handle: str = None,\n",
    "    ):\n",
    "\n",
    "        n_edges = len(self.edges.keys())\n",
    "        self.edges[n_edges] = dict(\n",
    "            source=source,\n",
    "            source_handle=source_handle,\n",
    "            target=target,\n",
    "            target_handle=target_handle,\n",
    "        )\n",
    "\n",
    "    def expand_node(self, node: GraphNode):\n",
    "        if isinstance(node, Graph):\n",
    "            for k, v in node.nodes.items():\n",
    "                print(k, v)\n",
    "                v.parent_id = node.id\n",
    "                v.level += 1\n",
    "                self.nodes[k] = v\n",
    "            for k, v in node.edges.items():\n",
    "                self.edges[k] = v\n",
    "        # self.nodes[node.label] = node\n",
    "\n",
    "    def transpose_dict_of_dicts(self, nested_dict):\n",
    "        transposed = {}\n",
    "        for outer_key, inner_dict in nested_dict.items():\n",
    "            for inner_key, value in inner_dict.items():\n",
    "                if inner_key not in transposed:\n",
    "                    transposed[inner_key] = []\n",
    "                transposed[inner_key].append(value)\n",
    "        return transposed\n",
    "\n",
    "    def transpose_list_of_dicts(self, list_of_dicts):\n",
    "        # Initialize an empty dictionary to hold the transposed data\n",
    "        transposed_dict = {}\n",
    "\n",
    "        # Iterate over each dictionary in the list\n",
    "        for d in list_of_dicts:\n",
    "            for key, value in d.items():\n",
    "                if key not in transposed_dict:\n",
    "                    transposed_dict[key] = []\n",
    "                transposed_dict[key].append(value)\n",
    "\n",
    "        return transposed_dict\n",
    "\n",
    "    @property\n",
    "    def nodes_dict(self):\n",
    "        transposed = self.transpose_dict_of_dicts(self.nodes)\n",
    "        return transposed\n",
    "\n",
    "    def edges_dict(self):\n",
    "        transposed = self.transpose_dict_of_dicts(self.edges)\n",
    "        return transposed\n",
    "\n",
    "    @property\n",
    "    def display_nodes(self):\n",
    "        print(f\"Graph: {self.label}\")\n",
    "        df = pd.DataFrame(self.nodes_dict)\n",
    "        return df\n",
    "\n",
    "    @property\n",
    "    def display_edges(self):\n",
    "        print(f\"Graph: {self.label}\")\n",
    "        df = pd.DataFrame(self.edges_dict())\n",
    "        return df\n",
    "\n",
    "    def _nodes_to_gui(self, remove_none=True):\n",
    "        node_width = 100\n",
    "        style_node = {\n",
    "            \"backgroundColor\": \"rgba(255, 0, 255, 0.2)\",\n",
    "            \"height\": 50,\n",
    "            \"width\": node_width,\n",
    "        }\n",
    "        macro_style_level_1 = {\n",
    "            \"backgroundColor\": \"rgba(255, 0, 255, 0.2)\",\n",
    "            \"height\": 250,\n",
    "            \"width\": 400,\n",
    "        }\n",
    "\n",
    "        macro_style_level_2 = {\n",
    "            \"backgroundColor\": \"rgba(255, 0, 255, 0.8)\",\n",
    "            \"height\": 150,\n",
    "            \"width\": 270,\n",
    "        }\n",
    "\n",
    "        nodes = []\n",
    "        for i, (k, v) in enumerate(self.nodes.items()):\n",
    "            node_dict = GuiNode(\n",
    "                id=k,\n",
    "                data=dict(\n",
    "                    label=k,\n",
    "                ),\n",
    "                position=dict(x=i * (node_width + 20), y=0),\n",
    "                style=style_node,\n",
    "                targetPosition=\"left\",\n",
    "                sourcePosition=\"right\",\n",
    "                # type=\"customNode\",\n",
    "            )\n",
    "            if v.type == \"graph\":\n",
    "                node_dict.data[\"label\"] = v.label\n",
    "                # node_dict[\"type\"] = \"group\"\n",
    "                node_dict[\"style\"] = macro_style_level_1\n",
    "                node_dict[\"position\"] = dict(x=i * (node_width + 20), y=-10)\n",
    "            if v.parent_id is not None:\n",
    "                node_dict.parentId = v.parent_id\n",
    "                node_dict.extent = \"parent\"\n",
    "            nodes.append(node_dict.asdict(remove_none=remove_none))\n",
    "\n",
    "        return nodes\n",
    "\n",
    "    def display_gui_nodes(self):\n",
    "        node_dict = self.transpose_list_of_dicts(self._nodes_to_gui(remove_none=False))\n",
    "        return pd.DataFrame(node_dict)\n",
    "\n",
    "    def _edges_to_gui(self):\n",
    "        edges = []\n",
    "        for i, (k, v) in enumerate(self.edges.items()):\n",
    "            edge_dict = dict(\n",
    "                id=k,\n",
    "                source=v[\"source\"],\n",
    "                target=v[\"target\"],\n",
    "                # sourceHandle=v[\"source_handle\"],\n",
    "                # targetHandle=v[\"target_handle\"],\n",
    "                style={\"strokeWidth\": 2, \"stroke\": \"black\"},\n",
    "            )\n",
    "            edges.append(edge_dict)\n",
    "\n",
    "        return edges\n",
    "\n",
    "    def display(self):\n",
    "        from pyironflow.reactflow import ReactFlowWidget\n",
    "\n",
    "        w = ReactFlowWidget()\n",
    "\n",
    "        w.nodes = json.dumps(self._nodes_to_gui())\n",
    "        w.edges = json.dumps(self._edges_to_gui())\n",
    "        return w"
   ]
  },
  {
   "cell_type": "code",
   "execution_count": null,
   "metadata": {},
   "outputs": [],
   "source": [
    "sub_graph = Graph(\n",
    "    id=\"Lammps\",\n",
    "    nodes={\n",
    "        \"code\": GraphNode(\n",
    "            id=\"code\", import_path=\"pyiron_nodes.atomistic.engine.lammps.Code\"\n",
    "        ),\n",
    "        \"potential\": GraphNode(\n",
    "            id=\"potential\", import_path=\"pyiron_nodes.atomistic.engine.lammps.Potential\"\n",
    "        ),\n",
    "    },\n",
    "    edges={\n",
    "        0: dict(source=\"code\", target=\"potential\"),\n",
    "        # 1: dict(source=\"structure\", target=\"calculator\"),\n",
    "    },\n",
    ")\n",
    "\n",
    "\n",
    "graph = Graph()\n",
    "graph.add_node(\n",
    "    GraphNode(\n",
    "        id=\"structure\",\n",
    "        import_path=\"pyiron_nodes.atomistic.structure.build.CubicBulkCell\",\n",
    "    )\n",
    ")\n",
    "graph.add_node(\n",
    "    GraphNode(\n",
    "        id=\"calculator\", import_path=\"pyiron_nodes.atomistic.engine.lammps.CalcMD\"\n",
    "    )\n",
    ")\n",
    "\n",
    "graph.add_graph(sub_graph)\n",
    "\n",
    "graph.add_edge(\n",
    "    \"structure\", \"calculator\", source_handle=\"structure\", target_handle=\"structure\"\n",
    ")\n",
    "\n",
    "graph.display_nodes"
   ]
  },
  {
   "cell_type": "code",
   "execution_count": null,
   "metadata": {},
   "outputs": [],
   "source": [
    "graph.expand_node(sub_graph)\n",
    "\n",
    "graph.display_nodes"
   ]
  },
  {
   "cell_type": "code",
   "execution_count": null,
   "metadata": {},
   "outputs": [],
   "source": [
    "graph.display_edges"
   ]
  },
  {
   "cell_type": "code",
   "execution_count": null,
   "metadata": {},
   "outputs": [],
   "source": [
    "graph.display_gui_nodes()"
   ]
  },
  {
   "cell_type": "code",
   "execution_count": null,
   "metadata": {},
   "outputs": [],
   "source": [
    "graph._nodes_to_gui()"
   ]
  },
  {
   "cell_type": "code",
   "execution_count": null,
   "metadata": {},
   "outputs": [],
   "source": [
    "# from pyironflow.reactflow import ReactFlowWidget\n",
    "\n",
    "# w = ReactFlowWidget()\n",
    "\n",
    "# w.nodes = json.dumps(my_nodes)\n",
    "# w"
   ]
  },
  {
   "cell_type": "code",
   "execution_count": null,
   "metadata": {},
   "outputs": [],
   "source": [
    "graph.display()"
   ]
  },
  {
   "cell_type": "code",
   "execution_count": null,
   "metadata": {},
   "outputs": [],
   "source": [
    "xx"
   ]
  },
  {
   "cell_type": "code",
   "execution_count": null,
   "metadata": {},
   "outputs": [],
   "source": [
    "node = GraphNode(\n",
    "    id=\"1\", import_path=\"pyiron_nodes.atomistic.engine.lammps.InputCalcStatic\"\n",
    ")\n",
    "json_data = json.dumps(node.asdict())\n",
    "json_data, node.id"
   ]
  },
  {
   "cell_type": "code",
   "execution_count": null,
   "metadata": {},
   "outputs": [],
   "source": [
    "from dataclasses import dataclass\n",
    "\n",
    "\n",
    "@dataclass\n",
    "class NodeGraph:\n",
    "    id: str  # unique identifier\n",
    "    import_path: str  # import path to the node\n",
    "    parent_id: str = None  # parent node id\n",
    "    level: int = 0  # level in the graph\n",
    "\n",
    "    def to_dict(self):\n",
    "        return {\n",
    "            \"id\": self.id,\n",
    "            \"import_path\": self.import_path,\n",
    "            \"parent_id\": self.parent_id,\n",
    "            \"level\": self.level,\n",
    "        }\n",
    "\n",
    "\n",
    "# Example usage\n",
    "node = NodeGraph(\n",
    "    id=\"1\", import_path=\"pyiron_nodes.atomistic.engine.lammps.InputCalcStatic\"\n",
    ")\n",
    "json_data = json.dumps(node.to_dict())\n",
    "print(json_data)"
   ]
  },
  {
   "cell_type": "code",
   "execution_count": null,
   "metadata": {},
   "outputs": [],
   "source": [
    "import networkx as nx\n",
    "\n",
    "# Create a directed graph\n",
    "G = nx.DiGraph()\n",
    "\n",
    "# Add nodes with multiple ports represented as attributes\n",
    "G.add_node(\"Node1\", input_ports=2, output_ports=3)\n",
    "G.add_node(\"Node2\", input_ports=1, output_ports=2)\n",
    "G.add_node(\"Node3\", input_ports=1, output_ports=2)\n",
    "\n",
    "# Add edges\n",
    "G.add_edge(\"Node1\", \"Node2\", output_port=1, input_port=1)\n",
    "G.add_edge(\"Node1\", \"Node2\", output_port=2, input_port=2)\n",
    "G.add_edge(\"Node2\", \"Node3\", output_port=1, input_port=1)\n",
    "G.add_edge(\"Node1\", \"Node3\", output_port=1, input_port=1)\n",
    "\n",
    "# Draw the graph\n",
    "pos = nx.spring_layout(G)  # positions for all nodes\n",
    "nx.draw(\n",
    "    G,\n",
    "    pos,\n",
    "    with_labels=True,\n",
    "    node_size=700,\n",
    "    node_color=\"skyblue\",\n",
    "    font_size=10,\n",
    "    font_weight=\"bold\",\n",
    "    edge_color=\"gray\",\n",
    ")\n",
    "\n",
    "# Display the graph\n",
    "plt.show()"
   ]
  },
  {
   "cell_type": "code",
   "execution_count": null,
   "metadata": {},
   "outputs": [],
   "source": [
    "# Create a subgraph from the existing graph G\n",
    "sub_nodes = [\"Node1\", \"Node2\"]\n",
    "subgraph = G.subgraph(sub_nodes)\n",
    "\n",
    "# Draw the subgraph\n",
    "pos_sub = nx.spring_layout(subgraph)  # positions for all nodes\n",
    "nx.draw(\n",
    "    subgraph,\n",
    "    pos_sub,\n",
    "    with_labels=True,\n",
    "    node_size=700,\n",
    "    node_color=\"lightgreen\",\n",
    "    font_size=10,\n",
    "    font_weight=\"bold\",\n",
    "    edge_color=\"gray\",\n",
    ")\n",
    "\n",
    "# Display the subgraph\n",
    "plt.show()"
   ]
  },
  {
   "cell_type": "code",
   "execution_count": null,
   "metadata": {},
   "outputs": [],
   "source": [
    "import pandas as pd\n",
    "\n",
    "df = pd.DataFrame(columns=[\"id\", \"import_path\"])\n",
    "df = df.add(\n",
    "    {\"id\": \"1\", \"import_path\": \"pyiron_nodes.atomistic.engine.lammps.InputCalcStatic\"}\n",
    ")\n",
    "# ({\"id\": \"1\", \"import_path\": \"pyiron_nodes.atomistic.engine.lammps.InputCalcStatic\"}, ignore_index=True)\n",
    "# df = df.concat({\"id\": \"2\", \"import_path\": \"pyiron_nodes.atomistic.engine.lammps.CalcMD\"}, ignore_index=True)\n",
    "df.c"
   ]
  },
  {
   "cell_type": "code",
   "execution_count": null,
   "metadata": {},
   "outputs": [],
   "source": [
    "import pandas as pd\n",
    "\n",
    "# Existing DataFrame\n",
    "df = pd.DataFrame({\"Name\": [\"Alice\", \"Bob\"], \"Age\": [25, 30]})\n",
    "\n",
    "# New row as a dictionary\n",
    "new_row = {\"Name\": \"Charlie\", \"Age\": 35}\n",
    "\n",
    "# Append the new row\n",
    "df = df.append(new_row, ignore_index=True)\n",
    "print(df)"
   ]
  },
  {
   "cell_type": "code",
   "execution_count": null,
   "metadata": {},
   "outputs": [],
   "source": []
  },
  {
   "cell_type": "code",
   "execution_count": null,
   "metadata": {},
   "outputs": [],
   "source": [
    "wf_macro = gt.get_graph_from_wf(\n",
    "    wf.lammps._wf_macro\n",
    ")  # connected var_nodes are set to None rather than to node.outputs!\n",
    "wf_macro.nodes"
   ]
  },
  {
   "cell_type": "code",
   "execution_count": null,
   "metadata": {},
   "outputs": [],
   "source": [
    "wf_macro.edges"
   ]
  },
  {
   "cell_type": "code",
   "execution_count": null,
   "metadata": {},
   "outputs": [],
   "source": [
    "wf.lammps.inputs"
   ]
  },
  {
   "cell_type": "code",
   "execution_count": null,
   "metadata": {},
   "outputs": [],
   "source": [
    "wf.lammps._wf_macro.InitLammps.inputs"
   ]
  },
  {
   "cell_type": "code",
   "execution_count": null,
   "metadata": {},
   "outputs": [],
   "source": [
    "wf = Workflow(\"Lammps\")\n",
    "wf.structure = pn.atomistic.structure.build.Bulk(\"Al\", cubic=True)\n",
    "wf.repeat = pn.atomistic.structure.transform.Repeat(\n",
    "    structure=wf.structure, repeat_scalar=3\n",
    ")\n",
    "\n",
    "wf.calculator = (\n",
    "    pn.atomistic.engine.lammps.CalcMD()\n",
    ")  # temperature=300, n_ionic_steps=10_000)\n",
    "wf.potential = pn.atomistic.engine.lammps.Potential(\n",
    "    structure=wf.structure, name=\"1995--Angelo-J-E--Ni-Al-H--LAMMPS--ipr1\"\n",
    ")\n",
    "\n",
    "wf.init_lammps = pn.atomistic.engine.lammps.InitLammps(\n",
    "    structure=wf.repeat,\n",
    "    potential=wf.potential,\n",
    "    calculator=wf.calculator,\n",
    "    working_directory=\"test2\",\n",
    ")\n",
    "\n",
    "wf.shell = pn.atomistic.engine.lammps.Shell(\n",
    "    # command=ExecutablePathResolver(module=\"lammps\", code=\"lammps\").path(),\n",
    "    working_directory=wf.init_lammps,\n",
    ")\n",
    "\n",
    "wf.ParseLogFile = pn.atomistic.engine.lammps.ParseLogFile(log_file=wf.shell.outputs.log)\n",
    "wf.ParseDumpFile = pn.atomistic.engine.lammps.ParseDumpFile(\n",
    "    dump_file=wf.shell.outputs.dump\n",
    ")\n",
    "wf.Collect = pn.atomistic.engine.lammps.Collect(\n",
    "    out_dump=wf.ParseDumpFile.outputs.dump,\n",
    "    out_log=wf.ParseLogFile.outputs.log,\n",
    "    calc_mode=\"md\",\n",
    ")\n",
    "\n",
    "wf.get_energy_pot = pn.atomistic.engine.lammps.GetEnergyPot(generic=wf.Collect)\n",
    "\n",
    "# nodes_json = get_nodes(wf)\n",
    "# for i, node in enumerate(nodes_json):\n",
    "#     print(i, ':', node['id'])\n",
    "#     print(json.dumps(node))\n",
    "\n",
    "\n",
    "out = wf.run(debug=True)\n",
    "out"
   ]
  },
  {
   "cell_type": "code",
   "execution_count": null,
   "metadata": {},
   "outputs": [],
   "source": [
    "len(gt.get_graph_from_wf(wf).edges), gt._load_graph(\n",
    "    \"test_wf.json\", workflow_dir=\"../pyiron_nodes/local_workflows\"\n",
    ").edges"
   ]
  },
  {
   "cell_type": "code",
   "execution_count": null,
   "metadata": {},
   "outputs": [],
   "source": [
    "wf.save(\"test_wf.json\", overwrite=True)"
   ]
  },
  {
   "cell_type": "code",
   "execution_count": null,
   "metadata": {},
   "outputs": [],
   "source": [
    "wf_new = Workflow.load(\"test_wf.json\")"
   ]
  },
  {
   "cell_type": "code",
   "execution_count": null,
   "metadata": {},
   "outputs": [],
   "source": [
    "wf_new.run()"
   ]
  },
  {
   "cell_type": "code",
   "execution_count": null,
   "metadata": {},
   "outputs": [],
   "source": [
    "print(gt.get_code_from_wf(wf_new))"
   ]
  },
  {
   "cell_type": "code",
   "execution_count": null,
   "metadata": {},
   "outputs": [],
   "source": [
    "xx"
   ]
  },
  {
   "cell_type": "code",
   "execution_count": null,
   "metadata": {},
   "outputs": [],
   "source": [
    "nodes = gt.get_nodes_from_wf(\n",
    "    wf,\n",
    "    keys_to_keep=[\n",
    "        \"data/label\",\n",
    "        \"data/import_path\",\n",
    "        \"data/target_values\",\n",
    "        \"data/target_labels\",\n",
    "    ],\n",
    ")\n",
    "len(nodes)"
   ]
  },
  {
   "cell_type": "code",
   "execution_count": null,
   "metadata": {},
   "outputs": [],
   "source": [
    "wf.structure.inputs"
   ]
  },
  {
   "cell_type": "code",
   "execution_count": null,
   "metadata": {},
   "outputs": [],
   "source": [
    "wf.structure.n_out_labels"
   ]
  },
  {
   "cell_type": "code",
   "execution_count": null,
   "metadata": {},
   "outputs": [],
   "source": [
    "wf_graph = gt.get_graph_from_wf(wf)"
   ]
  },
  {
   "cell_type": "code",
   "execution_count": null,
   "metadata": {},
   "outputs": [],
   "source": [
    "len(wf_graph.edges)"
   ]
  },
  {
   "cell_type": "code",
   "execution_count": null,
   "metadata": {},
   "outputs": [],
   "source": [
    "print(gt.get_code_from_graph(wf_graph))"
   ]
  },
  {
   "cell_type": "code",
   "execution_count": null,
   "metadata": {},
   "outputs": [],
   "source": [
    "gt._save_graph(\n",
    "    wf_graph, \"test.py\", workflow_dir=\"../pyiron_nodes/local_workflows\", overwrite=True\n",
    ")"
   ]
  },
  {
   "cell_type": "code",
   "execution_count": null,
   "metadata": {},
   "outputs": [],
   "source": [
    "graph_loaded = gt._load_graph(\n",
    "    \"test_wf.json\", workflow_dir=\"../pyiron_nodes/local_workflows\"\n",
    ")\n",
    "print(gt.get_wf_from_graph(graph_loaded))"
   ]
  },
  {
   "cell_type": "code",
   "execution_count": null,
   "metadata": {},
   "outputs": [],
   "source": [
    "len(graph_loaded.edges)"
   ]
  },
  {
   "cell_type": "code",
   "execution_count": null,
   "metadata": {},
   "outputs": [],
   "source": [
    "gt.get_wf_from_graph(graph_loaded)"
   ]
  },
  {
   "cell_type": "code",
   "execution_count": null,
   "metadata": {},
   "outputs": [],
   "source": [
    "print(gt.get_code_from_graph(wf_graph))"
   ]
  },
  {
   "cell_type": "code",
   "execution_count": null,
   "metadata": {},
   "outputs": [],
   "source": [
    "from pyiron_workflow import Workflow\n",
    "import pyiron_nodes\n",
    "\n",
    "wf = Workflow(\"Lammps\")\n",
    "\n",
    "wf.calculator = pyiron_nodes.atomistic.engine.lammps.CalcMD()\n",
    "wf.structure = pyiron_nodes.atomistic.structure.build.Bulk(name=\"Al\", cubic=True)\n",
    "wf.repeat = pyiron_nodes.atomistic.structure.transform.Repeat(\n",
    "    structure=wf.structure.outputs.structure, repeat_scalar=3\n",
    ")\n",
    "wf.potential = pyiron_nodes.atomistic.engine.lammps.Potential(\n",
    "    structure=wf.structure.outputs.structure,\n",
    "    name=\"1995--Angelo-J-E--Ni-Al-H--LAMMPS--ipr1\",\n",
    ")\n",
    "wf.init_lammps = pyiron_nodes.atomistic.engine.lammps.InitLammps(\n",
    "    structure=wf.repeat.outputs.structure,\n",
    "    potential=wf.potential.outputs.pot,\n",
    "    calculator=wf.calculator.outputs.calculator,\n",
    "    working_directory=\"test2\",\n",
    ")\n",
    "wf.shell = pyiron_nodes.atomistic.engine.lammps.Shell(\n",
    "    working_directory=wf.init_lammps.outputs.path\n",
    ")\n",
    "wf.ParseLogFile = pyiron_nodes.atomistic.engine.lammps.ParseLogFile(\n",
    "    log_file=wf.shell.outputs.log\n",
    ")\n",
    "wf.ParseDumpFile = pyiron_nodes.atomistic.engine.lammps.ParseDumpFile(\n",
    "    dump_file=wf.shell.outputs.dump\n",
    ")\n",
    "wf.Collect = pyiron_nodes.atomistic.engine.lammps.Collect(\n",
    "    out_dump=wf.ParseDumpFile.outputs.dump,\n",
    "    out_log=wf.ParseLogFile.outputs.log,\n",
    "    calc_mode=\"md\",\n",
    ")\n",
    "wf.get_energy_pot = pyiron_nodes.atomistic.engine.lammps.GetEnergyPot(\n",
    "    generic=wf.Collect.outputs.generic\n",
    ")\n",
    "\n",
    "wf.run()"
   ]
  },
  {
   "cell_type": "code",
   "execution_count": null,
   "metadata": {},
   "outputs": [],
   "source": [
    "wf_graph.edges"
   ]
  },
  {
   "cell_type": "code",
   "execution_count": null,
   "metadata": {},
   "outputs": [],
   "source": [
    "wf_new = gt.get_wf_from_graph(wf_graph)\n",
    "wf_new.repeat.pull()"
   ]
  },
  {
   "cell_type": "code",
   "execution_count": null,
   "metadata": {},
   "outputs": [],
   "source": [
    "print(gt.get_code_from_wf(wf_new))"
   ]
  },
  {
   "cell_type": "code",
   "execution_count": null,
   "metadata": {},
   "outputs": [],
   "source": [
    "from pyiron_workflow import Workflow\n",
    "import pyiron_nodes\n",
    "\n",
    "wf = Workflow(\"Lammps\")\n",
    "\n",
    "wf.calculator = pyiron_nodes.atomistic.engine.lammps.CalcMD()\n",
    "wf.structure = pyiron_nodes.atomistic.structure.build.Bulk(name=\"Al\", cubic=\"True\")\n",
    "wf.repeat = pyiron_nodes.atomistic.structure.transform.Repeat(\n",
    "    structure=wf.structure.outputs.structure, repeat_scalar=3\n",
    ")\n",
    "wf.potential = pyiron_nodes.atomistic.engine.lammps.Potential(\n",
    "    structure=wf.structure.outputs.structure,\n",
    "    name=\"1995--Angelo-J-E--Ni-Al-H--LAMMPS--ipr1\",\n",
    ")\n",
    "wf.init_lammps = pyiron_nodes.atomistic.engine.lammps.InitLammps(\n",
    "    structure=wf.repeat.outputs.structure,\n",
    "    potential=wf.potential.outputs.pot,\n",
    "    calculator=wf.calculator.outputs.calculator,\n",
    "    working_directory=\"test2\",\n",
    ")\n",
    "wf.shell = pyiron_nodes.atomistic.engine.lammps.Shell(\n",
    "    working_directory=wf.init_lammps.outputs.path\n",
    ")\n",
    "wf.ParseLogFile = pyiron_nodes.atomistic.engine.lammps.ParseLogFile(\n",
    "    log_file=wf.shell.outputs.log\n",
    ")\n",
    "wf.ParseDumpFile = pyiron_nodes.atomistic.engine.lammps.ParseDumpFile(\n",
    "    dump_file=wf.shell.outputs.dump\n",
    ")\n",
    "wf.Collect = pyiron_nodes.atomistic.engine.lammps.Collect(\n",
    "    out_dump=wf.ParseDumpFile.outputs.dump,\n",
    "    out_log=wf.ParseLogFile.outputs.log,\n",
    "    calc_mode=\"md\",\n",
    ")\n",
    "wf.get_energy_pot = pyiron_nodes.atomistic.engine.lammps.GetEnergyPot(\n",
    "    generic=wf.Collect.outputs.generic\n",
    ")\n",
    "\n",
    "wf.run()"
   ]
  },
  {
   "cell_type": "code",
   "execution_count": null,
   "metadata": {},
   "outputs": [],
   "source": [
    "xx"
   ]
  },
  {
   "cell_type": "code",
   "execution_count": null,
   "metadata": {},
   "outputs": [],
   "source": [
    "from typing import List, Tuple\n",
    "\n",
    "\n",
    "def graph_edges_to_wf_edges(graph_edges: List[Tuple[str, str]]):\n",
    "    wf_edges = []\n",
    "    for edge in graph_edges:\n",
    "        edge_source, edge_target = edge\n",
    "        target, target_handle = edge_target.split(\"/\")\n",
    "        source, source_handle = edge_source.split(\"/\")\n",
    "        if not source.startswith(\"var_\"):\n",
    "            edge_dict = dict(\n",
    "                source=source,\n",
    "                sourceHandle=source_handle,\n",
    "                target=target,\n",
    "                targetHandle=target_handle,\n",
    "            )\n",
    "        wf_edges.append(edge_dict)\n",
    "    return wf_edges"
   ]
  },
  {
   "cell_type": "code",
   "execution_count": null,
   "metadata": {},
   "outputs": [],
   "source": [
    "from pyironflow.wf_extensions import get_node_from_path\n",
    "\n",
    "wf = Workflow(wf_graph.label)\n",
    "# Add nodes to Workflow\n",
    "for node in wf_graph.nodes:\n",
    "    id, import_path = node\n",
    "\n",
    "    if not id.startswith(\"var_\"):\n",
    "        kwargs = dict()\n",
    "\n",
    "        # Add non-default arguments to node\n",
    "        first_edge = True\n",
    "        for edge in wf_graph.edges:\n",
    "            edge_source, edge_target = edge\n",
    "            target, target_handle = edge_target.split(\"/\")\n",
    "            source, source_handle = edge_source.split(\"/\")\n",
    "            if target == id:\n",
    "                if source.startswith(\"var_\"):\n",
    "                    if source_handle.startswith(\"__str_\"):\n",
    "                        kwargs[target_handle] = source_handle[6:]\n",
    "                    else:\n",
    "                        kwargs[target_handle] = source_handle\n",
    "\n",
    "        new_node = get_node_from_path(import_path)(**kwargs)\n",
    "        wf.add_node(id, new_node)\n",
    "wf._set_edges(graph_edges_to_wf_edges(wf_graph.edges))"
   ]
  },
  {
   "cell_type": "code",
   "execution_count": null,
   "metadata": {},
   "outputs": [],
   "source": [
    "print(gt.get_code_from_wf(wf))"
   ]
  },
  {
   "cell_type": "code",
   "execution_count": null,
   "metadata": {},
   "outputs": [],
   "source": [
    "wf_graph.edges"
   ]
  },
  {
   "cell_type": "markdown",
   "metadata": {},
   "source": []
  },
  {
   "cell_type": "code",
   "execution_count": null,
   "metadata": {},
   "outputs": [],
   "source": [
    "gt._find_input_nodes(wf_graph, 9)"
   ]
  },
  {
   "cell_type": "code",
   "execution_count": null,
   "metadata": {},
   "outputs": [],
   "source": [
    "gt.get_graph_from_wf(wf).edges"
   ]
  },
  {
   "cell_type": "code",
   "execution_count": null,
   "metadata": {},
   "outputs": [],
   "source": [
    "wf.repeat.pull()"
   ]
  },
  {
   "cell_type": "code",
   "execution_count": null,
   "metadata": {},
   "outputs": [],
   "source": [
    "wf.remove_node(\"repeat\")"
   ]
  },
  {
   "cell_type": "code",
   "execution_count": null,
   "metadata": {},
   "outputs": [],
   "source": [
    "wf._nodes"
   ]
  },
  {
   "cell_type": "code",
   "execution_count": null,
   "metadata": {},
   "outputs": [],
   "source": [
    "wf._edges"
   ]
  },
  {
   "cell_type": "code",
   "execution_count": null,
   "metadata": {},
   "outputs": [],
   "source": [
    "xx"
   ]
  },
  {
   "cell_type": "code",
   "execution_count": null,
   "metadata": {},
   "outputs": [],
   "source": [
    "from dataclasses import dataclass, field, is_dataclass\n",
    "\n",
    "node = pn.atomistic.calculator.data.OutputCalcMD()\n",
    "print(\n",
    "    is_dataclass(node.dataclass())\n",
    ")  # is already decorated with as_out_dataclass_node -> why? should return only the dataclass\n",
    "\n",
    "dc = node.dataclass(energies_pot=np.ones(10), energies_kin=2 * np.ones(10))\n",
    "print(dc)\n",
    "dc.temperatures = 3 * np.ones(10)\n",
    "print(\"dc: \", dc)\n",
    "\n",
    "\n",
    "node.run()"
   ]
  },
  {
   "cell_type": "code",
   "execution_count": null,
   "metadata": {},
   "outputs": [],
   "source": [
    "out_node = pn.atomistic.calculator.data.OutputCalcMD(dataclass=dc)\n",
    "out_node.run()\n",
    "out_node.inputs.data[\"value\"][0]"
   ]
  },
  {
   "cell_type": "code",
   "execution_count": null,
   "metadata": {},
   "outputs": [],
   "source": [
    "wf_out = Workflow(\"test\")\n",
    "wf_out.add_node(\"md_output\", out_node)\n",
    "wf_out.run()"
   ]
  },
  {
   "cell_type": "code",
   "execution_count": null,
   "metadata": {},
   "outputs": [],
   "source": [
    "import json\n",
    "\n",
    "json.dumps(get_nodes(wf_out))"
   ]
  },
  {
   "cell_type": "code",
   "execution_count": null,
   "metadata": {},
   "outputs": [],
   "source": [
    "import json\n",
    "\n",
    "\n",
    "def remove_non_primitive_values(outputs):\n",
    "    types = outputs.data[\"type\"]\n",
    "    values = [\n",
    "        v if t != \"NonPrimitive\" else \"NotData\"\n",
    "        for v, t in zip(outputs.data[\"value\"], types)\n",
    "    ]\n",
    "    return values\n",
    "\n",
    "\n",
    "remove_non_primitive_values(out_node.outputs)"
   ]
  },
  {
   "cell_type": "code",
   "execution_count": null,
   "metadata": {},
   "outputs": [],
   "source": [
    "node.outputs"
   ]
  },
  {
   "cell_type": "code",
   "execution_count": null,
   "metadata": {},
   "outputs": [],
   "source": [
    "pn.atomistic.calculator.data.OutputCalcMD().dataclass(\n",
    "    energies_pot=np.ones(10), energies_kin=2 * np.ones(10)\n",
    ")  # it would be nice to get the dataclass without ceating first an instance of the node"
   ]
  },
  {
   "cell_type": "code",
   "execution_count": null,
   "metadata": {},
   "outputs": [],
   "source": [
    "# wishlist:\n",
    "# - get the dataclass without creating an instance of the node, e.g.\n",
    "# - get the dataclass rather than a node when providing as input keys of the dataclass,\n",
    "#    e.g. pn.atomistic.calculator.data.OutputCalcMD(energies_pot=np.ones(10), energies_kin=2*np.ones(10)) -> dataclass"
   ]
  },
  {
   "cell_type": "code",
   "execution_count": null,
   "metadata": {},
   "outputs": [],
   "source": [
    "out_node.inputs"
   ]
  },
  {
   "cell_type": "code",
   "execution_count": null,
   "metadata": {},
   "outputs": [],
   "source": [
    "node = pn.atomistic.calculator.data.OutputCalcMD()\n",
    "node._func, node._run, node.kwargs"
   ]
  },
  {
   "cell_type": "code",
   "execution_count": null,
   "metadata": {},
   "outputs": [],
   "source": [
    "xx"
   ]
  },
  {
   "cell_type": "code",
   "execution_count": null,
   "metadata": {},
   "outputs": [],
   "source": []
  },
  {
   "cell_type": "code",
   "execution_count": null,
   "metadata": {},
   "outputs": [],
   "source": [
    "wf = Workflow(\"Lammps\")\n",
    "wf.structure = pn.atomistic.structure.build.Bulk(\"Al\", cubic=True)\n",
    "wf.repeat = pn.atomistic.structure.transform.Repeat(\n",
    "    structure=wf.structure, repeat_scalar=3\n",
    ")\n",
    "\n",
    "wf.calculator = (\n",
    "    pn.atomistic.engine.lammps.CalcMD()\n",
    ")  # temperature=300, n_ionic_steps=10_000)\n",
    "wf.potential = pn.atomistic.engine.lammps.Potential(\n",
    "    structure=wf.structure, name=\"1995--Angelo-J-E--Ni-Al-H--LAMMPS--ipr1\"\n",
    ")\n",
    "\n",
    "wf.init_lammps = pn.atomistic.engine.lammps.InitLammps(\n",
    "    structure=wf.repeat,\n",
    "    potential=wf.potential,\n",
    "    calculator=wf.calculator,\n",
    "    working_directory=\"test2\",\n",
    ")\n",
    "\n",
    "wf.shell = pn.atomistic.engine.lammps.Shell(\n",
    "    # command=ExecutablePathResolver(module=\"lammps\", code=\"lammps\").path(),\n",
    "    working_directory=wf.init_lammps,\n",
    ")\n",
    "\n",
    "wf.ParseLogFile = pn.atomistic.engine.lammps.ParseLogFile(log_file=wf.shell.outputs.log)\n",
    "wf.ParseDumpFile = pn.atomistic.engine.lammps.ParseDumpFile(\n",
    "    dump_file=wf.shell.outputs.dump\n",
    ")\n",
    "wf.Collect = pn.atomistic.engine.lammps.Collect(\n",
    "    out_dump=wf.ParseDumpFile.outputs.dump,\n",
    "    out_log=wf.ParseLogFile.outputs.log,\n",
    "    calc_mode=\"md\",\n",
    ")\n",
    "\n",
    "wf.get_energy_pot = pn.atomistic.engine.lammps.GetEnergyPot(generic=wf.Collect)\n",
    "\n",
    "# nodes_json = get_nodes(wf)\n",
    "# for i, node in enumerate(nodes_json):\n",
    "#     print(i, ':', node['id'])\n",
    "#     print(json.dumps(node))\n",
    "\n",
    "\n",
    "out = wf.run()\n",
    "out"
   ]
  },
  {
   "cell_type": "code",
   "execution_count": null,
   "metadata": {},
   "outputs": [],
   "source": [
    "nodes_json = get_nodes(wf)\n",
    "for k, v in wf._nodes.items():\n",
    "    # print(k, [type(vv) for vv in v.inputs])#\n",
    "    print(k, [type(vv) for vv in v.inputs.data[\"value\"]])"
   ]
  },
  {
   "cell_type": "code",
   "execution_count": null,
   "metadata": {},
   "outputs": [],
   "source": [
    "for i in range(0, len(nodes_json)):\n",
    "    print(i, nodes_json[i][\"data\"][\"target_values\"])\n",
    "    print(i, nodes_json[i][\"data\"][\"target_types\"])"
   ]
  },
  {
   "cell_type": "code",
   "execution_count": null,
   "metadata": {},
   "outputs": [],
   "source": [
    "nodes_json[4][\"data\"]"
   ]
  },
  {
   "cell_type": "code",
   "execution_count": null,
   "metadata": {},
   "outputs": [],
   "source": [
    "wf._nodes[\"shell\"].outputs.__getattr__(\"log\")"
   ]
  },
  {
   "cell_type": "code",
   "execution_count": null,
   "metadata": {},
   "outputs": [],
   "source": [
    "pn.atomistic.calculator.data.InputCalcMD()"
   ]
  },
  {
   "cell_type": "code",
   "execution_count": null,
   "metadata": {},
   "outputs": [],
   "source": [
    "pn.atomistic.calculator.data.InputCalcMD??"
   ]
  },
  {
   "cell_type": "code",
   "execution_count": null,
   "metadata": {},
   "outputs": [],
   "source": [
    "pn.atomistic.calculator.data.OutputCalcMD().run()"
   ]
  },
  {
   "cell_type": "code",
   "execution_count": null,
   "metadata": {},
   "outputs": [],
   "source": [
    "kwargs = pn.atomistic.calculator.data.OutputCalcMD().kwargs\n",
    "kwargs\n",
    "pn.atomistic.calculator.data.OutputCalcMD()._func(kwargs)"
   ]
  },
  {
   "cell_type": "code",
   "execution_count": null,
   "metadata": {},
   "outputs": [],
   "source": [
    "len(pn.atomistic.calculator.data.OutputCalcMD().kwargs.keys())"
   ]
  },
  {
   "cell_type": "code",
   "execution_count": null,
   "metadata": {},
   "outputs": [],
   "source": [
    "pn.atomistic.calculator.data.OutputCalcMD.__annotations__"
   ]
  },
  {
   "cell_type": "code",
   "execution_count": null,
   "metadata": {},
   "outputs": [],
   "source": [
    "pn.atomistic.calculator.data.OutputCalcMD()"
   ]
  },
  {
   "cell_type": "code",
   "execution_count": null,
   "metadata": {},
   "outputs": [],
   "source": [
    "pn.atomistic.calculator.data.OutputCalcMD.__annotations__"
   ]
  },
  {
   "cell_type": "code",
   "execution_count": null,
   "metadata": {},
   "outputs": [],
   "source": [
    "pn.atomistic.calculator.data.OutputCalcMD??"
   ]
  },
  {
   "cell_type": "markdown",
   "metadata": {},
   "source": [
    "Calling the same node a second time changes func_dataclass: becomes a dataclass! Make sure that the decorators act as pure functions!!! Change the instance but not the class!"
   ]
  },
  {
   "cell_type": "code",
   "execution_count": null,
   "metadata": {},
   "outputs": [],
   "source": [
    "pn.atomistic.calculator.data.OutputCalcMD"
   ]
  },
  {
   "cell_type": "code",
   "execution_count": null,
   "metadata": {},
   "outputs": [],
   "source": [
    "pn.atomistic.calculator.data.OutputCalcMD()  # .dataclass()"
   ]
  },
  {
   "cell_type": "code",
   "execution_count": null,
   "metadata": {},
   "outputs": [],
   "source": [
    "wf.calculator.run()"
   ]
  },
  {
   "cell_type": "code",
   "execution_count": null,
   "metadata": {},
   "outputs": [],
   "source": [
    "wf.collect.outputs"
   ]
  },
  {
   "cell_type": "code",
   "execution_count": null,
   "metadata": {},
   "outputs": [],
   "source": [
    "from pyiron_workflow import Workflow, as_function_node, as_macro_node, Node\n",
    "import pyiron_nodes as pn\n",
    "\n",
    "wf = Workflow(\"test\")\n",
    "wf.add_node(\"out\", pn.atomistic.calculator.data.OutputCalcMD())\n",
    "wf.add_node(\"out\", pn.atomistic.calculator.data.OutputCalcMD())\n",
    "wf.add_node(\"out\", pn.atomistic.calculator.data.OutputCalcMD())\n",
    "\n",
    "wf.child_labels"
   ]
  },
  {
   "cell_type": "code",
   "execution_count": null,
   "metadata": {},
   "outputs": [],
   "source": [
    "wf.out.function"
   ]
  },
  {
   "cell_type": "code",
   "execution_count": null,
   "metadata": {},
   "outputs": [],
   "source": [
    "wf.out.to_dict()"
   ]
  },
  {
   "cell_type": "code",
   "execution_count": null,
   "metadata": {},
   "outputs": [],
   "source": [
    "from pyiron_workflow import Workflow, as_function_node, as_macro_node, Node\n",
    "import pyiron_nodes as pn\n",
    "\n",
    "wf = Workflow(\"test\")\n",
    "wf.add_node(\"inp\", pn.atomistic.calculator.data.InputCalcMD())\n",
    "wf.add_node(\"inp\", pn.atomistic.calculator.data.InputCalcMD())\n",
    "wf.add_node(\"inp\", pn.atomistic.calculator.data.InputCalcMD())\n",
    "\n",
    "wf.child_labels"
   ]
  },
  {
   "cell_type": "code",
   "execution_count": null,
   "metadata": {},
   "outputs": [],
   "source": [
    "wf = Workflow(\"test\")\n",
    "wf.inp = pn.atomistic.calculator.data.InputCalcMD()\n",
    "wf.out = pn.atomistic.calculator.data.OutputCalcMD(dataclass=wf.inp)\n",
    "wf.run()"
   ]
  },
  {
   "cell_type": "code",
   "execution_count": null,
   "metadata": {},
   "outputs": [],
   "source": [
    "wf.out.to_dict()"
   ]
  },
  {
   "cell_type": "code",
   "execution_count": null,
   "metadata": {},
   "outputs": [],
   "source": [
    "wf.inp.to_dict()"
   ]
  },
  {
   "cell_type": "code",
   "execution_count": null,
   "metadata": {},
   "outputs": [],
   "source": [
    "pn.atomistic.calculator.data.OutputCalcMD().kwargs"
   ]
  },
  {
   "cell_type": "code",
   "execution_count": null,
   "metadata": {},
   "outputs": [],
   "source": [
    "from pyiron_workflow import Workflow, as_function_node, as_macro_node, Node\n",
    "import pyiron_nodes as pn\n",
    "\n",
    "wf = Workflow(\"test\")\n",
    "wf.add_node(\"bulk\", pn.atomistic.structure.build.Bulk())\n",
    "wf.add_node(\"bulk\", pn.atomistic.structure.build.Bulk())\n",
    "wf.add_node(\"bulk\", pn.atomistic.structure.build.Bulk())\n",
    "\n",
    "wf.child_labels"
   ]
  },
  {
   "cell_type": "code",
   "execution_count": null,
   "metadata": {},
   "outputs": [],
   "source": [
    "wf.bulk_1.to_dict()"
   ]
  },
  {
   "cell_type": "code",
   "execution_count": null,
   "metadata": {},
   "outputs": [],
   "source": [
    "from pyiron_workflow import Workflow, as_function_node, as_macro_node, Node\n",
    "import pyiron_nodes as pn\n",
    "from pyironflow.wf_extensions import get_nodes\n",
    "import json\n",
    "\n",
    "wf = Workflow(\"test\")\n",
    "wf.inp_calc = pn.atomistic.calculator.data.InputCalcMD()\n",
    "json.dumps(get_nodes(wf))"
   ]
  },
  {
   "cell_type": "code",
   "execution_count": null,
   "metadata": {},
   "outputs": [],
   "source": [
    "pn.atomistic.structure.build.Bulk().inputs"
   ]
  },
  {
   "cell_type": "code",
   "execution_count": null,
   "metadata": {},
   "outputs": [],
   "source": [
    "xx"
   ]
  },
  {
   "cell_type": "code",
   "execution_count": null,
   "metadata": {},
   "outputs": [],
   "source": [
    "wf = Workflow(\"Lammps\")\n",
    "wf.structure = pn.atomistic.structure.build.Bulk(\"Al\", cubic=True)\n",
    "wf.repeat = pn.atomistic.structure.transform.Repeat(\n",
    "    structure=wf.structure, repeat_scalar=3\n",
    ")\n",
    "\n",
    "wf.calculator = (\n",
    "    pn.atomistic.engine.lammps.CalcMD()\n",
    ")  # temperature=300, n_ionic_steps=10_000)\n",
    "wf.potential = pn.atomistic.engine.lammps.Potential(\n",
    "    structure=wf.structure, name=\"1995--Angelo-J-E--Ni-Al-H--LAMMPS--ipr1\"\n",
    ")\n",
    "\n",
    "wf.init_lammps = pn.atomistic.engine.lammps.InitLammps(\n",
    "    structure=wf.repeat,\n",
    "    potential=wf.potential,\n",
    "    calculator=wf.calculator,\n",
    "    working_directory=\"test2\",\n",
    ")\n",
    "\n",
    "wf.shell = pn.atomistic.engine.lammps.Shell(\n",
    "    # command=ExecutablePathResolver(module=\"lammps\", code=\"lammps\").path(),\n",
    "    working_directory=wf.init_lammps,\n",
    ")\n",
    "\n",
    "wf.ParseLogFile = pn.atomistic.engine.lammps.ParseLogFile(log_file=wf.shell.outputs.log)\n",
    "wf.ParseDumpFile = pn.atomistic.engine.lammps.ParseDumpFile(\n",
    "    dump_file=wf.shell.outputs.dump\n",
    ")\n",
    "wf.Collect = pn.atomistic.engine.lammps.Collect(\n",
    "    out_dump=wf.ParseDumpFile.outputs.dump,\n",
    "    out_log=wf.ParseLogFile.outputs.log,\n",
    "    calc_mode=\"md\",\n",
    ")\n",
    "\n",
    "wf.get_energy_pot = pn.atomistic.engine.lammps.GetEnergyPot(generic=wf.Collect)\n",
    "\n",
    "out = wf.run()"
   ]
  },
  {
   "cell_type": "code",
   "execution_count": null,
   "metadata": {},
   "outputs": [],
   "source": [
    "import pyiron_nodes\n",
    "import pyiron_nodes.atomistic\n",
    "\n",
    "pyiron_nodes.atomistic.structure.build.CubicBulkCell(\"Al\")"
   ]
  },
  {
   "cell_type": "code",
   "execution_count": null,
   "metadata": {},
   "outputs": [],
   "source": [
    "from ase import Atoms as _Atoms\n",
    "import numpy as _np\n",
    "from typing import Optional\n",
    "\n",
    "\n",
    "@as_function_node(\"plot\")\n",
    "def Plot3d(\n",
    "    structure: _Atoms,\n",
    "    camera: str = \"orthographic\",\n",
    "    particle_size: Optional[int | float] = 1.0,\n",
    "    select_atoms: Optional[_np.ndarray] = None,\n",
    "    view_plane: _np.ndarray = _np.array([0, 0, 1]),\n",
    "    distance_from_camera: Optional[int | float] = 1.0,\n",
    "):\n",
    "    \"\"\"Display atomistic structure (ase.Atoms) using nglview\"\"\"\n",
    "    from structuretoolkit import plot3d\n",
    "\n",
    "    return structure.plot3d(\n",
    "        # structure=structure,\n",
    "        camera=camera,\n",
    "        particle_size=particle_size,\n",
    "        select_atoms=select_atoms,\n",
    "        view_plane=view_plane,\n",
    "        distance_from_camera=distance_from_camera,\n",
    "    )"
   ]
  },
  {
   "cell_type": "code",
   "execution_count": null,
   "metadata": {},
   "outputs": [],
   "source": [
    "Plot3d().inputs"
   ]
  },
  {
   "cell_type": "code",
   "execution_count": null,
   "metadata": {},
   "outputs": [],
   "source": [
    "import numpy as np\n",
    "from pyiron_workflow import Workflow, as_function_node, as_macro_node\n",
    "\n",
    "\n",
    "@as_function_node\n",
    "def linspace(x_min: int = 0, x_max: float = 2 * np.pi, n: int = 50):\n",
    "\n",
    "    vec = np.linspace(x_min, x_max, n)\n",
    "    return vec\n",
    "\n",
    "\n",
    "@as_function_node(labels=[\"vec\"])\n",
    "def sin(x):\n",
    "    import numpy as np\n",
    "\n",
    "    vec = np.sin(x)\n",
    "    return vec\n",
    "\n",
    "\n",
    "@as_function_node(\"plot\")\n",
    "def plot(x, y):\n",
    "    import matplotlib.pylab as plt\n",
    "\n",
    "    plt.plot(x, y)\n",
    "    return plt.show()\n",
    "\n",
    "\n",
    "@as_macro_node(labels=\"structure\")\n",
    "def bulk_macro(element: str, cell_size: int = 1, vacancy_index: int = 0):\n",
    "    from pyiron_nodes.atomistic.structure.transform import (\n",
    "        CreateVacancy,\n",
    "        Repeat,\n",
    "    )\n",
    "    from pyiron_nodes.atomistic.structure.build import Bulk\n",
    "\n",
    "    wf = Workflow(\"bulk_macro\")\n",
    "    wf.bulk = Bulk(name=element, cubic=True)\n",
    "    wf.cell = Repeat(structure=wf.bulk, repeat_scalar=cell_size)\n",
    "\n",
    "    wf.structure = CreateVacancy(structure=wf.cell, index=vacancy_index)\n",
    "    return wf.structure"
   ]
  },
  {
   "cell_type": "code",
   "execution_count": null,
   "metadata": {},
   "outputs": [],
   "source": [
    "from pyiron_nodes.atomistic.structure.view import Plot3d\n",
    "\n",
    "wf = Workflow(\"simple_workflow\")\n",
    "wf.linspace = linspace(n=100)\n",
    "wf.sin = sin(x=wf.linspace)\n",
    "wf.plot = plot(x=wf.linspace, y=wf.sin)\n",
    "\n",
    "wf.bulk_macro = bulk_macro(element=\"Al\", cell_size=1, vacancy_index=0)\n",
    "\n",
    "wf.run()"
   ]
  },
  {
   "cell_type": "code",
   "execution_count": null,
   "metadata": {},
   "outputs": [],
   "source": [
    "wf.bulk_macro._wf_macro._edges"
   ]
  },
  {
   "cell_type": "code",
   "execution_count": null,
   "metadata": {},
   "outputs": [],
   "source": [
    "dir(wf.bulk_macro)"
   ]
  },
  {
   "cell_type": "code",
   "execution_count": null,
   "metadata": {},
   "outputs": [],
   "source": [
    "wf.bulk_macro.inputs.cell_size = 3\n",
    "wf.bulk_macro.pull()  # does not work"
   ]
  },
  {
   "cell_type": "code",
   "execution_count": null,
   "metadata": {},
   "outputs": [],
   "source": [
    "wf.sin(x=[2, 3])"
   ]
  },
  {
   "cell_type": "code",
   "execution_count": null,
   "metadata": {},
   "outputs": [],
   "source": [
    "wf.sin.inputs.x = [2, 3, 4]\n",
    "wf.sin.run()"
   ]
  },
  {
   "cell_type": "code",
   "execution_count": null,
   "metadata": {},
   "outputs": [],
   "source": [
    "wf.bulk_macro.run()\n",
    "wf.bulk_macro.outputs"
   ]
  },
  {
   "cell_type": "code",
   "execution_count": null,
   "metadata": {},
   "outputs": [],
   "source": [
    "from pyiron_nodes.atomistic.structure.view import Plot3d\n",
    "\n",
    "wf = Workflow(\"simple_workflow\")\n",
    "# wf.linspace = linspace(n=100)\n",
    "# wf.sin = sin(x=wf.linspace)\n",
    "# wf.plot = plot(x=wf.linspace, y=wf.sin)\n",
    "\n",
    "wf.bulk_macro = bulk_macro(element=\"Al\", cell_size=1, vacancy_index=0)\n",
    "wf.plot3d = Plot3d(structure=wf.bulk_macro)\n",
    "\n",
    "wf.run()"
   ]
  },
  {
   "cell_type": "code",
   "execution_count": null,
   "metadata": {},
   "outputs": [],
   "source": [
    "out = wf._nodes[\"bulk_macro\"].run()\n",
    "out"
   ]
  },
  {
   "cell_type": "code",
   "execution_count": null,
   "metadata": {},
   "outputs": [],
   "source": [
    "wf.bulk_macro.run().plot3d()"
   ]
  },
  {
   "cell_type": "code",
   "execution_count": null,
   "metadata": {},
   "outputs": [],
   "source": [
    "wf.plot3d.inputs"
   ]
  },
  {
   "cell_type": "code",
   "execution_count": null,
   "metadata": {},
   "outputs": [],
   "source": [
    "Plot3d(out).run()"
   ]
  },
  {
   "cell_type": "code",
   "execution_count": null,
   "metadata": {},
   "outputs": [],
   "source": []
  }
 ],
 "metadata": {
  "kernelspec": {
   "display_name": "Python 3 (ipykernel)",
   "language": "python",
   "name": "python3"
  },
  "language_info": {
   "codemirror_mode": {
    "name": "ipython",
    "version": 3
   },
   "file_extension": ".py",
   "mimetype": "text/x-python",
   "name": "python",
   "nbconvert_exporter": "python",
   "pygments_lexer": "ipython3",
   "version": "3.12.4"
  }
 },
 "nbformat": 4,
 "nbformat_minor": 4
}
