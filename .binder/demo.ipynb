{
 "cells": [
  {
   "cell_type": "code",
   "execution_count": null,
   "id": "initial_id",
   "metadata": {
    "collapsed": true
   },
   "outputs": [],
   "source": [
    "import pyiron_core as pc\n",
    "\n",
    "pf = pc.PyironFlow(\n",
    "    [\n",
    "        \"calphy\",\n",
    "        # \"elastic\",  # Requires coercion: first run the Grace node\n",
    "        # \"elastic_subgraph\",  # Extremely memory-intensive\n",
    "        \"energy\",\n",
    "        \"grace_minimize\",\n",
    "        \"landau\",\n",
    "        \"linearfit\",\n",
    "        \"phonons\",\n",
    "        \"water\",\n",
    "    ],\n",
    "    workflow_path=\".\",\n",
    ")\n",
    "pf.gui"
   ]
  }
 ],
 "metadata": {
  "kernelspec": {
   "display_name": "Python 3",
   "language": "python",
   "name": "python3"
  },
  "language_info": {
   "codemirror_mode": {
    "name": "ipython",
    "version": 2
   },
   "file_extension": ".py",
   "mimetype": "text/x-python",
   "name": "python",
   "nbconvert_exporter": "python",
   "pygments_lexer": "ipython2",
   "version": "2.7.6"
  }
 },
 "nbformat": 4,
 "nbformat_minor": 5
}
